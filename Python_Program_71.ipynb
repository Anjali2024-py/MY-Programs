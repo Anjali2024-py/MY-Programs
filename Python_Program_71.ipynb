{
 "cells": [
  {
   "cell_type": "code",
   "execution_count": 3,
   "id": "bb7e4a09-2883-42e0-8ce3-3313b2355118",
   "metadata": {},
   "outputs": [
    {
     "name": "stdout",
     "output_type": "stream",
     "text": [
      "True\n"
     ]
    }
   ],
   "source": [
    "#Validate ZIp code:\n",
    "#problem: check if a zip code is valid (5 digit)\n",
    "import re\n",
    "def is_valid_digit(zip_code):\n",
    "    return bool(re.match(r'^\\d{5}$',zip_code))\n",
    "\n",
    "print(is_valid_digit('12345'))"
   ]
  },
  {
   "cell_type": "code",
   "execution_count": 5,
   "id": "d53e92f6-12d5-49c7-aab0-1a070900e8fb",
   "metadata": {},
   "outputs": [
    {
     "name": "stdout",
     "output_type": "stream",
     "text": [
      " hello  world  \n"
     ]
    }
   ],
   "source": [
    "#Remove punctuations\n",
    "#Remove punctuations from a string\n",
    "def remove_punctuation(text):\n",
    "    return re.sub(r'[^\\w\\s]',' ',text)\n",
    "\n",
    "print(remove_punctuation(' hello, world! '))"
   ]
  },
  {
   "cell_type": "code",
   "execution_count": 10,
   "id": "13e6590f-734f-4463-9525-e54c3c4fa896",
   "metadata": {},
   "outputs": [
    {
     "name": "stdout",
     "output_type": "stream",
     "text": [
      "True\n"
     ]
    }
   ],
   "source": [
    "#check for digits\n",
    "#check if a string contains only digit.\n",
    "def is_All_digis(s):\n",
    "    return bool(re.match(r'^\\d+$',s))\n",
    "\n",
    "print(is_All_digis('12345'))"
   ]
  },
  {
   "cell_type": "code",
   "execution_count": 12,
   "id": "31c867d7-12c1-4194-877d-436fb1663a24",
   "metadata": {},
   "outputs": [
    {
     "name": "stdout",
     "output_type": "stream",
     "text": [
      "5\n"
     ]
    }
   ],
   "source": [
    "##Count the number of vowels in a string\n",
    "def count_vowels(text):\n",
    "    return len(re.findall(r'[aioueAIOUE]',text))    \n",
    "\n",
    "print(count_vowels(\"This is a test string\"))"
   ]
  },
  {
   "cell_type": "code",
   "execution_count": 15,
   "id": "60f70791-a032-480f-ab15-c13cd03eac88",
   "metadata": {},
   "outputs": [
    {
     "name": "stdout",
     "output_type": "stream",
     "text": [
      "['#python', '#sql']\n"
     ]
    }
   ],
   "source": [
    "##Extract hashtags from a string\n",
    "def extract_hashtag(text):\n",
    "    return re.findall(r'#\\w+',text)\n",
    "\n",
    "print(extract_hashtag('here we are learning about #python and #sql'))"
   ]
  },
  {
   "cell_type": "code",
   "execution_count": null,
   "id": "491cf9fa-d1c2-4727-962e-514a836440b0",
   "metadata": {},
   "outputs": [],
   "source": []
  }
 ],
 "metadata": {
  "kernelspec": {
   "display_name": "Python 3 (ipykernel)",
   "language": "python",
   "name": "python3"
  },
  "language_info": {
   "codemirror_mode": {
    "name": "ipython",
    "version": 3
   },
   "file_extension": ".py",
   "mimetype": "text/x-python",
   "name": "python",
   "nbconvert_exporter": "python",
   "pygments_lexer": "ipython3",
   "version": "3.12.4"
  }
 },
 "nbformat": 4,
 "nbformat_minor": 5
}
