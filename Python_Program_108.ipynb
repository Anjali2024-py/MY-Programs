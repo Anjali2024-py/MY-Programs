{
 "cells": [
  {
   "cell_type": "code",
   "execution_count": 3,
   "id": "37682432-a9f0-45aa-83a7-5f12101b9029",
   "metadata": {},
   "outputs": [
    {
     "name": "stdout",
     "output_type": "stream",
     "text": [
      "Washing machine started, washing clothes...\n",
      "Blender stopped,smoothie is ready.\n"
     ]
    }
   ],
   "source": [
    "from abc import ABC,abstractmethod\n",
    "# Define an abstract class for machine\n",
    "class Machine(ABC):\n",
    "    @abstractmethod\n",
    "    def start(self):\n",
    "        pass\n",
    "    @abstractmethod\n",
    "    def stop(self):\n",
    "        pass\n",
    "\n",
    "#Concrete subclass for washingMachine\n",
    "class WashingMachine(Machine):\n",
    "    def start(self):\n",
    "        return \"Washing machine started, washing clothes...\"\n",
    "    def stop(self):\n",
    "        return \"Washing machine stopped,clothes are clean.\"\n",
    "\n",
    "#Concrete subclass foe Blender\n",
    "class Blender(Machine):\n",
    "    def start(self):\n",
    "        return \"Blender started,blending ingredients...\"\n",
    "    def stop(self):\n",
    "        return \"Blender stopped,smoothie is ready.\"\n",
    "\n",
    "#test\n",
    "washing_machine=WashingMachine()\n",
    "blender=Blender()\n",
    "\n",
    "print(washing_machine.start())\n",
    "print(blender.stop())"
   ]
  },
  {
   "cell_type": "code",
   "execution_count": 7,
   "id": "7c1ce7a9-b95c-4322-9373-829804fe5ea3",
   "metadata": {},
   "outputs": [
    {
     "name": "stdout",
     "output_type": "stream",
     "text": [
      "rectangle Perimeter:30 | area: 50\n",
      "traingle perimerter:16 | Area:12.0\n"
     ]
    }
   ],
   "source": [
    "from abc import ABC,abstractmethod\n",
    "#Define an abstarct class shape\n",
    "class Shape(ABC):\n",
    "    @abstractmethod\n",
    "    def perimeter(self):\n",
    "        pass\n",
    "    def area(self):\n",
    "        return \"Area calculation is not defined in abstar t class\"\n",
    "\n",
    "#concrete class for Rectangle\n",
    "class Rectangle(Shape):\n",
    "    def __init__(self,length,width):\n",
    "        self.length=length\n",
    "        self.width=width\n",
    "    def perimeter(self):\n",
    "        return 2*(self.length+self.width)\n",
    "    def area(self):\n",
    "        return self.length*self.width\n",
    "\n",
    "class Triangle(Shape):\n",
    "    def __init__(self,b,h,s1,s2,s3):\n",
    "        self.b=b\n",
    "        self.h=h\n",
    "        self.s1=s1\n",
    "        self.s2=s2\n",
    "        self.s3=s3\n",
    "    def perimeter(self):\n",
    "        return self.s1+self.s2+self.s3\n",
    "    def area(self):\n",
    "        return 0.5*self.b*self.h\n",
    "\n",
    "rectangle=Rectangle(10,5)\n",
    "traingle=Triangle(6,4,5,5,6)\n",
    "\n",
    "print(f\"rectangle Perimeter:{rectangle.perimeter()} | area: {rectangle.area()}\")\n",
    "print(f\"traingle perimerter:{traingle.perimeter()} | Area:{ traingle.area()}\")"
   ]
  },
  {
   "cell_type": "code",
   "execution_count": null,
   "id": "e50e16c3-b505-432c-971f-80ec1620df90",
   "metadata": {},
   "outputs": [],
   "source": []
  }
 ],
 "metadata": {
  "kernelspec": {
   "display_name": "Python 3 (ipykernel)",
   "language": "python",
   "name": "python3"
  },
  "language_info": {
   "codemirror_mode": {
    "name": "ipython",
    "version": 3
   },
   "file_extension": ".py",
   "mimetype": "text/x-python",
   "name": "python",
   "nbconvert_exporter": "python",
   "pygments_lexer": "ipython3",
   "version": "3.12.4"
  }
 },
 "nbformat": 4,
 "nbformat_minor": 5
}
