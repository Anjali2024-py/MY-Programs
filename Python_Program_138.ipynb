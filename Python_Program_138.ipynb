{
 "cells": [
  {
   "cell_type": "code",
   "execution_count": 1,
   "id": "854890fb-f2af-4685-893c-9175a1b1c76d",
   "metadata": {},
   "outputs": [
    {
     "name": "stdout",
     "output_type": "stream",
     "text": [
      "Index: 0,x: 1,y: 2\n",
      "Index: 1,x: 3,y: 4\n",
      "Index: 2,x: 5,y: 6\n"
     ]
    }
   ],
   "source": [
    "coordinates=[(1,2),(3,4),(5,6)]\n",
    "for index,(x,y) in enumerate(coordinates):\n",
    "    print(f\"Index: {index},x: {x},y: {y}\")"
   ]
  },
  {
   "cell_type": "code",
   "execution_count": 2,
   "id": "7eefefce-e37d-4643-982f-58827cc84c9a",
   "metadata": {},
   "outputs": [
    {
     "name": "stdout",
     "output_type": "stream",
     "text": [
      "Index : 0,Boolean value: True\n",
      "Index : 1,Boolean value: False\n",
      "Index : 2,Boolean value: True\n"
     ]
    }
   ],
   "source": [
    "bools=[True,False,True]\n",
    "for index , value in enumerate(bools):\n",
    "    print(f\"Index : {index},Boolean value: {value}\")"
   ]
  },
  {
   "cell_type": "code",
   "execution_count": 3,
   "id": "76604273-517d-464e-ba1b-78296667ee50",
   "metadata": {},
   "outputs": [
    {
     "name": "stdout",
     "output_type": "stream",
     "text": [
      "Index: 0, Set: {1, 2}\n",
      "Index: 1, Set: {3, 4}\n",
      "Index: 2, Set: {5, 6}\n"
     ]
    }
   ],
   "source": [
    "sets=[{1,2},{3,4},{5,6}]\n",
    "for index, s in enumerate(sets):\n",
    "    print(f\"Index: {index}, Set: {s}\")"
   ]
  },
  {
   "cell_type": "code",
   "execution_count": 4,
   "id": "fcd0d6cf-e085-427f-9533-4a56dfe83809",
   "metadata": {},
   "outputs": [
    {
     "name": "stdout",
     "output_type": "stream",
     "text": [
      "Index : 0, Complex Numbers: (3+4j)\n",
      "Index : 1, Complex Numbers: (5+6j)\n",
      "Index : 2, Complex Numbers: (7+8j)\n"
     ]
    }
   ],
   "source": [
    "complex_numbers=[3+4j,5+6j,7+8j]\n",
    "for index,num in enumerate(complex_numbers):\n",
    "    print(f\"Index : {index}, Complex Numbers: {num}\")"
   ]
  },
  {
   "cell_type": "code",
   "execution_count": 5,
   "id": "2f4e74b3-8a8d-43b0-98f9-0d699a838e69",
   "metadata": {},
   "outputs": [
    {
     "name": "stdout",
     "output_type": "stream",
     "text": [
      "Index: 0, Name: Alice, Age: 25\n",
      "Index: 1, Name: Bob, Age: 30\n"
     ]
    }
   ],
   "source": [
    "class Person:\n",
    "    def __init__(self,name,age):\n",
    "        self.name=name\n",
    "        self.age=age\n",
    "\n",
    "people=[Person(\"Alice\",25),Person(\"Bob\",30)]\n",
    "for index,person in enumerate(people):\n",
    "    print(f\"Index: {index}, Name: {person.name}, Age: {person.age}\")"
   ]
  },
  {
   "cell_type": "code",
   "execution_count": null,
   "id": "da4c3b2a-d853-4dce-84c7-7a7a1d928b73",
   "metadata": {},
   "outputs": [],
   "source": []
  }
 ],
 "metadata": {
  "kernelspec": {
   "display_name": "Python 3 (ipykernel)",
   "language": "python",
   "name": "python3"
  },
  "language_info": {
   "codemirror_mode": {
    "name": "ipython",
    "version": 3
   },
   "file_extension": ".py",
   "mimetype": "text/x-python",
   "name": "python",
   "nbconvert_exporter": "python",
   "pygments_lexer": "ipython3",
   "version": "3.12.4"
  }
 },
 "nbformat": 4,
 "nbformat_minor": 5
}
