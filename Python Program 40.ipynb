{
 "cells": [
  {
   "cell_type": "code",
   "execution_count": 10,
   "id": "20163e1b-e353-4ad4-bf16-cb1a57b6f04d",
   "metadata": {},
   "outputs": [
    {
     "name": "stdin",
     "output_type": "stream",
     "text": [
      "Enter a str value: 2\n",
      "Enter a str1 value: 3\n"
     ]
    },
    {
     "name": "stdout",
     "output_type": "stream",
     "text": [
      "28\n"
     ]
    }
   ],
   "source": [
    "n1=input(\"Enter a str value:\")\n",
    "n2=input(\"Enter a str1 value:\")\n",
    "S=n1+n2\n",
    "print (int(S)+5)"
   ]
  },
  {
   "cell_type": "code",
   "execution_count": 12,
   "id": "39405046-d968-4fa2-9c7f-2cdc94971677",
   "metadata": {},
   "outputs": [
    {
     "name": "stdin",
     "output_type": "stream",
     "text": [
      "Enter the numbers: 7\n"
     ]
    },
    {
     "name": "stdout",
     "output_type": "stream",
     "text": [
      "48\n"
     ]
    }
   ],
   "source": [
    "n1=int(input(\"Enter the numbers:\"))\n",
    "equation=((n1)**2-1)\n",
    "print(equation)"
   ]
  },
  {
   "cell_type": "code",
   "execution_count": 22,
   "id": "e00bc5c4-f916-468e-9a3e-b90de435c724",
   "metadata": {},
   "outputs": [
    {
     "name": "stdout",
     "output_type": "stream",
     "text": [
      "6 : 222\n",
      "7 : 350\n",
      "8 : 520\n",
      "9 : 738\n"
     ]
    }
   ],
   "source": [
    "i=6\n",
    "while i<10:\n",
    "    cube=i**3+i\n",
    "    print(i,':',cube)\n",
    "    i=i+1\n",
    "    \n",
    "    "
   ]
  },
  {
   "cell_type": "code",
   "execution_count": 35,
   "id": "40437a4b-1c51-40a7-8726-38b9577a6b75",
   "metadata": {},
   "outputs": [
    {
     "name": "stdout",
     "output_type": "stream",
     "text": [
      "4\n",
      "27\n",
      "256\n",
      "3125\n"
     ]
    }
   ],
   "source": [
    "n=2\n",
    "n1=6\n",
    "j=2\n",
    "while n<n1:\n",
    "    solution=n**j\n",
    "    print(solution)\n",
    "    n=n+1\n",
    "    j=j+1\n",
    "    "
   ]
  },
  {
   "cell_type": "code",
   "execution_count": 36,
   "id": "87fd1eee-23da-4590-a1bb-e6c971e5b085",
   "metadata": {},
   "outputs": [
    {
     "name": "stdout",
     "output_type": "stream",
     "text": [
      "    *     \n",
      "  * *     \n",
      "    *     \n",
      "    *     \n",
      "* * * * * \n",
      "* * * \n",
      "*     \n",
      "*     \n",
      "*     \n",
      "* * * \n",
      "*   * \n",
      "* * * \n"
     ]
    }
   ],
   "source": [
    "for i in range(5):\n",
    "    for j in range(5):\n",
    "        if j==2 and(j>1 and j<3) or (j==1 and i==1) or i==4:\n",
    "            print(\"*\",end=\" \")\n",
    "        else:\n",
    "            print(\" \",end=\" \")\n",
    "    print()\n",
    "for row in range(7):\n",
    "    for col in range(3):\n",
    "        if (row==4 or col==0) or (row==5 and  col!=1) or row==0 or row==6:\n",
    "            print(\"*\",end=\" \")\n",
    "        else:\n",
    "            print(\" \",end=\" \")\n",
    "    print()"
   ]
  },
  {
   "cell_type": "code",
   "execution_count": 37,
   "id": "cb0bdb70-9177-47ce-a080-74417e819df4",
   "metadata": {},
   "outputs": [
    {
     "name": "stdout",
     "output_type": "stream",
     "text": [
      "    *     \n",
      "  * *     \n",
      "    *     \n",
      "    *     \n",
      "* * * * * \n",
      "* * * *   \n",
      "*     *   \n",
      "      *   \n",
      "      *   \n",
      "    * * * \n",
      "      *   \n",
      "      *   \n"
     ]
    }
   ],
   "source": [
    "for i in range(5):\n",
    "    for j in range(5):\n",
    "        if j==2 and(j>1 and j<3) or (j==1 and i==1) or i==4:\n",
    "            print(\"*\",end=\" \")\n",
    "        else:\n",
    "            print(\" \",end=\" \")\n",
    "    print()\n",
    "for row in range(7):\n",
    "    for col in range(5):\n",
    "        if (col<4 and row==0) or col==3 or (row==1 and col==0) or (row==4 and col==2) or row==4 and col==4:\n",
    "            print(\"*\",end=\" \")\n",
    "        else:\n",
    "            print(\" \",end=\" \")\n",
    "    print()"
   ]
  },
  {
   "cell_type": "code",
   "execution_count": 38,
   "id": "2a4ce7bd-6af8-465c-8088-9edb41be31dd",
   "metadata": {},
   "outputs": [
    {
     "name": "stdout",
     "output_type": "stream",
     "text": [
      "    *     \n",
      "  * *     \n",
      "    *     \n",
      "    *     \n",
      "* * * * * \n",
      "  * *   \n",
      "*     * \n",
      "*     * \n",
      "*     * \n",
      "  * *   \n",
      "*     * \n",
      "*     * \n",
      "*     * \n",
      "  * *   \n"
     ]
    }
   ],
   "source": [
    "for i in range(5):\n",
    "    for j in range(5):\n",
    "        if j==2 and(j>1 and j<3) or (j==1 and i==1) or i==4:\n",
    "            print(\"*\",end=\" \")\n",
    "        else:\n",
    "            print(\" \",end=\" \")\n",
    "    print()\n",
    "for row in range(9):\n",
    "    for col in range(4):\n",
    "        if (row!=4 and col==0 and row!=0 and row!=8)  or (col==3 and  row!=0 and row!=4 and row!=8) or (row==0 and 0<col<3) or (row==4 and 0<col<3) or (row==8 and 0<col<3):\n",
    "            print(\"*\",end=\" \")\n",
    "        else:\n",
    "            print(\" \",end=\" \")\n",
    "    print()"
   ]
  },
  {
   "cell_type": "code",
   "execution_count": 39,
   "id": "cfad8a0f-f538-42c0-b342-cfe4ff950bed",
   "metadata": {},
   "outputs": [
    {
     "name": "stdout",
     "output_type": "stream",
     "text": [
      "    *     \n",
      "  * *     \n",
      "    *     \n",
      "    *     \n",
      "* * * * * \n",
      "  * *   \n",
      "*     * \n",
      "*     * \n",
      "  * * * \n",
      "      * \n",
      "      * \n",
      "      * \n",
      "* * *   \n"
     ]
    }
   ],
   "source": [
    "for i in range(5):\n",
    "    for j in range(5):\n",
    "        if j==2 and(j>1 and j<3) or (j==1 and i==1) or i==4:\n",
    "            print(\"*\",end=\" \")\n",
    "        else:\n",
    "            print(\" \",end=\" \")\n",
    "    print()\n",
    "for row in range(8):\n",
    "    for col in range(4):\n",
    "        if (0<row<7 and col==3) or (0<col<3 and  row==0) or (row==3 and col>0) or (row==7 and col<3) or (col==0 and 0<row<3):\n",
    "            print(\"*\",end=\" \")\n",
    "        else:\n",
    "            print(\" \",end=\" \")\n",
    "    print()    "
   ]
  },
  {
   "cell_type": "code",
   "execution_count": 40,
   "id": "7b366da3-cd2d-4b44-a4f3-3208164afdbb",
   "metadata": {},
   "outputs": [
    {
     "name": "stdout",
     "output_type": "stream",
     "text": [
      "* * *   \n",
      "      * \n",
      "    *   \n",
      "  *     \n",
      "* * * * \n",
      "  * * *   \n",
      "*       * \n",
      "*       * \n",
      "*       * \n",
      "*       * \n",
      "*       * \n",
      "  * * *   \n"
     ]
    }
   ],
   "source": [
    "i=1\n",
    "j==3\n",
    "for row in range(5):\n",
    "    for col in range(4):\n",
    "        if (row==0 and col<3) or row==4 or (row==1 and col==3) or (row==2 and col==2) or ( row==3 and col==1):\n",
    "            print(\"*\",end=\" \")\n",
    "        else:\n",
    "            print(\" \",end=\" \")\n",
    "    print()\n",
    "for row in range(7):\n",
    "    for col in range(5):\n",
    "        if (0<col<4 and row==0) or (col==0 and  0<row<6) or (row==6 and 0<col<4) or (col==4 and 0<row<6):\n",
    "            print(\"*\",end=\" \")\n",
    "        else:\n",
    "            print(\" \",end=\" \")\n",
    "    print()"
   ]
  },
  {
   "cell_type": "code",
   "execution_count": null,
   "id": "cce2aac0-1363-4ac8-8597-2a65172258dc",
   "metadata": {},
   "outputs": [],
   "source": []
  }
 ],
 "metadata": {
  "kernelspec": {
   "display_name": "Python 3 (ipykernel)",
   "language": "python",
   "name": "python3"
  },
  "language_info": {
   "codemirror_mode": {
    "name": "ipython",
    "version": 3
   },
   "file_extension": ".py",
   "mimetype": "text/x-python",
   "name": "python",
   "nbconvert_exporter": "python",
   "pygments_lexer": "ipython3",
   "version": "3.12.4"
  }
 },
 "nbformat": 4,
 "nbformat_minor": 5
}
