{
 "cells": [
  {
   "cell_type": "code",
   "execution_count": 1,
   "id": "7133101b-e7c0-4734-868c-393934ed5aed",
   "metadata": {},
   "outputs": [
    {
     "name": "stdout",
     "output_type": "stream",
     "text": [
      "Buddy says Woof!\n",
      "Buddy is 21 in human years.\n"
     ]
    }
   ],
   "source": [
    "class Dog:\n",
    "    def __init__(self, name, age):\n",
    "        self.name = name\n",
    "        self.age = age\n",
    "\n",
    "    def bark(self):\n",
    "        return f\"{self.name} says Woof!\"\n",
    "\n",
    "    def get_age_in_human_years(self):\n",
    "        return self.age * 7\n",
    "\n",
    "# Example usage\n",
    "my_dog = Dog(\"Buddy\", 3)\n",
    "print(my_dog.bark())\n",
    "print(f\"{my_dog.name} is {my_dog.get_age_in_human_years()} in human years.\")\n"
   ]
  },
  {
   "cell_type": "code",
   "execution_count": 2,
   "id": "f0b1b2fe-4ff6-4d69-84bb-9ccc955d5168",
   "metadata": {},
   "outputs": [
    {
     "name": "stdout",
     "output_type": "stream",
     "text": [
      "1984 by George Orwell, 328 pages.\n"
     ]
    }
   ],
   "source": [
    "class Book:\n",
    "    def __init__(self, title, author, pages):\n",
    "        self.title = title\n",
    "        self.author = author\n",
    "        self.pages = pages\n",
    "\n",
    "    def summary(self):\n",
    "        return f\"{self.title} by {self.author}, {self.pages} pages.\"\n",
    "\n",
    "# Example usage\n",
    "my_book = Book(\"1984\", \"George Orwell\", 328)\n",
    "print(my_book.summary())\n"
   ]
  },
  {
   "cell_type": "code",
   "execution_count": null,
   "id": "0d10f660-f5b8-4fe3-8fcb-9ea92a30c5ab",
   "metadata": {},
   "outputs": [],
   "source": []
  }
 ],
 "metadata": {
  "kernelspec": {
   "display_name": "Python 3 (ipykernel)",
   "language": "python",
   "name": "python3"
  },
  "language_info": {
   "codemirror_mode": {
    "name": "ipython",
    "version": 3
   },
   "file_extension": ".py",
   "mimetype": "text/x-python",
   "name": "python",
   "nbconvert_exporter": "python",
   "pygments_lexer": "ipython3",
   "version": "3.12.4"
  }
 },
 "nbformat": 4,
 "nbformat_minor": 5
}
