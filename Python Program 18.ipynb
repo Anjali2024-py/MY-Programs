{
 "cells": [
  {
   "cell_type": "code",
   "execution_count": 91,
   "id": "70689490-ab8f-4766-9510-4ad4966495a1",
   "metadata": {},
   "outputs": [
    {
     "name": "stdout",
     "output_type": "stream",
     "text": [
      "1 \n",
      "1 2 \n",
      "1 2 3 \n",
      "1 2 3 4 \n"
     ]
    }
   ],
   "source": [
    "#write a program to print following pattern\n",
    "for i in range(1,5):\n",
    "    for j in range(1,i+1):\n",
    "          print(j,end=\" \")\n",
    "    print()\n",
    "    \n",
    "    \n",
    "    \n"
   ]
  },
  {
   "cell_type": "code",
   "execution_count": 112,
   "id": "b25309c7-b27d-48ca-9a96-58708ed58355",
   "metadata": {},
   "outputs": [
    {
     "name": "stdout",
     "output_type": "stream",
     "text": [
      "1 2 3 4 \n",
      "1 2 3 \n",
      "1 2 \n",
      "1 \n"
     ]
    }
   ],
   "source": [
    "#write a program to print stars in reverse order\n",
    "for i in range(4,0,-1):\n",
    "    for j in range(1,i+1):\n",
    "        print(j,end=\" \")\n",
    "        \n",
    "    print()"
   ]
  },
  {
   "cell_type": "code",
   "execution_count": 113,
   "id": "f0d20596-5f3a-4b82-9b98-dd41a3bd6e83",
   "metadata": {},
   "outputs": [
    {
     "name": "stdout",
     "output_type": "stream",
     "text": [
      "* \n",
      "* * \n",
      "* * * \n",
      "* * * * \n",
      "* * * * * \n"
     ]
    }
   ],
   "source": [
    "#write a program to print starts in \n",
    "for i in range(1,6):\n",
    "    for i in range(1,i+1):\n",
    "        print(\"*\",end=\" \")\n",
    "    print()"
   ]
  },
  {
   "cell_type": "code",
   "execution_count": 174,
   "id": "e8d6b38f-3550-4801-8cc3-837bd9fe8778",
   "metadata": {},
   "outputs": [
    {
     "name": "stdout",
     "output_type": "stream",
     "text": [
      "  * * * * * \n",
      "    * * * * \n",
      "      * * * \n",
      "        * * \n",
      "          * \n"
     ]
    }
   ],
   "source": [
    "#print the patters\n",
    "for i in range(5,0,-1):\n",
    "    for j in range(5,i-1,-1):\n",
    "        print(\" \",end=\" \")\n",
    "    for k in range(1,i+1):\n",
    "        print(\"*\",end=\" \")\n",
    "    print()"
   ]
  },
  {
   "cell_type": "code",
   "execution_count": 175,
   "id": "3f07dfb7-5d6a-4014-912a-4428ce550eac",
   "metadata": {},
   "outputs": [
    {
     "name": "stdout",
     "output_type": "stream",
     "text": [
      "* * * * * * \n",
      "* * * * * \n",
      "* * * * \n",
      "* * * \n",
      "* * \n",
      "* \n"
     ]
    }
   ],
   "source": [
    "for i in range(6,0,-1):\n",
    "    for j in range(1,i+1):\n",
    "        print(\"*\",end=\" \")\n",
    "    print()\n",
    "        "
   ]
  },
  {
   "cell_type": "code",
   "execution_count": 177,
   "id": "b820863a-0b0b-4028-953d-8c62f7fa01ce",
   "metadata": {},
   "outputs": [
    {
     "name": "stdout",
     "output_type": "stream",
     "text": [
      "            * \n",
      "          * * \n",
      "        * * * \n",
      "      * * * * \n",
      "    * * * * * \n",
      "  * * * * * * \n"
     ]
    }
   ],
   "source": [
    "#print the patters\n",
    "for i in range(6,0,-1):\n",
    "    for j in range(1,i+1):\n",
    "        print(\" \",end=\" \")\n",
    "    for k in range(6,i-1,-1):\n",
    "        print(\"*\",end=\" \")\n",
    "    print()"
   ]
  },
  {
   "cell_type": "code",
   "execution_count": 121,
   "id": "52bb2eb2-3cf2-4cff-b506-566a0cc1cfd7",
   "metadata": {},
   "outputs": [
    {
     "name": "stdin",
     "output_type": "stream",
     "text": [
      "Enter any Number: 2\n",
      "Enter any Number: 2\n",
      "Enter any Number: 2.1\n",
      "Enter any Number: 13\n",
      "Enter any Number: 1.63\n",
      "Enter any Number: 1.5\n",
      "Enter any Number: 6.8\n",
      "Enter any Number: 9.4\n",
      "Enter any Number: 31.2\n",
      "Enter any Number: 4\n"
     ]
    },
    {
     "name": "stdout",
     "output_type": "stream",
     "text": [
      "7.3629999999999995\n"
     ]
    }
   ],
   "source": [
    "#Accepet 10 numbers from user and diplay their average\n",
    "x=10\n",
    "s=0\n",
    "for i in range(x):\n",
    "    num=float(input(\"Enter any Number:\"))\n",
    "    s=s+num\n",
    "print(s/x)\n"
   ]
  },
  {
   "cell_type": "code",
   "execution_count": 191,
   "id": "0250c0d6-89a3-4c2c-80fd-9dfdac6050df",
   "metadata": {},
   "outputs": [
    {
     "name": "stdout",
     "output_type": "stream",
     "text": [
      "is Sum of se and so 637\n",
      "sum of even numbers: 312\n",
      "sum of odd numbers: 325\n"
     ]
    }
   ],
   "source": [
    "#write a program t display sum of odd numbers and sum of even number\n",
    "#that are fall between 12 and 37(including both numbers)\n",
    "se=0\n",
    "so=0\n",
    "for num in range(12,38):\n",
    "    if num%2==0:\n",
    "        se=se+num\n",
    "    else:\n",
    "        so=so+num\n",
    "print(\"is Sum of se and so\",se+so)\n",
    "print(\"sum of even numbers:\",se)   \n",
    "print(\"sum of odd numbers:\",so)"
   ]
  },
  {
   "cell_type": "code",
   "execution_count": 4,
   "id": "930f2160-5a61-4a26-91c0-034099ea3b02",
   "metadata": {},
   "outputs": [
    {
     "name": "stdout",
     "output_type": "stream",
     "text": [
      "121 143 165 187 209 231 253 275 297 319 341 363 385 407 429 451 473 495 "
     ]
    }
   ],
   "source": [
    "#write a program to display all the numbers \n",
    "#which are divisible by 11 but not by 2 between 100 and 500\n",
    "for num in range(100,500):\n",
    "    if num%11==0 and num%2!=0:\n",
    "        print(num,end=\" \")"
   ]
  },
  {
   "cell_type": "code",
   "execution_count": 8,
   "id": "1a81ebb6-f493-4827-b544-f45fa0dc96a9",
   "metadata": {},
   "outputs": [
    {
     "name": "stdout",
     "output_type": "stream",
     "text": [
      "2 4 6 8 10 12 14 16 18 20 "
     ]
    }
   ],
   "source": [
    "#how many times the loop will execute:\n",
    "c=0\n",
    "while c<20:\n",
    "    c+=2\n",
    "    print(c,end=\" \")"
   ]
  },
  {
   "cell_type": "code",
   "execution_count": null,
   "id": "e5777434-9095-45af-90f8-7bcbcef07437",
   "metadata": {},
   "outputs": [],
   "source": []
  }
 ],
 "metadata": {
  "kernelspec": {
   "display_name": "Python 3 (ipykernel)",
   "language": "python",
   "name": "python3"
  },
  "language_info": {
   "codemirror_mode": {
    "name": "ipython",
    "version": 3
   },
   "file_extension": ".py",
   "mimetype": "text/x-python",
   "name": "python",
   "nbconvert_exporter": "python",
   "pygments_lexer": "ipython3",
   "version": "3.12.4"
  }
 },
 "nbformat": 4,
 "nbformat_minor": 5
}
