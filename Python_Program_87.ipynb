{
 "cells": [
  {
   "cell_type": "code",
   "execution_count": 2,
   "id": "d535e929-ee39-4f92-b2e8-fc1d4bfb3f92",
   "metadata": {},
   "outputs": [
    {
     "name": "stdout",
     "output_type": "stream",
     "text": [
      "Assertion Failed.\n"
     ]
    }
   ],
   "source": [
    "#Assertion Error\n",
    "try:\n",
    "    assert 1==2,\"Assertion Failed.\"\n",
    "except AssertionError as e:\n",
    "    print(e)"
   ]
  },
  {
   "cell_type": "code",
   "execution_count": 3,
   "id": "a1fa11f8-070e-4ac9-8b55-9c7ebfd4ec70",
   "metadata": {},
   "outputs": [
    {
     "name": "stdout",
     "output_type": "stream",
     "text": [
      "Module not found.\n"
     ]
    }
   ],
   "source": [
    "#Import Error\n",
    "try:\n",
    "    import nonExistent_module\n",
    "except ImportError:\n",
    "    print(\"Module not found.\")"
   ]
  },
  {
   "cell_type": "code",
   "execution_count": 5,
   "id": "b197a446-7051-4f28-a094-88bbf58f033f",
   "metadata": {},
   "outputs": [
    {
     "name": "stdout",
     "output_type": "stream",
     "text": [
      "Invalid JSON.\n"
     ]
    }
   ],
   "source": [
    "#JSON Decode Error\n",
    "import json\n",
    "\n",
    "try:\n",
    "    data = json.loads('{\"name\": \"John\",}')\n",
    "except json.JSONDecodeError:\n",
    "    print(\"Invalid JSON.\")\n"
   ]
  },
  {
   "cell_type": "code",
   "execution_count": 6,
   "id": "5744c2e1-a0e6-4d44-ac82-02596f937321",
   "metadata": {},
   "outputs": [
    {
     "name": "stdout",
     "output_type": "stream",
     "text": [
      "Incompatible types for addition.\n"
     ]
    }
   ],
   "source": [
    "#TypeError\n",
    "def add(a, b):\n",
    "    return a + b\n",
    "\n",
    "try:\n",
    "    result = add(5, '10')\n",
    "except TypeError:\n",
    "    print(\"Incompatible types for addition.\")\n"
   ]
  },
  {
   "cell_type": "code",
   "execution_count": 7,
   "id": "57569847-f7b7-4298-963e-fcf3c5853962",
   "metadata": {},
   "outputs": [
    {
     "name": "stdout",
     "output_type": "stream",
     "text": [
      "Not enough values to unpack.\n"
     ]
    }
   ],
   "source": [
    "try:\n",
    "    a, b = (1,)\n",
    "except ValueError:\n",
    "    print(\"Not enough values to unpack.\")\n"
   ]
  },
  {
   "cell_type": "code",
   "execution_count": null,
   "id": "283b18d5-0e04-4ce2-8878-04209097a3a8",
   "metadata": {},
   "outputs": [],
   "source": []
  }
 ],
 "metadata": {
  "kernelspec": {
   "display_name": "Python 3 (ipykernel)",
   "language": "python",
   "name": "python3"
  },
  "language_info": {
   "codemirror_mode": {
    "name": "ipython",
    "version": 3
   },
   "file_extension": ".py",
   "mimetype": "text/x-python",
   "name": "python",
   "nbconvert_exporter": "python",
   "pygments_lexer": "ipython3",
   "version": "3.12.4"
  }
 },
 "nbformat": 4,
 "nbformat_minor": 5
}
