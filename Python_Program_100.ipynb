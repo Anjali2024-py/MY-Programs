{
 "cells": [
  {
   "cell_type": "code",
   "execution_count": 1,
   "id": "a1cd8613-1b2b-4a5d-a3aa-ddee4c1eb601",
   "metadata": {},
   "outputs": [
    {
     "name": "stdout",
     "output_type": "stream",
     "text": [
      "Car Started\n",
      "None\n",
      "Car stopped\n"
     ]
    }
   ],
   "source": [
    "class Car:\n",
    "    @staticmethod\n",
    "    def start():\n",
    "        print(\"Car Started\")\n",
    "    @staticmethod\n",
    "    def stop():\n",
    "        print(\"Car stopped\")\n",
    "\n",
    "class ToyotaCar(Car):\n",
    "    def __init__(self,name):\n",
    "        self.name=name\n",
    "\n",
    "\n",
    "car1=ToyotaCar(\"Fortuner\")\n",
    "print(car1.start())\n",
    "car2=ToyotaCar(\"prius\")\n",
    "car2.stop()"
   ]
  },
  {
   "cell_type": "code",
   "execution_count": 2,
   "id": "c79c2c9c-9f1f-4c49-b345-24ebd148b843",
   "metadata": {},
   "outputs": [
    {
     "name": "stdout",
     "output_type": "stream",
     "text": [
      "Car Started\n"
     ]
    }
   ],
   "source": [
    "class Car:\n",
    "    @staticmethod\n",
    "    def start():\n",
    "        print(\"Car Started\")\n",
    "    @staticmethod\n",
    "    def stop():\n",
    "        print(\"Car stopped\")\n",
    "\n",
    "class ToyotaCar(Car):\n",
    "    def __init__(self,brand):\n",
    "        self.brand=brand\n",
    "\n",
    "class fortuner(ToyotaCar):\n",
    "    def __init__(self,type):\n",
    "        self.type=type\n",
    "\n",
    "\n",
    "car1=fortuner(\"diesel\")\n",
    "car1.start()"
   ]
  },
  {
   "cell_type": "code",
   "execution_count": 1,
   "id": "6b738cbc-b905-4ee2-992a-8de14679aa89",
   "metadata": {},
   "outputs": [
    {
     "name": "stdout",
     "output_type": "stream",
     "text": [
      "squre Area:16\n",
      "Circle Area: 28.274333882308138\n"
     ]
    }
   ],
   "source": [
    "from abc import ABC,abstractmethod\n",
    "class shape(ABC):\n",
    "    @abstractmethod\n",
    "    def area(self):\n",
    "        pass\n",
    "class square(shape):\n",
    "    def __init__(self,side):\n",
    "        self.side=side\n",
    "    def area(self):\n",
    "        return self.side**2\n",
    "\n",
    "class Circle(shape):\n",
    "    def __init__(self,radius):\n",
    "        self.radius=radius\n",
    "    def area(self):\n",
    "        import math\n",
    "        return math.pi*(self.radius**2)\n",
    "\n",
    "sq=square(4)\n",
    "cir=Circle(3)\n",
    "print(f\"squre Area:{sq.area()}\")\n",
    "print(f\"Circle Area: {cir.area()}\")\n"
   ]
  },
  {
   "cell_type": "code",
   "execution_count": 2,
   "id": "8612ff20-fc2b-4022-b10a-969d512ac73c",
   "metadata": {},
   "outputs": [
    {
     "name": "stdout",
     "output_type": "stream",
     "text": [
      "94.66666666666667%\n",
      "93.33333333333333%\n"
     ]
    }
   ],
   "source": [
    "class Student:\n",
    "    def __init__(self,phy,chem,math):\n",
    "        self.phy=phy\n",
    "        self.chem=chem\n",
    "        self.math=math\n",
    "    @property\n",
    "    def percentage(self):\n",
    "        return str((self.phy+self.chem+self.math)/3)+\"%\"\n",
    "\n",
    "stu1=Student(90,95,99)\n",
    "print(stu1.percentage)\n",
    "stu1.phy=86\n",
    "print(stu1.percentage)"
   ]
  },
  {
   "cell_type": "code",
   "execution_count": 3,
   "id": "029e5359-51df-49fe-be6a-66e343633bd1",
   "metadata": {},
   "outputs": [
    {
     "name": "stdout",
     "output_type": "stream",
     "text": [
      "Car started\n",
      "prius\n"
     ]
    }
   ],
   "source": [
    "class Car:\n",
    "    def __init__(self,type):\n",
    "        self.type=type\n",
    "    @staticmethod\n",
    "    def start():\n",
    "        print(\"Car started\")\n",
    "    @staticmethod\n",
    "    def stop():\n",
    "        print(\"Car stopped\")\n",
    "\n",
    "class ToyotaCar(Car):\n",
    "    def __init__(self,name,type):\n",
    "        super().__init__(type)\n",
    "        self.name=name\n",
    "        super().start()\n",
    "car1=ToyotaCar(\"prius\",\"Electric\")\n",
    "print(car1.name)"
   ]
  },
  {
   "cell_type": "code",
   "execution_count": null,
   "id": "50eceda5-c2a5-422a-ad71-275e19221fc5",
   "metadata": {},
   "outputs": [],
   "source": []
  }
 ],
 "metadata": {
  "kernelspec": {
   "display_name": "Python 3 (ipykernel)",
   "language": "python",
   "name": "python3"
  },
  "language_info": {
   "codemirror_mode": {
    "name": "ipython",
    "version": 3
   },
   "file_extension": ".py",
   "mimetype": "text/x-python",
   "name": "python",
   "nbconvert_exporter": "python",
   "pygments_lexer": "ipython3",
   "version": "3.12.4"
  }
 },
 "nbformat": 4,
 "nbformat_minor": 5
}
