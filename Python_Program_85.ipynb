{
 "cells": [
  {
   "cell_type": "code",
   "execution_count": 1,
   "id": "79ddf641-b832-46ed-81e1-881d551a643d",
   "metadata": {},
   "outputs": [
    {
     "name": "stdin",
     "output_type": "stream",
     "text": [
      "Enter a number:  6\n"
     ]
    },
    {
     "name": "stdout",
     "output_type": "stream",
     "text": [
      "You entered the integer: 6\n"
     ]
    }
   ],
   "source": [
    "#This example converts user input to an integer and handles errors\n",
    "def convert_to_integer():\n",
    "    user_input = input(\"Enter a number: \")\n",
    "    try:\n",
    "        number = int(user_input)\n",
    "    except ValueError:\n",
    "        print(\"Error: That's not a valid integer.\")\n",
    "    else:\n",
    "        print(f\"You entered the integer: {number}\")\n",
    "\n",
    "convert_to_integer()\n"
   ]
  },
  {
   "cell_type": "code",
   "execution_count": 2,
   "id": "fa33e1f3-2149-4799-932c-b7041aebe907",
   "metadata": {},
   "outputs": [
    {
     "name": "stdin",
     "output_type": "stream",
     "text": [
      "Enter amount to withdraw:  4\n"
     ]
    },
    {
     "name": "stdout",
     "output_type": "stream",
     "text": [
      "Withdrawal successful! New balance: 96.0\n"
     ]
    }
   ],
   "source": [
    "#This example simulates a basic ATM withdrawal, handling insufficient funds\n",
    "def atm_withdrawal(balance):\n",
    "    try:\n",
    "        amount = float(input(\"Enter amount to withdraw: \"))\n",
    "        if amount > balance:\n",
    "            raise ValueError(\"Insufficient funds!\")\n",
    "        balance -= amount\n",
    "    except ValueError as e:\n",
    "        print(f\"Error: {e}\")\n",
    "    else:\n",
    "        print(f\"Withdrawal successful! New balance: {balance}\")\n",
    "\n",
    "atm_withdrawal(100.0)\n"
   ]
  },
  {
   "cell_type": "code",
   "execution_count": 3,
   "id": "e31f973a-5ef8-4b54-96a0-f86354611fcd",
   "metadata": {},
   "outputs": [
    {
     "name": "stdin",
     "output_type": "stream",
     "text": [
      "Enter a positive number:  6\n"
     ]
    },
    {
     "name": "stdout",
     "output_type": "stream",
     "text": [
      "The square root of 6.0 is: 2.449489742783178\n"
     ]
    }
   ],
   "source": [
    "#This example calculates the square root of a number and handles negative input\n",
    "import math\n",
    "\n",
    "def calculate_square_root():\n",
    "    try:\n",
    "        number = float(input(\"Enter a positive number: \"))\n",
    "        if number < 0:\n",
    "            raise ValueError(\"Cannot compute the square root of a negative number.\")\n",
    "        result = math.sqrt(number)\n",
    "    except ValueError as e:\n",
    "        print(f\"Error: {e}\")\n",
    "    else:\n",
    "        print(f\"The square root of {number} is: {result}\")\n",
    "\n",
    "calculate_square_root()"
   ]
  },
  {
   "cell_type": "code",
   "execution_count": 6,
   "id": "c0dece6e-fc2a-4de2-956b-fc64def4ce4f",
   "metadata": {},
   "outputs": [
    {
     "name": "stdin",
     "output_type": "stream",
     "text": [
      "Enter first number:  5\n",
      "Enter second number:  3\n",
      "Enter operation (+, -, *, /):  *\n"
     ]
    },
    {
     "name": "stdout",
     "output_type": "stream",
     "text": [
      "Result: 15.0\n"
     ]
    }
   ],
   "source": [
    "#A simple calculator that handles invalid input.\n",
    "def basic_calculator():\n",
    "    try:\n",
    "        num1 = float(input(\"Enter first number: \"))\n",
    "        num2 = float(input(\"Enter second number: \"))\n",
    "        operation = input(\"Enter operation (+, -, *, /): \")\n",
    "        \n",
    "        if operation == '+':\n",
    "            print(f\"Result: {num1 + num2}\")\n",
    "        elif operation == '-':\n",
    "            print(f\"Result: {num1 - num2}\")\n",
    "        elif operation == '*':\n",
    "            print(f\"Result: {num1 * num2}\")\n",
    "        elif operation == '/':\n",
    "            print(f\"Result: {num1 / num2}\")\n",
    "        else:\n",
    "            print(\"Error: Invalid operation.\")\n",
    "    except ZeroDivisionError:\n",
    "        print(\"Error: Cannot divide by zero!\")\n",
    "    except ValueError:\n",
    "        print(\"Error: Please enter valid numbers.\")\n",
    "\n",
    "basic_calculator()\n"
   ]
  },
  {
   "cell_type": "code",
   "execution_count": 7,
   "id": "0268b9de-e26b-4d8f-9cf9-ecbc641cd6cc",
   "metadata": {},
   "outputs": [
    {
     "name": "stdin",
     "output_type": "stream",
     "text": [
      "Enter an index (0-2):  5\n"
     ]
    },
    {
     "name": "stdout",
     "output_type": "stream",
     "text": [
      "Error: Index out of range!\n"
     ]
    }
   ],
   "source": [
    "#This example accesses a list and handles index errors\n",
    "def access_list():\n",
    "    items = [1, 2, 3]\n",
    "    try:\n",
    "        index = int(input(\"Enter an index (0-2): \"))\n",
    "        print(f\"Item at index {index}: {items[index]}\")\n",
    "    except IndexError:\n",
    "        print(\"Error: Index out of range!\")\n",
    "    except ValueError:\n",
    "        print(\"Error: Please enter a valid integer.\")\n",
    "\n",
    "access_list()\n"
   ]
  },
  {
   "cell_type": "code",
   "execution_count": null,
   "id": "d37d5142-31eb-4080-af21-c4c8911ca12b",
   "metadata": {},
   "outputs": [],
   "source": []
  }
 ],
 "metadata": {
  "kernelspec": {
   "display_name": "Python 3 (ipykernel)",
   "language": "python",
   "name": "python3"
  },
  "language_info": {
   "codemirror_mode": {
    "name": "ipython",
    "version": 3
   },
   "file_extension": ".py",
   "mimetype": "text/x-python",
   "name": "python",
   "nbconvert_exporter": "python",
   "pygments_lexer": "ipython3",
   "version": "3.12.4"
  }
 },
 "nbformat": 4,
 "nbformat_minor": 5
}
