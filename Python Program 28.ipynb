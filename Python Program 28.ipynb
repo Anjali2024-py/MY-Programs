{
 "cells": [
  {
   "cell_type": "code",
   "execution_count": 1,
   "id": "505cddb0-0b2d-4861-a4c2-c50d515efef2",
   "metadata": {},
   "outputs": [
    {
     "name": "stdout",
     "output_type": "stream",
     "text": [
      "*    \n",
      "*    \n",
      "*    \n",
      "*    \n",
      "*    \n",
      "*    \n",
      "*****\n"
     ]
    }
   ],
   "source": [
    "# Print L\n",
    "for row in range(7):\n",
    "    for col in range(5):\n",
    "        if col==0 or (row==6 and col>0):\n",
    "            print(\"*\",end=\"\")\n",
    "        else:\n",
    "            print(\"\",end=\" \")\n",
    "    print()"
   ]
  },
  {
   "cell_type": "code",
   "execution_count": 7,
   "id": "2e759f65-e45f-43e2-ade3-e0db215b94b7",
   "metadata": {},
   "outputs": [
    {
     "name": "stdout",
     "output_type": "stream",
     "text": [
      "*           * \n",
      "* *       * * \n",
      "*   *   *   * \n",
      "*     *     * \n",
      "*           * \n",
      "*           * \n",
      "*           * \n"
     ]
    }
   ],
   "source": [
    "#Print M\n",
    "for row in range(7):\n",
    "    for col in range(7):\n",
    "        if col==0 or col==6 or (row==col and col<4 and col>0) or (row==1 and col==5) or (row==2 and col==4):\n",
    "            print(\"*\",end=\" \")\n",
    "        else:\n",
    "            print(\" \",end=\" \")\n",
    "    print()"
   ]
  },
  {
   "cell_type": "code",
   "execution_count": 14,
   "id": "4244b795-bdfb-407f-a1a1-735ffd6946ed",
   "metadata": {},
   "outputs": [
    {
     "name": "stdout",
     "output_type": "stream",
     "text": [
      "*         * \n",
      "* *       * \n",
      "*   *     * \n",
      "*     *   * \n",
      "*       * * \n",
      "*         * \n"
     ]
    }
   ],
   "source": [
    "#PRint N\n",
    "for row in range(6):\n",
    "    for col in range(6):\n",
    "        if col==0 or col==5 or( row==col and (col>0 and col<5)):\n",
    "            print(\"*\",end=\" \")\n",
    "        else:\n",
    "            print(\" \",end=\" \")\n",
    "    print()"
   ]
  },
  {
   "cell_type": "code",
   "execution_count": 18,
   "id": "8bcefadd-a712-47dc-ab19-b365576d6308",
   "metadata": {},
   "outputs": [
    {
     "name": "stdout",
     "output_type": "stream",
     "text": [
      "  * * *   \n",
      "*       * \n",
      "*       * \n",
      "*       * \n",
      "*       * \n",
      "*       * \n",
      "  * * *   \n"
     ]
    }
   ],
   "source": [
    "#Print O\n",
    "for row in range(7):\n",
    "    for col in range(5):\n",
    "        if ((row==0 or row==6) and (col!=0 and col!=4)) or ((col==0 or col==4 ) and (row!=0 and row!=6)):\n",
    "            print(\"*\",end=\" \")\n",
    "        else:\n",
    "            print(\" \",end=\" \")\n",
    "    print()\n",
    "        "
   ]
  },
  {
   "cell_type": "code",
   "execution_count": 30,
   "id": "ed7acc44-82e9-4c19-95b7-20c8780154a7",
   "metadata": {},
   "outputs": [
    {
     "name": "stdout",
     "output_type": "stream",
     "text": [
      "* * * *   \n",
      "*       * \n",
      "*       * \n",
      "* * * *   \n",
      "*         \n",
      "*         \n",
      "*         \n"
     ]
    }
   ],
   "source": [
    "#Print(P)\n",
    "for row in range(7):\n",
    "    for col in range(5):\n",
    "        if col==0 or (( row==0 or row==3 )and col!=4) or (col==4 and row!=0 and row<3):\n",
    "            print(\"*\",end=\" \")\n",
    "        else:\n",
    "            print(\" \",end=\" \")\n",
    "    print()"
   ]
  },
  {
   "cell_type": "code",
   "execution_count": 26,
   "id": "fac5b26e-0e14-4877-a098-6a721460be0b",
   "metadata": {},
   "outputs": [
    {
     "name": "stdout",
     "output_type": "stream",
     "text": [
      "  * * *   \n",
      "*       * \n",
      "*       * \n",
      "*       * \n",
      "*       * \n",
      "* *     * \n",
      "  * * *   \n",
      "      *   \n"
     ]
    }
   ],
   "source": [
    "#Print(Q)\n",
    "for row in range(8):\n",
    "    for col in range(5):\n",
    "        if ((row==0 or row==6) and (col!=0 and col!=4)) or ((col==0 or col==4) and (row!=0 and row!=6 and row!=7)) or (col==1 and row==5) or (row==7 and col==3):\n",
    "            print(\"*\",end=\"\")\n",
    "        else:\n",
    "            print(\" \",end=\" \")\n",
    "    print()"
   ]
  },
  {
   "cell_type": "code",
   "execution_count": 31,
   "id": "22c57207-8376-4401-bcf7-5c08ca2b6e23",
   "metadata": {},
   "outputs": [
    {
     "name": "stdout",
     "output_type": "stream",
     "text": [
      "* * * *   \n",
      "*       * \n",
      "*       * \n",
      "* * * *   \n",
      "*       * \n",
      "*       * \n",
      "*       * \n"
     ]
    }
   ],
   "source": [
    "#Print R\n",
    "for row in range(7):\n",
    "    for col in range(5):\n",
    "        if col==0 or (( row==0 or row==3 )and col!=4) or (col==4 and row!=0 and row!=3):\n",
    "            print(\"*\",end=\" \")\n",
    "        else:\n",
    "            print(\" \",end=\" \")\n",
    "    print()"
   ]
  },
  {
   "cell_type": "code",
   "execution_count": 10,
   "id": "e8cfe958-97cb-490d-aa0b-e4c7b33388ce",
   "metadata": {},
   "outputs": [
    {
     "name": "stdout",
     "output_type": "stream",
     "text": [
      "  * * *   \n",
      "*         \n",
      "*         \n",
      "  * * *   \n",
      "        * \n",
      "        * \n",
      "  * * *   \n"
     ]
    }
   ],
   "source": [
    "#Print S\n",
    "for row in range(7):\n",
    "    for col in range(5):\n",
    "        if ((row==0 or row==3 or row==6) and (col>0 and col<4)) or (col==0 and (row>0 and row<3)) or (col==4 and (row<6 and row>3)):\n",
    "            print(\"*\",end=\" \")\n",
    "        else:\n",
    "            print(\" \",end=\" \")\n",
    "    print()\n"
   ]
  },
  {
   "cell_type": "code",
   "execution_count": 41,
   "id": "c595b27f-7fdf-4b76-b372-11d471e6fb50",
   "metadata": {},
   "outputs": [
    {
     "name": "stdout",
     "output_type": "stream",
     "text": [
      "* * * * * \n",
      "    *     \n",
      "    *     \n",
      "    *     \n",
      "    *     \n",
      "    *     \n"
     ]
    }
   ],
   "source": [
    "#print T\n",
    "for row in range(6):\n",
    "    for col in range(5):\n",
    "        if col==2 or row==0:\n",
    "            print(\"*\",end=\" \")\n",
    "        else:\n",
    "            print(\" \",end=\" \")\n",
    "    print()"
   ]
  },
  {
   "cell_type": "code",
   "execution_count": 43,
   "id": "209374af-0fcd-47b6-a4fd-8c159dbd1361",
   "metadata": {},
   "outputs": [
    {
     "name": "stdout",
     "output_type": "stream",
     "text": [
      "*       * \n",
      "*       * \n",
      "*       * \n",
      "*       * \n",
      "*       * \n",
      "*       * \n",
      "  * * *   \n"
     ]
    }
   ],
   "source": [
    "#Print U\n",
    "for row in range(7):\n",
    "    for col in range(5):\n",
    "        if ((col==0 or col==4 )and row!=6) or (row==6 and (col!=0 and col!=4)):\n",
    "            print(\"*\",end=\" \")\n",
    "        else:\n",
    "            print(\" \",end=\" \")\n",
    "    print()"
   ]
  },
  {
   "cell_type": "code",
   "execution_count": null,
   "id": "8db18e1c-c37b-4d29-a9a6-bf9df509cec1",
   "metadata": {},
   "outputs": [],
   "source": []
  }
 ],
 "metadata": {
  "kernelspec": {
   "display_name": "Python 3 (ipykernel)",
   "language": "python",
   "name": "python3"
  },
  "language_info": {
   "codemirror_mode": {
    "name": "ipython",
    "version": 3
   },
   "file_extension": ".py",
   "mimetype": "text/x-python",
   "name": "python",
   "nbconvert_exporter": "python",
   "pygments_lexer": "ipython3",
   "version": "3.12.4"
  }
 },
 "nbformat": 4,
 "nbformat_minor": 5
}
