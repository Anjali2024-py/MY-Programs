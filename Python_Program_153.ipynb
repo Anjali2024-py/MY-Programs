{
 "cells": [
  {
   "cell_type": "code",
   "execution_count": 2,
   "id": "14459dd8-118b-4339-97f2-787f9415915d",
   "metadata": {},
   "outputs": [
    {
     "name": "stdout",
     "output_type": "stream",
     "text": [
      "Substring 'world' found at index: 22\n"
     ]
    }
   ],
   "source": [
    "text='Hello, welcome to the world of Python!'\n",
    "result=text.rfind('world')\n",
    "print(f\"Substring 'world' found at index: {result}\")"
   ]
  },
  {
   "cell_type": "code",
   "execution_count": 4,
   "id": "3c62eeca-35cc-47ae-9f56-0a6ceaf1b247",
   "metadata": {},
   "outputs": [
    {
     "name": "stdout",
     "output_type": "stream",
     "text": [
      "Substring 'Python' found at index: 31\n"
     ]
    }
   ],
   "source": [
    "text=\"Hello, welcome to the world of Python! Python is amazing!\"\n",
    "result=text.rfind('Python',10,40)\n",
    "print(f\"Substring 'Python' found at index: {result}\")"
   ]
  },
  {
   "cell_type": "code",
   "execution_count": 5,
   "id": "0156268e-28de-4025-82f7-dede9c8ad114",
   "metadata": {},
   "outputs": [
    {
     "name": "stdout",
     "output_type": "stream",
     "text": [
      "Substring 'Java' found at index: -1\n"
     ]
    }
   ],
   "source": [
    "text = \"Hello, welcome to the world of Python!\"\n",
    "result = text.rfind(\"Java\")\n",
    "print(f\"Substring 'Java' found at index: {result}\")"
   ]
  },
  {
   "cell_type": "code",
   "execution_count": 6,
   "id": "74bf4877-b0b0-47a6-8857-611cb16e3a1a",
   "metadata": {},
   "outputs": [
    {
     "name": "stdout",
     "output_type": "stream",
     "text": [
      "The last occurrence of 'Python' is at index: 28\n"
     ]
    }
   ],
   "source": [
    "text = \"Python is a great language. Python is versatile.\"\n",
    "substring = \"Python\"\n",
    "result = text.rfind(substring)\n",
    "if result!=-1:\n",
    "    print(f\"The last occurrence of '{substring}' is at index: {result}\")\n",
    "else:\n",
    "    print(f\"'{substring}' was not found in the text.\")\n",
    "    "
   ]
  },
  {
   "cell_type": "code",
   "execution_count": 10,
   "id": "16117005-4e58-4e1a-9d63-6b575a642379",
   "metadata": {},
   "outputs": [
    {
     "name": "stdout",
     "output_type": "stream",
     "text": [
      "Found 'Python' at index: 39\n",
      "Found 'Python' at index: 19\n",
      "Found 'Python' at index: 0\n"
     ]
    }
   ],
   "source": [
    "text = \"Python is fun, and Python is powerful. Python is everywhere.\"\n",
    "substring = \"Python\"\n",
    "index=len(text)\n",
    "\n",
    "while index!=-1:\n",
    "    index=text.rfind(substring,0,index)\n",
    "    if index!= -1:\n",
    "        print(f\"Found '{substring}' at index: {index}\")\n",
    "        index-=1"
   ]
  },
  {
   "cell_type": "code",
   "execution_count": 11,
   "id": "1998f07e-a28c-42c7-9d5a-c33f5a008f32",
   "metadata": {},
   "outputs": [
    {
     "name": "stdout",
     "output_type": "stream",
     "text": [
      "The last occurrence of 'Python' before index 30 is at index: 0\n"
     ]
    }
   ],
   "source": [
    "text = \"Python is a powerful language. Python is fun.\"\n",
    "substring = \"Python\"\n",
    "result = text.rfind(substring, 0, 30)  # Searching in the range 0 to 30\n",
    "print(f\"The last occurrence of 'Python' before index 30 is at index: {result}\")\n"
   ]
  },
  {
   "cell_type": "code",
   "execution_count": 14,
   "id": "ad584d22-8e89-4026-9b19-8752e06a5e68",
   "metadata": {},
   "outputs": [
    {
     "name": "stdout",
     "output_type": "stream",
     "text": [
      "['Hello, World!', 'Welcome to Python programming.', 'Have a great day!']\n"
     ]
    }
   ],
   "source": [
    "text = \"Hello, World!\\nWelcome to Python programming.\\nHave a great day!\"\n",
    "lines=text.splitlines()\n",
    "print(lines)"
   ]
  },
  {
   "cell_type": "code",
   "execution_count": 17,
   "id": "8e31b729-cf87-4ab1-902c-ddb339a63119",
   "metadata": {},
   "outputs": [
    {
     "name": "stdout",
     "output_type": "stream",
     "text": [
      "[', World!\\n', 'Welcome to Python programming.\\n', 'Have a great day!']\n"
     ]
    }
   ],
   "source": [
    "text = \", World!\\nWelcome to Python programming.\\nHave a great day!\"\n",
    "lines_With_End=text.splitlines(keepends=True)\n",
    "print(lines_With_End)"
   ]
  },
  {
   "cell_type": "code",
   "execution_count": 18,
   "id": "87f80657-346d-4dcd-9123-d694a7de1d04",
   "metadata": {},
   "outputs": [
    {
     "name": "stdout",
     "output_type": "stream",
     "text": [
      "['First line', 'Second line', '', 'Fourth line']\n"
     ]
    }
   ],
   "source": [
    "text = \"First line\\nSecond line\\n\\nFourth line\"\n",
    "lines = text.splitlines()\n",
    "print(lines)"
   ]
  },
  {
   "cell_type": "code",
   "execution_count": 19,
   "id": "69fdbfc8-eaff-4954-aeff-a728cbea8b31",
   "metadata": {},
   "outputs": [
    {
     "name": "stdout",
     "output_type": "stream",
     "text": [
      "['This is a single line without any newline characters.']\n"
     ]
    }
   ],
   "source": [
    "text = \"This is a single line without any newline characters.\"\n",
    "lines = text.splitlines()\n",
    "print(lines)\n"
   ]
  },
  {
   "cell_type": "code",
   "execution_count": 20,
   "id": "40b42ac5-71ad-4aa8-a35e-07d34f90627e",
   "metadata": {},
   "outputs": [
    {
     "name": "stdout",
     "output_type": "stream",
     "text": [
      "['First line', 'Second line', 'Third line']\n"
     ]
    }
   ],
   "source": [
    "text = \"First line\\rSecond line\\rThird line\"\n",
    "lines = text.splitlines()\n",
    "print(lines)\n"
   ]
  },
  {
   "cell_type": "code",
   "execution_count": 21,
   "id": "04dc371b-0c6c-44ea-9f1b-c8362d0ac142",
   "metadata": {},
   "outputs": [
    {
     "name": "stdout",
     "output_type": "stream",
     "text": [
      "['Line 1', 'Line 2', 'Line 3']\n"
     ]
    }
   ],
   "source": [
    "text = \"\"\"Line 1\n",
    "Line 2\n",
    "Line 3\"\"\"\n",
    "lines = text.splitlines()\n",
    "print(lines)\n"
   ]
  },
  {
   "cell_type": "code",
   "execution_count": 22,
   "id": "9c26ebba-7a0b-41f0-a117-8c659ab10ff3",
   "metadata": {},
   "outputs": [
    {
     "name": "stdout",
     "output_type": "stream",
     "text": [
      "HELLo,wORLD\n"
     ]
    }
   ],
   "source": [
    "text='hellO,World'\n",
    "swapped_text=text.swapcase()\n",
    "print(swapped_text)"
   ]
  },
  {
   "cell_type": "code",
   "execution_count": 23,
   "id": "05e41fed-cf0c-493c-bb29-2aeb6256139b",
   "metadata": {},
   "outputs": [
    {
     "name": "stdout",
     "output_type": "stream",
     "text": [
      "pYTHON IS fUN\n"
     ]
    }
   ],
   "source": [
    "text='Python is Fun'\n",
    "swapped_text=text.swapcase()\n",
    "print(swapped_text)"
   ]
  },
  {
   "cell_type": "code",
   "execution_count": 24,
   "id": "21541f6b-ef38-4f3f-a625-9250b101d1b0",
   "metadata": {},
   "outputs": [
    {
     "name": "stdout",
     "output_type": "stream",
     "text": [
      "PYTHON PROGRAMMING\n"
     ]
    }
   ],
   "source": [
    "text = \"python programming\"\n",
    "swapped_text = text.swapcase()\n",
    "print(swapped_text)"
   ]
  },
  {
   "cell_type": "code",
   "execution_count": 25,
   "id": "8f6dafd6-7b68-4c9e-bab2-8b9d666cbd8f",
   "metadata": {},
   "outputs": [
    {
     "name": "stdout",
     "output_type": "stream",
     "text": [
      "hELLO123wORLD!\n"
     ]
    }
   ],
   "source": [
    "text = \"Hello123World!\"\n",
    "swapped_text = text.swapcase()\n",
    "print(swapped_text)"
   ]
  },
  {
   "cell_type": "code",
   "execution_count": 26,
   "id": "fd7186fd-c448-4468-8fa2-8bd96e947bc1",
   "metadata": {},
   "outputs": [
    {
     "name": "stdout",
     "output_type": "stream",
     "text": [
      "''\n"
     ]
    }
   ],
   "source": [
    "text = \"\"\n",
    "swapped_text = text.swapcase()\n",
    "print(f\"'{swapped_text}'\")"
   ]
  },
  {
   "cell_type": "code",
   "execution_count": 27,
   "id": "f08fa83f-087f-41e1-b469-bc6fd222c278",
   "metadata": {},
   "outputs": [
    {
     "name": "stdout",
     "output_type": "stream",
     "text": [
      "tHiS iS a mIxEd cAsE sTRiNG\n"
     ]
    }
   ],
   "source": [
    "text = \"ThIs Is A MiXeD CaSe StrIng\"\n",
    "swapped_text = text.swapcase()\n",
    "print(swapped_text)\n"
   ]
  },
  {
   "cell_type": "code",
   "execution_count": 28,
   "id": "e7df23b0-4458-4ff2-9678-49d15a88c6bd",
   "metadata": {},
   "outputs": [
    {
     "name": "stdout",
     "output_type": "stream",
     "text": [
      "Hello World\n"
     ]
    }
   ],
   "source": [
    "text = \"hello world\"\n",
    "titled_text = text.title()\n",
    "print(titled_text)"
   ]
  },
  {
   "cell_type": "code",
   "execution_count": 30,
   "id": "8f16d925-30e8-4a5e-80cd-5fcc267fac79",
   "metadata": {},
   "outputs": [
    {
     "name": "stdout",
     "output_type": "stream",
     "text": [
      "This Is A Python Example\n"
     ]
    }
   ],
   "source": [
    "text='this is a python EXAMPLE'\n",
    "titled_text=text.title()\n",
    "print(titled_text)"
   ]
  },
  {
   "cell_type": "code",
   "execution_count": 32,
   "id": "d1077935-0c34-484e-9794-9b62bf0971ce",
   "metadata": {},
   "outputs": [
    {
     "name": "stdout",
     "output_type": "stream",
     "text": [
      "Hello World 123 Python!\n"
     ]
    }
   ],
   "source": [
    "text = \"hello world 123 python!\"\n",
    "titled_text = text.title()\n",
    "print(titled_text)"
   ]
  },
  {
   "cell_type": "code",
   "execution_count": 33,
   "id": "79a0b77d-f84f-4ca8-9abf-438ab8e3da24",
   "metadata": {},
   "outputs": [
    {
     "name": "stdout",
     "output_type": "stream",
     "text": [
      "The Quick Brown Fox Jumps Over The Lazy Dog\n"
     ]
    }
   ],
   "source": [
    "text = \"The quick BROWN fOX jumps OVER the LAZY dog\"\n",
    "titled_text = text.title()\n",
    "print(titled_text)"
   ]
  },
  {
   "cell_type": "code",
   "execution_count": 34,
   "id": "789f8e19-7cb4-460b-aefd-16cbd3ddfa3f",
   "metadata": {},
   "outputs": [
    {
     "name": "stdout",
     "output_type": "stream",
     "text": [
      "'  Hello World From Python  '\n"
     ]
    }
   ],
   "source": [
    "text = \"  hello world from Python  \"\n",
    "titled_text = text.title()\n",
    "print(f\"'{titled_text}'\")\n"
   ]
  },
  {
   "cell_type": "code",
   "execution_count": 35,
   "id": "f7ea99d7-4a38-44a7-8125-31890d265aa0",
   "metadata": {},
   "outputs": [
    {
     "name": "stdout",
     "output_type": "stream",
     "text": [
      "Python Is An Interesting Language\n"
     ]
    }
   ],
   "source": [
    "text = \"Python is an INTERESTING language\"\n",
    "titled_text = text.title()\n",
    "print(titled_text)"
   ]
  },
  {
   "cell_type": "code",
   "execution_count": 36,
   "id": "f89cf403-8823-4ebb-ac96-0cb6751f793c",
   "metadata": {},
   "outputs": [
    {
     "ename": "TypeError",
     "evalue": "str.translate() takes exactly one argument (2 given)",
     "output_type": "error",
     "traceback": [
      "\u001b[1;31m---------------------------------------------------------------------------\u001b[0m",
      "\u001b[1;31mTypeError\u001b[0m                                 Traceback (most recent call last)",
      "Cell \u001b[1;32mIn[36], line 5\u001b[0m\n\u001b[0;32m      2\u001b[0m deletechars\u001b[38;5;241m=\u001b[39m\u001b[38;5;124m'\u001b[39m\u001b[38;5;124maeiou\u001b[39m\u001b[38;5;124m'\u001b[39m\n\u001b[0;32m      4\u001b[0m text\u001b[38;5;241m=\u001b[39m\u001b[38;5;124m'\u001b[39m\u001b[38;5;124mhello world\u001b[39m\u001b[38;5;124m'\u001b[39m\n\u001b[1;32m----> 5\u001b[0m translated_text\u001b[38;5;241m=\u001b[39mtext\u001b[38;5;241m.\u001b[39mtranslate(table,deletechars)\n\u001b[0;32m      6\u001b[0m \u001b[38;5;28mprint\u001b[39m(translated_text)\n",
      "\u001b[1;31mTypeError\u001b[0m: str.translate() takes exactly one argument (2 given)"
     ]
    }
   ],
   "source": [
    "table=str.maketrans('','')\n",
    "deletechars='aeiou'\n",
    "\n",
    "text='hello world'\n",
    "translated_text=text.translate(table,deletechars)\n",
    "print(translated_text)"
   ]
  },
  {
   "cell_type": "code",
   "execution_count": 38,
   "id": "42ad02e6-d18d-408b-9a14-c67fb950b5f1",
   "metadata": {},
   "outputs": [
    {
     "name": "stdout",
     "output_type": "stream",
     "text": [
      "hello world\n"
     ]
    }
   ],
   "source": [
    "# Creating a translation table\n",
    "table = str.maketrans('', '')  # Empty translation table\n",
    "deletechars = 'aeiou'\n",
    "\n",
    "# Translating the string using the table and deletechars\n",
    "text = \"hello world\"\n",
    "translated_text = text.translate(table)\n",
    "print(translated_text)\n"
   ]
  },
  {
   "cell_type": "code",
   "execution_count": 40,
   "id": "aa01f623-09ea-48d1-8dda-3be95dd6c732",
   "metadata": {},
   "outputs": [
    {
     "name": "stdout",
     "output_type": "stream",
     "text": [
      "hello world\n"
     ]
    }
   ],
   "source": [
    "deletechars=\" \\t\\n\\r\"\n",
    "table=str.maketrans(\"\",\"\",deletechars)\n",
    "\n",
    "text=\"hello world \\t with extra spaces \"\n",
    "translaed_text=text.translate(table)\n",
    "print(translated_text)"
   ]
  },
  {
   "cell_type": "code",
   "execution_count": 41,
   "id": "e8bfa53f-56c4-43c6-8daa-7dc60b5e05bd",
   "metadata": {},
   "outputs": [
    {
     "name": "stdout",
     "output_type": "stream",
     "text": [
      "h2ll3w3rld\n"
     ]
    }
   ],
   "source": [
    "table=str.maketrans('aeoui','12345')\n",
    "deletechars=' '\n",
    "\n",
    "table_delete=str.maketrans(\"\",\"\",deletechars)\n",
    "\n",
    "text=\"hello world\"\n",
    "translated_text=text.translate(table).translate(table_delete)\n",
    "print(translated_text)"
   ]
  },
  {
   "cell_type": "code",
   "execution_count": 42,
   "id": "c792a7aa-12da-47c6-b9db-e2b281a65154",
   "metadata": {},
   "outputs": [
    {
     "name": "stdout",
     "output_type": "stream",
     "text": [
      "00042\n"
     ]
    }
   ],
   "source": [
    "text = \"42\"\n",
    "padded_text = text.zfill(5)\n",
    "print(padded_text)"
   ]
  },
  {
   "cell_type": "code",
   "execution_count": 46,
   "id": "7d86d9b7-c40b-4963-96ca-3ffb83fad91c",
   "metadata": {},
   "outputs": [
    {
     "name": "stdout",
     "output_type": "stream",
     "text": [
      "42000\n"
     ]
    }
   ],
   "source": [
    "text = \"42\"\n",
    "padded_text = text.ljust(5,'0')\n",
    "print(padded_text)"
   ]
  },
  {
   "cell_type": "code",
   "execution_count": 48,
   "id": "dc8a3411-ebe7-458b-b6cb-dadd32a96c19",
   "metadata": {},
   "outputs": [
    {
     "name": "stdout",
     "output_type": "stream",
     "text": [
      "0012345\n"
     ]
    }
   ],
   "source": [
    "text='12345'\n",
    "padded_text=text.zfill(7)\n",
    "print(padded_text)"
   ]
  },
  {
   "cell_type": "code",
   "execution_count": 49,
   "id": "dfeceb9a-0ee5-4d97-97ed-34b39f0ec290",
   "metadata": {},
   "outputs": [
    {
     "name": "stdout",
     "output_type": "stream",
     "text": [
      "-00042\n"
     ]
    }
   ],
   "source": [
    "text = \"-42\"\n",
    "padded_text = text.zfill(6)\n",
    "print(padded_text)\n"
   ]
  },
  {
   "cell_type": "code",
   "execution_count": 51,
   "id": "c1ab03ff-abc4-48de-b65e-8e803a515921",
   "metadata": {},
   "outputs": [
    {
     "name": "stdout",
     "output_type": "stream",
     "text": [
      "0007\n"
     ]
    }
   ],
   "source": [
    "text = \"7\"\n",
    "padded_text = text.zfill(4)\n",
    "print(padded_text)"
   ]
  },
  {
   "cell_type": "code",
   "execution_count": 52,
   "id": "55ec08e2-8a5e-4ef1-b46f-44e38cc23881",
   "metadata": {},
   "outputs": [
    {
     "name": "stdout",
     "output_type": "stream",
     "text": [
      "00000\n"
     ]
    }
   ],
   "source": [
    "text = \"\"\n",
    "padded_text = text.zfill(5)\n",
    "print(padded_text)"
   ]
  },
  {
   "cell_type": "code",
   "execution_count": 53,
   "id": "430228dd-a709-4d48-978c-258e41758534",
   "metadata": {},
   "outputs": [
    {
     "name": "stdout",
     "output_type": "stream",
     "text": [
      "True\n"
     ]
    }
   ],
   "source": [
    "text = \"12345\"\n",
    "result = text.isdecimal()\n",
    "print(result)"
   ]
  },
  {
   "cell_type": "code",
   "execution_count": 54,
   "id": "323ca88c-e86b-4ff4-9af2-e136a61eab87",
   "metadata": {},
   "outputs": [
    {
     "name": "stdout",
     "output_type": "stream",
     "text": [
      "False\n"
     ]
    }
   ],
   "source": [
    "text = \"123a45\"\n",
    "result = text.isdecimal()\n",
    "print(result)"
   ]
  },
  {
   "cell_type": "code",
   "execution_count": 55,
   "id": "7812cf1c-a07a-4bd8-9e67-e68dc45ac71a",
   "metadata": {},
   "outputs": [
    {
     "name": "stdout",
     "output_type": "stream",
     "text": [
      "False\n"
     ]
    }
   ],
   "source": [
    "text=' 12345 '\n",
    "result=text.isdecimal()\n",
    "print(result)"
   ]
  },
  {
   "cell_type": "code",
   "execution_count": 56,
   "id": "2e996b7a-5b9a-40e7-aa1a-6733dcf8efe0",
   "metadata": {},
   "outputs": [
    {
     "name": "stdout",
     "output_type": "stream",
     "text": [
      "False\n"
     ]
    }
   ],
   "source": [
    "text = \"\"\n",
    "result = text.isdecimal()\n",
    "print(result)"
   ]
  },
  {
   "cell_type": "code",
   "execution_count": 57,
   "id": "825198a1-1e92-446d-a152-57dc239f2403",
   "metadata": {},
   "outputs": [
    {
     "name": "stdout",
     "output_type": "stream",
     "text": [
      "False\n"
     ]
    }
   ],
   "source": [
    "text = \"-12345\"\n",
    "result = text.isdecimal()\n",
    "print(result)"
   ]
  },
  {
   "cell_type": "code",
   "execution_count": 58,
   "id": "41bea7c4-cdb6-4c2f-ae37-24216eaefb55",
   "metadata": {},
   "outputs": [
    {
     "name": "stdout",
     "output_type": "stream",
     "text": [
      "True\n"
     ]
    }
   ],
   "source": [
    "text = \"٢٣٤٥\"  # Arabic-Indic digits\n",
    "result = text.isdecimal()\n",
    "print(result)\n"
   ]
  },
  {
   "cell_type": "code",
   "execution_count": 59,
   "id": "778e29a0-11c4-4986-bbfa-44fb571843a0",
   "metadata": {},
   "outputs": [
    {
     "name": "stdout",
     "output_type": "stream",
     "text": [
      "False\n"
     ]
    }
   ],
   "source": [
    "text = \"123.45\"\n",
    "result = text.isdecimal()\n",
    "print(result)"
   ]
  },
  {
   "cell_type": "code",
   "execution_count": 60,
   "id": "4e62ce54-3307-43fb-bc16-5147a6e9cda0",
   "metadata": {},
   "outputs": [
    {
     "name": "stdout",
     "output_type": "stream",
     "text": [
      "False\n"
     ]
    }
   ],
   "source": [
    "text = \"123/45\"\n",
    "result = text.isdecimal()\n",
    "print(result)"
   ]
  },
  {
   "cell_type": "code",
   "execution_count": 61,
   "id": "64ac1952-4e44-47c6-b558-ae78c9f2068c",
   "metadata": {},
   "outputs": [
    {
     "name": "stdout",
     "output_type": "stream",
     "text": [
      "'  hello   '\n"
     ]
    }
   ],
   "source": [
    "text = \"hello\"\n",
    "centered_text = text.center(10)\n",
    "print(f\"'{centered_text}'\")"
   ]
  },
  {
   "cell_type": "code",
   "execution_count": 62,
   "id": "61e9dfd4-a56c-490f-9e32-697ee00cdcc7",
   "metadata": {},
   "outputs": [
    {
     "name": "stdout",
     "output_type": "stream",
     "text": [
      "'--hello---'\n"
     ]
    }
   ],
   "source": [
    "text='hello'\n",
    "centered_text=text.center(10,'-')\n",
    "print(f\"'{centered_text}'\")"
   ]
  },
  {
   "cell_type": "code",
   "execution_count": 63,
   "id": "4b78e6b5-2de5-4a62-940f-525237b05b56",
   "metadata": {},
   "outputs": [
    {
     "name": "stdout",
     "output_type": "stream",
     "text": [
      "'**abc**'\n"
     ]
    }
   ],
   "source": [
    "text='abc'\n",
    "centered_text=text.center(7,'*')\n",
    "print(f\"'{centered_text}'\")"
   ]
  },
  {
   "cell_type": "code",
   "execution_count": 64,
   "id": "00050c8b-7d54-402b-9f8b-a326e8333341",
   "metadata": {},
   "outputs": [
    {
     "name": "stdout",
     "output_type": "stream",
     "text": [
      "'python programming'\n"
     ]
    }
   ],
   "source": [
    "text = \"python programming\"\n",
    "centered_text = text.center(10)\n",
    "print(f\"'{centered_text}'\")\n"
   ]
  },
  {
   "cell_type": "code",
   "execution_count": 65,
   "id": "8413bc0c-cfdb-40c9-836c-b14e159f50ab",
   "metadata": {},
   "outputs": [
    {
     "name": "stdout",
     "output_type": "stream",
     "text": [
      "'+apple++'\n"
     ]
    }
   ],
   "source": [
    "text = \"apple\"\n",
    "centered_text = text.center(8, '+')\n",
    "print(f\"'{centered_text}'\")"
   ]
  },
  {
   "cell_type": "code",
   "execution_count": 66,
   "id": "67ed1189-4bb8-4cf3-b09a-0c6e8018cd5e",
   "metadata": {},
   "outputs": [
    {
     "name": "stdout",
     "output_type": "stream",
     "text": [
      "'00X00'\n"
     ]
    }
   ],
   "source": [
    "text = \"X\"\n",
    "centered_text = text.center(5, '0')\n",
    "print(f\"'{centered_text}'\")"
   ]
  },
  {
   "cell_type": "code",
   "execution_count": 67,
   "id": "42f5cc43-b712-4fdd-aed3-dde3635c6afc",
   "metadata": {},
   "outputs": [
    {
     "name": "stdout",
     "output_type": "stream",
     "text": [
      "'*****hello*****'\n"
     ]
    }
   ],
   "source": [
    "text = \"hello\"\n",
    "centered_text = text.center(15, '*')\n",
    "print(f\"'{centered_text}'\")\n"
   ]
  },
  {
   "cell_type": "code",
   "execution_count": 68,
   "id": "3d1b904a-f343-440d-8519-b29b9df2705a",
   "metadata": {},
   "outputs": [
    {
     "name": "stdout",
     "output_type": "stream",
     "text": [
      "'----------'\n"
     ]
    }
   ],
   "source": [
    "text = \"\"\n",
    "centered_text = text.center(10, '-')\n",
    "print(f\"'{centered_text}'\")"
   ]
  },
  {
   "cell_type": "code",
   "execution_count": 69,
   "id": "ce17d0ac-07be-4493-b73b-4ee76c42e240",
   "metadata": {},
   "outputs": [
    {
     "name": "stdout",
     "output_type": "stream",
     "text": [
      "b'hello'\n"
     ]
    }
   ],
   "source": [
    "text='hello'\n",
    "encoded_text=text.encode('utf-8')\n",
    "print(encoded_text)"
   ]
  },
  {
   "cell_type": "code",
   "execution_count": 70,
   "id": "b58b3a58-0236-4cf4-960a-25f6f505a8c6",
   "metadata": {},
   "outputs": [
    {
     "name": "stdout",
     "output_type": "stream",
     "text": [
      "b'hello'\n"
     ]
    }
   ],
   "source": [
    "text = \"hello\"\n",
    "encoded_text = text.encode('ascii')\n",
    "print(encoded_text)"
   ]
  },
  {
   "cell_type": "code",
   "execution_count": 71,
   "id": "8cfed67e-ef29-462e-aa71-d5a2f1e3908b",
   "metadata": {},
   "outputs": [
    {
     "ename": "UnicodeEncodeError",
     "evalue": "'ascii' codec can't encode character '\\U0001f44b' in position 6: ordinal not in range(128)",
     "output_type": "error",
     "traceback": [
      "\u001b[1;31m---------------------------------------------------------------------------\u001b[0m",
      "\u001b[1;31mUnicodeEncodeError\u001b[0m                        Traceback (most recent call last)",
      "Cell \u001b[1;32mIn[71], line 2\u001b[0m\n\u001b[0;32m      1\u001b[0m text\u001b[38;5;241m=\u001b[39m\u001b[38;5;124m'\u001b[39m\u001b[38;5;124mhello 👋\u001b[39m\u001b[38;5;124m'\u001b[39m\n\u001b[1;32m----> 2\u001b[0m encoded_text\u001b[38;5;241m=\u001b[39mtext\u001b[38;5;241m.\u001b[39mencode(\u001b[38;5;124m'\u001b[39m\u001b[38;5;124mascii\u001b[39m\u001b[38;5;124m'\u001b[39m)\n\u001b[0;32m      3\u001b[0m \u001b[38;5;28mprint\u001b[39m(encoded_text)\n",
      "\u001b[1;31mUnicodeEncodeError\u001b[0m: 'ascii' codec can't encode character '\\U0001f44b' in position 6: ordinal not in range(128)"
     ]
    }
   ],
   "source": [
    "text='hello 👋'\n",
    "encoded_text=text.encode('ascii')\n",
    "print(encoded_text)"
   ]
  },
  {
   "cell_type": "code",
   "execution_count": 72,
   "id": "8031aeda-5269-4a3c-9e75-b76b573fbf6d",
   "metadata": {},
   "outputs": [
    {
     "name": "stdout",
     "output_type": "stream",
     "text": [
      "b'hello '\n"
     ]
    }
   ],
   "source": [
    "text =\"hello 👋\"\n",
    "encoded_text = text.encode('ascii', errors='ignore')\n",
    "print(encoded_text)"
   ]
  },
  {
   "cell_type": "code",
   "execution_count": 73,
   "id": "03d86209-6ec8-4ec7-9256-ce72d4aef506",
   "metadata": {},
   "outputs": [
    {
     "name": "stdout",
     "output_type": "stream",
     "text": [
      "b'hello ?'\n"
     ]
    }
   ],
   "source": [
    "text = \"hello 👋\"\n",
    "encoded_text = text.encode('ascii', errors='replace')\n",
    "print(encoded_text)\n"
   ]
  },
  {
   "cell_type": "code",
   "execution_count": 74,
   "id": "4ba049bd-c36e-4940-9df3-90801810e39b",
   "metadata": {},
   "outputs": [
    {
     "name": "stdout",
     "output_type": "stream",
     "text": [
      "b'\\xff\\xfeh\\x00e\\x00l\\x00l\\x00o\\x00'\n"
     ]
    }
   ],
   "source": [
    "text = \"hello\"\n",
    "encoded_text = text.encode('utf-16')\n",
    "print(encoded_text)"
   ]
  },
  {
   "cell_type": "code",
   "execution_count": 75,
   "id": "7c12786b-41a1-4554-aea8-87ff044f3a5f",
   "metadata": {},
   "outputs": [
    {
     "name": "stdout",
     "output_type": "stream",
     "text": [
      "b'aGVsbG8='\n"
     ]
    }
   ],
   "source": [
    "import base64\n",
    "text='hello'\n",
    "encoded_text=base64.b64encode(text.encode('utf-8'))\n",
    "print(encoded_text)"
   ]
  },
  {
   "cell_type": "code",
   "execution_count": 76,
   "id": "5694e915-f1a7-49cc-a557-c60fe47bff29",
   "metadata": {},
   "outputs": [
    {
     "name": "stdout",
     "output_type": "stream",
     "text": [
      "hello\n"
     ]
    }
   ],
   "source": [
    "encoded_text=b'hello'\n",
    "decoded_text=encoded_text.decode('utf-8')\n",
    "print(decoded_text)"
   ]
  },
  {
   "cell_type": "code",
   "execution_count": 77,
   "id": "dd027b0e-b01b-4fbc-a54a-af0d8eafc35e",
   "metadata": {},
   "outputs": [
    {
     "name": "stdout",
     "output_type": "stream",
     "text": [
      "b'caf\\xe9'\n"
     ]
    }
   ],
   "source": [
    "text = \"café\"\n",
    "encoded_text = text.encode('latin-1')\n",
    "print(encoded_text)"
   ]
  },
  {
   "cell_type": "code",
   "execution_count": 78,
   "id": "21b956ba-4d86-4482-a969-5aa047fd0088",
   "metadata": {},
   "outputs": [
    {
     "name": "stdout",
     "output_type": "stream",
     "text": [
      "4\n"
     ]
    }
   ],
   "source": [
    "text = \"hello world\"\n",
    "index_of_o = text.index('o')\n",
    "print(index_of_o)"
   ]
  },
  {
   "cell_type": "code",
   "execution_count": 79,
   "id": "f4cd575d-d54a-4884-afa2-a2bdf1c16367",
   "metadata": {},
   "outputs": [
    {
     "name": "stdout",
     "output_type": "stream",
     "text": [
      "6\n"
     ]
    }
   ],
   "source": [
    "text='hello world'\n",
    "index=text.index('world')\n",
    "print(index)"
   ]
  },
  {
   "cell_type": "code",
   "execution_count": 80,
   "id": "b9ca2cfe-4fb9-4e86-bb95-c79f4404285a",
   "metadata": {},
   "outputs": [
    {
     "name": "stdout",
     "output_type": "stream",
     "text": [
      "13\n"
     ]
    }
   ],
   "source": [
    "text = \"hello world, hello python\"\n",
    "index_of_hello = text.index('hello', 5)\n",
    "print(index_of_hello)"
   ]
  },
  {
   "cell_type": "code",
   "execution_count": 81,
   "id": "d9cb258d-06fb-4345-81cc-acbafd607ed4",
   "metadata": {},
   "outputs": [
    {
     "name": "stdout",
     "output_type": "stream",
     "text": [
      "Error:substring not found\n"
     ]
    }
   ],
   "source": [
    "text='hello world'\n",
    "try:\n",
    "    Index_of_x=text.index('x')\n",
    "except ValueError as e:\n",
    "    print(f\"Error:{e}\")"
   ]
  },
  {
   "cell_type": "code",
   "execution_count": 82,
   "id": "be2a0035-2f35-4cd4-abd6-5a7c958568a5",
   "metadata": {},
   "outputs": [
    {
     "name": "stdout",
     "output_type": "stream",
     "text": [
      "9\n"
     ]
    }
   ],
   "source": [
    "text = \"hello world\"\n",
    "index_of_l_after_5 = text.index('l', 5)\n",
    "print(index_of_l_after_5)"
   ]
  },
  {
   "cell_type": "code",
   "execution_count": 83,
   "id": "7946f174-26fa-4924-bbc8-c3c88a25a27a",
   "metadata": {},
   "outputs": [
    {
     "name": "stdout",
     "output_type": "stream",
     "text": [
      "Error: substring not found\n"
     ]
    }
   ],
   "source": [
    "text = \"\"\n",
    "try:\n",
    "    index_of_empty = text.index('a')\n",
    "except ValueError as e:\n",
    "    print(f\"Error: {e}\")\n"
   ]
  },
  {
   "cell_type": "code",
   "execution_count": 84,
   "id": "c1cbf1a1-c138-4f10-8714-81fb01238326",
   "metadata": {},
   "outputs": [
    {
     "name": "stdout",
     "output_type": "stream",
     "text": [
      "0\n"
     ]
    }
   ],
   "source": [
    "text = \"apple apple apple\"\n",
    "index_of_apple = text.index('apple')\n",
    "print(index_of_apple)\n"
   ]
  },
  {
   "cell_type": "code",
   "execution_count": 85,
   "id": "3013a09f-6082-4f11-8199-0cab7216daa4",
   "metadata": {},
   "outputs": [
    {
     "name": "stdout",
     "output_type": "stream",
     "text": [
      "4\n"
     ]
    }
   ],
   "source": [
    "text='hello world'\n",
    "index_o_o=text.find('o')\n",
    "print(index_of_o)"
   ]
  },
  {
   "cell_type": "code",
   "execution_count": 86,
   "id": "7f84a7d3-e13f-4bc7-b1b1-78ffd30145b9",
   "metadata": {},
   "outputs": [
    {
     "name": "stdout",
     "output_type": "stream",
     "text": [
      "6\n"
     ]
    }
   ],
   "source": [
    "text = \"hello world\"\n",
    "index_of_world = text.find('world')\n",
    "print(index_of_world)\n"
   ]
  },
  {
   "cell_type": "code",
   "execution_count": 87,
   "id": "7dc998d7-d3ac-4c14-b5b3-07701932f001",
   "metadata": {},
   "outputs": [
    {
     "name": "stdout",
     "output_type": "stream",
     "text": [
      "13\n"
     ]
    }
   ],
   "source": [
    "text = \"hello world, hello python\"\n",
    "index_of_hello = text.find('hello', 5)\n",
    "print(index_of_hello)\n"
   ]
  },
  {
   "cell_type": "code",
   "execution_count": 88,
   "id": "e6ca7a54-e26e-4b22-9b42-ffaf8b99a77d",
   "metadata": {},
   "outputs": [
    {
     "name": "stdout",
     "output_type": "stream",
     "text": [
      "-1\n"
     ]
    }
   ],
   "source": [
    "text = \"hello world\"\n",
    "index_of_x = text.find('x')\n",
    "print(index_of_x)\n"
   ]
  },
  {
   "cell_type": "code",
   "execution_count": 89,
   "id": "701b407e-6855-49d9-ac9a-1876bf3f1ac8",
   "metadata": {},
   "outputs": [
    {
     "name": "stdout",
     "output_type": "stream",
     "text": [
      "9\n"
     ]
    }
   ],
   "source": [
    "text = \"hello world\"\n",
    "index_of_l_after_5 = text.find('l', 5)\n",
    "print(index_of_l_after_5)\n"
   ]
  },
  {
   "cell_type": "code",
   "execution_count": 90,
   "id": "6de7d06f-5708-4340-9669-c63c71ef64aa",
   "metadata": {},
   "outputs": [
    {
     "name": "stdout",
     "output_type": "stream",
     "text": [
      "-1\n"
     ]
    }
   ],
   "source": [
    "text = \"\"\n",
    "index_of_a = text.find('a')\n",
    "print(index_of_a)\n"
   ]
  },
  {
   "cell_type": "code",
   "execution_count": 91,
   "id": "82e807fc-e688-4a9a-9814-0a20130e5b47",
   "metadata": {},
   "outputs": [
    {
     "name": "stdout",
     "output_type": "stream",
     "text": [
      "0\n"
     ]
    }
   ],
   "source": [
    "text = \"apple apple apple\"\n",
    "index_of_apple = text.find('apple')\n",
    "print(index_of_apple)\n"
   ]
  },
  {
   "cell_type": "code",
   "execution_count": 92,
   "id": "40f0ca52-00ae-47b2-ab90-c469bd72e9af",
   "metadata": {},
   "outputs": [
    {
     "name": "stdout",
     "output_type": "stream",
     "text": [
      "4\n"
     ]
    }
   ],
   "source": [
    "text = \"hello world\"\n",
    "index_of_o = text.find('o', 0, 5)\n",
    "print(index_of_o)\n"
   ]
  },
  {
   "cell_type": "code",
   "execution_count": 93,
   "id": "4cfe6391-bfbe-4176-affd-449d312bcccf",
   "metadata": {},
   "outputs": [
    {
     "name": "stdout",
     "output_type": "stream",
     "text": [
      "7\n"
     ]
    }
   ],
   "source": [
    "text = \"hello world\"\n",
    "index_of_o_in_range = text.find('o', 5, 10)\n",
    "print(index_of_o_in_range)\n"
   ]
  },
  {
   "cell_type": "code",
   "execution_count": null,
   "id": "2f7113a2-db20-4409-9b53-d3699b284137",
   "metadata": {},
   "outputs": [],
   "source": []
  }
 ],
 "metadata": {
  "kernelspec": {
   "display_name": "Python 3 (ipykernel)",
   "language": "python",
   "name": "python3"
  },
  "language_info": {
   "codemirror_mode": {
    "name": "ipython",
    "version": 3
   },
   "file_extension": ".py",
   "mimetype": "text/x-python",
   "name": "python",
   "nbconvert_exporter": "python",
   "pygments_lexer": "ipython3",
   "version": "3.12.4"
  }
 },
 "nbformat": 4,
 "nbformat_minor": 5
}
