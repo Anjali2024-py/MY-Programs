{
 "cells": [
  {
   "cell_type": "code",
   "execution_count": 5,
   "id": "790b1250-ceaa-4d11-b415-8fecaa1bb8a2",
   "metadata": {},
   "outputs": [
    {
     "name": "stdout",
     "output_type": "stream",
     "text": [
      "ASCII values A is 65\n",
      "ASCII values B is 66\n",
      "ASCII values C is 67\n",
      "ASCII values D is 68\n",
      "ASCII values E is 69\n",
      "ASCII values F is 70\n",
      "ASCII values G is 71\n",
      "ASCII values H is 72\n",
      "ASCII values I is 73\n",
      "ASCII values J is 74\n",
      "ASCII values K is 75\n",
      "ASCII values L is 76\n",
      "ASCII values M is 77\n",
      "ASCII values N is 78\n",
      "ASCII values O is 79\n",
      "ASCII values P is 80\n",
      "ASCII values Q is 81\n",
      "ASCII values R is 82\n",
      "ASCII values S is 83\n",
      "ASCII values T is 84\n",
      "ASCII values U is 85\n",
      "ASCII values V is 86\n",
      "ASCII values W is 87\n",
      "ASCII values X is 88\n",
      "ASCII values Y is 89\n",
      "ASCII values Z is 90\n"
     ]
    }
   ],
   "source": [
    "#PRint ASCII Values of characters write a program that prints the ASCII values of characters from A to Z\n",
    "for char in range(65,91):#ASCII values for A to Z\n",
    "      print(f\"ASCII values {chr(char)} is {char}\")\n"
   ]
  },
  {
   "cell_type": "code",
   "execution_count": 10,
   "id": "2a4c7f0e-3690-41f8-8ac9-99743cfc9684",
   "metadata": {},
   "outputs": [
    {
     "name": "stdout",
     "output_type": "stream",
     "text": [
      "['a']\n",
      "['a', 'c']\n",
      "['a', 'c', 'e']\n"
     ]
    }
   ],
   "source": [
    "#Write a program that Creates a list containing Element at even indexs from another lists\n",
    "Original_list=['a','b','c','d','e']\n",
    "even_indixed_list=[]\n",
    "for index in range(len(Original_list)):\n",
    "    if index%2==0:\n",
    "        even_indixed_list.append(Original_list[index])\n",
    "        print(even_indixed_list)"
   ]
  },
  {
   "cell_type": "code",
   "execution_count": 11,
   "id": "56fda3ff-66ff-46ed-9dee-0db154bba3d1",
   "metadata": {},
   "outputs": [
    {
     "name": "stdout",
     "output_type": "stream",
     "text": [
      "5\n",
      "4\n",
      "3\n",
      "2\n",
      "1\n",
      "Blast Off!\n"
     ]
    }
   ],
   "source": [
    "#Write a program that Counts down from 5 to 1,then prints\"Blastoff!\"\n",
    "for number in range(5,0,-1):\n",
    "    print(number)\n",
    "print(\"Blast Off!\")"
   ]
  },
  {
   "cell_type": "code",
   "execution_count": 14,
   "id": "9cd38d15-d4b1-4669-9395-b37a075a3884",
   "metadata": {},
   "outputs": [
    {
     "name": "stdout",
     "output_type": "stream",
     "text": [
      "Random even numbers: [50, 66, 80, 64, 82]\n"
     ]
    }
   ],
   "source": [
    "#Creates a list of 5 random even numbers between 1 to 100\n",
    "import random\n",
    "even_numbers=[]\n",
    "while len(even_numbers)<5:\n",
    "    num=random.randint(1,100)\n",
    "    if num%2==0:\n",
    "        even_numbers.append(num)\n",
    "print(\"Random even numbers:\",even_numbers)\n"
   ]
  },
  {
   "cell_type": "code",
   "execution_count": 15,
   "id": "0ad93661-d932-46a2-824f-78d29884fc51",
   "metadata": {},
   "outputs": [
    {
     "name": "stdout",
     "output_type": "stream",
     "text": [
      "Perfect Squares: [1, 2, 3, 4, 5, 6, 7, 8, 9, 10]\n"
     ]
    }
   ],
   "source": [
    "#Generate a list of perfect squares from 1 to 10:\n",
    "perfect_squares=[]\n",
    "for number in range(1,11):\n",
    "    perfect_squares.append(number)\n",
    "print(\"Perfect Squares:\",perfect_squares)"
   ]
  },
  {
   "cell_type": "code",
   "execution_count": null,
   "id": "d419fe2c-9f20-40d9-a420-b325910ef2d5",
   "metadata": {},
   "outputs": [],
   "source": []
  }
 ],
 "metadata": {
  "kernelspec": {
   "display_name": "Python 3 (ipykernel)",
   "language": "python",
   "name": "python3"
  },
  "language_info": {
   "codemirror_mode": {
    "name": "ipython",
    "version": 3
   },
   "file_extension": ".py",
   "mimetype": "text/x-python",
   "name": "python",
   "nbconvert_exporter": "python",
   "pygments_lexer": "ipython3",
   "version": "3.12.4"
  }
 },
 "nbformat": 4,
 "nbformat_minor": 5
}
