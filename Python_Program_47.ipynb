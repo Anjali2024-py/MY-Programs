{
 "cells": [
  {
   "cell_type": "code",
   "execution_count": 1,
   "id": "1a997406-bbcf-49b6-9c2c-8297db7fdc7c",
   "metadata": {},
   "outputs": [
    {
     "name": "stdout",
     "output_type": "stream",
     "text": [
      "The Concatenated list is: [1, 2, 3, 4, 5, 6, 7, 8, 9, 10]\n"
     ]
    }
   ],
   "source": [
    "#Write a program to concatenate the two lists\n",
    "list1=[1,2,3,4,5]\n",
    "list2=[6,7,8,9,10]\n",
    "for item in list2:\n",
    "    list1.append(item)\n",
    "print(\"The Concatenated list is:\", list1)"
   ]
  },
  {
   "cell_type": "code",
   "execution_count": 2,
   "id": "18f426b1-f323-44dd-b4b6-14e446a2968a",
   "metadata": {},
   "outputs": [
    {
     "name": "stdout",
     "output_type": "stream",
     "text": [
      "The unique numbers is: [1, 5, 2, 4, 9, 3, 6, 7]\n"
     ]
    }
   ],
   "source": [
    "#Write a program to remove duplicated values\n",
    "list=[1,5,2,2,4,1,9,3,5,6,7,4,5]\n",
    "unique_numbers=[]\n",
    "for num in list:\n",
    "    if num not in unique_numbers:\n",
    "        unique_numbers.append(num)\n",
    "print(\"The unique numbers is:\",unique_numbers)\n",
    "        "
   ]
  },
  {
   "cell_type": "code",
   "execution_count": 30,
   "id": "74db4b20-49e2-4da5-b010-d86f0756742f",
   "metadata": {},
   "outputs": [
    {
     "name": "stdout",
     "output_type": "stream",
     "text": [
      "8\n"
     ]
    }
   ],
   "source": [
    "numbers = [3, 5, 1, 8, 4]\n",
    "max_num = numbers[0]\n",
    "for number in numbers:\n",
    "    if number > max_num:\n",
    "        max_num = number\n",
    "print(max_num)"
   ]
  },
  {
   "cell_type": "code",
   "execution_count": 31,
   "id": "5ebad178-9ef1-4392-ab87-6d5170fe24f6",
   "metadata": {},
   "outputs": [
    {
     "name": "stdout",
     "output_type": "stream",
     "text": [
      "*****\n",
      "*****\n",
      "*****\n",
      "*****\n",
      "*****\n"
     ]
    }
   ],
   "source": [
    "n = 5\n",
    "for i in range(n):\n",
    "    print('*' * n)"
   ]
  },
  {
   "cell_type": "code",
   "execution_count": 34,
   "id": "2c4d68eb-70c9-4a07-b3f7-87e7e8665a94",
   "metadata": {},
   "outputs": [
    {
     "name": "stdout",
     "output_type": "stream",
     "text": [
      "5\n"
     ]
    }
   ],
   "source": [
    "num = 12345\n",
    "digit_count = 0\n",
    "for digit in str(num):\n",
    "    digit_count += 1\n",
    "print(digit_count)"
   ]
  },
  {
   "cell_type": "code",
   "execution_count": 35,
   "id": "94c021b5-d48a-4fdf-af1d-e42f58a64fc4",
   "metadata": {},
   "outputs": [
    {
     "name": "stdout",
     "output_type": "stream",
     "text": [
      "h: 104\n",
      "e: 101\n",
      "l: 108\n",
      "l: 108\n",
      "o: 111\n"
     ]
    }
   ],
   "source": [
    "text =\"hello\"\n",
    "for char in text:\n",
    "    print(f\"{char}: {ord(char)}\")"
   ]
  },
  {
   "cell_type": "code",
   "execution_count": 36,
   "id": "52099b02-d8df-4b0c-9795-f6c3ad22848b",
   "metadata": {},
   "outputs": [
    {
     "name": "stdout",
     "output_type": "stream",
     "text": [
      "a\n",
      "ab\n",
      "abc\n",
      "b\n",
      "bc\n",
      "c\n"
     ]
    }
   ],
   "source": [
    "#Print all substrings of a given string\n",
    "text = \"abc\"\n",
    "for i in range(len(text)):\n",
    "    for j in range(i + 1, len(text) + 1):\n",
    "        print(text[i:j])"
   ]
  },
  {
   "cell_type": "code",
   "execution_count": 37,
   "id": "4558191d-a0e2-4436-a9c4-b9bee3324937",
   "metadata": {},
   "outputs": [
    {
     "name": "stdout",
     "output_type": "stream",
     "text": [
      "[[1, 4], [2, 5], [3, 6]]\n"
     ]
    }
   ],
   "source": [
    "#Write a program to transpose a 2D matrix\n",
    "matrix = [[1, 2, 3], [4, 5, 6]]\n",
    "transposed = []\n",
    "for i in range(len(matrix[0])):\n",
    "    transposed_row = []\n",
    "    for row in matrix:\n",
    "        transposed_row.append(row[i])\n",
    "    transposed.append(transposed_row)\n",
    "print(transposed)"
   ]
  },
  {
   "cell_type": "code",
   "execution_count": 40,
   "id": "834adaa9-2b53-46bb-a9ea-918cdd53789a",
   "metadata": {},
   "outputs": [
    {
     "name": "stdout",
     "output_type": "stream",
     "text": [
      "Average: 65.1\n"
     ]
    }
   ],
   "source": [
    "#Generate 10 random numbers and calculate their average\n",
    "import random\n",
    "\n",
    "total = 0\n",
    "for _ in range(10):\n",
    "    num = random.randint(1, 100)\n",
    "    total += num\n",
    "print(\"Average:\", total / 10)\n"
   ]
  },
  {
   "cell_type": "code",
   "execution_count": 41,
   "id": "20f936af-22b1-418d-86aa-eab1cefbd3b0",
   "metadata": {},
   "outputs": [
    {
     "name": "stdout",
     "output_type": "stream",
     "text": [
      "[2, 3, 5, 7, 11, 13, 17, 19, 23, 29]\n"
     ]
    }
   ],
   "source": [
    "#Create a list of prime numbers up to a given number\n",
    "n = 30\n",
    "primes = []\n",
    "for num in range(2, n + 1):\n",
    "    is_prime = True\n",
    "    for i in range(2, int(num**0.5) + 1):\n",
    "        if num % i == 0:\n",
    "            is_prime = False\n",
    "            break\n",
    "    if is_prime:\n",
    "        primes.append(num)\n",
    "print(primes)\n"
   ]
  },
  {
   "cell_type": "code",
   "execution_count": null,
   "id": "d6d60ca7-1a91-42c8-a1ee-03c2b510e3ad",
   "metadata": {},
   "outputs": [],
   "source": []
  }
 ],
 "metadata": {
  "kernelspec": {
   "display_name": "Python 3 (ipykernel)",
   "language": "python",
   "name": "python3"
  },
  "language_info": {
   "codemirror_mode": {
    "name": "ipython",
    "version": 3
   },
   "file_extension": ".py",
   "mimetype": "text/x-python",
   "name": "python",
   "nbconvert_exporter": "python",
   "pygments_lexer": "ipython3",
   "version": "3.12.4"
  }
 },
 "nbformat": 4,
 "nbformat_minor": 5
}
