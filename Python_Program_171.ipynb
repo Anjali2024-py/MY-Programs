{
 "cells": [
  {
   "cell_type": "code",
   "execution_count": 1,
   "id": "d18f9ea1-e809-42f3-b23f-4b49d4cd3131",
   "metadata": {},
   "outputs": [
    {
     "name": "stdout",
     "output_type": "stream",
     "text": [
      "[]\n"
     ]
    }
   ],
   "source": [
    "numbers = [1, 2, 3, 4, 5]\n",
    "numbers.clear()  # Removes all elements from the list\n",
    "print(numbers)  "
   ]
  },
  {
   "cell_type": "code",
   "execution_count": 2,
   "id": "34176d30-f47f-429b-ba49-ce0eca0589cf",
   "metadata": {},
   "outputs": [
    {
     "name": "stdout",
     "output_type": "stream",
     "text": [
      "[]\n"
     ]
    }
   ],
   "source": [
    "fruits = [\"apple\", \"banana\", \"cherry\"]\n",
    "fruits.clear()  # Removes all elements from the list\n",
    "print(fruits) "
   ]
  },
  {
   "cell_type": "code",
   "execution_count": 3,
   "id": "1fa0a5d5-7085-4183-90a0-c397ce5d3e14",
   "metadata": {},
   "outputs": [
    {
     "name": "stdout",
     "output_type": "stream",
     "text": [
      "[]\n"
     ]
    }
   ],
   "source": [
    "mixed_list = [1, \"apple\", 3.14, True]\n",
    "mixed_list.clear()  # Removes all elements from the list\n",
    "print(mixed_list)"
   ]
  },
  {
   "cell_type": "code",
   "execution_count": 4,
   "id": "0730a247-e70d-4b3a-88bf-cdef5e472b1f",
   "metadata": {},
   "outputs": [
    {
     "name": "stdout",
     "output_type": "stream",
     "text": [
      "[]\n"
     ]
    }
   ],
   "source": [
    "empty_list = []\n",
    "empty_list.clear()  # List is already empty\n",
    "print(empty_list) \n"
   ]
  },
  {
   "cell_type": "code",
   "execution_count": 5,
   "id": "479afa30-bca7-4033-a7c7-22c8fb0fc3d3",
   "metadata": {},
   "outputs": [
    {
     "name": "stdout",
     "output_type": "stream",
     "text": [
      "[]\n"
     ]
    }
   ],
   "source": [
    "numbers = [10, 20, 30]\n",
    "numbers.append(40)  # Adding an element\n",
    "numbers.clear()  # Clears the list\n",
    "print(numbers) "
   ]
  },
  {
   "cell_type": "code",
   "execution_count": 6,
   "id": "2d572a15-728a-4776-8edc-565e9beca127",
   "metadata": {},
   "outputs": [
    {
     "name": "stdout",
     "output_type": "stream",
     "text": [
      "[]\n"
     ]
    }
   ],
   "source": [
    "nested_list = [[1, 2], [3, 4], [5, 6]]\n",
    "nested_list.clear()  # Removes all sublists from the list\n",
    "print(nested_list) "
   ]
  },
  {
   "cell_type": "code",
   "execution_count": 7,
   "id": "a7c63f92-02c8-4e67-8ccd-c5774341eb49",
   "metadata": {},
   "outputs": [
    {
     "name": "stdout",
     "output_type": "stream",
     "text": [
      "[1, 2, 3, 4, 5]\n",
      "[1, 2, 3, 4, 5, 6]\n"
     ]
    }
   ],
   "source": [
    "original_list = [1, 2, 3, 4, 5]\n",
    "copied_list = original_list.copy()  # Creates a shallow copy\n",
    "copied_list.append(6)  # Modify the copied list\n",
    "print(original_list)  \n",
    "print(copied_list)    \n"
   ]
  },
  {
   "cell_type": "code",
   "execution_count": 9,
   "id": "c62ca0a4-3555-4700-9722-1af03b47c3c4",
   "metadata": {},
   "outputs": [
    {
     "name": "stdout",
     "output_type": "stream",
     "text": [
      "['apple', 'banana', 'cherry']\n",
      "['apple', 'cherry']\n"
     ]
    }
   ],
   "source": [
    "fruits = [\"apple\", \"banana\", \"cherry\"]\n",
    "fruits_copy = fruits.copy()  # Creates a shallow copy\n",
    "fruits_copy.remove(\"banana\")  # Modify the copied list\n",
    "print(fruits) \n",
    "print(fruits_copy)  \n"
   ]
  },
  {
   "cell_type": "code",
   "execution_count": 10,
   "id": "3e496a68-8bec-4a0c-9987-8446883cb430",
   "metadata": {},
   "outputs": [
    {
     "name": "stdout",
     "output_type": "stream",
     "text": [
      "[[10, 2], [3, 4], [5, 6]]\n",
      "[[10, 2], [3, 4], [5, 6]]\n"
     ]
    }
   ],
   "source": [
    "nested_list = [[1, 2], [3, 4], [5, 6]]\n",
    "nested_copy = nested_list.copy()  # Creates a shallow copy\n",
    "nested_copy[0][0] = 10  # Modify an element inside a nested list\n",
    "print(nested_list)  \n",
    "print(nested_copy)  \n"
   ]
  },
  {
   "cell_type": "code",
   "execution_count": 11,
   "id": "98c4bb5b-0bfa-4d7e-8ad6-b2f8968bac18",
   "metadata": {},
   "outputs": [
    {
     "name": "stdout",
     "output_type": "stream",
     "text": [
      "[]\n",
      "[]\n"
     ]
    }
   ],
   "source": [
    "empty_list = []\n",
    "empty_copy = empty_list.copy()  # Creates a shallow copy\n",
    "print(empty_list)  \n",
    "print(empty_copy)  \n"
   ]
  },
  {
   "cell_type": "code",
   "execution_count": 12,
   "id": "9c9c784f-2548-4d5c-b510-c77731484b28",
   "metadata": {},
   "outputs": [
    {
     "name": "stdout",
     "output_type": "stream",
     "text": [
      "[10, 20, 30, 40]\n",
      "[10, 20, 30]\n"
     ]
    }
   ],
   "source": [
    "numbers = [10, 20, 30]\n",
    "numbers_copy = numbers.copy()  # Creates a shallow copy\n",
    "numbers.append(40)  # Modify the original list\n",
    "print(numbers)    \n",
    "print(numbers_copy) \n"
   ]
  },
  {
   "cell_type": "code",
   "execution_count": 13,
   "id": "2b24872d-224f-4bfa-8c40-2cd6884e7239",
   "metadata": {},
   "outputs": [
    {
     "name": "stdout",
     "output_type": "stream",
     "text": [
      "[[99, 2], [3, 4]]\n",
      "[[99, 2], [3, 4]]\n",
      "[[1, 2], [3, 4]]\n"
     ]
    }
   ],
   "source": [
    "import copy\n",
    "\n",
    "original_list = [[1, 2], [3, 4]]\n",
    "shallow_copy = original_list.copy()  # Shallow copy\n",
    "deep_copy = copy.deepcopy(original_list)  # Deep copy\n",
    "\n",
    "shallow_copy[0][0] = 99\n",
    "print(original_list)  \n",
    "print(shallow_copy)   \n",
    "print(deep_copy)      \n"
   ]
  },
  {
   "cell_type": "code",
   "execution_count": null,
   "id": "2ceeffee-4392-42ce-afd1-72d15d257e64",
   "metadata": {},
   "outputs": [],
   "source": []
  }
 ],
 "metadata": {
  "kernelspec": {
   "display_name": "Python 3 (ipykernel)",
   "language": "python",
   "name": "python3"
  },
  "language_info": {
   "codemirror_mode": {
    "name": "ipython",
    "version": 3
   },
   "file_extension": ".py",
   "mimetype": "text/x-python",
   "name": "python",
   "nbconvert_exporter": "python",
   "pygments_lexer": "ipython3",
   "version": "3.12.4"
  }
 },
 "nbformat": 4,
 "nbformat_minor": 5
}
