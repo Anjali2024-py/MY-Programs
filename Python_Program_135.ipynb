{
 "cells": [
  {
   "cell_type": "code",
   "execution_count": 1,
   "id": "25b3c213-101d-47c0-918c-dffa0258ef33",
   "metadata": {},
   "outputs": [
    {
     "name": "stdout",
     "output_type": "stream",
     "text": [
      "Index 0:apple\n",
      "Index 1:banana\n",
      "Index 2:cherry\n",
      "Index 3:date\n"
     ]
    }
   ],
   "source": [
    "fruits = ['apple', 'banana', 'cherry', 'date']\n",
    "\n",
    "for index,fruit in enumerate(fruits):\n",
    "    print(f\"Index {index}:{fruit}\")"
   ]
  },
  {
   "cell_type": "code",
   "execution_count": 2,
   "id": "3f24fdc5-612e-4421-ac07-15b9ddb9f435",
   "metadata": {},
   "outputs": [
    {
     "name": "stdout",
     "output_type": "stream",
     "text": [
      "Index 1:apple\n",
      "Index 2:banana\n",
      "Index 3:cherry\n",
      "Index 4:date\n"
     ]
    }
   ],
   "source": [
    "fruits = ['apple', 'banana', 'cherry', 'date']\n",
    "\n",
    "for index,fruit in enumerate(fruits,start=1):\n",
    "    print(f\"Index {index}:{fruit}\")"
   ]
  },
  {
   "cell_type": "code",
   "execution_count": 3,
   "id": "b86f4027-8fc0-424f-925c-9ccea5b5c2d5",
   "metadata": {},
   "outputs": [
    {
     "name": "stdout",
     "output_type": "stream",
     "text": [
      "{0: 'apple', 1: 'banana', 2: 'cherry', 3: 'date'}\n"
     ]
    }
   ],
   "source": [
    "fruits = ['apple', 'banana', 'cherry', 'date']\n",
    "fruit_dict={index:fruit for index,fruit in enumerate(fruits)}\n",
    "print(fruit_dict)"
   ]
  },
  {
   "cell_type": "code",
   "execution_count": 5,
   "id": "44457abe-c29a-42c3-a95e-bf08de99d84b",
   "metadata": {},
   "outputs": [
    {
     "name": "stdout",
     "output_type": "stream",
     "text": [
      "Index 0:Alice is 25 years old\n",
      "Index 1:Bob is 30 years old\n",
      "Index 2:Charlie is 35 years old\n",
      "Index 3:David is 40 years old\n"
     ]
    }
   ],
   "source": [
    "names = ['Alice', 'Bob', 'Charlie', 'David']\n",
    "ages=[25,30,35,40]\n",
    "\n",
    "for index,(name,age) in enumerate(zip(names,ages)):\n",
    "    print(f\"Index {index}:{name} is {age} years old\")"
   ]
  },
  {
   "cell_type": "code",
   "execution_count": 11,
   "id": "d4a22239-42ca-468d-a76e-7319dbb1a2c4",
   "metadata": {},
   "outputs": [
    {
     "name": "stdout",
     "output_type": "stream",
     "text": [
      "['index 0: apple ', 'index 1: banana ', 'index 2: cherry ', 'index 3: date ']\n"
     ]
    }
   ],
   "source": [
    "fruits = ['apple', 'banana', 'cherry', 'date']\n",
    "indexed_fruits=[f\"index {index}: {fruit} \"for index ,fruit in  enumerate(fruits)]\n",
    "print(indexed_fruits)"
   ]
  },
  {
   "cell_type": "code",
   "execution_count": null,
   "id": "8286da73-9003-42dc-ac72-5635615147fc",
   "metadata": {},
   "outputs": [],
   "source": []
  }
 ],
 "metadata": {
  "kernelspec": {
   "display_name": "Python 3 (ipykernel)",
   "language": "python",
   "name": "python3"
  },
  "language_info": {
   "codemirror_mode": {
    "name": "ipython",
    "version": 3
   },
   "file_extension": ".py",
   "mimetype": "text/x-python",
   "name": "python",
   "nbconvert_exporter": "python",
   "pygments_lexer": "ipython3",
   "version": "3.12.4"
  }
 },
 "nbformat": 4,
 "nbformat_minor": 5
}
