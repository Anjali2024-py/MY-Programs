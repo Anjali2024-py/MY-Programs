{
 "cells": [
  {
   "cell_type": "code",
   "execution_count": 1,
   "id": "b2877469-ae3f-4b47-8cc3-6e01abf841da",
   "metadata": {},
   "outputs": [
    {
     "name": "stdout",
     "output_type": "stream",
     "text": [
      "The string is in title case.\n"
     ]
    }
   ],
   "source": [
    "def check_title_case(input_string):\n",
    "    if input_string.istitle():\n",
    "        return \"The string is in title case.\"\n",
    "    else:\n",
    "        return \"The string is not in title case.\"\n",
    "user_input='Hello World'\n",
    "result=check_title_case(user_input)\n",
    "print(result)"
   ]
  },
  {
   "cell_type": "code",
   "execution_count": 2,
   "id": "fd42939b-60e4-4ef5-b0dc-b44b05b39ba7",
   "metadata": {},
   "outputs": [
    {
     "name": "stdout",
     "output_type": "stream",
     "text": [
      "The string is not in title case.\n"
     ]
    }
   ],
   "source": [
    "def check_title_case(input_string):\n",
    "    if input_string.istitle():\n",
    "        return \"The string is in title case.\"\n",
    "    else:\n",
    "        return \"The string is not in title case.\"\n",
    "\n",
    "# Main code\n",
    "user_input = \"Hello world\"\n",
    "result = check_title_case(user_input)\n",
    "print(result)\n"
   ]
  },
  {
   "cell_type": "code",
   "execution_count": 3,
   "id": "bc0a9019-619b-4f20-909e-2a38832328a9",
   "metadata": {},
   "outputs": [
    {
     "name": "stdout",
     "output_type": "stream",
     "text": [
      "hello world from python\n"
     ]
    }
   ],
   "source": [
    "words=['hello','world','from','python']\n",
    "result=' '.join(words)\n",
    "print(result)"
   ]
  },
  {
   "cell_type": "code",
   "execution_count": 4,
   "id": "77635969-5ce6-4d83-ab6d-c33c741267b7",
   "metadata": {},
   "outputs": [
    {
     "name": "stdout",
     "output_type": "stream",
     "text": [
      "banana, apple, cherry\n"
     ]
    }
   ],
   "source": [
    "words=['banana','apple','cherry']\n",
    "result=', '.join(words)\n",
    "print(result)"
   ]
  },
  {
   "cell_type": "code",
   "execution_count": 5,
   "id": "00fcd856-a7c0-47d8-a011-02865a571a1b",
   "metadata": {},
   "outputs": [
    {
     "name": "stdout",
     "output_type": "stream",
     "text": [
      "p-y-t-h-o-n\n"
     ]
    }
   ],
   "source": [
    "text='python'\n",
    "result='-'.join(text)\n",
    "print(result)"
   ]
  },
  {
   "cell_type": "code",
   "execution_count": null,
   "id": "4440a93d-9a18-4fab-a043-d9a98b800eab",
   "metadata": {},
   "outputs": [],
   "source": []
  }
 ],
 "metadata": {
  "kernelspec": {
   "display_name": "Python 3 (ipykernel)",
   "language": "python",
   "name": "python3"
  },
  "language_info": {
   "codemirror_mode": {
    "name": "ipython",
    "version": 3
   },
   "file_extension": ".py",
   "mimetype": "text/x-python",
   "name": "python",
   "nbconvert_exporter": "python",
   "pygments_lexer": "ipython3",
   "version": "3.12.4"
  }
 },
 "nbformat": 4,
 "nbformat_minor": 5
}
