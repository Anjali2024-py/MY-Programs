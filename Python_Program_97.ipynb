{
 "cells": [
  {
   "cell_type": "code",
   "execution_count": 1,
   "id": "cd6eaa5d-a41c-433a-b222-6cd08e488d66",
   "metadata": {},
   "outputs": [
    {
     "name": "stdout",
     "output_type": "stream",
     "text": [
      "500\n",
      "Deposited 200. New balance: 700\n",
      "Withdrew 100. New balance: 600\n"
     ]
    }
   ],
   "source": [
    "class Account:\n",
    "    def __init__(self, owner, balance):\n",
    "        self.owner = owner\n",
    "        self.__balance = balance  # Private variable (encapsulation)\n",
    "    \n",
    "    # Method to get the balance (getter)\n",
    "    def get_balance(self):\n",
    "        return self.__balance\n",
    "    \n",
    "    # Method to deposit money (setter)\n",
    "    def deposit(self, amount):\n",
    "        if amount > 0:\n",
    "            self.__balance += amount\n",
    "            print(f\"Deposited {amount}. New balance: {self.__balance}\")\n",
    "        else:\n",
    "            print(\"Deposit amount must be positive.\")\n",
    "    \n",
    "    # Method to withdraw money (setter)\n",
    "    def withdraw(self, amount):\n",
    "        if amount <= self.__balance:\n",
    "            self.__balance -= amount\n",
    "            print(f\"Withdrew {amount}. New balance: {self.__balance}\")\n",
    "        else:\n",
    "            print(\"Insufficient balance.\")\n",
    "    \n",
    "# Creating an account object\n",
    "acc = Account(\"Alice\", 500)\n",
    "\n",
    "# Accessing balance using the getter method\n",
    "print(acc.get_balance())  # Output: 500\n",
    "\n",
    "# Using deposit and withdraw methods\n",
    "acc.deposit(200)          # Output: Deposited 200. New balance: 700\n",
    "acc.withdraw(100)         # Output: Withdrew 100. New balance: 600\n",
    "\n",
    "# Direct access to the private variable is not allowed\n",
    "# print(acc.__balance)  # This would raise an AttributeError\n"
   ]
  },
  {
   "cell_type": "code",
   "execution_count": 2,
   "id": "f88cf467-75b6-4945-8411-edcede859ab9",
   "metadata": {},
   "outputs": [
    {
     "name": "stdout",
     "output_type": "stream",
     "text": [
      "Flying in the sky!\n",
      "Flying in the air at high speed!\n"
     ]
    }
   ],
   "source": [
    "class Bird:\n",
    "    def fly(self):\n",
    "        print(\"Flying in the sky!\")\n",
    "class Airplane:\n",
    "    def fly(self):\n",
    "        print(\"Flying in the air at high speed!\")\n",
    "\n",
    "def take_off(transport):\n",
    "    transport.fly() \n",
    "\n",
    "#Creating Objct\n",
    "bird=Bird()\n",
    "plane=Airplane()\n",
    "\n",
    "# Using the same method name, but different objects\n",
    "take_off(bird) \n",
    "take_off(plane)"
   ]
  },
  {
   "cell_type": "code",
   "execution_count": null,
   "id": "20f3c24d-0abb-45c1-8810-7a4b82199017",
   "metadata": {},
   "outputs": [],
   "source": []
  }
 ],
 "metadata": {
  "kernelspec": {
   "display_name": "Python 3 (ipykernel)",
   "language": "python",
   "name": "python3"
  },
  "language_info": {
   "codemirror_mode": {
    "name": "ipython",
    "version": 3
   },
   "file_extension": ".py",
   "mimetype": "text/x-python",
   "name": "python",
   "nbconvert_exporter": "python",
   "pygments_lexer": "ipython3",
   "version": "3.12.4"
  }
 },
 "nbformat": 4,
 "nbformat_minor": 5
}
