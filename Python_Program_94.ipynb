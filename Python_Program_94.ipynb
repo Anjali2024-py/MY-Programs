{
 "cells": [
  {
   "cell_type": "code",
   "execution_count": 5,
   "id": "bc15d482-d1d4-4aff-adcc-79c72d5382db",
   "metadata": {},
   "outputs": [
    {
     "name": "stdout",
     "output_type": "stream",
     "text": [
      " Hi i'm Alice and my age is 30\n"
     ]
    }
   ],
   "source": [
    "#Creating a Simple Class\n",
    "#This is a basic class that represents a Person\n",
    "class person:\n",
    "    def __init__(self,name,age):\n",
    "        self.name=name\n",
    "        self.age=age\n",
    "    def introduce(self):\n",
    "        print(f\" Hi i'm {self.name} and my age is {self.age}\")\n",
    "\n",
    "person1=person('Alice',30)\n",
    "person1.introduce()"
   ]
  },
  {
   "cell_type": "code",
   "execution_count": 9,
   "id": "6b5084c0-0c82-4a31-bcba-60475ca4c36f",
   "metadata": {},
   "outputs": [
    {
     "name": "stdout",
     "output_type": "stream",
     "text": [
      "The Tesla Model S has started\n",
      "The Tesla Model S has stopped\n"
     ]
    }
   ],
   "source": [
    "##Class with Methods and self\n",
    "#This program defines a Car class with methods to start and stop the car\n",
    "class Car:\n",
    "    def __init__(self,brand,model):\n",
    "        self.brand=brand\n",
    "        self.model=model\n",
    "        self.is_running=False\n",
    "    def Start(self):\n",
    "        self.is_running=True\n",
    "        print(f\"The {self.brand} {self.model} has started\")\n",
    "    def Stop(self):\n",
    "        self.is_running=False\n",
    "        print(f\"The {self.brand} {self.model} has stopped\")\n",
    "\n",
    "my_car=Car('Tesla','Model S')\n",
    "my_car.Start()\n",
    "my_car.Stop()"
   ]
  },
  {
   "cell_type": "code",
   "execution_count": null,
   "id": "613408c0-6a50-42c8-a78f-1a2bc0e79505",
   "metadata": {},
   "outputs": [],
   "source": []
  }
 ],
 "metadata": {
  "kernelspec": {
   "display_name": "Python 3 (ipykernel)",
   "language": "python",
   "name": "python3"
  },
  "language_info": {
   "codemirror_mode": {
    "name": "ipython",
    "version": 3
   },
   "file_extension": ".py",
   "mimetype": "text/x-python",
   "name": "python",
   "nbconvert_exporter": "python",
   "pygments_lexer": "ipython3",
   "version": "3.12.4"
  }
 },
 "nbformat": 4,
 "nbformat_minor": 5
}
