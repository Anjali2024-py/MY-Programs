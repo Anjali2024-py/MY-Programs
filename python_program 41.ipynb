{
 "cells": [
  {
   "cell_type": "code",
   "execution_count": 10,
   "id": "a2ac6a69-ce3c-4647-985e-bc7bce61c868",
   "metadata": {},
   "outputs": [
    {
     "name": "stdin",
     "output_type": "stream",
     "text": [
      "Enter number of rows: 5\n"
     ]
    },
    {
     "name": "stdout",
     "output_type": "stream",
     "text": [
      "        * 1 \n",
      "      * * 2 3 \n",
      "    * * * 3 4 5 \n",
      "  * * * * 4 5 6 7 \n",
      "* * * * * 5 6 7 8 9 \n",
      "5 4 3 2 1 1 3 5 7 9 \n",
      "  5 4 3 2 3 5 7 9 \n",
      "    5 4 3 5 7 9 \n",
      "      5 4 7 9 \n",
      "        5 9 \n"
     ]
    }
   ],
   "source": [
    "n=int(input(\"Enter number of rows:\"))\n",
    "for i in range(n):\n",
    "    m=i+1\n",
    "    for j in range(n-i-1):\n",
    "        print(\" \",end=\" \")\n",
    "    for j in range(i+1):\n",
    "        print(\"*\",end=\" \")\n",
    "    for j in range(i+1):\n",
    "        print(m,end=\" \")\n",
    "        m=m+1\n",
    "    print()\n",
    "for i in range(0,2*n,2):\n",
    "    k=i//2\n",
    "    for j in range(k):\n",
    "        print(\" \",end=\" \")\n",
    "    for j in range(n-k):\n",
    "        print(n-j,end=\" \")\n",
    "    for j in range(i,2*n,2):\n",
    "        print(j+1,end=\" \")\n",
    "    print()\n",
    "\n",
    "        \n",
    "    "
   ]
  },
  {
   "cell_type": "code",
   "execution_count": 21,
   "id": "a3734f00-25a9-4a2f-b241-14ac0055345d",
   "metadata": {},
   "outputs": [],
   "source": [
    "#Print painted sides of cube\n",
    "#three sided printed\n",
    "def side(s):\n",
    "    cube=s**3\n",
    "    return cube"
   ]
  },
  {
   "cell_type": "code",
   "execution_count": 22,
   "id": "b089b7c2-a3aa-4e05-a7d7-7fe0e6bf95cc",
   "metadata": {},
   "outputs": [
    {
     "data": {
      "text/plain": [
       "8"
      ]
     },
     "execution_count": 22,
     "metadata": {},
     "output_type": "execute_result"
    }
   ],
   "source": [
    "side(2)"
   ]
  },
  {
   "cell_type": "code",
   "execution_count": 25,
   "id": "86d4ba30-97de-4776-83d5-a95f6e3a6c71",
   "metadata": {},
   "outputs": [],
   "source": [
    "#1st side painted\n",
    "def no_of_cubes(n):\n",
    "    cubes=6*(n-2)**2\n",
    "    return cubes"
   ]
  },
  {
   "cell_type": "code",
   "execution_count": 27,
   "id": "66f1663c-6204-48ce-8f8a-b91ee1bcf4f5",
   "metadata": {},
   "outputs": [
    {
     "data": {
      "text/plain": [
       "54"
      ]
     },
     "execution_count": 27,
     "metadata": {},
     "output_type": "execute_result"
    }
   ],
   "source": [
    "no_of_cubes(5)"
   ]
  },
  {
   "cell_type": "code",
   "execution_count": 30,
   "id": "a151f010-5c24-4402-8ca4-d6e068cee3ec",
   "metadata": {},
   "outputs": [],
   "source": [
    "#2sided painted\n",
    "def numbers(n):\n",
    "    cubes=12*(n-2)\n",
    "    return cubes"
   ]
  },
  {
   "cell_type": "code",
   "execution_count": 31,
   "id": "0267afbe-26a4-4e48-a294-691f87123c25",
   "metadata": {},
   "outputs": [
    {
     "data": {
      "text/plain": [
       "0"
      ]
     },
     "execution_count": 31,
     "metadata": {},
     "output_type": "execute_result"
    }
   ],
   "source": [
    "numbers(2)"
   ]
  },
  {
   "cell_type": "code",
   "execution_count": 32,
   "id": "58d1f6ca-8fa0-45da-be77-183f3464b105",
   "metadata": {},
   "outputs": [],
   "source": [
    "#No sided painted\n",
    "def numbers(n):\n",
    "    no_cubes=(n-2)*3\n",
    "    return no_cubes"
   ]
  },
  {
   "cell_type": "code",
   "execution_count": 34,
   "id": "0a156741-c825-4b19-8086-6ea93e90f4ed",
   "metadata": {},
   "outputs": [
    {
     "data": {
      "text/plain": [
       "-3"
      ]
     },
     "execution_count": 34,
     "metadata": {},
     "output_type": "execute_result"
    }
   ],
   "source": [
    "numbers(1)"
   ]
  },
  {
   "cell_type": "code",
   "execution_count": null,
   "id": "cbacd441-2d59-4688-ae57-7ea67c7594b5",
   "metadata": {},
   "outputs": [],
   "source": []
  }
 ],
 "metadata": {
  "kernelspec": {
   "display_name": "Python 3 (ipykernel)",
   "language": "python",
   "name": "python3"
  },
  "language_info": {
   "codemirror_mode": {
    "name": "ipython",
    "version": 3
   },
   "file_extension": ".py",
   "mimetype": "text/x-python",
   "name": "python",
   "nbconvert_exporter": "python",
   "pygments_lexer": "ipython3",
   "version": "3.12.4"
  }
 },
 "nbformat": 4,
 "nbformat_minor": 5
}
