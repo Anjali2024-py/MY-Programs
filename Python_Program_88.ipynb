{
 "cells": [
  {
   "cell_type": "code",
   "execution_count": 1,
   "id": "cc208d01-813a-4200-8a5c-c1d36e68fb70",
   "metadata": {},
   "outputs": [
    {
     "name": "stdout",
     "output_type": "stream",
     "text": [
      "Cannot write None to a file:\n"
     ]
    }
   ],
   "source": [
    "#file Write Examle\n",
    "try:\n",
    "    with open ('file.txt','w') as file:\n",
    "        file.write(None)\n",
    "except TypeError:\n",
    "    print('Cannot write None to a file:')"
   ]
  },
  {
   "cell_type": "code",
   "execution_count": 6,
   "id": "3d0fd76e-68a7-4ed5-9024-d0b7bdb3a5f0",
   "metadata": {},
   "outputs": [
    {
     "name": "stdout",
     "output_type": "stream",
     "text": [
      "outer Error.\n"
     ]
    }
   ],
   "source": [
    "#Nested-Try-Except\n",
    "try:\n",
    "    try:\n",
    "        x=1/0\n",
    "    except ZeroDivisonError:\n",
    "        print(\"Inner Division Error.\")\n",
    "except Exception:\n",
    "    print(\"outer Error.\")\n",
    "        "
   ]
  },
  {
   "cell_type": "code",
   "execution_count": 8,
   "id": "a172ccaa-5e63-4eb8-9460-aba3ecd25af0",
   "metadata": {},
   "outputs": [
    {
     "name": "stdout",
     "output_type": "stream",
     "text": [
      "Operation timed out.\n"
     ]
    }
   ],
   "source": [
    "#Handling a timeout\n",
    "import time\n",
    "\n",
    "try:\n",
    "    time.sleep(2)\n",
    "    raise TimeoutError('Operation timed out.')\n",
    "except TimeoutError as e:\n",
    "    print(e)\n"
   ]
  },
  {
   "cell_type": "code",
   "execution_count": 9,
   "id": "33aa59d3-207f-410a-b292-46f084da73b1",
   "metadata": {},
   "outputs": [
    {
     "name": "stdout",
     "output_type": "stream",
     "text": [
      "An unexcepted error occured:name 'undefined_function' is not defined\n"
     ]
    }
   ],
   "source": [
    "#Dealing with unexcepted errors.\n",
    "try:\n",
    "    #code that might fail\n",
    "    undefined_function()\n",
    "except Exception as e:\n",
    "    print(f'An unexcepted error occured:{e}')"
   ]
  },
  {
   "cell_type": "code",
   "execution_count": 18,
   "id": "d65451fb-492b-4f08-9bd0-4cbaaca9a26e",
   "metadata": {},
   "outputs": [
    {
     "name": "stdout",
     "output_type": "stream",
     "text": [
      "Division by zero\n"
     ]
    }
   ],
   "source": [
    "#Handling multiple Exception i to function\n",
    "def risky_function():\n",
    "    try:\n",
    "        return 10 / 0\n",
    "    except ZeroDivisionError:\n",
    "        return 'Division by zero'\n",
    "    except Exception as e:\n",
    "        return f\"An error occurred: {e}\"\n",
    "\n",
    "# Calling the function and printing the result\n",
    "print(risky_function())\n"
   ]
  },
  {
   "cell_type": "code",
   "execution_count": null,
   "id": "d891280a-4c61-4a19-8506-afbf064c8ae4",
   "metadata": {},
   "outputs": [],
   "source": []
  },
  {
   "cell_type": "code",
   "execution_count": null,
   "id": "8b498747-4046-4408-b896-a5d1061ca8c0",
   "metadata": {},
   "outputs": [],
   "source": []
  }
 ],
 "metadata": {
  "kernelspec": {
   "display_name": "Python 3 (ipykernel)",
   "language": "python",
   "name": "python3"
  },
  "language_info": {
   "codemirror_mode": {
    "name": "ipython",
    "version": 3
   },
   "file_extension": ".py",
   "mimetype": "text/x-python",
   "name": "python",
   "nbconvert_exporter": "python",
   "pygments_lexer": "ipython3",
   "version": "3.12.4"
  }
 },
 "nbformat": 4,
 "nbformat_minor": 5
}
