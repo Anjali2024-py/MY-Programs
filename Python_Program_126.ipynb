{
 "cells": [
  {
   "cell_type": "code",
   "execution_count": 1,
   "id": "33f875d3-9a4a-42f1-abf0-6c0a648cbd73",
   "metadata": {},
   "outputs": [
    {
     "name": "stdout",
     "output_type": "stream",
     "text": [
      "Found 'P' , Breaking the loop.\n"
     ]
    }
   ],
   "source": [
    "text=\"Python Programming\"\n",
    "for char in text:\n",
    "   if char=='P':\n",
    "       print(\"Found 'P' , Breaking the loop.\")\n",
    "       break"
   ]
  },
  {
   "cell_type": "code",
   "execution_count": 2,
   "id": "9c2f3a20-7919-4144-875f-57a06108fa65",
   "metadata": {},
   "outputs": [
    {
     "name": "stdout",
     "output_type": "stream",
     "text": [
      "Breaking loop at value 10.\n"
     ]
    }
   ],
   "source": [
    "for i in range(1, 20):\n",
    "    if i >= 10 and i <= 15:\n",
    "        print(f\"Breaking loop at value {i}.\")\n",
    "        break"
   ]
  },
  {
   "cell_type": "code",
   "execution_count": 5,
   "id": "95284b7f-0e26-4823-ba9c-e2f8cb06d1eb",
   "metadata": {},
   "outputs": [
    {
     "name": "stdin",
     "output_type": "stream",
     "text": [
      "Enter a text: g\n",
      "Enter a text: h\n",
      "Enter a text: m\n",
      "Enter a text: 5\n"
     ]
    },
    {
     "name": "stdout",
     "output_type": "stream",
     "text": [
      "Found a digit,exiting: 5\n"
     ]
    }
   ],
   "source": [
    "while True:\n",
    "    text=input(\"Enter a text:\")\n",
    "    if text.isdigit():\n",
    "        print(f\"Found a digit,exiting: {text}\")\n",
    "        break"
   ]
  },
  {
   "cell_type": "code",
   "execution_count": 6,
   "id": "0dcbdcfc-70c2-4963-b0ec-152b3a8312bd",
   "metadata": {},
   "outputs": [
    {
     "name": "stdin",
     "output_type": "stream",
     "text": [
      "Guess the letter (a-z):  n\n"
     ]
    },
    {
     "name": "stdout",
     "output_type": "stream",
     "text": [
      "Try again.\n"
     ]
    },
    {
     "name": "stdin",
     "output_type": "stream",
     "text": [
      "Guess the letter (a-z):  bg\n"
     ]
    },
    {
     "name": "stdout",
     "output_type": "stream",
     "text": [
      "Try again.\n"
     ]
    },
    {
     "name": "stdin",
     "output_type": "stream",
     "text": [
      "Guess the letter (a-z):  g\n"
     ]
    },
    {
     "name": "stdout",
     "output_type": "stream",
     "text": [
      "Correct! You guessed the letter.\n"
     ]
    }
   ],
   "source": [
    "correct_letter = \"g\"\n",
    "while True:\n",
    "    guess = input(\"Guess the letter (a-z): \")\n",
    "    if guess == correct_letter:\n",
    "        print(\"Correct! You guessed the letter.\")\n",
    "        break\n",
    "    else:\n",
    "        print(\"Try again.\")"
   ]
  },
  {
   "cell_type": "code",
   "execution_count": 7,
   "id": "e141f09c-007a-479f-b82c-3841aa8fdf48",
   "metadata": {},
   "outputs": [
    {
     "name": "stdout",
     "output_type": "stream",
     "text": [
      "First repeating character:l\n"
     ]
    }
   ],
   "source": [
    "word='hello'\n",
    "for char in word:\n",
    "    if word.count(char)>1:\n",
    "        print(f\"First repeating character:{char}\")\n",
    "        break"
   ]
  },
  {
   "cell_type": "code",
   "execution_count": null,
   "id": "50f1f299-b56f-4334-bdb6-8d7f60c1c06f",
   "metadata": {},
   "outputs": [],
   "source": []
  }
 ],
 "metadata": {
  "kernelspec": {
   "display_name": "Python 3 (ipykernel)",
   "language": "python",
   "name": "python3"
  },
  "language_info": {
   "codemirror_mode": {
    "name": "ipython",
    "version": 3
   },
   "file_extension": ".py",
   "mimetype": "text/x-python",
   "name": "python",
   "nbconvert_exporter": "python",
   "pygments_lexer": "ipython3",
   "version": "3.12.4"
  }
 },
 "nbformat": 4,
 "nbformat_minor": 5
}
