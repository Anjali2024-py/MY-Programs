{
 "cells": [
  {
   "cell_type": "code",
   "execution_count": 2,
   "id": "0e45f3e2-8f08-4e5f-937a-22741a8f13ed",
   "metadata": {},
   "outputs": [
    {
     "name": "stdin",
     "output_type": "stream",
     "text": [
      "enter a number(between 1 to 10: 1\n"
     ]
    },
    {
     "name": "stdout",
     "output_type": "stream",
     "text": [
      "Too Low! Try Again\n"
     ]
    },
    {
     "name": "stdin",
     "output_type": "stream",
     "text": [
      "enter a number(between 1 to 10: 2\n"
     ]
    },
    {
     "name": "stdout",
     "output_type": "stream",
     "text": [
      "Too Low! Try Again\n"
     ]
    },
    {
     "name": "stdin",
     "output_type": "stream",
     "text": [
      "enter a number(between 1 to 10: 8\n"
     ]
    },
    {
     "name": "stdout",
     "output_type": "stream",
     "text": [
      "Too high! Try Again\n"
     ]
    },
    {
     "name": "stdin",
     "output_type": "stream",
     "text": [
      "enter a number(between 1 to 10: 7\n"
     ]
    },
    {
     "name": "stdout",
     "output_type": "stream",
     "text": [
      "Too high! Try Again\n"
     ]
    },
    {
     "name": "stdin",
     "output_type": "stream",
     "text": [
      "enter a number(between 1 to 10: 5\n"
     ]
    },
    {
     "name": "stdout",
     "output_type": "stream",
     "text": [
      "Congratulations! You have guessed correct number.\n"
     ]
    }
   ],
   "source": [
    "\n",
    "target_number=5\n",
    "while True:\n",
    "    guess=int(input(\"enter a number(between 1 to 10:\"))\n",
    "    if guess==target_number:\n",
    "        print(f\"Congratulations! You have guessed correct number.\")\n",
    "        break\n",
    "    elif guess<target_number:\n",
    "        print(f\"Too Low! Try Again\")\n",
    "    elif guess>target_number:\n",
    "        print(f\"Too high! Try Again\")\n",
    "        \n",
    "    \n",
    "                    "
   ]
  },
  {
   "cell_type": "code",
   "execution_count": 3,
   "id": "7f88dd73-0198-4ca2-95be-4c49e841b5a4",
   "metadata": {},
   "outputs": [
    {
     "name": "stdout",
     "output_type": "stream",
     "text": [
      "\n",
      "Menu\n",
      "1.Opetion 1\n",
      "2.Option 2\n",
      "3.Option 3\n",
      "4.Exist\n"
     ]
    },
    {
     "name": "stdin",
     "output_type": "stream",
     "text": [
      "Enter your choice 3\n"
     ]
    },
    {
     "name": "stdout",
     "output_type": "stream",
     "text": [
      "You have selected option 3\n",
      "\n",
      "Menu\n",
      "1.Opetion 1\n",
      "2.Option 2\n",
      "3.Option 3\n",
      "4.Exist\n"
     ]
    },
    {
     "name": "stdin",
     "output_type": "stream",
     "text": [
      "Enter your choice 2\n"
     ]
    },
    {
     "name": "stdout",
     "output_type": "stream",
     "text": [
      "You have selected option 2\n",
      "\n",
      "Menu\n",
      "1.Opetion 1\n",
      "2.Option 2\n",
      "3.Option 3\n",
      "4.Exist\n"
     ]
    },
    {
     "name": "stdin",
     "output_type": "stream",
     "text": [
      "Enter your choice 4\n"
     ]
    },
    {
     "name": "stdout",
     "output_type": "stream",
     "text": [
      "Existing the loop\n"
     ]
    }
   ],
   "source": [
    "while True:\n",
    "    print(\"\\nMenu\")\n",
    "    print(\"1.Opetion 1\")\n",
    "    print(\"2.Option 2\")\n",
    "    print(\"3.Option 3\")\n",
    "    print(\"4.Exist\")\n",
    "    choice=int(input(\"Enter your choice\"))\n",
    "    if choice==1:\n",
    "        print(\"You have selected option 1\")\n",
    "    elif choice==2:\n",
    "        print(\"You have selected option 2\")\n",
    "    elif choice==3:\n",
    "        print(\"You have selected option 3\")\n",
    "    elif choice==4:\n",
    "        print(\"Existing the loop\")\n",
    "        break\n",
    "    else:\n",
    "        print(\"Invalid Choice! Please Try again\")"
   ]
  },
  {
   "cell_type": "code",
   "execution_count": 5,
   "id": "09f2020e-0351-4b2c-83cb-d1e9ba07415f",
   "metadata": {},
   "outputs": [
    {
     "name": "stdout",
     "output_type": "stream",
     "text": [
      "found a multiple of 3 or 5: 3\n"
     ]
    }
   ],
   "source": [
    "for i in range(1,20):\n",
    "    if i%3==0 or i%5==0:\n",
    "        print(f\"found a multiple of 3 or 5: {i}\")\n",
    "        break"
   ]
  },
  {
   "cell_type": "code",
   "execution_count": 7,
   "id": "dd62df4d-7a15-411e-a886-d6d5f17c7714",
   "metadata": {},
   "outputs": [
    {
     "name": "stdout",
     "output_type": "stream",
     "text": [
      "Positve number: 12\n",
      "Positve number: 45\n",
      "Positve number: 2\n",
      " Found a negative number : -6. Breaking the loop.\n"
     ]
    }
   ],
   "source": [
    "numbers=[12,45,2,-6,8,7]\n",
    "for number in numbers:\n",
    "    if number<0:\n",
    "        print(f\" Found a negative number : {number}. Breaking the loop.\")\n",
    "        break\n",
    "    print(f\"Positve number: {number}\")"
   ]
  },
  {
   "cell_type": "code",
   "execution_count": 8,
   "id": "44a113bd-e037-4ead-a72b-05f2ea0907dd",
   "metadata": {},
   "outputs": [
    {
     "name": "stdout",
     "output_type": "stream",
     "text": [
      "10\n",
      "9\n",
      "8\n",
      "7\n",
      "6\n",
      "Half there! Stopping countdown.\n"
     ]
    }
   ],
   "source": [
    "countdown=10\n",
    "while countdown>0:\n",
    "    print(countdown)\n",
    "    countdown-=1\n",
    "    if countdown==5:\n",
    "        print(\"Half there! Stopping countdown.\")\n",
    "        break"
   ]
  },
  {
   "cell_type": "code",
   "execution_count": null,
   "id": "9dbb5118-f270-4faf-8858-f9ae6729044f",
   "metadata": {},
   "outputs": [],
   "source": []
  }
 ],
 "metadata": {
  "kernelspec": {
   "display_name": "Python 3 (ipykernel)",
   "language": "python",
   "name": "python3"
  },
  "language_info": {
   "codemirror_mode": {
    "name": "ipython",
    "version": 3
   },
   "file_extension": ".py",
   "mimetype": "text/x-python",
   "name": "python",
   "nbconvert_exporter": "python",
   "pygments_lexer": "ipython3",
   "version": "3.12.4"
  }
 },
 "nbformat": 4,
 "nbformat_minor": 5
}
