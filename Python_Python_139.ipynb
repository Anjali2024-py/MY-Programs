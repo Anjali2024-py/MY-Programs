{
 "cells": [
  {
   "cell_type": "code",
   "execution_count": 5,
   "id": "b32a8983-5e36-4c98-8f74-4e588e3d941f",
   "metadata": {},
   "outputs": [
    {
     "name": "stdout",
     "output_type": "stream",
     "text": [
      "Total interations: 10\n"
     ]
    }
   ],
   "source": [
    "count=0\n",
    "\n",
    "for index,_ in enumerate(range(10)):\n",
    "    count+=1\n",
    "print(f\"Total interations: {count}\")"
   ]
  },
  {
   "cell_type": "code",
   "execution_count": 7,
   "id": "5f5002e2-aa3b-4f2a-87e7-413267d6f6ce",
   "metadata": {},
   "outputs": [
    {
     "name": "stdout",
     "output_type": "stream",
     "text": [
      "Index 0: apple\n",
      "Index 1: banana\n",
      "Index 2: cherry\n"
     ]
    }
   ],
   "source": [
    "fruits=['apple','banana','cherry']\n",
    "\n",
    "i=0\n",
    "while i< len(fruits):\n",
    "    print(f\"Index {i}: {fruits[i]}\")\n",
    "    i+=1"
   ]
  },
  {
   "cell_type": "code",
   "execution_count": 8,
   "id": "ad1566b4-952b-47c9-b61f-42959956a7a0",
   "metadata": {},
   "outputs": [
    {
     "name": "stdout",
     "output_type": "stream",
     "text": [
      "['APPLE', 'BANANA', 'CHERRY']\n"
     ]
    }
   ],
   "source": [
    "fruits=['apple','banana','cherry']\n",
    "for index,fruit in enumerate(fruits):\n",
    "    fruits[index]=fruit.upper()\n",
    "\n",
    "print(fruits)"
   ]
  },
  {
   "cell_type": "code",
   "execution_count": 11,
   "id": "5c9ae12b-2eed-417e-942b-f307f43e0657",
   "metadata": {},
   "outputs": [
    {
     "name": "stdout",
     "output_type": "stream",
     "text": [
      "['apple', 'cherry', 'elderberry']\n"
     ]
    }
   ],
   "source": [
    "words=['apple','banana','cherry','date','elderberry']\n",
    "even_words=[word for index,word in enumerate(words) if index%2==0]\n",
    "print(even_words)"
   ]
  },
  {
   "cell_type": "code",
   "execution_count": 12,
   "id": "abb850ae-b1a5-4f32-90dc-269c82e873ba",
   "metadata": {},
   "outputs": [
    {
     "name": "stdout",
     "output_type": "stream",
     "text": [
      "[100, 400, 900, 1600, 2500]\n"
     ]
    }
   ],
   "source": [
    "numbers=[10,20,30,40,50]\n",
    "squared=[num** 2 for index,num in enumerate(numbers)]\n",
    "print(squared)"
   ]
  },
  {
   "cell_type": "code",
   "execution_count": null,
   "id": "fa4abb29-9af1-4a25-8755-dc305e0d6a5b",
   "metadata": {},
   "outputs": [],
   "source": []
  }
 ],
 "metadata": {
  "kernelspec": {
   "display_name": "Python 3 (ipykernel)",
   "language": "python",
   "name": "python3"
  },
  "language_info": {
   "codemirror_mode": {
    "name": "ipython",
    "version": 3
   },
   "file_extension": ".py",
   "mimetype": "text/x-python",
   "name": "python",
   "nbconvert_exporter": "python",
   "pygments_lexer": "ipython3",
   "version": "3.12.4"
  }
 },
 "nbformat": 4,
 "nbformat_minor": 5
}
