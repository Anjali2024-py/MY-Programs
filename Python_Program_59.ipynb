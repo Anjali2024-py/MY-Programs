{
 "cells": [
  {
   "cell_type": "code",
   "execution_count": 4,
   "id": "bcfc3c32-ff7e-474f-bf6a-c6869f1a9a9f",
   "metadata": {},
   "outputs": [
    {
     "name": "stdout",
     "output_type": "stream",
     "text": [
      "['fig', 'apple', 'banana', 'grapes', 'orange']\n"
     ]
    }
   ],
   "source": [
    "#LAmbda for custon sorting create a lambda function that sorts a list of strings based ontheir length\n",
    "#use the list\n",
    "fruits=['apple','banana','grapes','fig','orange']\n",
    "sorted_fruits=sorted(fruits,key=lambda x:len(x))\n",
    "print(sorted_fruits)\n"
   ]
  },
  {
   "cell_type": "code",
   "execution_count": 7,
   "id": "1fefdb34-8a03-43de-a342-c3a4a849bac0",
   "metadata": {},
   "outputs": [
    {
     "name": "stdout",
     "output_type": "stream",
     "text": [
      "[5, 7, 9]\n"
     ]
    }
   ],
   "source": [
    "#Comibining lambda with zip()\n",
    "#Use a lambda function with zip() to add corresponding elements of two lists:\n",
    "list1=[1,2,3]\n",
    "list2=[4,5,6]\n",
    "add_list1_list2=list(map(lambda x:x[0]+x[1],zip(list1,list2)))\n",
    "print(add_list1_list2)"
   ]
  },
  {
   "cell_type": "code",
   "execution_count": 12,
   "id": "9bb192ae-01f5-41ff-93ef-a857226cbe68",
   "metadata": {},
   "outputs": [
    {
     "name": "stdout",
     "output_type": "stream",
     "text": [
      "['Alice', 'Bob']\n"
     ]
    }
   ],
   "source": [
    "#lambda for extracting values given a list of dictionaries\n",
    "#write a lambda function to extract all names\n",
    "data=[{'name':'Alice','age':30},{'name':'Bob','age':25}]\n",
    "extract_names=list(map(lambda x:x['name'],data))\n",
    "print(extract_names)"
   ]
  },
  {
   "cell_type": "code",
   "execution_count": 15,
   "id": "d61307a2-ba1c-41d3-920e-f91d425057ec",
   "metadata": {},
   "outputs": [
    {
     "name": "stdout",
     "output_type": "stream",
     "text": [
      "15\n",
      "8\n"
     ]
    }
   ],
   "source": [
    "#Lambda with default parametres.Create a lambda function that takes two parametres(x,y) and rturn their sum ,but \n",
    "# defaults y to 10 if its not provided\n",
    "def add(x,y=10):\n",
    "    return(lambda x,y:x+y)(x,y)\n",
    "result_with_default=add(5)\n",
    "result_without_default=add(3,5)\n",
    "print(result_with_default)\n",
    "print(result_without_default)"
   ]
  },
  {
   "cell_type": "code",
   "execution_count": 16,
   "id": "06842a25-646d-4d17-9285-83b28e1b3b88",
   "metadata": {},
   "outputs": [
    {
     "name": "stdout",
     "output_type": "stream",
     "text": [
      "['apple', 'avocado']\n"
     ]
    }
   ],
   "source": [
    "#Lambda with filter use lambda function to filter out workds that starts with tthe later'a' from the list\n",
    "fruits=['apple','grapes','banana','fig','avocado']\n",
    "filtred_Fruits=list(filter(lambda x:x[0]=='a',fruits))\n",
    "print(filtred_Fruits)"
   ]
  },
  {
   "cell_type": "code",
   "execution_count": 17,
   "id": "34383bad-49ee-415e-a5b5-bd1d78c09c9f",
   "metadata": {},
   "outputs": [
    {
     "name": "stdout",
     "output_type": "stream",
     "text": [
      "['grapes', 'banana', 'fig']\n"
     ]
    }
   ],
   "source": [
    "#Lambda with filter use lambda function to filter out workds that starts with tthe later'a' from the list\n",
    "fruits=['apple','grapes','banana','fig','avocado']\n",
    "filtred_Fruits=list(filter(lambda x:not x.startswith('a'),fruits))\n",
    "print(filtred_Fruits)"
   ]
  },
  {
   "cell_type": "code",
   "execution_count": null,
   "id": "724a50fa-3c10-434e-b5f6-8e94bc6388a9",
   "metadata": {},
   "outputs": [],
   "source": []
  }
 ],
 "metadata": {
  "kernelspec": {
   "display_name": "Python 3 (ipykernel)",
   "language": "python",
   "name": "python3"
  },
  "language_info": {
   "codemirror_mode": {
    "name": "ipython",
    "version": 3
   },
   "file_extension": ".py",
   "mimetype": "text/x-python",
   "name": "python",
   "nbconvert_exporter": "python",
   "pygments_lexer": "ipython3",
   "version": "3.12.4"
  }
 },
 "nbformat": 4,
 "nbformat_minor": 5
}
