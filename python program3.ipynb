{
 "cells": [
  {
   "cell_type": "code",
   "execution_count": 1,
   "id": "d96854f6-a699-472c-b7df-fa10a9dd7501",
   "metadata": {},
   "outputs": [
    {
     "data": {
      "text/plain": [
       "False"
      ]
     },
     "execution_count": 1,
     "metadata": {},
     "output_type": "execute_result"
    }
   ],
   "source": [
    "#isinstance check whearge the value belong to particular data or not\n",
    "isinstance(3,float)"
   ]
  },
  {
   "cell_type": "code",
   "execution_count": 2,
   "id": "b7533823-ff39-455e-be90-d3ea68098342",
   "metadata": {},
   "outputs": [
    {
     "data": {
      "text/plain": [
       "True"
      ]
     },
     "execution_count": 2,
     "metadata": {},
     "output_type": "execute_result"
    }
   ],
   "source": [
    "isinstance(0,int)"
   ]
  },
  {
   "cell_type": "code",
   "execution_count": 3,
   "id": "bb34bb25-3bed-499f-b828-fe415b5577f0",
   "metadata": {},
   "outputs": [
    {
     "data": {
      "text/plain": [
       "False"
      ]
     },
     "execution_count": 3,
     "metadata": {},
     "output_type": "execute_result"
    }
   ],
   "source": [
    "isinstance(4.2,str)"
   ]
  },
  {
   "cell_type": "code",
   "execution_count": 9,
   "id": "ea9dc20d-ced9-45bd-84b5-b792bbefdd20",
   "metadata": {},
   "outputs": [
    {
     "data": {
      "text/plain": [
       "28"
      ]
     },
     "execution_count": 9,
     "metadata": {},
     "output_type": "execute_result"
    }
   ],
   "source": [
    "#getsize of it returns the value is in which data type and returns the byte of that dtata type\n",
    "import sys\n",
    "sys.getsizeof(3)"
   ]
  },
  {
   "cell_type": "code",
   "execution_count": 12,
   "id": "c7fbb391-a394-4715-b22d-24503efa2b10",
   "metadata": {},
   "outputs": [
    {
     "name": "stdout",
     "output_type": "stream",
     "text": [
      "anjali\n",
      "<class 'str'>\n",
      "False\n",
      "47\n"
     ]
    }
   ],
   "source": [
    "import sys\n",
    "x=\"anjali\"\n",
    "print(x)\n",
    "print(type(x))\n",
    "print(isinstance(x,int))\n",
    "print(sys.getsizeof(x))"
   ]
  },
  {
   "cell_type": "code",
   "execution_count": 6,
   "id": "71abb047-ef16-484c-8f57-531547b2270d",
   "metadata": {},
   "outputs": [
    {
     "name": "stdout",
     "output_type": "stream",
     "text": [
      "this condition is false\n"
     ]
    }
   ],
   "source": [
    "x=10\n",
    "if(x<4):\n",
    "    print(\"this condition is true\")\n",
    "elif(x!=4):\n",
    "    print(\"this condition is false\")\n",
    "elif(x==10):\n",
    "    print(\"this condition is equal to \")\n",
    "else:\n",
    "    print(\"nothing is true\")"
   ]
  },
  {
   "cell_type": "code",
   "execution_count": 12,
   "id": "ff576afe-2941-4ca8-bc03-da03373df904",
   "metadata": {},
   "outputs": [
    {
     "name": "stdin",
     "output_type": "stream",
     "text": [
      "enter any value 100\n"
     ]
    },
    {
     "name": "stdout",
     "output_type": "stream",
     "text": [
      "Outstanding\n"
     ]
    }
   ],
   "source": [
    "y=int(input(\"enter any value\"))\n",
    "if(y<=35):\n",
    "    print(\"Fail\")\n",
    "elif(y<=50):\n",
    "    print(\"just pass\")\n",
    "elif(y<=80):\n",
    "    print(\"B grade\")\n",
    "elif(y<=95):\n",
    "    print(\"A grade\")\n",
    "else:\n",
    "    print(\"Outstanding\")"
   ]
  },
  {
   "cell_type": "code",
   "execution_count": 14,
   "id": "ab112d2f-f5d9-452b-8489-32c18918c9bc",
   "metadata": {},
   "outputs": [
    {
     "data": {
      "text/plain": [
       "'Good Morning Have a Nice day!'"
      ]
     },
     "execution_count": 14,
     "metadata": {},
     "output_type": "execute_result"
    }
   ],
   "source": [
    "# Concatenation\n",
    "\"Good Morning\"+\" \"+\"Have a Nice day!\""
   ]
  },
  {
   "cell_type": "code",
   "execution_count": 15,
   "id": "0e42c8d7-502b-4fb4-aadd-fd430d22104a",
   "metadata": {},
   "outputs": [],
   "source": [
    "str1=\"Hello EveryOne\""
   ]
  },
  {
   "cell_type": "code",
   "execution_count": 16,
   "id": "dec879ad-a646-4595-a1a0-61c6cffd5de1",
   "metadata": {},
   "outputs": [
    {
     "data": {
      "text/plain": [
       "'Hello EveryOne'"
      ]
     },
     "execution_count": 16,
     "metadata": {},
     "output_type": "execute_result"
    }
   ],
   "source": [
    "str1"
   ]
  },
  {
   "cell_type": "code",
   "execution_count": 18,
   "id": "42fa6c8d-2714-4af2-b6e4-5b50d5c05574",
   "metadata": {},
   "outputs": [
    {
     "data": {
      "text/plain": [
       "'llo E'"
      ]
     },
     "execution_count": 18,
     "metadata": {},
     "output_type": "execute_result"
    }
   ],
   "source": [
    "str1[2:7]"
   ]
  },
  {
   "cell_type": "code",
   "execution_count": 19,
   "id": "0a071601-bb75-47c0-8b70-ce1f10a280a6",
   "metadata": {},
   "outputs": [
    {
     "data": {
      "text/plain": [
       "'Hell'"
      ]
     },
     "execution_count": 19,
     "metadata": {},
     "output_type": "execute_result"
    }
   ],
   "source": [
    "str1[:4]"
   ]
  },
  {
   "cell_type": "code",
   "execution_count": 20,
   "id": "cd93f4e2-0547-4bd8-8351-1fb5c83df69a",
   "metadata": {},
   "outputs": [
    {
     "data": {
      "text/plain": [
       "' EveryOne'"
      ]
     },
     "execution_count": 20,
     "metadata": {},
     "output_type": "execute_result"
    }
   ],
   "source": [
    "str1[5:]"
   ]
  },
  {
   "cell_type": "code",
   "execution_count": 21,
   "id": "fe29bbf1-cc00-4a30-b33c-66aa0161f732",
   "metadata": {},
   "outputs": [
    {
     "data": {
      "text/plain": [
       "'eryOn'"
      ]
     },
     "execution_count": 21,
     "metadata": {},
     "output_type": "execute_result"
    }
   ],
   "source": [
    "str1[-6:-1]"
   ]
  },
  {
   "cell_type": "code",
   "execution_count": 22,
   "id": "4be2bcaa-73cd-4db2-8e60-91db1245d1be",
   "metadata": {},
   "outputs": [
    {
     "data": {
      "text/plain": [
       "''"
      ]
     },
     "execution_count": 22,
     "metadata": {},
     "output_type": "execute_result"
    }
   ],
   "source": [
    "str1[-5:2]"
   ]
  },
  {
   "cell_type": "code",
   "execution_count": 24,
   "id": "aacf1955-426f-45d6-b627-2b68f990bbe3",
   "metadata": {},
   "outputs": [
    {
     "data": {
      "text/plain": [
       "'llo Eve'"
      ]
     },
     "execution_count": 24,
     "metadata": {},
     "output_type": "execute_result"
    }
   ],
   "source": [
    "str1[2:-5]"
   ]
  },
  {
   "cell_type": "code",
   "execution_count": 25,
   "id": "f48084ca-fe80-4211-87ab-bd6abd064be3",
   "metadata": {},
   "outputs": [
    {
     "data": {
      "text/plain": [
       "''"
      ]
     },
     "execution_count": 25,
     "metadata": {},
     "output_type": "execute_result"
    }
   ],
   "source": [
    "str1[-6:3]"
   ]
  },
  {
   "cell_type": "code",
   "execution_count": 27,
   "id": "34d47e9a-7596-4fd3-be97-fc029c04d570",
   "metadata": {},
   "outputs": [
    {
     "name": "stdout",
     "output_type": "stream",
     "text": [
      "<class 'complex'>\n"
     ]
    }
   ],
   "source": [
    "x=22+5j\n",
    "print(type(x))"
   ]
  },
  {
   "cell_type": "code",
   "execution_count": 28,
   "id": "ca906cf4-4e49-4251-90ae-6a166172d46b",
   "metadata": {},
   "outputs": [
    {
     "data": {
      "text/plain": [
       "True"
      ]
     },
     "execution_count": 28,
     "metadata": {},
     "output_type": "execute_result"
    }
   ],
   "source": [
    "y=88.7\n",
    "isinstance(y,float)"
   ]
  },
  {
   "cell_type": "code",
   "execution_count": 33,
   "id": "70e28002-2eed-4f38-aac8-27f76935452b",
   "metadata": {},
   "outputs": [
    {
     "name": "stdout",
     "output_type": "stream",
     "text": [
      "raju 400\n"
     ]
    }
   ],
   "source": [
    "name,score=\"raju\",400 #using multiple assignment technique\n",
    "print(name,score)"
   ]
  },
  {
   "cell_type": "code",
   "execution_count": 34,
   "id": "a6a22176-c093-499a-afad-872a5d988bba",
   "metadata": {},
   "outputs": [
    {
     "data": {
      "text/plain": [
       "('Twinkle twinkle ', 'Little', ' Star')"
      ]
     },
     "execution_count": 34,
     "metadata": {},
     "output_type": "execute_result"
    }
   ],
   "source": [
    "str3=\"Twinkle twinkle Little Star\" # Using Partition Method\n",
    "str3.partition(\"Little\")"
   ]
  },
  {
   "cell_type": "code",
   "execution_count": 36,
   "id": "3fb88e15-ac58-49b5-a92f-b560bd3d50c7",
   "metadata": {},
   "outputs": [],
   "source": [
    "x=int(5.7)+float(4)+int(True)"
   ]
  },
  {
   "cell_type": "code",
   "execution_count": 37,
   "id": "24941efa-e170-4636-a175-473975c10b53",
   "metadata": {},
   "outputs": [
    {
     "name": "stdout",
     "output_type": "stream",
     "text": [
      "10.0\n"
     ]
    }
   ],
   "source": [
    "print(x)"
   ]
  },
  {
   "cell_type": "code",
   "execution_count": null,
   "id": "3adbf2af-eedf-4ec6-946c-caaea4007eb0",
   "metadata": {},
   "outputs": [],
   "source": []
  }
 ],
 "metadata": {
  "kernelspec": {
   "display_name": "Python 3 (ipykernel)",
   "language": "python",
   "name": "python3"
  },
  "language_info": {
   "codemirror_mode": {
    "name": "ipython",
    "version": 3
   },
   "file_extension": ".py",
   "mimetype": "text/x-python",
   "name": "python",
   "nbconvert_exporter": "python",
   "pygments_lexer": "ipython3",
   "version": "3.12.4"
  }
 },
 "nbformat": 4,
 "nbformat_minor": 5
}
