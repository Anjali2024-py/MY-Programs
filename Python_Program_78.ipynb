{
 "cells": [
  {
   "cell_type": "code",
   "execution_count": 1,
   "id": "39fb7299-1c6c-43f7-a608-98a9fbeadf7f",
   "metadata": {},
   "outputs": [
    {
     "name": "stdout",
     "output_type": "stream",
     "text": [
      "camel_case_string_example\n"
     ]
    }
   ],
   "source": [
    "#convert camel case to snake case.\n",
    "#convert a string in camel case to snake case\n",
    "import re\n",
    "\n",
    "def camel_to_snake(camel_case_str):\n",
    "    # Use regex to find positions where a lowercase letter is followed by an uppercase letter\n",
    "    # and replace it with the lowercase letter followed by an underscore and the uppercase letter\n",
    "    snake_case_str = re.sub(r'(?<!^)(?=[A-Z])', '_', camel_case_str).lower()\n",
    "    return snake_case_str\n",
    "\n",
    "# Example usage\n",
    "camel_case_string = 'camelCaseStringExample'\n",
    "snake_case_string = camel_to_snake(camel_case_string)\n",
    "print(snake_case_string)\n"
   ]
  },
  {
   "cell_type": "code",
   "execution_count": 2,
   "id": "7b9eeab2-cab7-4152-b1ac-d30fb6a3fe16",
   "metadata": {},
   "outputs": [
    {
     "name": "stdout",
     "output_type": "stream",
     "text": [
      "['this', 'test', 'find']\n"
     ]
    }
   ],
   "source": [
    "#extract all words with a specific length\n",
    "#extract all words that have a specific length from a text.\n",
    "import re\n",
    "\n",
    "def extract_words_of_length(text, length):\n",
    "    pattern = r'\\b\\w{' + str(length) + r'}\\b'\n",
    "    return re.findall(pattern, text)\n",
    "\n",
    "text = 'this is a simple test to find words of a specific length.'\n",
    "words_of_length = extract_words_of_length(text, 4)\n",
    "print(words_of_length)\n"
   ]
  },
  {
   "cell_type": "code",
   "execution_count": 3,
   "id": "de472a7c-e787-4e27-8fa0-7442ab49be82",
   "metadata": {},
   "outputs": [
    {
     "name": "stdout",
     "output_type": "stream",
     "text": [
      "['', '.00', '.50']\n"
     ]
    }
   ],
   "source": [
    "#Extract Prices from text.\n",
    "#extract prices formatted as $XX.xx\n",
    "#from a string\n",
    "import re\n",
    "\n",
    "def extract_prices(text):\n",
    "    pattern = r'\\$\\d+(\\.\\d{2})?'\n",
    "    return re.findall(pattern, text)\n",
    "\n",
    "text = 'the items cost $599, $10.00, &$2.50.'\n",
    "prices = extract_prices(text)\n",
    "print(prices)"
   ]
  },
  {
   "cell_type": "code",
   "execution_count": 4,
   "id": "d7291098-469e-4d5b-bcbd-50a8ba4b6089",
   "metadata": {},
   "outputs": [
    {
     "name": "stdout",
     "output_type": "stream",
     "text": [
      "2\n"
     ]
    }
   ],
   "source": [
    "#count the occurance of word #count how many times a spcific word appears in a text.\n",
    "import re\n",
    "\n",
    "def count_word_occurrence(text, word):\n",
    "    pattern = r'\\b' + re.escape(word) + r'\\b'\n",
    "    return len(re.findall(pattern, text, re.IGNORECASE))\n",
    "\n",
    "text = 'the cat sat on the mat. The cat is happy.'\n",
    "word_count = count_word_occurrence(text, 'cat')\n",
    "print(word_count)"
   ]
  },
  {
   "cell_type": "code",
   "execution_count": 5,
   "id": "ae1e5ee6-36a6-48e7-a700-c3890f756db9",
   "metadata": {},
   "outputs": [
    {
     "name": "stdout",
     "output_type": "stream",
     "text": [
      "extracted key-values pairs: [('name', 'Alice'), ('city', 'worderland')]\n"
     ]
    }
   ],
   "source": [
    "#extracting JSON -like value pairs.\n",
    "#Extract key value pairs from a string that resembles JSON.\n",
    "import re\n",
    "text='{\"name\":\"Alice\",\"age\":30,\"city\":\"worderland\"}'\n",
    "#define a pattern to extract key-value pairs\n",
    "pattern=r'\"(\\w+)\":\\s*\"([^\"]*)\"'\n",
    "key_value_pairs=re.findall(pattern,text)\n",
    "print(\"extracted key-values pairs:\",key_value_pairs)"
   ]
  },
  {
   "cell_type": "code",
   "execution_count": null,
   "id": "c8f6df11-85cc-40cd-9222-648026912f98",
   "metadata": {},
   "outputs": [],
   "source": []
  }
 ],
 "metadata": {
  "kernelspec": {
   "display_name": "Python 3 (ipykernel)",
   "language": "python",
   "name": "python3"
  },
  "language_info": {
   "codemirror_mode": {
    "name": "ipython",
    "version": 3
   },
   "file_extension": ".py",
   "mimetype": "text/x-python",
   "name": "python",
   "nbconvert_exporter": "python",
   "pygments_lexer": "ipython3",
   "version": "3.12.4"
  }
 },
 "nbformat": 4,
 "nbformat_minor": 5
}
