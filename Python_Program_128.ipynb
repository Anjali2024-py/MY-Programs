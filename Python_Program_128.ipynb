{
 "cells": [
  {
   "cell_type": "code",
   "execution_count": 1,
   "id": "056ad440-c03b-45c0-a104-153ef1a1a624",
   "metadata": {},
   "outputs": [
    {
     "name": "stdout",
     "output_type": "stream",
     "text": [
      "Woof!\n"
     ]
    }
   ],
   "source": [
    "class Animal:\n",
    "    def speak(self):\n",
    "        pass\n",
    "class Dog(Animal):\n",
    "    def speak(self):\n",
    "        print(\"Woof!\")\n",
    "\n",
    "dog=Dog()\n",
    "dog.speak()"
   ]
  },
  {
   "cell_type": "code",
   "execution_count": 3,
   "id": "72377b50-ed66-4392-a5a9-4caee107f969",
   "metadata": {},
   "outputs": [
    {
     "name": "stdout",
     "output_type": "stream",
     "text": [
      "78.5\n"
     ]
    }
   ],
   "source": [
    "from abc import ABC,abstractmethod\n",
    "\n",
    "class Shape(ABC):\n",
    "    @abstractmethod\n",
    "    def area(self):\n",
    "        pass\n",
    "\n",
    "class Circle(Shape):\n",
    "    def area(self):\n",
    "        return 3.14*5*5\n",
    "\n",
    "circle=Circle()\n",
    "print(circle.area())"
   ]
  },
  {
   "cell_type": "code",
   "execution_count": 5,
   "id": "24ec8eb4-4f02-467b-821d-8ef7e0179ac4",
   "metadata": {},
   "outputs": [
    {
     "name": "stdout",
     "output_type": "stream",
     "text": [
      "Program continues without handling the ValuError.\n"
     ]
    }
   ],
   "source": [
    "try:\n",
    "    num=int('abc')\n",
    "except ValueError:\n",
    "    pass\n",
    "\n",
    "\n",
    "print('Program continues without handling the ValuError.')"
   ]
  },
  {
   "cell_type": "code",
   "execution_count": 9,
   "id": "be885130-cf84-468e-8856-737d0653896b",
   "metadata": {},
   "outputs": [],
   "source": [
    "def switch_case(option):\n",
    "    if option == 1:\n",
    "        print(\"Option 1 selected.\")\n",
    "    elif option == 2:\n",
    "        pass  # No action for option 2 yet\n",
    "    elif option == 3:\n",
    "        print(\"Option 3 selected.\")\n",
    "    else:\n",
    "        print(\"Invalid option.\")\n",
    "\n",
    "switch_case(2)  # Option 2 does nothing"
   ]
  },
  {
   "cell_type": "code",
   "execution_count": 11,
   "id": "c6b4072b-1d29-4767-bf23-b63a5d7cda22",
   "metadata": {},
   "outputs": [
    {
     "name": "stdout",
     "output_type": "stream",
     "text": [
      "5\n",
      "4\n",
      "3\n",
      "2\n",
      "1\n"
     ]
    }
   ],
   "source": [
    "def recursive_function(n):\n",
    "    if n<=0:\n",
    "        pass\n",
    "    else:\n",
    "        print(n)\n",
    "        recursive_function(n-1)\n",
    "\n",
    "recursive_function(5)"
   ]
  },
  {
   "cell_type": "code",
   "execution_count": null,
   "id": "7b8387ba-bae1-4e33-915d-d0e629b0a122",
   "metadata": {},
   "outputs": [],
   "source": []
  }
 ],
 "metadata": {
  "kernelspec": {
   "display_name": "Python 3 (ipykernel)",
   "language": "python",
   "name": "python3"
  },
  "language_info": {
   "codemirror_mode": {
    "name": "ipython",
    "version": 3
   },
   "file_extension": ".py",
   "mimetype": "text/x-python",
   "name": "python",
   "nbconvert_exporter": "python",
   "pygments_lexer": "ipython3",
   "version": "3.12.4"
  }
 },
 "nbformat": 4,
 "nbformat_minor": 5
}
