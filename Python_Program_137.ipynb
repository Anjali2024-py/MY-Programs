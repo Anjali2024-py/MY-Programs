{
 "cells": [
  {
   "cell_type": "code",
   "execution_count": 1,
   "id": "c1625e5a-44da-4b05-b5a8-6f43b628fbf7",
   "metadata": {},
   "outputs": [
    {
     "name": "stdout",
     "output_type": "stream",
     "text": [
      "Index:-1,Fruit:date\n",
      "Index:-2,Fruit:cherry\n",
      "Index:-3,Fruit:banana\n",
      "Index:-4,Fruit:apple\n"
     ]
    }
   ],
   "source": [
    "fruits = [\"apple\", \"banana\", \"cherry\", \"date\"]\n",
    "\n",
    "for index,fruit in enumerate(fruits[::-1]):\n",
    "    print(f\"Index:{-index -1},Fruit:{fruit}\")"
   ]
  },
  {
   "cell_type": "code",
   "execution_count": 2,
   "id": "1dd6fc1e-254f-4510-9733-b8c09f6f8b80",
   "metadata": {},
   "outputs": [
    {
     "name": "stdout",
     "output_type": "stream",
     "text": [
      "Student 1: John scored 85\n",
      "Student 2: Alice scored 92\n",
      "Student 3: Bob scored 78\n"
     ]
    }
   ],
   "source": [
    "students = [(\"John\", 85), (\"Alice\", 92), (\"Bob\", 78)]\n",
    "\n",
    "for index,(name,grade) in enumerate(students):\n",
    "    print(f\"Student {index +1}: {name} scored {grade}\")"
   ]
  },
  {
   "cell_type": "code",
   "execution_count": 3,
   "id": "0cd54758-01c6-4f06-a3ce-2ba7b6f16ed8",
   "metadata": {},
   "outputs": [
    {
     "name": "stdout",
     "output_type": "stream",
     "text": [
      "student 1: Alice scored 90\n",
      "student 2: Bob scored 80\n",
      "student 3: Charlie scored 95\n"
     ]
    }
   ],
   "source": [
    "names = [\"Alice\", \"Bob\", \"Charlie\"]\n",
    "scores=[90,80,95]\n",
    "\n",
    "for index,(name,score) in enumerate(zip(names,scores)):\n",
    "    print(f\"student {index+1}: {name} scored {score}\")"
   ]
  },
  {
   "cell_type": "code",
   "execution_count": 5,
   "id": "316a06da-83de-46b3-9458-058f2bce8208",
   "metadata": {},
   "outputs": [
    {
     "name": "stdout",
     "output_type": "stream",
     "text": [
      "[10, 10, 30, 20, 50, 30]\n"
     ]
    }
   ],
   "source": [
    "numbers = [5, 10, 15, 20, 25, 30]\n",
    "\n",
    "modified_numbers=[num*2 if index %2==0 else num for index,num in enumerate(numbers)]\n",
    "print(modified_numbers)"
   ]
  },
  {
   "cell_type": "code",
   "execution_count": 6,
   "id": "ebf33799-792c-40f8-8774-cb2486025b65",
   "metadata": {},
   "outputs": [
    {
     "name": "stdout",
     "output_type": "stream",
     "text": [
      "[3, 4, 5]\n"
     ]
    }
   ],
   "source": [
    "numbers = [5, 10, 15, 20, 25, 30]\n",
    "indices=[index for index,num in enumerate(numbers) if num>15]\n",
    "\n",
    "print(indices)"
   ]
  },
  {
   "cell_type": "code",
   "execution_count": null,
   "id": "c3ee6302-b4b7-42ca-be7b-3f7feecaea78",
   "metadata": {},
   "outputs": [],
   "source": []
  }
 ],
 "metadata": {
  "kernelspec": {
   "display_name": "Python 3 (ipykernel)",
   "language": "python",
   "name": "python3"
  },
  "language_info": {
   "codemirror_mode": {
    "name": "ipython",
    "version": 3
   },
   "file_extension": ".py",
   "mimetype": "text/x-python",
   "name": "python",
   "nbconvert_exporter": "python",
   "pygments_lexer": "ipython3",
   "version": "3.12.4"
  }
 },
 "nbformat": 4,
 "nbformat_minor": 5
}
