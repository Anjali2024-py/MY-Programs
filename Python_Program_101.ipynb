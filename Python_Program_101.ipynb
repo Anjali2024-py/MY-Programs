{
 "cells": [
  {
   "cell_type": "code",
   "execution_count": 1,
   "id": "9b01a738-accd-49da-9406-2ce34aa66fd6",
   "metadata": {},
   "outputs": [
    {
     "name": "stdout",
     "output_type": "stream",
     "text": [
      " Area of Circle  50.26548245743669\n",
      " Perimeter of Circle 25.132741228718345\n"
     ]
    }
   ],
   "source": [
    "class Circle:\n",
    "    def __init__(self,r):\n",
    "        self.r=r\n",
    "    def area(self):\n",
    "        import math\n",
    "        return f\" Area of Circle  {math.pi*(self.r**2)}\"\n",
    "    def perimeter(self):\n",
    "        import math\n",
    "        return f\" Perimeter of Circle {2*math.pi*self.r}\"\n",
    "\n",
    "c1=Circle(4)\n",
    "print(c1.area())\n",
    "print(c1.perimeter())"
   ]
  },
  {
   "cell_type": "code",
   "execution_count": 2,
   "id": "d00cc2aa-d5df-4bbc-84b3-f26552a3445c",
   "metadata": {},
   "outputs": [
    {
     "name": "stdout",
     "output_type": "stream",
     "text": [
      "8 i+ 6 j\n",
      "4 i+ 3 j\n",
      "4 i+ 3 j\n"
     ]
    }
   ],
   "source": [
    "class Complex:\n",
    "    def __init__(self,real,imaginary):\n",
    "        self.real=real\n",
    "        self.imaginary=imaginary\n",
    "    def shownumber(self):\n",
    "        print(self.real,\"i+\",self.imaginary,\"j\")\n",
    "    def __sub__(self,num2):\n",
    "        newReal=self.real-num2.real\n",
    "        newImg=self.imaginary-num2.imaginary\n",
    "        return Complex(newReal,newImg)\n",
    "\n",
    "num1=Complex(8,6)\n",
    "num1.shownumber()\n",
    "\n",
    "num2=Complex(4,3)\n",
    "num2.shownumber()\n",
    "\n",
    "num3=num1-num2\n",
    "num3.shownumber()"
   ]
  },
  {
   "cell_type": "code",
   "execution_count": 6,
   "id": "e4fd1a72-a6f8-4e84-8a44-6a2a5371cb3e",
   "metadata": {},
   "outputs": [
    {
     "name": "stdout",
     "output_type": "stream",
     "text": [
      "1 i+ 3 j\n",
      "4 i+ 6 j\n",
      "5 i+ 9 j\n"
     ]
    }
   ],
   "source": [
    "class Complex:\n",
    "    def __init__(self,real,imaginary):\n",
    "        self.real=real\n",
    "        self.imaginary=imaginary\n",
    "    def shownumber(self):\n",
    "        print(self.real,\"i+\",self.imaginary,\"j\")\n",
    "    def __add__(self,num2):\n",
    "        newReal=self.real+num2.real\n",
    "        newImg=self.imaginary+num2.imaginary\n",
    "        return Complex(newReal,newImg)\n",
    "\n",
    "num1=Complex(1,3)\n",
    "num1.shownumber()\n",
    "\n",
    "num2=Complex(4,6)\n",
    "num2.shownumber()\n",
    "\n",
    "num3=num1+num2\n",
    "num3.shownumber()"
   ]
  },
  {
   "cell_type": "code",
   "execution_count": null,
   "id": "8b2c666d-bf82-46bb-8dcd-7a5662ce7089",
   "metadata": {},
   "outputs": [],
   "source": []
  }
 ],
 "metadata": {
  "kernelspec": {
   "display_name": "Python 3 (ipykernel)",
   "language": "python",
   "name": "python3"
  },
  "language_info": {
   "codemirror_mode": {
    "name": "ipython",
    "version": 3
   },
   "file_extension": ".py",
   "mimetype": "text/x-python",
   "name": "python",
   "nbconvert_exporter": "python",
   "pygments_lexer": "ipython3",
   "version": "3.12.4"
  }
 },
 "nbformat": 4,
 "nbformat_minor": 5
}
