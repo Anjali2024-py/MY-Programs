{
 "cells": [
  {
   "cell_type": "code",
   "execution_count": 1,
   "id": "f93a1b7b-fcac-4393-b1d8-a84aaf794784",
   "metadata": {},
   "outputs": [
    {
     "name": "stdout",
     "output_type": "stream",
     "text": [
      "5\n",
      "4\n",
      "3\n",
      "2\n",
      "1\n"
     ]
    }
   ],
   "source": [
    "#Write a program that count down from a given number to zero , printing each number\n",
    "def countdown(n):\n",
    "    while n>0:\n",
    "        print(n)\n",
    "        n-=1\n",
    "#Example Usage\n",
    "countdown(5)"
   ]
  },
  {
   "cell_type": "code",
   "execution_count": 10,
   "id": "31692d71-134a-48cc-9605-45d83c3d00d5",
   "metadata": {},
   "outputs": [
    {
     "name": "stdin",
     "output_type": "stream",
     "text": [
      "Enter Positive Number 2\n",
      "Enter Positive Number 2\n",
      "Enter Positive Number 4\n",
      "Enter Positive Number 2\n",
      "Enter Positive Number -2\n"
     ]
    },
    {
     "name": "stdout",
     "output_type": "stream",
     "text": [
      "Sum of Positive numbers is: 10.0\n"
     ]
    }
   ],
   "source": [
    "#Sum of +ve numbers:\n",
    "#wRITE A PROBLEM THAT REPEATedly asks the user to enter a +ve number and calculates the total sum until the user enter a -ve number\n",
    "def sum_positive_number():\n",
    "    sum=0\n",
    "    while True:\n",
    "        num=float(input(\"Enter Positive Number\"))\n",
    "        if num<0:\n",
    "            break\n",
    "        sum=sum+num\n",
    "    print(\"Sum of Positive numbers is:\",sum)\n",
    "#Example Usage\n",
    "sum_positive_number()"
   ]
  },
  {
   "cell_type": "code",
   "execution_count": 18,
   "id": "ea062d61-b186-4d23-b151-790e81202b09",
   "metadata": {},
   "outputs": [
    {
     "name": "stdin",
     "output_type": "stream",
     "text": [
      "Enter the guess the number(between 1 to 10) 3\n"
     ]
    },
    {
     "name": "stdout",
     "output_type": "stream",
     "text": [
      "too low!Try again\n"
     ]
    },
    {
     "name": "stdin",
     "output_type": "stream",
     "text": [
      "Enter the guess the number(between 1 to 10) 11\n"
     ]
    },
    {
     "name": "stdout",
     "output_type": "stream",
     "text": [
      "too high!Try again\n"
     ]
    },
    {
     "name": "stdin",
     "output_type": "stream",
     "text": [
      "Enter the guess the number(between 1 to 10) 9\n"
     ]
    },
    {
     "name": "stdout",
     "output_type": "stream",
     "text": [
      "too high!Try again\n"
     ]
    },
    {
     "name": "stdin",
     "output_type": "stream",
     "text": [
      "Enter the guess the number(between 1 to 10) 0\n"
     ]
    },
    {
     "name": "stdout",
     "output_type": "stream",
     "text": [
      "too low!Try again\n"
     ]
    },
    {
     "name": "stdin",
     "output_type": "stream",
     "text": [
      "Enter the guess the number(between 1 to 10) 7\n"
     ]
    },
    {
     "name": "stdout",
     "output_type": "stream",
     "text": [
      "Congratulations!! 7\n"
     ]
    }
   ],
   "source": [
    "#Guess the number:\n",
    "#Write a program that Generates a random number between 1 to 10, and asks the user to guess the number until they get it right\n",
    "import random \n",
    "def Guess_the_number():\n",
    "    number_To_guess=random.randint(1,10)\n",
    "    guess=0\n",
    "    while guess!=number_To_guess:\n",
    "        guess=int(input(\"Enter the guess the number(between 1 to 10)\"))\n",
    "\n",
    "        if guess<number_To_guess:\n",
    "            print(\"too low!Try again\")\n",
    "        elif guess>number_To_guess:\n",
    "            print(\"too high!Try again\")\n",
    "    print(\"Congratulations!!\",number_To_guess)\n",
    "#example USagee\n",
    "Guess_the_number()\n",
    "    "
   ]
  },
  {
   "cell_type": "code",
   "execution_count": 35,
   "id": "66d404fa-bc8f-4cac-99b2-2afaa95c6d60",
   "metadata": {},
   "outputs": [
    {
     "name": "stdout",
     "output_type": "stream",
     "text": [
      "5\n"
     ]
    }
   ],
   "source": [
    "#NUmber of digits in a number\n",
    "#Write a problem that counts the number of digits in a given positive integer.\n",
    "def count_digits(number):\n",
    "    if number<0:\n",
    "        return \"Please Enter POsitive number\"\n",
    "    count=0\n",
    "    while number>0:\n",
    "        number=number//10\n",
    "        count=count+1\n",
    "    return count\n",
    "#Example Usage\n",
    "print(count_digits(12345))\n",
    "\n"
   ]
  },
  {
   "cell_type": "code",
   "execution_count": 36,
   "id": "e48fce10-d1ca-49ac-a5bc-b103e9b308e5",
   "metadata": {},
   "outputs": [
    {
     "data": {
      "text/plain": [
       "5"
      ]
     },
     "execution_count": 36,
     "metadata": {},
     "output_type": "execute_result"
    }
   ],
   "source": [
    "count_digits(12345)"
   ]
  },
  {
   "cell_type": "code",
   "execution_count": 42,
   "id": "2b8d4baa-dc2d-4bda-a8a0-2410a6a91736",
   "metadata": {},
   "outputs": [
    {
     "name": "stdin",
     "output_type": "stream",
     "text": [
      "Enter a String(type'exit' to quit): hello\n"
     ]
    },
    {
     "name": "stdout",
     "output_type": "stream",
     "text": [
      "You entered: hello\n"
     ]
    },
    {
     "name": "stdin",
     "output_type": "stream",
     "text": [
      "Enter a String(type'exit' to quit): hieee\n"
     ]
    },
    {
     "name": "stdout",
     "output_type": "stream",
     "text": [
      "You entered: hieee\n"
     ]
    },
    {
     "name": "stdin",
     "output_type": "stream",
     "text": [
      "Enter a String(type'exit' to quit): exit\n"
     ]
    },
    {
     "name": "stdout",
     "output_type": "stream",
     "text": [
      "Existing The program\n"
     ]
    }
   ],
   "source": [
    "#Repeated String Input\n",
    "#Write a program that Continuous asks the user for input until they enter 'exit'\n",
    "def repeated_input():\n",
    "    while True:\n",
    "        user_input=input(\"Enter a String(type'exit' to quit):\")\n",
    "        if user_input.lower()=='exit':\n",
    "            print(\"Existing The program\")\n",
    "            break\n",
    "        print(\"You entered:\",user_input)\n",
    "#example usage\n",
    "repeated_input()"
   ]
  },
  {
   "cell_type": "code",
   "execution_count": null,
   "id": "4c5f51bb-d94b-46e8-a45f-038095810cd7",
   "metadata": {},
   "outputs": [],
   "source": []
  }
 ],
 "metadata": {
  "kernelspec": {
   "display_name": "Python 3 (ipykernel)",
   "language": "python",
   "name": "python3"
  },
  "language_info": {
   "codemirror_mode": {
    "name": "ipython",
    "version": 3
   },
   "file_extension": ".py",
   "mimetype": "text/x-python",
   "name": "python",
   "nbconvert_exporter": "python",
   "pygments_lexer": "ipython3",
   "version": "3.12.4"
  }
 },
 "nbformat": 4,
 "nbformat_minor": 5
}
