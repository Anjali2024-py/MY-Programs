{
 "cells": [
  {
   "cell_type": "code",
   "execution_count": 3,
   "id": "3bc6b215-2e8a-462d-93ed-fdc42263e819",
   "metadata": {},
   "outputs": [
    {
     "name": "stdin",
     "output_type": "stream",
     "text": [
      "Enter total number of working days 85\n",
      "Enter number of days absent 20\n"
     ]
    },
    {
     "name": "stdout",
     "output_type": "stream",
     "text": [
      "your attendance is 76.47058823529412\n",
      "You are eligible for exam\n"
     ]
    }
   ],
   "source": [
    "#Accept the following from the usser and calculate the percentge of class attended:\n",
    "#1) total number of Working days\n",
    "#2)total number of days for absent\n",
    "#After calculating per show that , if the percentage is less than 75,\n",
    "#then Studwnt will not able to sit in exam                     \n",
    "nd=int(input(\"Enter total number of working days\"))\n",
    "na=int(input(\"Enter number of days absent\"))\n",
    "per=(nd-na)/nd*100\n",
    "print(\"your attendance is\",per)\n",
    "if per>75:\n",
    "    print(\"You are eligible for exam\")\n",
    "else:\n",
    "    print(\"You are not eligible for exam\")"
   ]
  },
  {
   "cell_type": "code",
   "execution_count": 3,
   "id": "df91c3fd-acae-4362-9315-d4d7ff5420c4",
   "metadata": {},
   "outputs": [
    {
     "name": "stdin",
     "output_type": "stream",
     "text": [
      "Enter Percentage: 96\n"
     ]
    },
    {
     "name": "stdout",
     "output_type": "stream",
     "text": [
      "Grade is:A+\n"
     ]
    }
   ],
   "source": [
    "#Accept the percentage from the user and dislay the garde accoding to the following criteria.\n",
    "#below 25--D\n",
    "#25 to 45--C\n",
    "#45 to 50--B\n",
    "#50 to 60--B+\n",
    "#60 TO 80--A\n",
    "#Above 80--A+\n",
    "per=int(input(\"Enter Percentage:\"))\n",
    "if per>80:\n",
    "    print(\"Grade is:A+\")\n",
    "elif per>60 and per<=80:\n",
    "    print(\"Grade is A\")\n",
    "elif per>50 and per<=60:\n",
    "    print(\"Grade is B+\")\n",
    "elif per>45 and per<=50:\n",
    "    print(\"Grade is B\")\n",
    "elif per>25 and per<=45:\n",
    "    print(\"Grade is C\")\n",
    "else:\n",
    "    print(\"Grade is D\")"
   ]
  },
  {
   "cell_type": "code",
   "execution_count": 7,
   "id": "0c9fa1ae-6389-47e7-a435-e4897035f9f3",
   "metadata": {},
   "outputs": [
    {
     "name": "stdin",
     "output_type": "stream",
     "text": [
      "Enter Sarvice Year: 20\n",
      "Enter Salary Here: 40000\n"
     ]
    },
    {
     "name": "stdout",
     "output_type": "stream",
     "text": [
      "Bonus is: 4000.0\n"
     ]
    }
   ],
   "source": [
    "#A Company decided to give bonus to employee according to following criteria\n",
    "# time period of service              Bonus\n",
    "# More than 10 years                   10%\n",
    "# >=6 and <=10                         8%\n",
    "# less than 6 years                    5%\n",
    "# Ask user for their salary and years of service and print the net bonus amount.\n",
    "ser=int(input(\"Enter Sarvice Year:\"))\n",
    "sal=int(input(\"Enter Salary Here:\"))\n",
    "if ser>10:\n",
    "    b=10/100*sal\n",
    "if ser>=6 and ser<=10:\n",
    "    b=8/100*sal\n",
    "if ser<6:\n",
    "    b=5/100*sal\n",
    "print(\"Bonus is:\",b)\n",
    "    "
   ]
  },
  {
   "cell_type": "code",
   "execution_count": 10,
   "id": "02ecb5c3-3651-48b1-8587-2b648f909cd5",
   "metadata": {},
   "outputs": [
    {
     "name": "stdin",
     "output_type": "stream",
     "text": [
      "ENter Marked Price: 78200\n"
     ]
    },
    {
     "name": "stdout",
     "output_type": "stream",
     "text": [
      "Net amount to pay 62560.0\n"
     ]
    }
   ],
   "source": [
    "#Accept Marked price from the user and calculate the ampount as\n",
    "#(Marked price discount ) to pay according to following  critria   \n",
    "# Marked Price          Discount\n",
    "# >10000                  20%\n",
    "# >7000 and <=10000       15%\n",
    "# <=7000                  10%\n",
    "na=0\n",
    "d=0\n",
    "mp=int(input(\"ENter Marked Price:\"))\n",
    "if mp>10000:\n",
    "    d=20/100*mp\n",
    "if mp>7000 and mp<=10000:\n",
    "    d=15/100*mp\n",
    "if mp<=7000:\n",
    "    d=10/100*mp\n",
    "na=mp-d\n",
    "print(\"Net amount to pay\",na)"
   ]
  },
  {
   "cell_type": "code",
   "execution_count": 28,
   "id": "b6a099d0-5ccb-4189-bb77-e05be6ee04f0",
   "metadata": {},
   "outputs": [
    {
     "name": "stdin",
     "output_type": "stream",
     "text": [
      "Enter the percentage: 90\n"
     ]
    },
    {
     "name": "stdout",
     "output_type": "stream",
     "text": [
      "Your category is: Excellent\n"
     ]
    }
   ],
   "source": [
    "#Write a program to accept percentage & display the category acoording to the following criteria.\n",
    "per=int(input(\"Enter the percentage:\"))\n",
    "if per<40:\n",
    "    print(\"Your category is: Failed\")\n",
    "elif per>=40 and per<55:\n",
    "    print(\"Your category is: Fair\")\n",
    "elif per>=55 and per<65:\n",
    "    print(\"Your category is: Good\")\n",
    "elif per>=65 and per<=100:\n",
    "    print(\"Your category is: Excellent\")\n",
    "elif per>100:\n",
    "    print(\"Please ENter the correct per\")"
   ]
  },
  {
   "cell_type": "code",
   "execution_count": 32,
   "id": "a4bd1f23-b90d-422e-a013-718e58ff74ed",
   "metadata": {},
   "outputs": [
    {
     "name": "stdin",
     "output_type": "stream",
     "text": [
      "Enter s1: 2\n",
      "Enter s2: 2\n",
      "Enter s3: 2\n"
     ]
    },
    {
     "name": "stdout",
     "output_type": "stream",
     "text": [
      "Equilateral Triangle\n"
     ]
    }
   ],
   "source": [
    "#Accept Three sides of a Triangle and check wheather itis an equilateral , isosceles or scalene triangle.\n",
    "#note: An Equilateral Triangle has three qual sides\n",
    "# A Scalene Triangle that has three unequal sides\n",
    "# An isosceles triangle that has at least two equal sides.\n",
    "s1=int(input(\"Enter s1:\"))\n",
    "s2=int(input(\"Enter s2:\"))\n",
    "s3=int(input(\"Enter s3:\"))\n",
    "if s1==s2 and s2==s3:\n",
    "    print(\"Equilateral Triangle\")\n",
    "if(s1==s2 and s2!=s3) or (s2==s3 and s2!=s1) or (s1==s3 and s1!=s2):\n",
    "    print(\"isosceles triangle\")\n",
    "if s1!=s2 and s1!=s3 and s2!=s3:\n",
    "    print(\"Scalene Triangle\")"
   ]
  },
  {
   "cell_type": "code",
   "execution_count": 41,
   "id": "b9c27925-0952-4337-879f-1c43974c6554",
   "metadata": {},
   "outputs": [
    {
     "name": "stdin",
     "output_type": "stream",
     "text": [
      "enter num1: 10\n",
      "Enter num2: 5\n",
      "Enter op here: //\n"
     ]
    },
    {
     "name": "stdout",
     "output_type": "stream",
     "text": [
      "REsult is 2\n"
     ]
    }
   ],
   "source": [
    "#Wtrite a program to accept two numbers and mathematical operator and perform operation accordingly.\n",
    "num1=int(input(\"enter num1:\"))\n",
    "num2=int(input(\"Enter num2:\"))\n",
    "op=input(\"Enter op here:\")\n",
    "if op=='+':\n",
    "    print(\"REsult is\",num1+num2)\n",
    "if op=='-':\n",
    "    print(\"REsult is\",num1-num2)\n",
    "if op=='*':\n",
    "    print(\"REsult is\",num1*num2)\n",
    "if op=='/':\n",
    "    print(\"REsult is\",num1/num2)\n",
    "if op=='//':\n",
    "    print(\"REsult is\",num1//num2)\n",
    "if op=='%':\n",
    "    print(\"REsult is\",num1%num2)"
   ]
  },
  {
   "cell_type": "code",
   "execution_count": 49,
   "id": "8c655ed7-3db2-45d3-bb6f-4ff2aa466479",
   "metadata": {},
   "outputs": [
    {
     "name": "stderr",
     "output_type": "stream",
     "text": [
      "<>:12: SyntaxWarning: invalid decimal literal\n",
      "<>:12: SyntaxWarning: invalid decimal literal\n",
      "C:\\Users\\ABCD\\AppData\\Local\\Temp\\ipykernel_12976\\1451398997.py:12: SyntaxWarning: invalid decimal literal\n",
      "  elif age>=30and age<=40 and sex=='m':\n"
     ]
    },
    {
     "name": "stdin",
     "output_type": "stream",
     "text": [
      "Enter Age 40\n",
      "m/f m\n",
      "enter nd : 45\n"
     ]
    },
    {
     "name": "stdout",
     "output_type": "stream",
     "text": [
      "Total wages: 36000\n"
     ]
    }
   ],
   "source": [
    "#Accept the age ,sex,number if days and display the wages accordingly\n",
    "# age         sex       wage/day\n",
    "# 18 & <30    M           700\n",
    "# >=30 & <=40  f          750\n",
    "# IF AGE  is not fall in given range then dispplay following msg that Enter approprite Age\n",
    "age=int(input(\"Enter Age\"))\n",
    "sex=input(\"m/f\")\n",
    "nd=int(input(\"enter nd :\"))\n",
    "if age>=18 and age<30 and sex=='m':\n",
    "    amt=nd*700\n",
    "    print(\"Total wages:\",amt)\n",
    "elif age>=30and age<=40 and sex=='m':\n",
    "    amt=nd*800\n",
    "    print(\"Total wages:\",amt)\n",
    "elif age>=30 and age<=40 and sex=='f':\n",
    "    amt=nd*850\n",
    "    print(\"Total wages:\",amt)\n",
    "else:\n",
    "    print(\"Enter Appropriate Age\")\n"
   ]
  },
  {
   "cell_type": "code",
   "execution_count": 63,
   "id": "9fee7449-2fb8-4515-8045-dd292bede315",
   "metadata": {},
   "outputs": [
    {
     "name": "stdin",
     "output_type": "stream",
     "text": [
      "ENter num1 here: 2\n",
      "Enter num2 here: 1\n",
      "enter num3 here: 0\n"
     ]
    },
    {
     "name": "stdout",
     "output_type": "stream",
     "text": [
      "middle number is 1\n"
     ]
    }
   ],
   "source": [
    "#Accept three numbers from the user and disply the second largest number.\n",
    "num1=int(input(\"ENter num1 here:\"))\n",
    "num2=int(input(\"Enter num2 here:\"))\n",
    "num3=int(input(\"enter num3 here:\"))\n",
    "if (num1>num2 & num1<num3) or (num1<num2 and num1>num3):\n",
    "    print(\"middle number is\",num1)\n",
    "if (num2>num1 & num2<num3) or (num2<num1 and num2>num3):\n",
    "    print(\"middle number is\",num2)\n",
    "if (num3>num2 & num3<num1) or (num3<num2 and num3>num1):\n",
    "    print(\"middle number is\",num1)"
   ]
  },
  {
   "cell_type": "code",
   "execution_count": 77,
   "id": "bbfd566e-3c76-4e5e-b175-166cddb8a93d",
   "metadata": {},
   "outputs": [
    {
     "name": "stdin",
     "output_type": "stream",
     "text": [
      "enter s1 10\n",
      "enter s2 50\n",
      "enter s3 70\n"
     ]
    },
    {
     "name": "stdout",
     "output_type": "stream",
     "text": [
      "Triangle is not possible\n"
     ]
    }
   ],
   "source": [
    "#Accept Three sides of Triangle and check wheather the triangle is possible or not.\n",
    "#(Triangle is possible only when sum of any two sides is greater than 3rd side)\n",
    "s1=int(input(\"enter s1\"))\n",
    "s2=int(input(\"enter s2\"))\n",
    "s3=int(input(\"enter s3\"))\n",
    "if s1+s2>s3 and s2+s3>s1 and s1+s3>s2:\n",
    "    print(\"triangle is possible\")\n",
    "else:\n",
    "    print(\"Triangle is not possible\")"
   ]
  },
  {
   "cell_type": "code",
   "execution_count": null,
   "id": "8906bbcf-ac36-49c3-902c-e348b27bc1ca",
   "metadata": {},
   "outputs": [],
   "source": []
  }
 ],
 "metadata": {
  "kernelspec": {
   "display_name": "Python 3 (ipykernel)",
   "language": "python",
   "name": "python3"
  },
  "language_info": {
   "codemirror_mode": {
    "name": "ipython",
    "version": 3
   },
   "file_extension": ".py",
   "mimetype": "text/x-python",
   "name": "python",
   "nbconvert_exporter": "python",
   "pygments_lexer": "ipython3",
   "version": "3.12.4"
  }
 },
 "nbformat": 4,
 "nbformat_minor": 5
}
