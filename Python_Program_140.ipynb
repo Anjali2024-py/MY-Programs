{
 "cells": [
  {
   "cell_type": "code",
   "execution_count": 1,
   "id": "eb760d9d-c573-414d-9cca-0c6f7b5d1059",
   "metadata": {},
   "outputs": [
    {
     "name": "stdout",
     "output_type": "stream",
     "text": [
      "Matching at index 0: a\n",
      "Matching at index 2: c\n"
     ]
    }
   ],
   "source": [
    "list1=['a','b','c','d']\n",
    "list2=['a','x','c','y']\n",
    "for index,(item1,item2) in enumerate(zip(list1,list2)):\n",
    "    if item1==item2:\n",
    "        print(f\"Matching at index {index}: {item1}\")"
   ]
  },
  {
   "cell_type": "code",
   "execution_count": 3,
   "id": "e98ca7b6-2c11-49be-adb6-ae35307968fc",
   "metadata": {},
   "outputs": [
    {
     "name": "stdout",
     "output_type": "stream",
     "text": [
      "{'name': 'Alice', 'age': 25, 'city': 'New York'}\n"
     ]
    }
   ],
   "source": [
    "keys = ['name', 'age', 'city']\n",
    "values = ['Alice', 25, 'New York']\n",
    "result={key:value for index,(key,value) in enumerate(zip(keys,values))}\n",
    "print(result)"
   ]
  },
  {
   "cell_type": "code",
   "execution_count": 4,
   "id": "e1833803-f7a0-4aca-86fd-3e3c375374d2",
   "metadata": {},
   "outputs": [
    {
     "name": "stdout",
     "output_type": "stream",
     "text": [
      "Index : 0, sublist: [1, 2]\n",
      "Index : 1, sublist: [3, 4]\n",
      "Index : 2, sublist: [5, 6]\n"
     ]
    }
   ],
   "source": [
    "nested_list=[[1,2],[3,4],[5,6]]\n",
    "for index,sublist in enumerate(nested_list):\n",
    "    print(f\"Index : {index}, sublist: {sublist}\")"
   ]
  },
  {
   "cell_type": "code",
   "execution_count": 7,
   "id": "a7a8176b-0ae4-4505-afe4-a776f36ff786",
   "metadata": {},
   "outputs": [
    {
     "name": "stdout",
     "output_type": "stream",
     "text": [
      "banana\n"
     ]
    }
   ],
   "source": [
    "def get_item_by_index(items,index):\n",
    "    for idx,item in enumerate(items):\n",
    "        if idx == index:\n",
    "            return item\n",
    "    return None\n",
    "\n",
    "my_list=['apple','banana','cherry']\n",
    "\n",
    "print(get_item_by_index(my_list,1))"
   ]
  },
  {
   "cell_type": "code",
   "execution_count": 8,
   "id": "175703e2-b3c0-4e7d-9c02-fb6122622537",
   "metadata": {},
   "outputs": [
    {
     "name": "stdout",
     "output_type": "stream",
     "text": [
      "Index :0,Grade :85 (Good)\n",
      "index: 1, Grade: 92 (Excellent)\n",
      "Index : 2, Grade : 78 (Needs Improvement)\n",
      "Index :3,Grade :88 (Good)\n",
      "index: 4, Grade: 95 (Excellent)\n"
     ]
    }
   ],
   "source": [
    "grades=[85,92,78,88,95]\n",
    "for index,grade in enumerate(grades):\n",
    "    if grade >90:\n",
    "        print(f\"index: {index}, Grade: {grade} (Excellent)\")\n",
    "    elif grade >80:\n",
    "        print(f\"Index :{ index},Grade :{grade} (Good)\")\n",
    "    else:\n",
    "        print(f\"Index : {index}, Grade : {grade} (Needs Improvement)\")\n",
    "    "
   ]
  },
  {
   "cell_type": "code",
   "execution_count": null,
   "id": "6fb51be3-47e5-47c2-9b04-af5cdddafe77",
   "metadata": {},
   "outputs": [],
   "source": []
  }
 ],
 "metadata": {
  "kernelspec": {
   "display_name": "Python 3 (ipykernel)",
   "language": "python",
   "name": "python3"
  },
  "language_info": {
   "codemirror_mode": {
    "name": "ipython",
    "version": 3
   },
   "file_extension": ".py",
   "mimetype": "text/x-python",
   "name": "python",
   "nbconvert_exporter": "python",
   "pygments_lexer": "ipython3",
   "version": "3.12.4"
  }
 },
 "nbformat": 4,
 "nbformat_minor": 5
}
