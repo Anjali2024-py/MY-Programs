{
 "cells": [
  {
   "cell_type": "code",
   "execution_count": 3,
   "id": "e1a1c9fa-73b1-40ca-b12a-786066eacafc",
   "metadata": {},
   "outputs": [
    {
     "name": "stdout",
     "output_type": "stream",
     "text": [
      "8\n",
      "15\n"
     ]
    }
   ],
   "source": [
    "# Static Method in a clas\n",
    "class MathUtility:\n",
    "    @staticmethod\n",
    "    def add(a,b):\n",
    "        return a+b\n",
    "    def multiply(a,b):\n",
    "        return a*b\n",
    "print(MathUtility.add(5,3))\n",
    "print(MathUtility.multiply(5,3))"
   ]
  },
  {
   "cell_type": "code",
   "execution_count": 5,
   "id": "4400e7b3-b385-41b9-9692-efa9b2ace8b5",
   "metadata": {},
   "outputs": [
    {
     "name": "stdout",
     "output_type": "stream",
     "text": [
      "50.0\n"
     ]
    }
   ],
   "source": [
    "# Static Method with class variable\n",
    "class BankAccount:\n",
    "    interest_rate=0.05\n",
    "    def __init__(self,balance):\n",
    "        self.balance=balance\n",
    "    @staticmethod\n",
    "    def calculate_interest(amount):\n",
    "        return amount*BanckAccount.interest_rate\n",
    "\n",
    "print(BankAccount.calculate_interest(1000))"
   ]
  },
  {
   "cell_type": "code",
   "execution_count": 10,
   "id": "3e37f134-2ef1-4fb0-a288-728b0b7710e8",
   "metadata": {},
   "outputs": [
    {
     "name": "stdout",
     "output_type": "stream",
     "text": [
      "-15.0\n",
      "50.0\n"
     ]
    }
   ],
   "source": [
    "# Static Method as a Utility Function\n",
    "class Converter:\n",
    "    @staticmethod\n",
    "    def farheneite_celsius(farheneite):\n",
    "        return (farheneite-32)*5/9\n",
    "    @staticmethod\n",
    "    def celsius_farheneite(celsius):\n",
    "        return (celsius*9/5)+32\n",
    "\n",
    "print(Converter.farheneite_celsius(5))\n",
    "print(Converter.celsius_farheneite(10))"
   ]
  },
  {
   "cell_type": "code",
   "execution_count": 12,
   "id": "575f45f2-430a-4edf-932b-48ef09cdf5c4",
   "metadata": {},
   "outputs": [
    {
     "name": "stdout",
     "output_type": "stream",
     "text": [
      "Hello,User\n",
      "Hello,Anjali\n"
     ]
    }
   ],
   "source": [
    "# Static method with default Arguments\n",
    "class Message:\n",
    "    @staticmethod\n",
    "    def greet(name=\"User\"):\n",
    "        return f\"Hello,{name}\"\n",
    "print(Message.greet())\n",
    "print(Message.greet('Anjali'))"
   ]
  },
  {
   "cell_type": "code",
   "execution_count": 14,
   "id": "f2dc3941-d64a-4112-a17c-2c08138f32b6",
   "metadata": {},
   "outputs": [
    {
     "name": "stdout",
     "output_type": "stream",
     "text": [
      "3\n"
     ]
    }
   ],
   "source": [
    "# Static Method for counting Instances\n",
    "class counter:\n",
    "    count=0\n",
    "    def __init__(self):\n",
    "        counter.count+=1\n",
    "    @staticmethod\n",
    "    def get_count():\n",
    "        return counter.count\n",
    "\n",
    "c1=counter()\n",
    "c2=counter()\n",
    "c3=counter()\n",
    "\n",
    "print(counter.get_count())"
   ]
  },
  {
   "cell_type": "code",
   "execution_count": null,
   "id": "4c64ce49-7b41-4c64-b6c2-0d4bb298c4a7",
   "metadata": {},
   "outputs": [],
   "source": []
  }
 ],
 "metadata": {
  "kernelspec": {
   "display_name": "Python 3 (ipykernel)",
   "language": "python",
   "name": "python3"
  },
  "language_info": {
   "codemirror_mode": {
    "name": "ipython",
    "version": 3
   },
   "file_extension": ".py",
   "mimetype": "text/x-python",
   "name": "python",
   "nbconvert_exporter": "python",
   "pygments_lexer": "ipython3",
   "version": "3.12.4"
  }
 },
 "nbformat": 4,
 "nbformat_minor": 5
}
