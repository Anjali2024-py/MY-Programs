{
 "cells": [
  {
   "cell_type": "code",
   "execution_count": 8,
   "id": "635c8aa3-5a22-4733-9f4d-12ab6b4322b3",
   "metadata": {},
   "outputs": [
    {
     "name": "stdout",
     "output_type": "stream",
     "text": [
      "Matches found: ['Spain']\n"
     ]
    }
   ],
   "source": [
    "# Using Wildcards:\n",
    "import re\n",
    "#Defining a string\n",
    "text=\"The rain in the Spain falls mainly on the plain.\"\n",
    "#matches any words that starts with 's' and end with 'n'.\n",
    "matches=re.findall(r\"S\\w+n\", text)\n",
    "print(\"Matches found:\",matches)"
   ]
  },
  {
   "cell_type": "code",
   "execution_count": 10,
   "id": "72471dce-bd99-4d25-a3de-6266659a3371",
   "metadata": {},
   "outputs": [
    {
     "name": "stdout",
     "output_type": "stream",
     "text": [
      "Cleabed text: this is a test string.\n"
     ]
    }
   ],
   "source": [
    "#Removing White space\n",
    "import re\n",
    "#difine a string with extra wgitespace\n",
    "text=\"   this is a test string.  \"\n",
    "#remove extra whitespace\n",
    "cleaned_text=re.sub(r\"\\s+\",\" \",text).strip()\n",
    "print(\"Cleabed text:\",cleaned_text)"
   ]
  },
  {
   "cell_type": "code",
   "execution_count": 13,
   "id": "0b1b120c-7830-4c05-923c-9b63f37f092c",
   "metadata": {},
   "outputs": [
    {
     "name": "stdout",
     "output_type": "stream",
     "text": [
      "words found: ['are', 'apple']\n"
     ]
    }
   ],
   "source": [
    "#finding words with specific patterns\n",
    "import re\n",
    "#define a string\n",
    "text='Here are some words:apple,avocado,banana,airport.'\n",
    "#Find words that start with 'a' and end with'e'\n",
    "matches=re.findall(r'\\ba\\w*e\\b', text)\n",
    "print(\"words found:\",matches)"
   ]
  },
  {
   "cell_type": "code",
   "execution_count": 15,
   "id": "5215fc84-3332-4673-b1e0-45b36c8377aa",
   "metadata": {},
   "outputs": [
    {
     "name": "stdout",
     "output_type": "stream",
     "text": [
      "Hex colors found: ['#FF5733', '#33ff57', '#3357ff']\n"
     ]
    }
   ],
   "source": [
    "#Matching Hexadecimal colors\n",
    "import re\n",
    "#define a string with colors\n",
    "text='The colors are#FF5733,#33ff57,and #3357ff.'\n",
    "#regex pattern for hexadecimal colr sodes.\n",
    "pattern=r'#[0-9A-Fa_f]{6}'\n",
    "#Find all hexadecimalcolor in the text\n",
    "matches=re.findall(pattern,text)\n",
    "print('Hex colors found:',matches)"
   ]
  },
  {
   "cell_type": "code",
   "execution_count": 16,
   "id": "61cd6358-c66a-499c-b40c-47ca807216d4",
   "metadata": {},
   "outputs": [
    {
     "name": "stdout",
     "output_type": "stream",
     "text": [
      "whole word matches found: ['cat']\n"
     ]
    }
   ],
   "source": [
    "#Word Boundries\n",
    "import re\n",
    "#define a string\n",
    "text='the cat in the catlog sat on the mat.'\n",
    "#find the word\"cat\" as a whole word(not part of \"catlog\")\n",
    "matches=re.findall(r'\\bcat\\b',text)\n",
    "print('whole word matches found:',matches)"
   ]
  },
  {
   "cell_type": "code",
   "execution_count": null,
   "id": "7ca60003-d79a-4e6a-9328-214b8ba7c5b2",
   "metadata": {},
   "outputs": [],
   "source": []
  }
 ],
 "metadata": {
  "kernelspec": {
   "display_name": "Python 3 (ipykernel)",
   "language": "python",
   "name": "python3"
  },
  "language_info": {
   "codemirror_mode": {
    "name": "ipython",
    "version": 3
   },
   "file_extension": ".py",
   "mimetype": "text/x-python",
   "name": "python",
   "nbconvert_exporter": "python",
   "pygments_lexer": "ipython3",
   "version": "3.12.4"
  }
 },
 "nbformat": 4,
 "nbformat_minor": 5
}
