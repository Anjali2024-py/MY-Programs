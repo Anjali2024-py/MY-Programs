{
 "cells": [
  {
   "cell_type": "code",
   "execution_count": 2,
   "id": "38889689-303c-45e2-96e6-5cbc82355c04",
   "metadata": {},
   "outputs": [
    {
     "name": "stdout",
     "output_type": "stream",
     "text": [
      "a is +ve\n",
      "thank you\n"
     ]
    }
   ],
   "source": [
    "#check given no is +Ve, -ve or neutral\n",
    "a=45\n",
    "if(a>0):\n",
    "    print(\"a is +ve\")\n",
    "elif(a<0):\n",
    "    print(\"a is -ve\")\n",
    "else:\n",
    "    print(\"a is neutral\")\n",
    "print(\"thank you\")"
   ]
  },
  {
   "cell_type": "code",
   "execution_count": 3,
   "id": "bc2fce4a-8d4d-4f2c-89b8-5ef47ddf579c",
   "metadata": {},
   "outputs": [
    {
     "name": "stdout",
     "output_type": "stream",
     "text": [
      "a is odd\n",
      "bye\n"
     ]
    }
   ],
   "source": [
    "#check given number is even or odd\n",
    "a=5\n",
    "if(a%2==0):\n",
    "    print(\"a is even\")\n",
    "else:\n",
    "    print(\"a is odd\")\n",
    "print(\"bye\")"
   ]
  },
  {
   "cell_type": "code",
   "execution_count": 5,
   "id": "af815a94-1a08-4359-bf29-ef698be48578",
   "metadata": {},
   "outputs": [
    {
     "name": "stdin",
     "output_type": "stream",
     "text": [
      "enter any number 5\n"
     ]
    },
    {
     "name": "stdout",
     "output_type": "stream",
     "text": [
      "square is: 25\n"
     ]
    }
   ],
   "source": [
    "#to check the square of given value\n",
    "num=int(input(\"enter any number\"))\n",
    "square=num*num\n",
    "print(\"square is:\",square)"
   ]
  },
  {
   "cell_type": "code",
   "execution_count": 7,
   "id": "583524ba-de03-42c2-af54-9641ea9e8360",
   "metadata": {},
   "outputs": [
    {
     "name": "stdin",
     "output_type": "stream",
     "text": [
      "enter 1st value 5\n",
      "enter 2nd value 6\n"
     ]
    },
    {
     "name": "stdout",
     "output_type": "stream",
     "text": [
      "addition of two numbers: 11\n"
     ]
    }
   ],
   "source": [
    "#addition of two numbers\n",
    "num1=int(input(\"enter 1st value\"))\n",
    "num2=int(input(\"enter 2nd value\"))\n",
    "res=num1+num2\n",
    "print(\"addition of two numbers:\",res)"
   ]
  },
  {
   "cell_type": "code",
   "execution_count": 8,
   "id": "6e28156e-2cd7-43e7-9b4e-6cf09148963e",
   "metadata": {},
   "outputs": [
    {
     "name": "stdin",
     "output_type": "stream",
     "text": [
      "enter 1st value 9\n",
      "enter 2nd value 89\n"
     ]
    },
    {
     "name": "stdout",
     "output_type": "stream",
     "text": [
      "substraction of two numbers: -80\n"
     ]
    }
   ],
   "source": [
    "#substraction of two numbers\n",
    "num1=int(input(\"enter 1st value\"))\n",
    "num2=int(input(\"enter 2nd value\"))\n",
    "res=num1-num2\n",
    "print(\"substraction of two numbers:\",res)"
   ]
  },
  {
   "cell_type": "code",
   "execution_count": 9,
   "id": "647da676-6ecf-4b5d-b706-e3ceaa60ce3c",
   "metadata": {},
   "outputs": [
    {
     "name": "stdin",
     "output_type": "stream",
     "text": [
      "enter 1st value 79\n",
      "enter 2nd value 65\n"
     ]
    },
    {
     "name": "stdout",
     "output_type": "stream",
     "text": [
      "multiplication of two numbers: 5135\n"
     ]
    }
   ],
   "source": [
    "#multiplication of two numbers\n",
    "num1=int(input(\"enter 1st value\"))\n",
    "num2=int(input(\"enter 2nd value\"))\n",
    "res=num1*num2\n",
    "print(\"multiplication of two numbers:\",res)"
   ]
  },
  {
   "cell_type": "code",
   "execution_count": 3,
   "id": "d8868634-d77c-40a9-8b03-9bfb6bc3e0ae",
   "metadata": {},
   "outputs": [
    {
     "name": "stdin",
     "output_type": "stream",
     "text": [
      "enter 1st value 6\n",
      "enter 2nd value 5\n"
     ]
    },
    {
     "name": "stdout",
     "output_type": "stream",
     "text": [
      "division of two numbers: 1.2\n"
     ]
    }
   ],
   "source": [
    "# division of two numbers\n",
    "num1=int(input(\"enter 1st value\"))\n",
    "num2=int(input(\"enter 2nd value\"))\n",
    "res=num1/num2\n",
    "print(\"division of two numbers:\",res)"
   ]
  },
  {
   "cell_type": "code",
   "execution_count": 14,
   "id": "e9862592-9f23-499f-975c-9ef663ebe64f",
   "metadata": {},
   "outputs": [
    {
     "name": "stdout",
     "output_type": "stream",
     "text": [
      "5488\n"
     ]
    }
   ],
   "source": [
    "num1=98\n",
    "num2=56\n",
    "res=num1*num2\n",
    "print(int(res))"
   ]
  },
  {
   "cell_type": "code",
   "execution_count": 1,
   "id": "0732feda-d061-4d33-8831-a3a7e9f3e17b",
   "metadata": {},
   "outputs": [
    {
     "name": "stdin",
     "output_type": "stream",
     "text": [
      "enter any number 5\n",
      "enter any number 2\n"
     ]
    },
    {
     "name": "stdout",
     "output_type": "stream",
     "text": [
      "1\n"
     ]
    }
   ],
   "source": [
    "# modulus of two numbers\n",
    "num1=int(input(\"enter any number\"))\n",
    "num2=int(input(\"enter any number\"))\n",
    "res=num1%num2\n",
    "print(res)\n"
   ]
  },
  {
   "cell_type": "code",
   "execution_count": 3,
   "id": "3ed1581f-311c-4d38-ae7a-3e4f61299ee1",
   "metadata": {},
   "outputs": [
    {
     "name": "stdin",
     "output_type": "stream",
     "text": [
      "enter any number 4\n",
      "enter any number 1\n"
     ]
    },
    {
     "name": "stdout",
     "output_type": "stream",
     "text": [
      "4.0\n"
     ]
    }
   ],
   "source": [
    "#quotient of two numbers\n",
    "num1=float(input(\"enter any number\"))\n",
    "num2=float(input(\"enter any number\"))\n",
    "res=num1//num2\n",
    "print(res)"
   ]
  },
  {
   "cell_type": "code",
   "execution_count": null,
   "id": "2adda4d0-bdc2-43bc-8114-a0771654eb8b",
   "metadata": {},
   "outputs": [],
   "source": []
  }
 ],
 "metadata": {
  "kernelspec": {
   "display_name": "Python 3 (ipykernel)",
   "language": "python",
   "name": "python3"
  },
  "language_info": {
   "codemirror_mode": {
    "name": "ipython",
    "version": 3
   },
   "file_extension": ".py",
   "mimetype": "text/x-python",
   "name": "python",
   "nbconvert_exporter": "python",
   "pygments_lexer": "ipython3",
   "version": "3.12.4"
  }
 },
 "nbformat": 4,
 "nbformat_minor": 5
}
