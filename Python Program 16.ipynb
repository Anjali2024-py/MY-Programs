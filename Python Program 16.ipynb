{
 "cells": [
  {
   "cell_type": "code",
   "execution_count": 1,
   "id": "102d2686-b868-4e7e-894f-53acb81ccc3a",
   "metadata": {},
   "outputs": [
    {
     "name": "stdout",
     "output_type": "stream",
     "text": [
      "1\n",
      "10\n"
     ]
    }
   ],
   "source": [
    "#write the output\n",
    "for i in (1,10):\n",
    "    print(i)"
   ]
  },
  {
   "cell_type": "code",
   "execution_count": 2,
   "id": "10b32f07-427a-48b2-8e30-df79be4dfca7",
   "metadata": {},
   "outputs": [
    {
     "name": "stdout",
     "output_type": "stream",
     "text": [
      "5\n",
      "9\n"
     ]
    }
   ],
   "source": [
    "for i in (5,9):\n",
    "    print(i)"
   ]
  },
  {
   "cell_type": "code",
   "execution_count": 3,
   "id": "481cc07e-c5cc-450d-a5e6-bc439952c0ca",
   "metadata": {},
   "outputs": [
    {
     "name": "stdout",
     "output_type": "stream",
     "text": [
      "c\n",
      "s\n",
      "i\n",
      "l\n",
      "e\n",
      "a\n",
      "r\n",
      "n\n",
      "i\n",
      "n\n",
      "g\n",
      "h\n",
      "u\n",
      "b\n"
     ]
    }
   ],
   "source": [
    "for i in\"csilearninghub\":\n",
    "    print(i)"
   ]
  },
  {
   "cell_type": "code",
   "execution_count": 9,
   "id": "7e541861-f331-4239-ab23-5f9730f16592",
   "metadata": {},
   "outputs": [
    {
     "name": "stdout",
     "output_type": "stream",
     "text": [
      "p y t h o n "
     ]
    }
   ],
   "source": [
    "for i in \"python\":\n",
    "    print(i,end=' ')"
   ]
  },
  {
   "cell_type": "code",
   "execution_count": 13,
   "id": "1ab061d6-7e67-438e-ad10-b2892fe0df65",
   "metadata": {},
   "outputs": [
    {
     "name": "stdout",
     "output_type": "stream",
     "text": [
      "p?y?t?h?o?n?"
     ]
    }
   ],
   "source": [
    "for i in \"python\":\n",
    "    print(i,end='?')"
   ]
  },
  {
   "cell_type": "code",
   "execution_count": 15,
   "id": "6ec8ea6d-fa4a-49eb-9db6-db43a54c551d",
   "metadata": {},
   "outputs": [
    {
     "name": "stdout",
     "output_type": "stream",
     "text": [
      "P?$y?$t?$h?$o?$n?$"
     ]
    }
   ],
   "source": [
    "for i in \"Python\":\n",
    "    print(i,end='?$')"
   ]
  },
  {
   "cell_type": "code",
   "execution_count": 16,
   "id": "612406ba-6427-41d0-979e-e705677fa153",
   "metadata": {},
   "outputs": [
    {
     "name": "stdout",
     "output_type": "stream",
     "text": [
      "1\n",
      "2\n",
      "3\n",
      "4\n"
     ]
    }
   ],
   "source": [
    "for i in (1,2,3,4):\n",
    "    print(i)"
   ]
  },
  {
   "cell_type": "code",
   "execution_count": 17,
   "id": "aa82882d-9398-48e5-b970-aff8a0ea9285",
   "metadata": {},
   "outputs": [
    {
     "name": "stdout",
     "output_type": "stream",
     "text": [
      "3\n",
      "4\n",
      "7\n"
     ]
    }
   ],
   "source": [
    "for i in(3,4,7):\n",
    "    print(i)"
   ]
  },
  {
   "cell_type": "code",
   "execution_count": 19,
   "id": "c5ec2cfa-3d69-49f6-bb71-ce42eee30cfb",
   "metadata": {},
   "outputs": [
    {
     "name": "stdout",
     "output_type": "stream",
     "text": [
      "2\n",
      "4\n",
      "6\n",
      "8\n"
     ]
    }
   ],
   "source": [
    "for i in range(2,10,2):\n",
    "    print(i)"
   ]
  },
  {
   "cell_type": "code",
   "execution_count": 20,
   "id": "03bd439b-d086-4880-a4a8-3367c49df915",
   "metadata": {},
   "outputs": [
    {
     "name": "stdout",
     "output_type": "stream",
     "text": [
      "25\n",
      "64\n",
      "121\n",
      "196\n"
     ]
    }
   ],
   "source": [
    "x=5\n",
    "while(x<15):\n",
    "    print(x**2)\n",
    "    x=x+3"
   ]
  },
  {
   "cell_type": "code",
   "execution_count": null,
   "id": "38227bb1-a8c3-4fed-bef5-66df9c0586d2",
   "metadata": {},
   "outputs": [],
   "source": []
  }
 ],
 "metadata": {
  "kernelspec": {
   "display_name": "Python 3 (ipykernel)",
   "language": "python",
   "name": "python3"
  },
  "language_info": {
   "codemirror_mode": {
    "name": "ipython",
    "version": 3
   },
   "file_extension": ".py",
   "mimetype": "text/x-python",
   "name": "python",
   "nbconvert_exporter": "python",
   "pygments_lexer": "ipython3",
   "version": "3.12.4"
  }
 },
 "nbformat": 4,
 "nbformat_minor": 5
}
