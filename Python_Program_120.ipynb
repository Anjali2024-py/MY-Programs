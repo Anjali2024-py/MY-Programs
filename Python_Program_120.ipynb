{
 "cells": [
  {
   "cell_type": "code",
   "execution_count": 4,
   "id": "f461fb9d-763b-4b6d-a90c-2e55117ba703",
   "metadata": {},
   "outputs": [
    {
     "name": "stdin",
     "output_type": "stream",
     "text": [
      "Enter a character (type 'q' to quit): k\n",
      "Enter a character (type 'q' to quit): q\n"
     ]
    },
    {
     "name": "stdout",
     "output_type": "stream",
     "text": [
      "You typed 'q' Existing loop.\n",
      "You entered: q\n"
     ]
    }
   ],
   "source": [
    "while True:\n",
    "    char=input(\"Enter a character (type 'q' to quit):\")\n",
    "    if char =='q':\n",
    "        print(\"You typed 'q' Existing loop.\")\n",
    "        break \n",
    "print(f\"You entered: { char}\")"
   ]
  },
  {
   "cell_type": "code",
   "execution_count": 5,
   "id": "3df9a225-5b12-45d9-89ef-1d487dee51a3",
   "metadata": {},
   "outputs": [
    {
     "name": "stdout",
     "output_type": "stream",
     "text": [
      "0\n",
      "1\n",
      "2\n"
     ]
    }
   ],
   "source": [
    "for i in range(10):\n",
    "    if i==3:\n",
    "        break\n",
    "    print(i)"
   ]
  },
  {
   "cell_type": "code",
   "execution_count": 12,
   "id": "d5cfe691-caeb-4c99-911f-2cc3620b6a89",
   "metadata": {},
   "outputs": [
    {
     "name": "stdout",
     "output_type": "stream",
     "text": [
      "i=0, j=0\n",
      "i=0, j=1\n",
      "Breaking inner loop\n"
     ]
    }
   ],
   "source": [
    "for i in range(3):\n",
    "    for j in range(3):\n",
    "        print(f\"i={i}, j={j}\")\n",
    "        if j == 1:\n",
    "            print(\"Breaking inner loop\")\n",
    "            break\n",
    "    else:\n",
    "        # This else corresponds to the inner loop, and runs if there's no break\n",
    "        print(\"Inner loop completed without break\")\n",
    "    # Breaking outer loop if j==1 is encountered\n",
    "    if j == 1:\n",
    "        break\n"
   ]
  },
  {
   "cell_type": "code",
   "execution_count": 9,
   "id": "78ef6506-cbfe-49d8-9c84-24db73198733",
   "metadata": {},
   "outputs": [
    {
     "name": "stdout",
     "output_type": "stream",
     "text": [
      "The first prime number greater than 100 is:101\n"
     ]
    }
   ],
   "source": [
    "def is_prime(n):\n",
    "    if n<=1:\n",
    "        return False\n",
    "    for i in range(2,int(n**0.5)+1):\n",
    "        if n%i==0:\n",
    "            return False\n",
    "    return True\n",
    "\n",
    "for number in range(101,200):\n",
    "    if is_prime(number):\n",
    "        print(f\"The first prime number greater than 100 is:{number}\")\n",
    "        break"
   ]
  },
  {
   "cell_type": "code",
   "execution_count": 11,
   "id": "3129437b-8ed8-44af-8aaa-3b5a9ebf6ed7",
   "metadata": {},
   "outputs": [
    {
     "name": "stdin",
     "output_type": "stream",
     "text": [
      "Enter an integer(enter a non-integer to quit): 2.5\n"
     ]
    },
    {
     "name": "stdout",
     "output_type": "stream",
     "text": [
      "Non-integer input detected.Existing loop.\n"
     ]
    }
   ],
   "source": [
    "while True:\n",
    "    try:\n",
    "        user_input=int(input(\"Enter an integer(enter a non-integer to quit):\"))\n",
    "        print(f\"You entered :{user_input}\")\n",
    "    except ValueError:\n",
    "        print(\"Non-integer input detected.Existing loop.\")\n",
    "        break"
   ]
  },
  {
   "cell_type": "code",
   "execution_count": null,
   "id": "e7082a18-d4c3-4f30-baa4-23732971631c",
   "metadata": {},
   "outputs": [],
   "source": []
  },
  {
   "cell_type": "code",
   "execution_count": null,
   "id": "37b2a081-6bd8-459a-a83d-ab9940bb32ee",
   "metadata": {},
   "outputs": [],
   "source": []
  },
  {
   "cell_type": "code",
   "execution_count": null,
   "id": "f5e5edd6-af6e-4799-a724-b20de0d925ba",
   "metadata": {},
   "outputs": [],
   "source": []
  }
 ],
 "metadata": {
  "kernelspec": {
   "display_name": "Python 3 (ipykernel)",
   "language": "python",
   "name": "python3"
  },
  "language_info": {
   "codemirror_mode": {
    "name": "ipython",
    "version": 3
   },
   "file_extension": ".py",
   "mimetype": "text/x-python",
   "name": "python",
   "nbconvert_exporter": "python",
   "pygments_lexer": "ipython3",
   "version": "3.12.4"
  }
 },
 "nbformat": 4,
 "nbformat_minor": 5
}
