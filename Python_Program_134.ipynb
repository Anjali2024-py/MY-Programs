{
 "cells": [
  {
   "cell_type": "code",
   "execution_count": 1,
   "id": "a3c5c4f3-c14b-4e0f-804b-2fd97a45a3e0",
   "metadata": {},
   "outputs": [
    {
     "name": "stdout",
     "output_type": "stream",
     "text": [
      "Sum of positive numbers: 60\n"
     ]
    }
   ],
   "source": [
    "numbers=[10,-5,20,-3,30]\n",
    "total=0\n",
    "for num in numbers:\n",
    "    if num<0:\n",
    "        continue\n",
    "    total+=num\n",
    "print(\"Sum of positive numbers:\",total)"
   ]
  },
  {
   "cell_type": "code",
   "execution_count": 3,
   "id": "7b86ae56-e681-4008-ac6e-cdd1528a886e",
   "metadata": {},
   "outputs": [
    {
     "name": "stdout",
     "output_type": "stream",
     "text": [
      "P P "
     ]
    }
   ],
   "source": [
    "text=\"Python Programming 101\"\n",
    "for char in text:\n",
    "    if not char.isupper():\n",
    "        continue\n",
    "    print(char,end=\" \")"
   ]
  },
  {
   "cell_type": "code",
   "execution_count": 4,
   "id": "836b3b83-0596-4b74-9752-521b5fbe1a64",
   "metadata": {},
   "outputs": [
    {
     "name": "stdout",
     "output_type": "stream",
     "text": [
      "a p l e "
     ]
    }
   ],
   "source": [
    "text='apple'\n",
    "seen=set()\n",
    "for char in text:\n",
    "    if char in seen:\n",
    "        continue\n",
    "    seen.add(char)\n",
    "    print(char,end=\" \")"
   ]
  },
  {
   "cell_type": "code",
   "execution_count": 5,
   "id": "1e022eee-8d52-4093-b807-9d3c38744081",
   "metadata": {},
   "outputs": [
    {
     "name": "stdout",
     "output_type": "stream",
     "text": [
      "Count of numbers f=greater than 50: 4\n"
     ]
    }
   ],
   "source": [
    "numbers=[30, 60, 45, 100, 20, 75, 80]\n",
    "count=0\n",
    "for num in numbers:\n",
    "    if num<=50:\n",
    "        continue\n",
    "    count+=1\n",
    "\n",
    "print(\"Count of numbers f=greater than 50:\",count)"
   ]
  },
  {
   "cell_type": "code",
   "execution_count": 6,
   "id": "92f9d055-2d3d-4635-93e9-1984c5fef8b8",
   "metadata": {},
   "outputs": [
    {
     "name": "stdout",
     "output_type": "stream",
     "text": [
      "apple\n",
      "banana\n",
      "elephant\n"
     ]
    }
   ],
   "source": [
    "words=[\"apple\", \"cat\", \"banana\", \"dog\", \"elephant\"]\n",
    "for word in words:\n",
    "    if len(word)<4:\n",
    "        continue\n",
    "    print(word)"
   ]
  },
  {
   "cell_type": "code",
   "execution_count": null,
   "id": "b4cc0f3b-9971-4ee1-b484-678bd16d3970",
   "metadata": {},
   "outputs": [],
   "source": []
  }
 ],
 "metadata": {
  "kernelspec": {
   "display_name": "Python 3 (ipykernel)",
   "language": "python",
   "name": "python3"
  },
  "language_info": {
   "codemirror_mode": {
    "name": "ipython",
    "version": 3
   },
   "file_extension": ".py",
   "mimetype": "text/x-python",
   "name": "python",
   "nbconvert_exporter": "python",
   "pygments_lexer": "ipython3",
   "version": "3.12.4"
  }
 },
 "nbformat": 4,
 "nbformat_minor": 5
}
