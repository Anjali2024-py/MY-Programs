{
 "cells": [
  {
   "cell_type": "code",
   "execution_count": 1,
   "id": "42d8ccca-a09c-4700-986c-415ebb100761",
   "metadata": {},
   "outputs": [
    {
     "name": "stdin",
     "output_type": "stream",
     "text": [
      "enter any number: 5\n",
      "enter any num value's: 12\n",
      "enter any num value's: 63\n",
      "enter any num value's: 87\n",
      "enter any num value's: 46\n",
      "enter any num value's: 23\n"
     ]
    },
    {
     "name": "stdout",
     "output_type": "stream",
     "text": [
      "originsl list here:\n",
      "12 63 87 46 23 \n",
      "new list is: \n",
      " [12, 23, 46, 63, 87]\n"
     ]
    }
   ],
   "source": [
    "#print the list in ascending or dicsending order without using sort function\n",
    "n=int(input(\"enter any number:\"))\n",
    "l5=[]\n",
    "for i in range(n):\n",
    "    element=int(input(\"enter any num value's:\"))\n",
    "    l5.append(element)\n",
    "print(\"originsl list here:\")\n",
    "for i in range(n):\n",
    "    print(l5[i],end=\" \")\n",
    "for i in range(n):\n",
    "    for j in range(i+1,n):\n",
    "        \n",
    "        if l5[i]>l5[j]:\n",
    "            temp=l5[i]\n",
    "            l5[i]=l5[j]\n",
    "            l5[j]=temp\n",
    "            \n",
    "print(\"\\nnew list is:\", end=\" \")\n",
    "print('\\n',l5)"
   ]
  },
  {
   "cell_type": "code",
   "execution_count": 2,
   "id": "5f0b9b48-fe26-40d0-a225-ab54ac5a5a4b",
   "metadata": {},
   "outputs": [
    {
     "name": "stdin",
     "output_type": "stream",
     "text": [
      "enter any NUMBER: 45\n"
     ]
    },
    {
     "name": "stdout",
     "output_type": "stream",
     "text": [
      "D\n"
     ]
    }
   ],
   "source": [
    "#write a program to accept the percentage from the user and \n",
    "#display the grade according to the following criteria\n",
    "per=int(input(\"enter any NUMBER:\"))\n",
    "if per >90:\n",
    "    print(\"A\")\n",
    "elif per>80 and per<=90:\n",
    "    print(\"B\")\n",
    "elif per>=60 and per<=80:\n",
    "    print(\"C\")\n",
    "elif per<60:\n",
    "    print(\"D\")\n",
    "else:\n",
    "   print(\"fail\")\n",
    "    "
   ]
  },
  {
   "cell_type": "code",
   "execution_count": 3,
   "id": "973efa6a-1edb-4c75-b409-fd9a0f284911",
   "metadata": {},
   "outputs": [
    {
     "name": "stdin",
     "output_type": "stream",
     "text": [
      "enter any number: 5000\n"
     ]
    },
    {
     "name": "stdout",
     "output_type": "stream",
     "text": [
      "4750.0\n"
     ]
    }
   ],
   "source": [
    "#write a program to accept the cost price of a bike and \n",
    "#display the road tax to be paid according to the following criteria\n",
    "cp=int(input(\"enter any number:\"))\n",
    "if cp >100000:\n",
    "    \n",
    "    tax=15/100*cp\n",
    "elif cp>50000 and cp<=100000:\n",
    "    tax=10/100*cp\n",
    "elif cp<=50000:\n",
    "    tax=5/100*cp\n",
    "print(cp-tax)\n"
   ]
  },
  {
   "cell_type": "code",
   "execution_count": 4,
   "id": "b6a0d7ff-f57e-4dc4-a2e8-a875fdee109a",
   "metadata": {},
   "outputs": [
    {
     "name": "stdin",
     "output_type": "stream",
     "text": [
      "enter the year: 2024\n"
     ]
    },
    {
     "name": "stdout",
     "output_type": "stream",
     "text": [
      "enter year is leap year\n"
     ]
    }
   ],
   "source": [
    "#write a program to check wheather the year is leap year or not\n",
    "yr=int(input(\"enter the year:\"))\n",
    "if yr%4==0:\n",
    "        print(\"enter year is leap year\")\n",
    "else:\n",
    "    print(\"entered year is not leap year\")\n",
    "        "
   ]
  },
  {
   "cell_type": "code",
   "execution_count": 5,
   "id": "93068f33-0cb3-4a74-a1c7-85bf2250707a",
   "metadata": {},
   "outputs": [
    {
     "name": "stdout",
     "output_type": "stream",
     "text": [
      "hello\n"
     ]
    }
   ],
   "source": [
    "#write the output of the following if \n",
    "a=9\n",
    "if (a>5 and a<=10):\n",
    "    print(\"hello\")\n",
    "else:\n",
    "    print(\"bye\")\n"
   ]
  },
  {
   "cell_type": "code",
   "execution_count": 7,
   "id": "a007d5c9-4b94-4db9-b7b1-2310c4ac690d",
   "metadata": {},
   "outputs": [
    {
     "name": "stdin",
     "output_type": "stream",
     "text": [
      "enter 1 to 7 number here: 2\n"
     ]
    },
    {
     "name": "stdout",
     "output_type": "stream",
     "text": [
      "monday\n"
     ]
    }
   ],
   "source": [
    "#Write the program to accept a number from 1 to 7 and display the name of the day like 1 for sunday\n",
    "#2 for monday and so on\n",
    "num=int(input(\"enter 1 to 7 number here:\"))\n",
    "if num==1:\n",
    "    print(\"sunday\")\n",
    "elif num==2:\n",
    "    print(\"monday\")\n",
    "if num==3:\n",
    "    print(\"tuesday\")\n",
    "elif num==4:\n",
    "    print(\"wednesday\")\n",
    "elif num==5:\n",
    "    print(\"thursday\")\n",
    "elif num==6:\n",
    "    print(\"friday\")\n",
    "elif num==7:\n",
    "    print(\"saturday\")\n",
    "\n"
   ]
  },
  {
   "cell_type": "code",
   "execution_count": 18,
   "id": "2ee2d85f-753f-4a2e-a746-8866756d1ea4",
   "metadata": {},
   "outputs": [
    {
     "name": "stdout",
     "output_type": "stream",
     "text": [
      "1 4 9 16 25 36 49 64 81 100 "
     ]
    }
   ],
   "source": [
    "#write a program o print following series\n",
    "1,4,9,.......,n\n",
    "n=10\n",
    "i=1\n",
    "while(i<=10):\n",
    "    print(i**2,end=\" \")\n",
    "    i=i+1"
   ]
  },
  {
   "cell_type": "code",
   "execution_count": 41,
   "id": "0522967c-f82f-4f98-8bb2-1704a88a9aa7",
   "metadata": {},
   "outputs": [
    {
     "name": "stdin",
     "output_type": "stream",
     "text": [
      "enter any number: 5\n"
     ]
    },
    {
     "name": "stdout",
     "output_type": "stream",
     "text": [
      "225\n"
     ]
    }
   ],
   "source": [
    "##write a program o print following series\n",
    "#1,8,27,.....,n\n",
    "n=int(input(\"enter any number:\"))\n",
    "i=1\n",
    "sum=0\n",
    "while(i<=n):\n",
    "    sum=sum+i**3\n",
    "    i=i+1\n",
    "print(sum)\n"
   ]
  },
  {
   "cell_type": "code",
   "execution_count": 10,
   "id": "2d39ba40-57b3-437c-b99e-600fdb4fe329",
   "metadata": {},
   "outputs": [
    {
     "name": "stdin",
     "output_type": "stream",
     "text": [
      "enter any number: 5\n"
     ]
    },
    {
     "name": "stdout",
     "output_type": "stream",
     "text": [
      "1 + 2 + 6 + 24 + 120 + = 153\n"
     ]
    }
   ],
   "source": [
    "#write a program to find the sum of following series\n",
    "#1 2 6 24 120,.....n\n",
    "n=int(input(\"enter any number:\"))\n",
    "i=1\n",
    "sum=0\n",
    "res=1\n",
    "while(i<=n):\n",
    "    res=res*i\n",
    "    print(res,\"+\",end=\" \")\n",
    "    sum=sum+res\n",
    "    i=i+1\n",
    "print(\"=\", sum)"
   ]
  },
  {
   "cell_type": "code",
   "execution_count": 16,
   "id": "53dc7342-86f5-42c1-9e62-d1c8046bf969",
   "metadata": {},
   "outputs": [
    {
     "name": "stdin",
     "output_type": "stream",
     "text": [
      "enter any number: 8\n"
     ]
    },
    {
     "name": "stdout",
     "output_type": "stream",
     "text": [
      "38\n"
     ]
    }
   ],
   "source": [
    "#write a program to print following series\n",
    "#1+4-9+16-25....n\n",
    "n=int(input(\"enter any number:\"))\n",
    "i=2\n",
    "sp=1\n",
    "sn=0\n",
    "while(i<=n):\n",
    "    if i%2==0:\n",
    "        sp=sp+i**2\n",
    "        i=i+1\n",
    "    else:\n",
    "        sn=sn+i**2\n",
    "        i=i+1\n",
    "print(sp-sn)"
   ]
  },
  {
   "cell_type": "code",
   "execution_count": null,
   "id": "c2a8107f-a049-4615-8db5-c0a35651bddb",
   "metadata": {},
   "outputs": [],
   "source": []
  }
 ],
 "metadata": {
  "kernelspec": {
   "display_name": "Python 3 (ipykernel)",
   "language": "python",
   "name": "python3"
  },
  "language_info": {
   "codemirror_mode": {
    "name": "ipython",
    "version": 3
   },
   "file_extension": ".py",
   "mimetype": "text/x-python",
   "name": "python",
   "nbconvert_exporter": "python",
   "pygments_lexer": "ipython3",
   "version": "3.12.4"
  }
 },
 "nbformat": 4,
 "nbformat_minor": 5
}
