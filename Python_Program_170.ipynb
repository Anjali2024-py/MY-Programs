{
 "cells": [
  {
   "cell_type": "code",
   "execution_count": 1,
   "id": "0406d3a9-fede-4337-bef0-3857fb2467b1",
   "metadata": {},
   "outputs": [
    {
     "name": "stdout",
     "output_type": "stream",
     "text": [
      "[1, 2, 5, 7, 9]\n"
     ]
    }
   ],
   "source": [
    "numbers = [5, 2, 9, 1, 7]\n",
    "numbers.sort()\n",
    "print(numbers)"
   ]
  },
  {
   "cell_type": "code",
   "execution_count": 2,
   "id": "b37a7e03-5c74-42f5-a5af-edaf18d72f0c",
   "metadata": {},
   "outputs": [
    {
     "name": "stdout",
     "output_type": "stream",
     "text": [
      "['date', 'cherry', 'banana', 'apple']\n"
     ]
    }
   ],
   "source": [
    "fruits = [\"apple\", \"banana\", \"cherry\", \"date\"]\n",
    "fruits.sort(reverse=True)\n",
    "print(fruits) "
   ]
  },
  {
   "cell_type": "code",
   "execution_count": 3,
   "id": "51f36e98-8f8a-4076-a342-5e8c721f66dc",
   "metadata": {},
   "outputs": [
    {
     "name": "stdout",
     "output_type": "stream",
     "text": [
      "[(4, 1), (2, 2), (1, 3), (3, 4)]\n"
     ]
    }
   ],
   "source": [
    "pairs = [(1, 3), (2, 2), (4, 1), (3, 4)]\n",
    "pairs.sort(key=lambda x: x[1])  # Sort by the second element of each tuple\n",
    "print(pairs)"
   ]
  },
  {
   "cell_type": "code",
   "execution_count": 4,
   "id": "3f930675-d9a4-4f08-a745-f21fefa65f21",
   "metadata": {},
   "outputs": [
    {
     "name": "stdout",
     "output_type": "stream",
     "text": [
      "[{'name': 'Bob', 'age': 20}, {'name': 'Alice', 'age': 25}, {'name': 'Charlie', 'age': 30}]\n"
     ]
    }
   ],
   "source": [
    "people = [\n",
    "    {\"name\": \"Alice\", \"age\": 25},\n",
    "    {\"name\": \"Bob\", \"age\": 20},\n",
    "    {\"name\": \"Charlie\", \"age\": 30}\n",
    "]\n",
    "people.sort(key=lambda person: person['age'])\n",
    "print(people)"
   ]
  },
  {
   "cell_type": "code",
   "execution_count": 5,
   "id": "91272a82-835d-450f-a96f-60f4f455cc78",
   "metadata": {},
   "outputs": [
    {
     "name": "stdout",
     "output_type": "stream",
     "text": [
      "['kiwi', 'apple', 'grape', 'banana']\n"
     ]
    }
   ],
   "source": [
    "words = [\"apple\", \"banana\", \"kiwi\", \"grape\"]\n",
    "words.sort(key=lambda word: len(word))  # Sort by length of each word\n",
    "print(words)  "
   ]
  },
  {
   "cell_type": "code",
   "execution_count": 6,
   "id": "dab24068-0976-47a3-9933-494b17cdcbf2",
   "metadata": {},
   "outputs": [
    {
     "name": "stdout",
     "output_type": "stream",
     "text": [
      "['kiwi', 'apple', 'grape', 'banana']\n"
     ]
    }
   ],
   "source": [
    "words = [\"apple\", \"banana\", \"kiwi\", \"grape\"]\n",
    "words.sort(key=lambda word: len(word))  # Sort by length of each word\n",
    "print(words) "
   ]
  },
  {
   "cell_type": "code",
   "execution_count": 7,
   "id": "ce4d814e-b069-4698-bd43-8e71f6dad793",
   "metadata": {},
   "outputs": [
    {
     "name": "stdout",
     "output_type": "stream",
     "text": [
      "[33, 15, 10, 7, 2]\n"
     ]
    }
   ],
   "source": [
    "numbers = [10, 2, 33, 15, 7]\n",
    "numbers.sort(key=lambda x: x, reverse=True)  # Sort in descending order\n",
    "print(numbers) \n"
   ]
  },
  {
   "cell_type": "code",
   "execution_count": 8,
   "id": "aadf3b5d-0a07-46fa-86c7-790e4e8d5ed3",
   "metadata": {},
   "outputs": [
    {
     "name": "stdout",
     "output_type": "stream",
     "text": [
      "[[1, 'banana'], [2, 'cherry'], [3, 'apple']]\n"
     ]
    }
   ],
   "source": [
    "nested_list = [[3, \"apple\"], [1, \"banana\"], [2, \"cherry\"]]\n",
    "nested_list.sort(key=lambda x: x[0])  # Sort by the first element of each list\n",
    "print(nested_list) \n"
   ]
  },
  {
   "cell_type": "code",
   "execution_count": 9,
   "id": "8ed8a5db-2519-4b17-b45d-6c3abf9d0b29",
   "metadata": {},
   "outputs": [
    {
     "name": "stdout",
     "output_type": "stream",
     "text": [
      "['banana', 'apple', 'grape', 'kiwi']\n"
     ]
    }
   ],
   "source": [
    "words = [\"kiwi\", \"banana\", \"apple\", \"grape\"]\n",
    "words.sort(key=lambda word: len(word), reverse=True)  # Sort by length in descending order\n",
    "print(words)"
   ]
  },
  {
   "cell_type": "code",
   "execution_count": null,
   "id": "29c6f6ac-f064-445a-b520-da67db74f4cd",
   "metadata": {},
   "outputs": [],
   "source": []
  }
 ],
 "metadata": {
  "kernelspec": {
   "display_name": "Python 3 (ipykernel)",
   "language": "python",
   "name": "python3"
  },
  "language_info": {
   "codemirror_mode": {
    "name": "ipython",
    "version": 3
   },
   "file_extension": ".py",
   "mimetype": "text/x-python",
   "name": "python",
   "nbconvert_exporter": "python",
   "pygments_lexer": "ipython3",
   "version": "3.12.4"
  }
 },
 "nbformat": 4,
 "nbformat_minor": 5
}
