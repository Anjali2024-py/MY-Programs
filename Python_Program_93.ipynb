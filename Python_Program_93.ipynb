{
 "cells": [
  {
   "cell_type": "code",
   "execution_count": 1,
   "id": "0101cbcc-4f33-453d-a9c4-e97e0b742ce5",
   "metadata": {},
   "outputs": [
    {
     "name": "stdout",
     "output_type": "stream",
     "text": [
      "Title:1984,Author:George Orwell\n"
     ]
    }
   ],
   "source": [
    "#Class with a Simple Constructor\n",
    "#This program defines a Book class that stores the title and author and displays them\n",
    "\n",
    "class book:\n",
    "    def __init__(self,title,author):\n",
    "        self.title=title\n",
    "        self.author=author\n",
    "    def display(self):\n",
    "        print(f\"Title:{self.title},Author:{self.author}\")\n",
    "\n",
    "book1=book(\"1984\", \"George Orwell\")\n",
    "book1.display()\n",
    "        \n",
    "        \n",
    "    "
   ]
  },
  {
   "cell_type": "code",
   "execution_count": 3,
   "id": "3702069d-b84b-47b7-8fbd-e662ce7a017b",
   "metadata": {},
   "outputs": [
    {
     "name": "stdout",
     "output_type": "stream",
     "text": [
      "Area of Rectangle: 6\n"
     ]
    }
   ],
   "source": [
    "#Simple Class with Method\n",
    "#This program creates a Rectangle class that calculates the area of the rectangle\n",
    "class rectangle:\n",
    "    def __init__(self,width,height):\n",
    "        self.width=width\n",
    "        self.height=height\n",
    "    def area(self):\n",
    "        return self.width*self.height\n",
    "# Create a Rectangle object\n",
    "rec=rectangle(3,2)\n",
    "print(\"Area of Rectangle:\", rec.area())"
   ]
  },
  {
   "cell_type": "code",
   "execution_count": null,
   "id": "e8646dd9-5e74-47c7-9b3f-e1c606dbcb0a",
   "metadata": {},
   "outputs": [],
   "source": []
  }
 ],
 "metadata": {
  "kernelspec": {
   "display_name": "Python 3 (ipykernel)",
   "language": "python",
   "name": "python3"
  },
  "language_info": {
   "codemirror_mode": {
    "name": "ipython",
    "version": 3
   },
   "file_extension": ".py",
   "mimetype": "text/x-python",
   "name": "python",
   "nbconvert_exporter": "python",
   "pygments_lexer": "ipython3",
   "version": "3.12.4"
  }
 },
 "nbformat": 4,
 "nbformat_minor": 5
}
