{
 "cells": [
  {
   "cell_type": "code",
   "execution_count": 1,
   "id": "acdd133e-53c8-4bbd-baca-caf01f2943e8",
   "metadata": {},
   "outputs": [
    {
     "name": "stdout",
     "output_type": "stream",
     "text": [
      "2\n",
      "{'a': 1, 'b': 2, 'c': 3}\n"
     ]
    }
   ],
   "source": [
    "my_dict={'a':1,'b':2,'c':3}\n",
    "result=my_dict.setdefault('b',10)\n",
    "print(result)\n",
    "print(my_dict)"
   ]
  },
  {
   "cell_type": "code",
   "execution_count": 2,
   "id": "711fd44c-2a64-4431-a34c-5666e9aa2af2",
   "metadata": {},
   "outputs": [
    {
     "name": "stdout",
     "output_type": "stream",
     "text": [
      "4\n",
      "{'a': 1, 'b': 2, 'c': 3, 'd': 4}\n"
     ]
    }
   ],
   "source": [
    "my_dict={'a':1,'b':2,'c':3}\n",
    "result=my_dict.setdefault('d',4)\n",
    "print(result)\n",
    "print(my_dict)"
   ]
  },
  {
   "cell_type": "code",
   "execution_count": 3,
   "id": "6e36f59c-e13a-4deb-9403-7eeef1e780e3",
   "metadata": {},
   "outputs": [
    {
     "name": "stdout",
     "output_type": "stream",
     "text": [
      "None\n",
      "{'a': 1, 'b': 2, 'c': None}\n"
     ]
    }
   ],
   "source": [
    "my_dict={'a':1,'b':2}\n",
    "result=my_dict.setdefault('c')\n",
    "print(result)\n",
    "print(my_dict)"
   ]
  },
  {
   "cell_type": "code",
   "execution_count": 5,
   "id": "c4626309-5602-42be-8533-09bfe9942994",
   "metadata": {},
   "outputs": [
    {
     "name": "stdout",
     "output_type": "stream",
     "text": [
      "5\n",
      "{'a': {'x': 1}, 'b': {'y': 5}}\n"
     ]
    }
   ],
   "source": [
    "my_dict = {'a': {'x': 1}}\n",
    "result = my_dict.setdefault('b', {}).setdefault('y', 5)\n",
    "print(result)  \n",
    "print(my_dict) \n"
   ]
  },
  {
   "cell_type": "code",
   "execution_count": 7,
   "id": "bfb3ad0f-2b11-43b0-934a-4030d95f932d",
   "metadata": {},
   "outputs": [
    {
     "name": "stdout",
     "output_type": "stream",
     "text": [
      "{'a': [10, 30], 'b': [20]}\n"
     ]
    }
   ],
   "source": [
    "my_dict={}\n",
    "my_dict.setdefault('a',[]).append(10)\n",
    "my_dict.setdefault('b',[]).append(20)\n",
    "my_dict.setdefault('a',[]).append(30)\n",
    "print(my_dict)"
   ]
  },
  {
   "cell_type": "code",
   "execution_count": null,
   "id": "093df96b-e519-4138-8bc2-3881fdfbc22f",
   "metadata": {},
   "outputs": [],
   "source": []
  }
 ],
 "metadata": {
  "kernelspec": {
   "display_name": "Python 3 (ipykernel)",
   "language": "python",
   "name": "python3"
  },
  "language_info": {
   "codemirror_mode": {
    "name": "ipython",
    "version": 3
   },
   "file_extension": ".py",
   "mimetype": "text/x-python",
   "name": "python",
   "nbconvert_exporter": "python",
   "pygments_lexer": "ipython3",
   "version": "3.12.4"
  }
 },
 "nbformat": 4,
 "nbformat_minor": 5
}
