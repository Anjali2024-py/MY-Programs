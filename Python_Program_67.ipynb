{
 "cells": [
  {
   "cell_type": "code",
   "execution_count": 1,
   "id": "f745ee67-7d08-4b46-be70-7d6134417872",
   "metadata": {},
   "outputs": [
    {
     "name": "stdout",
     "output_type": "stream",
     "text": [
      "['tweve:', ' EIGHTY NINE:89 nine:9.']\n"
     ]
    }
   ],
   "source": [
    "import re\n",
    "string='tweve:12 EIGHTY NINE:89 nine:9.'\n",
    "pattern=r'\\d+'\n",
    "x=re.split(pattern,string,maxsplit=1)\n",
    "print(x)"
   ]
  },
  {
   "cell_type": "code",
   "execution_count": 3,
   "id": "84f13d78-5572-49f1-93d1-50a5707015b7",
   "metadata": {},
   "outputs": [
    {
     "name": "stdout",
     "output_type": "stream",
     "text": [
      "['tweve:', ' EIGHTY NINE:89 nine:9.']\n"
     ]
    }
   ],
   "source": [
    "import re\n",
    "string='tweve:12 EIGHTY NINE:89 nine:9.'\n",
    "pattern='\\\\d+'\n",
    "x=re.split(pattern,string,maxsplit=1)\n",
    "print(x)"
   ]
  },
  {
   "cell_type": "code",
   "execution_count": 4,
   "id": "75728eed-e569-48eb-9172-1f1f3c09c31a",
   "metadata": {},
   "outputs": [
    {
     "name": "stdout",
     "output_type": "stream",
     "text": [
      "abc12de23f456\n"
     ]
    }
   ],
   "source": [
    "import re\n",
    "string=\"abc 12\\nde 23 \\n f45 6\"\n",
    "pattern=r'\\s+'\n",
    "replace=''\n",
    "x=re.sub(pattern,replace,string)\n",
    "print(x)\n"
   ]
  },
  {
   "cell_type": "code",
   "execution_count": 5,
   "id": "633e8b10-86a1-4194-b6b5-836d6c321fe5",
   "metadata": {},
   "outputs": [
    {
     "name": "stdout",
     "output_type": "stream",
     "text": [
      "abc12de23f456\n"
     ]
    }
   ],
   "source": [
    "import re\n",
    "string=\"abc 12\\nde 23 \\n f45 6\"\n",
    "pattern='\\\\s+'\n",
    "replace=''\n",
    "x=re.sub(pattern,replace,string)\n",
    "print(x)"
   ]
  },
  {
   "cell_type": "code",
   "execution_count": 7,
   "id": "bb84a4a5-1f25-4872-9fb8-c52004d8029f",
   "metadata": {},
   "outputs": [
    {
     "name": "stdout",
     "output_type": "stream",
     "text": [
      "<re.Match object; span=(5, 7), match='ai'>\n"
     ]
    }
   ],
   "source": [
    "import re\n",
    "string='the rain in spain'\n",
    "x=re.search('ai',string)\n",
    "print(x)"
   ]
  },
  {
   "cell_type": "code",
   "execution_count": null,
   "id": "e669da33-48c7-4bd6-b72d-67071f175f59",
   "metadata": {},
   "outputs": [],
   "source": []
  }
 ],
 "metadata": {
  "kernelspec": {
   "display_name": "Python 3 (ipykernel)",
   "language": "python",
   "name": "python3"
  },
  "language_info": {
   "codemirror_mode": {
    "name": "ipython",
    "version": 3
   },
   "file_extension": ".py",
   "mimetype": "text/x-python",
   "name": "python",
   "nbconvert_exporter": "python",
   "pygments_lexer": "ipython3",
   "version": "3.12.4"
  }
 },
 "nbformat": 4,
 "nbformat_minor": 5
}
