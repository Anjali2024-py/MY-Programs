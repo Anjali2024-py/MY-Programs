{
 "cells": [
  {
   "cell_type": "code",
   "execution_count": 2,
   "id": "3a26e4df-ef6b-434b-b37c-32488d5c2d76",
   "metadata": {},
   "outputs": [
    {
     "name": "stdout",
     "output_type": "stream",
     "text": [
      "      *       \n",
      "    *   *     \n",
      "  *       *   \n",
      "* * * * * * * \n"
     ]
    }
   ],
   "source": [
    "i=0\n",
    "j=3\n",
    "for row in range(4):\n",
    "    for col in range(7):\n",
    "        if row==3 or (row==1 and col==4) or (row==2 and col==5):\n",
    "            print(\"*\",end=\" \")\n",
    "        elif row==i and col==j:\n",
    "            print(\"*\",end=\" \")\n",
    "            i=i+1\n",
    "            j=j-1\n",
    "        else:\n",
    "            print(\" \",end=\" \")\n",
    "    print()\n",
    "            \n",
    "        "
   ]
  },
  {
   "cell_type": "code",
   "execution_count": 6,
   "id": "204863fd-d352-4d41-b1ba-4d50ce7ae9c9",
   "metadata": {},
   "outputs": [
    {
     "name": "stdin",
     "output_type": "stream",
     "text": [
      "Enter Number of Rows: 5\n"
     ]
    },
    {
     "name": "stdout",
     "output_type": "stream",
     "text": [
      "* \n",
      "* * \n",
      "* * * \n",
      "* * * * \n"
     ]
    }
   ],
   "source": [
    "num=int (input(\"Enter Number of Rows:\"))\n",
    "for i in range(1,5):\n",
    "    for j in range(1,i+1):\n",
    "        print(\"*\",end=\" \")\n",
    "    print()"
   ]
  },
  {
   "cell_type": "code",
   "execution_count": 12,
   "id": "a2982509-3bd8-4f5f-ab65-7d345a1c1414",
   "metadata": {},
   "outputs": [
    {
     "name": "stdin",
     "output_type": "stream",
     "text": [
      "Enter number of Rows: 5\n"
     ]
    },
    {
     "name": "stdout",
     "output_type": "stream",
     "text": [
      "*\n",
      "**\n",
      "***\n",
      "****\n",
      "*****\n",
      "******\n"
     ]
    }
   ],
   "source": [
    "num=int(input(\"Enter number of Rows:\"))\n",
    "i=0\n",
    "while i<=num:\n",
    "    star=i+1\n",
    "    while star>0:\n",
    "        print(\"*\",end=\"\")\n",
    "        star=star-1\n",
    "    i=i+1\n",
    "    print()\n",
    "    \n"
   ]
  },
  {
   "cell_type": "code",
   "execution_count": 16,
   "id": "fca42362-669d-404f-a928-50933aa7231c",
   "metadata": {},
   "outputs": [
    {
     "name": "stdout",
     "output_type": "stream",
     "text": [
      "    *     \n",
      "  *   *   \n",
      "*       * \n",
      "  *   *   \n",
      "    *     \n"
     ]
    }
   ],
   "source": [
    "for row in range(5):\n",
    "    for col in range(5):\n",
    "        if col+row==2 or col-row==2 or row-col==2 or (col==3 and row==3):\n",
    "            print(\"*\",end=\" \")\n",
    "        else:\n",
    "            print(\" \",end=\" \")\n",
    "    print()"
   ]
  },
  {
   "cell_type": "code",
   "execution_count": 19,
   "id": "29743752-b871-47c8-8ba1-3c946543fdb4",
   "metadata": {},
   "outputs": [
    {
     "name": "stdout",
     "output_type": "stream",
     "text": [
      "  * *   * *   \n",
      "*     *     * \n",
      "*           * \n",
      "  *       *   \n",
      "    *   *     \n",
      "      *       \n"
     ]
    }
   ],
   "source": [
    "for row in range(6):\n",
    "    for col in range(7):\n",
    "        if  (row==0 and col%3!=0) or (row==1 and col%3==0) or (row-col==2 )or (col+row==8):\n",
    "            print(\"*\",end=\" \")\n",
    "        else:\n",
    "            print(\" \",end=\" \")\n",
    "    print()\n",
    "        "
   ]
  },
  {
   "cell_type": "code",
   "execution_count": 34,
   "id": "456e8be0-7d9c-4189-95d4-895dcbe4c920",
   "metadata": {},
   "outputs": [
    {
     "name": "stdin",
     "output_type": "stream",
     "text": [
      "Enter The number of rows 5\n"
     ]
    },
    {
     "name": "stdout",
     "output_type": "stream",
     "text": [
      "1\t2\t3\t4\t5\t\n",
      "16\t17\t18\t19\t6\t\n",
      "15\t24\t25\t20\t7\t\n",
      "14\t0\t0\t21\t8\t\n",
      "0\t0\t0\t0\t9\t\n"
     ]
    }
   ],
   "source": [
    "#Print numbers in square \n",
    "num= int(input(\"Enter The number of rows\"))\n",
    "n_list=[[0 for x in range(num)] for y in range(num)]\n",
    "n=1\n",
    "low=0\n",
    "high=num-1\n",
    "count=int((num+1)/2)\n",
    "for i in range(count):\n",
    "    for j in range(low,high+1):\n",
    "        n_list[i][j]=n\n",
    "        n=n+1\n",
    "    for j in range(low+1,high+1):\n",
    "        n_list[j][high]=n\n",
    "        n=n+1\n",
    "    for j in range(high-1,low-1,-1):\n",
    "        n_list[high][j]\n",
    "        n=n+1\n",
    "    for j in range(high-1,low,-1):\n",
    "        n_list[j][low]=n\n",
    "        n=n+1\n",
    "    low=low+1\n",
    "    high=high-1\n",
    "for i in range(num):\n",
    "    for j in range(num):\n",
    "        print(n_list[i][j],end=\"\\t\")\n",
    "    print()\n"
   ]
  },
  {
   "cell_type": "code",
   "execution_count": 36,
   "id": "c45f797a-8241-4a9a-8789-734f644fdd87",
   "metadata": {},
   "outputs": [
    {
     "name": "stdin",
     "output_type": "stream",
     "text": [
      "Enter the number of the rows: 5\n"
     ]
    },
    {
     "name": "stdout",
     "output_type": "stream",
     "text": [
      "        1 \n",
      "      2 1 2 \n",
      "    3 2 1 2 3 \n",
      "  4 3 2 1 2 3 4 \n",
      "5 4 3 2 1 2 3 4 5 \n"
     ]
    }
   ],
   "source": [
    "num=int(input(\"Enter the number of the rows:\"))\n",
    "for i in range(1,num+1):\n",
    "    for j in range(1,num-i+1):\n",
    "        print(\" \",end=\" \")\n",
    "    for j in range(i,0,-1):\n",
    "        print(j,end=\" \")\n",
    "    for j in range(2,i+1):\n",
    "        print(j,end=\" \")\n",
    "    print()"
   ]
  },
  {
   "cell_type": "code",
   "execution_count": 39,
   "id": "ed55e4d0-9da4-4f50-9fd2-b7ef76bb76b9",
   "metadata": {},
   "outputs": [
    {
     "name": "stdin",
     "output_type": "stream",
     "text": [
      "Enter the number of the rows: 5\n"
     ]
    },
    {
     "name": "stdout",
     "output_type": "stream",
     "text": [
      "1   \n",
      "2   3   \n",
      "4   5   6   \n",
      "7   8   9   10  \n",
      "11  12  13  14  15  \n"
     ]
    }
   ],
   "source": [
    "num=int(input(\"Enter the number of the rows:\"))\n",
    "n=1\n",
    "for i in range(num):\n",
    "    for j in range(i+1):\n",
    "        print(format(n,\"<3\"),end=\" \")\n",
    "        n=n+1\n",
    "    print()"
   ]
  },
  {
   "cell_type": "code",
   "execution_count": 41,
   "id": "84815f61-e72b-4a75-82d1-d79ec46a78e6",
   "metadata": {},
   "outputs": [
    {
     "name": "stdin",
     "output_type": "stream",
     "text": [
      "Enter the number of the rows: 11\n"
     ]
    },
    {
     "name": "stdout",
     "output_type": "stream",
     "text": [
      "                                        1   \n",
      "                                    2   1   2   \n",
      "                                3   2   1   2   3   \n",
      "                            4   3   2   1   2   3   4   \n",
      "                        5   4   3   2   1   2   3   4   5   \n",
      "                    6   5   4   3   2   1   2   3   4   5   6   \n",
      "                7   6   5   4   3   2   1   2   3   4   5   6   7   \n",
      "            8   7   6   5   4   3   2   1   2   3   4   5   6   7   8   \n",
      "        9   8   7   6   5   4   3   2   1   2   3   4   5   6   7   8   9   \n",
      "    10  9   8   7   6   5   4   3   2   1   2   3   4   5   6   7   8   9   10  \n",
      "11  10  9   8   7   6   5   4   3   2   1   2   3   4   5   6   7   8   9   10  11  \n"
     ]
    }
   ],
   "source": [
    "num=int(input(\"Enter the number of the rows:\"))\n",
    "for i in range(1,num+1):\n",
    "    for j in range(1,num-i+1):\n",
    "        print(format(\" \",\"<3\"),end=\" \")\n",
    "    for j in range(i,0,-1):\n",
    "        print(format(j,\"<3\"),end=\" \")\n",
    "    for j in range(2,i+1):\n",
    "        print(format(j,\"<3\"),end=\" \")\n",
    "    print()"
   ]
  },
  {
   "cell_type": "code",
   "execution_count": 45,
   "id": "b3a767f3-9393-447a-9800-1d6e41d34a76",
   "metadata": {},
   "outputs": [
    {
     "name": "stdin",
     "output_type": "stream",
     "text": [
      "Enter number of rows: 5\n"
     ]
    },
    {
     "name": "stdout",
     "output_type": "stream",
     "text": [
      "            1     \n",
      "         2     3     \n",
      "      4     5     6     \n",
      "   7     8     9     10    \n",
      "11    12    13    14    15    \n"
     ]
    }
   ],
   "source": [
    "num=int(input(\"Enter number of rows:\"))\n",
    "n=1\n",
    "for i in range(num):\n",
    "    for j in range(num-i-1):\n",
    "        print(format(\" \",\"<3\"),end=\"\")\n",
    "    for j in range(i+1):\n",
    "        print(format(n,\"<6\"),end=\"\")\n",
    "        n=n+1\n",
    "    print()\n",
    "            "
   ]
  },
  {
   "cell_type": "code",
   "execution_count": null,
   "id": "dbca4f4c-0f0c-400f-add8-239c1fc0987f",
   "metadata": {},
   "outputs": [],
   "source": []
  }
 ],
 "metadata": {
  "kernelspec": {
   "display_name": "Python 3 (ipykernel)",
   "language": "python",
   "name": "python3"
  },
  "language_info": {
   "codemirror_mode": {
    "name": "ipython",
    "version": 3
   },
   "file_extension": ".py",
   "mimetype": "text/x-python",
   "name": "python",
   "nbconvert_exporter": "python",
   "pygments_lexer": "ipython3",
   "version": "3.12.4"
  }
 },
 "nbformat": 4,
 "nbformat_minor": 5
}
