{
 "cells": [
  {
   "cell_type": "code",
   "execution_count": 1,
   "id": "f4847ea3-9b7b-4718-902e-11f6c0995a9b",
   "metadata": {},
   "outputs": [
    {
     "name": "stdout",
     "output_type": "stream",
     "text": [
      "Words ending with 'ing': ['coding', 'swimming']\n"
     ]
    }
   ],
   "source": [
    "#Finding wordss ending with a spacific suffix.\n",
    "import re\n",
    "\n",
    "text = 'I love coding, rennunig, and swimming.'\n",
    "# Define a pattern for words ending with 'ing'\n",
    "pattern = r'\\b\\w+ing\\b'\n",
    "ing_words = re.findall(pattern, text)\n",
    "\n",
    "print(\"Words ending with 'ing':\", ing_words)"
   ]
  },
  {
   "cell_type": "code",
   "execution_count": 2,
   "id": "f15644a0-e182-4ddd-995f-b2e00d8e0840",
   "metadata": {},
   "outputs": [
    {
     "name": "stdout",
     "output_type": "stream",
     "text": [
      "text with newlines replaced: hello, world! welcome to python.\n"
     ]
    }
   ],
   "source": [
    "#Replacing Newline characters.\n",
    "#Replace newline characters with spaces\n",
    "import re\n",
    "text='hello,\\nworld!\\nwelcome to python.'\n",
    "#replace newline characters with a space\n",
    "new_text=re.sub(r'\\n',' ',text)\n",
    "print('text with newlines replaced:',new_text)"
   ]
  },
  {
   "cell_type": "code",
   "execution_count": 3,
   "id": "bd13a5a2-1667-45a6-bf3e-76928e07749e",
   "metadata": {},
   "outputs": [
    {
     "name": "stdout",
     "output_type": "stream",
     "text": [
      "1234 is not a valid zip code.\n",
      "12345-6789 is a valid zip code.\n",
      "12340 is a valid zip code.\n",
      "123456 is not a valid zip code.\n",
      "12345 is a valid zip code.\n"
     ]
    }
   ],
   "source": [
    "#Validating a us zipcode\n",
    "#validate us zip codes (5-digit and zip +4 formats).\n",
    "import re\n",
    "\n",
    "def validate_zip(zip_code):\n",
    "    # Define a regex pattern for valid zip codes\n",
    "    pattern = r'^\\d{5}(-\\d{4})?$'\n",
    "    return bool(re.match(pattern, zip_code))\n",
    "\n",
    "zip_codes = ['1234', '12345-6789', '12340', '123456', '12345']\n",
    "for zip_code in zip_codes:\n",
    "    if validate_zip(zip_code):\n",
    "        print(f\"{zip_code} is a valid zip code.\")\n",
    "    else:\n",
    "        print(f\"{zip_code} is not a valid zip code.\")"
   ]
  },
  {
   "cell_type": "code",
   "execution_count": 4,
   "id": "591015ae-89d5-46cc-a2e9-b8cb3d1f76b0",
   "metadata": {},
   "outputs": [
    {
     "name": "stdout",
     "output_type": "stream",
     "text": [
      "words with exactly 4 characters: []\n"
     ]
    }
   ],
   "source": [
    "#Matching a specific number of characters.\n",
    "#Find words that are exactly four characters.\n",
    "pattern=r'\\b\\w{4}\\b'\n",
    "four_letter_Words=re.findall(pattern,text)\n",
    "print(\"words with exactly 4 characters:\",four_letter_Words)"
   ]
  },
  {
   "cell_type": "code",
   "execution_count": 5,
   "id": "5874d780-cf7f-43f6-85c0-5380024f5c62",
   "metadata": {},
   "outputs": [
    {
     "name": "stdout",
     "output_type": "stream",
     "text": [
      "Extracted attributes: [('type', 'text'), ('name', 'username'), ('value', 'john doe')]\n"
     ]
    }
   ],
   "source": [
    "#Exracting HTML Attributes,'#Extract attributesbfrom an HTML tag.\n",
    "import re\n",
    "\n",
    "html = '<input type=\"text\" name=\"username\" value=\"john doe\">'\n",
    "\n",
    "# Define a pattern to extract attributes\n",
    "pattern = r'(\\w+)=\"([^\"]*)\"'\n",
    "attributes = re.findall(pattern, html)\n",
    "\n",
    "print(\"Extracted attributes:\", attributes)"
   ]
  },
  {
   "cell_type": "code",
   "execution_count": null,
   "id": "585763e0-5e94-41de-b3be-dc799e73cf6a",
   "metadata": {},
   "outputs": [],
   "source": []
  }
 ],
 "metadata": {
  "kernelspec": {
   "display_name": "Python 3 (ipykernel)",
   "language": "python",
   "name": "python3"
  },
  "language_info": {
   "codemirror_mode": {
    "name": "ipython",
    "version": 3
   },
   "file_extension": ".py",
   "mimetype": "text/x-python",
   "name": "python",
   "nbconvert_exporter": "python",
   "pygments_lexer": "ipython3",
   "version": "3.12.4"
  }
 },
 "nbformat": 4,
 "nbformat_minor": 5
}
