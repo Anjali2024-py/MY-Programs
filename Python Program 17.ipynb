{
 "cells": [
  {
   "cell_type": "code",
   "execution_count": 1,
   "id": "9094f2fa-87d5-4a58-8505-7bc9e88b2056",
   "metadata": {},
   "outputs": [
    {
     "name": "stdout",
     "output_type": "stream",
     "text": [
      "12\n",
      "13\n"
     ]
    }
   ],
   "source": [
    "a=7\n",
    "b=5\n",
    "while(a<9):\n",
    "    print(a+b)\n",
    "    a=a+1"
   ]
  },
  {
   "cell_type": "code",
   "execution_count": 2,
   "id": "06635e53-ce14-4b52-b806-ba68321c53a3",
   "metadata": {},
   "outputs": [
    {
     "name": "stdout",
     "output_type": "stream",
     "text": [
      "H\n",
      "H\n",
      "H\n",
      "H\n"
     ]
    }
   ],
   "source": [
    "b=5\n",
    "while(b<9):\n",
    "    print(\"H\")\n",
    "    b=b+1"
   ]
  },
  {
   "cell_type": "code",
   "execution_count": 3,
   "id": "29b5c5bb-9f83-4976-875d-3867a5b06edd",
   "metadata": {},
   "outputs": [
    {
     "name": "stdout",
     "output_type": "stream",
     "text": [
      "Hello\n"
     ]
    }
   ],
   "source": [
    "x=15\n",
    "while(x==15):\n",
    "    print(\"Hello\")\n",
    "    x=x-3"
   ]
  },
  {
   "cell_type": "code",
   "execution_count": 6,
   "id": "6cb0d455-6291-483a-9a5c-01f3691a8d48",
   "metadata": {},
   "outputs": [],
   "source": [
    "i=9\n",
    "while True:\n",
    "    if i%3==0:\n",
    "        break\n",
    "    print(\"A\")"
   ]
  },
  {
   "cell_type": "code",
   "execution_count": 19,
   "id": "0dac39e9-eae8-4315-8341-6262ebae8ca3",
   "metadata": {},
   "outputs": [
    {
     "name": "stdout",
     "output_type": "stream",
     "text": [
      "a\n",
      "a\n",
      "a\n"
     ]
    }
   ],
   "source": [
    "x='123'\n",
    "for i in x:\n",
    "    print(\"a\")"
   ]
  },
  {
   "cell_type": "code",
   "execution_count": 20,
   "id": "afef2969-c663-4399-bf68-eb9bdc29c72c",
   "metadata": {},
   "outputs": [
    {
     "name": "stdout",
     "output_type": "stream",
     "text": [
      "A\n",
      "A\n",
      "A\n",
      "A\n",
      "A\n"
     ]
    }
   ],
   "source": [
    "a=6\n",
    "while(a<=10):\n",
    "    print('A')\n",
    "    a=a+1"
   ]
  },
  {
   "cell_type": "code",
   "execution_count": 21,
   "id": "1e1f08aa-78fb-4bd8-8e66-252019f457ff",
   "metadata": {},
   "outputs": [
    {
     "name": "stdout",
     "output_type": "stream",
     "text": [
      "0\n",
      "1\n",
      "2\n",
      "7\n"
     ]
    }
   ],
   "source": [
    "i=0\n",
    "while i<3:\n",
    "    print(i)\n",
    "    i=i+1\n",
    "else:\n",
    "    print(7)"
   ]
  },
  {
   "cell_type": "code",
   "execution_count": 22,
   "id": "6a49c31d-0a75-4702-89ce-1f3e88d2f86a",
   "metadata": {},
   "outputs": [
    {
     "name": "stdout",
     "output_type": "stream",
     "text": [
      "0\n",
      "0\n",
      "1\n",
      "0\n",
      "2\n",
      "0\n"
     ]
    }
   ],
   "source": [
    "i=0\n",
    "while(i<3):\n",
    "    print(i)\n",
    "    i=i+1\n",
    "    print(0)"
   ]
  },
  {
   "cell_type": "code",
   "execution_count": 28,
   "id": "981044f1-bd9c-4d79-ace2-bf0422c20cb9",
   "metadata": {},
   "outputs": [
    {
     "name": "stdout",
     "output_type": "stream",
     "text": [
      "3\n",
      "3\n",
      "4\n",
      "4\n"
     ]
    }
   ],
   "source": [
    "i=2\n",
    "for x in range(i):\n",
    "    i=i+1\n",
    "    print(i)\n",
    "    print(i)"
   ]
  },
  {
   "cell_type": "code",
   "execution_count": 29,
   "id": "3e30d71b-161c-4996-8cc5-f2b1487113e0",
   "metadata": {},
   "outputs": [
    {
     "name": "stdout",
     "output_type": "stream",
     "text": [
      "1\n",
      "X\n",
      "2\n",
      "X\n"
     ]
    }
   ],
   "source": [
    "i=2\n",
    "for x in range(i):\n",
    "    x=x+1\n",
    "    print(x)\n",
    "    print(\"X\")"
   ]
  },
  {
   "cell_type": "code",
   "execution_count": 35,
   "id": "9a88232e-0277-42c9-9a5b-0b0ba4925330",
   "metadata": {},
   "outputs": [],
   "source": [
    "i=100\n",
    "while(i<57):\n",
    "    print(i)\n",
    "    i=i+1"
   ]
  },
  {
   "cell_type": "code",
   "execution_count": null,
   "id": "fc2432ea-ca25-4580-bb3a-cb3afd01b505",
   "metadata": {},
   "outputs": [],
   "source": []
  },
  {
   "cell_type": "code",
   "execution_count": null,
   "id": "4e28a4a2-e938-4adb-aaf1-65dab5ab9f89",
   "metadata": {},
   "outputs": [],
   "source": []
  }
 ],
 "metadata": {
  "kernelspec": {
   "display_name": "Python 3 (ipykernel)",
   "language": "python",
   "name": "python3"
  },
  "language_info": {
   "codemirror_mode": {
    "name": "ipython",
    "version": 3
   },
   "file_extension": ".py",
   "mimetype": "text/x-python",
   "name": "python",
   "nbconvert_exporter": "python",
   "pygments_lexer": "ipython3",
   "version": "3.12.4"
  }
 },
 "nbformat": 4,
 "nbformat_minor": 5
}
