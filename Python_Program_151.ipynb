{
 "cells": [
  {
   "cell_type": "code",
   "execution_count": 7,
   "id": "6880658a-f84c-4762-9ca0-9621fb93e73e",
   "metadata": {},
   "outputs": [
    {
     "name": "stdin",
     "output_type": "stream",
     "text": [
      "Enter a string:  Hello@123\n"
     ]
    },
    {
     "name": "stdout",
     "output_type": "stream",
     "text": [
      "The string is not alphanumeric.\n"
     ]
    }
   ],
   "source": [
    "# Function to check if the string is alphanumeric\n",
    "def check_alphanumeric(input_string):\n",
    "    # Using the isalnum() method\n",
    "    if input_string.isalnum():\n",
    "        return \"The string is alphanumeric.\"\n",
    "    else:\n",
    "        return \"The string is not alphanumeric.\"\n",
    "\n",
    "# Main code\n",
    "user_input = input(\"Enter a string: \")\n",
    "\n",
    "# Call the function and display the result\n",
    "result = check_alphanumeric(user_input)\n",
    "print(result)\n"
   ]
  },
  {
   "cell_type": "code",
   "execution_count": 15,
   "id": "dcd67c5b-692a-442b-b035-cc9bd0185946",
   "metadata": {},
   "outputs": [
    {
     "name": "stdout",
     "output_type": "stream",
     "text": [
      "The string is not alphanumeric.\n"
     ]
    }
   ],
   "source": [
    "def check_alphanumeric(input_string):\n",
    "    if input_string.isalnum():\n",
    "        return \"The String is alphanumeric.\"\n",
    "    else:\n",
    "        return \"The string is not alphanumeric.\"\n",
    "\n",
    "user_input=\"Hello world\"\n",
    "result=check_alphanumeric(user_input)\n",
    "print(result)"
   ]
  },
  {
   "cell_type": "code",
   "execution_count": 16,
   "id": "8d5a3499-3327-460e-872e-a1df8aa0f727",
   "metadata": {},
   "outputs": [
    {
     "name": "stdout",
     "output_type": "stream",
     "text": [
      "The string is not alphanumeric.\n"
     ]
    }
   ],
   "source": [
    "def check_alphanumeric(input_string):\n",
    "    if input_string.isalnum():\n",
    "        return \"The string is alphanumeric.\"\n",
    "    else:\n",
    "        return \"The string is not alphanumeric.\"\n",
    "\n",
    "user_input = \"\"\n",
    "result = check_alphanumeric(user_input)\n",
    "print(result)\n"
   ]
  },
  {
   "cell_type": "code",
   "execution_count": null,
   "id": "ec58be57-f278-43b2-ae87-c1cebeb16a37",
   "metadata": {},
   "outputs": [],
   "source": []
  }
 ],
 "metadata": {
  "kernelspec": {
   "display_name": "Python 3 (ipykernel)",
   "language": "python",
   "name": "python3"
  },
  "language_info": {
   "codemirror_mode": {
    "name": "ipython",
    "version": 3
   },
   "file_extension": ".py",
   "mimetype": "text/x-python",
   "name": "python",
   "nbconvert_exporter": "python",
   "pygments_lexer": "ipython3",
   "version": "3.12.4"
  }
 },
 "nbformat": 4,
 "nbformat_minor": 5
}
