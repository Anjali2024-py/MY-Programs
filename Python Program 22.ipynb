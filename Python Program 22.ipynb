{
 "cells": [
  {
   "cell_type": "code",
   "execution_count": 4,
   "id": "545cb9fa-f4e2-4a78-9056-a30eee50be57",
   "metadata": {},
   "outputs": [
    {
     "name": "stdin",
     "output_type": "stream",
     "text": [
      "Enter number of rows: 5\n"
     ]
    },
    {
     "name": "stdout",
     "output_type": "stream",
     "text": [
      "* \n",
      "* * \n",
      "* * * \n",
      "* * * * \n",
      "* * * * * \n"
     ]
    }
   ],
   "source": [
    "#Printing stars in right angle shape using while loop\n",
    "n=int(input('Enter number of rows:'))\n",
    "i=0\n",
    "while i<n:\n",
    "    j=0\n",
    "    while j<i+1:\n",
    "        print(\"*\",end=\" \")\n",
    "        j=j+1\n",
    "    i=i+1\n",
    "    print()"
   ]
  },
  {
   "cell_type": "code",
   "execution_count": 5,
   "id": "a4c14fb6-16ee-407e-a098-fdfca147d42c",
   "metadata": {},
   "outputs": [
    {
     "name": "stdin",
     "output_type": "stream",
     "text": [
      "Enter Number of rows: 6\n"
     ]
    },
    {
     "name": "stdout",
     "output_type": "stream",
     "text": [
      "* \n",
      "* * \n",
      "* * * \n",
      "* * * * \n",
      "* * * * * \n",
      "* * * * * * \n"
     ]
    }
   ],
   "source": [
    "#Printing starts in right angle shape using String Multiplication\n",
    "n=int(input(\"Enter Number of rows:\"))\n",
    "for i in range(n):\n",
    "    print(\"* \"*(i+1))"
   ]
  },
  {
   "cell_type": "code",
   "execution_count": 6,
   "id": "3136b45d-073d-4516-b885-511411a4e738",
   "metadata": {},
   "outputs": [
    {
     "name": "stdin",
     "output_type": "stream",
     "text": [
      "Enter any char: i\n"
     ]
    },
    {
     "name": "stdout",
     "output_type": "stream",
     "text": [
      "the given chr is vowel\n"
     ]
    }
   ],
   "source": [
    "ch=input(\"Enter any char:\")\n",
    "vow='aioueAIOUE'\n",
    "if ch in vow:\n",
    "    print(\"the given chr is vowel\")\n",
    "else:\n",
    "    print(\"The given chr is not vowel\")\n",
    "        "
   ]
  },
  {
   "cell_type": "code",
   "execution_count": 7,
   "id": "29dff481-9e4e-4411-a286-15258138831f",
   "metadata": {},
   "outputs": [
    {
     "name": "stdin",
     "output_type": "stream",
     "text": [
      "Enter number of rows: 4\n"
     ]
    },
    {
     "name": "stdout",
     "output_type": "stream",
     "text": [
      "* * * * \n",
      "* * * \n",
      "* * \n",
      "* \n"
     ]
    }
   ],
   "source": [
    "n=int(input(\"Enter number of rows:\"))\n",
    "for i in range(n):\n",
    "    for j in range(n-i):\n",
    "        print(\"*\",end=' ')\n",
    "    print()"
   ]
  },
  {
   "cell_type": "code",
   "execution_count": 11,
   "id": "36d43073-194b-4e26-8ca5-96b37da4a55e",
   "metadata": {},
   "outputs": [
    {
     "name": "stdin",
     "output_type": "stream",
     "text": [
      "Enter number of rows: 5\n"
     ]
    },
    {
     "name": "stdout",
     "output_type": "stream",
     "text": [
      "* * * * * \n",
      "* * * * \n",
      "* * * \n",
      "* * \n",
      "* \n"
     ]
    }
   ],
   "source": [
    "n=int(input(\"Enter number of rows:\"))\n",
    "i=0\n",
    "while i<n:\n",
    "    j=5\n",
    "    while j>i:\n",
    "        print(\"*\",end=\" \")\n",
    "        j=j-1\n",
    "    i=i+1\n",
    "    print()\n",
    "    \n",
    "        \n",
    "    "
   ]
  },
  {
   "cell_type": "code",
   "execution_count": 21,
   "id": "96915158-d9c6-4ffc-b42f-8d5540cebeaa",
   "metadata": {},
   "outputs": [
    {
     "name": "stdin",
     "output_type": "stream",
     "text": [
      "Enter number : 6\n"
     ]
    },
    {
     "name": "stdout",
     "output_type": "stream",
     "text": [
      "1 \n",
      "1 1 \n",
      "1 1 1 \n",
      "1 1 1 1 \n",
      "1 1 1 1 1 \n"
     ]
    }
   ],
   "source": [
    "n=int(input(\"Enter number :\"))\n",
    "for i in range(1,n):\n",
    "    for j in range(1,i+1):\n",
    "        print(\"1\",end=\" \")\n",
    "    print()\n",
    "    "
   ]
  },
  {
   "cell_type": "code",
   "execution_count": 26,
   "id": "ac31ca05-2bdf-4442-89ba-64193b333912",
   "metadata": {},
   "outputs": [
    {
     "name": "stdin",
     "output_type": "stream",
     "text": [
      "Enter any number: 5\n"
     ]
    },
    {
     "name": "stdout",
     "output_type": "stream",
     "text": [
      "1 \n",
      "2 2 \n",
      "3 3 3 \n",
      "4 4 4 4 \n",
      "5 5 5 5 5 \n"
     ]
    }
   ],
   "source": [
    "n=int(input(\"Enter any number:\"))\n",
    "for i in range(n):\n",
    "    for j in range(i+1):\n",
    "        print(i+1,end=\" \")\n",
    "    print()"
   ]
  },
  {
   "cell_type": "code",
   "execution_count": 30,
   "id": "d86ca6dd-873b-40c9-b763-6c57c3debf15",
   "metadata": {},
   "outputs": [
    {
     "name": "stdin",
     "output_type": "stream",
     "text": [
      "Enter Number Of Rows: 5\n"
     ]
    },
    {
     "name": "stdout",
     "output_type": "stream",
     "text": [
      "1 \n",
      "2 3 \n",
      "4 5 6 \n",
      "7 8 9 10 \n",
      "11 12 13 14 15 \n"
     ]
    }
   ],
   "source": [
    "#Printing the numbers \n",
    "n=int(input(\"Enter Number Of Rows:\"))\n",
    "num=1\n",
    "for i in range(1,n+1):\n",
    "    for j in range(1,i+1):\n",
    "        print(num,end=\" \")\n",
    "        num=num+1\n",
    "    print()"
   ]
  },
  {
   "cell_type": "code",
   "execution_count": 3,
   "id": "4e1852a4-a933-43a0-9137-ca5abfac79fe",
   "metadata": {},
   "outputs": [],
   "source": [
    "def rows(n):\n",
    "    \n",
    "    for i in range(n):\n",
    "        print(\" \"*(n-i-1) +  \"*\"*(i+1))"
   ]
  },
  {
   "cell_type": "code",
   "execution_count": 7,
   "id": "dd1ea4ee-de29-4244-bb06-de2231b3de5a",
   "metadata": {},
   "outputs": [
    {
     "name": "stdout",
     "output_type": "stream",
     "text": [
      "    *\n",
      "   **\n",
      "  ***\n",
      " ****\n",
      "*****\n"
     ]
    }
   ],
   "source": [
    "rows(5)"
   ]
  },
  {
   "cell_type": "code",
   "execution_count": 9,
   "id": "52441a2f-0e65-4066-a840-6b2544cc2d82",
   "metadata": {},
   "outputs": [],
   "source": [
    "def rows(n):\n",
    "    for i in range(n):\n",
    "        print(\" \"*(i) +  \"*\"*(n-i))\n",
    "    "
   ]
  },
  {
   "cell_type": "code",
   "execution_count": 10,
   "id": "6a32fd4a-7485-474b-aabf-f26852cf1910",
   "metadata": {},
   "outputs": [
    {
     "name": "stdout",
     "output_type": "stream",
     "text": [
      "******\n",
      " *****\n",
      "  ****\n",
      "   ***\n",
      "    **\n",
      "     *\n"
     ]
    }
   ],
   "source": [
    "rows(6)\n"
   ]
  },
  {
   "cell_type": "code",
   "execution_count": null,
   "id": "8365f246-f3fd-4564-9b61-b82c7b278d11",
   "metadata": {},
   "outputs": [],
   "source": []
  }
 ],
 "metadata": {
  "kernelspec": {
   "display_name": "Python 3 (ipykernel)",
   "language": "python",
   "name": "python3"
  },
  "language_info": {
   "codemirror_mode": {
    "name": "ipython",
    "version": 3
   },
   "file_extension": ".py",
   "mimetype": "text/x-python",
   "name": "python",
   "nbconvert_exporter": "python",
   "pygments_lexer": "ipython3",
   "version": "3.12.4"
  }
 },
 "nbformat": 4,
 "nbformat_minor": 5
}
