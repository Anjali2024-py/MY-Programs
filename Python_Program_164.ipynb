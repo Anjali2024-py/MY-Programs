{
 "cells": [
  {
   "cell_type": "code",
   "execution_count": 1,
   "id": "218b8cbe-1a22-4372-ad70-981a2d39cc69",
   "metadata": {},
   "outputs": [
    {
     "name": "stdout",
     "output_type": "stream",
     "text": [
      "[1, 2, 3, 4, 5, 6]\n"
     ]
    }
   ],
   "source": [
    "numbers=[1,2,3]\n",
    "more_numbers=[4,5,6]\n",
    "numbers.extend(more_numbers)\n",
    "print(numbers)"
   ]
  },
  {
   "cell_type": "code",
   "execution_count": 2,
   "id": "e8ed0af2-bddf-4cf6-92ed-3cfd021a74e7",
   "metadata": {},
   "outputs": [
    {
     "name": "stdout",
     "output_type": "stream",
     "text": [
      "['apple', 'banana', 'cherry', 'date']\n"
     ]
    }
   ],
   "source": [
    "fruits = [\"apple\", \"banana\"]\n",
    "more_fruits = (\"cherry\", \"date\")\n",
    "fruits.extend(more_fruits)\n",
    "print(fruits)  "
   ]
  },
  {
   "cell_type": "code",
   "execution_count": 3,
   "id": "58f8b151-6930-41e1-9bd7-70ccfea3a3b9",
   "metadata": {},
   "outputs": [
    {
     "name": "stdout",
     "output_type": "stream",
     "text": [
      "['red', 'blue', 'green', 'yellow']\n"
     ]
    }
   ],
   "source": [
    "colors = [\"red\", \"blue\"]\n",
    "more_colors = {\"green\", \"yellow\"}\n",
    "colors.extend(more_colors)\n",
    "print(colors)  "
   ]
  },
  {
   "cell_type": "code",
   "execution_count": 4,
   "id": "7c6e2833-d234-4152-9254-a513927a6e93",
   "metadata": {},
   "outputs": [
    {
     "name": "stdout",
     "output_type": "stream",
     "text": [
      "['a', 'b', 'c', 'd']\n"
     ]
    }
   ],
   "source": [
    "letters = [\"a\", \"b\"]\n",
    "more_letters = \"cd\"\n",
    "letters.extend(more_letters)\n",
    "print(letters)  "
   ]
  },
  {
   "cell_type": "code",
   "execution_count": 5,
   "id": "83354ab9-1e25-4763-8315-4d53a18637c9",
   "metadata": {},
   "outputs": [
    {
     "name": "stdout",
     "output_type": "stream",
     "text": [
      "[1, 2, 3, 4.5, 'hello', True]\n"
     ]
    }
   ],
   "source": [
    "data = [1, 2, 3]\n",
    "more_data = [4.5, \"hello\", True]\n",
    "data.extend(more_data)\n",
    "print(data)"
   ]
  },
  {
   "cell_type": "code",
   "execution_count": 6,
   "id": "efa28289-793f-4456-8064-f5afb56604ac",
   "metadata": {},
   "outputs": [
    {
     "name": "stdout",
     "output_type": "stream",
     "text": [
      "[10, 20, 30]\n"
     ]
    }
   ],
   "source": [
    "items = [10, 20, 30]\n",
    "empty_list = []\n",
    "items.extend(empty_list)\n",
    "print(items) \n"
   ]
  },
  {
   "cell_type": "code",
   "execution_count": 7,
   "id": "12706017-0c9b-462a-83d4-0163de8d0335",
   "metadata": {},
   "outputs": [
    {
     "name": "stdout",
     "output_type": "stream",
     "text": [
      "[1, 2, 3, 4, 5, 6]\n"
     ]
    }
   ],
   "source": [
    "list1 = [1, 2]\n",
    "list2 = [3, 4]\n",
    "list3 = [5, 6]\n",
    "list1.extend(list2)\n",
    "list1.extend(list3)\n",
    "print(list1)\n"
   ]
  },
  {
   "cell_type": "code",
   "execution_count": null,
   "id": "3ef58d20-f6a1-457a-a8d4-9b34251b8a15",
   "metadata": {},
   "outputs": [],
   "source": []
  }
 ],
 "metadata": {
  "kernelspec": {
   "display_name": "Python 3 (ipykernel)",
   "language": "python",
   "name": "python3"
  },
  "language_info": {
   "codemirror_mode": {
    "name": "ipython",
    "version": 3
   },
   "file_extension": ".py",
   "mimetype": "text/x-python",
   "name": "python",
   "nbconvert_exporter": "python",
   "pygments_lexer": "ipython3",
   "version": "3.12.4"
  }
 },
 "nbformat": 4,
 "nbformat_minor": 5
}
