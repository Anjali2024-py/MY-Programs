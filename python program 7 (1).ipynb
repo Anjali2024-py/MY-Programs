{
 "cells": [
  {
   "cell_type": "code",
   "execution_count": 1,
   "id": "a2c83da3-c855-474a-9d68-7d62bce3f990",
   "metadata": {},
   "outputs": [
    {
     "name": "stdout",
     "output_type": "stream",
     "text": [
      "10 20 30 40 50 60 70 80 90 100 110 120 130 140 150 160 170 180 190 200 210 220 230 240 250 260 270 280 290 300 "
     ]
    }
   ],
   "source": [
    "#for loop\n",
    "for i in range(10,301,10):\n",
    "    print(i,end=\" \")\n"
   ]
  },
  {
   "cell_type": "code",
   "execution_count": 10,
   "id": "7c61c402-f77e-474b-ab5b-fc5ba521b63d",
   "metadata": {},
   "outputs": [
    {
     "name": "stdin",
     "output_type": "stream",
     "text": [
      "ether the digit 2011\n"
     ]
    },
    {
     "name": "stdout",
     "output_type": "stream",
     "text": [
      "4\n"
     ]
    }
   ],
   "source": [
    "#PRINT A PROGRAM TO find ths sum of the digits of a number accepted from the user\n",
    "num=int(input(\"ether the digit\"))\n",
    "sum=0\n",
    "while(num>0):\n",
    "    rem=num%10\n",
    "    sum=sum+rem\n",
    "    num=num//10\n",
    "print(sum)"
   ]
  },
  {
   "cell_type": "code",
   "execution_count": 16,
   "id": "9849c28c-764b-45b6-bba1-c972d4680427",
   "metadata": {},
   "outputs": [
    {
     "name": "stdin",
     "output_type": "stream",
     "text": [
      "ether the digit 963\n"
     ]
    },
    {
     "name": "stdout",
     "output_type": "stream",
     "text": [
      "162\n"
     ]
    }
   ],
   "source": [
    "#print a program to find the product of the digits of number accepted from user\n",
    "num=int(input(\"ether the digit\"))\n",
    "product=1\n",
    "while(num>0):\n",
    "    rem=num%10\n",
    "    \n",
    "    product=product*rem\n",
    "    num=num//10\n",
    "print(product)"
   ]
  },
  {
   "cell_type": "code",
   "execution_count": 25,
   "id": "bc6c2546-1863-48d6-934a-ca13b2b810aa",
   "metadata": {},
   "outputs": [
    {
     "name": "stdin",
     "output_type": "stream",
     "text": [
      "enter the value: 2011\n"
     ]
    },
    {
     "name": "stdout",
     "output_type": "stream",
     "text": [
      "1102"
     ]
    }
   ],
   "source": [
    "#write a program to reverse the number accepted fromthe user using while loop\n",
    "num=int(input(\"enter the value:\"))\n",
    "while(num>0):\n",
    "    rem=num%10\n",
    "    num=num//10\n",
    "    print(rem,end=\"\")"
   ]
  },
  {
   "cell_type": "code",
   "execution_count": 29,
   "id": "790b5289-17a2-406f-bee5-3d06d971b08e",
   "metadata": {},
   "outputs": [
    {
     "name": "stdin",
     "output_type": "stream",
     "text": [
      "enter the value: 854\n"
     ]
    },
    {
     "name": "stdout",
     "output_type": "stream",
     "text": [
      "eight five four "
     ]
    }
   ],
   "source": [
    "#write a program to display the number names of the digit of a number entered by user,\n",
    "#for example if the number is 231 the output should be two three one\n",
    "num=input(\"enter the value:\")\n",
    "l1=list(num)\n",
    "l=len(l1)\n",
    "i=0\n",
    "n={0:\"zero\",1:\"one\",2:\"two\",3:\"three\",4:\"four\",5:\"five\",6:'six',7:\"seven\",8:\"eight\",9:\"nine\"}\n",
    "while(i<l):\n",
    "    print(n[int(l1[i])],end=\" \")\n",
    "    i=i+1"
   ]
  },
  {
   "cell_type": "code",
   "execution_count": 66,
   "id": "1709704a-5a12-4679-8fbb-598a679d9e82",
   "metadata": {},
   "outputs": [
    {
     "name": "stdin",
     "output_type": "stream",
     "text": [
      "enter any value: 5\n"
     ]
    },
    {
     "name": "stdout",
     "output_type": "stream",
     "text": [
      "0\n",
      "1\n",
      "1\n",
      "2\n",
      "3\n",
      "5\n",
      "8\n"
     ]
    }
   ],
   "source": [
    "#write a program to print the fabonacci series till n terms accept n from user useing while loop\n",
    "n=int(input(\"enter any value:\"))\n",
    "first=0\n",
    "second=1\n",
    "print(first )\n",
    "print(second)\n",
    "count=1\n",
    "while(count<=n):\n",
    "    third=first+second\n",
    "    print(third)\n",
    "    count=count+1\n",
    "    first,second=second,third\n",
    "   "
   ]
  },
  {
   "cell_type": "code",
   "execution_count": 49,
   "id": "fa3e633f-32a9-4ac2-8870-ca93f94fed2d",
   "metadata": {},
   "outputs": [
    {
     "name": "stdout",
     "output_type": "stream",
     "text": [
      "0 1 1 2 3 5 8 13 21 34 "
     ]
    }
   ],
   "source": [
    "#using for loop\n",
    "first=0\n",
    "second=1\n",
    "print(first,end=\" \")\n",
    "print(second,end=\" \")\n",
    "for i in range(1,9):\n",
    "    third=first+second\n",
    "    print(third,end=\" \")\n",
    "    first,second=second,third"
   ]
  },
  {
   "cell_type": "code",
   "execution_count": 74,
   "id": "8f6122de-d802-4ce2-81be-131d68cfadd9",
   "metadata": {},
   "outputs": [
    {
     "name": "stdin",
     "output_type": "stream",
     "text": [
      "enter any number: 5\n"
     ]
    },
    {
     "name": "stdout",
     "output_type": "stream",
     "text": [
      "120\n"
     ]
    }
   ],
   "source": [
    "#print factorial , the number given by user\n",
    "num=int(input(\"enter any number:\"))\n",
    "x=1\n",
    "y=1\n",
    "while(x<=num):\n",
    "    y=x*y\n",
    "    x=x+1\n",
    "print(y)\n",
    "    \n",
    "    "
   ]
  },
  {
   "cell_type": "code",
   "execution_count": 6,
   "id": "54363f37-e012-43ca-94ec-691a743b4081",
   "metadata": {},
   "outputs": [
    {
     "name": "stdin",
     "output_type": "stream",
     "text": [
      "enter a number: 5\n",
      "enter a number: 3\n"
     ]
    },
    {
     "name": "stdout",
     "output_type": "stream",
     "text": [
      "153\n"
     ]
    },
    {
     "name": "stdin",
     "output_type": "stream",
     "text": [
      "enter any number: 186\n"
     ]
    },
    {
     "name": "stdout",
     "output_type": "stream",
     "text": [
      "the number is not armstrong\n"
     ]
    }
   ],
   "source": [
    "#print to check a program is armstrong or not\n",
    "num1=int(input(\"enter a number:\"))\n",
    "num2=int(input(\"enter a number:\"))\n",
    "if(num1>0 and num2>0):\n",
    "    r1=num1**3\n",
    "    r2=num2**3\n",
    "    r3=(r1+r2)+1\n",
    "print(r3)\n",
    "num4=int(input(\"enter any number:\"))\n",
    "if num4==r3:\n",
    "    print(\"the number is armstrong\")\n",
    "else:\n",
    "    print(\"the number is not armstrong\")\n",
    "\n",
    "    "
   ]
  },
  {
   "cell_type": "code",
   "execution_count": 14,
   "id": "c2e6e247-95a7-4634-b723-84e298d81cb1",
   "metadata": {},
   "outputs": [
    {
     "name": "stdin",
     "output_type": "stream",
     "text": [
      "enter any number: 216\n"
     ]
    },
    {
     "name": "stdout",
     "output_type": "stream",
     "text": [
      "225\n",
      "number is not armstrong\n"
     ]
    }
   ],
   "source": [
    "n=int(input(\"enter any number:\"))\n",
    "sum=0\n",
    "temp=n\n",
    "while(n>0):\n",
    "    rem=n%10\n",
    "    sum=sum+(rem**3)\n",
    "    n=n//10\n",
    "print(sum)\n",
    "if (temp==sum):\n",
    "    print(\"number is armstrong\")\n",
    "else:\n",
    "    print(\"number is not armstrong\")"
   ]
  }
 ],
 "metadata": {
  "kernelspec": {
   "display_name": "Python 3 (ipykernel)",
   "language": "python",
   "name": "python3"
  },
  "language_info": {
   "codemirror_mode": {
    "name": "ipython",
    "version": 3
   },
   "file_extension": ".py",
   "mimetype": "text/x-python",
   "name": "python",
   "nbconvert_exporter": "python",
   "pygments_lexer": "ipython3",
   "version": "3.12.4"
  }
 },
 "nbformat": 4,
 "nbformat_minor": 5
}
