{
 "cells": [
  {
   "cell_type": "code",
   "execution_count": 1,
   "id": "a0cd23d4-4c46-425e-a1b9-d1cbcecc4593",
   "metadata": {},
   "outputs": [
    {
     "name": "stdout",
     "output_type": "stream",
     "text": [
      "['The', 'rain in spain']\n"
     ]
    }
   ],
   "source": [
    "import re\n",
    "txt='The rain in spain'\n",
    "x=re.split('\\\\s',txt,1)\n",
    "print(x)"
   ]
  },
  {
   "cell_type": "code",
   "execution_count": 3,
   "id": "e955f2c7-858b-4f45-9c3e-eb67f0aef310",
   "metadata": {},
   "outputs": [
    {
     "name": "stdout",
     "output_type": "stream",
     "text": [
      "successfully search\n"
     ]
    }
   ],
   "source": [
    "import re\n",
    "txt='aaaas'\n",
    "pattern='^a*s$'\n",
    "x=re.match(pattern,txt)\n",
    "if x:\n",
    "    print(\"successfully search\")\n",
    "else:\n",
    "    print(\"Unsuccessfully search\")\n",
    "        "
   ]
  },
  {
   "cell_type": "code",
   "execution_count": 5,
   "id": "8ce3bdd4-9254-4bc2-a8de-4498d9a81a5f",
   "metadata": {},
   "outputs": [
    {
     "name": "stdout",
     "output_type": "stream",
     "text": [
      "['12', '89', '34']\n"
     ]
    }
   ],
   "source": [
    "import re\n",
    "txt='hello 12 hi 89. Howdy 34'\n",
    "x=re.findall('\\\\d+',txt)\n",
    "print(x)"
   ]
  },
  {
   "cell_type": "code",
   "execution_count": 8,
   "id": "c8a7704e-0950-4946-a429-7713c2dba0bc",
   "metadata": {},
   "outputs": [
    {
     "name": "stdout",
     "output_type": "stream",
     "text": [
      "['tweve:', ' EIGHTY NINE:', '.']\n"
     ]
    }
   ],
   "source": [
    "import re\n",
    "txt='tweve:12 EIGHTY NINE:89.'\n",
    "x=re.split('\\\\d+',txt)\n",
    "print(x)"
   ]
  },
  {
   "cell_type": "code",
   "execution_count": 9,
   "id": "76478901-134b-46bf-befc-990dd980a9eb",
   "metadata": {},
   "outputs": [
    {
     "name": "stdout",
     "output_type": "stream",
     "text": [
      "['tweve:', ' EIGHTY NINE:', '.']\n"
     ]
    }
   ],
   "source": [
    "import re\n",
    "txt='tweve:12 EIGHTY NINE:89.'\n",
    "x=re.split(r'\\d+',txt)\n",
    "print(x)"
   ]
  },
  {
   "cell_type": "code",
   "execution_count": null,
   "id": "cc50a4ce-402e-4df0-8a04-bbfa9d5e8627",
   "metadata": {},
   "outputs": [],
   "source": []
  }
 ],
 "metadata": {
  "kernelspec": {
   "display_name": "Python 3 (ipykernel)",
   "language": "python",
   "name": "python3"
  },
  "language_info": {
   "codemirror_mode": {
    "name": "ipython",
    "version": 3
   },
   "file_extension": ".py",
   "mimetype": "text/x-python",
   "name": "python",
   "nbconvert_exporter": "python",
   "pygments_lexer": "ipython3",
   "version": "3.12.4"
  }
 },
 "nbformat": 4,
 "nbformat_minor": 5
}
