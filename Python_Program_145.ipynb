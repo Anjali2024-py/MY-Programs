{
 "cells": [
  {
   "cell_type": "code",
   "execution_count": 1,
   "id": "9ea407fc-80c8-412c-90b5-67c53616028d",
   "metadata": {},
   "outputs": [],
   "source": [
    "import tkinter as tk\n",
    "\n",
    "def change_color():\n",
    "    root.config(bg='lightblue')\n",
    "\n",
    "root=tk.Tk()\n",
    "root.title('change color')\n",
    "\n",
    "button=tk.Button(root,text='change color', command=change_color)\n",
    "button.pack()\n",
    "\n",
    "root.mainloop()"
   ]
  },
  {
   "cell_type": "code",
   "execution_count": 3,
   "id": "5b9d21d3-d87b-4e63-829a-843cdc521424",
   "metadata": {},
   "outputs": [],
   "source": [
    "import tkinter as tk\n",
    "\n",
    "def update_label():\n",
    "    label.config(text='Label Updated!')\n",
    "\n",
    "root=tk.Tk()\n",
    "root.title('Label Update Example')\n",
    "\n",
    "label=tk.Label(root,text='Initial Text')\n",
    "label.pack()\n",
    "\n",
    "button=tk.Button(root,text='Update Label', command=update_label)\n",
    "button.pack()\n",
    "\n",
    "root.mainloop()"
   ]
  },
  {
   "cell_type": "code",
   "execution_count": null,
   "id": "53f969d8-8548-4b33-a2dc-37e9468be976",
   "metadata": {},
   "outputs": [],
   "source": [
    "import tkinter as tk\n",
    "\n",
    "def close_window():\n",
    "    root.quit()\n",
    "\n",
    "root=tk.Tk()\n",
    "root.title('Close Window Example')\n",
    "\n",
    "button=tk.Button(root"
   ]
  }
 ],
 "metadata": {
  "kernelspec": {
   "display_name": "Python 3 (ipykernel)",
   "language": "python",
   "name": "python3"
  },
  "language_info": {
   "codemirror_mode": {
    "name": "ipython",
    "version": 3
   },
   "file_extension": ".py",
   "mimetype": "text/x-python",
   "name": "python",
   "nbconvert_exporter": "python",
   "pygments_lexer": "ipython3",
   "version": "3.12.4"
  }
 },
 "nbformat": 4,
 "nbformat_minor": 5
}
