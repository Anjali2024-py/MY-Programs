{
 "cells": [
  {
   "cell_type": "code",
   "execution_count": 3,
   "id": "e8f56f48-63ed-49d9-a13a-e5383cb1bf2e",
   "metadata": {},
   "outputs": [],
   "source": [
    "def Square(num1,num2):\n",
    "    substraction=((num1)**2-(num2)**2)\n",
    "    return substraction"
   ]
  },
  {
   "cell_type": "code",
   "execution_count": 4,
   "id": "6c0dd2c6-8f69-4be4-936b-7e53eb3f0f67",
   "metadata": {},
   "outputs": [
    {
     "data": {
      "text/plain": [
       "207"
      ]
     },
     "execution_count": 4,
     "metadata": {},
     "output_type": "execute_result"
    }
   ],
   "source": [
    "Square(16,7)"
   ]
  },
  {
   "cell_type": "code",
   "execution_count": 9,
   "id": "5c1fbe98-8d96-4ea1-9c5a-eb9b861fd35c",
   "metadata": {},
   "outputs": [],
   "source": [
    "def input(num1,num2):\n",
    "    add_divide=(num1+num2)/7\n",
    "    print (add_divide)"
   ]
  },
  {
   "cell_type": "code",
   "execution_count": 10,
   "id": "19264fa9-4d80-4c13-a234-cabbee175cb9",
   "metadata": {},
   "outputs": [
    {
     "name": "stdout",
     "output_type": "stream",
     "text": [
      "6.0\n"
     ]
    }
   ],
   "source": [
    "input(25,17)"
   ]
  },
  {
   "cell_type": "code",
   "execution_count": 16,
   "id": "7bdc9e06-7a4a-422f-9e0d-9399895bb896",
   "metadata": {},
   "outputs": [],
   "source": [
    "def numbers(n1,n2,n3,n4):\n",
    "    add_sqrt=((n1)**0.5+(n2)**0.5+(n3)**0.5+(n4)**0.5)\n",
    "    print(add_sqrt**2)"
   ]
  },
  {
   "cell_type": "code",
   "execution_count": 17,
   "id": "31e7b59a-4007-4f3e-bd56-1ab35d3bc1b9",
   "metadata": {},
   "outputs": [
    {
     "name": "stdout",
     "output_type": "stream",
     "text": [
      "361.0\n"
     ]
    }
   ],
   "source": [
    "numbers(16,25,81,1)"
   ]
  },
  {
   "cell_type": "code",
   "execution_count": 20,
   "id": "88276d3d-3cf1-4f16-8daa-69bcc37592b4",
   "metadata": {},
   "outputs": [],
   "source": [
    "def nums(n1,n2,n3,n4):\n",
    "    multi=((n1*n3)+(n2*n4))\n",
    "    return multi"
   ]
  },
  {
   "cell_type": "code",
   "execution_count": 21,
   "id": "9e6e1d16-be31-406f-871e-41beabd25350",
   "metadata": {},
   "outputs": [
    {
     "data": {
      "text/plain": [
       "51"
      ]
     },
     "execution_count": 21,
     "metadata": {},
     "output_type": "execute_result"
    }
   ],
   "source": [
    "nums(7,4,5,4)"
   ]
  },
  {
   "cell_type": "code",
   "execution_count": 22,
   "id": "7b9d5087-72df-4298-a4f2-449a41e841a3",
   "metadata": {},
   "outputs": [],
   "source": [
    "def number(n1,n2,n3,n4):\n",
    "    add=n1+n2+n3+n4\n",
    "    print((add**2)-1)"
   ]
  },
  {
   "cell_type": "code",
   "execution_count": 23,
   "id": "7c8722f6-797e-4d2e-bfcf-bae2edff926c",
   "metadata": {},
   "outputs": [
    {
     "name": "stdout",
     "output_type": "stream",
     "text": [
      "168\n"
     ]
    }
   ],
   "source": [
    "number(2,2,1,8)"
   ]
  },
  {
   "cell_type": "code",
   "execution_count": 26,
   "id": "0afc65c7-fc92-480f-b038-810b27070593",
   "metadata": {},
   "outputs": [],
   "source": [
    "def numbers(n1,n2,n3,n4):\n",
    "    add=n1+n2+n3+n4\n",
    "    return add**0.5"
   ]
  },
  {
   "cell_type": "code",
   "execution_count": 27,
   "id": "030446b9-ae2b-4e1d-ad05-237bea83482f",
   "metadata": {},
   "outputs": [
    {
     "data": {
      "text/plain": [
       "5.0"
      ]
     },
     "execution_count": 27,
     "metadata": {},
     "output_type": "execute_result"
    }
   ],
   "source": [
    "numbers(6,8,4,7)"
   ]
  },
  {
   "cell_type": "code",
   "execution_count": 28,
   "id": "e707919e-76f4-4112-b222-1baf1f17c247",
   "metadata": {},
   "outputs": [],
   "source": [
    "def num(n1,n2,n3):\n",
    "    add=n1+n2+n3\n",
    "    return (add*2)+1"
   ]
  },
  {
   "cell_type": "code",
   "execution_count": 29,
   "id": "0c9a8c30-c760-4771-b7db-61a4f61a6053",
   "metadata": {},
   "outputs": [
    {
     "data": {
      "text/plain": [
       "27"
      ]
     },
     "execution_count": 29,
     "metadata": {},
     "output_type": "execute_result"
    }
   ],
   "source": [
    "num(4,6,3)"
   ]
  },
  {
   "cell_type": "code",
   "execution_count": 35,
   "id": "6c111c16-69ae-4d0c-860d-7deea1f63d40",
   "metadata": {},
   "outputs": [],
   "source": [
    "def nums(num1,num2):\n",
    "    x=2\n",
    "    sub=((num2-num1)**2-x)\n",
    "    print(sub)"
   ]
  },
  {
   "cell_type": "code",
   "execution_count": 36,
   "id": "9c1ae740-9a59-4157-a568-c7155579b33b",
   "metadata": {},
   "outputs": [
    {
     "name": "stdout",
     "output_type": "stream",
     "text": [
      "23\n"
     ]
    }
   ],
   "source": [
    "nums(2,7)"
   ]
  },
  {
   "cell_type": "code",
   "execution_count": 39,
   "id": "a6eaa95e-2ce8-4fd6-b751-deb0afb354ce",
   "metadata": {},
   "outputs": [],
   "source": [
    "def solve(num1,num2,num3,num4):\n",
    "    multi=num1*num2\n",
    "    multiply=num3*num4\n",
    "    print(multi,multiply)"
   ]
  },
  {
   "cell_type": "code",
   "execution_count": 43,
   "id": "b6bc5bd2-fdd9-44a9-b892-7585d5e02179",
   "metadata": {},
   "outputs": [
    {
     "name": "stdout",
     "output_type": "stream",
     "text": [
      "12 12\n"
     ]
    }
   ],
   "source": [
    "solve(6,2,3,4)"
   ]
  },
  {
   "cell_type": "code",
   "execution_count": 46,
   "id": "db4c7909-4ce3-422d-85a1-095ef56deb5a",
   "metadata": {},
   "outputs": [],
   "source": [
    "def adding(n1,n2,n3,n4,n5,n6):\n",
    "    sol1=((n1+n2)/4)\n",
    "    sol2=(n3+n4)/4\n",
    "    sol3=(n5+n6)/4\n",
    "    return sol1,sol2,sol3"
   ]
  },
  {
   "cell_type": "code",
   "execution_count": 47,
   "id": "0ea89cff-f618-44e0-ad94-69abb0122922",
   "metadata": {},
   "outputs": [
    {
     "data": {
      "text/plain": [
       "(10.0, 12.0, 9.0)"
      ]
     },
     "execution_count": 47,
     "metadata": {},
     "output_type": "execute_result"
    }
   ],
   "source": [
    "adding(14,26,16,32,18,18)"
   ]
  },
  {
   "cell_type": "code",
   "execution_count": null,
   "id": "14fbb598-d945-4528-8bb0-a4b921d3f303",
   "metadata": {},
   "outputs": [],
   "source": []
  }
 ],
 "metadata": {
  "kernelspec": {
   "display_name": "Python 3 (ipykernel)",
   "language": "python",
   "name": "python3"
  },
  "language_info": {
   "codemirror_mode": {
    "name": "ipython",
    "version": 3
   },
   "file_extension": ".py",
   "mimetype": "text/x-python",
   "name": "python",
   "nbconvert_exporter": "python",
   "pygments_lexer": "ipython3",
   "version": "3.12.4"
  }
 },
 "nbformat": 4,
 "nbformat_minor": 5
}
