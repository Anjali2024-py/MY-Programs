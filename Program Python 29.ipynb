{
 "cells": [
  {
   "cell_type": "code",
   "execution_count": 6,
   "id": "5f802bac-c191-482b-933f-65edba7d707a",
   "metadata": {},
   "outputs": [
    {
     "name": "stdout",
     "output_type": "stream",
     "text": [
      "*     *\n",
      " *   * \n",
      "  * *  \n",
      "   *   \n"
     ]
    }
   ],
   "source": [
    "for row in range(4):\n",
    "    for col in range(7):\n",
    "        if row==col or row+col==6:\n",
    "            print(\"*\",end=\"\")\n",
    "        else:\n",
    "            print(\"\",end=\" \")\n",
    "    print()\n",
    "        "
   ]
  },
  {
   "cell_type": "code",
   "execution_count": 12,
   "id": "19ec2bfb-b62d-46e9-a15e-985c5e5fb7a5",
   "metadata": {},
   "outputs": [
    {
     "name": "stdout",
     "output_type": "stream",
     "text": [
      "*  *  *\n",
      "* * * *\n",
      "**   **\n",
      "*     *\n"
     ]
    }
   ],
   "source": [
    "i=0\n",
    "j=3\n",
    "for row in range(4):\n",
    "    for col in range(7):\n",
    "        if (col==0 or col==6 ) or (row==1 and col==4) or (col==5 and row==2):\n",
    "            print(\"*\",end=\"\")\n",
    "        elif row==i and col==j:\n",
    "            print(\"*\",end=\"\")\n",
    "            i=i+1\n",
    "            j=j-1\n",
    "        else:\n",
    "            print(\"\",end=\" \")\n",
    "    print()\n",
    "        \n",
    "        "
   ]
  },
  {
   "cell_type": "code",
   "execution_count": 21,
   "id": "2988baaa-2739-46b8-842b-394670d9d542",
   "metadata": {},
   "outputs": [
    {
     "name": "stdout",
     "output_type": "stream",
     "text": [
      "*   *\n",
      " * * \n",
      "  *  \n",
      " * * \n",
      "*   *\n"
     ]
    }
   ],
   "source": [
    "#Print W\n",
    "i=0\n",
    "j=4\n",
    "for row in range(5):\n",
    "    for col in range(5):\n",
    "        if row==i and col==j:\n",
    "            print(\"*\",end=\"\")\n",
    "            i=i+1\n",
    "            j=j-1\n",
    "        elif row==col:\n",
    "            print(\"*\",end=\"\")\n",
    "            \n",
    "        else:\n",
    "            print(\"\",end=\" \")\n",
    "    print()"
   ]
  },
  {
   "cell_type": "code",
   "execution_count": 27,
   "id": "187258cc-4e3f-4f6c-aa9a-9ec1c0ebeecd",
   "metadata": {},
   "outputs": [
    {
     "name": "stdout",
     "output_type": "stream",
     "text": [
      "*       * \n",
      "  *   *   \n",
      "    *     \n",
      "    *     \n",
      "    *     \n"
     ]
    }
   ],
   "source": [
    "#Print Y\n",
    "for row in range(5):\n",
    "    for col in range(5):\n",
    "        if (row==col and col<3) or (row==0 and col==4) or (row==1 and col==3) or (col==2 and row>1):\n",
    "            print(\"*\",end=\" \")\n",
    "        else:\n",
    "            print(\" \",end=\" \")\n",
    "    print()"
   ]
  },
  {
   "cell_type": "code",
   "execution_count": 41,
   "id": "73f95372-2fe9-4684-99fa-1cb5cb3b2607",
   "metadata": {},
   "outputs": [
    {
     "name": "stdout",
     "output_type": "stream",
     "text": [
      "* * * * * * \n",
      "        *   \n",
      "      *     \n",
      "    *       \n",
      "  *         \n",
      "* * * * * * \n"
     ]
    }
   ],
   "source": [
    "#Print Z\n",
    "i=1\n",
    "j=4\n",
    "for row in range(0,6):\n",
    "    for col in range(0,6):\n",
    "        if row==0 or row==5:\n",
    "            print(\"*\",end=\" \")\n",
    "        elif row==i and col==j:\n",
    "            print(\"*\",end=\" \")\n",
    "            i=i+1\n",
    "            j=j-1\n",
    "        else:\n",
    "            print(\" \",end=\" \")\n",
    "    print()\n"
   ]
  },
  {
   "cell_type": "code",
   "execution_count": 47,
   "id": "bd073815-547b-41b6-95b6-7d77b0a1c5ad",
   "metadata": {},
   "outputs": [
    {
     "name": "stdout",
     "output_type": "stream",
     "text": [
      "1 \n",
      "2 3 \n",
      "4 5 6 \n",
      "7 8 9 10 \n",
      "11 12 13 14 15 \n"
     ]
    }
   ],
   "source": [
    "n=5\n",
    "num= 1\n",
    "for i in range(1,n+1):\n",
    "    for j in range(1,i+1):\n",
    "        print(num,end=\" \")\n",
    "        num=num+1\n",
    "    print()"
   ]
  },
  {
   "cell_type": "code",
   "execution_count": 57,
   "id": "4edf86fe-2440-4a91-8aeb-6641992917b4",
   "metadata": {},
   "outputs": [
    {
     "name": "stdin",
     "output_type": "stream",
     "text": [
      "enter The String: Python\n"
     ]
    },
    {
     "name": "stdout",
     "output_type": "stream",
     "text": [
      "P \n",
      "P y \n",
      "P y t \n",
      "P y t h \n",
      "P y t h o \n",
      "P y t h o n \n"
     ]
    }
   ],
   "source": [
    "string=input(\"enter The String:\")\n",
    "length=len(string)\n",
    "for i in range(length):\n",
    "    for j in range(i+1):\n",
    "        print (string[j],end=\" \")\n",
    "    print()"
   ]
  },
  {
   "cell_type": "code",
   "execution_count": 61,
   "id": "4cd3db3f-40e8-48bc-9b80-503fd7517073",
   "metadata": {},
   "outputs": [
    {
     "name": "stdout",
     "output_type": "stream",
     "text": [
      "1 2 3 4 5 \n",
      "1 2 3 4 \n",
      "1 2 3 \n",
      "1 2 \n",
      "1 \n"
     ]
    }
   ],
   "source": [
    "n=5\n",
    "for i in range(n,0,-1):\n",
    "    for j in range(1,i+1):\n",
    "        print(j,end=\" \")\n",
    "    print()"
   ]
  },
  {
   "cell_type": "code",
   "execution_count": 62,
   "id": "68de0c29-4e95-464c-a416-d20be4245b4b",
   "metadata": {},
   "outputs": [
    {
     "name": "stdout",
     "output_type": "stream",
     "text": [
      "5 5 5 5 5 \n",
      "4 4 4 4 \n",
      "3 3 3 \n",
      "2 2 \n",
      "1 \n"
     ]
    }
   ],
   "source": [
    "n=5\n",
    "for i in range(n,0,-1):\n",
    "    for j in range(1,i+1):\n",
    "        print(i,end=\" \")\n",
    "    print()"
   ]
  },
  {
   "cell_type": "code",
   "execution_count": 66,
   "id": "4711de2d-834c-4ff1-b85c-5f5b5c197ea7",
   "metadata": {},
   "outputs": [
    {
     "name": "stdout",
     "output_type": "stream",
     "text": [
      "1 2 3 4 5 \n",
      "6 7 8 9 \n",
      "10 11 12 \n",
      "13 14 \n",
      "15 \n"
     ]
    }
   ],
   "source": [
    "n=5\n",
    "num=1\n",
    "for i in range(n,0,-1):\n",
    "    for j in range(1,i+1):\n",
    "        print(num,end=\" \")\n",
    "        num=num+1\n",
    "    print()"
   ]
  },
  {
   "cell_type": "code",
   "execution_count": null,
   "id": "6c722728-0a7f-4a79-bb17-c88eb52cbd45",
   "metadata": {},
   "outputs": [],
   "source": []
  }
 ],
 "metadata": {
  "kernelspec": {
   "display_name": "Python 3 (ipykernel)",
   "language": "python",
   "name": "python3"
  },
  "language_info": {
   "codemirror_mode": {
    "name": "ipython",
    "version": 3
   },
   "file_extension": ".py",
   "mimetype": "text/x-python",
   "name": "python",
   "nbconvert_exporter": "python",
   "pygments_lexer": "ipython3",
   "version": "3.12.4"
  }
 },
 "nbformat": 4,
 "nbformat_minor": 5
}
