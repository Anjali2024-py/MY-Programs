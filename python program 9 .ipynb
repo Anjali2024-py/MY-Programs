{
 "cells": [
  {
   "cell_type": "code",
   "execution_count": 3,
   "id": "02eb67a6-e2e3-482d-9a3c-83a9f4db5352",
   "metadata": {},
   "outputs": [
    {
     "name": "stdin",
     "output_type": "stream",
     "text": [
      "enter any number: 5\n"
     ]
    },
    {
     "name": "stdout",
     "output_type": "stream",
     "text": [
      "sum is:  2.67\n"
     ]
    }
   ],
   "source": [
    "#write a program to add 1st n trems of the following series using while loop,\n",
    "1/1!+1/2!+1/3!+1/4!+...+1n!\n",
    "num=int(input(\"enter any number:\"))\n",
    "fact=1\n",
    "i=1\n",
    "sum=0\n",
    "while(i<num):\n",
    "    fact=fact*i\n",
    "    sum=sum+i/fact\n",
    "    i=i+1\n",
    "print(\"sum is: \", round(sum,2))\n",
    "    \n",
    "                                                                        "
   ]
  },
  {
   "cell_type": "code",
   "execution_count": 7,
   "id": "8a7fa935-03bf-430f-8e7f-1e57c2f8dd70",
   "metadata": {},
   "outputs": [
    {
     "name": "stdin",
     "output_type": "stream",
     "text": [
      "enter any numbers: 2\n",
      "Do you wish to continue(Y/N):  y\n",
      "enter any numbers: 3\n",
      "Do you wish to continue(Y/N):  y\n",
      "enter any numbers: 8\n",
      "Do you wish to continue(Y/N):  y\n",
      "enter any numbers: 6\n",
      "Do you wish to continue(Y/N):  y\n",
      "enter any numbers: 0\n",
      "Do you wish to continue(Y/N):  n\n"
     ]
    },
    {
     "name": "stdout",
     "output_type": "stream",
     "text": [
      "19\n"
     ]
    }
   ],
   "source": [
    "#write a program to enter the numbers till user wants and \n",
    "#at the end it should display the sum of all the numbers entered.\n",
    "ch='Y'\n",
    "sum=0\n",
    "while(ch.upper())=='Y':\n",
    "    num=int(input(\"enter any numbers:\"))\n",
    "    sum=sum+num\n",
    "    \n",
    "    \n",
    "    ch=input(\"Do you wish to continue(Y/N): \")\n",
    "print(sum)\n"
   ]
  },
  {
   "cell_type": "code",
   "execution_count": 20,
   "id": "82250ebb-a45f-4b8e-9f41-a00c2c557a02",
   "metadata": {},
   "outputs": [
    {
     "name": "stdin",
     "output_type": "stream",
     "text": [
      "enter any numnber: 4\n",
      "enter any numnber: 7\n",
      "enter any numnber: -7\n",
      "enter any numnber: -8\n",
      "enter any numnber: 3\n",
      "enter any numnber: -5\n",
      "enter any numnber: -2\n",
      "enter any numnber: -1\n",
      "enter any numnber: 3\n",
      "enter any numnber: 6\n",
      "enter any numnber: 97\n",
      "enter any numnber: 0\n"
     ]
    },
    {
     "name": "stdout",
     "output_type": "stream",
     "text": [
      "sum of +ve nummbers: 120\n",
      "sum of -ve Numbers: -23\n"
     ]
    }
   ],
   "source": [
    "#write a program to enter the no till the user enter zero and at the end it should display\n",
    "#the count +ve and -ve numberes entered\n",
    "sumP=0\n",
    "sumN=0\n",
    "num=1\n",
    "while(num!=0):\n",
    "    num=int(input(\"enter any numnber:\"))\n",
    "    if(num>0):\n",
    "        sumP=sumP+num\n",
    "    elif num<0:\n",
    "        sumN=sumN+num\n",
    "print(\"sum of +ve nummbers:\",sumP)\n",
    "print(\"sum of -ve Numbers:\",sumN)"
   ]
  },
  {
   "cell_type": "code",
   "execution_count": 25,
   "id": "12f80803-849d-4359-af45-6612a5970df3",
   "metadata": {},
   "outputs": [
    {
     "name": "stdin",
     "output_type": "stream",
     "text": [
      "enter any number: 56\n",
      "enter any number: 48\n"
     ]
    },
    {
     "name": "stdout",
     "output_type": "stream",
     "text": [
      "hcf of two numbers is: 8\n"
     ]
    }
   ],
   "source": [
    "#write a program to find the HCF(Highest Common factor) or GCD of two numbers entred from the user.\n",
    "num1=int(input(\"enter any number:\"))\n",
    "num2=int(input(\"enter any number:\"))\n",
    "rem=1\n",
    "if num1>num2:\n",
    "    while rem!=0:\n",
    "        rem=num1%num2\n",
    "        if rem==0:\n",
    "            hcf=num2\n",
    "        else:\n",
    "            num1=num2\n",
    "            num2=rem\n",
    "else:\n",
    "    while rem!=0:\n",
    "        rem=num2%num1\n",
    "        if rem==0:\n",
    "            hcf=num1\n",
    "        else:\n",
    "            num2=num1\n",
    "            num1=rem\n",
    "\n",
    "print(\"hcf of two numbers is:\", hcf)\n",
    "            "
   ]
  },
  {
   "cell_type": "code",
   "execution_count": 46,
   "id": "fdda0652-ce86-4ec1-be90-f08b2c0c47bf",
   "metadata": {},
   "outputs": [
    {
     "name": "stdin",
     "output_type": "stream",
     "text": [
      "enter any number: 16\n"
     ]
    },
    {
     "name": "stdout",
     "output_type": "stream",
     "text": [
      "0\n",
      "000\n",
      "0000\n",
      "00000\n",
      "010000\n",
      "10000"
     ]
    }
   ],
   "source": [
    "#convert decimal into binary\n",
    "num=int(input(\"enter any number:\"))\n",
    "s=\"\"\n",
    "\n",
    "while(num>0):\n",
    "    rem=(num%2)\n",
    "    s=str(rem)+s\n",
    "    print(s)\n",
    "    num=num//2\n",
    "    print(int(s),end=\"\")\n",
    "    "
   ]
  },
  {
   "cell_type": "code",
   "execution_count": 2,
   "id": "fa4a767d-ed09-44fc-b7cf-0f0bd7bcaa63",
   "metadata": {},
   "outputs": [
    {
     "name": "stdin",
     "output_type": "stream",
     "text": [
      "enter any number: 13\n"
     ]
    },
    {
     "name": "stdout",
     "output_type": "stream",
     "text": [
      "[1, 1, 0, 1]\n",
      "1101"
     ]
    }
   ],
   "source": [
    "#convert decimal into binary using another method\n",
    "num=int(input(\"enter any number:\"))\n",
    "l=list()\n",
    "while(num>0):\n",
    "    rem=num%2\n",
    "    l.append(rem)\n",
    "    num=num//2\n",
    "l.reverse()\n",
    "print(l)\n",
    "for i in l:\n",
    "    print(i,end=\"\")\n",
    "    \n"
   ]
  },
  {
   "cell_type": "code",
   "execution_count": 78,
   "id": "d03f792e-4085-4f42-8222-4751928922ef",
   "metadata": {},
   "outputs": [
    {
     "name": "stdin",
     "output_type": "stream",
     "text": [
      "enter any binary number: 1110\n"
     ]
    },
    {
     "name": "stdout",
     "output_type": "stream",
     "text": [
      "14\n"
     ]
    }
   ],
   "source": [
    "bin=int(input(\"enter any binary number:\"))\n",
    "dec,i=0,0\n",
    "while(bin>0):\n",
    "    r=bin%2\n",
    "    dec=dec+r*(2**i)\n",
    "    i=i+1\n",
    "    bin=bin//10\n",
    "print(dec)"
   ]
  },
  {
   "cell_type": "code",
   "execution_count": 7,
   "id": "f7f7614f-1335-4199-b634-19475eb7d890",
   "metadata": {},
   "outputs": [
    {
     "name": "stdin",
     "output_type": "stream",
     "text": [
      "enter bn number: 111\n"
     ]
    },
    {
     "name": "stdout",
     "output_type": "stream",
     "text": [
      "decimal: 7\n"
     ]
    }
   ],
   "source": [
    "bn=input(\"enter bn number:\")\n",
    "dec=int(bn,2)\n",
    "print(\"decimal:\",dec)"
   ]
  },
  {
   "cell_type": "code",
   "execution_count": 91,
   "id": "7d8e9545-edd7-45c4-aefd-03edf6e74190",
   "metadata": {},
   "outputs": [
    {
     "name": "stdin",
     "output_type": "stream",
     "text": [
      "enter any number: 1\n",
      "enter any number: 2\n",
      "enter any number: 3\n",
      "enter any number: 4\n",
      "enter any number: 5\n",
      "enter any number: 6\n",
      "enter any number: 7\n",
      "enter any number: 8\n",
      "enter any number: 9\n",
      "enter any number: 10\n"
     ]
    },
    {
     "name": "stdout",
     "output_type": "stream",
     "text": [
      "average is: 5.5\n"
     ]
    }
   ],
   "source": [
    "#write a program to accept 10 numbers from user and display its average\n",
    "i=0\n",
    "sum=0\n",
    "while(i<10):\n",
    "    num=int(input(\"enter any number:\"))\n",
    "    sum=sum+num\n",
    "    res=sum/10\n",
    "    i=i+1\n",
    "print(\"average is:\",res)\n",
    "    "
   ]
  },
  {
   "cell_type": "code",
   "execution_count": 9,
   "id": "1fa06519-2083-44a2-82fc-15f1ae6bd146",
   "metadata": {},
   "outputs": [
    {
     "name": "stdin",
     "output_type": "stream",
     "text": [
      "enter  any number: 12\n",
      "enter  any number: 45\n",
      "enter  any number: 04\n",
      "enter  any number: 015\n",
      "enter  any number: 99\n",
      "enter  any number: 23\n",
      "enter  any number: 78\n",
      "enter  any number: 96\n",
      "enter  any number: 26\n"
     ]
    },
    {
     "name": "stdout",
     "output_type": "stream",
     "text": [
      "the largest number is: 99\n",
      "the smallest number is: 4\n"
     ]
    }
   ],
   "source": [
    "#write a program to accept 10 numbers from the user and display the largest and smallest number\n",
    "l=[]\n",
    "i=1\n",
    "while(i<10):\n",
    "    num=int(input(\"enter  any number:\"))\n",
    "    l.append(num\n",
    "            )\n",
    "    i=i+1\n",
    "l.sort()\n",
    "print(\"the largest number is:\", l[-1])\n",
    "print(\"the smallest number is:\",l[0])\n"
   ]
  },
  {
   "cell_type": "code",
   "execution_count": null,
   "id": "edbd53a6-71c0-493b-82e8-9589758efb8f",
   "metadata": {},
   "outputs": [],
   "source": []
  }
 ],
 "metadata": {
  "kernelspec": {
   "display_name": "Python 3 (ipykernel)",
   "language": "python",
   "name": "python3"
  },
  "language_info": {
   "codemirror_mode": {
    "name": "ipython",
    "version": 3
   },
   "file_extension": ".py",
   "mimetype": "text/x-python",
   "name": "python",
   "nbconvert_exporter": "python",
   "pygments_lexer": "ipython3",
   "version": "3.12.4"
  }
 },
 "nbformat": 4,
 "nbformat_minor": 5
}
