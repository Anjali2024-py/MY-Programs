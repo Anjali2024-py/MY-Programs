{
 "cells": [
  {
   "cell_type": "code",
   "execution_count": 1,
   "id": "36274464-1eae-457a-8906-c7b226688279",
   "metadata": {},
   "outputs": [
    {
     "name": "stdout",
     "output_type": "stream",
     "text": [
      "Index 0: apple\n",
      "Index 2: cherry\n"
     ]
    }
   ],
   "source": [
    "fruits = ['apple', 'banana', 'cherry', 'date']\n",
    "for index,fruit in enumerate(fruits):\n",
    "    if index%2==0: #check if the index is even\n",
    "        print(f\"Index {index}: {fruit}\")"
   ]
  },
  {
   "cell_type": "code",
   "execution_count": 2,
   "id": "170cf905-36a9-4889-899a-8d248d33f116",
   "metadata": {},
   "outputs": [
    {
     "name": "stdout",
     "output_type": "stream",
     "text": [
      "Found cherry at index 2\n"
     ]
    }
   ],
   "source": [
    "fruits = ['apple', 'banana', 'cherry', 'date']\n",
    "target_fruit='cherry'\n",
    "\n",
    "for index,fruit in enumerate(fruits):\n",
    "    if fruit == target_fruit:\n",
    "        print(f\"Found {target_fruit } at index {index}\")"
   ]
  },
  {
   "cell_type": "code",
   "execution_count": 3,
   "id": "36d17503-4189-4a31-a3fa-e4db6271aaa2",
   "metadata": {},
   "outputs": [
    {
     "name": "stdout",
     "output_type": "stream",
     "text": [
      "Index 0: h\n",
      "Index 1: e\n",
      "Index 2: l\n",
      "Index 3: l\n",
      "Index 4: o\n"
     ]
    }
   ],
   "source": [
    "word='hello'\n",
    "\n",
    "for index,char in enumerate(word):\n",
    "    print(f\"Index {index}: {char}\")"
   ]
  },
  {
   "cell_type": "code",
   "execution_count": 4,
   "id": "3007e844-614d-4c0a-86bc-9dd4f2cf022c",
   "metadata": {},
   "outputs": [
    {
     "name": "stdout",
     "output_type": "stream",
     "text": [
      "Index 1: banana\n",
      "Index 3: date\n"
     ]
    }
   ],
   "source": [
    "fruits = ['apple', 'banana', 'cherry', 'date', 'elderberry']\n",
    "\n",
    "for index, fruit in enumerate(fruits):\n",
    "    if index%2 !=0:\n",
    "        print(f\"Index {index}: {fruit}\")"
   ]
  },
  {
   "cell_type": "code",
   "execution_count": 5,
   "id": "aafe853c-ba26-4416-990a-bc627cedef41",
   "metadata": {},
   "outputs": [
    {
     "name": "stdout",
     "output_type": "stream",
     "text": [
      "Reversed index 0: elderberry\n",
      "Reversed index 1: date\n",
      "Reversed index 2: cherry\n",
      "Reversed index 3: banana\n",
      "Reversed index 4: apple\n"
     ]
    }
   ],
   "source": [
    "fruits = ['apple', 'banana', 'cherry', 'date', 'elderberry']\n",
    "\n",
    "for index,fruit in enumerate(reversed(fruits)):\n",
    "    print(f\"Reversed index {index}: {fruit}\")"
   ]
  },
  {
   "cell_type": "code",
   "execution_count": null,
   "id": "2c2538cf-66b3-43f8-b1c2-754b6da953de",
   "metadata": {},
   "outputs": [],
   "source": []
  }
 ],
 "metadata": {
  "kernelspec": {
   "display_name": "Python 3 (ipykernel)",
   "language": "python",
   "name": "python3"
  },
  "language_info": {
   "codemirror_mode": {
    "name": "ipython",
    "version": 3
   },
   "file_extension": ".py",
   "mimetype": "text/x-python",
   "name": "python",
   "nbconvert_exporter": "python",
   "pygments_lexer": "ipython3",
   "version": "3.12.4"
  }
 },
 "nbformat": 4,
 "nbformat_minor": 5
}
