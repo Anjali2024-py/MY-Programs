{
 "cells": [
  {
   "cell_type": "code",
   "execution_count": 1,
   "id": "9952c03b-5c8f-441b-96a8-6df40dbfd2ec",
   "metadata": {},
   "outputs": [
    {
     "name": "stdout",
     "output_type": "stream",
     "text": [
      "5\n",
      "4\n",
      "3\n",
      "2\n",
      "1\n"
     ]
    }
   ],
   "source": [
    "def recursive_function(n):\n",
    "    if n <= 0:\n",
    "        pass  # Base case: do nothing\n",
    "    else:\n",
    "        print(n)\n",
    "        recursive_function(n - 1)\n",
    "\n",
    "recursive_function(5)\n"
   ]
  },
  {
   "cell_type": "code",
   "execution_count": 2,
   "id": "8f39e4e6-9caa-4912-915c-d03baef04ced",
   "metadata": {},
   "outputs": [
    {
     "name": "stdin",
     "output_type": "stream",
     "text": [
      "Enter a number:  5\n"
     ]
    },
    {
     "name": "stdout",
     "output_type": "stream",
     "text": [
      "Program continues after exception handling.\n"
     ]
    }
   ],
   "source": [
    "try:\n",
    "    num = int(input(\"Enter a number: \"))\n",
    "except ValueError:\n",
    "    pass  # Do nothing if an exception occurs\n",
    "\n",
    "print(\"Program continues after exception handling.\")\n"
   ]
  },
  {
   "cell_type": "code",
   "execution_count": null,
   "id": "23439a26-f004-4e30-995c-9abc3ff50d9e",
   "metadata": {},
   "outputs": [],
   "source": []
  }
 ],
 "metadata": {
  "kernelspec": {
   "display_name": "Python 3 (ipykernel)",
   "language": "python",
   "name": "python3"
  },
  "language_info": {
   "codemirror_mode": {
    "name": "ipython",
    "version": 3
   },
   "file_extension": ".py",
   "mimetype": "text/x-python",
   "name": "python",
   "nbconvert_exporter": "python",
   "pygments_lexer": "ipython3",
   "version": "3.12.4"
  }
 },
 "nbformat": 4,
 "nbformat_minor": 5
}
