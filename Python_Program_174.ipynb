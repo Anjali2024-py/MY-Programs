{
 "cells": [
  {
   "cell_type": "code",
   "execution_count": null,
   "id": "5f67418b-417e-4c39-b3b6-9481b3893bbe",
   "metadata": {},
   "outputs": [],
   "source": [
    "import json\n",
    "\n",
    "my_dict={'name':'Alice','age':25,'city':'Wonderland'}\n",
    "\n",
    "dict_str=json.dumps(my_dict,indent=4)\n",
    "\n",
    "print(dict_str)"
   ]
  },
  {
   "cell_type": "code",
   "execution_count": null,
   "id": "48d1366c-2fbe-44e2-96cb-ae84d8206940",
   "metadata": {},
   "outputs": [],
   "source": [
    "dict_with_none={'a':1,'b':None,'c':3}\n",
    "\n",
    "dict_str=str(dict_with_none)\n",
    "print(dict_str)"
   ]
  },
  {
   "cell_type": "code",
   "execution_count": null,
   "id": "07c69c41-a285-476d-a2fa-28ab146e774d",
   "metadata": {},
   "outputs": [],
   "source": [
    "my_dict = {'a': 1, 'b': 2, 'c': 3}\n",
    "\n",
    "# Get the length of the dictionary (number of key-value pairs)\n",
    "length = len(my_dict)\n",
    "print(length)\n"
   ]
  },
  {
   "cell_type": "code",
   "execution_count": null,
   "id": "2ed97d5b-034f-4d27-b8df-135fa7bfff69",
   "metadata": {},
   "outputs": [],
   "source": [
    "empty_dict = {}\n",
    "\n",
    "# Get the length of the empty dictionary\n",
    "length = len(empty_dict)\n",
    "print(length)\n"
   ]
  },
  {
   "cell_type": "code",
   "execution_count": null,
   "id": "9407a7c3-5c03-4e28-94c7-874a60b025df",
   "metadata": {},
   "outputs": [],
   "source": [
    "complex_dict = {'name': 'Alice', 'age': 25, 'is_student': False}\n",
    "\n",
    "# Get the length of the dictionary\n",
    "length = len(complex_dict)\n",
    "print(length)\n"
   ]
  },
  {
   "cell_type": "code",
   "execution_count": null,
   "id": "4f100c08-7aec-47ec-b74b-08ac1aed7eba",
   "metadata": {},
   "outputs": [],
   "source": [
    "nested_dict = {'person': {'name': 'John', 'age': 30}, 'city': 'New York'}\n",
    "\n",
    "# Get the length of the dictionary\n",
    "length = len(nested_dict)\n",
    "print(length)\n"
   ]
  },
  {
   "cell_type": "code",
   "execution_count": null,
   "id": "8438fcfd-f549-479d-95b0-bc1c7a9ee29c",
   "metadata": {},
   "outputs": [],
   "source": [
    "dict_with_none = {'a': 1, 'b': None, 'c': 3}\n",
    "\n",
    "# Get the length of the dictionary\n",
    "length = len(dict_with_none)\n",
    "print(length)\n"
   ]
  },
  {
   "cell_type": "code",
   "execution_count": null,
   "id": "92180512-37b4-45a3-acc3-31f2002d269f",
   "metadata": {},
   "outputs": [],
   "source": [
    "dict_with_lists = {'fruits': ['apple', 'banana'], 'vegetables': ['carrot', 'broccoli']}\n",
    "\n",
    "# Get the length of the dictionary\n",
    "length = len(dict_with_lists)\n",
    "print(length)\n"
   ]
  },
  {
   "cell_type": "code",
   "execution_count": null,
   "id": "6a1b8ac6-1272-49c7-8b64-d4540baa1f53",
   "metadata": {},
   "outputs": [],
   "source": [
    "dict_mixed_keys = {1: 'apple', 'two': 'banana', (3, 4): 'cherry'}\n",
    "\n",
    "# Get the length of the dictionary\n",
    "length = len(dict_mixed_keys)\n",
    "print(length)\n"
   ]
  },
  {
   "cell_type": "code",
   "execution_count": null,
   "id": "ec968323-9fbe-4cfe-8f76-3e1666bd79ff",
   "metadata": {},
   "outputs": [],
   "source": []
  }
 ],
 "metadata": {
  "kernelspec": {
   "display_name": "Python 3 (ipykernel)",
   "language": "python",
   "name": "python3"
  },
  "language_info": {
   "name": ""
  }
 },
 "nbformat": 4,
 "nbformat_minor": 5
}
