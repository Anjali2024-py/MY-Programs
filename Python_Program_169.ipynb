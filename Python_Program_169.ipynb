{
 "cells": [
  {
   "cell_type": "code",
   "execution_count": 1,
   "id": "11e25921-a7ac-4cd2-a6ed-2af4e8cf48b6",
   "metadata": {},
   "outputs": [
    {
     "name": "stdout",
     "output_type": "stream",
     "text": [
      "[5, 4, 3, 2, 1]\n"
     ]
    }
   ],
   "source": [
    "numbers = [1, 2, 3, 4, 5]\n",
    "numbers.reverse()\n",
    "print(numbers) "
   ]
  },
  {
   "cell_type": "code",
   "execution_count": 2,
   "id": "f4f9f7c0-1741-49f4-8c3e-e1556c7f078b",
   "metadata": {},
   "outputs": [
    {
     "name": "stdout",
     "output_type": "stream",
     "text": [
      "['cherry', 'banana', 'apple']\n"
     ]
    }
   ],
   "source": [
    "fruits = [\"apple\", \"banana\", \"cherry\"]\n",
    "fruits.reverse()\n",
    "print(fruits) \n"
   ]
  },
  {
   "cell_type": "code",
   "execution_count": 3,
   "id": "fb6ecc39-164d-4ff2-8b34-cf1b48a9745b",
   "metadata": {},
   "outputs": [
    {
     "name": "stdout",
     "output_type": "stream",
     "text": [
      "[True, 3.14, 'apple', 1]\n"
     ]
    }
   ],
   "source": [
    "mixed_list = [1, \"apple\", 3.14, True]\n",
    "mixed_list.reverse()\n",
    "print(mixed_list)"
   ]
  },
  {
   "cell_type": "code",
   "execution_count": 4,
   "id": "2a3a6207-7560-455b-b3f0-0614ab1c4a78",
   "metadata": {},
   "outputs": [
    {
     "name": "stdout",
     "output_type": "stream",
     "text": [
      "[]\n"
     ]
    }
   ],
   "source": [
    "empty_list = []\n",
    "empty_list.reverse()\n",
    "print(empty_list)  "
   ]
  },
  {
   "cell_type": "code",
   "execution_count": 5,
   "id": "0fe7753e-60e2-4950-8cd6-7fc403aad29c",
   "metadata": {},
   "outputs": [
    {
     "name": "stdout",
     "output_type": "stream",
     "text": [
      "[True, False, True]\n"
     ]
    }
   ],
   "source": [
    "bool_list = [True, False, True]\n",
    "bool_list.reverse()\n",
    "print(bool_list)"
   ]
  },
  {
   "cell_type": "code",
   "execution_count": 6,
   "id": "007ea050-9cf0-426d-99c5-040b4fe6b5ef",
   "metadata": {},
   "outputs": [
    {
     "name": "stdout",
     "output_type": "stream",
     "text": [
      "[[5, 6], [3, 4], [1, 2]]\n"
     ]
    }
   ],
   "source": [
    "nested_list = [[1, 2], [3, 4], [5, 6]]\n",
    "nested_list.reverse()\n",
    "print(nested_list) "
   ]
  },
  {
   "cell_type": "code",
   "execution_count": 7,
   "id": "83d4121b-61a1-47f1-928a-e27bbbfe832f",
   "metadata": {},
   "outputs": [
    {
     "name": "stdout",
     "output_type": "stream",
     "text": [
      "[[5, 6], [3, 4], [1, 2]]\n"
     ]
    }
   ],
   "source": [
    "nested_list = [[1, 2], [3, 4], [5, 6]]\n",
    "nested_list.reverse()\n",
    "print(nested_list) "
   ]
  },
  {
   "cell_type": "code",
   "execution_count": 8,
   "id": "745b2014-a1f6-46fe-91c9-f4aaa4a5f001",
   "metadata": {},
   "outputs": [
    {
     "name": "stdout",
     "output_type": "stream",
     "text": [
      "[10, 20, 30, 40]\n",
      "[40, 30, 20, 10]\n"
     ]
    }
   ],
   "source": [
    "original_list = [10, 20, 30, 40]\n",
    "reversed_list = original_list[::-1]  # Using slicing to reverse without modifying the original list\n",
    "print(original_list) \n",
    "print(reversed_list) "
   ]
  },
  {
   "cell_type": "code",
   "execution_count": null,
   "id": "353f0eca-5187-4d06-a621-e447d1a01423",
   "metadata": {},
   "outputs": [],
   "source": []
  }
 ],
 "metadata": {
  "kernelspec": {
   "display_name": "Python 3 (ipykernel)",
   "language": "python",
   "name": "python3"
  },
  "language_info": {
   "codemirror_mode": {
    "name": "ipython",
    "version": 3
   },
   "file_extension": ".py",
   "mimetype": "text/x-python",
   "name": "python",
   "nbconvert_exporter": "python",
   "pygments_lexer": "ipython3",
   "version": "3.12.4"
  }
 },
 "nbformat": 4,
 "nbformat_minor": 5
}
