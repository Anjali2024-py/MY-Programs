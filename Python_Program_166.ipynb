{
 "cells": [
  {
   "cell_type": "code",
   "execution_count": 1,
   "id": "fb511836-48e1-4016-a8f9-d50408df95c7",
   "metadata": {},
   "outputs": [
    {
     "name": "stdout",
     "output_type": "stream",
     "text": [
      "[10, 20, 25, 30, 40]\n"
     ]
    }
   ],
   "source": [
    "numbers = [10, 20, 30, 40]\n",
    "numbers.insert(2, 25)  # Insert 25 at index 2\n",
    "print(numbers) \n"
   ]
  },
  {
   "cell_type": "code",
   "execution_count": 2,
   "id": "9ed09c6e-cfef-46a3-a807-97553c1a4714",
   "metadata": {},
   "outputs": [
    {
     "name": "stdout",
     "output_type": "stream",
     "text": [
      "['apple', 'orange', 'banana', 'cherry']\n"
     ]
    }
   ],
   "source": [
    "fruits = [\"apple\", \"banana\", \"cherry\"]\n",
    "fruits.insert(1, \"orange\")  # Insert \"orange\" at index 1\n",
    "print(fruits)"
   ]
  },
  {
   "cell_type": "code",
   "execution_count": 4,
   "id": "51a539f9-6ed7-4a10-b95e-fda336ded56c",
   "metadata": {},
   "outputs": [
    {
     "name": "stdout",
     "output_type": "stream",
     "text": [
      "['lion', 'cat', 'dog', 'rabbit']\n"
     ]
    }
   ],
   "source": [
    "animals = [\"cat\", \"dog\", \"rabbit\"]\n",
    "animals.insert(0, \"lion\")  # Insert \"lion\" at the beginning (index 0)\n",
    "print(animals) "
   ]
  },
  {
   "cell_type": "code",
   "execution_count": 6,
   "id": "46cba058-9683-458f-8025-b724d09463e6",
   "metadata": {},
   "outputs": [
    {
     "name": "stdout",
     "output_type": "stream",
     "text": [
      "[1, 2, 4, 3, 5, 5]\n"
     ]
    }
   ],
   "source": [
    "numbers=[1,2,4,3,5]\n",
    "numbers.insert(len(numbers),5)\n",
    "print(numbers)"
   ]
  },
  {
   "cell_type": "code",
   "execution_count": 7,
   "id": "d669ddf6-d78c-4ecc-9d72-e96884adf946",
   "metadata": {},
   "outputs": [
    {
     "name": "stdout",
     "output_type": "stream",
     "text": [
      "[12.99, 19.99, 23.5, 9.99]\n"
     ]
    }
   ],
   "source": [
    "prices = [12.99, 23.50, 9.99]\n",
    "prices.insert(1, 19.99)  # Insert 19.99 at index 1\n",
    "print(prices) "
   ]
  },
  {
   "cell_type": "code",
   "execution_count": 8,
   "id": "065e910d-8711-417e-9d00-2cd691ccb5f7",
   "metadata": {},
   "outputs": [
    {
     "name": "stdout",
     "output_type": "stream",
     "text": [
      "['red', ['yellow', 'orange'], 'green', 'blue']\n"
     ]
    }
   ],
   "source": [
    "colors = [\"red\", \"green\", \"blue\"]\n",
    "colors.insert(1, [\"yellow\", \"orange\"])  # Insert a sublist at index 1\n",
    "print(colors)  "
   ]
  },
  {
   "cell_type": "code",
   "execution_count": 9,
   "id": "ecb19e01-f831-4de4-8b05-2fbac8dec5c8",
   "metadata": {},
   "outputs": [
    {
     "name": "stdout",
     "output_type": "stream",
     "text": [
      "[True, False, False, True]\n"
     ]
    }
   ],
   "source": [
    "values = [True, False, True]\n",
    "values.insert(1, False)  # Insert False at index 1\n",
    "print(values) "
   ]
  },
  {
   "cell_type": "code",
   "execution_count": 10,
   "id": "6e719592-5b50-4da4-b077-4b1d9e603855",
   "metadata": {},
   "outputs": [
    {
     "name": "stdout",
     "output_type": "stream",
     "text": [
      "[1, 2, 3, 4]\n"
     ]
    }
   ],
   "source": [
    "numbers = [1, 2, 3]\n",
    "numbers.insert(10, 4)  # Index is out of range, so insert 4 at the end\n",
    "print(numbers) "
   ]
  },
  {
   "cell_type": "code",
   "execution_count": 11,
   "id": "1fb453a5-ce87-49e1-a093-bf4ba214cda3",
   "metadata": {},
   "outputs": [
    {
     "name": "stdout",
     "output_type": "stream",
     "text": [
      "[1, None, 2, 3]\n"
     ]
    }
   ],
   "source": [
    "data = [1, 2, 3]\n",
    "data.insert(1, None)  # Insert None at index 1\n",
    "print(data)"
   ]
  },
  {
   "cell_type": "code",
   "execution_count": null,
   "id": "57f9bccb-6ea3-4ba1-8071-b645064f8420",
   "metadata": {},
   "outputs": [],
   "source": []
  }
 ],
 "metadata": {
  "kernelspec": {
   "display_name": "Python 3 (ipykernel)",
   "language": "python",
   "name": "python3"
  },
  "language_info": {
   "codemirror_mode": {
    "name": "ipython",
    "version": 3
   },
   "file_extension": ".py",
   "mimetype": "text/x-python",
   "name": "python",
   "nbconvert_exporter": "python",
   "pygments_lexer": "ipython3",
   "version": "3.12.4"
  }
 },
 "nbformat": 4,
 "nbformat_minor": 5
}
