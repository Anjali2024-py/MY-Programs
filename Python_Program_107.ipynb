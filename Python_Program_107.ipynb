{
 "cells": [
  {
   "cell_type": "code",
   "execution_count": 1,
   "id": "cee0fcba-a42c-49fc-baa1-059c9c7c8471",
   "metadata": {},
   "outputs": [
    {
     "name": "stdout",
     "output_type": "stream",
     "text": [
      "Processed payment of $100 via Credit Card\n",
      "Processed payment of $50 via PayPal\n"
     ]
    }
   ],
   "source": [
    "from abc import ABC, abstractmethod\n",
    "\n",
    "# Abstract class\n",
    "class PaymentMethod(ABC):\n",
    "    @abstractmethod\n",
    "    def process_payment(self, amount):\n",
    "        pass\n",
    "\n",
    "# Subclass 1: Credit Card\n",
    "class CreditCardPayment(PaymentMethod):\n",
    "    def process_payment(self, amount):\n",
    "        print(f\"Processed payment of ${amount} via Credit Card\")\n",
    "\n",
    "# Subclass 2: PayPal\n",
    "class PayPalPayment(PaymentMethod):\n",
    "    def process_payment(self, amount):\n",
    "        print(f\"Processed payment of ${amount} via PayPal\")\n",
    "\n",
    "# Creating instances\n",
    "cc_payment = CreditCardPayment()\n",
    "paypal_payment = PayPalPayment()\n",
    "\n",
    "# Processing payments\n",
    "cc_payment.process_payment(100)  # Output: Processed payment of $100 via Credit Card\n",
    "paypal_payment.process_payment(50)  # Output: Processed payment of $50 via PayPal\n"
   ]
  },
  {
   "cell_type": "code",
   "execution_count": 2,
   "id": "d185fd70-ee19-477e-b894-5ef065727baa",
   "metadata": {},
   "outputs": [
    {
     "name": "stdout",
     "output_type": "stream",
     "text": [
      "Turning on the TV.\n",
      "Turning on the Fan.\n"
     ]
    }
   ],
   "source": [
    "from abc import ABC, abstractmethod\n",
    "\n",
    "# Abstract class\n",
    "class Device(ABC):\n",
    "    @abstractmethod\n",
    "    def turn_on(self):\n",
    "        pass\n",
    "\n",
    "# Subclass 1: TV\n",
    "class TV(Device):\n",
    "    def turn_on(self):\n",
    "        print(\"Turning on the TV.\")\n",
    "\n",
    "# Subclass 2: Fan\n",
    "class Fan(Device):\n",
    "    def turn_on(self):\n",
    "        print(\"Turning on the Fan.\")\n",
    "\n",
    "# Instantiating objects\n",
    "tv = TV()\n",
    "fan = Fan()\n",
    "\n",
    "# Turning on devices\n",
    "tv.turn_on()  # Output: Turning on the TV.\n",
    "fan.turn_on()  # Output: Turning on the Fan.\n"
   ]
  },
  {
   "cell_type": "code",
   "execution_count": null,
   "id": "4fe25c9d-5e58-42c0-b7a2-dec9dba5a251",
   "metadata": {},
   "outputs": [],
   "source": []
  }
 ],
 "metadata": {
  "kernelspec": {
   "display_name": "Python 3 (ipykernel)",
   "language": "python",
   "name": "python3"
  },
  "language_info": {
   "codemirror_mode": {
    "name": "ipython",
    "version": 3
   },
   "file_extension": ".py",
   "mimetype": "text/x-python",
   "name": "python",
   "nbconvert_exporter": "python",
   "pygments_lexer": "ipython3",
   "version": "3.12.4"
  }
 },
 "nbformat": 4,
 "nbformat_minor": 5
}
