{
 "cells": [
  {
   "cell_type": "code",
   "execution_count": 3,
   "id": "13cb915c-9c77-4d42-9f01-801fb8c696a8",
   "metadata": {},
   "outputs": [
    {
     "name": "stdout",
     "output_type": "stream",
     "text": [
      "role= Engineer\n",
      "dept= IT\n",
      "salary= 75000\n"
     ]
    }
   ],
   "source": [
    "class employee:\n",
    "    def __init__(self,role,dept,salary):\n",
    "        self.role=role\n",
    "        self.dept=dept\n",
    "        self.salary=salary\n",
    "    def showDetails(self):\n",
    "        print(\"role=\",self.role)\n",
    "        print(\"dept=\",self.dept)\n",
    "        print(\"salary=\",self.salary)\n",
    "\n",
    "class Engineer(employee):\n",
    "    def __init__(self,name,age):\n",
    "        self.name=name\n",
    "        self.age=age\n",
    "        super().__init__(\"Engineer\",\"IT\",75000)\n",
    "\n",
    "eng1=Engineer(\"Elon Musk\",40)\n",
    "eng1.showDetails()\n",
    "        "
   ]
  },
  {
   "cell_type": "code",
   "execution_count": 5,
   "id": "4c8d0ed8-7f56-47c0-8496-be2b7180378b",
   "metadata": {},
   "outputs": [
    {
     "name": "stdout",
     "output_type": "stream",
     "text": [
      "False\n"
     ]
    }
   ],
   "source": [
    "# Create a class called Order which stores item and its price.Use dunder function __gt__() to convey that:\n",
    "#order1>order2 if price of order1>price of order2\n",
    "class Order():\n",
    "    def __init__(self,item,price):\n",
    "        self.item=item\n",
    "        self.price=price\n",
    "    def __gt__(self,odr2):\n",
    "        return self.price>odr2.price\n",
    "\n",
    "odr1=Order(\"Chips\",5)\n",
    "odr2=Order(\"Tea\",10)\n",
    "print(odr1>odr2)"
   ]
  },
  {
   "cell_type": "code",
   "execution_count": 19,
   "id": "4ced04ed-5d80-48db-8f94-ac3a72e3daf0",
   "metadata": {},
   "outputs": [
    {
     "name": "stdin",
     "output_type": "stream",
     "text": [
      "Guess a number between 1 to 10: 9\n"
     ]
    },
    {
     "name": "stdout",
     "output_type": "stream",
     "text": [
      "Congratulations! you have guessed it right.\n"
     ]
    }
   ],
   "source": [
    "# random Guess Number\n",
    "import random\n",
    "def simple_guess_the_number():\n",
    "    number_to_guess=random.randint(1,10)\n",
    "    guess=int(input(\"Guess a number between 1 to 10:\"))\n",
    "\n",
    "\n",
    "    if guess==number_to_guess:\n",
    "        print(\"Congratulations! you have guessed it right.\")\n",
    "    else:\n",
    "        print(f\" Sorry!, The correct number is {number_to_guess} \")\n",
    "\n",
    "if __name__==\"__main__\":\n",
    "    simple_guess_the_number()\n"
   ]
  },
  {
   "cell_type": "code",
   "execution_count": null,
   "id": "1c488ca5-326c-4a54-8614-c8659c854d1c",
   "metadata": {},
   "outputs": [],
   "source": []
  }
 ],
 "metadata": {
  "kernelspec": {
   "display_name": "Python 3 (ipykernel)",
   "language": "python",
   "name": "python3"
  },
  "language_info": {
   "codemirror_mode": {
    "name": "ipython",
    "version": 3
   },
   "file_extension": ".py",
   "mimetype": "text/x-python",
   "name": "python",
   "nbconvert_exporter": "python",
   "pygments_lexer": "ipython3",
   "version": "3.12.4"
  }
 },
 "nbformat": 4,
 "nbformat_minor": 5
}
