{
 "cells": [
  {
   "cell_type": "code",
   "execution_count": 1,
   "id": "2db8d28d-fa53-4c64-9c35-d7e6b8464371",
   "metadata": {},
   "outputs": [
    {
     "name": "stdout",
     "output_type": "stream",
     "text": [
      "{'a': None, 'b': None, 'c': None}\n"
     ]
    }
   ],
   "source": [
    "keys=['a','b','c']\n",
    "new_dict=dict.fromkeys(keys)\n",
    "print(new_dict)"
   ]
  },
  {
   "cell_type": "code",
   "execution_count": 2,
   "id": "c6ec239b-491a-4473-8200-eb95e5569635",
   "metadata": {},
   "outputs": [
    {
     "name": "stdout",
     "output_type": "stream",
     "text": [
      "{'name': 'Unkown', 'age': 'Unkown', 'city': 'Unkown'}\n"
     ]
    }
   ],
   "source": [
    "keys=['name','age','city']\n",
    "default_value='Unkown'\n",
    "new_dict=dict.fromkeys(keys,default_value)\n",
    "print(new_dict)"
   ]
  },
  {
   "cell_type": "code",
   "execution_count": 4,
   "id": "39bf1ebc-cfdd-46a1-9fb2-b1886fd2394e",
   "metadata": {},
   "outputs": [
    {
     "name": "stdout",
     "output_type": "stream",
     "text": [
      "{'address': 'not created', 'model': 'not created', 'salary': 'not created'}\n"
     ]
    }
   ],
   "source": [
    "keys=['address','model','salary']\n",
    "default_value='not created'\n",
    "new_dict=dict.fromkeys(keys,default_value)\n",
    "print(new_dict)"
   ]
  },
  {
   "cell_type": "code",
   "execution_count": 5,
   "id": "aceb75e8-dddf-43e9-be60-b8063cd2cbf1",
   "metadata": {},
   "outputs": [
    {
     "name": "stdout",
     "output_type": "stream",
     "text": [
      "{'x': 0, 'y': 0, 'z': 0}\n"
     ]
    }
   ],
   "source": [
    "keys = ('x', 'y', 'z')\n",
    "new_dict = dict.fromkeys(keys, 0)\n",
    "print(new_dict)\n"
   ]
  },
  {
   "cell_type": "code",
   "execution_count": 6,
   "id": "2e358ef2-13ef-4ce1-a924-acdbc9dee824",
   "metadata": {},
   "outputs": [
    {
     "name": "stdout",
     "output_type": "stream",
     "text": [
      "{'a': 1, 'b': 2, 'c': None}\n"
     ]
    }
   ],
   "source": [
    "keys = ['a', 'b', 'c']\n",
    "new_dict = dict.fromkeys(keys)\n",
    "new_dict['a'] = 1\n",
    "new_dict['b'] = 2\n",
    "print(new_dict)\n"
   ]
  },
  {
   "cell_type": "code",
   "execution_count": 7,
   "id": "3828b866-4c66-4623-9e2e-2ac899b1b6ed",
   "metadata": {},
   "outputs": [
    {
     "name": "stdout",
     "output_type": "stream",
     "text": [
      "{}\n"
     ]
    }
   ],
   "source": [
    "keys = []\n",
    "new_dict = dict.fromkeys(keys, 'Empty')\n",
    "print(new_dict)"
   ]
  },
  {
   "cell_type": "code",
   "execution_count": null,
   "id": "6b7c6656-248a-4399-8a4d-400eb1a0e50e",
   "metadata": {},
   "outputs": [],
   "source": []
  }
 ],
 "metadata": {
  "kernelspec": {
   "display_name": "Python 3 (ipykernel)",
   "language": "python",
   "name": "python3"
  },
  "language_info": {
   "codemirror_mode": {
    "name": "ipython",
    "version": 3
   },
   "file_extension": ".py",
   "mimetype": "text/x-python",
   "name": "python",
   "nbconvert_exporter": "python",
   "pygments_lexer": "ipython3",
   "version": "3.12.4"
  }
 },
 "nbformat": 4,
 "nbformat_minor": 5
}
