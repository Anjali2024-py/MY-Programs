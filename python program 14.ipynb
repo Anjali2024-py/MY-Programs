{
 "cells": [
  {
   "cell_type": "code",
   "execution_count": 10,
   "id": "e7332b46-6d83-4265-8fa4-f1d69ca222a0",
   "metadata": {},
   "outputs": [
    {
     "name": "stdin",
     "output_type": "stream",
     "text": [
      "Enter any digit number: 125\n"
     ]
    },
    {
     "name": "stdout",
     "output_type": "stream",
     "text": [
      "given number is three digit\n"
     ]
    }
   ],
   "source": [
    "# write a program to check wheather a number entered is three digit number or not\n",
    "num=input(\"Enter any digit number:\")\n",
    "l=len(num)\n",
    "if l==3:\n",
    "    print(\"given number is three digit\")\n",
    "else:\n",
    "    print(\"given number is not three digit\")\n",
    "    "
   ]
  },
  {
   "cell_type": "code",
   "execution_count": 11,
   "id": "ece51018-958e-429e-8759-daa9c01782f5",
   "metadata": {},
   "outputs": [
    {
     "name": "stdin",
     "output_type": "stream",
     "text": [
      "Enter any digit number: 36\n"
     ]
    },
    {
     "name": "stdout",
     "output_type": "stream",
     "text": [
      "given number is not three digit\n"
     ]
    }
   ],
   "source": [
    "## write a program to check wheather a number entered is three digit number or not\n",
    "num=input(\"Enter any digit number:\")\n",
    "l=len(num)\n",
    "if l!=3:\n",
    "    print(\"given number is not three digit\")\n",
    "else:\n",
    "    print(\"middle digit is:\",(int(num)%100//10))\n",
    "\n"
   ]
  },
  {
   "cell_type": "code",
   "execution_count": 12,
   "id": "a394f4c4-7729-4a34-a9e8-4144ee7c43c8",
   "metadata": {},
   "outputs": [
    {
     "name": "stdin",
     "output_type": "stream",
     "text": [
      "Enter age of person: 22\n"
     ]
    },
    {
     "name": "stdout",
     "output_type": "stream",
     "text": [
      "Eligible for Voting\n"
     ]
    }
   ],
   "source": [
    "#write a program to check wheater a person is eligible for voting or not (acceot age from user:))\n",
    "age=int(input(\"Enter age of person:\"))\n",
    "if age>=18:\n",
    "    print(\"Eligible for Voting\")\n",
    "else:\n",
    "    print(\"Not Eligible for Voting\")\n",
    "    "
   ]
  },
  {
   "cell_type": "code",
   "execution_count": 4,
   "id": "1ab64c2f-b223-43fe-b0d2-fc74c5c7e268",
   "metadata": {},
   "outputs": [
    {
     "name": "stdin",
     "output_type": "stream",
     "text": [
      "Enter any number: 23\n"
     ]
    },
    {
     "name": "stdout",
     "output_type": "stream",
     "text": [
      "Not divisible by 7\n"
     ]
    }
   ],
   "source": [
    "#write a program to check wheather a numbers is divisible by 7 or not:\n",
    "num=int(input(\"Enter any number:\"))\n",
    "if num%7==0:\n",
    "    print(\"Divisible by 7\")\n",
    "else:\n",
    "    print(\"Not divisible by 7\")"
   ]
  },
  {
   "cell_type": "code",
   "execution_count": 5,
   "id": "cb011110-b71c-4e64-9cb1-635bfad572a3",
   "metadata": {},
   "outputs": [
    {
     "name": "stdin",
     "output_type": "stream",
     "text": [
      "enter any number 123\n"
     ]
    },
    {
     "name": "stdout",
     "output_type": "stream",
     "text": [
      "BYe\n"
     ]
    }
   ],
   "source": [
    "#write a program to display \"hello\" if a number entered by user is a multiple by of five , otherwise print\"bye\".\n",
    "num=int(input(\"enter any number\"))\n",
    "if num%5==0:\n",
    "    print(\"Hello\")\n",
    "else:\n",
    "    print(\"BYe\")"
   ]
  },
  {
   "cell_type": "code",
   "execution_count": 6,
   "id": "c57465e4-5e47-4c28-b34a-f5c3723cf1e4",
   "metadata": {},
   "outputs": [
    {
     "name": "stdin",
     "output_type": "stream",
     "text": [
      "enter unit 350\n"
     ]
    },
    {
     "name": "stdout",
     "output_type": "stream",
     "text": [
      "Amount to Pay: 2000\n"
     ]
    }
   ],
   "source": [
    "#write a program to calculate the electricity bil(accept number of unit fro  user)\n",
    "#according to the following criteria.\n",
    "'''\n",
    "unit                   price\n",
    "first 100 units         no charge\n",
    "next 200 units          rs 5 per unit\n",
    "after 200 units         rs 10 per unit\n",
    "'''\n",
    "#for example if input is 350 then total bill amount is rs 2000.\n",
    "unit=int(input(\"enter unit\"))\n",
    "amt=0\n",
    "if unit<=100:\n",
    "    amt=0\n",
    "if unit>100 and unit<=200:\n",
    "    amt=(unit-100)*5\n",
    "if unit>200 :\n",
    "    amt=500+(unit-200)*10\n",
    "print(\"Amount to Pay:\",amt)\n"
   ]
  },
  {
   "cell_type": "code",
   "execution_count": 7,
   "id": "f2b5bb84-c336-4513-ae65-bd9d8c37b971",
   "metadata": {},
   "outputs": [
    {
     "name": "stdin",
     "output_type": "stream",
     "text": [
      "Enter a number: 23\n"
     ]
    },
    {
     "name": "stdout",
     "output_type": "stream",
     "text": [
      "last digit number is: 3\n"
     ]
    }
   ],
   "source": [
    "#write a program to display the last digit of a number.\n",
    "num=int(input(\"Enter a number:\"))\n",
    "print(\"last digit number is:\",num%10)"
   ]
  },
  {
   "cell_type": "code",
   "execution_count": 8,
   "id": "822b00e4-c0d3-4fdd-9dd0-6e3f4c6270f7",
   "metadata": {},
   "outputs": [
    {
     "name": "stdin",
     "output_type": "stream",
     "text": [
      "Enter your age: 26\n"
     ]
    },
    {
     "name": "stdout",
     "output_type": "stream",
     "text": [
      "last digit of num is divisible by 3\n"
     ]
    }
   ],
   "source": [
    "#write a program to check wheater the last digit of a number (Enter by user)is divisible by 3 or not.\n",
    "num=int(input(\"Enter your age:\"))\n",
    "ld=num%10\n",
    "if ld%3==0:\n",
    "    print(\"last digit of num is divisible by 3\")\n",
    "else:\n",
    "    print(\"last digit of num is not divisible by 3\")"
   ]
  },
  {
   "cell_type": "code",
   "execution_count": 9,
   "id": "408c589c-80a4-44f8-8b18-ccb51a54ed60",
   "metadata": {},
   "outputs": [
    {
     "name": "stdin",
     "output_type": "stream",
     "text": [
      "Enter first number: 23\n",
      "Enter second number: 20\n"
     ]
    },
    {
     "name": "stdout",
     "output_type": "stream",
     "text": [
      "23\n"
     ]
    }
   ],
   "source": [
    "#write a program to find the largest number out of two numbers excepted from user .\n",
    "num1=int(input(\"Enter first number:\"))\n",
    "num2=int(input(\"Enter second number:\"))\n",
    "if num1>num2:\n",
    "    print( num1)\n",
    "else:\n",
    "    print(num2)\n"
   ]
  },
  {
   "cell_type": "code",
   "execution_count": 13,
   "id": "256f0d89-254e-4306-94fd-53efa699008e",
   "metadata": {},
   "outputs": [
    {
     "name": "stdin",
     "output_type": "stream",
     "text": [
      "Enter first number: 24\n",
      "Enter second number: 0\n"
     ]
    },
    {
     "name": "stdout",
     "output_type": "stream",
     "text": [
      "0\n"
     ]
    }
   ],
   "source": [
    "#write a program to find the lowest number out of two numbers excepted from user .\n",
    "num1=int(input(\"Enter first number:\"))\n",
    "num2=int(input(\"Enter second number:\"))\n",
    "if num1<num2:\n",
    "    print( num1)\n",
    "else:\n",
    "    print(num2)\n"
   ]
  },
  {
   "cell_type": "code",
   "execution_count": null,
   "id": "646b7f8c-a403-49d0-bca8-4677cdc651a3",
   "metadata": {},
   "outputs": [],
   "source": []
  }
 ],
 "metadata": {
  "kernelspec": {
   "display_name": "Python 3 (ipykernel)",
   "language": "python",
   "name": "python3"
  },
  "language_info": {
   "codemirror_mode": {
    "name": "ipython",
    "version": 3
   },
   "file_extension": ".py",
   "mimetype": "text/x-python",
   "name": "python",
   "nbconvert_exporter": "python",
   "pygments_lexer": "ipython3",
   "version": "3.12.4"
  }
 },
 "nbformat": 4,
 "nbformat_minor": 5
}
