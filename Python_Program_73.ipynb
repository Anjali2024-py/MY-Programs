{
 "cells": [
  {
   "cell_type": "code",
   "execution_count": 2,
   "id": "a2ee7cdf-3ef8-4ac3-a405-c7ecf627223a",
   "metadata": {},
   "outputs": [
    {
     "name": "stdout",
     "output_type": "stream",
     "text": [
      "Match found : rain\n"
     ]
    }
   ],
   "source": [
    "#Basic Pattern matching\n",
    "import re\n",
    "text =\"The rain in spain falls mainly in the plain:\"\n",
    "match= re.search (r'rain',text) \n",
    "if match :\n",
    "    print(\"Match found :\", match.group())\n",
    "else:\n",
    "    print(\"No Match found\")"
   ]
  },
  {
   "cell_type": "code",
   "execution_count": 3,
   "id": "5c42dfaf-8478-46cc-b6c9-2bade271b405",
   "metadata": {},
   "outputs": [
    {
     "name": "stdout",
     "output_type": "stream",
     "text": [
      "words that starts with b: ['bat']\n"
     ]
    }
   ],
   "source": [
    "#Find all occurance\n",
    "import re\n",
    "text='cat,bat,rat,sat,hat,fat'\n",
    "matches=re.findall(r'\\bb\\w+',text)\n",
    "print(\"words that starts with b:\",matches)"
   ]
  },
  {
   "cell_type": "code",
   "execution_count": 4,
   "id": "b2416382-ec44-4ebe-ad0f-7d08eb497911",
   "metadata": {},
   "outputs": [
    {
     "name": "stdout",
     "output_type": "stream",
     "text": [
      "Updated text: I have a dog and a bat\n"
     ]
    }
   ],
   "source": [
    "#Substituting pattern\n",
    "import re\n",
    "text=\"I have a cat and a bat\"\n",
    "new_text=re.sub('cat','dog',text)\n",
    "print(\"Updated text:\",new_text)"
   ]
  },
  {
   "cell_type": "code",
   "execution_count": 7,
   "id": "ed214af8-2e8f-4231-8111-b4e1b930f3e2",
   "metadata": {},
   "outputs": [
    {
     "name": "stdout",
     "output_type": "stream",
     "text": [
      "['One', 'Two', 'Three', 'four', 'five']\n"
     ]
    }
   ],
   "source": [
    "#Splitting  atring\n",
    "import re\n",
    "text=\"One:,Two; Three:four|five\"\n",
    "parts=re.split(r'[ :;,|]+',text)\n",
    "print(parts)"
   ]
  },
  {
   "cell_type": "code",
   "execution_count": 8,
   "id": "d30d2469-e332-4fca-b8a7-c18eea472efa",
   "metadata": {},
   "outputs": [
    {
     "name": "stdout",
     "output_type": "stream",
     "text": [
      "Extracted dates: ['2024-10-16', '2023/11/25', '2025.12.31']\n"
     ]
    }
   ],
   "source": [
    "#Extracting dates from a text\n",
    "import re\n",
    "text=\"Important dates: 2024-10-16, 2023/11/25, and 2025.12.31.\"\n",
    "date_pattern=r'\\d{4}[-/.]\\d{1,2}[-/.]\\d{1,2}'\n",
    "dates=re.findall(date_pattern,text)\n",
    "print(\"Extracted dates:\",dates)"
   ]
  },
  {
   "cell_type": "code",
   "execution_count": null,
   "id": "090dc430-5838-4d8a-bd89-4f919a4c6d79",
   "metadata": {},
   "outputs": [],
   "source": []
  }
 ],
 "metadata": {
  "kernelspec": {
   "display_name": "Python 3 (ipykernel)",
   "language": "python",
   "name": "python3"
  },
  "language_info": {
   "codemirror_mode": {
    "name": "ipython",
    "version": 3
   },
   "file_extension": ".py",
   "mimetype": "text/x-python",
   "name": "python",
   "nbconvert_exporter": "python",
   "pygments_lexer": "ipython3",
   "version": "3.12.4"
  }
 },
 "nbformat": 4,
 "nbformat_minor": 5
}
