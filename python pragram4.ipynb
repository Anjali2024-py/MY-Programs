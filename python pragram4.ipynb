{
 "cells": [
  {
   "cell_type": "code",
   "execution_count": 7,
   "id": "221fc8b2-401d-491f-b678-74be8580bafe",
   "metadata": {},
   "outputs": [
    {
     "name": "stdout",
     "output_type": "stream",
     "text": [
      "15\n",
      "3\n"
     ]
    }
   ],
   "source": [
    "str=\"Have a nice Day\"\n",
    "print(len(str))\n",
    "print(str.count(\"a\"))"
   ]
  },
  {
   "cell_type": "code",
   "execution_count": 14,
   "id": "233eb0be-643d-4efb-ac9f-b5bc3ba6ebca",
   "metadata": {},
   "outputs": [
    {
     "data": {
      "text/plain": [
       "'Thank You'"
      ]
     },
     "execution_count": 14,
     "metadata": {},
     "output_type": "execute_result"
    }
   ],
   "source": [
    "str1=\" Thank You \"\n",
    "str1.strip()"
   ]
  },
  {
   "cell_type": "code",
   "execution_count": 17,
   "id": "bb4f087b-29eb-4a81-9c36-1744fd6126d3",
   "metadata": {},
   "outputs": [
    {
     "data": {
      "text/plain": [
       "'Thank You '"
      ]
     },
     "execution_count": 17,
     "metadata": {},
     "output_type": "execute_result"
    }
   ],
   "source": [
    "str1.lstrip() #---to remove left white space"
   ]
  },
  {
   "cell_type": "code",
   "execution_count": 18,
   "id": "39d0d3d9-c953-445b-af03-f9b426205929",
   "metadata": {},
   "outputs": [
    {
     "data": {
      "text/plain": [
       "' Thank You'"
      ]
     },
     "execution_count": 18,
     "metadata": {},
     "output_type": "execute_result"
    }
   ],
   "source": [
    "str1.rstrip() #---to remove right whitespace"
   ]
  },
  {
   "cell_type": "code",
   "execution_count": 19,
   "id": "1eeb9bb0-d81c-4d49-becc-04f427d6c996",
   "metadata": {},
   "outputs": [
    {
     "data": {
      "text/plain": [
       "['have', 'a', 'nice', 'dayy!']"
      ]
     },
     "execution_count": 19,
     "metadata": {},
     "output_type": "execute_result"
    }
   ],
   "source": [
    "str=\"have a nice dayy!\"\n",
    "str.split()"
   ]
  },
  {
   "cell_type": "code",
   "execution_count": 21,
   "id": "e689ce65-ac7f-4f8f-b0af-ed3d4badecaa",
   "metadata": {},
   "outputs": [
    {
     "data": {
      "text/plain": [
       "['h', 've ', ' nice d', 'yy!']"
      ]
     },
     "execution_count": 21,
     "metadata": {},
     "output_type": "execute_result"
    }
   ],
   "source": [
    "str.split(\"a\")"
   ]
  },
  {
   "cell_type": "code",
   "execution_count": 22,
   "id": "2f79b49b-f783-4f13-876d-a01c5bef3737",
   "metadata": {},
   "outputs": [],
   "source": [
    "y=5<6 and 1==4 "
   ]
  },
  {
   "cell_type": "code",
   "execution_count": 24,
   "id": "f0f4f730-86ef-4d14-848b-e41df17a671e",
   "metadata": {},
   "outputs": [
    {
     "name": "stdout",
     "output_type": "stream",
     "text": [
      "False\n"
     ]
    }
   ],
   "source": [
    "print(y)# using Logic gate operaters"
   ]
  },
  {
   "cell_type": "code",
   "execution_count": 31,
   "id": "01bb0ebe-fbe3-4936-925f-849da04a119f",
   "metadata": {},
   "outputs": [
    {
     "name": "stdout",
     "output_type": "stream",
     "text": [
      "3.12.4 | packaged by Anaconda, Inc. | (main, Jun 18 2024, 15:03:56) [MSC v.1929 64 bit (AMD64)]\n"
     ]
    }
   ],
   "source": [
    "import sys\n",
    "print(sys.version)"
   ]
  },
  {
   "cell_type": "code",
   "execution_count": 43,
   "id": "ebaa6479-df69-44a6-8a56-73d6006ec667",
   "metadata": {},
   "outputs": [
    {
     "name": "stdin",
     "output_type": "stream",
     "text": [
      "enter the value a 1\n",
      "enter the value b 2\n",
      "enter the value c 3\n"
     ]
    },
    {
     "name": "stdout",
     "output_type": "stream",
     "text": [
      "c is larger\n"
     ]
    }
   ],
   "source": [
    "a=int(input(\"enter the value a\"))\n",
    "b=int(input(\"enter the value b\"))\n",
    "c=int(input(\"enter the value c\"))\n",
    "if(a>=b)and (a>=c):\n",
    "    print(\"a is larger\")\n",
    "elif(b>=a)and (b>=c):\n",
    "    print(\"b is larger\")\n",
    "else:\n",
    "    print(\"c is larger\")"
   ]
  },
  {
   "cell_type": "code",
   "execution_count": 59,
   "id": "143806fd-2733-4f27-a422-e4ce8d2fc6f1",
   "metadata": {},
   "outputs": [
    {
     "name": "stdin",
     "output_type": "stream",
     "text": [
      "enter temperature value 23\n"
     ]
    },
    {
     "name": "stdout",
     "output_type": "stream",
     "text": [
      "its a hot but managable\n"
     ]
    }
   ],
   "source": [
    "temp=int(input(\"enter temperature value\"))\n",
    "if(temp>30):\n",
    "    print(\"its very hot\")\n",
    "elif(temp>20 and temp<30):\n",
    "    print(\"its a hot but managable\")\n",
    "elif(temp>10 and temp<20):\n",
    "    print(\"its cold\")\n",
    "elif(temp>0 and temp<10):\n",
    "    print(\"its very cold\")\n",
    "else:\n",
    "    print(\"frezzing point\")"
   ]
  },
  {
   "cell_type": "code",
   "execution_count": 75,
   "id": "dc235727-147f-41ba-9d6f-346898cba817",
   "metadata": {},
   "outputs": [
    {
     "name": "stdin",
     "output_type": "stream",
     "text": [
      "enter any value 56\n"
     ]
    },
    {
     "name": "stdout",
     "output_type": "stream",
     "text": [
      "x is divisible by 7\n"
     ]
    }
   ],
   "source": [
    "x=int(input(\"enter any value\"))\n",
    "if(x%7==0):\n",
    "    print(\"x is divisible by 7\")\n",
    "else:\n",
    "    print(\"x is not divisible bye 7\")"
   ]
  },
  {
   "cell_type": "code",
   "execution_count": null,
   "id": "4238724a-561b-4275-8cb7-dcf131169843",
   "metadata": {},
   "outputs": [],
   "source": [
    " list=[1,2,3,4,5,6,7,8,9,10]"
   ]
  },
  {
   "cell_type": "code",
   "execution_count": 66,
   "id": "5a5b31d5-b890-4e44-8ae7-730edfc7c681",
   "metadata": {},
   "outputs": [
    {
     "data": {
      "text/plain": [
       "True"
      ]
     },
     "execution_count": 66,
     "metadata": {},
     "output_type": "execute_result"
    }
   ],
   "source": [
    "9 in list"
   ]
  },
  {
   "cell_type": "code",
   "execution_count": 67,
   "id": "444b19d8-f053-47f1-a51f-5f14e693a8bf",
   "metadata": {},
   "outputs": [
    {
     "data": {
      "text/plain": [
       "False"
      ]
     },
     "execution_count": 67,
     "metadata": {},
     "output_type": "execute_result"
    }
   ],
   "source": [
    "12 in list"
   ]
  },
  {
   "cell_type": "code",
   "execution_count": 68,
   "id": "3e273727-666a-4879-b9be-64e6b5fe2ff0",
   "metadata": {},
   "outputs": [
    {
     "data": {
      "text/plain": [
       "True"
      ]
     },
     "execution_count": 68,
     "metadata": {},
     "output_type": "execute_result"
    }
   ],
   "source": [
    "6 in list"
   ]
  },
  {
   "cell_type": "code",
   "execution_count": 76,
   "id": "3851cc17-0652-4876-941e-42c6edebe39c",
   "metadata": {},
   "outputs": [
    {
     "data": {
      "text/plain": [
       "False"
      ]
     },
     "execution_count": 76,
     "metadata": {},
     "output_type": "execute_result"
    }
   ],
   "source": [
    "7 not in list"
   ]
  },
  {
   "cell_type": "code",
   "execution_count": 7,
   "id": "a369d6d7-dd5f-43b8-8d47-19e7a90ff031",
   "metadata": {},
   "outputs": [
    {
     "name": "stdin",
     "output_type": "stream",
     "text": [
      "enter any number 3\n"
     ]
    },
    {
     "name": "stdout",
     "output_type": "stream",
     "text": [
      "3\n",
      "6\n",
      "9\n",
      "12\n",
      "15\n",
      "18\n",
      "21\n",
      "24\n",
      "27\n",
      "30\n"
     ]
    }
   ],
   "source": [
    "num=int(input(\"enter any number\"))\n",
    "x=1\n",
    "while(x<=10):\n",
    "    res=x*num\n",
    "    x=x+1\n",
    "    print(res)"
   ]
  },
  {
   "cell_type": "code",
   "execution_count": 93,
   "id": "91e86dfa-2aa8-434d-a064-173eade8f52a",
   "metadata": {},
   "outputs": [
    {
     "name": "stdin",
     "output_type": "stream",
     "text": [
      "enter any number 121\n"
     ]
    },
    {
     "name": "stdout",
     "output_type": "stream",
     "text": [
      "the number is pallindrome\n"
     ]
    }
   ],
   "source": [
    "#check wheather the given number is pallindrome or not\n",
    "n=int(input(\"enter any number\"))\n",
    "temp=n\n",
    "rev=0\n",
    "while(n>0):\n",
    "    dig=n%10\n",
    "    rev=rev*10+dig\n",
    "    n=n//10\n",
    "if(temp==rev):\n",
    "    print(\"the number is pallindrome\")\n",
    "else:\n",
    "    print(\"the number is not a pallindrome\")\n",
    "    "
   ]
  },
  {
   "cell_type": "code",
   "execution_count": 5,
   "id": "52a29390-5b48-4f26-9fe3-81c2ac8b1d6a",
   "metadata": {},
   "outputs": [
    {
     "name": "stdin",
     "output_type": "stream",
     "text": [
      "enter any number 123\n"
     ]
    },
    {
     "name": "stdout",
     "output_type": "stream",
     "text": [
      "6\n"
     ]
    }
   ],
   "source": [
    "#print 1+2+3=6\n",
    "num=int(input(\"enter any number\"))\n",
    "sum=0\n",
    "while(num>0):\n",
    "    rem=num%10\n",
    "    sum=sum+rem\n",
    "    num=num//10\n",
    "print(sum)"
   ]
  },
  {
   "cell_type": "code",
   "execution_count": null,
   "id": "5de61305-0465-4bb9-96b4-fcce1593fb48",
   "metadata": {},
   "outputs": [],
   "source": []
  }
 ],
 "metadata": {
  "kernelspec": {
   "display_name": "Python 3 (ipykernel)",
   "language": "python",
   "name": "python3"
  },
  "language_info": {
   "codemirror_mode": {
    "name": "ipython",
    "version": 3
   },
   "file_extension": ".py",
   "mimetype": "text/x-python",
   "name": "python",
   "nbconvert_exporter": "python",
   "pygments_lexer": "ipython3",
   "version": "3.12.4"
  }
 },
 "nbformat": 4,
 "nbformat_minor": 5
}
