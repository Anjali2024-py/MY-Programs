{
 "cells": [
  {
   "cell_type": "code",
   "execution_count": 10,
   "id": "8c472327-9e65-45a9-aa0e-df30fb009134",
   "metadata": {},
   "outputs": [
    {
     "name": "stdout",
     "output_type": "stream",
     "text": [
      "negative number\n",
      "Two digit negative number\n"
     ]
    }
   ],
   "source": [
    "a=-10\n",
    "if a>0:\n",
    "    print('positive number')\n",
    "else:\n",
    "    print('negative number')\n",
    "if -10<=a:\n",
    "    print('Two digit negative number')"
   ]
  },
  {
   "cell_type": "code",
   "execution_count": 12,
   "id": "5a4b8765-c162-4bbd-96c6-a7611eebe0d3",
   "metadata": {},
   "outputs": [
    {
     "name": "stdin",
     "output_type": "stream",
     "text": [
      "Enter number 4\n"
     ]
    },
    {
     "name": "stdout",
     "output_type": "stream",
     "text": [
      "4 is not a prime number\n"
     ]
    }
   ],
   "source": [
    "num=int(input(\"Enter number\"))\n",
    "\n",
    "if num>1:\n",
    "    for i in range(2,num):\n",
    "        if num%i==0:\n",
    "            print(f\"{num} is not a prime number\")\n",
    "            break\n",
    "    else:\n",
    "        print(f\" {num} is prime number\")\n",
    "\n",
    "else:\n",
    "    print(\"number is not a prime number\")\n",
    "        "
   ]
  },
  {
   "cell_type": "code",
   "execution_count": 15,
   "id": "2f3be31d-ba05-413d-a292-f071fba30e4a",
   "metadata": {},
   "outputs": [
    {
     "name": "stdin",
     "output_type": "stream",
     "text": [
      "Enter a number -9\n"
     ]
    },
    {
     "name": "stdout",
     "output_type": "stream",
     "text": [
      "Num is negative\n",
      "num is odd\n"
     ]
    }
   ],
   "source": [
    "num=int(input(\"Enter a number\"))\n",
    "\n",
    "if num>0:\n",
    "    print('num is Positive')\n",
    "    if num%2==0:\n",
    "        print('num is even')\n",
    "    else:\n",
    "        print('num is odd')\n",
    "elif num<0:\n",
    "    print(\"Num is negative\")\n",
    "    if num%2==0:\n",
    "        print('num is even')\n",
    "    else:\n",
    "        print('num is odd')\n",
    "else:\n",
    "    print('num is zero')"
   ]
  },
  {
   "cell_type": "code",
   "execution_count": 17,
   "id": "3fb8784a-6ae7-4f21-9f4a-a780650db6b0",
   "metadata": {},
   "outputs": [
    {
     "name": "stdin",
     "output_type": "stream",
     "text": [
      "Enter number 29\n"
     ]
    },
    {
     "name": "stdout",
     "output_type": "stream",
     "text": [
      "num is prime number\n"
     ]
    }
   ],
   "source": [
    "num=int(input(\"Enter number\"))\n",
    "\n",
    "if num>0:\n",
    "    is_prime=True\n",
    "    for i in range(2,num):\n",
    "        if num%i==0:\n",
    "            is_prme=False\n",
    "            break\n",
    "\n",
    "    if is_prime:\n",
    "        print(\"num is prime number\")\n",
    "    else:\n",
    "        print(\"num is not a prime number\")\n",
    "else:\n",
    "    print(\"num is not a prime number\")"
   ]
  },
  {
   "cell_type": "code",
   "execution_count": 18,
   "id": "0e9bdbf4-0353-44b3-9d94-21e092608f7d",
   "metadata": {},
   "outputs": [
    {
     "name": "stdin",
     "output_type": "stream",
     "text": [
      "Enter the first number:  5\n",
      "Enter the second number:  2\n",
      "Enter the third number:  9\n"
     ]
    },
    {
     "name": "stdout",
     "output_type": "stream",
     "text": [
      "The smallest number is: 2\n"
     ]
    }
   ],
   "source": [
    "num1 = int(input(\"Enter the first number: \"))\n",
    "num2 = int(input(\"Enter the second number: \"))\n",
    "num3 = int(input(\"Enter the third number: \"))\n",
    "\n",
    "if num1<num2:\n",
    "    if num1<num3:\n",
    "        smallest=num1\n",
    "    else:\n",
    "        smallest=num3\n",
    "\n",
    "else:\n",
    "    if num2<num3:\n",
    "        smallest=num2\n",
    "    else:\n",
    "        smallest=num3\n",
    "\n",
    "print(\"The smallest number is:\", smallest)"
   ]
  },
  {
   "cell_type": "code",
   "execution_count": null,
   "id": "7d61c372-cc61-4df5-ba8d-cc9230ccdf1f",
   "metadata": {},
   "outputs": [],
   "source": []
  }
 ],
 "metadata": {
  "kernelspec": {
   "display_name": "Python 3 (ipykernel)",
   "language": "python",
   "name": "python3"
  },
  "language_info": {
   "codemirror_mode": {
    "name": "ipython",
    "version": 3
   },
   "file_extension": ".py",
   "mimetype": "text/x-python",
   "name": "python",
   "nbconvert_exporter": "python",
   "pygments_lexer": "ipython3",
   "version": "3.12.4"
  }
 },
 "nbformat": 4,
 "nbformat_minor": 5
}
