{
 "cells": [
  {
   "cell_type": "code",
   "execution_count": 2,
   "id": "f955eae5-be41-4f67-b888-bab18de38a5a",
   "metadata": {},
   "outputs": [
    {
     "name": "stdout",
     "output_type": "stream",
     "text": [
      "hello\n"
     ]
    }
   ],
   "source": [
    "#Matching a simple string\n",
    "import re\n",
    "text='hello,world'\n",
    "pattern=r'hello'\n",
    "match=re.search(pattern,text)\n",
    "print(match.group())"
   ]
  },
  {
   "cell_type": "code",
   "execution_count": 6,
   "id": "b54972da-0758-49a7-97ea-9d5a6c93dfef",
   "metadata": {},
   "outputs": [
    {
     "name": "stdout",
     "output_type": "stream",
     "text": [
      "['123']\n"
     ]
    }
   ],
   "source": [
    "#matching digits\n",
    "text='there are 123 apples.'\n",
    "pattern=r'\\d+'\n",
    "match=re.findall(pattern,text)\n",
    "print(match)"
   ]
  },
  {
   "cell_type": "code",
   "execution_count": 7,
   "id": "4285edd2-9d6f-4c44-a76d-409f472be61b",
   "metadata": {},
   "outputs": [
    {
     "name": "stdout",
     "output_type": "stream",
     "text": [
      "['the', 'quick', 'brown', 'fox']\n"
     ]
    }
   ],
   "source": [
    "#Matching words\n",
    "text='the quick brown fox'\n",
    "pattern=r'\\b\\w+\\b'\n",
    "words=re.findall(pattern,text)\n",
    "print(words)"
   ]
  },
  {
   "cell_type": "code",
   "execution_count": 11,
   "id": "848a0aed-66ff-433c-8476-d2fc2c228e7e",
   "metadata": {},
   "outputs": [
    {
     "name": "stdout",
     "output_type": "stream",
     "text": [
      "True\n"
     ]
    }
   ],
   "source": [
    "#Email validation\n",
    "email='test@example.com'\n",
    "import re\n",
    "\n",
    "email = \"test@example.com\"\n",
    "pattern = r\"^[\\w\\.-]+@[\\w\\.-]+\\.\\w+$\"\n",
    "is_valid = re.match(pattern, email)\n",
    "print(bool(is_valid))  # Output: True\n"
   ]
  },
  {
   "cell_type": "code",
   "execution_count": 15,
   "id": "8818d623-a51f-4467-9b91-077b545ba396",
   "metadata": {},
   "outputs": [
    {
     "name": "stdout",
     "output_type": "stream",
     "text": [
      "True\n"
     ]
    }
   ],
   "source": [
    "#phone number validation\n",
    "import re\n",
    "phone='123-456-7890'\n",
    "pattern =r'^\\d{3}-\\d{3}-\\d{4}$'\n",
    "is_valid=re.match(pattern,phone)\n",
    "print(bool(is_valid))"
   ]
  }
 ],
 "metadata": {
  "kernelspec": {
   "display_name": "Python 3 (ipykernel)",
   "language": "python",
   "name": "python3"
  },
  "language_info": {
   "codemirror_mode": {
    "name": "ipython",
    "version": 3
   },
   "file_extension": ".py",
   "mimetype": "text/x-python",
   "name": "python",
   "nbconvert_exporter": "python",
   "pygments_lexer": "ipython3",
   "version": "3.12.4"
  }
 },
 "nbformat": 4,
 "nbformat_minor": 5
}
