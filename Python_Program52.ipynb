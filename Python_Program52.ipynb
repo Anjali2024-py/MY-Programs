{
 "cells": [
  {
   "cell_type": "code",
   "execution_count": 1,
   "id": "2fa40351-8c79-4021-a5a6-85a7d3a091e9",
   "metadata": {},
   "outputs": [
    {
     "name": "stdin",
     "output_type": "stream",
     "text": [
      "Enter a number (-1 to stop):  5\n",
      "Enter a number (-1 to stop):  3\n",
      "Enter a number (-1 to stop):  -8\n",
      "Enter a number (-1 to stop):  0\n",
      "Enter a number (-1 to stop):  -1\n"
     ]
    },
    {
     "name": "stdout",
     "output_type": "stream",
     "text": [
      "Even numbers: 2, Odd numbers: 2\n"
     ]
    }
   ],
   "source": [
    "# Initialize counters\n",
    "even_count = 0\n",
    "odd_count = 0\n",
    "number = 0\n",
    "\n",
    "# Count even and odd numbers using a while loop\n",
    "while number != -1:\n",
    "    number = int(input(\"Enter a number (-1 to stop): \"))\n",
    "    if number == -1:\n",
    "        break  # Exit if -1 is entered\n",
    "    elif number % 2 == 0:\n",
    "        even_count += 1\n",
    "    else:\n",
    "        odd_count += 1\n",
    "\n",
    "# Output the results\n",
    "print(f\"Even numbers: {even_count}, Odd numbers: {odd_count}\")\n"
   ]
  },
  {
   "cell_type": "code",
   "execution_count": 2,
   "id": "57ad9cb1-7705-4fe9-99f8-f1c2afc59464",
   "metadata": {},
   "outputs": [
    {
     "name": "stdin",
     "output_type": "stream",
     "text": [
      "Enter the password:  hi\n"
     ]
    },
    {
     "name": "stdout",
     "output_type": "stream",
     "text": [
      "Incorrect password. Try again.\n"
     ]
    },
    {
     "name": "stdin",
     "output_type": "stream",
     "text": [
      "Enter the password:  secret\n"
     ]
    },
    {
     "name": "stdout",
     "output_type": "stream",
     "text": [
      "Access granted.\n"
     ]
    }
   ],
   "source": [
    "# Define the correct password\n",
    "correct_password = \"secret\"\n",
    "user_password = \"\"\n",
    "\n",
    "# Keep asking for the password until it's correct\n",
    "while user_password != correct_password:\n",
    "    user_password = input(\"Enter the password: \")\n",
    "    if user_password == correct_password:\n",
    "        print(\"Access granted.\")\n",
    "    else:\n",
    "        print(\"Incorrect password. Try again.\")\n"
   ]
  },
  {
   "cell_type": "code",
   "execution_count": null,
   "id": "1cada52c-3ceb-4113-9e76-034d0f6792dc",
   "metadata": {},
   "outputs": [],
   "source": []
  }
 ],
 "metadata": {
  "kernelspec": {
   "display_name": "Python 3 (ipykernel)",
   "language": "python",
   "name": "python3"
  },
  "language_info": {
   "codemirror_mode": {
    "name": "ipython",
    "version": 3
   },
   "file_extension": ".py",
   "mimetype": "text/x-python",
   "name": "python",
   "nbconvert_exporter": "python",
   "pygments_lexer": "ipython3",
   "version": "3.12.4"
  }
 },
 "nbformat": 4,
 "nbformat_minor": 5
}
