{
 "cells": [
  {
   "cell_type": "code",
   "execution_count": 1,
   "id": "2ee6683c-c468-4115-8e36-a2c2e6baf45a",
   "metadata": {},
   "outputs": [
    {
     "name": "stdout",
     "output_type": "stream",
     "text": [
      "[2, 4, 6, 8, 10]\n"
     ]
    }
   ],
   "source": [
    "#Lambda in a list comprehension\n",
    "#using lambda in a list comprehension\n",
    "numbers=[1,2,3,4,5]\n",
    "doubled=[(lambda x:x*2)(x) for x in numbers]\n",
    "print(doubled)"
   ]
  },
  {
   "cell_type": "code",
   "execution_count": 2,
   "id": "2933c2d7-5826-4a4b-86a4-cef93d24b501",
   "metadata": {},
   "outputs": [
    {
     "data": {
      "text/plain": [
       "15"
      ]
     },
     "execution_count": 2,
     "metadata": {},
     "output_type": "execute_result"
    }
   ],
   "source": [
    "#Returning lambda from a function\n",
    "#A function that returns a lambda function.\n",
    "#A function that returns a lambda function\n",
    "def make_incrementor(n):\n",
    "    return lambda x:x+n\n",
    "increment_by_5=make_incrementor(5)\n",
    "increment_by_5(10)"
   ]
  },
  {
   "cell_type": "code",
   "execution_count": 4,
   "id": "f4383afe-f104-40ab-b2fc-8ef5c76951fc",
   "metadata": {},
   "outputs": [
    {
     "name": "stdout",
     "output_type": "stream",
     "text": [
      "24\n"
     ]
    }
   ],
   "source": [
    "#Using Lambda with reduce()\n",
    "from functools import reduce\n",
    "#USing lambda with reduce to calculate the product of a list.\n",
    "numbers=[1,2,3,4]\n",
    "product=reduce(lambda x,y:x*y,numbers)\n",
    "print(product)"
   ]
  },
  {
   "cell_type": "code",
   "execution_count": 5,
   "id": "9b9dfd7f-f4e2-4022-b63e-f4bd015e2208",
   "metadata": {},
   "outputs": [
    {
     "name": "stdout",
     "output_type": "stream",
     "text": [
      "['HELLO', 'HIE', 'ALICE', 'BOB', 'LAMBDA', 'WORLD', 'PYTHON']\n"
     ]
    }
   ],
   "source": [
    "#Lambda function for string Manipulation\n",
    "#Using a lambda Function to convert a list of strings to uppercase\n",
    "string=['hello','hie','alice','bob','lambda','world','python']\n",
    "upper_case=list(map(lambda x:x.upper(),string))\n",
    "print(upper_case)"
   ]
  },
  {
   "cell_type": "code",
   "execution_count": 6,
   "id": "2a158d4b-c3f8-408e-89ba-7fe8a0020321",
   "metadata": {},
   "outputs": [
    {
     "name": "stdout",
     "output_type": "stream",
     "text": [
      "['HELLO', 'HIE', 'ALICE', 'BOB', 'LAMBDA', 'WORLD', 'PYTHON']\n"
     ]
    }
   ],
   "source": [
    "string=['hello','hie','alice','bob','lambda','world','python']\n",
    "upper_case=[(lambda x:x.upper())(x) for x in string]\n",
    "print(upper_case)"
   ]
  },
  {
   "cell_type": "code",
   "execution_count": 12,
   "id": "8f3a46c6-04f1-48c6-8877-387bd32e933a",
   "metadata": {},
   "outputs": [
    {
     "name": "stdout",
     "output_type": "stream",
     "text": [
      "[{'name': 'Alice', 'age': 25}, {'name': 'charlie', 'age': 25}, {'name': 'bob', 'age': 30}, {'name': 'david', 'age': 30}]\n"
     ]
    }
   ],
   "source": [
    "#Using lambda with sorted() to sort by multiple criteria.\n",
    "#Sorting a list of dictionaries based on multiple criteria using lambda.\n",
    "data=[\n",
    "    {'name':'Alice','age':25},\n",
    "    {'name':'bob','age':30},\n",
    "    {'name':'charlie','age':25},\n",
    "    {'name':'david','age':30}\n",
    "]\n",
    "#sorted by age first and then name\n",
    "sorted_data=sorted(data,key=lambda x:(x['age'],x['name']))\n",
    "print(sorted_data)"
   ]
  },
  {
   "cell_type": "code",
   "execution_count": null,
   "id": "a81b5595-38d8-4fa0-9b6a-0bfb60ecd34d",
   "metadata": {},
   "outputs": [],
   "source": []
  }
 ],
 "metadata": {
  "kernelspec": {
   "display_name": "Python 3 (ipykernel)",
   "language": "python",
   "name": "python3"
  },
  "language_info": {
   "codemirror_mode": {
    "name": "ipython",
    "version": 3
   },
   "file_extension": ".py",
   "mimetype": "text/x-python",
   "name": "python",
   "nbconvert_exporter": "python",
   "pygments_lexer": "ipython3",
   "version": "3.12.4"
  }
 },
 "nbformat": 4,
 "nbformat_minor": 5
}
