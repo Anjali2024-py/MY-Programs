{
 "cells": [
  {
   "cell_type": "code",
   "execution_count": 1,
   "id": "dfdfee7a-8dd2-431c-85cd-ae5d71ff32c3",
   "metadata": {},
   "outputs": [
    {
     "name": "stdout",
     "output_type": "stream",
     "text": [
      "name :Alice\n",
      "age :25\n"
     ]
    }
   ],
   "source": [
    "data = {'name': 'Alice', 'age': 25, 'city': None}\n",
    "for key,value in data.items():\n",
    "    if value is None:\n",
    "        pass\n",
    "    else:\n",
    "        print(f\"{key} :{value}\")\n",
    "        "
   ]
  },
  {
   "cell_type": "code",
   "execution_count": 2,
   "id": "7252173c-6866-4bcc-8dec-116a1f9b5c6f",
   "metadata": {},
   "outputs": [
    {
     "name": "stdout",
     "output_type": "stream",
     "text": [
      "x is less than or equal to 10\n"
     ]
    }
   ],
   "source": [
    "x=5\n",
    "if x>10:\n",
    "    pass\n",
    "else:\n",
    "    print(\"x is less than or equal to 10\")"
   ]
  },
  {
   "cell_type": "code",
   "execution_count": 3,
   "id": "a2fa958e-0142-4b2f-9ac9-39f8c10565d7",
   "metadata": {},
   "outputs": [
    {
     "name": "stdout",
     "output_type": "stream",
     "text": [
      "x is less than y\n"
     ]
    }
   ],
   "source": [
    "x=10\n",
    "y=20\n",
    "if x>y:\n",
    "    pass\n",
    "elif x==y:\n",
    "    print(\"x is equal to y\")\n",
    "else:\n",
    "    print(\"x is less than y\")\n",
    "    "
   ]
  },
  {
   "cell_type": "code",
   "execution_count": 4,
   "id": "a597c33f-68d2-4df3-9f82-71506dca29c1",
   "metadata": {},
   "outputs": [
    {
     "name": "stdout",
     "output_type": "stream",
     "text": [
      "Zero\n",
      "Positive\n"
     ]
    }
   ],
   "source": [
    "def check_value(val):\n",
    "    if val<0:\n",
    "        pass\n",
    "    elif val==0:\n",
    "        print(\"Zero\")\n",
    "    else:\n",
    "        print(\"Positive\")\n",
    "\n",
    "check_value(0)\n",
    "check_value(-5)\n",
    "check_value(5)"
   ]
  },
  {
   "cell_type": "code",
   "execution_count": 5,
   "id": "03c2db97-f034-4b20-9cfa-52ca34f8951d",
   "metadata": {},
   "outputs": [
    {
     "name": "stdin",
     "output_type": "stream",
     "text": [
      "Enter a number: 5\n"
     ]
    },
    {
     "name": "stdout",
     "output_type": "stream",
     "text": [
      "You entered:5\n"
     ]
    },
    {
     "name": "stdin",
     "output_type": "stream",
     "text": [
      "Enter a number: k\n",
      "Enter a number: quite\n"
     ]
    }
   ],
   "source": [
    "while True:\n",
    "    user_input=input(\"Enter a number:\")\n",
    "    if user_input=='quite':\n",
    "        break\n",
    "    elif not user_input.isdigit():\n",
    "        pass\n",
    "    else:\n",
    "        print(f\"You entered:{user_input}\")"
   ]
  },
  {
   "cell_type": "code",
   "execution_count": null,
   "id": "33e9ac86-f42c-47ed-8471-2bd17c93b73d",
   "metadata": {},
   "outputs": [],
   "source": []
  }
 ],
 "metadata": {
  "kernelspec": {
   "display_name": "Python 3 (ipykernel)",
   "language": "python",
   "name": "python3"
  },
  "language_info": {
   "codemirror_mode": {
    "name": "ipython",
    "version": 3
   },
   "file_extension": ".py",
   "mimetype": "text/x-python",
   "name": "python",
   "nbconvert_exporter": "python",
   "pygments_lexer": "ipython3",
   "version": "3.12.4"
  }
 },
 "nbformat": 4,
 "nbformat_minor": 5
}
