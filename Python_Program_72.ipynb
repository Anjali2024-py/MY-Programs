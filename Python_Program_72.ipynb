{
 "cells": [
  {
   "cell_type": "code",
   "execution_count": 5,
   "id": "7f73032f-0195-4e12-9627-bd44ae979a6f",
   "metadata": {},
   "outputs": [
    {
     "name": "stdout",
     "output_type": "stream",
     "text": [
      "True\n"
     ]
    }
   ],
   "source": [
    "#Check if date in the format yyyy-mm-dd\n",
    "import re\n",
    "def is_valid_date(date):\n",
    "    return bool(re.match(r'^\\d{4}-\\d{2}-\\d{2}$',date))\n",
    "print(is_valid_date('2024-11-20'))"
   ]
  },
  {
   "cell_type": "code",
   "execution_count": 6,
   "id": "82694a35-918a-4243-98a5-085b9e4760b5",
   "metadata": {},
   "outputs": [
    {
     "name": "stdout",
     "output_type": "stream",
     "text": [
      "['test']\n"
     ]
    }
   ],
   "source": [
    "#Find duplicates\n",
    "#find duplicates words in a string\n",
    "import re\n",
    "def find_Duplicates(text):\n",
    "    return re.findall(r'\\b(\\w+)\\s+\\1\\b',text,re.IGNORECASE)\n",
    "\n",
    "print(find_Duplicates('this is a test test string'))"
   ]
  },
  {
   "cell_type": "code",
   "execution_count": 7,
   "id": "0d38aba7-b935-4841-9b93-5061b76fd1b5",
   "metadata": {},
   "outputs": [
    {
     "name": "stdout",
     "output_type": "stream",
     "text": [
      "hello World!\n"
     ]
    }
   ],
   "source": [
    "#Remove extra spaces\n",
    "#REmove extra spaces from a string\n",
    "import re\n",
    "def remove_space(text):\n",
    "    return re.sub(r'\\s+',' ',text).strip()\n",
    "\n",
    "print(remove_space(\"  hello   World!  \"))"
   ]
  },
  {
   "cell_type": "code",
   "execution_count": 12,
   "id": "db97df4f-8d34-41aa-9e33-e02cccf0d364",
   "metadata": {},
   "outputs": [
    {
     "name": "stdout",
     "output_type": "stream",
     "text": [
      "examples.com\n"
     ]
    }
   ],
   "source": [
    "#Extract domain from URL\n",
    "#Extract domain name from a url\n",
    "import re\n",
    "def extract_domain(url):\n",
    "    match=re.search(r'https?://(www\\.)?([^/]+)',url)\n",
    "    return match.group(2) if match else none\n",
    "\n",
    "print(extract_domain('https://www.examples.com/page'))"
   ]
  },
  {
   "cell_type": "code",
   "execution_count": 14,
   "id": "25daac4a-3c2f-4073-8b0b-cdd21077a04f",
   "metadata": {},
   "outputs": [
    {
     "name": "stdout",
     "output_type": "stream",
     "text": [
      "False\n",
      "True\n",
      "False\n",
      "True\n"
     ]
    }
   ],
   "source": [
    "#Validate Password\n",
    "import re\n",
    "\n",
    "def is_valid_password(password):\n",
    "    # Check for the length, and ensure there is at least one letter\n",
    "    return (\n",
    "        len(password) >= 8 and \n",
    "        bool(re.search(r'[A-Za-z]', password)) and  # At least one letter\n",
    "        bool(re.search(r'\\d', password)) and        # At least one digit\n",
    "        bool(re.search(r'[!@#$%^&*(),.?\":{}|<>]', password))  # At least one special character\n",
    "    )\n",
    "\n",
    "# Example usage\n",
    "print(is_valid_password('password1'))  # Output: False\n",
    "print(is_valid_password('Password1!'))  # Output: True\n",
    "print(is_valid_password('pass1!'))      # Output: False\n",
    "print(is_valid_password('P@ssw0rd'))     # Output: True\n"
   ]
  },
  {
   "cell_type": "code",
   "execution_count": null,
   "id": "05eefbef-4906-4774-b401-e9a21520778e",
   "metadata": {},
   "outputs": [],
   "source": []
  }
 ],
 "metadata": {
  "kernelspec": {
   "display_name": "Python 3 (ipykernel)",
   "language": "python",
   "name": "python3"
  },
  "language_info": {
   "codemirror_mode": {
    "name": "ipython",
    "version": 3
   },
   "file_extension": ".py",
   "mimetype": "text/x-python",
   "name": "python",
   "nbconvert_exporter": "python",
   "pygments_lexer": "ipython3",
   "version": "3.12.4"
  }
 },
 "nbformat": 4,
 "nbformat_minor": 5
}
