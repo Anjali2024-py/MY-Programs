{
 "cells": [
  {
   "cell_type": "code",
   "execution_count": 1,
   "id": "e53543a6-14fc-4271-9170-962fbd5b31b8",
   "metadata": {},
   "outputs": [
    {
     "name": "stdin",
     "output_type": "stream",
     "text": [
      "Enter the element to count: 2\n"
     ]
    },
    {
     "name": "stdout",
     "output_type": "stream",
     "text": [
      "The element 2 appears 3 time in the list.\n"
     ]
    }
   ],
   "source": [
    "lst=[1,2,3,4,2,3,3,1,2]\n",
    "element=int(input(\"Enter the element to count:\"))\n",
    "count=0\n",
    "\n",
    "for num in lst:\n",
    "    if num==element:\n",
    "        count+=1\n",
    "\n",
    "print(f\"The element {element} appears {count} time in the list.\")"
   ]
  },
  {
   "cell_type": "code",
   "execution_count": 5,
   "id": "e45a39af-1be6-4633-9a24-f39c211aeff1",
   "metadata": {},
   "outputs": [
    {
     "name": "stdin",
     "output_type": "stream",
     "text": [
      "Enter a string: hello world\n"
     ]
    },
    {
     "name": "stdout",
     "output_type": "stream",
     "text": [
      "the number of vowels in the string is:3\n"
     ]
    }
   ],
   "source": [
    "string=input(\"Enter a string:\")\n",
    "vowels='aioeuAEIOU'\n",
    "vowel_count=0\n",
    "\n",
    "for char in string:\n",
    "    if char in vowels:\n",
    "        vowel_count+=1\n",
    "\n",
    "\n",
    "print(f\"the number of vowels in the string is:{vowel_count}\")"
   ]
  },
  {
   "cell_type": "code",
   "execution_count": 9,
   "id": "65044edc-0273-4dd8-9edc-12c97b999e34",
   "metadata": {},
   "outputs": [
    {
     "name": "stdin",
     "output_type": "stream",
     "text": [
      "Enter the number for the multiplication table grid:  5\n"
     ]
    },
    {
     "name": "stdout",
     "output_type": "stream",
     "text": [
      "   1    2    3    4    5 \n",
      "   2    4    6    8   10 \n",
      "   3    6    9   12   15 \n",
      "   4    8   12   16   20 \n",
      "   5   10   15   20   25 \n"
     ]
    }
   ],
   "source": [
    "n=int(input(\"Enter the number for the multiplication table grid: \"))\n",
    "\n",
    "for i in range(1,n+1):\n",
    "    for j in range(1,n+1):\n",
    "        print(f\"{i*j:4}\",end=\" \")\n",
    "    print()"
   ]
  },
  {
   "cell_type": "code",
   "execution_count": 12,
   "id": "0446a74a-87ba-467c-a614-d9750b71bdd6",
   "metadata": {},
   "outputs": [
    {
     "name": "stdout",
     "output_type": "stream",
     "text": [
      "The largest number in the list is: 89\n"
     ]
    }
   ],
   "source": [
    "numbers=[10,45,23,67,34,89,12]\n",
    "largest=numbers[0]\n",
    "\n",
    "for num in numbers:\n",
    "    if num>largest:\n",
    "        largest=num\n",
    "print(f\"The largest number in the list is: {largest}\")"
   ]
  },
  {
   "cell_type": "code",
   "execution_count": 14,
   "id": "b10a0929-5214-42c9-b850-c6b6cd322f13",
   "metadata": {},
   "outputs": [
    {
     "name": "stdin",
     "output_type": "stream",
     "text": [
      "Entter a number: 36\n"
     ]
    },
    {
     "name": "stdout",
     "output_type": "stream",
     "text": [
      "The factors of 36 are: [1, 2, 3, 4, 6, 9, 12, 18, 36]\n"
     ]
    }
   ],
   "source": [
    "num=int(input(\"Entter a number:\"))\n",
    "factors=[]\n",
    "\n",
    "for i in range(1,num+1):\n",
    "    if num%i==0:\n",
    "        factors.append(i)\n",
    "\n",
    "print(f\"The factors of {num} are: {factors}\")"
   ]
  },
  {
   "cell_type": "code",
   "execution_count": null,
   "id": "3ec9c2db-0e0b-43f4-bf64-6340cef4b4f3",
   "metadata": {},
   "outputs": [],
   "source": []
  }
 ],
 "metadata": {
  "kernelspec": {
   "display_name": "Python 3 (ipykernel)",
   "language": "python",
   "name": "python3"
  },
  "language_info": {
   "codemirror_mode": {
    "name": "ipython",
    "version": 3
   },
   "file_extension": ".py",
   "mimetype": "text/x-python",
   "name": "python",
   "nbconvert_exporter": "python",
   "pygments_lexer": "ipython3",
   "version": "3.12.4"
  }
 },
 "nbformat": 4,
 "nbformat_minor": 5
}
