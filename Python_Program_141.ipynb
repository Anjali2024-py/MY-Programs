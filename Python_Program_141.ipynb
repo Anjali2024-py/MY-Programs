{
 "cells": [
  {
   "cell_type": "code",
   "execution_count": 1,
   "id": "be1127b4-e60a-4e4b-bf66-4e1a9aa617a0",
   "metadata": {},
   "outputs": [
    {
     "name": "stdout",
     "output_type": "stream",
     "text": [
      "[['a', 'a', 'b'], ['aa', 'b']]\n"
     ]
    }
   ],
   "source": [
    "def is_palindrome(s):\n",
    "    return s == s[::-1]\n",
    "\n",
    "def partition(s):\n",
    "    result = []\n",
    "    \n",
    "    def backtrack(start, current_partition):\n",
    "        if start == len(s):\n",
    "            result.append(list(current_partition))\n",
    "            return\n",
    "        \n",
    "        for end in range(start + 1, len(s) + 1):\n",
    "            substring = s[start:end]\n",
    "            if is_palindrome(substring):\n",
    "                current_partition.append(substring)\n",
    "                backtrack(end, current_partition)\n",
    "                current_partition.pop()\n",
    "    \n",
    "    backtrack(0, [])\n",
    "    return result\n",
    "\n",
    "# Example Usage\n",
    "s = \"aab\"\n",
    "output = partition(s)\n",
    "print(output)\n"
   ]
  },
  {
   "cell_type": "code",
   "execution_count": 2,
   "id": "50ed1e88-7798-45e5-996a-e91368d47fd4",
   "metadata": {},
   "outputs": [
    {
     "name": "stdout",
     "output_type": "stream",
     "text": [
      "[2, 3, 5, 7, 11, 13, 17, 19, 23, 29]\n"
     ]
    }
   ],
   "source": [
    "def sieve_of_eratosthenes(n):\n",
    "    primes = [True] * (n + 1)\n",
    "    primes[0] = primes[1] = False\n",
    "    for i in range(2, int(n**0.5) + 1):\n",
    "        if primes[i]:\n",
    "            for j in range(i*i, n + 1, i):\n",
    "                primes[j] = False\n",
    "    return [i for i in range(2, n + 1) if primes[i]]\n",
    "\n",
    "# Example Usage\n",
    "n = 30\n",
    "output = sieve_of_eratosthenes(n)\n",
    "print(output)\n"
   ]
  },
  {
   "cell_type": "code",
   "execution_count": null,
   "id": "4b5a8312-4488-4a63-9f53-65db23c90f1d",
   "metadata": {},
   "outputs": [],
   "source": []
  }
 ],
 "metadata": {
  "kernelspec": {
   "display_name": "Python 3 (ipykernel)",
   "language": "python",
   "name": "python3"
  },
  "language_info": {
   "codemirror_mode": {
    "name": "ipython",
    "version": 3
   },
   "file_extension": ".py",
   "mimetype": "text/x-python",
   "name": "python",
   "nbconvert_exporter": "python",
   "pygments_lexer": "ipython3",
   "version": "3.12.4"
  }
 },
 "nbformat": 4,
 "nbformat_minor": 5
}
