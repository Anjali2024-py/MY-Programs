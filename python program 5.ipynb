{
 "cells": [
  {
   "cell_type": "code",
   "execution_count": 9,
   "id": "e2302ae6-8ab6-4df0-9106-ec8a4ee8486d",
   "metadata": {},
   "outputs": [
    {
     "name": "stdin",
     "output_type": "stream",
     "text": [
      "enter age 21\n"
     ]
    },
    {
     "name": "stdout",
     "output_type": "stream",
     "text": [
      "you are selected\n",
      "21\n"
     ]
    }
   ],
   "source": [
    "#write a program to check if you are selected in cricket team based on your age\n",
    "age=int(input(\"enter age\"))\n",
    "if(age>18):\n",
    "    print(\"you are selected\")\n",
    "elif(age<18):\n",
    "    print(\"you are not selected\")\n",
    "else:\n",
    "    print(\"might be selected\")\n",
    "print(age)"
   ]
  },
  {
   "cell_type": "code",
   "execution_count": 1,
   "id": "77a211e5-6a89-4afe-8503-f26ce855c488",
   "metadata": {},
   "outputs": [
    {
     "name": "stdout",
     "output_type": "stream",
     "text": [
      "first\n",
      "7\n",
      "hi\n"
     ]
    }
   ],
   "source": [
    "x=9\n",
    "if x>0:\n",
    "    print(\"first\")\n",
    "    if x<5:\n",
    "        print(\"second\")\n",
    "    else:\n",
    "        print(\"7\")\n",
    "        if x==3:\n",
    "            print(\"third\")\n",
    "        elif(x!=4):\n",
    "            print(\"hi\")\n",
    "        else:\n",
    "            print(\"yes\")\n",
    "    "
   ]
  },
  {
   "cell_type": "code",
   "execution_count": 4,
   "id": "832ab5eb-a762-4da6-a268-c81c337818ed",
   "metadata": {},
   "outputs": [
    {
     "name": "stdout",
     "output_type": "stream",
     "text": [
      "2024-07-28 15:08:46.137797\n"
     ]
    }
   ],
   "source": [
    "#print current date and time\n",
    "from datetime import datetime as dt\n",
    "current=dt.now()\n",
    "print(current)"
   ]
  },
  {
   "cell_type": "code",
   "execution_count": 7,
   "id": "e8fc4933-b20e-4bd2-8940-2e25e6f133be",
   "metadata": {},
   "outputs": [],
   "source": [
    "from datetime import date"
   ]
  },
  {
   "cell_type": "code",
   "execution_count": 10,
   "id": "dbefac31-5e56-4946-955e-72d43274334e",
   "metadata": {},
   "outputs": [
    {
     "name": "stdout",
     "output_type": "stream",
     "text": [
      "2014-07-02\n"
     ]
    }
   ],
   "source": [
    "date1=date(2014,7,2)\n",
    "print(date1)"
   ]
  },
  {
   "cell_type": "code",
   "execution_count": 11,
   "id": "0cfb1447-9eb5-41c7-8d53-f4019c07e79c",
   "metadata": {},
   "outputs": [
    {
     "name": "stdout",
     "output_type": "stream",
     "text": [
      "2014-07-11\n"
     ]
    }
   ],
   "source": [
    "date2=date(2014,7,11)\n",
    "print(date2)"
   ]
  },
  {
   "cell_type": "code",
   "execution_count": 19,
   "id": "83174b93-ad9d-4089-bb5c-333d87c61e87",
   "metadata": {},
   "outputs": [],
   "source": [
    "from datetime import timedelta as td\n"
   ]
  },
  {
   "cell_type": "code",
   "execution_count": 23,
   "id": "df6c5f1a-45e0-43da-847e-67f214e15006",
   "metadata": {},
   "outputs": [],
   "source": [
    "futureday=date1+td(days=101)"
   ]
  },
  {
   "cell_type": "code",
   "execution_count": 24,
   "id": "c2ed61e4-7c78-4d34-8ae6-bd07cb0c3fe5",
   "metadata": {},
   "outputs": [
    {
     "name": "stdout",
     "output_type": "stream",
     "text": [
      "2014-10-11\n"
     ]
    }
   ],
   "source": [
    "print(futureday)"
   ]
  },
  {
   "cell_type": "code",
   "execution_count": 40,
   "id": "c973d05a-7bc8-4c5b-9ade-0c66d068f059",
   "metadata": {},
   "outputs": [],
   "source": [
    "#write a python program to print 1st and last color\n",
    "color_list=[\"red\",\"green\",\"white\",\"black\"]"
   ]
  },
  {
   "cell_type": "code",
   "execution_count": 26,
   "id": "45e8cdc8-2e01-49f0-a218-2a29cf537b87",
   "metadata": {},
   "outputs": [
    {
     "name": "stdout",
     "output_type": "stream",
     "text": [
      "['red', 'green', 'white', 'black']\n"
     ]
    }
   ],
   "source": [
    "print(color_list)"
   ]
  },
  {
   "cell_type": "code",
   "execution_count": 27,
   "id": "1cd293f5-3a87-4fd6-9710-340fd707d971",
   "metadata": {},
   "outputs": [
    {
     "data": {
      "text/plain": [
       "'red'"
      ]
     },
     "execution_count": 27,
     "metadata": {},
     "output_type": "execute_result"
    }
   ],
   "source": [
    "color_list[0]"
   ]
  },
  {
   "cell_type": "code",
   "execution_count": 28,
   "id": "76cf16d3-a4ef-4308-88be-8e9ab86391d1",
   "metadata": {},
   "outputs": [
    {
     "data": {
      "text/plain": [
       "'black'"
      ]
     },
     "execution_count": 28,
     "metadata": {},
     "output_type": "execute_result"
    }
   ],
   "source": [
    "color_list[3]"
   ]
  },
  {
   "cell_type": "code",
   "execution_count": 37,
   "id": "3f3c89bb-9b25-44ef-b473-fdf68cf29947",
   "metadata": {},
   "outputs": [
    {
     "data": {
      "text/plain": [
       "['black']"
      ]
     },
     "execution_count": 37,
     "metadata": {},
     "output_type": "execute_result"
    }
   ],
   "source": [
    "color_list[-1:]"
   ]
  },
  {
   "cell_type": "code",
   "execution_count": 39,
   "id": "997c24b2-1e7a-4226-bb88-05c22622ac74",
   "metadata": {},
   "outputs": [
    {
     "data": {
      "text/plain": [
       "['red']"
      ]
     },
     "execution_count": 39,
     "metadata": {},
     "output_type": "execute_result"
    }
   ],
   "source": [
    "color_list[:1]"
   ]
  },
  {
   "cell_type": "code",
   "execution_count": 56,
   "id": "c9db022d-bec2-4da9-b87f-b28acbd91b31",
   "metadata": {},
   "outputs": [],
   "source": [
    "tuple1=(\"hello\",\"hi\",\"thanks\")\n"
   ]
  },
  {
   "cell_type": "code",
   "execution_count": 60,
   "id": "1436141b-1823-40fb-8f04-a8722fd4493c",
   "metadata": {},
   "outputs": [
    {
     "data": {
      "text/plain": [
       "2"
      ]
     },
     "execution_count": 60,
     "metadata": {},
     "output_type": "execute_result"
    }
   ],
   "source": [
    "tuple1.index(\"thanks\")"
   ]
  },
  {
   "cell_type": "code",
   "execution_count": 61,
   "id": "1420293e-5e70-4f1b-94be-d9121282d885",
   "metadata": {},
   "outputs": [],
   "source": [
    "set1={5,6,7,8}\n",
    "set2={12,15,18}"
   ]
  },
  {
   "cell_type": "code",
   "execution_count": 62,
   "id": "11890aa2-6a19-4c58-99ae-6f27b765cc94",
   "metadata": {},
   "outputs": [
    {
     "data": {
      "text/plain": [
       "{5, 6, 7, 8, 12, 15, 18}"
      ]
     },
     "execution_count": 62,
     "metadata": {},
     "output_type": "execute_result"
    }
   ],
   "source": [
    "set1.union(set2)"
   ]
  },
  {
   "cell_type": "code",
   "execution_count": 63,
   "id": "6383756a-65a5-4a4c-82f8-f4124cd1bad8",
   "metadata": {},
   "outputs": [
    {
     "name": "stdin",
     "output_type": "stream",
     "text": [
      "Enter a base 2\n",
      "Enter a power 3\n"
     ]
    },
    {
     "name": "stdout",
     "output_type": "stream",
     "text": [
      "8\n"
     ]
    }
   ],
   "source": [
    "m=int(input(\"Enter a base\"))\n",
    "n=int(input(\"Enter a power\"))\n",
    "a=1\n",
    "power=1\n",
    "while(a<=n):\n",
    "    power=power*m\n",
    "    a=a+1\n",
    "print(power) "
   ]
  },
  {
   "cell_type": "code",
   "execution_count": 66,
   "id": "e09edcc6-ef0e-4734-bc60-d7a4525e2f2a",
   "metadata": {},
   "outputs": [
    {
     "name": "stdin",
     "output_type": "stream",
     "text": [
      "enter any value 153\n"
     ]
    },
    {
     "name": "stdout",
     "output_type": "stream",
     "text": [
      "153\n",
      "Number is Armstrong number\n"
     ]
    }
   ],
   "source": [
    "num=int(input(\"enter any value\"))\n",
    "temp=num\n",
    "sum=0\n",
    "while(temp>0):\n",
    "    rem=temp%10\n",
    "    sum=sum+rem**3\n",
    "    temp=temp//10\n",
    "print(sum)\n",
    "if(sum==num):\n",
    "    print(\"Number is Armstrong number\")\n",
    "else:\n",
    "    print(\"Number is not Armstrong number\")"
   ]
  },
  {
   "cell_type": "code",
   "execution_count": 68,
   "id": "60922331-86ef-48b1-8f62-3ec667243648",
   "metadata": {},
   "outputs": [
    {
     "name": "stdin",
     "output_type": "stream",
     "text": [
      " 2\n",
      " 3\n"
     ]
    },
    {
     "name": "stdout",
     "output_type": "stream",
     "text": [
      "36\n"
     ]
    }
   ],
   "source": [
    "n1=int(input())\n",
    "n2=int(input())\n",
    "res=(n1**3+n**3)+1\n",
    "print(res)"
   ]
  },
  {
   "cell_type": "code",
   "execution_count": null,
   "id": "17bf1469-a309-466e-baec-435b6db9081c",
   "metadata": {},
   "outputs": [],
   "source": []
  }
 ],
 "metadata": {
  "kernelspec": {
   "display_name": "Python 3 (ipykernel)",
   "language": "python",
   "name": "python3"
  },
  "language_info": {
   "codemirror_mode": {
    "name": "ipython",
    "version": 3
   },
   "file_extension": ".py",
   "mimetype": "text/x-python",
   "name": "python",
   "nbconvert_exporter": "python",
   "pygments_lexer": "ipython3",
   "version": "3.12.4"
  }
 },
 "nbformat": 4,
 "nbformat_minor": 5
}
