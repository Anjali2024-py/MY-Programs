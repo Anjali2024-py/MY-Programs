{
 "cells": [
  {
   "cell_type": "code",
   "execution_count": 3,
   "id": "ff3d6e3c-5ef5-40e3-b66e-80935908febc",
   "metadata": {},
   "outputs": [
    {
     "name": "stdout",
     "output_type": "stream",
     "text": [
      "    *     \n",
      "  * *     \n",
      "    *     \n",
      "    *     \n",
      "* * * * * \n"
     ]
    }
   ],
   "source": [
    "for i in range(5):\n",
    "    for j in range(5):\n",
    "        if j==2 and(j>1 and j<3) or (j==1 and i==1) or i==4:\n",
    "            print(\"*\",end=\" \")\n",
    "        else:\n",
    "            print(\" \",end=\" \")\n",
    "    print()\n",
    "    "
   ]
  },
  {
   "cell_type": "code",
   "execution_count": 13,
   "id": "70ead31d-2e92-44b2-88f7-9de60041fd1d",
   "metadata": {},
   "outputs": [
    {
     "name": "stdout",
     "output_type": "stream",
     "text": [
      "* * *   \n",
      "      * \n",
      "    *   \n",
      "  *     \n",
      "* * * * \n"
     ]
    }
   ],
   "source": [
    "i=1\n",
    "j==3\n",
    "for row in range(5):\n",
    "    for col in range(4):\n",
    "        if (row==0 and col<3) or row==4 or (row==1 and col==3) or (row==2 and col==2) or ( row==3 and col==1):\n",
    "            print(\"*\",end=\" \")\n",
    "        else:\n",
    "            print(\" \",end=\" \")\n",
    "    print()"
   ]
  },
  {
   "cell_type": "code",
   "execution_count": 2,
   "id": "67dcbb2d-cf04-407d-a40e-5f3e579da565",
   "metadata": {},
   "outputs": [
    {
     "name": "stdout",
     "output_type": "stream",
     "text": [
      "* * *   \n",
      "      * \n",
      "      * \n",
      "  * *   \n",
      "      * \n",
      "      * \n",
      "* * *   \n"
     ]
    }
   ],
   "source": [
    "for row in range(7):\n",
    "    for col in range(4):\n",
    "        if (row==0 and col<3) or (col==3 and row!=0 and row!=3 and row!=6) or (row==6 and row!=3 and col<3) or (row==3 and col==1) or row==3 and col==2:\n",
    "            print(\"*\",end=\" \")\n",
    "        else:\n",
    "            print(\" \",end=\" \")\n",
    "    print()"
   ]
  },
  {
   "cell_type": "code",
   "execution_count": 4,
   "id": "0b02eb5a-1d28-48ae-a482-e5013a98c0fe",
   "metadata": {},
   "outputs": [
    {
     "name": "stdout",
     "output_type": "stream",
     "text": [
      "*     \n",
      "*     \n",
      "*   * \n",
      "* * * \n",
      "    * \n",
      "    * \n"
     ]
    }
   ],
   "source": [
    "for row in range(6):\n",
    "    for col in range(3):\n",
    "        if (row<4 and col==0) or (col==2 and  row>1) or row==3:\n",
    "            print(\"*\",end=\" \")\n",
    "        else:\n",
    "            print(\" \",end=\" \")\n",
    "    print()"
   ]
  },
  {
   "cell_type": "code",
   "execution_count": 10,
   "id": "93d2527e-d674-4e63-828d-faa8f053d830",
   "metadata": {},
   "outputs": [
    {
     "name": "stdout",
     "output_type": "stream",
     "text": [
      "* * * * \n",
      "*       \n",
      "* * *   \n",
      "      * \n",
      "      * \n",
      "      * \n",
      "* * *   \n"
     ]
    }
   ],
   "source": [
    "for row in range(7):\n",
    "    for col in range(4):\n",
    "        if row==0  or (col<3 and  row==6) or (row<3 and col==0) or (col==3 and row!=1 and row!=2 and row!=6) or ( col==1 and row==2 ) or (col==2 and row==2):\n",
    "            print(\"*\",end=\" \")\n",
    "        else:\n",
    "            print(\" \",end=\" \")\n",
    "    print()"
   ]
  },
  {
   "cell_type": "code",
   "execution_count": 12,
   "id": "11a91659-f4da-4dc6-b6cf-aeeca112b486",
   "metadata": {},
   "outputs": [
    {
     "name": "stdout",
     "output_type": "stream",
     "text": [
      "* * * \n",
      "*     \n",
      "*     \n",
      "*     \n",
      "* * * \n",
      "*   * \n",
      "* * * \n"
     ]
    }
   ],
   "source": [
    "for row in range(7):\n",
    "    for col in range(3):\n",
    "        if (row==4 or col==0) or (row==5 and  col!=1) or row==0 or row==6:\n",
    "            print(\"*\",end=\" \")\n",
    "        else:\n",
    "            print(\" \",end=\" \")\n",
    "    print()"
   ]
  },
  {
   "cell_type": "code",
   "execution_count": 13,
   "id": "5cc7b16f-2563-4ea2-a6f9-b2e7d01120fd",
   "metadata": {},
   "outputs": [
    {
     "name": "stdout",
     "output_type": "stream",
     "text": [
      "* * * *   \n",
      "*     *   \n",
      "      *   \n",
      "      *   \n",
      "    * * * \n",
      "      *   \n",
      "      *   \n"
     ]
    }
   ],
   "source": [
    "for row in range(7):\n",
    "    for col in range(5):\n",
    "        if (col<4 and row==0) or col==3 or (row==1 and col==0) or (row==4 and col==2) or row==4 and col==4:\n",
    "            print(\"*\",end=\" \")\n",
    "        else:\n",
    "            print(\" \",end=\" \")\n",
    "    print()"
   ]
  },
  {
   "cell_type": "code",
   "execution_count": 15,
   "id": "1d2bc5b6-d432-47bf-a85e-945da8b7e092",
   "metadata": {},
   "outputs": [
    {
     "name": "stdout",
     "output_type": "stream",
     "text": [
      "  * *   \n",
      "*     * \n",
      "*     * \n",
      "*     * \n",
      "  * *   \n",
      "*     * \n",
      "*     * \n",
      "*     * \n",
      "  * *   \n"
     ]
    }
   ],
   "source": [
    "for row in range(9):\n",
    "    for col in range(4):\n",
    "        if (row!=4 and col==0 and row!=0 and row!=8)  or (col==3 and  row!=0 and row!=4 and row!=8) or (row==0 and 0<col<3) or (row==4 and 0<col<3) or (row==8 and 0<col<3):\n",
    "            print(\"*\",end=\" \")\n",
    "        else:\n",
    "            print(\" \",end=\" \")\n",
    "    print()"
   ]
  },
  {
   "cell_type": "code",
   "execution_count": 25,
   "id": "bf678715-7389-41fd-bf5a-ba5bbcb024d9",
   "metadata": {},
   "outputs": [
    {
     "name": "stdout",
     "output_type": "stream",
     "text": [
      "  * *   \n",
      "*     * \n",
      "*     * \n",
      "  * * * \n",
      "      * \n",
      "      * \n",
      "      * \n",
      "* * *   \n"
     ]
    }
   ],
   "source": [
    "for row in range(8):\n",
    "    for col in range(4):\n",
    "        if (0<row<7 and col==3) or (0<col<3 and  row==0) or (row==3 and col>0) or (row==7 and col<3) or (col==0 and 0<row<3):\n",
    "            print(\"*\",end=\" \")\n",
    "        else:\n",
    "            print(\" \",end=\" \")\n",
    "    print()"
   ]
  },
  {
   "cell_type": "code",
   "execution_count": 27,
   "id": "1c8f078b-b14a-49ff-8a06-a0b668b8e8a9",
   "metadata": {},
   "outputs": [
    {
     "name": "stdout",
     "output_type": "stream",
     "text": [
      "  * * *   \n",
      "*       * \n",
      "*       * \n",
      "*       * \n",
      "*       * \n",
      "*       * \n",
      "  * * *   \n"
     ]
    }
   ],
   "source": [
    "for row in range(7):\n",
    "    for col in range(5):\n",
    "        if (0<col<4 and row==0) or (col==0 and  0<row<6) or (row==6 and 0<col<4) or (col==4 and 0<row<6):\n",
    "            print(\"*\",end=\" \")\n",
    "        else:\n",
    "            print(\" \",end=\" \")\n",
    "    print()"
   ]
  },
  {
   "cell_type": "code",
   "execution_count": null,
   "id": "bf8a2a0d-657f-46dc-9c5d-2e7ab3b3d802",
   "metadata": {},
   "outputs": [],
   "source": []
  },
  {
   "cell_type": "code",
   "execution_count": null,
   "id": "8bda6620-c61e-443b-ba0c-4b32ebdbc455",
   "metadata": {},
   "outputs": [],
   "source": []
  }
 ],
 "metadata": {
  "kernelspec": {
   "display_name": "Python 3 (ipykernel)",
   "language": "python",
   "name": "python3"
  },
  "language_info": {
   "codemirror_mode": {
    "name": "ipython",
    "version": 3
   },
   "file_extension": ".py",
   "mimetype": "text/x-python",
   "name": "python",
   "nbconvert_exporter": "python",
   "pygments_lexer": "ipython3",
   "version": "3.12.4"
  }
 },
 "nbformat": 4,
 "nbformat_minor": 5
}
