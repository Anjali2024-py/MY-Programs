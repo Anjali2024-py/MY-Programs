{
 "cells": [
  {
   "cell_type": "code",
   "execution_count": 2,
   "id": "eb0e1f77-a436-4881-ade3-ebb0cdddf453",
   "metadata": {},
   "outputs": [
    {
     "name": "stdout",
     "output_type": "stream",
     "text": [
      "3\n"
     ]
    }
   ],
   "source": [
    "numbers = [1, 2, 3, 1, 4, 1, 5]\n",
    "count_ones=numbers.count(1)\n",
    "print(count_ones)"
   ]
  },
  {
   "cell_type": "code",
   "execution_count": 3,
   "id": "9244fed2-79ae-4e26-8df6-2e52ded34c7e",
   "metadata": {},
   "outputs": [
    {
     "name": "stdout",
     "output_type": "stream",
     "text": [
      "3\n"
     ]
    }
   ],
   "source": [
    "fruits = [\"apple\", \"banana\", \"cherry\", \"apple\", \"apple\"]\n",
    "count_apples = fruits.count(\"apple\")\n",
    "print(count_apples)  # Output: 3\n"
   ]
  },
  {
   "cell_type": "code",
   "execution_count": 4,
   "id": "f8950013-10ca-453e-ada8-866aed393db1",
   "metadata": {},
   "outputs": [
    {
     "name": "stdout",
     "output_type": "stream",
     "text": [
      "3\n"
     ]
    }
   ],
   "source": [
    "values = [True, False, True, True, False]\n",
    "count_true = values.count(True)\n",
    "print(count_true)  # Output: 3"
   ]
  },
  {
   "cell_type": "code",
   "execution_count": 5,
   "id": "52d4338d-df01-4708-8a68-8579a3560c73",
   "metadata": {},
   "outputs": [
    {
     "name": "stdout",
     "output_type": "stream",
     "text": [
      "3\n"
     ]
    }
   ],
   "source": [
    "measurements = [12.5, 15.8, 12.5, 19.3, 12.5]\n",
    "count_12_5 = measurements.count(12.5)\n",
    "print(count_12_5)  # Output: 3\n"
   ]
  },
  {
   "cell_type": "code",
   "execution_count": 6,
   "id": "f8900b6a-94e8-4864-a3da-0146bf2abf35",
   "metadata": {},
   "outputs": [
    {
     "name": "stdout",
     "output_type": "stream",
     "text": [
      "3\n"
     ]
    }
   ],
   "source": [
    "data = [None, 1, 2, None, 3, None]\n",
    "count_none = data.count(None)\n",
    "print(count_none)  # Output: 3\n"
   ]
  },
  {
   "cell_type": "code",
   "execution_count": 7,
   "id": "afa5edd6-9406-42c4-b01e-7062d11ce5d6",
   "metadata": {},
   "outputs": [
    {
     "name": "stdout",
     "output_type": "stream",
     "text": [
      "3\n"
     ]
    }
   ],
   "source": [
    "pairs = [(1, 2), (3, 4), (1, 2), (5, 6), (1, 2)]\n",
    "count_pair = pairs.count((1, 2))\n",
    "print(count_pair)  # Output: 3\n"
   ]
  },
  {
   "cell_type": "code",
   "execution_count": null,
   "id": "48fb9bbb-4138-47f9-8307-5fa4c461eee1",
   "metadata": {},
   "outputs": [],
   "source": []
  }
 ],
 "metadata": {
  "kernelspec": {
   "display_name": "Python 3 (ipykernel)",
   "language": "python",
   "name": "python3"
  },
  "language_info": {
   "codemirror_mode": {
    "name": "ipython",
    "version": 3
   },
   "file_extension": ".py",
   "mimetype": "text/x-python",
   "name": "python",
   "nbconvert_exporter": "python",
   "pygments_lexer": "ipython3",
   "version": "3.12.4"
  }
 },
 "nbformat": 4,
 "nbformat_minor": 5
}
