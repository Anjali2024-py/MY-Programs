{
 "cells": [
  {
   "cell_type": "code",
   "execution_count": 1,
   "id": "84bb2dfb-6dca-4c7b-b1fd-ab63aa97348d",
   "metadata": {},
   "outputs": [
    {
     "name": "stdout",
     "output_type": "stream",
     "text": [
      "Element found at index: 2\n"
     ]
    }
   ],
   "source": [
    "# BINARY SEARCH ALGORITHMS:\n",
    "def binary_search(arr,target):\n",
    "    low,high=0,len(arr)-1\n",
    "    while low<=high:\n",
    "        mid=(low+high)//2\n",
    "        if arr[mid]==target:\n",
    "            return mid\n",
    "        elif arr[mid]<traget:\n",
    "            low=mid+1\n",
    "        else:\n",
    "            high=mid-1\n",
    "    return -1\n",
    "\n",
    "sorted_number=[1,2,3,4,5]\n",
    "index=binary_search(sorted_number,3)\n",
    "print(\"Element found at index:\",index)"
   ]
  },
  {
   "cell_type": "code",
   "execution_count": 2,
   "id": "adab3f61-f5b0-4722-8eb4-680da410df9f",
   "metadata": {},
   "outputs": [
    {
     "name": "stdout",
     "output_type": "stream",
     "text": [
      "Original string:Anjali\n",
      "Hash Value:-1864991686321879664\n"
     ]
    }
   ],
   "source": [
    "string_data=\"Anjali\"\n",
    "hashed_value=hash(string_data)\n",
    "print(f\"Original string:{string_data}\")\n",
    "print(f\"Hash Value:{hashed_value}\")"
   ]
  },
  {
   "cell_type": "code",
   "execution_count": 5,
   "id": "89d89674-ec0d-4138-b730-4006c1b73cd2",
   "metadata": {},
   "outputs": [
    {
     "name": "stdout",
     "output_type": "stream",
     "text": [
      "Original string:Hello,World!\n",
      "Hash Value:-528744167541320989\n"
     ]
    }
   ],
   "source": [
    "string_data=\"Hello,World!\"\n",
    "hashed_value=hash(string_data)\n",
    "print(f\"Original string:{string_data}\")\n",
    "print(f\"Hash Value:{hashed_value}\")"
   ]
  },
  {
   "cell_type": "code",
   "execution_count": 4,
   "id": "e612b475-80a6-45c8-a19e-8af0bb71646c",
   "metadata": {},
   "outputs": [
    {
     "name": "stdout",
     "output_type": "stream",
     "text": [
      "Element found at index: 5\n"
     ]
    }
   ],
   "source": [
    "# Linear search algorithm:\n",
    "def linear_search(arr,target):\n",
    "    for i in range(len(arr)):\n",
    "        if arr[i]==target:\n",
    "            return i\n",
    "    return -1\n",
    "\n",
    "number=[1,2,3,4,5,6]\n",
    "index=linear_search(number,6)\n",
    "print(\"Element found at index:\",index)"
   ]
  },
  {
   "cell_type": "code",
   "execution_count": 3,
   "id": "1fa8e2ae-bbab-4eaf-bc94-7b3d7b5b103e",
   "metadata": {},
   "outputs": [
    {
     "name": "stdout",
     "output_type": "stream",
     "text": [
      "sorted_array [11, 12, 22, 25, 34, 64, 90]\n"
     ]
    }
   ],
   "source": [
    "# sorting algorithm:\n",
    "def selection_sort(arr):\n",
    "    n=len(arr)\n",
    "    for i in range(n):\n",
    "        min_index=i\n",
    "        for j in range(i+1,n):\n",
    "            if arr[j]<arr[min_index]:\n",
    "                min_index=j\n",
    "        arr[i],arr[min_index]=arr[min_index],arr[i]\n",
    "    return arr\n",
    "\n",
    "number=[64,34,25,12,22,11,90]\n",
    "sorted_number=selection_sort(number)\n",
    "print(\"sorted_array\",sorted_number)"
   ]
  },
  {
   "cell_type": "code",
   "execution_count": null,
   "id": "e2507002-8503-46d2-bdc8-7a9cdfd10b29",
   "metadata": {},
   "outputs": [],
   "source": []
  }
 ],
 "metadata": {
  "kernelspec": {
   "display_name": "Python 3 (ipykernel)",
   "language": "python",
   "name": "python3"
  },
  "language_info": {
   "codemirror_mode": {
    "name": "ipython",
    "version": 3
   },
   "file_extension": ".py",
   "mimetype": "text/x-python",
   "name": "python",
   "nbconvert_exporter": "python",
   "pygments_lexer": "ipython3",
   "version": "3.12.4"
  }
 },
 "nbformat": 4,
 "nbformat_minor": 5
}
