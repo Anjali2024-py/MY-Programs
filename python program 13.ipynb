{
 "cells": [
  {
   "cell_type": "code",
   "execution_count": 32,
   "id": "bd2f6bce-282e-481a-9d91-c9d1a72ea97a",
   "metadata": {},
   "outputs": [
    {
     "name": "stdin",
     "output_type": "stream",
     "text": [
      "enter any value: 2a8\n"
     ]
    }
   ],
   "source": [
    "#convert hexadecimal into decimal number\n",
    "hexa_value=input(\"enter any value:\").strip().upper()\n",
    "def hexa_to_decimal(hexvalue):\n",
    "    conversion_table={'0':0,'1':1,'2':2,'3':3,'4':4,'5':5,'6':6,'7':7,'8':8,\n",
    "                      '9':9,'a':10,'b':11,'c':12,'d':13,'e':14,'f':15}\n",
    "    position=len(hexvalue)-1\n",
    "    decimal_number=0\n",
    "    \n",
    "    for x in hexvalue:\n",
    "        decimal_number=decimal_number+conversion_table[x]*pow(16,position)\n",
    "        position=position-1\n",
    "        \n",
    "        return decimal_number\n",
    "        "
   ]
  },
  {
   "cell_type": "code",
   "execution_count": 33,
   "id": "785d0e21-5aad-4a97-a666-09cddacb6653",
   "metadata": {},
   "outputs": [
    {
     "name": "stdout",
     "output_type": "stream",
     "text": [
      "decimal value: 512\n"
     ]
    }
   ],
   "source": [
    "\n",
    "output=hexa_to_decimal(hexa_value)\n",
    "print('decimal value:',output)"
   ]
  },
  {
   "cell_type": "code",
   "execution_count": 17,
   "id": "35e6fa9c-90bb-4e50-a09d-712d3bfc0401",
   "metadata": {},
   "outputs": [
    {
     "name": "stdout",
     "output_type": "stream",
     "text": [
      "decimal: 680\n"
     ]
    }
   ],
   "source": [
    "#convert hexadecimal into decimal number\n",
    "output=int(hexa_value,16)\n",
    "print('decimal:',output)"
   ]
  },
  {
   "cell_type": "code",
   "execution_count": 26,
   "id": "bd3f505e-1c2d-44e0-a075-4f9329ee9546",
   "metadata": {},
   "outputs": [
    {
     "name": "stdin",
     "output_type": "stream",
     "text": [
      "enter any number: 355\n"
     ]
    }
   ],
   "source": [
    "##convert decimal number into octal number\n",
    "decimal_number=int(input(\"enter any number:\"))\n",
    "def decimal_to_octal(num):\n",
    "    octal_value=''\n",
    "    while num>0:\n",
    "        remainder=num%8\n",
    "        octal_value=octal_value+str(remainder)\n",
    "        num=num//8\n",
    "    return octal_value[::-1]\n",
    "        "
   ]
  },
  {
   "cell_type": "code",
   "execution_count": 27,
   "id": "6619a04d-8791-49a8-ad37-4f78f65404f3",
   "metadata": {},
   "outputs": [
    {
     "name": "stdout",
     "output_type": "stream",
     "text": [
      "octal value: 543\n"
     ]
    }
   ],
   "source": [
    "output=decimal_to_octal(decimal_number)\n",
    "print ('octal value:',output)"
   ]
  },
  {
   "cell_type": "code",
   "execution_count": 34,
   "id": "9945f4f5-6d7c-4073-8d35-1a8e7dc6a873",
   "metadata": {},
   "outputs": [
    {
     "name": "stdout",
     "output_type": "stream",
     "text": [
      "octal: 543\n"
     ]
    }
   ],
   "source": [
    "##convert decimal number into octal number\n",
    "output=oct(decimal_number)\n",
    "print ('octal:',output[2:])"
   ]
  },
  {
   "cell_type": "code",
   "execution_count": 36,
   "id": "8d1a7a28-4fb2-4ec3-9f89-c0c2facc80b6",
   "metadata": {},
   "outputs": [
    {
     "name": "stdout",
     "output_type": "stream",
     "text": [
      "octal: 543\n"
     ]
    }
   ],
   "source": [
    "##convert decimal number into octal number\n",
    "output=format(decimal_number,'o')\n",
    "print ('octal:',output)"
   ]
  },
  {
   "cell_type": "code",
   "execution_count": 41,
   "id": "cef61ffb-1864-47dd-87f8-c80171b23db8",
   "metadata": {},
   "outputs": [
    {
     "name": "stdin",
     "output_type": "stream",
     "text": [
      "Enter only octal value-only allowed is 0s-7: 543\n"
     ]
    }
   ],
   "source": [
    "#convert octal to decimal\n",
    "octal_value=int(input(\"Enter only octal value-only allowed is 0s-7:\"))\n",
    "def octal_to_decimal(octalvalue):\n",
    "    position=0\n",
    "    decimal_number=0\n",
    "\n",
    "    while octalvalue!=0:\n",
    "        decimal=octalvalue%10\n",
    "        decimal_number=decimal_number+decimal*pow(8,position)\n",
    "        octalvalue=octalvalue//10\n",
    "        position=position+1\n",
    "    return decimal_number\n",
    "\n",
    "\n"
   ]
  },
  {
   "cell_type": "code",
   "execution_count": 42,
   "id": "0c300654-317b-4440-a008-958f5b0ec146",
   "metadata": {},
   "outputs": [
    {
     "name": "stdout",
     "output_type": "stream",
     "text": [
      "decimal: 355\n"
     ]
    }
   ],
   "source": [
    "output=octal_to_decimal(octal_value)\n",
    "print('decimal:',output)"
   ]
  },
  {
   "cell_type": "code",
   "execution_count": 44,
   "id": "e1e0fe01-f27c-4c9f-9e03-e2425547a3e2",
   "metadata": {},
   "outputs": [
    {
     "name": "stdin",
     "output_type": "stream",
     "text": [
      "enter any octal value: 543\n"
     ]
    },
    {
     "name": "stdout",
     "output_type": "stream",
     "text": [
      "decimal value: 355\n"
     ]
    }
   ],
   "source": [
    "##convert octal  into decimal number\n",
    "octal_value=input(\"enter any octal value:\")\n",
    "output=int(octal_value,8)\n",
    "print('decimal value:',output)"
   ]
  },
  {
   "cell_type": "code",
   "execution_count": 46,
   "id": "53512050-831c-42e6-8b29-dfeb1646f9f0",
   "metadata": {},
   "outputs": [
    {
     "name": "stdin",
     "output_type": "stream",
     "text": [
      "Enter any number between 1 to 12: 5\n"
     ]
    },
    {
     "name": "stdout",
     "output_type": "stream",
     "text": [
      "may\n"
     ]
    }
   ],
   "source": [
    "#write a program to accept a number from 1 to 12 and display name of the month and \n",
    "#days in that month like 1 for jan and num of days of 31 and so on\n",
    "num=int(input(\"Enter any number between 1 to 12:\"))\n",
    "if num==1:\n",
    "    print(\"jan\")\n",
    "elif num==2:\n",
    "    print(\"feb\")\n",
    "elif num==3:\n",
    "    print(\"mar\")\n",
    "elif num==4:\n",
    "    print(\"April\")\n",
    "elif num==5:\n",
    "    print(\"may\")\n",
    "elif num==6:\n",
    "    print(\"june\")\n",
    "elif num==7:\n",
    "    print(\"july\")\n",
    "elif num==8:\n",
    "    print(\"august\")\n",
    "elif num==9:\n",
    "    print(\"sep\")\n",
    "elif num==10:\n",
    "    print(\"oct\")\n",
    "elif num==11:\n",
    "    print(\"nov\")\n",
    "elif num==212:\n",
    "    print(\"dec\")\n",
    "else:\n",
    "    print(\"Please Enter 1 to 12 numbers\")\n",
    "\n",
    "    "
   ]
  },
  {
   "cell_type": "code",
   "execution_count": 47,
   "id": "e266ec56-71e9-4eee-a5cd-4ae79ff89d5f",
   "metadata": {},
   "outputs": [
    {
     "name": "stdout",
     "output_type": "stream",
     "text": [
      "101\n"
     ]
    }
   ],
   "source": [
    "#write the output of the following\n",
    "if True:\n",
    "    print(101)\n",
    "else:\n",
    "    print(202)"
   ]
  }
 ],
 "metadata": {
  "kernelspec": {
   "display_name": "Python 3 (ipykernel)",
   "language": "python",
   "name": "python3"
  },
  "language_info": {
   "codemirror_mode": {
    "name": "ipython",
    "version": 3
   },
   "file_extension": ".py",
   "mimetype": "text/x-python",
   "name": "python",
   "nbconvert_exporter": "python",
   "pygments_lexer": "ipython3",
   "version": "3.12.4"
  }
 },
 "nbformat": 4,
 "nbformat_minor": 5
}
