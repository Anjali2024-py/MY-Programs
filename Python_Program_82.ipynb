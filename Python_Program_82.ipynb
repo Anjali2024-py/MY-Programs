{
 "cells": [
  {
   "cell_type": "code",
   "execution_count": 8,
   "id": "3f8827cb-bcb5-4a40-91eb-7ed472449477",
   "metadata": {},
   "outputs": [
    {
     "name": "stdout",
     "output_type": "stream",
     "text": [
      "Resource allocation\n",
      "An error occured\n",
      "Cleaning up resources.\n"
     ]
    }
   ],
   "source": [
    "#Using Finally\n",
    "def resource_management():\n",
    "    try:\n",
    "        print(\"Resource allocation\")\n",
    "        #simultate an error\n",
    "        raise Exception(\"An error occured\")\n",
    "    except Exception as e:\n",
    "        print(e)\n",
    "    finally:\n",
    "        print(\"Cleaning up resources.\")\n",
    "\n",
    "resource_management()"
   ]
  },
  {
   "cell_type": "code",
   "execution_count": 12,
   "id": "5a44fffe-bdc8-40d7-80c5-d7c7e6bf5427",
   "metadata": {},
   "outputs": [
    {
     "name": "stdout",
     "output_type": "stream",
     "text": [
      "Cannot Concatenate a string and an integer.\n"
     ]
    }
   ],
   "source": [
    "#TryError Handling\n",
    "try:\n",
    "    result='Hello'+5\n",
    "    print(result)\n",
    "except TypeError:\n",
    "    print(\"Cannot Concatenate a string and an integer.\")"
   ]
  },
  {
   "cell_type": "code",
   "execution_count": 13,
   "id": "2c66facc-eeea-497b-b53a-38b796f045df",
   "metadata": {},
   "outputs": [
    {
     "name": "stdout",
     "output_type": "stream",
     "text": [
      "Index Out of range\n"
     ]
    }
   ],
   "source": [
    "#Index Error Handling\n",
    "my_list=[1,2,3]\n",
    "try:\n",
    "    print(my_list[5])\n",
    "except IndexError:\n",
    "    print(\"Index Out of range\")"
   ]
  },
  {
   "cell_type": "code",
   "execution_count": 14,
   "id": "219af12f-5b0e-470e-805b-71dd62789132",
   "metadata": {},
   "outputs": [
    {
     "name": "stdout",
     "output_type": "stream",
     "text": [
      "Key not found in the dictionary\n"
     ]
    }
   ],
   "source": [
    "#Key Error Handling\n",
    "my_dict={'a':1,'b':2}\n",
    "try:\n",
    "    value=my_dict['c']\n",
    "\n",
    "except KeyError:\n",
    "    print(\"Key not found in the dictionary\")"
   ]
  },
  {
   "cell_type": "code",
   "execution_count": 16,
   "id": "2ad4f1ed-1525-4ee8-8e86-aea6ce1adb52",
   "metadata": {},
   "outputs": [],
   "source": [
    "# File writing with exception handling\n",
    "try:\n",
    "    with open(\"Output.txt\", \"w\") as file:\n",
    "        file.write(\"Hello, world!\")\n",
    "except IOError:\n",
    "    print(\"An error occurred while writing to the file.\")\n"
   ]
  },
  {
   "cell_type": "code",
   "execution_count": null,
   "id": "d88838a8-800e-4e5a-8342-7e936f4ca151",
   "metadata": {},
   "outputs": [],
   "source": []
  }
 ],
 "metadata": {
  "kernelspec": {
   "display_name": "Python 3 (ipykernel)",
   "language": "python",
   "name": "python3"
  },
  "language_info": {
   "codemirror_mode": {
    "name": "ipython",
    "version": 3
   },
   "file_extension": ".py",
   "mimetype": "text/x-python",
   "name": "python",
   "nbconvert_exporter": "python",
   "pygments_lexer": "ipython3",
   "version": "3.12.4"
  }
 },
 "nbformat": 4,
 "nbformat_minor": 5
}
