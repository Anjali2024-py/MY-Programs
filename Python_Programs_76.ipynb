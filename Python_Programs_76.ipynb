{
 "cells": [
  {
   "cell_type": "code",
   "execution_count": 1,
   "id": "4d4bf2c0-a4dd-43d3-a9e6-e0ff4f91d10e",
   "metadata": {},
   "outputs": [
    {
     "name": "stdout",
     "output_type": "stream",
     "text": [
      "['.pdf', '.jpeg', '.zip']\n"
     ]
    }
   ],
   "source": [
    "#python programs on regular expressions with solution and explanations\n",
    "import re\n",
    "\n",
    "def extract_file_extensions(filenames):\n",
    "    pattern = r'\\.\\w+$'\n",
    "    return [re.search(pattern, filename).group() for filename in filenames if re.search(pattern, filename)]\n",
    "\n",
    "filenames = [\"document.pdf\", \"image.jpeg\", \"archive.zip\", \"notes\"]\n",
    "extensions = extract_file_extensions(filenames)\n",
    "print(extensions)  # Output: ['.pdf', '.jpeg', '.zip']\n"
   ]
  },
  {
   "cell_type": "code",
   "execution_count": 2,
   "id": "1e3e3d46-36cb-4437-bc40-f25e8aaa1efe",
   "metadata": {},
   "outputs": [
    {
     "name": "stdout",
     "output_type": "stream",
     "text": [
      "I have [NUMBER] apples and [NUMBER] oranges.\n"
     ]
    }
   ],
   "source": [
    "#Replace all numbers in a string with a placeholder like [NUMBER]\n",
    "import re\n",
    "\n",
    "def replace_numbers(text):\n",
    "    pattern = r'\\d+'\n",
    "    return re.sub(pattern, '[NUMBER]', text)\n",
    "\n",
    "text = \"I have 2 apples and 10 oranges.\"\n",
    "replaced_text = replace_numbers(text)\n",
    "print(replaced_text)  # Output: \"I have [NUMBER] apples and [NUMBER] oranges.\"\n"
   ]
  },
  {
   "cell_type": "code",
   "execution_count": 3,
   "id": "6f4dadde-9fc3-4a9a-8a72-0879b05610a5",
   "metadata": {},
   "outputs": [
    {
     "name": "stdout",
     "output_type": "stream",
     "text": [
      "3\n"
     ]
    }
   ],
   "source": [
    "#Count the number of sentences in a text\n",
    "import re\n",
    "\n",
    "def count_sentences(text):\n",
    "    pattern = r'[.!?]+'\n",
    "    return len(re.findall(pattern, text))\n",
    "\n",
    "text = \"This is the first sentence. And this is the second? Is this the third!\"\n",
    "sentence_count = count_sentences(text)\n",
    "print(sentence_count)  # Output: 3\n"
   ]
  },
  {
   "cell_type": "code",
   "execution_count": 4,
   "id": "75aa6c4c-bdbf-454a-a21c-14081e502db4",
   "metadata": {},
   "outputs": [
    {
     "name": "stdout",
     "output_type": "stream",
     "text": [
      "['This', 'is', 'a']\n"
     ]
    }
   ],
   "source": [
    "#Extract the first N words from a given string\n",
    "import re\n",
    "\n",
    "def extract_first_n_words(text, n):\n",
    "    pattern = r'\\b\\w+\\b'\n",
    "    words = re.findall(pattern, text)\n",
    "    return words[:n]\n",
    "\n",
    "text = \"This is a simple example to demonstrate.\"\n",
    "first_words = extract_first_n_words(text, 3)\n",
    "print(first_words)  # Output: ['This', 'is', 'a']\n"
   ]
  },
  {
   "cell_type": "code",
   "execution_count": 5,
   "id": "0dd4b3c0-917a-47fb-b180-b1f9934f676c",
   "metadata": {},
   "outputs": [
    {
     "name": "stdout",
     "output_type": "stream",
     "text": [
      "['This is a paragraph.', 'This is another one.']\n"
     ]
    }
   ],
   "source": [
    "#Extract content between specified HTML-like tags\n",
    "import re\n",
    "\n",
    "def extract_between_tags(text, tag):\n",
    "    pattern = rf'<{tag}>(.*?)</{tag}>'\n",
    "    return re.findall(pattern, text)\n",
    "\n",
    "html_text = \"<p>This is a paragraph.</p><p>This is another one.</p>\"\n",
    "content = extract_between_tags(html_text, 'p')\n",
    "print(content)  # Output: ['This is a paragraph.', 'This is another one.']\n"
   ]
  },
  {
   "cell_type": "code",
   "execution_count": null,
   "id": "5fa19b89-5792-4d92-b07c-c41654a9a6b4",
   "metadata": {},
   "outputs": [],
   "source": []
  }
 ],
 "metadata": {
  "kernelspec": {
   "display_name": "Python 3 (ipykernel)",
   "language": "python",
   "name": "python3"
  },
  "language_info": {
   "codemirror_mode": {
    "name": "ipython",
    "version": 3
   },
   "file_extension": ".py",
   "mimetype": "text/x-python",
   "name": "python",
   "nbconvert_exporter": "python",
   "pygments_lexer": "ipython3",
   "version": "3.12.4"
  }
 },
 "nbformat": 4,
 "nbformat_minor": 5
}
