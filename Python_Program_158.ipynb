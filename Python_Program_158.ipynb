{
 "cells": [
  {
   "cell_type": "code",
   "execution_count": 1,
   "id": "d588534a-2bb1-44e8-9f0b-23bf7e8de191",
   "metadata": {},
   "outputs": [
    {
     "name": "stdout",
     "output_type": "stream",
     "text": [
      "True\n"
     ]
    }
   ],
   "source": [
    "my_list = [0, 1, 2, 3]\n",
    "result = any(my_list)\n",
    "print(result)  "
   ]
  },
  {
   "cell_type": "code",
   "execution_count": 3,
   "id": "67f001b3-0871-4621-a4d2-4f7e26bc52e3",
   "metadata": {},
   "outputs": [
    {
     "name": "stdout",
     "output_type": "stream",
     "text": [
      "False\n"
     ]
    }
   ],
   "source": [
    "my_list=[0,False,None,'']\n",
    "result=any(my_list)\n",
    "print(result)"
   ]
  },
  {
   "cell_type": "code",
   "execution_count": 4,
   "id": "da4607f2-7018-42e7-a930-d5dd83c9ecef",
   "metadata": {},
   "outputs": [
    {
     "name": "stdout",
     "output_type": "stream",
     "text": [
      "True\n"
     ]
    }
   ],
   "source": [
    "my_list = [False, False, True, False]\n",
    "result = any(my_list)\n",
    "print(result)  "
   ]
  },
  {
   "cell_type": "code",
   "execution_count": 5,
   "id": "a9cc5d76-40d7-4c5c-aebc-a917a6094618",
   "metadata": {},
   "outputs": [
    {
     "name": "stdout",
     "output_type": "stream",
     "text": [
      "False\n"
     ]
    }
   ],
   "source": [
    "my_list = []\n",
    "result = any(my_list)\n",
    "print(result) \n"
   ]
  },
  {
   "cell_type": "code",
   "execution_count": 6,
   "id": "a6a7083f-d56e-4ce3-80e2-373e18f247f9",
   "metadata": {},
   "outputs": [
    {
     "name": "stdout",
     "output_type": "stream",
     "text": [
      "True\n"
     ]
    }
   ],
   "source": [
    "my_list = ['', 'hello', '']\n",
    "result = any(my_list)\n",
    "print(result) "
   ]
  },
  {
   "cell_type": "code",
   "execution_count": 7,
   "id": "6ecadfa2-282c-4b13-a07a-5dc7c0feda10",
   "metadata": {},
   "outputs": [
    {
     "name": "stdout",
     "output_type": "stream",
     "text": [
      "True\n"
     ]
    }
   ],
   "source": [
    "my_list = [2, 4, 6, 7]\n",
    "result = any(x > 5 for x in my_list)\n",
    "print(result) "
   ]
  },
  {
   "cell_type": "code",
   "execution_count": 8,
   "id": "926c320c-5507-4957-9031-15e1ad4e9350",
   "metadata": {},
   "outputs": [
    {
     "name": "stdout",
     "output_type": "stream",
     "text": [
      "True\n"
     ]
    }
   ],
   "source": [
    "my_list = [2, 4, 6, 8, 9]\n",
    "result = any(x % 2 != 0 for x in my_list)\n",
    "print(result)  "
   ]
  },
  {
   "cell_type": "code",
   "execution_count": 9,
   "id": "881d189d-ef86-4481-9b7b-3a58b8590e6d",
   "metadata": {},
   "outputs": [
    {
     "name": "stdout",
     "output_type": "stream",
     "text": [
      "True\n"
     ]
    }
   ],
   "source": [
    "my_list = [False, False, True]\n",
    "result = any(my_list)\n",
    "print(result) "
   ]
  },
  {
   "cell_type": "code",
   "execution_count": 11,
   "id": "3e3bacad-2046-4076-adc1-179c6a58c726",
   "metadata": {},
   "outputs": [
    {
     "name": "stdout",
     "output_type": "stream",
     "text": [
      "True\n"
     ]
    }
   ],
   "source": [
    "my_list = [None, 0, 'yes', False]\n",
    "result = any(my_list)\n",
    "print(result) "
   ]
  },
  {
   "cell_type": "code",
   "execution_count": null,
   "id": "3bbe2578-a60f-4087-90ce-6cb39d2a275f",
   "metadata": {},
   "outputs": [],
   "source": []
  }
 ],
 "metadata": {
  "kernelspec": {
   "display_name": "Python 3 (ipykernel)",
   "language": "python",
   "name": "python3"
  },
  "language_info": {
   "codemirror_mode": {
    "name": "ipython",
    "version": 3
   },
   "file_extension": ".py",
   "mimetype": "text/x-python",
   "name": "python",
   "nbconvert_exporter": "python",
   "pygments_lexer": "ipython3",
   "version": "3.12.4"
  }
 },
 "nbformat": 4,
 "nbformat_minor": 5
}
