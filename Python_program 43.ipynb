{
 "cells": [
  {
   "cell_type": "code",
   "execution_count": 3,
   "id": "bf6ecce2-9ee9-4bd9-b263-cb28b43d4a68",
   "metadata": {},
   "outputs": [
    {
     "name": "stdout",
     "output_type": "stream",
     "text": [
      "[1, 4, 9, 16, 25, 36, 49, 64, 81, 100]\n"
     ]
    }
   ],
   "source": [
    "#Generates the squares of the lists\n",
    "square=[]\n",
    "for i in range(1,11):\n",
    "    square.append(i**2)\n",
    "print(square)"
   ]
  },
  {
   "cell_type": "code",
   "execution_count": 4,
   "id": "7323abc4-8779-493c-9b97-11fcbed39864",
   "metadata": {},
   "outputs": [
    {
     "name": "stdout",
     "output_type": "stream",
     "text": [
      "P\n",
      "y\n",
      "t\n",
      "h\n",
      "o\n",
      "n\n"
     ]
    }
   ],
   "source": [
    "#Print each Char in a string\n",
    "text='Python'\n",
    "for char in text:\n",
    "    print(char)"
   ]
  },
  {
   "cell_type": "code",
   "execution_count": 12,
   "id": "6491d228-c352-4efd-ab20-07a2cca8feba",
   "metadata": {},
   "outputs": [
    {
     "name": "stdout",
     "output_type": "stream",
     "text": [
      "apple , banana , cherry , "
     ]
    }
   ],
   "source": [
    "#Iterate over a list and print each element\n",
    "fruits=['apple','banana','cherry']\n",
    "for fruit in fruits:\n",
    "    print(fruit,',',end=' ')"
   ]
  },
  {
   "cell_type": "code",
   "execution_count": 19,
   "id": "0c11fff5-117e-42bd-bdb8-c92a515cd55f",
   "metadata": {},
   "outputs": [
    {
     "name": "stdout",
     "output_type": "stream",
     "text": [
      "numbers of vowel in string : 3\n"
     ]
    }
   ],
   "source": [
    "#Counts the numbers of vowls in a string\n",
    "string='hello,world'\n",
    "vowels='aieou'\n",
    "count=0\n",
    "for char in string:\n",
    "    if char.lower() in vowels:\n",
    "        count=count+1\n",
    "print(f\"numbers of vowel in string : {count}\")\n",
    "        "
   ]
  },
  {
   "cell_type": "code",
   "execution_count": 20,
   "id": "2d85c106-9cba-4788-a21a-b5307614692b",
   "metadata": {},
   "outputs": [
    {
     "name": "stdin",
     "output_type": "stream",
     "text": [
      "Enter limit of fabonacci Sequence: 5\n"
     ]
    },
    {
     "name": "stdout",
     "output_type": "stream",
     "text": [
      "0\n",
      "1\n",
      "1\n",
      "2\n",
      "3\n",
      "5\n"
     ]
    }
   ],
   "source": [
    "#print fabonacci Sequences:\n",
    "n=int(input(\"Enter limit of fabonacci Sequence:\"))\n",
    "a,b=0,1\n",
    "while a<=n:\n",
    "    print(a)\n",
    "    a,b=b,a+b"
   ]
  },
  {
   "cell_type": "code",
   "execution_count": 23,
   "id": "4be78334-2201-41c2-9c29-f2e0825d0eb3",
   "metadata": {},
   "outputs": [
    {
     "name": "stdout",
     "output_type": "stream",
     "text": [
      "uppercase_strings is ['HELLO', 'HI', 'WORLD', 'PYTHON']\n"
     ]
    }
   ],
   "source": [
    "#Converts each strings into uppercase:\n",
    "string=['hello','hi','world','python']\n",
    "uppercase_strings=[s.upper() for s in string]\n",
    "print('uppercase_strings is',uppercase_strings)"
   ]
  },
  {
   "cell_type": "code",
   "execution_count": 29,
   "id": "cba92de6-b95c-4cae-a365-e7a31af7b5e9",
   "metadata": {},
   "outputs": [
    {
     "name": "stdout",
     "output_type": "stream",
     "text": [
      "character counts: {'p': 1, 'r': 2, 'o': 1, 'g': 2, 'a': 1, 'm': 2, 'i': 1, 'n': 1}\n"
     ]
    }
   ],
   "source": [
    "#Counts the occurance of each char in a string\n",
    "String='programming'\n",
    "char_Count={}\n",
    "for char in String:\n",
    "    if char in char_Count:\n",
    "        char_Count[char]+=1\n",
    "    else:\n",
    "        char_Count[char]=1\n",
    "print('character counts:',char_Count)"
   ]
  },
  {
   "cell_type": "code",
   "execution_count": 36,
   "id": "c11ca177-6b6e-43e0-9cdb-cac92aaf2281",
   "metadata": {},
   "outputs": [
    {
     "name": "stdin",
     "output_type": "stream",
     "text": [
      "Enter the no.of fabonacci no.s to generates: 5\n"
     ]
    },
    {
     "name": "stdout",
     "output_type": "stream",
     "text": [
      "fabonacci numbers [0, 1, 1, 2, 3]\n"
     ]
    }
   ],
   "source": [
    "#Generates a list of fabonacci numbers:\n",
    "n=int(input(\"Enter the no.of fabonacci no.s to generates:\"))\n",
    "fib_list=[0,1]\n",
    "for i in range(2,n):\n",
    "    fib_list.append(fib_list[-1]+fib_list[-2])\n",
    "print('fabonacci numbers',fib_list[:n])"
   ]
  },
  {
   "cell_type": "code",
   "execution_count": 39,
   "id": "7e54c302-d519-4c31-8a4e-f540d87210e6",
   "metadata": {},
   "outputs": [
    {
     "name": "stdout",
     "output_type": "stream",
     "text": [
      "Reversed list [5, 4, 3, 2, 1]\n"
     ]
    }
   ],
   "source": [
    "#Reverse a list\n",
    "numbers=[1,2,3,4,5]\n",
    "reversed_numbers=[]\n",
    "for i in range(len(numbers)-1,-1,-1):\n",
    "    reversed_numbers.append(numbers[i])\n",
    "print(\"Reversed list\",reversed_numbers)"
   ]
  },
  {
   "cell_type": "code",
   "execution_count": null,
   "id": "12104852-e62b-4426-b6e7-c218e2b33bf8",
   "metadata": {},
   "outputs": [],
   "source": []
  }
 ],
 "metadata": {
  "kernelspec": {
   "display_name": "Python 3 (ipykernel)",
   "language": "python",
   "name": "python3"
  },
  "language_info": {
   "codemirror_mode": {
    "name": "ipython",
    "version": 3
   },
   "file_extension": ".py",
   "mimetype": "text/x-python",
   "name": "python",
   "nbconvert_exporter": "python",
   "pygments_lexer": "ipython3",
   "version": "3.12.4"
  }
 },
 "nbformat": 4,
 "nbformat_minor": 5
}
