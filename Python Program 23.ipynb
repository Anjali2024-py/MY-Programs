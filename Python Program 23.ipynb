{
 "cells": [
  {
   "cell_type": "code",
   "execution_count": 10,
   "id": "c7942841-a319-4745-9588-e00fc53e89a7",
   "metadata": {},
   "outputs": [
    {
     "name": "stdout",
     "output_type": "stream",
     "text": [
      "Infinity\n"
     ]
    }
   ],
   "source": [
    "try:\n",
    "   result = 10 / 0\n",
    "except ZeroDivisionError:\n",
    "   result = \"Infinity\"\n",
    "\n",
    "print(result)\n"
   ]
  },
  {
   "cell_type": "code",
   "execution_count": 12,
   "id": "9c07f421-f593-4228-a851-58b0dceacfd0",
   "metadata": {},
   "outputs": [
    {
     "data": {
      "text/plain": [
       "2"
      ]
     },
     "execution_count": 12,
     "metadata": {},
     "output_type": "execute_result"
    }
   ],
   "source": [
    "def foo():\n",
    "    try:\n",
    "        return (1)\n",
    "    finally:\n",
    "        return (2)\n",
    "foo()"
   ]
  },
  {
   "cell_type": "code",
   "execution_count": 13,
   "id": "729d7e01-999c-4809-97d0-f341a28381ea",
   "metadata": {},
   "outputs": [
    {
     "name": "stdout",
     "output_type": "stream",
     "text": [
      "1\n",
      "2\n"
     ]
    }
   ],
   "source": [
    "def foo():\n",
    "    try:\n",
    "        print(1)\n",
    "    finally:\n",
    "        print(2)\n",
    "foo()"
   ]
  },
  {
   "cell_type": "code",
   "execution_count": 9,
   "id": "b6ac81ae-bbea-4ebd-a5c4-63808a196cae",
   "metadata": {},
   "outputs": [
    {
     "name": "stdout",
     "output_type": "stream",
     "text": [
      "12\n",
      "po\n",
      "100\n",
      "unsupported operand type(s) for +: 'int' and 'str'\n",
      "Exicution completed\n"
     ]
    }
   ],
   "source": [
    "def addnumber(num1,num2):\n",
    "    try:\n",
    "        return (num1+num2)\n",
    "    except Exception as e:\n",
    "        return (e)\n",
    "print(addnumber(4,8))\n",
    "print(addnumber(\"p\",\"o\"))\n",
    "print(addnumber(99,1))\n",
    "print(addnumber(4,\"k\"))\n",
    "print(\"Exicution completed\")"
   ]
  },
  {
   "cell_type": "code",
   "execution_count": 15,
   "id": "7bf8e19a-5466-4444-afd7-fad055706ddf",
   "metadata": {},
   "outputs": [
    {
     "name": "stdout",
     "output_type": "stream",
     "text": [
      "someError has occurred\n"
     ]
    }
   ],
   "source": [
    "try:\n",
    "    if '1' != 1:\n",
    "        raise \"someError\"\n",
    "    else:\n",
    "        print(\"someError has not occurred\")\n",
    "except :\n",
    "    print (\"someError has occurred\")"
   ]
  },
  {
   "cell_type": "code",
   "execution_count": 16,
   "id": "7df29176-d2e1-432b-aa9b-32c096ab4033",
   "metadata": {},
   "outputs": [
    {
     "name": "stdout",
     "output_type": "stream",
     "text": [
      "This variable is not defined.\n"
     ]
    }
   ],
   "source": [
    "try:\n",
    "    print(undefined_variable)\n",
    "except NameError:\n",
    "    print(\"This variable is not defined.\")"
   ]
  },
  {
   "cell_type": "code",
   "execution_count": 17,
   "id": "88b71a9f-0f65-4e0a-983e-8c50faad19a7",
   "metadata": {},
   "outputs": [
    {
     "name": "stdout",
     "output_type": "stream",
     "text": [
      "Result is 5.0\n"
     ]
    }
   ],
   "source": [
    "try:\n",
    "    result = 10 / 2\n",
    "except Exception as e:\n",
    "    print(e)\n",
    "else:\n",
    "    print(\"Result is\", result)"
   ]
  },
  {
   "cell_type": "code",
   "execution_count": 18,
   "id": "90f20b97-83c0-420e-8de3-fabfb641c1cc",
   "metadata": {},
   "outputs": [
    {
     "name": "stdout",
     "output_type": "stream",
     "text": [
      "Zero Division Error\n"
     ]
    }
   ],
   "source": [
    "try:\n",
    "    result = 10 / 0\n",
    "except :\n",
    "    print(\"Zero Division Error\")\n",
    "else:\n",
    "    print(\"Result is\", result)"
   ]
  },
  {
   "cell_type": "code",
   "execution_count": 19,
   "id": "54d82b13-a5a0-4f2d-8c28-c5d1f0c6ecd2",
   "metadata": {},
   "outputs": [
    {
     "name": "stdout",
     "output_type": "stream",
     "text": [
      "An error occurred: division by zero\n",
      "An error occurred: name 'undefined_variable' is not defined\n"
     ]
    }
   ],
   "source": [
    "try:\n",
    "    result = 10 / 0\n",
    "except Exception as e:\n",
    "    print(\"An error occurred:\", str(e))\n",
    "try:\n",
    "    print(undefined_variable)\n",
    "except Exception as e:\n",
    "    print(\"An error occurred:\", str(e))"
   ]
  },
  {
   "cell_type": "code",
   "execution_count": 20,
   "id": "27973799-f854-4902-8194-5b6d12e6cf4d",
   "metadata": {},
   "outputs": [
    {
     "name": "stdout",
     "output_type": "stream",
     "text": [
      "An error occurred: Only positive values are allowed.\n"
     ]
    }
   ],
   "source": [
    "try:\n",
    "    x = -1\n",
    "    assert x >= 0, \"Only positive values are allowed.\"\n",
    "except AssertionError as e:\n",
    "    print(\"An error occurred:\", str(e))"
   ]
  },
  {
   "cell_type": "code",
   "execution_count": null,
   "id": "2fade748-16c6-4567-94d5-5a0f65ba3d94",
   "metadata": {},
   "outputs": [],
   "source": []
  }
 ],
 "metadata": {
  "kernelspec": {
   "display_name": "Python 3 (ipykernel)",
   "language": "python",
   "name": "python3"
  },
  "language_info": {
   "codemirror_mode": {
    "name": "ipython",
    "version": 3
   },
   "file_extension": ".py",
   "mimetype": "text/x-python",
   "name": "python",
   "nbconvert_exporter": "python",
   "pygments_lexer": "ipython3",
   "version": "3.12.4"
  }
 },
 "nbformat": 4,
 "nbformat_minor": 5
}
