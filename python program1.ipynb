{
 "cells": [
  {
   "cell_type": "code",
   "execution_count": 3,
   "id": "34b764ce-2fc3-48ea-b088-60187a30ecb7",
   "metadata": {},
   "outputs": [
    {
     "name": "stdin",
     "output_type": "stream",
     "text": [
      "enter side value 4\n"
     ]
    },
    {
     "name": "stdout",
     "output_type": "stream",
     "text": [
      "Area Of Square: 16.0\n"
     ]
    }
   ],
   "source": [
    "#AREA OF SQUARE\n",
    "side=float(input(\"enter side value\"))\n",
    "AOS=side*side\n",
    "print(\"Area Of Square:\",AOS)"
   ]
  },
  {
   "cell_type": "code",
   "execution_count": 4,
   "id": "7ea9a62d-ea08-44c7-a9f8-ced6b23d96db",
   "metadata": {},
   "outputs": [
    {
     "name": "stdin",
     "output_type": "stream",
     "text": [
      "enter length value 5\n",
      "enter width value 2\n"
     ]
    },
    {
     "name": "stdout",
     "output_type": "stream",
     "text": [
      "Area Of Rectangle: 10.0\n"
     ]
    }
   ],
   "source": [
    "#Area of Rectangle\n",
    "length=float(input(\"enter length value\"))\n",
    "width=float(input(\"enter width value\"))\n",
    "AOR=length*width\n",
    "print(\"Area Of Rectangle:\",AOR)\n",
    "            "
   ]
  },
  {
   "cell_type": "code",
   "execution_count": 7,
   "id": "b35064fc-ef9f-4805-a051-f2e3c58c5463",
   "metadata": {},
   "outputs": [
    {
     "name": "stdin",
     "output_type": "stream",
     "text": [
      "enter radius value 5\n"
     ]
    },
    {
     "name": "stdout",
     "output_type": "stream",
     "text": [
      "Area Of Circle: 78.5\n"
     ]
    }
   ],
   "source": [
    "#AREA OF CIRCLE\n",
    "radius=float(input(\"enter radius value\"))\n",
    "AOC=3.14*radius*radius\n",
    "print(\"Area Of Circle:\",AOC)\n",
    "        "
   ]
  },
  {
   "cell_type": "code",
   "execution_count": 9,
   "id": "18762bf8-0934-497a-845e-baa7d3864c36",
   "metadata": {},
   "outputs": [
    {
     "name": "stdin",
     "output_type": "stream",
     "text": [
      "enter base value 2\n",
      "enter height value 3\n"
     ]
    },
    {
     "name": "stdout",
     "output_type": "stream",
     "text": [
      "Area Of Triangle: 3.0\n"
     ]
    }
   ],
   "source": [
    "#AREA OF TRIANGLE\n",
    "base=float(input(\"enter base value\"))\n",
    "height=float(input(\"enter height value\"))\n",
    "AOT=1/2*base*height\n",
    "print(\"Area Of Triangle:\",AOT)"
   ]
  },
  {
   "cell_type": "code",
   "execution_count": 10,
   "id": "dd59546f-a6bc-48d1-8c21-3e85b430de23",
   "metadata": {},
   "outputs": [
    {
     "name": "stdin",
     "output_type": "stream",
     "text": [
      "enter value of base1 2\n",
      "enter value of base2 2\n",
      "enter value of vertical height 3\n"
     ]
    },
    {
     "name": "stdout",
     "output_type": "stream",
     "text": [
      "Area Of TRapezoid: 6.0\n"
     ]
    }
   ],
   "source": [
    "#AREA OF TRAPEZOID\n",
    "base1=float(input(\"enter value of base1\"))\n",
    "base2=float(input(\"enter value of base2\"))\n",
    "height=float(input(\"enter value of vertical height\"))\n",
    "AOT=1/2*(base1+base2)*height\n",
    "print(\"Area Of TRapezoid:\",AOT)\n",
    "            "
   ]
  },
  {
   "cell_type": "code",
   "execution_count": 11,
   "id": "1b9b42b7-09ac-4489-92c4-f3847d4da73d",
   "metadata": {},
   "outputs": [
    {
     "name": "stdin",
     "output_type": "stream",
     "text": [
      "enter value of radius of major axis 2\n",
      "enter value of radius of minor axis 1\n"
     ]
    },
    {
     "name": "stdout",
     "output_type": "stream",
     "text": [
      "Area Of Ellipse: 6.28\n"
     ]
    }
   ],
   "source": [
    "#AREA OF EELIPSE\n",
    "radius1=float(input(\"enter value of radius of major axis\"))\n",
    "radius2=float(input(\"enter value of radius of minor axis\"))\n",
    "AOE=3.14*radius1*radius2\n",
    "print(\"Area Of Ellipse:\",AOE)"
   ]
  },
  {
   "cell_type": "code",
   "execution_count": 17,
   "id": "1f7094d8-bca0-4955-a265-b3363b07cb3c",
   "metadata": {},
   "outputs": [
    {
     "name": "stdin",
     "output_type": "stream",
     "text": [
      "enter radius value 3\n"
     ]
    },
    {
     "name": "stdout",
     "output_type": "stream",
     "text": [
      "length: 18.84\n"
     ]
    }
   ],
   "source": [
    "#leght\n",
    "radius=int(input(\"enter radius value\"))\n",
    "res=2*3.14*radius\n",
    "print(\"length:\",res)"
   ]
  },
  {
   "cell_type": "code",
   "execution_count": 18,
   "id": "e24b6dc9-fb4c-4426-86e2-d442bc847ba9",
   "metadata": {},
   "outputs": [
    {
     "name": "stdin",
     "output_type": "stream",
     "text": [
      "enter force value 2\n",
      "enter acce value 5\n"
     ]
    },
    {
     "name": "stdout",
     "output_type": "stream",
     "text": [
      "Mass Of an Object: 0.4\n"
     ]
    }
   ],
   "source": [
    "#to calculate the Mass, m=f/a\n",
    "force=int(input(\"enter force value\"))\n",
    "acce=int(input(\"enter acce value\"))\n",
    "Mass=force/acce\n",
    "print(\"Mass Of an Object:\",Mass)"
   ]
  },
  {
   "cell_type": "code",
   "execution_count": 20,
   "id": "dd94c247-7025-4308-aa2e-8b949172c1d5",
   "metadata": {},
   "outputs": [
    {
     "name": "stdin",
     "output_type": "stream",
     "text": [
      "enter mass value 6\n",
      "enter accel value 8\n"
     ]
    },
    {
     "name": "stdout",
     "output_type": "stream",
     "text": [
      "Force of an object: 48\n"
     ]
    }
   ],
   "source": [
    "#to malculate the force, f=m*a\n",
    "mass=int(input(\"enter mass value\"))\n",
    "accel=int(input(\"enter accel value\"))\n",
    "force=mass*accel\n",
    "print(\"Force of an object:\",force)"
   ]
  },
  {
   "cell_type": "code",
   "execution_count": 23,
   "id": "7e07e977-561b-422e-97d1-17b4396405e8",
   "metadata": {},
   "outputs": [
    {
     "name": "stdout",
     "output_type": "stream",
     "text": [
      "b is greater\n"
     ]
    }
   ],
   "source": [
    "a=6\n",
    "b=9\n",
    "if(a>b):\n",
    "    print(\"a is greater\")\n",
    "else:\n",
    "    print(\"b is greater\")"
   ]
  },
  {
   "cell_type": "code",
   "execution_count": null,
   "id": "e157ae36-6e5e-4e7e-9a0c-ed60dd96805a",
   "metadata": {},
   "outputs": [],
   "source": []
  }
 ],
 "metadata": {
  "kernelspec": {
   "display_name": "Python 3 (ipykernel)",
   "language": "python",
   "name": "python3"
  },
  "language_info": {
   "codemirror_mode": {
    "name": "ipython",
    "version": 3
   },
   "file_extension": ".py",
   "mimetype": "text/x-python",
   "name": "python",
   "nbconvert_exporter": "python",
   "pygments_lexer": "ipython3",
   "version": "3.12.4"
  }
 },
 "nbformat": 4,
 "nbformat_minor": 5
}
