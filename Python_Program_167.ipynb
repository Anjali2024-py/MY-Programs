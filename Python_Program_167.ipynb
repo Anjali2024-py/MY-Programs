{
 "cells": [
  {
   "cell_type": "code",
   "execution_count": 2,
   "id": "352986ee-e936-472a-b331-ce28b1dec388",
   "metadata": {},
   "outputs": [
    {
     "name": "stdout",
     "output_type": "stream",
     "text": [
      "40\n",
      "[10, 20, 30]\n"
     ]
    }
   ],
   "source": [
    "numbers = [10, 20, 30, 40]\n",
    "last_element = numbers.pop()\n",
    "print(last_element)\n",
    "print(numbers)"
   ]
  },
  {
   "cell_type": "code",
   "execution_count": 3,
   "id": "64a98ed8-bed3-4dd0-aa2f-97249d85004e",
   "metadata": {},
   "outputs": [
    {
     "name": "stdout",
     "output_type": "stream",
     "text": [
      "banana\n",
      "['apple', 'cherry']\n"
     ]
    }
   ],
   "source": [
    "fruits = [\"apple\", \"banana\", \"cherry\"]\n",
    "removed_fruit = fruits.pop(1)  # Removes and returns the element at index 1\n",
    "print(removed_fruit)  \n",
    "print(fruits)  \n"
   ]
  },
  {
   "cell_type": "code",
   "execution_count": 7,
   "id": "acbd126c-1f54-4ae9-9b1b-d3caa071feda",
   "metadata": {},
   "outputs": [
    {
     "name": "stdout",
     "output_type": "stream",
     "text": [
      "Cannot pop from an empty list\n"
     ]
    }
   ],
   "source": [
    "empty_list=[]\n",
    "try:\n",
    "    empty_list.pop()\n",
    "except IndexError:\n",
    "    print('Cannot pop from an empty list')"
   ]
  },
  {
   "cell_type": "code",
   "execution_count": 8,
   "id": "ec4002bc-2554-4d76-981c-addf65860d93",
   "metadata": {},
   "outputs": [
    {
     "name": "stdout",
     "output_type": "stream",
     "text": [
      "True\n",
      "[1, 'hello', 3.14]\n"
     ]
    }
   ],
   "source": [
    "mixed_list = [1, \"hello\", 3.14, True]\n",
    "removed_element = mixed_list.pop()\n",
    "print(removed_element)  # Output: True\n",
    "print(mixed_list)  "
   ]
  },
  {
   "cell_type": "code",
   "execution_count": 9,
   "id": "b8b56d2b-49a7-4081-b240-0d98086e3c27",
   "metadata": {},
   "outputs": [
    {
     "name": "stdout",
     "output_type": "stream",
     "text": [
      "15\n",
      "[5, 10, 20]\n"
     ]
    }
   ],
   "source": [
    "numbers = [5, 10, 15, 20]\n",
    "removed_element = numbers.pop(2)  # Removes the element at index 2 (15)\n",
    "print(removed_element) \n",
    "print(numbers)"
   ]
  },
  {
   "cell_type": "code",
   "execution_count": 10,
   "id": "93927499-9c3b-45ee-9e6d-ec86aa006955",
   "metadata": {},
   "outputs": [
    {
     "name": "stdout",
     "output_type": "stream",
     "text": [
      "rabbit\n",
      "['cat', 'dog', 'lion']\n"
     ]
    }
   ],
   "source": [
    "animals = [\"cat\", \"dog\", \"rabbit\", \"lion\"]\n",
    "removed_animal = animals.pop(-2)  # Removes the second-to-last element\n",
    "print(removed_animal) \n",
    "print(animals) "
   ]
  },
  {
   "cell_type": "code",
   "execution_count": 11,
   "id": "6354f2fa-2680-40d1-a561-974a7a009c9a",
   "metadata": {},
   "outputs": [
    {
     "name": "stdout",
     "output_type": "stream",
     "text": [
      "Index out of range\n"
     ]
    }
   ],
   "source": [
    "fruits = [\"apple\", \"banana\"]\n",
    "try:\n",
    "    fruits.pop(5)  # Invalid index\n",
    "except IndexError:\n",
    "    print(\"Index out of range\") \n"
   ]
  },
  {
   "cell_type": "code",
   "execution_count": null,
   "id": "6e00a9ca-8497-458c-ab90-7cc799be51b7",
   "metadata": {},
   "outputs": [],
   "source": []
  }
 ],
 "metadata": {
  "kernelspec": {
   "display_name": "Python 3 (ipykernel)",
   "language": "python",
   "name": "python3"
  },
  "language_info": {
   "codemirror_mode": {
    "name": "ipython",
    "version": 3
   },
   "file_extension": ".py",
   "mimetype": "text/x-python",
   "name": "python",
   "nbconvert_exporter": "python",
   "pygments_lexer": "ipython3",
   "version": "3.12.4"
  }
 },
 "nbformat": 4,
 "nbformat_minor": 5
}
