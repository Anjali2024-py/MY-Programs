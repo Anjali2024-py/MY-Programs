{
 "cells": [
  {
   "cell_type": "code",
   "execution_count": 1,
   "id": "71a1faab-c01a-415e-ac94-2bd6f317df0e",
   "metadata": {},
   "outputs": [
    {
     "name": "stdout",
     "output_type": "stream",
     "text": [
      "Index 0: Alice\n",
      "Index 1: Bob\n",
      "Index 2: Charlie\n"
     ]
    }
   ],
   "source": [
    "names = [\"Alice\", \"Bob\", \"Charlie\"]\n",
    "for index, name in enumerate(names):\n",
    "    print(f\"Index {index}: {name}\")"
   ]
  },
  {
   "cell_type": "code",
   "execution_count": 2,
   "id": "1b0684f3-d62b-4d7f-8153-5731f397eb44",
   "metadata": {},
   "outputs": [
    {
     "name": "stdout",
     "output_type": "stream",
     "text": [
      "1 * 1 = 1\n",
      "1 * 2 = 2\n",
      "1 * 3 = 3\n",
      "2 * 1 = 2\n",
      "2 * 2 = 4\n",
      "2 * 3 = 6\n",
      "3 * 1 = 3\n",
      "3 * 2 = 6\n",
      "3 * 3 = 9\n"
     ]
    }
   ],
   "source": [
    "for i in range(1, 4):\n",
    "    for j in range(1, 4):\n",
    "        print(f\"{i} * {j} = {i * j}\")\n"
   ]
  },
  {
   "cell_type": "code",
   "execution_count": 3,
   "id": "aa0d43d1-8d89-4ff4-8651-af0acf030e11",
   "metadata": {},
   "outputs": [
    {
     "name": "stdout",
     "output_type": "stream",
     "text": [
      "* * * \n",
      "* * * \n",
      "* * * \n"
     ]
    }
   ],
   "source": [
    "for i in range(3):\n",
    "    for j in range(3):\n",
    "        print('*', end=' ')\n",
    "    print()\n"
   ]
  },
  {
   "cell_type": "code",
   "execution_count": 4,
   "id": "a65c5628-8f11-4620-8645-e86ef4690a47",
   "metadata": {},
   "outputs": [
    {
     "name": "stdout",
     "output_type": "stream",
     "text": [
      "Number 3 appears 3 times\n"
     ]
    }
   ],
   "source": [
    "numbers = [1, 3, 5, 3, 7, 3]\n",
    "count = 0\n",
    "for num in numbers:\n",
    "    if num == 3:\n",
    "        count += 1\n",
    "print(\"Number 3 appears\", count, \"times\")\n"
   ]
  },
  {
   "cell_type": "code",
   "execution_count": 5,
   "id": "3cd387c0-a9c9-434b-b055-0136a3755237",
   "metadata": {},
   "outputs": [
    {
     "name": "stdout",
     "output_type": "stream",
     "text": [
      "[1, 2, 3, 4, 5, 6, 7, 8]\n"
     ]
    }
   ],
   "source": [
    "list_of_lists = [[1, 2, 3], [4, 5], [6, 7, 8]]\n",
    "flattened_list = []\n",
    "for sublist in list_of_lists:\n",
    "    for item in sublist:\n",
    "        flattened_list.append(item)\n",
    "print(flattened_list)\n"
   ]
  },
  {
   "cell_type": "code",
   "execution_count": null,
   "id": "26c1fb8d-94a5-493f-b69b-74d809b113a7",
   "metadata": {},
   "outputs": [],
   "source": []
  }
 ],
 "metadata": {
  "kernelspec": {
   "display_name": "Python 3 (ipykernel)",
   "language": "python",
   "name": "python3"
  },
  "language_info": {
   "codemirror_mode": {
    "name": "ipython",
    "version": 3
   },
   "file_extension": ".py",
   "mimetype": "text/x-python",
   "name": "python",
   "nbconvert_exporter": "python",
   "pygments_lexer": "ipython3",
   "version": "3.12.4"
  }
 },
 "nbformat": 4,
 "nbformat_minor": 5
}
