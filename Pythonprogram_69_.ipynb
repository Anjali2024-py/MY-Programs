{
 "cells": [
  {
   "cell_type": "code",
   "execution_count": 1,
   "id": "585dbd98-3f36-47ea-bc0f-b40314d68cca",
   "metadata": {},
   "outputs": [
    {
     "name": "stdout",
     "output_type": "stream",
     "text": [
      "Today's date is 2024-10-12.\n"
     ]
    }
   ],
   "source": [
    "#Replace dates in the format DD/MM/YYYY with YYYY-MM-DD\n",
    "import re\n",
    "\n",
    "def replace_dates(text):\n",
    "    pattern = r'(\\d{2})\\/(\\d{2})\\/(\\d{4})'\n",
    "    return re.sub(pattern, r'\\3-\\2-\\1', text)\n",
    "\n",
    "# Test the function\n",
    "sample_text = \"Today's date is 12/10/2024.\"\n",
    "updated_text = replace_dates(sample_text)\n",
    "print(updated_text)  # Output: \"Today's date is 2024-10-12.\"\n"
   ]
  },
  {
   "cell_type": "code",
   "execution_count": 2,
   "id": "28343a62-365c-4c49-925d-f7f3a3febde7",
   "metadata": {},
   "outputs": [
    {
     "name": "stdout",
     "output_type": "stream",
     "text": [
      "['(123) 456-7890', '(987) 654-3210']\n"
     ]
    }
   ],
   "source": [
    "#Problem Statement:\n",
    "#Given a text, extract all phone numbers in the format (123) 456-7890\n",
    "import re\n",
    "\n",
    "def extract_phone_numbers(text):\n",
    "    pattern = r'\\(\\d{3}\\) \\d{3}-\\d{4}'\n",
    "    return re.findall(pattern, text)\n",
    "\n",
    "# Test the function\n",
    "sample_text = \"Contact us at (123) 456-7890 or (987) 654-3210.\"\n",
    "phone_numbers = extract_phone_numbers(sample_text)\n",
    "print(phone_numbers)  # Output: ['(123) 456-7890', '(987) 654-3210']\n"
   ]
  },
  {
   "cell_type": "code",
   "execution_count": 3,
   "id": "476eb582-5e73-4933-bfbc-d7e4a8b42579",
   "metadata": {},
   "outputs": [
    {
     "name": "stdout",
     "output_type": "stream",
     "text": [
      "True\n"
     ]
    }
   ],
   "source": [
    "#Problem Statement:\n",
    "#Write a function that checks if a given string is a valid email address\n",
    "import re\n",
    "\n",
    "def is_valid_email(email):\n",
    "    pattern = r'^[a-zA-Z0-9._%+-]+@[a-zA-Z0-9.-]+\\.[a-zA-Z]{2,}$'\n",
    "    return re.match(pattern, email) is not None\n",
    "\n",
    "# Test the function\n",
    "email = \"test@example.com\"\n",
    "print(is_valid_email(email))  # Output: True\n"
   ]
  },
  {
   "cell_type": "code",
   "execution_count": null,
   "id": "cbbe5879-8a6a-44ab-9c1f-3f6c4ce456c8",
   "metadata": {},
   "outputs": [],
   "source": []
  }
 ],
 "metadata": {
  "kernelspec": {
   "display_name": "Python 3 (ipykernel)",
   "language": "python",
   "name": "python3"
  },
  "language_info": {
   "codemirror_mode": {
    "name": "ipython",
    "version": 3
   },
   "file_extension": ".py",
   "mimetype": "text/x-python",
   "name": "python",
   "nbconvert_exporter": "python",
   "pygments_lexer": "ipython3",
   "version": "3.12.4"
  }
 },
 "nbformat": 4,
 "nbformat_minor": 5
}
