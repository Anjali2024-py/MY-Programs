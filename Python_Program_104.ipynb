{
 "cells": [
  {
   "cell_type": "code",
   "execution_count": 1,
   "id": "e6cc6db6-6912-43cd-9eff-7964be5b9df1",
   "metadata": {},
   "outputs": [
    {
     "name": "stdout",
     "output_type": "stream",
     "text": [
      "Fibonacci(10): 55\n"
     ]
    }
   ],
   "source": [
    "class Fibonacci:\n",
    "    def __init__(self, n):\n",
    "        self._n = n\n",
    "        self._cache = {}\n",
    "\n",
    "    @property\n",
    "    def fibonacci(self):\n",
    "        if self._n in self._cache:\n",
    "            return self._cache[self._n]\n",
    "        \n",
    "        # Compute Fibonacci number and store it in the cache\n",
    "        if self._n == 0:\n",
    "            result = 0\n",
    "        elif self._n == 1:\n",
    "            result = 1\n",
    "        else:\n",
    "            result = Fibonacci(self._n - 1).fibonacci + Fibonacci(self._n - 2).fibonacci\n",
    "        \n",
    "        self._cache[self._n] = result\n",
    "        return result\n",
    "\n",
    "# Creating a Fibonacci object\n",
    "fib = Fibonacci(10)\n",
    "\n",
    "# Accessing the Fibonacci number\n",
    "print(\"Fibonacci(10):\", fib.fibonacci) "
   ]
  },
  {
   "cell_type": "code",
   "execution_count": 2,
   "id": "cbe18b36-e835-4be2-ab25-610de58a5d14",
   "metadata": {},
   "outputs": [
    {
     "name": "stdout",
     "output_type": "stream",
     "text": [
      "Celsius: 25\n",
      "Fahrenheit: 77.0\n",
      "Kelvin: 298.15\n",
      "Kelvin deleted!\n"
     ]
    }
   ],
   "source": [
    "class Temperature:\n",
    "    def __init__(self, celsius):\n",
    "        self._celsius = celsius\n",
    "    \n",
    "    @property\n",
    "    def celsius(self):\n",
    "        return self._celsius\n",
    "    \n",
    "    @celsius.setter\n",
    "    def celsius(self, value):\n",
    "        if value < -273.15:\n",
    "            raise ValueError(\"Temperature can't be below absolute zero!\")\n",
    "        self._celsius = value\n",
    "    \n",
    "    @property\n",
    "    def fahrenheit(self):\n",
    "        return (self._celsius * 9/5) + 32\n",
    "    \n",
    "    @fahrenheit.setter\n",
    "    def fahrenheit(self, value):\n",
    "        self.celsius = (value - 32) * 5/9\n",
    "\n",
    "    @property\n",
    "    def kelvin(self):\n",
    "        return self._celsius + 273.15\n",
    "    \n",
    "    @kelvin.deleter\n",
    "    def kelvin(self):\n",
    "        print(\"Kelvin deleted!\")\n",
    "        del self._celsius\n",
    "\n",
    "# Creating a Temperature object\n",
    "temp = Temperature(25)\n",
    "\n",
    "# Accessing temperature in Celsius, Fahrenheit, and Kelvin\n",
    "print(\"Celsius:\", temp.celsius)       # Output: Celsius: 25\n",
    "print(\"Fahrenheit:\", temp.fahrenheit) # Output: Fahrenheit: 77.0\n",
    "print(\"Kelvin:\", temp.kelvin)         # Output: Kelvin: 298.15\n",
    "\n",
    "# Deleting the Kelvin property\n",
    "del temp.kelvin  # Output: Kelvin deleted!"
   ]
  },
  {
   "cell_type": "code",
   "execution_count": null,
   "id": "e3cf57f4-0b0d-43bd-91d8-5b469dbc9d91",
   "metadata": {},
   "outputs": [],
   "source": []
  }
 ],
 "metadata": {
  "kernelspec": {
   "display_name": "Python 3 (ipykernel)",
   "language": "python",
   "name": "python3"
  },
  "language_info": {
   "codemirror_mode": {
    "name": "ipython",
    "version": 3
   },
   "file_extension": ".py",
   "mimetype": "text/x-python",
   "name": "python",
   "nbconvert_exporter": "python",
   "pygments_lexer": "ipython3",
   "version": "3.12.4"
  }
 },
 "nbformat": 4,
 "nbformat_minor": 5
}
