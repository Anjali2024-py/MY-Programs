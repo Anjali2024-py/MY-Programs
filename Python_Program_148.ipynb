{
 "cells": [
  {
   "cell_type": "code",
   "execution_count": 4,
   "id": "a9a1df07-2601-4705-bdcb-f9c31ca85d32",
   "metadata": {},
   "outputs": [
    {
     "name": "stdin",
     "output_type": "stream",
     "text": [
      "Enter username admin\n",
      "Enter password password123\n"
     ]
    },
    {
     "name": "stdout",
     "output_type": "stream",
     "text": [
      "Login successful\n"
     ]
    }
   ],
   "source": [
    "username=input(\"Enter username\")\n",
    "password=input(\"Enter password\")\n",
    "\n",
    "if username=='admin' and password=='password123':\n",
    "    print(\"Login successful\")\n",
    "else:\n",
    "    print(\"Invalid username or password.\")"
   ]
  },
  {
   "cell_type": "code",
   "execution_count": 14,
   "id": "257f4671-96c9-453f-98c6-1a44e7eafffc",
   "metadata": {},
   "outputs": [
    {
     "name": "stdin",
     "output_type": "stream",
     "text": [
      "enter a number: 496\n"
     ]
    },
    {
     "name": "stdout",
     "output_type": "stream",
     "text": [
      "496 is a perfect number.\n"
     ]
    }
   ],
   "source": [
    "num=int(input(\"enter a number:\"))\n",
    "divisors_sum=0\n",
    "\n",
    "for i in range(1,num):\n",
    "    if num % i==0:\n",
    "        divisors_sum+=i\n",
    "\n",
    "if divisors_sum==num:\n",
    "    print(f\"{num} is a perfect number.\")\n",
    "else:\n",
    "    print(f\"{num} is not a perfect number.\")"
   ]
  },
  {
   "cell_type": "code",
   "execution_count": 15,
   "id": "97b73243-4c57-4e4d-ba6e-3afd5caf7f00",
   "metadata": {},
   "outputs": [
    {
     "name": "stdin",
     "output_type": "stream",
     "text": [
      "Enter side a: 4\n",
      "Enter side b: 5\n",
      "Enter side c: 6\n"
     ]
    },
    {
     "name": "stdout",
     "output_type": "stream",
     "text": [
      "The area of the triangle is:9.921567416492215\n"
     ]
    }
   ],
   "source": [
    "a=float(input(\"Enter side a:\"))\n",
    "b=float(input(\"Enter side b:\"))\n",
    "c=float(input(\"Enter side c:\"))\n",
    "\n",
    "if a+b>c and b+c >a and a+c>b:\n",
    "    s=(a+b+c)/2\n",
    "    area=(s*(s-a)*(s-b)*(s-c))**0.5\n",
    "    print(f\"The area of the triangle is:{area}\")\n",
    "else:\n",
    "    print(\"The sides do not form a valid triangle\")"
   ]
  },
  {
   "cell_type": "code",
   "execution_count": null,
   "id": "ef487be7-5c58-41ca-8605-211aa705a1d3",
   "metadata": {},
   "outputs": [],
   "source": []
  }
 ],
 "metadata": {
  "kernelspec": {
   "display_name": "Python 3 (ipykernel)",
   "language": "python",
   "name": "python3"
  },
  "language_info": {
   "codemirror_mode": {
    "name": "ipython",
    "version": 3
   },
   "file_extension": ".py",
   "mimetype": "text/x-python",
   "name": "python",
   "nbconvert_exporter": "python",
   "pygments_lexer": "ipython3",
   "version": "3.12.4"
  }
 },
 "nbformat": 4,
 "nbformat_minor": 5
}
