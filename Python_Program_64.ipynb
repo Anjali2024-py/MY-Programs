{
 "cells": [
  {
   "cell_type": "code",
   "execution_count": 3,
   "id": "d03b6d18-40af-46fc-ab05-d841295260d4",
   "metadata": {},
   "outputs": [
    {
     "name": "stdout",
     "output_type": "stream",
     "text": [
      "a:vowel\n",
      "b:not a vowel\n",
      "E:vowel\n",
      "I:vowel\n",
      "o:vowel\n",
      "u:vowel\n",
      "x:not a vowel\n",
      "A:vowel\n",
      "Z:not a vowel\n"
     ]
    }
   ],
   "source": [
    "#Write a Check for Vowels: Create a lambda function that checks if a given character is a vowel\n",
    "#Lambda function to check for vowels\n",
    "is_vowel=lambda char:char.lower() in 'aioue'\n",
    "#Test the lambda function\n",
    "test_Chars=['a','b','E','I','o','u','x','A','Z']\n",
    "#Check each character and print whether it is a vowel\n",
    "for char in test_Chars:\n",
    "    print(f\"{char}:{'vowel' if is_vowel(char) else 'not a vowel'}\")"
   ]
  },
  {
   "cell_type": "code",
   "execution_count": 7,
   "id": "b4491d75-06df-4452-8177-490b314a6276",
   "metadata": {},
   "outputs": [
    {
     "name": "stdout",
     "output_type": "stream",
     "text": [
      "original_list [1, 2, 3, 4, 5, 1, 3, 6]\n",
      "list after removing duplicates: [1, 2, 3, 4, 5, 6]\n"
     ]
    }
   ],
   "source": [
    "#Remove Duplicates: Write a program that removes duplicates from a list while preserving the order, using a lambda function\n",
    "def remove_duplicates(input_list):\n",
    "    #Use a lambda function with a set to track seen elements\n",
    "    seen=set()\n",
    "    return list(filter(lambda x:not(x in seen or seen.add(x)),input_list))\n",
    "#Test the func\n",
    "original_list=[1,2,3,4,5,1,3,6]\n",
    "result=remove_duplicates(original_list)\n",
    "print(\"original_list\",original_list)\n",
    "print(\"list after removing duplicates:\",result)"
   ]
  },
  {
   "cell_type": "code",
   "execution_count": 8,
   "id": "f07790e5-da36-4fda-ac15-a9e3efe425d2",
   "metadata": {},
   "outputs": [
    {
     "name": "stdout",
     "output_type": "stream",
     "text": [
      "Extracted domains: ['example.com', 'domain.org', 'sub.domain.com', 'anotherdomain.net']\n"
     ]
    }
   ],
   "source": [
    "##Create a lambda function that extracts the domain from a list of email addresses\n",
    "#list of email addresses\n",
    "# List of email addresses\n",
    "emails = [\n",
    "    \"user1@example.com\",\n",
    "    \"user2@domain.org\",\n",
    "    \"user3@sub.domain.com\",\n",
    "    \"user4@anotherdomain.net\"\n",
    "]\n",
    "\n",
    "# Lambda function to extract domain\n",
    "extract_domain = lambda email: email.split('@')[1] if '@' in email else None\n",
    "\n",
    "# Use map to apply the lambda function to the list of emails\n",
    "domains = list(map(extract_domain, emails))\n",
    "\n",
    "# Print the extracted domains\n",
    "print(\"Extracted domains:\", domains)\n"
   ]
  },
  {
   "cell_type": "code",
   "execution_count": 9,
   "id": "db0cfec5-a688-4141-978e-f7e1e882f613",
   "metadata": {},
   "outputs": [
    {
     "name": "stdout",
     "output_type": "stream",
     "text": [
      "a: Not a Consonant\n",
      "b: Consonant\n",
      "E: Not a Consonant\n",
      "f: Consonant\n",
      "I: Not a Consonant\n",
      "O: Not a Consonant\n",
      "u: Not a Consonant\n",
      "x: Consonant\n",
      "A: Not a Consonant\n",
      "Z: Consonant\n",
      "1: Not a Consonant\n",
      "@: Not a Consonant\n"
     ]
    }
   ],
   "source": [
    "#Check for Consonants: Write a lambda function that checks if a given character is a consonant (i.e., not a vowel)\n",
    "# Lambda function to check for consonants\n",
    "is_consonant = lambda char: char.isalpha() and char.lower() not in 'aeiou'\n",
    "\n",
    "# Test the lambda function\n",
    "test_chars = ['a', 'b', 'E', 'f', 'I', 'O', 'u', 'x', 'A', 'Z', '1', '@']\n",
    "\n",
    "# Check each character and print whether it is a consonant\n",
    "for char in test_chars:\n",
    "    print(f\"{char}: {'Consonant' if is_consonant(char) else 'Not a Consonant'}\")\n"
   ]
  },
  {
   "cell_type": "code",
   "execution_count": 10,
   "id": "0fdc1bf5-646f-4ac2-a4fa-55432360a3b9",
   "metadata": {},
   "outputs": [
    {
     "name": "stdout",
     "output_type": "stream",
     "text": [
      "a: Not a Special Character\n",
      "3: Not a Special Character\n",
      "!: Special Character\n",
      "@: Special Character\n",
      " : Special Character\n",
      "E: Not a Special Character\n",
      "#: Special Character\n",
      "5: Not a Special Character\n",
      "I: Not a Special Character\n",
      "0: Not a Special Character\n"
     ]
    }
   ],
   "source": [
    "#Write a lambda function to check if a given character is a special character (non-alphanumeric)\n",
    "# Lambda function to check for special characters\n",
    "is_special_char = lambda char: not char.isalnum()\n",
    "\n",
    "# Test characters\n",
    "test_chars = ['a', '3', '!', '@', ' ', 'E', '#', '5', 'I', '0']\n",
    "\n",
    "# Check each character\n",
    "for char in test_chars:\n",
    "    print(f\"{char}: {'Special Character' if is_special_char(char) else 'Not a Special Character'}\")\n"
   ]
  },
  {
   "cell_type": "code",
   "execution_count": null,
   "id": "c772454e-2f22-45d4-910a-555a554bbd1e",
   "metadata": {},
   "outputs": [],
   "source": []
  }
 ],
 "metadata": {
  "kernelspec": {
   "display_name": "Python 3 (ipykernel)",
   "language": "python",
   "name": "python3"
  },
  "language_info": {
   "codemirror_mode": {
    "name": "ipython",
    "version": 3
   },
   "file_extension": ".py",
   "mimetype": "text/x-python",
   "name": "python",
   "nbconvert_exporter": "python",
   "pygments_lexer": "ipython3",
   "version": "3.12.4"
  }
 },
 "nbformat": 4,
 "nbformat_minor": 5
}
