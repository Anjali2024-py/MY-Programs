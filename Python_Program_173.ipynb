{
 "cells": [
  {
   "cell_type": "code",
   "execution_count": 1,
   "id": "16646f82-ab36-4e40-bfd0-1d7cf3378323",
   "metadata": {},
   "outputs": [
    {
     "name": "stdout",
     "output_type": "stream",
     "text": [
      "True\n",
      "False\n"
     ]
    }
   ],
   "source": [
    "dict1 = {'a': 1, 'b': 2}\n",
    "dict2 = {'a': 1, 'b': 2}\n",
    "dict3 = {'a': 1, 'b': 3}\n",
    "\n",
    "print(dict1==dict2)\n",
    "print(dict1==dict3)"
   ]
  },
  {
   "cell_type": "code",
   "execution_count": 3,
   "id": "6dd4a2f6-7cfe-4e66-a8f9-0d2afb66e868",
   "metadata": {},
   "outputs": [
    {
     "name": "stdout",
     "output_type": "stream",
     "text": [
      "True\n",
      "False\n"
     ]
    }
   ],
   "source": [
    "dict1 = {'a': 1, 'b': 2}\n",
    "dict2 = {'a': 1, 'b': 3}\n",
    "\n",
    "print(dict1['a']==dict2['a'])\n",
    "print(dict1['b']>dict2['b'])"
   ]
  },
  {
   "cell_type": "code",
   "execution_count": 4,
   "id": "1c88d39f-6d39-4d0c-84ba-71c9a1c42e6e",
   "metadata": {},
   "outputs": [
    {
     "name": "stdout",
     "output_type": "stream",
     "text": [
      "[('b', 1), ('a', 2), ('c', 3)]\n"
     ]
    }
   ],
   "source": [
    "dict1 = {'a': 2, 'b': 1, 'c': 3}\n",
    "\n",
    "sorted_dict=sorted(dict1.items(),key=lambda x:x[1])\n",
    "print(sorted_dict)"
   ]
  },
  {
   "cell_type": "code",
   "execution_count": 5,
   "id": "862b3ad7-3e4f-4b0d-8ddd-ae5088c32840",
   "metadata": {},
   "outputs": [
    {
     "name": "stdout",
     "output_type": "stream",
     "text": [
      "-1\n"
     ]
    }
   ],
   "source": [
    "dict1={'a':2,'b':1}\n",
    "dict2={'a':3,'b':1}\n",
    "\n",
    "def compare_dicts(d1,d2):\n",
    "    return sum(d1.values())-sum(d2.values())\n",
    "\n",
    "print(compare_dicts(dict1,dict2))"
   ]
  },
  {
   "cell_type": "code",
   "execution_count": 7,
   "id": "0c2e837f-f720-4f46-a0da-e0e144166dd1",
   "metadata": {},
   "outputs": [
    {
     "name": "stdout",
     "output_type": "stream",
     "text": [
      "[{'a': 3, 'b': 1, 'c': 2}, {'a': 1, 'b': 3, 'c': 2}]\n"
     ]
    }
   ],
   "source": [
    "dict1 = {'a': 3, 'b': 1, 'c': 2}\n",
    "dict2 = {'a': 1, 'b': 3, 'c': 2}\n",
    "\n",
    "def custom_cmp(d1,d2):\n",
    "    sum1=sum(d1.values())\n",
    "    sum2=sum(d2.values())\n",
    "\n",
    "\n",
    "    if sum1<sum2:\n",
    "        return -1\n",
    "    elif sum1 >sum2:\n",
    "        return 1\n",
    "    else:\n",
    "        return 0\n",
    "\n",
    "dicts=[dict1,dict2]\n",
    "\n",
    "sorted_dicts=sorted(dicts,key=lambda d:sum(d.values()))\n",
    "print(sorted_dicts)"
   ]
  },
  {
   "cell_type": "code",
   "execution_count": 9,
   "id": "50b56379-1477-47fe-87b3-ebc0425c905f",
   "metadata": {},
   "outputs": [
    {
     "name": "stdout",
     "output_type": "stream",
     "text": [
      "[{'a': 1, 'b': 2}, {'b': 3, 'a': 1}]\n"
     ]
    }
   ],
   "source": [
    "from operator import itemgetter\n",
    "\n",
    "dict1 = {'a': 1, 'b': 2}\n",
    "dict2 = {'b': 3, 'a': 1}\n",
    "\n",
    "sorted_dicts= sorted([dict1,dict2],key=itemgetter('a'))\n",
    "print(sorted_dicts)"
   ]
  },
  {
   "cell_type": "code",
   "execution_count": 10,
   "id": "cbc78ded-b531-4fdb-90ed-b4d79db938ab",
   "metadata": {},
   "outputs": [
    {
     "name": "stdout",
     "output_type": "stream",
     "text": [
      "{'a': 1, 'b': 2, 'c': 3}\n"
     ]
    }
   ],
   "source": [
    "my_dict = {'a': 1, 'b': 2, 'c': 3}\n",
    "\n",
    "# Convert dictionary to string\n",
    "dict_str = str(my_dict)\n",
    "print(dict_str)\n"
   ]
  },
  {
   "cell_type": "code",
   "execution_count": 11,
   "id": "5119c9dd-1b40-4ee9-9114-3f7827725326",
   "metadata": {},
   "outputs": [
    {
     "name": "stdout",
     "output_type": "stream",
     "text": [
      "{'name': 'John', 'age': 30, 'hobbies': ['reading', 'swimming'], 'address': {'city': 'New York', 'zip': '10001'}}\n"
     ]
    }
   ],
   "source": [
    "complex_dict = {\n",
    "    'name': 'John',\n",
    "    'age': 30,\n",
    "    'hobbies': ['reading', 'swimming'],\n",
    "    'address': {'city': 'New York', 'zip': '10001'}\n",
    "}\n",
    "\n",
    "# Convert complex dictionary to string\n",
    "dict_str = str(complex_dict)\n",
    "print(dict_str)\n"
   ]
  },
  {
   "cell_type": "code",
   "execution_count": null,
   "id": "07dc0108-871a-4d5d-beca-505f6dd464de",
   "metadata": {},
   "outputs": [],
   "source": []
  }
 ],
 "metadata": {
  "kernelspec": {
   "display_name": "Python 3 (ipykernel)",
   "language": "python",
   "name": "python3"
  },
  "language_info": {
   "codemirror_mode": {
    "name": "ipython",
    "version": 3
   },
   "file_extension": ".py",
   "mimetype": "text/x-python",
   "name": "python",
   "nbconvert_exporter": "python",
   "pygments_lexer": "ipython3",
   "version": "3.12.4"
  }
 },
 "nbformat": 4,
 "nbformat_minor": 5
}
