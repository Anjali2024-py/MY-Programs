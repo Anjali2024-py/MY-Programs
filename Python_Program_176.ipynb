{
 "cells": [
  {
   "cell_type": "code",
   "execution_count": 1,
   "id": "75d47a10-1f75-4f0b-ad7e-23f8ea8c91c8",
   "metadata": {},
   "outputs": [
    {
     "name": "stdout",
     "output_type": "stream",
     "text": [
      "2\n"
     ]
    }
   ],
   "source": [
    "my_dict={'a':1,'b':2,'c':3}\n",
    "result=my_dict.get('b')\n",
    "print(result)"
   ]
  },
  {
   "cell_type": "code",
   "execution_count": 2,
   "id": "b1a0cd10-9add-4a99-9452-8053f3cfccf9",
   "metadata": {},
   "outputs": [
    {
     "name": "stdout",
     "output_type": "stream",
     "text": [
      "None\n"
     ]
    }
   ],
   "source": [
    "my_dict={'a':1,'b':2,'c':3}\n",
    "result=my_dict.get('d')\n",
    "print(result)"
   ]
  },
  {
   "cell_type": "code",
   "execution_count": 3,
   "id": "cdf38e87-6c9d-4fcc-bd37-31200c7d02b5",
   "metadata": {},
   "outputs": [
    {
     "name": "stdout",
     "output_type": "stream",
     "text": [
      "Not Found\n"
     ]
    }
   ],
   "source": [
    "my_dict = {'a': 1, 'b': 2, 'c': 3}\n",
    "result = my_dict.get('d', 'Not Found')\n",
    "print(result)\n"
   ]
  },
  {
   "cell_type": "code",
   "execution_count": 4,
   "id": "b4ad48ab-ede4-41d5-9c57-70b851a08139",
   "metadata": {},
   "outputs": [
    {
     "name": "stdout",
     "output_type": "stream",
     "text": [
      "The value for key 'x' is: key not found\n"
     ]
    }
   ],
   "source": [
    "my_dict={'a':1,'b':2,'c':3}\n",
    "key='x'\n",
    "value=my_dict.get(key,'key not found')\n",
    "print(f\"The value for key '{key}' is: {value}\")"
   ]
  },
  {
   "cell_type": "code",
   "execution_count": 5,
   "id": "133546ef-90e9-4e8a-81b9-c279f5dae94d",
   "metadata": {},
   "outputs": [
    {
     "name": "stdout",
     "output_type": "stream",
     "text": [
      "10\n"
     ]
    }
   ],
   "source": [
    "my_dict = {'a': {'x': 10}, 'b': {'y': 20}}\n",
    "result = my_dict.get('a', {}).get('x', 'Not Found')\n",
    "print(result)"
   ]
  },
  {
   "cell_type": "code",
   "execution_count": 6,
   "id": "a3ff9df3-d12a-47d8-8f60-8f79ebda8ee8",
   "metadata": {},
   "outputs": [
    {
     "name": "stdout",
     "output_type": "stream",
     "text": [
      "No value\n"
     ]
    }
   ],
   "source": [
    "my_dict = {}\n",
    "result = my_dict.get('a', 'No value')\n",
    "print(result)"
   ]
  },
  {
   "cell_type": "code",
   "execution_count": 7,
   "id": "26754508-0c70-4c2d-b975-2625c0653e4b",
   "metadata": {},
   "outputs": [
    {
     "name": "stdout",
     "output_type": "stream",
     "text": [
      "key 'b' exist!\n"
     ]
    }
   ],
   "source": [
    "my_dict={'a':1,'b':2,'c':3}\n",
    "if 'b' in my_dict:\n",
    "    print(\"key 'b' exist!\")\n",
    "else:\n",
    "    print(\"key 'b' does not exist.\")"
   ]
  },
  {
   "cell_type": "code",
   "execution_count": 8,
   "id": "dfef4b2a-9687-4d91-a01a-ed598174a242",
   "metadata": {},
   "outputs": [
    {
     "name": "stdout",
     "output_type": "stream",
     "text": [
      "Key 'b' exists!\n"
     ]
    }
   ],
   "source": [
    "my_dict={'a':1,'b':2,'c':3}\n",
    "if my_dict.get('b') is not None:\n",
    "    print(\"Key 'b' exists!\")\n",
    "else:\n",
    "    print(\"key 'b' does not exist.\")"
   ]
  },
  {
   "cell_type": "code",
   "execution_count": 10,
   "id": "d741f223-e726-49a2-979b-ad44a1502356",
   "metadata": {},
   "outputs": [
    {
     "name": "stdout",
     "output_type": "stream",
     "text": [
      "key 'b' exists!\n"
     ]
    }
   ],
   "source": [
    "my_dict={'a':1,'b':2,'c':3}\n",
    "if 'b' in my_dict.keys():\n",
    "    print(\"key 'b' exists!\")\n",
    "else:\n",
    "    print(\"key 'b' does not exist.\")"
   ]
  },
  {
   "cell_type": "code",
   "execution_count": 11,
   "id": "f8338dfd-2f23-4d62-bc17-9a019830637b",
   "metadata": {},
   "outputs": [
    {
     "name": "stdout",
     "output_type": "stream",
     "text": [
      "Key 'b' exists!\n"
     ]
    }
   ],
   "source": [
    "my_dict = {'a': 1, 'b': 2, 'c': 3}\n",
    "if 'b' in my_dict.keys():\n",
    "    print(\"Key 'b' exists!\")\n",
    "else:\n",
    "    print(\"Key 'b' does not exist.\")\n"
   ]
  },
  {
   "cell_type": "code",
   "execution_count": null,
   "id": "99eb1465-3907-42e8-b5ac-f86ed240065a",
   "metadata": {},
   "outputs": [],
   "source": []
  }
 ],
 "metadata": {
  "kernelspec": {
   "display_name": "Python 3 (ipykernel)",
   "language": "python",
   "name": "python3"
  },
  "language_info": {
   "codemirror_mode": {
    "name": "ipython",
    "version": 3
   },
   "file_extension": ".py",
   "mimetype": "text/x-python",
   "name": "python",
   "nbconvert_exporter": "python",
   "pygments_lexer": "ipython3",
   "version": "3.12.4"
  }
 },
 "nbformat": 4,
 "nbformat_minor": 5
}
