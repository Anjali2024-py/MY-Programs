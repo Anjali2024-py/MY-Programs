{
 "cells": [
  {
   "cell_type": "code",
   "execution_count": 3,
   "id": "edafc19e-46cd-46f3-871c-14065e716fb7",
   "metadata": {},
   "outputs": [
    {
     "name": "stdout",
     "output_type": "stream",
     "text": [
      "[('David', 65), ('Bob', 72), ('Eva', 78), ('Alice', 85), ('Charlie', 90)]\n"
     ]
    }
   ],
   "source": [
    "#Write a lambda function to sort the list of students by their scores in ascending order\n",
    "Students=[('Alice',85),('Bob',72),('Charlie',90),('David',65),('Eva',78)]\n",
    "ascending_sorted=sorted(Students,key=lambda x:x[1])\n",
    "print(ascending_sorted)"
   ]
  },
  {
   "cell_type": "code",
   "execution_count": 5,
   "id": "f9877212-d2e9-4f78-86fd-2eb6708fe15c",
   "metadata": {},
   "outputs": [
    {
     "name": "stdout",
     "output_type": "stream",
     "text": [
      "[('Alice', 85), ('Charlie', 90), ('Eva', 78)]\n"
     ]
    }
   ],
   "source": [
    "#Write another lambda function to filter out students who scored below 75.\n",
    "Students=[('Alice',85),('Bob',72),('Charlie',90),('David',65),('Eva',78)]\n",
    "filter_above_75=list(filter(lambda x:x[1]>=75,Students))\n",
    "print(filter_above_75)"
   ]
  },
  {
   "cell_type": "code",
   "execution_count": 6,
   "id": "7425acb4-338d-44df-afd2-0ba2bf3a0568",
   "metadata": {},
   "outputs": [
    {
     "name": "stdout",
     "output_type": "stream",
     "text": [
      "[('Eva', 78), ('Alice', 85), ('Charlie', 90)]\n"
     ]
    }
   ],
   "source": [
    "#COmbined the two steps into a single expression that first filters the students and then sorts them.\n",
    "filtered_Sorted=sorted(filter(lambda x:x[1]>=75,Students),key=lambda x:x[1])\n",
    "print(filtered_Sorted)"
   ]
  },
  {
   "cell_type": "code",
   "execution_count": 9,
   "id": "10526a21-ab05-4d3c-8bd7-80f19239de07",
   "metadata": {},
   "outputs": [
    {
     "name": "stdout",
     "output_type": "stream",
     "text": [
      "[('Charlie', 90), ('Alice', 85), ('Eva', 78)]\n"
     ]
    }
   ],
   "source": [
    "#Modify your Solution to sort the filrtered Students in ascending oreder by their scores\n",
    "ascending_filter_sorted=sorted(filter(lambda x:x[1]>=75,Students),key=lambda x:x[1],reverse=True)\n",
    "print(ascending_filter_sorted)"
   ]
  },
  {
   "cell_type": "code",
   "execution_count": 16,
   "id": "292c8178-2bfe-4c9e-8176-6bbeeab16c13",
   "metadata": {},
   "outputs": [
    {
     "name": "stdout",
     "output_type": "stream",
     "text": [
      "['A.S.', 'B.J.', 'C.B.', 'D.W.']\n"
     ]
    }
   ],
   "source": [
    "#You have a list of full names.Write a lambda function to extract the initials of each name.\n",
    "names = [\"Alice Smith\", \"Bob Johnson\", \"Charlie Brown\", \"David Williams\"]\n",
    "initial_names= list(map(lambda names: '.'.join([part[0] for part in names.split()]) + '.', names))\n",
    "print(initial_names)"
   ]
  },
  {
   "cell_type": "code",
   "execution_count": null,
   "id": "49f4241d-a40c-4d06-95f4-9310affb805f",
   "metadata": {},
   "outputs": [],
   "source": []
  }
 ],
 "metadata": {
  "kernelspec": {
   "display_name": "Python 3 (ipykernel)",
   "language": "python",
   "name": "python3"
  },
  "language_info": {
   "codemirror_mode": {
    "name": "ipython",
    "version": 3
   },
   "file_extension": ".py",
   "mimetype": "text/x-python",
   "name": "python",
   "nbconvert_exporter": "python",
   "pygments_lexer": "ipython3",
   "version": "3.12.4"
  }
 },
 "nbformat": 4,
 "nbformat_minor": 5
}
