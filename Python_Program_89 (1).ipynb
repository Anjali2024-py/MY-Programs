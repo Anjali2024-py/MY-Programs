{
 "cells": [
  {
   "cell_type": "code",
   "execution_count": 1,
   "id": "090f056e-a8a8-4c8e-8eb2-40f7345ff981",
   "metadata": {},
   "outputs": [
    {
     "name": "stdout",
     "output_type": "stream",
     "text": [
      "INdex Out Of Range\n"
     ]
    }
   ],
   "source": [
    "#Out of range\n",
    "my_range=range(5)\n",
    "try:\n",
    "    print(my_range[10])\n",
    "except IndexError:\n",
    "    print('INdex Out Of Range')"
   ]
  },
  {
   "cell_type": "code",
   "execution_count": 3,
   "id": "9db2d4d4-aa9f-482a-8c25-1221a51cac49",
   "metadata": {},
   "outputs": [
    {
     "name": "stdout",
     "output_type": "stream",
     "text": [
      "Database operation failed:\n"
     ]
    }
   ],
   "source": [
    "#with Database Operations\n",
    "try:\n",
    "    #simulate an operation that might fail\n",
    "    raise RuntimeError('Database operation failed:')\n",
    "except RuntimeError as e:\n",
    "    print(e)\n",
    "        "
   ]
  },
  {
   "cell_type": "code",
   "execution_count": 5,
   "id": "739ba40d-3261-48be-a982-36b9a9415c9c",
   "metadata": {},
   "outputs": [
    {
     "name": "stdout",
     "output_type": "stream",
     "text": [
      "Math domain Error.\n"
     ]
    }
   ],
   "source": [
    "# Handling floating point error\n",
    "try:\n",
    "    import math\n",
    "    result=math.sqrt(-1)\n",
    "except ValueError:\n",
    "    print(\"Math domain Error.\")"
   ]
  },
  {
   "cell_type": "code",
   "execution_count": 6,
   "id": "5442a26c-8028-4c79-9394-49dda980c6ec",
   "metadata": {},
   "outputs": [
    {
     "name": "stdout",
     "output_type": "stream",
     "text": [
      "This is a runtime error.\n"
     ]
    }
   ],
   "source": [
    "#Handling Runtime Error:\n",
    "try:\n",
    "    raise RuntimeError('This is a runtime error.')\n",
    "except RuntimeError as e:\n",
    "    print(e)"
   ]
  },
  {
   "cell_type": "code",
   "execution_count": 7,
   "id": "c4e2eaab-db79-41a9-8f5a-60a168e4be78",
   "metadata": {},
   "outputs": [
    {
     "name": "stdout",
     "output_type": "stream",
     "text": [
      "0.625\n",
      "Cannot divide by zero.\n",
      "2.0\n"
     ]
    }
   ],
   "source": [
    "#dividing in a loop\n",
    "numbers=[16,0,5]\n",
    "for num in numbers:\n",
    "    try:\n",
    "        print(10/num)\n",
    "    except ZeroDivisionError:\n",
    "        print('Cannot divide by zero.')"
   ]
  },
  {
   "cell_type": "code",
   "execution_count": null,
   "id": "707a0534-7473-4c38-9677-b9d9e2928462",
   "metadata": {},
   "outputs": [],
   "source": []
  }
 ],
 "metadata": {
  "kernelspec": {
   "display_name": "Python 3 (ipykernel)",
   "language": "python",
   "name": "python3"
  },
  "language_info": {
   "codemirror_mode": {
    "name": "ipython",
    "version": 3
   },
   "file_extension": ".py",
   "mimetype": "text/x-python",
   "name": "python",
   "nbconvert_exporter": "python",
   "pygments_lexer": "ipython3",
   "version": "3.12.4"
  }
 },
 "nbformat": 4,
 "nbformat_minor": 5
}
