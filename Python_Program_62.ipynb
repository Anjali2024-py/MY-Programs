{
 "cells": [
  {
   "cell_type": "code",
   "execution_count": 1,
   "id": "0193c8fe-3b88-4d1c-91ea-c353a8e89b8e",
   "metadata": {},
   "outputs": [
    {
     "name": "stdout",
     "output_type": "stream",
     "text": [
      "15\n",
      "120\n"
     ]
    }
   ],
   "source": [
    "#Adding N to a Number\n",
    "#Create a lambda function that adds a specified number \n",
    "#𝑛\n",
    "#n to its input\n",
    "add_n = lambda x, n: x + n\n",
    "# Adding 5 to the input\n",
    "result = add_n(10, 5)  # Output: 15\n",
    "print(result)\n",
    "\n",
    "# Adding 20 to the input\n",
    "result = add_n(100, 20)  # Output: 120\n",
    "print(result)\n"
   ]
  },
  {
   "cell_type": "code",
   "execution_count": 3,
   "id": "9233ec4f-14c5-45e9-bcdd-1f2448bcd38e",
   "metadata": {},
   "outputs": [
    {
     "name": "stdout",
     "output_type": "stream",
     "text": [
      "5\n"
     ]
    }
   ],
   "source": [
    "#Write a lambda function that returns the absolute value of a number.\n",
    "absolute_value = lambda x: abs(x)\n",
    "\n",
    "# Example usage\n",
    "print(absolute_value(-5))  # Output: 5\n"
   ]
  },
  {
   "cell_type": "code",
   "execution_count": 4,
   "id": "08eb18e4-a792-4164-8297-8665854672eb",
   "metadata": {},
   "outputs": [
    {
     "name": "stdout",
     "output_type": "stream",
     "text": [
      "B\n"
     ]
    }
   ],
   "source": [
    "#Write a lambda function that assigns a letter grade based on a numeric score\n",
    "grade = lambda score: (\"A\" if score >= 90 else\n",
    "                       \"B\" if score >= 80 else\n",
    "                       \"C\" if score >= 70 else\n",
    "                       \"D\" if score >= 60 else \"F\")\n",
    "\n",
    "# Example usage\n",
    "print(grade(85))  # Output: \"B\"\n"
   ]
  },
  {
   "cell_type": "code",
   "execution_count": 10,
   "id": "c87a16a8-9ebd-4d0b-a5d9-63f81b230a09",
   "metadata": {},
   "outputs": [
    {
     "name": "stdout",
     "output_type": "stream",
     "text": [
      "13\n"
     ]
    }
   ],
   "source": [
    "#Chaining lambda function\n",
    "#Write  two lambda function:one that doubles a number and another that adds three.then ,create a third\n",
    "#lambda function that uses the first two functions in sequences on an input number\n",
    "double=lambda x:x*2\n",
    "add=lambda x:x+3\n",
    "double_and_add=lambda x:add(double(x))\n",
    "input_number=5\n",
    "result=double_and_add(input_number)\n",
    "print(result)"
   ]
  },
  {
   "cell_type": "code",
   "execution_count": 13,
   "id": "7eb055dc-e4c2-4122-b22d-566442312ecd",
   "metadata": {},
   "outputs": [
    {
     "name": "stdout",
     "output_type": "stream",
     "text": [
      "does 'Hello  World!' contain 'World'? 'True'\n"
     ]
    }
   ],
   "source": [
    "#Check if string contains substring  create a lambda function that checksbif a given string contins a specifies substring.#\n",
    "#lambda function to check if a string contains string contains a specifies substring\n",
    "contain_substring=lambda string,substring:substring in string\n",
    "main_string=\"Hello  World!\"\n",
    "substring=\"World\"\n",
    "result=contain_substring(main_string,substring)\n",
    "print(f\"does '{main_string}' contain '{substring}'? '{result}'\")"
   ]
  },
  {
   "cell_type": "code",
   "execution_count": null,
   "id": "cabe5e45-c745-4605-8214-c697b726ed1a",
   "metadata": {},
   "outputs": [],
   "source": []
  }
 ],
 "metadata": {
  "kernelspec": {
   "display_name": "Python 3 (ipykernel)",
   "language": "python",
   "name": "python3"
  },
  "language_info": {
   "codemirror_mode": {
    "name": "ipython",
    "version": 3
   },
   "file_extension": ".py",
   "mimetype": "text/x-python",
   "name": "python",
   "nbconvert_exporter": "python",
   "pygments_lexer": "ipython3",
   "version": "3.12.4"
  }
 },
 "nbformat": 4,
 "nbformat_minor": 5
}
