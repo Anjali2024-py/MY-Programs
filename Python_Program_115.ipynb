{
 "cells": [
  {
   "cell_type": "code",
   "execution_count": 1,
   "id": "ed95e95b-fb70-40e5-af10-262e5cc4999a",
   "metadata": {},
   "outputs": [
    {
     "name": "stdout",
     "output_type": "stream",
     "text": [
      "Found 7, breaking the loop.\n"
     ]
    }
   ],
   "source": [
    "# Example 3: Search and break\n",
    "numbers = [1, 3, 5, 7, 9, 11]\n",
    "search_value = 7\n",
    "\n",
    "for number in numbers:\n",
    "    if number == search_value:\n",
    "        print(f\"Found {search_value}, breaking the loop.\")\n",
    "        break\n",
    "else:\n",
    "    print(f\"{search_value} not found in the list.\")\n"
   ]
  },
  {
   "cell_type": "code",
   "execution_count": 2,
   "id": "2c606322-a2a6-4687-9b3b-96967b43fb97",
   "metadata": {},
   "outputs": [
    {
     "name": "stdout",
     "output_type": "stream",
     "text": [
      "Breaking the loop at i = 4\n"
     ]
    }
   ],
   "source": [
    "# Example 4: Break with else clause\n",
    "for i in range(10):\n",
    "    if i == 4:\n",
    "        print(\"Breaking the loop at i =\", i)\n",
    "        break\n",
    "else:\n",
    "    print(\"Loop completed without breaking.\")\n"
   ]
  },
  {
   "cell_type": "code",
   "execution_count": null,
   "id": "f1308091-b278-4b7e-ba1f-1367db446f5f",
   "metadata": {},
   "outputs": [],
   "source": []
  }
 ],
 "metadata": {
  "kernelspec": {
   "display_name": "Python 3 (ipykernel)",
   "language": "python",
   "name": "python3"
  },
  "language_info": {
   "codemirror_mode": {
    "name": "ipython",
    "version": 3
   },
   "file_extension": ".py",
   "mimetype": "text/x-python",
   "name": "python",
   "nbconvert_exporter": "python",
   "pygments_lexer": "ipython3",
   "version": "3.12.4"
  }
 },
 "nbformat": 4,
 "nbformat_minor": 5
}
