{
 "cells": [
  {
   "cell_type": "code",
   "execution_count": 1,
   "id": "d82dc3b0-cc92-4cab-8b4d-1b1d729de00b",
   "metadata": {},
   "outputs": [
    {
     "name": "stdout",
     "output_type": "stream",
     "text": [
      "9\n",
      "8\n",
      "7\n",
      "6\n",
      "5\n",
      "4\n",
      "3\n",
      "2\n",
      "1\n",
      "0\n",
      "-1\n",
      "Breaking the loop because the number is less than 0\n"
     ]
    }
   ],
   "source": [
    "num=10\n",
    "while True:\n",
    "    num-=1\n",
    "    print(num)\n",
    "    if num<0:\n",
    "        print(\"Breaking the loop because the number is less than 0\")\n",
    "        break"
   ]
  },
  {
   "cell_type": "code",
   "execution_count": 3,
   "id": "39157d7b-6630-4f9a-aa3a-7cebd60a70fd",
   "metadata": {},
   "outputs": [
    {
     "name": "stdout",
     "output_type": "stream",
     "text": [
      " 25 is divisible by 5, hence, it is not prime.\n"
     ]
    }
   ],
   "source": [
    "number=25\n",
    "\n",
    "is_prime=True\n",
    "for i in range(2,number):\n",
    "    if number%i==0:\n",
    "        is_prime=False\n",
    "        print(f\" {number} is divisible by {i}, hence, it is not prime.\")\n",
    "        break\n",
    "else:\n",
    "    if is_prime:\n",
    "        print(f\"{number} is a prime number\")"
   ]
  },
  {
   "cell_type": "code",
   "execution_count": 5,
   "id": "0a28036f-9d03-45a5-bfd0-19e85b853f21",
   "metadata": {},
   "outputs": [
    {
     "name": "stdout",
     "output_type": "stream",
     "text": [
      "The pair (4, 6) add up to 10.\n",
      "The pair (5, 5) add up to 10.\n",
      "The pair (8, 2) add up to 10.\n",
      "The pair (3, 7) add up to 10.\n"
     ]
    }
   ],
   "source": [
    "pairs=[(1,3),(4,6),(5,5),(8,2),(3,7)]\n",
    "for pair in pairs:\n",
    "    for num in pair:\n",
    "        if sum(pair)==10:\n",
    "            print(f\"The pair {pair} add up to 10.\")\n",
    "            break\n",
    "    else:\n",
    "        continue\n",
    "        break"
   ]
  },
  {
   "cell_type": "code",
   "execution_count": 9,
   "id": "738f3437-f615-4c18-8142-201967cd90a9",
   "metadata": {},
   "outputs": [
    {
     "name": "stdout",
     "output_type": "stream",
     "text": [
      "Found a number greater than 100: 120\n"
     ]
    }
   ],
   "source": [
    "numbers=[15,30,45,60,75,100,120,150]\n",
    "\n",
    "index = 0\n",
    "while True:\n",
    "    if numbers[index] > 100:\n",
    "        print(f\"Found a number greater than 100: {numbers[index]}\")\n",
    "        break  # Exit the infinite loop once the condition is met\n",
    "    index += 1"
   ]
  },
  {
   "cell_type": "code",
   "execution_count": 10,
   "id": "88398101-a35d-428f-96a1-944f2c51d0c4",
   "metadata": {},
   "outputs": [
    {
     "name": "stdout",
     "output_type": "stream",
     "text": [
      "Checking:10\n",
      "Checking:20\n",
      "Checking:abc\n",
      "Skipping invalid item: abc\n",
      "Checking:30\n",
      "Found a number greater than 25:30\n"
     ]
    }
   ],
   "source": [
    "numbers=[10,20,'abc',30,40]\n",
    "\n",
    "for item in numbers:\n",
    "    try:\n",
    "        print(f\"Checking:{item}\")\n",
    "        if item>25:\n",
    "            print(f\"Found a number greater than 25:{item}\")\n",
    "            break\n",
    "    except TypeError:\n",
    "        print(f\"Skipping invalid item: {item}\")"
   ]
  },
  {
   "cell_type": "code",
   "execution_count": null,
   "id": "e5ebf175-9091-4e37-8a1b-af716aabddd0",
   "metadata": {},
   "outputs": [],
   "source": []
  }
 ],
 "metadata": {
  "kernelspec": {
   "display_name": "Python 3 (ipykernel)",
   "language": "python",
   "name": "python3"
  },
  "language_info": {
   "codemirror_mode": {
    "name": "ipython",
    "version": 3
   },
   "file_extension": ".py",
   "mimetype": "text/x-python",
   "name": "python",
   "nbconvert_exporter": "python",
   "pygments_lexer": "ipython3",
   "version": "3.12.4"
  }
 },
 "nbformat": 4,
 "nbformat_minor": 5
}
