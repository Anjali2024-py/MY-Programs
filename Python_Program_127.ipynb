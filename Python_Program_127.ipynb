{
 "cells": [
  {
   "cell_type": "code",
   "execution_count": 1,
   "id": "056f8f3d-c0eb-41ad-9cbb-3f37d207ca97",
   "metadata": {},
   "outputs": [
    {
     "name": "stdout",
     "output_type": "stream",
     "text": [
      "Processing number:0\n",
      "Processing number:1\n",
      "Processing number:2\n",
      "Processing number:4\n",
      "Loop finished.\n"
     ]
    }
   ],
   "source": [
    "for i in range(5):\n",
    "    if i==3:\n",
    "        pass\n",
    "    else:\n",
    "        print(f\"Processing number:{i}\")\n",
    "print(\"Loop finished.\")"
   ]
  },
  {
   "cell_type": "code",
   "execution_count": 11,
   "id": "a77df081-7c35-4bfe-a967-ffeafcf60613",
   "metadata": {},
   "outputs": [
    {
     "name": "stdin",
     "output_type": "stream",
     "text": [
      "Enter a digit 8\n"
     ]
    },
    {
     "name": "stdout",
     "output_type": "stream",
     "text": [
      "Codition check done.\n"
     ]
    }
   ],
   "source": [
    "x=int(input(\"Enter a digit\"))\n",
    "if x>5:\n",
    "    pass\n",
    "else:\n",
    "    print(\"x is less than or equal to 5\")\n",
    "print(\"Codition check done.\")"
   ]
  },
  {
   "cell_type": "code",
   "execution_count": 12,
   "id": "4cb67258-df49-4388-9acb-c0dafbf258e3",
   "metadata": {},
   "outputs": [
    {
     "name": "stdout",
     "output_type": "stream",
     "text": [
      "Class created:<__main__.Myclass object at 0x0000020F619C12E0>\n"
     ]
    }
   ],
   "source": [
    "class Myclass:\n",
    "    pass\n",
    "\n",
    "obj=Myclass()\n",
    "print(f\"Class created:{obj}\")"
   ]
  },
  {
   "cell_type": "code",
   "execution_count": 13,
   "id": "f19fd28b-629d-4c49-ba4f-97dc8f293d3e",
   "metadata": {},
   "outputs": [
    {
     "name": "stdout",
     "output_type": "stream",
     "text": [
      "Error handled without any action.\n"
     ]
    }
   ],
   "source": [
    "try:\n",
    "    x=1/0\n",
    "except ZeroDivisionError:\n",
    "    pass\n",
    "print(\"Error handled without any action.\")"
   ]
  },
  {
   "cell_type": "code",
   "execution_count": 16,
   "id": "99b1f45c-04a1-45dc-9f3a-8e2fa06774a5",
   "metadata": {},
   "outputs": [
    {
     "name": "stdout",
     "output_type": "stream",
     "text": [
      "While loop  FINISHED\n"
     ]
    }
   ],
   "source": [
    "counter=0\n",
    "while counter<5:\n",
    "    pass\n",
    "    counter+=1\n",
    "print(\"While loop  FINISHED\")"
   ]
  },
  {
   "cell_type": "code",
   "execution_count": null,
   "id": "bb1fac0f-49ab-49ee-91be-d1ee14253fff",
   "metadata": {},
   "outputs": [],
   "source": []
  }
 ],
 "metadata": {
  "kernelspec": {
   "display_name": "Python 3 (ipykernel)",
   "language": "python",
   "name": "python3"
  },
  "language_info": {
   "codemirror_mode": {
    "name": "ipython",
    "version": 3
   },
   "file_extension": ".py",
   "mimetype": "text/x-python",
   "name": "python",
   "nbconvert_exporter": "python",
   "pygments_lexer": "ipython3",
   "version": "3.12.4"
  }
 },
 "nbformat": 4,
 "nbformat_minor": 5
}
