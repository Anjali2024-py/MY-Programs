{
 "cells": [
  {
   "cell_type": "code",
   "execution_count": 41,
   "id": "3707aad2-c7a4-4b49-b9a7-e4e47d60a8f3",
   "metadata": {},
   "outputs": [],
   "source": [
    "def deposite(amount,balance):\n",
    "    balance=balance+amount\n",
    "    return balance"
   ]
  },
  {
   "cell_type": "code",
   "execution_count": 42,
   "id": "c8b315fa-6cdb-47b7-ba8e-acc79b62d8a5",
   "metadata": {},
   "outputs": [],
   "source": [
    "def withdraw(balance,amount):\n",
    "    if amount<balance:\n",
    "        balance=balance-amount\n",
    "        return balance\n",
    "    else:\n",
    "        print(\"Insufficient balance\")"
   ]
  },
  {
   "cell_type": "code",
   "execution_count": 43,
   "id": "53e0b26e-42e2-40d3-97e3-cf48671c3030",
   "metadata": {},
   "outputs": [],
   "source": [
    "def transfer(balance,amount):\n",
    "    if amount<=balance:\n",
    "        balance=balance-amount\n",
    "        return balance"
   ]
  },
  {
   "cell_type": "code",
   "execution_count": 44,
   "id": "fd94dd08-52c8-4aae-ae50-02ec91a1cb5a",
   "metadata": {},
   "outputs": [],
   "source": [
    "def ministatement(info):\n",
    "    print(info)\n",
    "    "
   ]
  },
  {
   "cell_type": "code",
   "execution_count": 45,
   "id": "cfee6632-9b2e-49be-a3eb-c1b9dc5c5544",
   "metadata": {},
   "outputs": [],
   "source": [
    "def showbal(val1,val2,val3):\n",
    "    print(f\"you have is {val1} {val2} and your balance is {val3}\")"
   ]
  },
  {
   "cell_type": "code",
   "execution_count": 46,
   "id": "d936d8cb-3a70-4086-a320-9fd431d81c8b",
   "metadata": {},
   "outputs": [],
   "source": [
    "def Exit():\n",
    "    pass"
   ]
  },
  {
   "cell_type": "code",
   "execution_count": 47,
   "id": "df3975bc-dd6c-45ed-ac55-ac92e5a8986e",
   "metadata": {},
   "outputs": [
    {
     "name": "stdin",
     "output_type": "stream",
     "text": [
      "enter pin 1234\n"
     ]
    },
    {
     "name": "stdout",
     "output_type": "stream",
     "text": [
      "\n",
      "1.deposite\n",
      "2.withdraw\n",
      "3.tansfer\n",
      "4.ministatement\n",
      "5.generte new pin\n",
      "6.Exit\n"
     ]
    },
    {
     "name": "stdin",
     "output_type": "stream",
     "text": [
      "enter you choice 1\n",
      "Enter Amount: 1200\n"
     ]
    },
    {
     "name": "stdout",
     "output_type": "stream",
     "text": [
      "you have is deposite 1200 and your balance is 4200\n",
      "\n",
      "1.deposite\n",
      "2.withdraw\n",
      "3.tansfer\n",
      "4.ministatement\n",
      "5.generte new pin\n",
      "6.Exit\n"
     ]
    },
    {
     "name": "stdin",
     "output_type": "stream",
     "text": [
      "enter you choice 2\n",
      "Enter Amount: 1235\n"
     ]
    },
    {
     "name": "stdout",
     "output_type": "stream",
     "text": [
      "you have is withdraw 1235 and your balance is 2965\n",
      "\n",
      "1.deposite\n",
      "2.withdraw\n",
      "3.tansfer\n",
      "4.ministatement\n",
      "5.generte new pin\n",
      "6.Exit\n"
     ]
    },
    {
     "name": "stdin",
     "output_type": "stream",
     "text": [
      "enter you choice 2\n",
      "Enter Amount: 2000\n"
     ]
    },
    {
     "name": "stdout",
     "output_type": "stream",
     "text": [
      "you have is withdraw 2000 and your balance is 965\n",
      "\n",
      "1.deposite\n",
      "2.withdraw\n",
      "3.tansfer\n",
      "4.ministatement\n",
      "5.generte new pin\n",
      "6.Exit\n"
     ]
    },
    {
     "name": "stdin",
     "output_type": "stream",
     "text": [
      "enter you choice 3\n",
      "Enter Amount: 652\n"
     ]
    },
    {
     "name": "stdout",
     "output_type": "stream",
     "text": [
      "you have is transfer 652 and your balance is 313\n",
      "\n",
      "1.deposite\n",
      "2.withdraw\n",
      "3.tansfer\n",
      "4.ministatement\n",
      "5.generte new pin\n",
      "6.Exit\n"
     ]
    },
    {
     "name": "stdin",
     "output_type": "stream",
     "text": [
      "enter you choice 4\n"
     ]
    },
    {
     "name": "stdout",
     "output_type": "stream",
     "text": [
      "Your last trnsaction is:\n",
      "['deposite 1200', 'withdraw 1235', 'withdraw 2000', 'transfer 652']\n",
      "\n",
      "1.deposite\n",
      "2.withdraw\n",
      "3.tansfer\n",
      "4.ministatement\n",
      "5.generte new pin\n",
      "6.Exit\n"
     ]
    },
    {
     "name": "stdin",
     "output_type": "stream",
     "text": [
      "enter you choice 5\n",
      "enter old pin 1234\n",
      "enter new pin 3568\n"
     ]
    },
    {
     "name": "stdout",
     "output_type": "stream",
     "text": [
      "your new pin has been created:  3568\n",
      "\n",
      "1.deposite\n",
      "2.withdraw\n",
      "3.tansfer\n",
      "4.ministatement\n",
      "5.generte new pin\n",
      "6.Exit\n"
     ]
    },
    {
     "name": "stdin",
     "output_type": "stream",
     "text": [
      "enter you choice 6\n"
     ]
    }
   ],
   "source": [
    "pin=int(input(\"enter pin\"))\n",
    "bal=3000\n",
    "data=[]\n",
    "if pin==1234:\n",
    "    while(True):\n",
    "        print(\"\\n1.deposite\\n2.withdraw\\n3.tansfer\\n4.ministatement\\n5.generte new pin\\n6.Exit\")\n",
    "        ch=int(input(\"enter you choice\"))\n",
    "        if ch==1:\n",
    "            amt=int(input(\"Enter Amount:\"))\n",
    "            bal=deposite(bal,amt)\n",
    "            showbal('deposite',amt,bal)\n",
    "            data.append('deposite '+str(amt))\n",
    "        elif ch==2:\n",
    "             amt=int(input(\"Enter Amount:\"))\n",
    "             bal=withdraw(bal,amt)\n",
    "             showbal('withdraw',amt,bal)\n",
    "             data.append('withdraw '+str(amt))\n",
    "        elif ch==3:\n",
    "             amt=int(input(\"Enter Amount:\"))\n",
    "             bal=transfer(bal,amt)\n",
    "             showbal('transfer',amt,bal)\n",
    "             data.append('transfer '+str(amt))\n",
    "        elif ch==4:\n",
    "             print(\"Your last trnsaction is:\")\n",
    "             ministatement(data)\n",
    "        elif ch==5:\n",
    "             oldpin=int(input(\"enter old pin\"))\n",
    "             newpin=int(input(\"enter new pin\"))\n",
    "             print(\"your new pin has been created: \",newpin)\n",
    "        elif ch==6:\n",
    "             break\n",
    "    else:\n",
    "        \n",
    "        print(\"Invalid PIN\")\n",
    "\n",
    "    \n",
    "        \n",
    "    \n",
    "        "
   ]
  },
  {
   "cell_type": "code",
   "execution_count": 77,
   "id": "0b92b0d8-ddbc-431a-93fc-049b96048ca2",
   "metadata": {},
   "outputs": [
    {
     "name": "stdin",
     "output_type": "stream",
     "text": [
      "enter any number: 35\n"
     ]
    },
    {
     "name": "stdout",
     "output_type": "stream",
     "text": [
      "100011\n"
     ]
    }
   ],
   "source": [
    "#How to convert Decimal number into binary number\n",
    "num=int(input(\"enter any number:\"))\n",
    "s=\"\"\n",
    "while(num>0):\n",
    "    rem=num%2\n",
    "    s=str(rem)+s\n",
    "    s[::-1]\n",
    "    num=num//2\n",
    "print(s)       #or we can use s[::-1]"
   ]
  },
  {
   "cell_type": "code",
   "execution_count": 35,
   "id": "ba5d17bd-5954-4472-9deb-289f67110e02",
   "metadata": {},
   "outputs": [],
   "source": [
    "#write a program to convert binary number into decimal number\n",
    "def binary_to_decimal(BinNum):\n",
    "    decimal_number=0\n",
    "    power=0\n",
    "    while BinNum!=0:\n",
    "        decimal=BinNum%10\n",
    "        decimal_number=decimal_number+decimal*pow(2,power)\n",
    "        BinNum=BinNum//10\n",
    "        power=power+1\n",
    "    return decimal_number\n",
    "\n",
    "\n",
    "    "
   ]
  },
  {
   "cell_type": "code",
   "execution_count": 36,
   "id": "cc36a2ef-d745-4872-b195-ac004e5c2482",
   "metadata": {},
   "outputs": [
    {
     "data": {
      "text/plain": [
       "15"
      ]
     },
     "execution_count": 36,
     "metadata": {},
     "output_type": "execute_result"
    }
   ],
   "source": [
    "binary_to_decimal(1111)"
   ]
  },
  {
   "cell_type": "code",
   "execution_count": 38,
   "id": "83a1e4d9-16d5-49d9-963a-5a9993dcdb95",
   "metadata": {},
   "outputs": [
    {
     "name": "stdout",
     "output_type": "stream",
     "text": [
      "deciml: 19\n"
     ]
    }
   ],
   "source": [
    "output=binary_to_decimal(10011)\n",
    "print('deciml:',output)"
   ]
  },
  {
   "cell_type": "code",
   "execution_count": 2,
   "id": "29dd4f04-93bd-4256-9931-5c0ef5916b6f",
   "metadata": {},
   "outputs": [
    {
     "name": "stdin",
     "output_type": "stream",
     "text": [
      "Enter num 12345\n"
     ]
    }
   ],
   "source": [
    "decimal_number=int(input(\"Enter num\"))\n",
    "def decimal_to_hexadecimal(num):\n",
    "    conversion_table={0:'0',1:'1',2:'2',3:'3',4:'4',5:'5',6:'6',7:'7',8:'8',9:'9',10:'A',11:'B',12:'C',13:'D',14:'E',15:'F'}\n",
    "    hexa_value=\"\"\n",
    "    while num>0:\n",
    "        reminder=num%16\n",
    "        hexa_value=hexa_value+conversion_table[reminder]\n",
    "        num=num//16\n",
    "        \n",
    "    return hexa_value[::-1]\n",
    "        \n",
    "        \n"
   ]
  },
  {
   "cell_type": "code",
   "execution_count": 3,
   "id": "ec599832-c1bf-4470-93de-55fa60baf0cd",
   "metadata": {},
   "outputs": [
    {
     "data": {
      "text/plain": [
       "'1E240'"
      ]
     },
     "execution_count": 3,
     "metadata": {},
     "output_type": "execute_result"
    }
   ],
   "source": [
    "decimal_to_hexadecimal(123456)"
   ]
  },
  {
   "cell_type": "code",
   "execution_count": null,
   "id": "477ca9f2-faae-4ff5-b505-8d0c494ce9a3",
   "metadata": {},
   "outputs": [],
   "source": [
    "decimal_to_hexadecimal=hex(decimal_number)\n",
    "print(decimal_to_hexadecimal[2:])"
   ]
  },
  {
   "cell_type": "code",
   "execution_count": null,
   "id": "929b9c69-014b-4c8c-88dd-245a644e341c",
   "metadata": {},
   "outputs": [],
   "source": []
  }
 ],
 "metadata": {
  "kernelspec": {
   "display_name": "Python 3 (ipykernel)",
   "language": "python",
   "name": "python3"
  },
  "language_info": {
   "codemirror_mode": {
    "name": "ipython",
    "version": 3
   },
   "file_extension": ".py",
   "mimetype": "text/x-python",
   "name": "python",
   "nbconvert_exporter": "python",
   "pygments_lexer": "ipython3",
   "version": "3.12.4"
  }
 },
 "nbformat": 4,
 "nbformat_minor": 5
}
