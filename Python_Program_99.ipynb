{
 "cells": [
  {
   "cell_type": "code",
   "execution_count": 1,
   "id": "288a376e-c258-4c50-990b-5bd57eab14ab",
   "metadata": {},
   "outputs": [
    {
     "name": "stdout",
     "output_type": "stream",
     "text": [
      "Amount balance:Rs5000\n",
      "Rs500 was Debited ,New Balance:RS4500\n",
      "Rs1000 was credited, New Balance: Rs5500\n"
     ]
    }
   ],
   "source": [
    "class Account:\n",
    "    def __init__(self,balance,acc_No):\n",
    "        self.balance=balance\n",
    "        self.acc_no=acc_No\n",
    "    def Debit(self,amount):\n",
    "        if 0<amount<=self.balance:\n",
    "            self.balance-=amount\n",
    "            print(f\"Rs{amount} was Debited ,New Balance:RS{self.balance}\")\n",
    "        else:\n",
    "            print(f\"Insufficient funds or invalid amount\")\n",
    "    def Credit(self,amount):\n",
    "        if amount>0:\n",
    "            self.balance+=amount\n",
    "            print(f\"Rs{amount} was credited, New Balance: Rs{self.balance}\")\n",
    "        else:\n",
    "            print(f\"Credited amount must be positive\")\n",
    "    def Check_balance(self):\n",
    "        print(f\"Amount balance:Rs{self.balance}\")\n",
    "\n",
    "account1=Account(5000,1234563258)\n",
    "account1.Check_balance()\n",
    "account1.Debit((500))\n",
    "account1.Credit(1000)"
   ]
  },
  {
   "cell_type": "code",
   "execution_count": 2,
   "id": "3d8ff18b-7f63-499b-807f-82feeba4a07c",
   "metadata": {},
   "outputs": [
    {
     "name": "stdout",
     "output_type": "stream",
     "text": [
      "Car Started....\n"
     ]
    }
   ],
   "source": [
    "class Car:\n",
    "    def __init__(self):\n",
    "        self.accelator=False\n",
    "        self.brk=False\n",
    "        self.clutch=False\n",
    "    def start(self):\n",
    "        self.clutch=True\n",
    "        self.accelator=True\n",
    "        print(\"Car Started....\")\n",
    "\n",
    "car1=Car()\n",
    "car1.start()"
   ]
  },
  {
   "cell_type": "code",
   "execution_count": 3,
   "id": "c6854e89-3857-4c7f-aa95-2cc23b6a9364",
   "metadata": {},
   "outputs": [
    {
     "name": "stdout",
     "output_type": "stream",
     "text": [
      " The Area of rectangle is 20\n",
      " The Perimeter of rectangle is 18\n"
     ]
    }
   ],
   "source": [
    "class Rectangle:\n",
    "    def __init__(self,width,height):\n",
    "        self.width=width\n",
    "        self.height=height\n",
    "    def area(self):\n",
    "        return f\" The Area of rectangle is {self.width*self.height}\"\n",
    "    def perimeter(self):\n",
    "        return f\" The Perimeter of rectangle is {2*(self.width+self.height)}\"\n",
    "r1=Rectangle(5,4)\n",
    "print(r1.area())\n",
    "print(r1.perimeter())"
   ]
  },
  {
   "cell_type": "code",
   "execution_count": null,
   "id": "0d0432a5-fc8f-405f-aba3-90da60610ee9",
   "metadata": {},
   "outputs": [],
   "source": []
  }
 ],
 "metadata": {
  "kernelspec": {
   "display_name": "Python 3 (ipykernel)",
   "language": "python",
   "name": "python3"
  },
  "language_info": {
   "codemirror_mode": {
    "name": "ipython",
    "version": 3
   },
   "file_extension": ".py",
   "mimetype": "text/x-python",
   "name": "python",
   "nbconvert_exporter": "python",
   "pygments_lexer": "ipython3",
   "version": "3.12.4"
  }
 },
 "nbformat": 4,
 "nbformat_minor": 5
}
