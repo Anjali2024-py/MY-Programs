{
 "cells": [
  {
   "cell_type": "code",
   "execution_count": 2,
   "id": "85648f8d-9251-462d-bb47-b10f22fed3bf",
   "metadata": {},
   "outputs": [
    {
     "name": "stdin",
     "output_type": "stream",
     "text": [
      "enter a string hello world\n"
     ]
    },
    {
     "name": "stdout",
     "output_type": "stream",
     "text": [
      "Newly formed String:\n",
      "held\n"
     ]
    }
   ],
   "source": [
    "string=input(\"enter a string\")\n",
    "count=0\n",
    "for i in string:\n",
    "    count=count+1\n",
    "new_string=string[0:2]+string[count-2:count]\n",
    "print(\"Newly formed String:\")\n",
    "print(new_string)"
   ]
  },
  {
   "cell_type": "code",
   "execution_count": 4,
   "id": "f58b1f3a-9036-44e5-901c-d3191f856653",
   "metadata": {},
   "outputs": [
    {
     "name": "stdin",
     "output_type": "stream",
     "text": [
      "Enter a string: onion\n"
     ]
    },
    {
     "name": "stdout",
     "output_type": "stream",
     "text": [
      "original String: onion\n",
      "Replaced String: oni$n\n"
     ]
    }
   ],
   "source": [
    "str1=input(\"Enter a string:\")\n",
    "print(\"original String:\",str1)\n",
    "\n",
    "char=str1[0]\n",
    "str1=str1.replace(char,'$')\n",
    "str1=char+str1[1:]\n",
    "print(\"Replaced String:\", str1)"
   ]
  },
  {
   "cell_type": "code",
   "execution_count": 5,
   "id": "5919c1ce-515d-4c0d-b311-17603a4ef436",
   "metadata": {},
   "outputs": [
    {
     "name": "stdin",
     "output_type": "stream",
     "text": [
      "Enter a string: Hello My Name is Anjali\n"
     ]
    },
    {
     "name": "stdout",
     "output_type": "stream",
     "text": [
      "Modified String is: Hello My N$me is $nj$li\n"
     ]
    }
   ],
   "source": [
    "string=input(\"Enter a string:\")\n",
    "string=string.replace('a','$')\n",
    "string=string.replace('A','$')\n",
    "print(\"Modified String is:\",string)"
   ]
  },
  {
   "cell_type": "code",
   "execution_count": 12,
   "id": "130e9999-52b1-4e20-a333-1db1ec086ed6",
   "metadata": {},
   "outputs": [
    {
     "name": "stdout",
     "output_type": "stream",
     "text": [
      "o 4\n",
      "e 3\n",
      "t 2\n",
      "h 2\n",
      "u 2\n",
      "r 2\n"
     ]
    }
   ],
   "source": [
    "import collections\n",
    "\n",
    "sample_string = 'thequickbrownfoxjumpsoverthelazydog'\n",
    "\n",
    "# Create a defaultdict to store character counts\n",
    "d = collections.defaultdict(int)\n",
    "\n",
    "# Loop over the string and count each character\n",
    "for c in sample_string:\n",
    "    d[c] += 1\n",
    "\n",
    "# Sort the characters by frequency (descending) and print those that appear more than once\n",
    "for c in sorted(d, key=d.get, reverse=True):\n",
    "    if d[c] > 1:\n",
    "        print('%s %d' % (c, d[c]))\n"
   ]
  },
  {
   "cell_type": "code",
   "execution_count": null,
   "id": "4d53f582-53ac-43b6-be8b-cc27465d622d",
   "metadata": {},
   "outputs": [],
   "source": []
  }
 ],
 "metadata": {
  "kernelspec": {
   "display_name": "Python 3 (ipykernel)",
   "language": "python",
   "name": "python3"
  },
  "language_info": {
   "codemirror_mode": {
    "name": "ipython",
    "version": 3
   },
   "file_extension": ".py",
   "mimetype": "text/x-python",
   "name": "python",
   "nbconvert_exporter": "python",
   "pygments_lexer": "ipython3",
   "version": "3.12.4"
  }
 },
 "nbformat": 4,
 "nbformat_minor": 5
}
