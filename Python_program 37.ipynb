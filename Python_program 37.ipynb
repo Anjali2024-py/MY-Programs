{
 "cells": [
  {
   "cell_type": "code",
   "execution_count": 14,
   "id": "4977f1a2-d8c9-4cfe-9419-44fc48d9d590",
   "metadata": {},
   "outputs": [
    {
     "name": "stdout",
     "output_type": "stream",
     "text": [
      "    *     \n",
      "  * *     \n",
      "    *     \n",
      "    *     \n",
      "* * * * * \n",
      "  * * *   \n",
      "*       * \n",
      "*       * \n",
      "*       * \n",
      "*       * \n",
      "*       * \n",
      "  * * *   \n"
     ]
    }
   ],
   "source": [
    "for i in range(5):\n",
    "    for j in range(5):\n",
    "        if j==2 and(j>1 and j<3) or (j==1 and i==1) or i==4:\n",
    "            print(\"*\",end=\" \")\n",
    "        else:\n",
    "            print(\" \",end=\" \")\n",
    "    print()\n",
    "for row in range(7):\n",
    "    for col in range(5):\n",
    "            \n",
    "        if (0<col<4 and row==0) or (col==0 and  0<row<6) or (row==6 and 0<col<4) or (col==4 and 0<row<6):\n",
    "            print(\"*\",end=\" \")\n",
    "        else:\n",
    "            print(\" \",end=\" \")\n",
    "    print()"
   ]
  },
  {
   "cell_type": "code",
   "execution_count": 15,
   "id": "fce12214-1995-491c-9adb-03912d3e64fd",
   "metadata": {},
   "outputs": [
    {
     "name": "stdout",
     "output_type": "stream",
     "text": [
      "    *     \n",
      "  * *     \n",
      "    *     \n",
      "    *     \n",
      "* * * * * \n",
      "    *     \n",
      "  * *     \n",
      "    *     \n",
      "    *     \n",
      "* * * * * \n"
     ]
    }
   ],
   "source": [
    "for i in range(5):\n",
    "    for j in range(5):\n",
    "        if j==2 and(j>1 and j<3) or (j==1 and i==1) or i==4:\n",
    "            print(\"*\",end=\" \")\n",
    "        else:\n",
    "            print(\" \",end=\" \")\n",
    "    print()\n",
    "for i in range(5):\n",
    "    for j in range(5):\n",
    "        if j==2 and(j>1 and j<3) or (j==1 and i==1) or i==4:\n",
    "            print(\"*\",end=\" \")\n",
    "        else:\n",
    "            print(\" \",end=\" \")\n",
    "    print()\n",
    "    "
   ]
  },
  {
   "cell_type": "code",
   "execution_count": 16,
   "id": "5c388ba9-0c48-47eb-a090-ed85e346f239",
   "metadata": {},
   "outputs": [
    {
     "name": "stdout",
     "output_type": "stream",
     "text": [
      "    *     \n",
      "  * *     \n",
      "    *     \n",
      "    *     \n",
      "* * * * * \n",
      "* * *   \n",
      "      * \n",
      "    *   \n",
      "  *     \n",
      "* * * * \n"
     ]
    }
   ],
   "source": [
    "for i in range(5):\n",
    "    for j in range(5):\n",
    "        if j==2 and(j>1 and j<3) or (j==1 and i==1) or i==4:\n",
    "            print(\"*\",end=\" \")\n",
    "        else:\n",
    "            print(\" \",end=\" \")\n",
    "    print()\n",
    "for row in range(5):\n",
    "    for col in range(4):\n",
    "        if (row==0 and col<3) or row==4 or (row==1 and col==3) or (row==2 and col==2) or ( row==3 and col==1):\n",
    "            print(\"*\",end=\" \")\n",
    "        else:\n",
    "            print(\" \",end=\" \")\n",
    "    print()"
   ]
  },
  {
   "cell_type": "code",
   "execution_count": 17,
   "id": "16576f3b-0207-48cb-96e8-53f009a6a292",
   "metadata": {},
   "outputs": [
    {
     "name": "stdout",
     "output_type": "stream",
     "text": [
      "    *     \n",
      "  * *     \n",
      "    *     \n",
      "    *     \n",
      "* * * * * \n",
      "* * *   \n",
      "      * \n",
      "      * \n",
      "  * *   \n",
      "      * \n",
      "      * \n",
      "* * *   \n"
     ]
    }
   ],
   "source": [
    "for i in range(5):\n",
    "    for j in range(5):\n",
    "        if j==2 and(j>1 and j<3) or (j==1 and i==1) or i==4:\n",
    "            print(\"*\",end=\" \")\n",
    "        else:\n",
    "            print(\" \",end=\" \")\n",
    "    print()\n",
    "for row in range(7):\n",
    "    for col in range(4):\n",
    "        if (row==0 and col<3) or (col==3 and row!=0 and row!=3 and row!=6) or (row==6 and row!=3 and col<3) or (row==3 and col==1) or row==3 and col==2:\n",
    "            print(\"*\",end=\" \")\n",
    "        else:\n",
    "            print(\" \",end=\" \")\n",
    "    print()\n"
   ]
  },
  {
   "cell_type": "code",
   "execution_count": 1,
   "id": "4157e56e-a2d8-4364-b1a6-53f5e48d861d",
   "metadata": {},
   "outputs": [
    {
     "name": "stdout",
     "output_type": "stream",
     "text": [
      "    *     \n",
      "  * *     \n",
      "    *     \n",
      "    *     \n",
      "* * * * * \n",
      "*     \n",
      "*     \n",
      "*   * \n",
      "* * * \n",
      "    * \n",
      "    * \n"
     ]
    }
   ],
   "source": [
    "for i in range(5):\n",
    "    for j in range(5):\n",
    "        if j==2 and(j>1 and j<3) or (j==1 and i==1) or i==4:\n",
    "            print(\"*\",end=\" \")\n",
    "        else:\n",
    "            print(\" \",end=\" \")\n",
    "    print()\n",
    "for row in range(6):\n",
    "    for col in range(3):\n",
    "        if (row<4 and col==0) or (col==2 and  row>1) or row==3:\n",
    "            print(\"*\",end=\" \")\n",
    "        else:\n",
    "            print(\" \",end=\" \")\n",
    "    print()"
   ]
  },
  {
   "cell_type": "code",
   "execution_count": 3,
   "id": "ea57363b-70e8-4df9-80f1-0832f09a6aa4",
   "metadata": {},
   "outputs": [
    {
     "name": "stdout",
     "output_type": "stream",
     "text": [
      "    *     \n",
      "  * *     \n",
      "    *     \n",
      "    *     \n",
      "* * * * * \n",
      "* * * * \n",
      "*       \n",
      "* * *   \n",
      "      * \n",
      "      * \n",
      "      * \n",
      "* * *   \n"
     ]
    }
   ],
   "source": [
    "for i in range(5):\n",
    "    for j in range(5):\n",
    "        if j==2 and(j>1 and j<3) or (j==1 and i==1) or i==4:\n",
    "            print(\"*\",end=\" \")\n",
    "        else:\n",
    "            print(\" \",end=\" \")\n",
    "    print()\n",
    "for row in range(7):\n",
    "    for col in range(4):\n",
    "        if row==0  or (col<3 and  row==6) or (row<3 and col==0) or (col==3 and row!=1 and row!=2 and row!=6) or ( col==1 and row==2 ) or (col==2 and row==2):\n",
    "            print(\"*\",end=\" \")\n",
    "        else:\n",
    "            print(\" \",end=\" \")\n",
    "    print()"
   ]
  }
 ],
 "metadata": {
  "kernelspec": {
   "display_name": "Python 3 (ipykernel)",
   "language": "python",
   "name": "python3"
  },
  "language_info": {
   "codemirror_mode": {
    "name": "ipython",
    "version": 3
   },
   "file_extension": ".py",
   "mimetype": "text/x-python",
   "name": "python",
   "nbconvert_exporter": "python",
   "pygments_lexer": "ipython3",
   "version": "3.12.4"
  }
 },
 "nbformat": 4,
 "nbformat_minor": 5
}
