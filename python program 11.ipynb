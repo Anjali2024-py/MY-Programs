{
 "cells": [
  {
   "cell_type": "code",
   "execution_count": 1,
   "id": "8169e14e-92c9-4d38-a25c-c64c4750eddf",
   "metadata": {},
   "outputs": [],
   "source": [
    "def addition(n1,n2):\n",
    "    res=n1+n2\n",
    "    return(res)"
   ]
  },
  {
   "cell_type": "code",
   "execution_count": 2,
   "id": "014bb11d-15f0-43ca-8c2d-e199a0f52ae9",
   "metadata": {},
   "outputs": [
    {
     "data": {
      "text/plain": [
       "118"
      ]
     },
     "execution_count": 2,
     "metadata": {},
     "output_type": "execute_result"
    }
   ],
   "source": [
    "addition(54,64)"
   ]
  },
  {
   "cell_type": "code",
   "execution_count": 5,
   "id": "d86e6d9c-3a43-4529-bb4c-65395b5f0657",
   "metadata": {},
   "outputs": [],
   "source": [
    "def radius(r):\n",
    "    area_of_circle=3.14*r**2\n",
    "    return(area_of_circle)"
   ]
  },
  {
   "cell_type": "code",
   "execution_count": 4,
   "id": "e4572d95-b824-4135-be71-faab6c431970",
   "metadata": {},
   "outputs": [
    {
     "data": {
      "text/plain": [
       "50.24"
      ]
     },
     "execution_count": 4,
     "metadata": {},
     "output_type": "execute_result"
    }
   ],
   "source": [
    "radius(4)"
   ]
  },
  {
   "cell_type": "code",
   "execution_count": 6,
   "id": "138e3d46-5599-44fe-be15-93c56b169f47",
   "metadata": {},
   "outputs": [],
   "source": [
    "def Triangle(l,b):\n",
    "    aot=1/2*l*b\n",
    "    return(aot)"
   ]
  },
  {
   "cell_type": "code",
   "execution_count": 7,
   "id": "95226e4d-e08f-4333-a02b-2f09dfd6f1ab",
   "metadata": {},
   "outputs": [
    {
     "data": {
      "text/plain": [
       "10.0"
      ]
     },
     "execution_count": 7,
     "metadata": {},
     "output_type": "execute_result"
    }
   ],
   "source": [
    "Triangle(4,5)"
   ]
  },
  {
   "cell_type": "code",
   "execution_count": 8,
   "id": "88c386e6-4451-4043-ba65-3b44b6097f87",
   "metadata": {},
   "outputs": [],
   "source": [
    "def Area(w,l):\n",
    "    aor=w*l\n",
    "    return(aor)"
   ]
  },
  {
   "cell_type": "code",
   "execution_count": 10,
   "id": "38e36844-53c8-4fef-8f6b-ebb879186961",
   "metadata": {},
   "outputs": [
    {
     "data": {
      "text/plain": [
       "360"
      ]
     },
     "execution_count": 10,
     "metadata": {},
     "output_type": "execute_result"
    }
   ],
   "source": [
    "Area(45,8)"
   ]
  },
  {
   "cell_type": "code",
   "execution_count": 11,
   "id": "b404676b-c298-452a-813e-4b093af7e4ea",
   "metadata": {},
   "outputs": [],
   "source": [
    "#Area of square\n",
    "def Area(base1,base2,height):\n",
    "    res=1/2*(base1+base2)*height\n",
    "    return res"
   ]
  },
  {
   "cell_type": "code",
   "execution_count": 12,
   "id": "dbf1bac2-30f9-4ac3-b2fc-9e641ca73119",
   "metadata": {},
   "outputs": [
    {
     "data": {
      "text/plain": [
       "17.0"
      ]
     },
     "execution_count": 12,
     "metadata": {},
     "output_type": "execute_result"
    }
   ],
   "source": [
    "Area(12,5,2)"
   ]
  },
  {
   "cell_type": "code",
   "execution_count": 13,
   "id": "b8f188d3-0ada-44db-b8a4-bf2c2e11417d",
   "metadata": {},
   "outputs": [],
   "source": [
    "# Area of elipse\n",
    "def radius(r1,r2):\n",
    "    AOE=3.14*r1*r2\n",
    "    return AOE"
   ]
  },
  {
   "cell_type": "code",
   "execution_count": 14,
   "id": "05efb48f-24cd-4b18-b0af-a9362f876576",
   "metadata": {},
   "outputs": [
    {
     "data": {
      "text/plain": [
       "47.1"
      ]
     },
     "execution_count": 14,
     "metadata": {},
     "output_type": "execute_result"
    }
   ],
   "source": [
    "radius(3,5)"
   ]
  },
  {
   "cell_type": "code",
   "execution_count": 15,
   "id": "8819428f-6986-413d-9047-582f1a1df249",
   "metadata": {},
   "outputs": [],
   "source": [
    "#length\n",
    "def radius(r):\n",
    "    L=2*3.14*r\n",
    "    return L"
   ]
  },
  {
   "cell_type": "code",
   "execution_count": 16,
   "id": "b28c2339-c4d8-4318-b17a-6a6ac42af5fa",
   "metadata": {},
   "outputs": [
    {
     "data": {
      "text/plain": [
       "31.400000000000002"
      ]
     },
     "execution_count": 16,
     "metadata": {},
     "output_type": "execute_result"
    }
   ],
   "source": [
    "radius(5)\n"
   ]
  },
  {
   "cell_type": "code",
   "execution_count": 17,
   "id": "24fdfc51-840f-4f97-acb0-00ed8f5cd48e",
   "metadata": {},
   "outputs": [],
   "source": [
    "#to calculate the force\n",
    "def element(force,acce):\n",
    "    mass=force/acce\n",
    "    return mass"
   ]
  },
  {
   "cell_type": "code",
   "execution_count": 18,
   "id": "0671b4c4-7eba-4546-b882-183780a0b435",
   "metadata": {},
   "outputs": [
    {
     "data": {
      "text/plain": [
       "2.5"
      ]
     },
     "execution_count": 18,
     "metadata": {},
     "output_type": "execute_result"
    }
   ],
   "source": [
    "element(5,2)"
   ]
  },
  {
   "cell_type": "code",
   "execution_count": 19,
   "id": "d410adc5-2f03-4ef5-8a22-ef7f1444b014",
   "metadata": {},
   "outputs": [],
   "source": [
    "def even_or_odd(num):\n",
    "    if num%2==0:\n",
    "        return(\"even\")\n",
    "    else:\n",
    "        return(\"odd\")"
   ]
  },
  {
   "cell_type": "code",
   "execution_count": 20,
   "id": "24229ac6-1f19-4fee-b13a-e8a693d871ba",
   "metadata": {},
   "outputs": [
    {
     "name": "stdin",
     "output_type": "stream",
     "text": [
      "enter a number: 2\n"
     ]
    },
    {
     "data": {
      "text/plain": [
       "'even'"
      ]
     },
     "execution_count": 20,
     "metadata": {},
     "output_type": "execute_result"
    }
   ],
   "source": [
    "x=int(input(\"enter a number:\"))\n",
    "even_or_odd(x)"
   ]
  },
  {
   "cell_type": "code",
   "execution_count": 21,
   "id": "a593323c-4ca7-4cd3-b78c-03c43a1e7032",
   "metadata": {},
   "outputs": [],
   "source": [
    "#Area Of square\n",
    "def square(a):\n",
    "    res=a**2\n",
    "    return(res)"
   ]
  },
  {
   "cell_type": "code",
   "execution_count": 22,
   "id": "048d9579-11ef-41b9-958d-ccec014e40a6",
   "metadata": {},
   "outputs": [
    {
     "data": {
      "text/plain": [
       "25"
      ]
     },
     "execution_count": 22,
     "metadata": {},
     "output_type": "execute_result"
    }
   ],
   "source": [
    "square(5)"
   ]
  },
  {
   "cell_type": "code",
   "execution_count": null,
   "id": "5da129aa-054d-4c75-8dab-6ef7ffa9b31a",
   "metadata": {},
   "outputs": [],
   "source": []
  }
 ],
 "metadata": {
  "kernelspec": {
   "display_name": "Python 3 (ipykernel)",
   "language": "python",
   "name": "python3"
  },
  "language_info": {
   "codemirror_mode": {
    "name": "ipython",
    "version": 3
   },
   "file_extension": ".py",
   "mimetype": "text/x-python",
   "name": "python",
   "nbconvert_exporter": "python",
   "pygments_lexer": "ipython3",
   "version": "3.12.4"
  }
 },
 "nbformat": 4,
 "nbformat_minor": 5
}
