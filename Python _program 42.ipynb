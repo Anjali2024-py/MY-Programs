{
 "cells": [
  {
   "cell_type": "code",
   "execution_count": 5,
   "id": "485695cb-2f70-4552-aeeb-6633551c8056",
   "metadata": {},
   "outputs": [
    {
     "name": "stdout",
     "output_type": "stream",
     "text": [
      "       1 \n",
      "      1 1 \n",
      "     1 2 1 \n",
      "    1 3 3 1 \n",
      "   1 4 6 4 1 \n",
      "  1 5 10 10 5 1 \n"
     ]
    }
   ],
   "source": [
    "#Print Pascal's Traingle  \n",
    "n=6\n",
    "for i in range(n):\n",
    "    print(' '*(n-i),end=\" \")\n",
    "    coef=1\n",
    "    for j in range(0,i+1):\n",
    "        print(coef, end=' ')\n",
    "        coef = coef * (i - j) // (j + 1)\n",
    "    print()"
   ]
  },
  {
   "cell_type": "code",
   "execution_count": 6,
   "id": "61395717-1672-4ed8-b833-4701ede2e577",
   "metadata": {},
   "outputs": [],
   "source": [
    "#Program to Print K using Alphabets"
   ]
  },
  {
   "cell_type": "code",
   "execution_count": 7,
   "id": "8634fd05-a6bb-47cd-8d78-68cebb92dc18",
   "metadata": {},
   "outputs": [
    {
     "name": "stdout",
     "output_type": "stream",
     "text": [
      "A B C D E F \n",
      "A B C D E \n",
      "A B C D \n",
      "A B C \n",
      "A B \n",
      "A \n",
      "A \n",
      "A B \n",
      "A B C \n",
      "A B C D \n",
      "A B C D E \n",
      "A B C D E F \n"
     ]
    }
   ],
   "source": [
    "# Python Program to design the \n",
    "# above pattern of K using alphabets\n",
    "  \n",
    "# Function to print the above Pattern\n",
    "def display(n):\n",
    "    v = n\n",
    "     \n",
    "    # This loop is used for rows and \n",
    "    # prints the alphabets in decreasing\n",
    "    # order\n",
    "    while ( v >= 0) : \n",
    "        c = 65\n",
    "         \n",
    "        # This loop is used for columns\n",
    "        for j in range(v + 1): \n",
    "             \n",
    "            # chr() function converts the \n",
    "            # number to alphabet\n",
    "            print( chr ( c + j ), end = \" \") \n",
    "        v = v - 1\n",
    "        print()\n",
    "         \n",
    "    # This loop is again used to rows and\n",
    "    # prints the half remaining pattern in\n",
    "    # increasing order\n",
    "    for i in range(n + 1): \n",
    "        c = 65\n",
    "         \n",
    "        for j in range( i + 1):\n",
    "            print( chr ( c + j), end =\" \")\n",
    "        print()\n",
    " \n",
    "# Driver code\n",
    "n = 5\n",
    "display(n)"
   ]
  },
  {
   "cell_type": "code",
   "execution_count": 8,
   "id": "5a2aa8ac-9958-4945-af6d-65435419d01a",
   "metadata": {},
   "outputs": [
    {
     "name": "stdout",
     "output_type": "stream",
     "text": [
      "* * * * * * * \n",
      "*     *     * \n",
      "*     *     * \n",
      "* * * * * * * \n",
      "*     *     * \n",
      "*     *     * \n",
      "* * * * * * * \n"
     ]
    }
   ],
   "source": [
    "# Python3 program to print the pattern \n",
    "# hollow square with plus inside it\n",
    "# window pattern\n",
    " \n",
    " \n",
    "# function to print pattern n means \n",
    "# number of rows which we want\n",
    "def window_pattern(n):\n",
    "     \n",
    "    # if n is odd then we will have\n",
    "    # only one middle element\n",
    "    if n % 2 != 0:\n",
    "        c = ( n // 2 ) + 1\n",
    "        d = 0\n",
    "         \n",
    "    # if n is even then we will have two\n",
    "    # values\n",
    "    else:\n",
    "        c = ( n // 2 ) + 1\n",
    "        d = ( n // 2 )\n",
    " \n",
    "    for i in range( 1 , n + 1 ):\n",
    "        for j in range( 1 , n + 1 ):\n",
    "             \n",
    "            # if i,j equals to corner row or\n",
    "            # column then \"*\"\n",
    "            if i == 1 or j == 1 or i == n or j == n:\n",
    "                print(\"*\",end=\" \")\n",
    "                 \n",
    "            else:\n",
    "                 \n",
    "                # if i,j equals to the middle row \n",
    "                # or column then  \"*\"\n",
    "                if i == c or j == c:\n",
    "                    print(\"*\",end=\" \")\n",
    "                     \n",
    "                elif i == d or j == d:\n",
    "                    print(\"*\",end=\" \")\n",
    "                 \n",
    "                else:\n",
    "                    print(\" \",end=\" \")\n",
    "         \n",
    "        print()\n",
    " \n",
    " \n",
    "# Driver Code \n",
    "if __name__ == \"__main__\":\n",
    "    n = 7\n",
    "    window_pattern(n)"
   ]
  },
  {
   "cell_type": "code",
   "execution_count": 10,
   "id": "e3c84e0a-eefd-4a0e-bf9e-46856d94e65e",
   "metadata": {},
   "outputs": [
    {
     "name": "stdout",
     "output_type": "stream",
     "text": [
      "|****\n",
      "|*\n",
      "|***\n",
      "|**\n",
      "|*****\n"
     ]
    }
   ],
   "source": [
    "\n",
    "\n",
    "# function to print the pattern  \n",
    "def pattern(n):  \n",
    "  \n",
    "    # traverse through the elements  \n",
    "    # in n assuming it as a string  \n",
    "    for i in n:  \n",
    "  \n",
    "        # print | for every line  \n",
    "        print(\"|\", end = \"\")  \n",
    "  \n",
    "        # print i number of * s in  \n",
    "        # each line  \n",
    "        print(\"*\" * int(i))  \n",
    "  \n",
    "# get the input as string          \n",
    "n = \"41325\"\n",
    "pattern(n)  "
   ]
  },
  {
   "cell_type": "code",
   "execution_count": 11,
   "id": "3fb73086-3bf5-47fb-8126-7b8094124a6d",
   "metadata": {},
   "outputs": [
    {
     "name": "stdout",
     "output_type": "stream",
     "text": [
      "|****\n",
      "|*\n",
      "|***\n",
      "|**\n",
      "|*****\n"
     ]
    }
   ],
   "source": [
    "n = 41325\n",
    "x = []  \n",
    "while n>0:  \n",
    "    x.append(n%10)  \n",
    "    n //= 10\n",
    "for i in range(len(x)-1,-1,-1):  \n",
    "    print('|'+x[i]*'*')"
   ]
  },
  {
   "cell_type": "code",
   "execution_count": 12,
   "id": "5115bea6-bada-4705-ba6f-facee1d1c515",
   "metadata": {},
   "outputs": [
    {
     "name": "stdout",
     "output_type": "stream",
     "text": [
      "|****\n",
      "|*\n",
      "|***\n",
      "|**\n",
      "|*****\n"
     ]
    }
   ],
   "source": [
    "def pattern(n): \n",
    "    # Convert the input number to a string \n",
    "    n = str(n) \n",
    "      \n",
    "    # Use a list comprehension to generate the desired output \n",
    "    pattern = [\"|\" + \"*\" * int(digit) for digit in n] \n",
    "      \n",
    "    # Join the elements of the pattern list and print the result \n",
    "    print(\"\\n\".join(pattern)) \n",
    "  \n",
    "# Test the function \n",
    "pattern(41325) \n",
    "  \n",
    "#This code is contributed by Edula Vinay Kumar Reddy"
   ]
  },
  {
   "cell_type": "code",
   "execution_count": 14,
   "id": "5cee983e-2690-4914-bca5-9402e92c483c",
   "metadata": {},
   "outputs": [
    {
     "name": "stdout",
     "output_type": "stream",
     "text": [
      "1 2 3 \n",
      "2 3 1 \n",
      "3 1 2 \n"
     ]
    }
   ],
   "source": [
    "def print_pattern(n):\n",
    "    for i in range(1, n+1, 1):\n",
    "        for j in range(1, n+1, 1):\n",
    "            # check that if index i is\n",
    "            # equal to j\n",
    "            if i == j:\n",
    " \n",
    "                print(j, end=\" \")\n",
    "                # if index i is less than j\n",
    "                if i <= j:\n",
    " \n",
    "                    for k in range(j+1, n+1, 1):\n",
    "                        print(k, end=\" \")\n",
    " \n",
    "                for p in range(1, j, 1):\n",
    "                    print(p, end=\" \")\n",
    " \n",
    "        # print new line\n",
    "        print()\n",
    " \n",
    " \n",
    "# Driver's code\n",
    "print_pattern(3)"
   ]
  },
  {
   "cell_type": "code",
   "execution_count": 15,
   "id": "7d66b288-d10f-4a84-b5a0-cb122dc82653",
   "metadata": {},
   "outputs": [
    {
     "name": "stdout",
     "output_type": "stream",
     "text": [
      "1 2 3 4 5 6 \n",
      "2 3 4 5 6 1 \n",
      "3 4 5 6 1 2 \n",
      "4 5 6 1 2 3 \n",
      "5 6 1 2 3 4 \n",
      "6 1 2 3 4 5 \n"
     ]
    }
   ],
   "source": [
    "\n",
    "def print_pattern(n):\n",
    "    x = []\n",
    "    for i in range(1, n+1):\n",
    "        x.append(i)\n",
    "        print(i, end=\" \")\n",
    "    print()\n",
    "    j = 0\n",
    "    while(j < n-1):\n",
    "        a = x[0]\n",
    "        x.pop(0)\n",
    "        x.append(a)\n",
    "        for k in x:\n",
    "            print(k, end=\" \")\n",
    "        print()\n",
    "        j += 1\n",
    " \n",
    " \n",
    "print_pattern(6)"
   ]
  },
  {
   "cell_type": "code",
   "execution_count": 16,
   "id": "be2b88f2-8476-4a23-a0a0-9386869e0cd2",
   "metadata": {},
   "outputs": [
    {
     "name": "stdout",
     "output_type": "stream",
     "text": [
      "1 2 3 4 5 6 \n",
      "2 3 4 5 6 1 \n",
      "3 4 5 6 1 2 \n",
      "4 5 6 1 2 3 \n",
      "5 6 1 2 3 4 \n",
      "6 1 2 3 4 5 \n"
     ]
    }
   ],
   "source": [
    "def print_pattern(n):\n",
    "    for i in range(n):\n",
    "        for j in range(n):\n",
    "            print((j+i)%n+1, end=\" \")\n",
    "        print()\n",
    " \n",
    "# Driver's code\n",
    "print_pattern(6)\n",
    "#This code is contributed by Edula Vinay Kumar Reddy"
   ]
  },
  {
   "cell_type": "code",
   "execution_count": null,
   "id": "097d666a-9551-4de0-aa25-5b1c3fc43b98",
   "metadata": {},
   "outputs": [],
   "source": []
  }
 ],
 "metadata": {
  "kernelspec": {
   "display_name": "Python 3 (ipykernel)",
   "language": "python",
   "name": "python3"
  },
  "language_info": {
   "codemirror_mode": {
    "name": "ipython",
    "version": 3
   },
   "file_extension": ".py",
   "mimetype": "text/x-python",
   "name": "python",
   "nbconvert_exporter": "python",
   "pygments_lexer": "ipython3",
   "version": "3.12.4"
  }
 },
 "nbformat": 4,
 "nbformat_minor": 5
}
