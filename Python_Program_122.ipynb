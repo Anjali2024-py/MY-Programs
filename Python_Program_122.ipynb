{
 "cells": [
  {
   "cell_type": "code",
   "execution_count": 4,
   "id": "764247be-6cc3-43f8-88ba-b56f08b3dce5",
   "metadata": {},
   "outputs": [
    {
     "name": "stdout",
     "output_type": "stream",
     "text": [
      "The first number diisible by 7 is 7\n"
     ]
    }
   ],
   "source": [
    "for num in range(1,51):\n",
    "    if num%7==0:\n",
    "        print(f\"The first number diisible by 7 is {num}\")\n",
    "        break"
   ]
  },
  {
   "cell_type": "code",
   "execution_count": 5,
   "id": "e3060bc6-e0b8-404d-8020-e77267281c3c",
   "metadata": {},
   "outputs": [
    {
     "name": "stdin",
     "output_type": "stream",
     "text": [
      "Enter the num(0 to quit): 5\n"
     ]
    },
    {
     "name": "stdout",
     "output_type": "stream",
     "text": [
      "you entered: 5\n"
     ]
    },
    {
     "name": "stdin",
     "output_type": "stream",
     "text": [
      "Enter the num(0 to quit): 8\n"
     ]
    },
    {
     "name": "stdout",
     "output_type": "stream",
     "text": [
      "you entered: 8\n"
     ]
    },
    {
     "name": "stdin",
     "output_type": "stream",
     "text": [
      "Enter the num(0 to quit): 2\n"
     ]
    },
    {
     "name": "stdout",
     "output_type": "stream",
     "text": [
      "you entered: 2\n"
     ]
    },
    {
     "name": "stdin",
     "output_type": "stream",
     "text": [
      "Enter the num(0 to quit): 0\n"
     ]
    },
    {
     "name": "stdout",
     "output_type": "stream",
     "text": [
      "Existing the loop.\n"
     ]
    }
   ],
   "source": [
    "while True:\n",
    "    num=int(input(\"Enter the num(0 to quit):\"))\n",
    "    if num==0:\n",
    "        print(\"Existing the loop.\")\n",
    "        break\n",
    "    print(f\"you entered: {num}\")"
   ]
  },
  {
   "cell_type": "code",
   "execution_count": 6,
   "id": "b3ae493d-a552-466b-9c1b-555032b9b2a4",
   "metadata": {},
   "outputs": [
    {
     "name": "stdout",
     "output_type": "stream",
     "text": [
      "i=1,j=1\n",
      "i=1,j=2\n",
      "i=1,j=3\n",
      "i=2,j=1\n",
      "Breaking the loop when i=2,j=2\n",
      "i=3,j=1\n",
      "i=3,j=2\n",
      "i=3,j=3\n"
     ]
    }
   ],
   "source": [
    "for i in range(1,4):\n",
    "    for j in range(1,4):\n",
    "        if i==2 and j==2:\n",
    "            print(f\"Breaking the loop when i={i},j={j}\")\n",
    "            break\n",
    "        print(f\"i={i},j={j}\")"
   ]
  },
  {
   "cell_type": "code",
   "execution_count": 13,
   "id": "ee8cd9d2-2400-474b-b101-ce7472f2e159",
   "metadata": {},
   "outputs": [
    {
     "name": "stdout",
     "output_type": "stream",
     "text": [
      "Found Kavita!\n"
     ]
    }
   ],
   "source": [
    "names=['Anjali','Pooja','Shital','Kavita','Akash','Ganesh']\n",
    "search_name='Kavita'\n",
    "\n",
    "for name in names:\n",
    "    if name ==search_name:\n",
    "        print(f\"Found {search_name}!\")\n",
    "        break\n",
    "else:\n",
    "    print(f\"{search_name} not found in the list.\")\n",
    "        "
   ]
  },
  {
   "cell_type": "code",
   "execution_count": 27,
   "id": "b7eee640-1242-48dc-b227-7158f873818c",
   "metadata": {},
   "outputs": [
    {
     "name": "stdin",
     "output_type": "stream",
     "text": [
      "Enter a  number to check if it's prime: 5\n"
     ]
    },
    {
     "name": "stdout",
     "output_type": "stream",
     "text": [
      "5 is a prime number.\n"
     ]
    }
   ],
   "source": [
    "number=int(input(\"Enter a  number to check if it's prime:\"))\n",
    "if number>1:\n",
    "    for i in range(2,number):\n",
    "        if number%i==0:\n",
    "            print(f\"{number} is not a prime number. It is divisible by {i}.\")\n",
    "            break\n",
    "    else:\n",
    "        print(f\"{number} is a prime number.\")\n",
    "else:\n",
    "    print(f\"{number } is not prime number.\")\n",
    "            "
   ]
  },
  {
   "cell_type": "code",
   "execution_count": null,
   "id": "447570f2-7924-47d2-a125-d1f25751724a",
   "metadata": {},
   "outputs": [],
   "source": []
  }
 ],
 "metadata": {
  "kernelspec": {
   "display_name": "Python 3 (ipykernel)",
   "language": "python",
   "name": "python3"
  },
  "language_info": {
   "codemirror_mode": {
    "name": "ipython",
    "version": 3
   },
   "file_extension": ".py",
   "mimetype": "text/x-python",
   "name": "python",
   "nbconvert_exporter": "python",
   "pygments_lexer": "ipython3",
   "version": "3.12.4"
  }
 },
 "nbformat": 4,
 "nbformat_minor": 5
}
