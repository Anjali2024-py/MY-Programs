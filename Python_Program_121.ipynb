{
 "cells": [
  {
   "cell_type": "code",
   "execution_count": 4,
   "id": "769012e6-8720-4d1f-b9e7-aa9ec74b428c",
   "metadata": {},
   "outputs": [
    {
     "name": "stdout",
     "output_type": "stream",
     "text": [
      "1\n",
      "2\n",
      "3\n",
      "Stopped at 4\n"
     ]
    }
   ],
   "source": [
    "count=0\n",
    "while True:\n",
    "    count+=1\n",
    "    if count>3:\n",
    "        break\n",
    "    print(count)\n",
    "print(\"Stopped at 4\")"
   ]
  },
  {
   "cell_type": "code",
   "execution_count": 5,
   "id": "d9a946bc-93bc-45cb-9877-359b8f4f8cfc",
   "metadata": {},
   "outputs": [
    {
     "name": "stdout",
     "output_type": "stream",
     "text": [
      "0 0\n",
      "0 1\n",
      "0 2\n",
      "1 0\n",
      "2 0\n",
      "2 1\n",
      "2 2\n"
     ]
    }
   ],
   "source": [
    "for i in range(3):\n",
    "    for j in range(3):\n",
    "        if i==1 and j==1:\n",
    "            break\n",
    "        print(i,j)"
   ]
  },
  {
   "cell_type": "code",
   "execution_count": 7,
   "id": "25ac8c6b-a30c-4d36-afe2-b7a8bfefdba0",
   "metadata": {},
   "outputs": [
    {
     "name": "stdin",
     "output_type": "stream",
     "text": [
      "Enter a number ( or 0 to break ): 6\n"
     ]
    },
    {
     "name": "stdout",
     "output_type": "stream",
     "text": [
      "You entered 6\n"
     ]
    },
    {
     "name": "stdin",
     "output_type": "stream",
     "text": [
      "Enter a number ( or 0 to break ): 1\n"
     ]
    },
    {
     "name": "stdout",
     "output_type": "stream",
     "text": [
      "You entered 1\n"
     ]
    },
    {
     "name": "stdin",
     "output_type": "stream",
     "text": [
      "Enter a number ( or 0 to break ): 2\n"
     ]
    },
    {
     "name": "stdout",
     "output_type": "stream",
     "text": [
      "You entered 2\n"
     ]
    },
    {
     "name": "stdin",
     "output_type": "stream",
     "text": [
      "Enter a number ( or 0 to break ): 0\n"
     ]
    }
   ],
   "source": [
    "while True:\n",
    "    num=int(input(\"Enter a number ( or 0 to break ):\"))\n",
    "    if num==0:\n",
    "        break\n",
    "    print(f\"You entered {num}\")"
   ]
  },
  {
   "cell_type": "code",
   "execution_count": 8,
   "id": "240fb9d6-6b56-4d2f-9677-56d6dd5b1e29",
   "metadata": {},
   "outputs": [
    {
     "name": "stdout",
     "output_type": "stream",
     "text": [
      "Found a prime number:11\n"
     ]
    }
   ],
   "source": [
    "for num in range(10,20):\n",
    "    if num %2==0:\n",
    "        continue\n",
    "    if all(num%i!=0 for i in range(2,num)):\n",
    "        print(f\"Found a prime number:{num}\")\n",
    "        break"
   ]
  },
  {
   "cell_type": "code",
   "execution_count": 9,
   "id": "5baf5cf6-d828-4f64-9713-5b1379cb3554",
   "metadata": {},
   "outputs": [
    {
     "name": "stdout",
     "output_type": "stream",
     "text": [
      "0\n",
      "1\n",
      "2\n",
      "3\n",
      "4\n",
      "5\n",
      "6\n",
      "7\n",
      "8\n",
      "9\n"
     ]
    }
   ],
   "source": [
    "for i in range(20):\n",
    "    print(i)\n",
    "    if i==9:\n",
    "        break"
   ]
  },
  {
   "cell_type": "code",
   "execution_count": null,
   "id": "087c9602-4c76-4ef3-a010-7778a6a6f654",
   "metadata": {},
   "outputs": [],
   "source": []
  }
 ],
 "metadata": {
  "kernelspec": {
   "display_name": "Python 3 (ipykernel)",
   "language": "python",
   "name": "python3"
  },
  "language_info": {
   "codemirror_mode": {
    "name": "ipython",
    "version": 3
   },
   "file_extension": ".py",
   "mimetype": "text/x-python",
   "name": "python",
   "nbconvert_exporter": "python",
   "pygments_lexer": "ipython3",
   "version": "3.12.4"
  }
 },
 "nbformat": 4,
 "nbformat_minor": 5
}
