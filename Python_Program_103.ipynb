{
 "cells": [
  {
   "cell_type": "code",
   "execution_count": 1,
   "id": "738a0538-ae1d-4e56-acd3-9f4d97d8bf65",
   "metadata": {},
   "outputs": [
    {
     "name": "stdin",
     "output_type": "stream",
     "text": [
      "Enter the number:  5\n"
     ]
    },
    {
     "name": "stdout",
     "output_type": "stream",
     "text": [
      "The factorial of 5 is 120.\n"
     ]
    }
   ],
   "source": [
    "#find the factorial of the number:\n",
    "# Input: Get the number from the user\n",
    "num = int(input(\"Enter the number: \"))\n",
    "\n",
    "# Initialize the factorial variable\n",
    "factorial = 1\n",
    "\n",
    "if num < 0:\n",
    "    print(\"Sorry! Factorial for negative numbers does not exist.\")\n",
    "elif num == 0:\n",
    "    print(\"Factorial of 0 is 1.\")\n",
    "else:\n",
    "    for i in range(1, num + 1):\n",
    "        factorial *= i  \n",
    "    print(f\"The factorial of {num} is {factorial}.\")"
   ]
  },
  {
   "cell_type": "code",
   "execution_count": 2,
   "id": "1fbe1bfd-1fd4-4288-b858-ffec43b331ba",
   "metadata": {},
   "outputs": [
    {
     "name": "stdout",
     "output_type": "stream",
     "text": [
      "Area: 78.5\n",
      "Area: 28\n",
      "Area: 9\n"
     ]
    }
   ],
   "source": [
    "# Parent class Shape\n",
    "class Shape:\n",
    "    def area(self):\n",
    "        pass\n",
    "\n",
    "# Child class Circle\n",
    "class Circle(Shape):\n",
    "    def __init__(self, radius):\n",
    "        self.radius = radius\n",
    "\n",
    "    def area(self):\n",
    "        return 3.14 * self.radius ** 2\n",
    "\n",
    "# Child class Rectangle\n",
    "class Rectangle(Shape):\n",
    "    def __init__(self, width, height):\n",
    "        self.width = width\n",
    "        self.height = height\n",
    "\n",
    "    def area(self):\n",
    "        return self.width * self.height\n",
    "\n",
    "# Child class Square (inherits from Rectangle)\n",
    "class Square(Rectangle):\n",
    "    def __init__(self, side):\n",
    "        super().__init__(side, side)  # A square is a special case of a rectangle\n",
    "\n",
    "# Function to calculate the area of any shape\n",
    "def print_area(shape: Shape):\n",
    "    print(f\"Area: {shape.area()}\")\n",
    "\n",
    "# Create objects\n",
    "circle = Circle(5)\n",
    "rectangle = Rectangle(4, 7)\n",
    "square = Square(3)\n",
    "\n",
    "# Polymorphic behavior\n",
    "print_area(circle)       # Output: Area: 78.5\n",
    "print_area(rectangle)    # Output: Area: 28\n",
    "print_area(square)       # Output: Area: 9\n"
   ]
  },
  {
   "cell_type": "code",
   "execution_count": 3,
   "id": "09fc4ea9-d4cc-4176-8dbf-2eb18bbf059c",
   "metadata": {},
   "outputs": [
    {
     "name": "stdout",
     "output_type": "stream",
     "text": [
      "Name: Alice, Age: 35\n",
      "Employee ID: M123, Salary: $95000\n",
      "Department: HR\n"
     ]
    }
   ],
   "source": [
    "class Person:\n",
    "    def __init__(self, name, age):\n",
    "        self.name = name\n",
    "        self.age = age\n",
    "\n",
    "    def display_person(self):\n",
    "        print(f\"Name: {self.name}, Age: {self.age}\")\n",
    "\n",
    "class Employee:\n",
    "    def __init__(self, emp_id, salary):\n",
    "        self.emp_id = emp_id\n",
    "        self.salary = salary\n",
    "\n",
    "    def display_employee(self):\n",
    "        print(f\"Employee ID: {self.emp_id}, Salary: ${self.salary}\")\n",
    "\n",
    "# Multiple inheritance\n",
    "class Manager(Person, Employee):\n",
    "    def __init__(self, name, age, emp_id, salary, department):\n",
    "        Person.__init__(self, name, age)\n",
    "        Employee.__init__(self, emp_id, salary)\n",
    "        self.department = department\n",
    "\n",
    "    def display_manager(self):\n",
    "        self.display_person()\n",
    "        self.display_employee()\n",
    "        print(f\"Department: {self.department}\")\n",
    "\n",
    "# Create an object of Manager\n",
    "manager = Manager(\"Alice\", 35, \"M123\", 95000, \"HR\")\n",
    "manager.display_manager()\n"
   ]
  },
  {
   "cell_type": "code",
   "execution_count": null,
   "id": "73a46d6e-206c-4db3-9965-f2fb57b6ed29",
   "metadata": {},
   "outputs": [],
   "source": []
  }
 ],
 "metadata": {
  "kernelspec": {
   "display_name": "Python 3 (ipykernel)",
   "language": "python",
   "name": "python3"
  },
  "language_info": {
   "codemirror_mode": {
    "name": "ipython",
    "version": 3
   },
   "file_extension": ".py",
   "mimetype": "text/x-python",
   "name": "python",
   "nbconvert_exporter": "python",
   "pygments_lexer": "ipython3",
   "version": "3.12.4"
  }
 },
 "nbformat": 4,
 "nbformat_minor": 5
}
