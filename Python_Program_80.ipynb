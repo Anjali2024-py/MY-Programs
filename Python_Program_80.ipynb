{
 "cells": [
  {
   "cell_type": "code",
   "execution_count": 1,
   "id": "4e9e33e1-4a1d-43cb-a175-af53650c1188",
   "metadata": {},
   "outputs": [
    {
     "name": "stdout",
     "output_type": "stream",
     "text": [
      "This is a string with multiple spaces.\n"
     ]
    }
   ],
   "source": [
    "#Replace Multiple spaces with a single space.\n",
    "#replace multiple spaces in astring with a single space\n",
    "import re\n",
    "\n",
    "def replace_multiple_spaces(text):\n",
    "    # Use regex to replace multiple spaces with a single space\n",
    "    return re.sub(r'\\s+', ' ', text).strip()\n",
    "\n",
    "# Example usage\n",
    "input_string = \"This   is   a    string    with    multiple   spaces.\"\n",
    "cleaned_string = replace_multiple_spaces(input_string)\n",
    "print(cleaned_string)\n",
    "\n"
   ]
  },
  {
   "cell_type": "code",
   "execution_count": 2,
   "id": "34db6f16-1e2a-440d-ab0c-dc6efb58da52",
   "metadata": {},
   "outputs": [
    {
     "name": "stdout",
     "output_type": "stream",
     "text": [
      "['$45.99', '$10']\n"
     ]
    }
   ],
   "source": [
    "#Extracting currency amount extract currency amount from a string \n",
    "import re\n",
    "\n",
    "def extract_currency_amounts(text):\n",
    "    # Define a regex pattern to match currency amounts\n",
    "    pattern = r'\\$\\d+(?:\\.\\d{2})?'\n",
    "    return re.findall(pattern, text)\n",
    "\n",
    "# Example usage\n",
    "input_string = \"The total cost is $45.99, but the discount is $10.\"\n",
    "currency_amounts = extract_currency_amounts(input_string)\n",
    "print(currency_amounts)\n",
    "\n",
    "    "
   ]
  },
  {
   "cell_type": "code",
   "execution_count": 5,
   "id": "8015900d-5adf-48ed-809d-51179ce066f5",
   "metadata": {},
   "outputs": [
    {
     "name": "stdout",
     "output_type": "stream",
     "text": [
      "Number of consonants: 19\n"
     ]
    }
   ],
   "source": [
    "#Count Consonanats in a string\n",
    "#count the number of consonants in a given string\n",
    "import re\n",
    "\n",
    "def count_consonants(text):\n",
    "    # Define a regex pattern to match consonants\n",
    "    pattern = r'[bcdfghjklmnpqrstvwxyzBCDFGHJKLMNPQRSTVWXYZ]'\n",
    "    consonants = re.findall(pattern, text)\n",
    "    return len(consonants)\n",
    "\n",
    "# Example usage\n",
    "input_string = \"Hello, World! This is a test string.\"\n",
    "consonant_count = count_consonants(input_string)\n",
    "print(\"Number of consonants:\", consonant_count)\n",
    "\n"
   ]
  },
  {
   "cell_type": "code",
   "execution_count": 6,
   "id": "0b183bd5-040e-4b9a-8dec-f8d3fe753a7d",
   "metadata": {},
   "outputs": [
    {
     "name": "stdout",
     "output_type": "stream",
     "text": [
      "123-45-6789 is a valid SSN.\n",
      "123-45-678 is not a valid SSN.\n",
      "123-456-7890 is not a valid SSN.\n",
      "abc-def-ghij is not a valid SSN.\n"
     ]
    }
   ],
   "source": [
    "#validate a social security number(ssn)\n",
    "#check if a string is a vaalid us social security number\n",
    "import re\n",
    "\n",
    "def validate_ssn(ssn):\n",
    "    # Define the regex pattern for a valid SSN\n",
    "    pattern = r'^\\d{3}-\\d{2}-\\d{4}$'\n",
    "    return bool(re.match(pattern, ssn))\n",
    "\n",
    "# Example usage\n",
    "ssn_list = ['123-45-6789', '123-45-678', '123-456-7890', 'abc-def-ghij']\n",
    "for ssn in ssn_list:\n",
    "    if validate_ssn(ssn):\n",
    "        print(f\"{ssn} is a valid SSN.\")\n",
    "    else:\n",
    "        print(f\"{ssn} is not a valid SSN.\")\n"
   ]
  },
  {
   "cell_type": "code",
   "execution_count": 7,
   "id": "ade0dcdc-e282-48eb-8918-35878f948213",
   "metadata": {},
   "outputs": [
    {
     "name": "stdout",
     "output_type": "stream",
     "text": [
      "'(a + b) * (c + d)' is balanced.\n",
      "'[(a + b) * {c + d}]' is balanced.\n",
      "'(a + b] * (c + d)' is not balanced.\n",
      "'((a + b) * (c + d)' is not balanced.\n",
      "'({[a + b] * (c + d)})' is balanced.\n"
     ]
    }
   ],
   "source": [
    "#Check for balanced parenthesis \n",
    "#Check if the parenthesis in astring are balanced\n",
    "def check_balanced_parentheses(text):\n",
    "    stack = []\n",
    "    # Dictionary to hold matching pairs\n",
    "    pairs = {')': '(', '}': '{', ']': '['}\n",
    "\n",
    "    for char in text:\n",
    "        if char in pairs.values():  # If it's an opening bracket\n",
    "            stack.append(char)\n",
    "        elif char in pairs.keys():  # If it's a closing bracket\n",
    "            if stack == [] or stack.pop() != pairs[char]:\n",
    "                return False\n",
    "\n",
    "    return stack == []  # Return True if stack is empty\n",
    "\n",
    "# Example usage\n",
    "input_strings = [\n",
    "    \"(a + b) * (c + d)\",\n",
    "    \"[(a + b) * {c + d}]\",\n",
    "    \"(a + b] * (c + d)\",\n",
    "    \"((a + b) * (c + d)\",\n",
    "    \"({[a + b] * (c + d)})\"\n",
    "]\n",
    "\n",
    "for s in input_strings:\n",
    "    if check_balanced_parentheses(s):\n",
    "        print(f\"'{s}' is balanced.\")\n",
    "    else:\n",
    "        print(f\"'{s}' is not balanced.\")\n"
   ]
  },
  {
   "cell_type": "code",
   "execution_count": null,
   "id": "56d80c16-b13e-4f3f-9ca0-6b707e5561f5",
   "metadata": {},
   "outputs": [],
   "source": []
  }
 ],
 "metadata": {
  "kernelspec": {
   "display_name": "Python 3 (ipykernel)",
   "language": "python",
   "name": "python3"
  },
  "language_info": {
   "codemirror_mode": {
    "name": "ipython",
    "version": 3
   },
   "file_extension": ".py",
   "mimetype": "text/x-python",
   "name": "python",
   "nbconvert_exporter": "python",
   "pygments_lexer": "ipython3",
   "version": "3.12.4"
  }
 },
 "nbformat": 4,
 "nbformat_minor": 5
}
