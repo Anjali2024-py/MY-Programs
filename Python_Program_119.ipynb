{
 "cells": [
  {
   "cell_type": "code",
   "execution_count": 1,
   "id": "fb37fed8-724e-4c2d-af65-3d438b3bf063",
   "metadata": {},
   "outputs": [
    {
     "name": "stdout",
     "output_type": "stream",
     "text": [
      "1\n",
      "2\n",
      "3\n",
      "Negative number found,breaking the loop.\n"
     ]
    }
   ],
   "source": [
    "numbers=[1,2,3,-1,4,5,6]\n",
    "for num in numbers:\n",
    "    if num<0:\n",
    "        print(\"Negative number found,breaking the loop.\")\n",
    "        break\n",
    "    print(num)"
   ]
  },
  {
   "cell_type": "code",
   "execution_count": 3,
   "id": "0f27f963-eabb-4c0d-99aa-92bd1e1ae0bc",
   "metadata": {},
   "outputs": [
    {
     "name": "stdout",
     "output_type": "stream",
     "text": [
      "First even number found:2\n"
     ]
    }
   ],
   "source": [
    "numbers=[1,2,3,4,5,7,10,13,17]\n",
    "for num in numbers:\n",
    "    if num%2==0:\n",
    "        print(f\"First even number found:{num}\")\n",
    "        break"
   ]
  },
  {
   "cell_type": "code",
   "execution_count": 11,
   "id": "b8652f17-9443-45e5-bc5b-f08f6b8a9b49",
   "metadata": {},
   "outputs": [
    {
     "name": "stdin",
     "output_type": "stream",
     "text": [
      "Enter a number(negative to guit): 1\n"
     ]
    },
    {
     "name": "stdout",
     "output_type": "stream",
     "text": [
      "Square of 1 is 1\n"
     ]
    },
    {
     "name": "stdin",
     "output_type": "stream",
     "text": [
      "Enter a number(negative to guit): 5\n"
     ]
    },
    {
     "name": "stdout",
     "output_type": "stream",
     "text": [
      "Square of 5 is 25\n"
     ]
    },
    {
     "name": "stdin",
     "output_type": "stream",
     "text": [
      "Enter a number(negative to guit): 2\n"
     ]
    },
    {
     "name": "stdout",
     "output_type": "stream",
     "text": [
      "Square of 2 is 4\n"
     ]
    },
    {
     "name": "stdin",
     "output_type": "stream",
     "text": [
      "Enter a number(negative to guit): -3\n"
     ]
    },
    {
     "name": "stdout",
     "output_type": "stream",
     "text": [
      "Negative number entered,existing.\n"
     ]
    }
   ],
   "source": [
    "while True:\n",
    "    number=int(input(\"Enter a number(negative to guit):\"))\n",
    "    if number<0:\n",
    "        print(\"Negative number entered,existing.\")\n",
    "        break\n",
    "    print(f\"Square of {number} is {number ** 2}\")"
   ]
  },
  {
   "cell_type": "code",
   "execution_count": 9,
   "id": "dd2c9cb2-fd2f-4f67-a43b-9eeb68286945",
   "metadata": {},
   "outputs": [
    {
     "name": "stdout",
     "output_type": "stream",
     "text": [
      "Found Charlie,stopping the loop.\n"
     ]
    }
   ],
   "source": [
    "names=['Alice','bob','Charlie','David']\n",
    "for name in names:\n",
    "    if name==\"Charlie\":\n",
    "        \n",
    "        print(\"Found Charlie,stopping the loop.\")\n",
    "        break"
   ]
  },
  {
   "cell_type": "code",
   "execution_count": 13,
   "id": "3c265d9e-78b5-41b8-9896-497c7139f08f",
   "metadata": {},
   "outputs": [
    {
     "name": "stdin",
     "output_type": "stream",
     "text": [
      "Enter password: lh\n"
     ]
    },
    {
     "name": "stdout",
     "output_type": "stream",
     "text": [
      "Incorrect password.\n"
     ]
    },
    {
     "name": "stdin",
     "output_type": "stream",
     "text": [
      "Enter password: f\n"
     ]
    },
    {
     "name": "stdout",
     "output_type": "stream",
     "text": [
      "Incorrect password.\n"
     ]
    },
    {
     "name": "stdin",
     "output_type": "stream",
     "text": [
      "Enter password: secret\n"
     ]
    },
    {
     "name": "stdout",
     "output_type": "stream",
     "text": [
      "Access granted.\n"
     ]
    }
   ],
   "source": [
    "attempts=0\n",
    "while attempts<3:\n",
    "    password=input(\"Enter password:\")\n",
    "    if password=='secret':\n",
    "        print(\"Access granted.\")\n",
    "        break\n",
    "    else:\n",
    "        print(\"Incorrect password.\")\n",
    "        attempts+=1\n",
    "else:\n",
    "    print(\"Too many attempts.Access Denied.\")"
   ]
  },
  {
   "cell_type": "code",
   "execution_count": null,
   "id": "35539e44-a275-4833-84aa-bc1e0f43ab01",
   "metadata": {},
   "outputs": [],
   "source": []
  }
 ],
 "metadata": {
  "kernelspec": {
   "display_name": "Python 3 (ipykernel)",
   "language": "python",
   "name": "python3"
  },
  "language_info": {
   "codemirror_mode": {
    "name": "ipython",
    "version": 3
   },
   "file_extension": ".py",
   "mimetype": "text/x-python",
   "name": "python",
   "nbconvert_exporter": "python",
   "pygments_lexer": "ipython3",
   "version": "3.12.4"
  }
 },
 "nbformat": 4,
 "nbformat_minor": 5
}
