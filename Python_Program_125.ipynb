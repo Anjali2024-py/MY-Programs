{
 "cells": [
  {
   "cell_type": "code",
   "execution_count": 1,
   "id": "eda9aa64-f5f4-4443-9bf8-df77ea98ed7e",
   "metadata": {},
   "outputs": [
    {
     "name": "stdin",
     "output_type": "stream",
     "text": [
      "Enter interger num: 5.2\n"
     ]
    },
    {
     "name": "stdout",
     "output_type": "stream",
     "text": [
      "This not a valid inereger,Pls Try again.\n"
     ]
    },
    {
     "name": "stdin",
     "output_type": "stream",
     "text": [
      "Enter interger num: 54\n"
     ]
    },
    {
     "name": "stdout",
     "output_type": "stream",
     "text": [
      "You entered valid integer 54\n"
     ]
    }
   ],
   "source": [
    "while True:\n",
    "    try:\n",
    "        user=int(input(\"Enter interger num:\"))\n",
    "        print(f\"You entered valid integer {user}\")\n",
    "        break\n",
    "    except:\n",
    "        print(\"This not a valid integer,Pls Try again.\")"
   ]
  },
  {
   "cell_type": "code",
   "execution_count": 3,
   "id": "2a9e48be-6e12-4388-9a50-e31d07195552",
   "metadata": {},
   "outputs": [
    {
     "name": "stdout",
     "output_type": "stream",
     "text": [
      "Outer loop iteration 0\n",
      "Inner loop iteration 0\n",
      "Inner loop iteration 1\n",
      "Inner loop iteration 2\n",
      "Breaking outer loop because j==2\n"
     ]
    }
   ],
   "source": [
    "for i in range(3):\n",
    "    print(f\"Outer loop iteration {i}\")\n",
    "    for j in range(5):\n",
    "        print(f\"Inner loop iteration {j}\")\n",
    "        if j==2:\n",
    "            print(f\"Breaking outer loop because j=={j}\")\n",
    "            break\n",
    "    else:\n",
    "        continue\n",
    "    break"
   ]
  },
  {
   "cell_type": "code",
   "execution_count": 7,
   "id": "69f6d9bd-696e-4d1a-aff4-5c005ccdfbf7",
   "metadata": {},
   "outputs": [
    {
     "name": "stdout",
     "output_type": "stream",
     "text": [
      "Found the word: stop, stopping the loop.\n"
     ]
    }
   ],
   "source": [
    "sent=\"This is a simples sentence with a stop word.\"\n",
    "\n",
    "for word in sent.split():\n",
    "    if word=='stop':\n",
    "        print(f\"Found the word: {word}, stopping the loop.\")\n",
    "        break"
   ]
  },
  {
   "cell_type": "code",
   "execution_count": 8,
   "id": "a95da9cf-e5ca-4de6-bf2f-75336317c4e9",
   "metadata": {},
   "outputs": [
    {
     "name": "stdout",
     "output_type": "stream",
     "text": [
      "First word with length >= 5: apple\n"
     ]
    }
   ],
   "source": [
    "words = [\"apple\", \"banana\", \"kiwi\", \"grape\", \"pear\"]\n",
    "\n",
    "for word in words:\n",
    "    if len(word) >= 5:\n",
    "        print(f\"First word with length >= 5: {word}\")\n",
    "        break  # Exit the loop once a word with length >= 5 is found"
   ]
  },
  {
   "cell_type": "code",
   "execution_count": 9,
   "id": "66265816-6c47-4ff2-b0ae-2cb9b0231922",
   "metadata": {},
   "outputs": [
    {
     "name": "stdout",
     "output_type": "stream",
     "text": [
      "Outer loop iteration 1\n",
      "  Inner loop iteration 1\n",
      "  Inner loop iteration 2\n",
      "  Breaking both loops\n"
     ]
    }
   ],
   "source": [
    "# Program to demonstrate breaking both inner and outer loops\n",
    "for i in range(1, 6):\n",
    "    print(f\"Outer loop iteration {i}\")\n",
    "    for j in range(1, 4):\n",
    "        print(f\"  Inner loop iteration {j}\")\n",
    "        if j == 2:\n",
    "            print(\"  Breaking both loops\")\n",
    "            break  # Break the inner loop\n",
    "    else:\n",
    "        continue  # This will not be reached if inner loop breaks\n",
    "    break  # This will break the outer loop after inner loop breaks\n"
   ]
  },
  {
   "cell_type": "code",
   "execution_count": null,
   "id": "45207831-e000-44a3-bdc9-6f2f7af2484c",
   "metadata": {},
   "outputs": [],
   "source": []
  }
 ],
 "metadata": {
  "kernelspec": {
   "display_name": "Python 3 (ipykernel)",
   "language": "python",
   "name": "python3"
  },
  "language_info": {
   "codemirror_mode": {
    "name": "ipython",
    "version": 3
   },
   "file_extension": ".py",
   "mimetype": "text/x-python",
   "name": "python",
   "nbconvert_exporter": "python",
   "pygments_lexer": "ipython3",
   "version": "3.12.4"
  }
 },
 "nbformat": 4,
 "nbformat_minor": 5
}
