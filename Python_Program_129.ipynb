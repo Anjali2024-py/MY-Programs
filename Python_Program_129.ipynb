{
 "cells": [
  {
   "cell_type": "code",
   "execution_count": 1,
   "id": "cbf6d297-f4cf-4b18-b131-70616a858592",
   "metadata": {},
   "outputs": [
    {
     "name": "stdout",
     "output_type": "stream",
     "text": [
      "1\n",
      "3\n",
      "5\n",
      "7\n",
      "9\n"
     ]
    }
   ],
   "source": [
    "for i in range(10):\n",
    "    if i%2==0:\n",
    "        pass\n",
    "    else:\n",
    "        print(i)"
   ]
  },
  {
   "cell_type": "code",
   "execution_count": 5,
   "id": "fe30b779-25d4-4756-9591-c66daaa9552b",
   "metadata": {},
   "outputs": [
    {
     "name": "stdout",
     "output_type": "stream",
     "text": [
      "Other value.\n"
     ]
    }
   ],
   "source": [
    "x=4\n",
    "if x<3:\n",
    "    pass\n",
    "elif x==5:\n",
    "    pass\n",
    "else:\n",
    "    print(\"Other value.\")"
   ]
  },
  {
   "cell_type": "code",
   "execution_count": 9,
   "id": "d16b1ff4-f0ee-4a1a-97fc-76d29a20935a",
   "metadata": {},
   "outputs": [],
   "source": [
    "def check_empty_list(my_list):\n",
    "    if len(my_list)==0:\n",
    "        pass\n",
    "    else:\n",
    "        print(\"List has elements.\")"
   ]
  },
  {
   "cell_type": "code",
   "execution_count": 13,
   "id": "26a818c9-ef77-4a66-af72-87a8ed638bc4",
   "metadata": {},
   "outputs": [
    {
     "name": "stdout",
     "output_type": "stream",
     "text": [
      "1\n",
      "3\n",
      "5\n",
      "Found 7, passing the loop.\n",
      "9\n",
      "11\n"
     ]
    }
   ],
   "source": [
    "numbers = [1, 3, 5, 7, 9, 11]\n",
    "search_value = 7\n",
    "\n",
    "for number in numbers:\n",
    "    if number == search_value:\n",
    "        print(f\"Found {search_value}, passing the loop.\")\n",
    "        pass\n",
    "    else:\n",
    "         print(f\"{number}\")\n"
   ]
  },
  {
   "cell_type": "code",
   "execution_count": 17,
   "id": "73ec4a91-d23e-4696-af3f-0c520efebfe2",
   "metadata": {},
   "outputs": [
    {
     "name": "stdout",
     "output_type": "stream",
     "text": [
      "1\n",
      "2\n",
      "3\n",
      "4\n",
      "5\n",
      "Found 5, passing the loop!\n",
      "6\n",
      "7\n"
     ]
    }
   ],
   "source": [
    "numbers = [1, 2, 3, 4, 5, 6, 7]\n",
    "for number in numbers:\n",
    "    print(number)\n",
    "    if number == 5:\n",
    "        print(\"Found 5, passing the loop!\")\n",
    "        pass"
   ]
  },
  {
   "cell_type": "code",
   "execution_count": null,
   "id": "636ec350-d8a8-4f33-8bbd-f17599cacb0e",
   "metadata": {},
   "outputs": [],
   "source": []
  }
 ],
 "metadata": {
  "kernelspec": {
   "display_name": "Python 3 (ipykernel)",
   "language": "python",
   "name": "python3"
  },
  "language_info": {
   "codemirror_mode": {
    "name": "ipython",
    "version": 3
   },
   "file_extension": ".py",
   "mimetype": "text/x-python",
   "name": "python",
   "nbconvert_exporter": "python",
   "pygments_lexer": "ipython3",
   "version": "3.12.4"
  }
 },
 "nbformat": 4,
 "nbformat_minor": 5
}
