{
 "cells": [
  {
   "cell_type": "code",
   "execution_count": 3,
   "id": "d23b20cf-2000-4108-906c-82eed7652efa",
   "metadata": {},
   "outputs": [
    {
     "name": "stdout",
     "output_type": "stream",
     "text": [
      "{'racecar': True, 'level': True, 'hello': False, 'world': False, 'madam': True}\n"
     ]
    }
   ],
   "source": [
    "#Create a lambda function to check if a string is a palindrome\n",
    "is_palindrome=lambda s:s==s[::-1]\n",
    "#test the lamda function\n",
    "test_String=['racecar','level','hello','world','madam']\n",
    "result={s:is_palindrome(s) for s in test_String}\n",
    "print(result)"
   ]
  },
  {
   "cell_type": "code",
   "execution_count": 4,
   "id": "ced2cdd4-c14a-41f0-b04c-bce8fd4f17d8",
   "metadata": {},
   "outputs": [
    {
     "name": "stdout",
     "output_type": "stream",
     "text": [
      "[6, 5, 4, 4]\n"
     ]
    }
   ],
   "source": [
    "#Write a lambda function that   returns the length of a given string\n",
    "string=['Anjali','Pooja','puja','Appu']\n",
    "len_string=list(map(lambda x:len(x),string))\n",
    "print(len_string)"
   ]
  },
  {
   "cell_type": "code",
   "execution_count": 6,
   "id": "48a352e2-d9db-4247-85d7-10af4f305ca0",
   "metadata": {},
   "outputs": [
    {
     "name": "stdout",
     "output_type": "stream",
     "text": [
      "{'Anjali': 6, 'Pooja': 5, 'puja': 4, 'Appu': 4}\n"
     ]
    }
   ],
   "source": [
    "string_length=lambda s:len(s)\n",
    "test_string=['Anjali','Pooja','puja','Appu']\n",
    "lengths={s:string_length(s) for s in test_string}\n",
    "print(lengths)"
   ]
  },
  {
   "cell_type": "code",
   "execution_count": 8,
   "id": "c906a44c-613d-4f0a-8a76-4db057680f7f",
   "metadata": {},
   "outputs": [
    {
     "name": "stdout",
     "output_type": "stream",
     "text": [
      "120\n"
     ]
    }
   ],
   "source": [
    "#Write a lambda function to calculate the factorial of a number using reduce()\n",
    "from functools import reduce\n",
    "\n",
    "# Lambda function to calculate factorial\n",
    "factorial = lambda n: reduce(lambda x, y: x * y, range(1, n + 1)) if n > 0 else 1\n",
    "\n",
    "# Example usage\n",
    "number = 5\n",
    "result = factorial(number)\n",
    "print(result)  "
   ]
  },
  {
   "cell_type": "code",
   "execution_count": 14,
   "id": "e6497f31-5b2a-43ba-bab6-55421bcb24d5",
   "metadata": {},
   "outputs": [
    {
     "name": "stdout",
     "output_type": "stream",
     "text": [
      "[0, 1, 4, 9, 25, 49, 64]\n"
     ]
    }
   ],
   "source": [
    "#Use a lambda function to create a function that returns a new list with elements squared and then sorted.\n",
    "numbers=[2,5,3,1,0,8,7]\n",
    "squared_sorted=lambda Ist:sorted(map(lambda x:x**2,Ist))\n",
    "result=squared_sorted(numbers)\n",
    "print(result)"
   ]
  },
  {
   "cell_type": "code",
   "execution_count": null,
   "id": "3e2fd28a-e955-47d4-a64d-0be74280d227",
   "metadata": {},
   "outputs": [],
   "source": []
  },
  {
   "cell_type": "code",
   "execution_count": null,
   "id": "6fdee5e2-6204-4af5-aaaf-22d49abb17d4",
   "metadata": {},
   "outputs": [],
   "source": []
  }
 ],
 "metadata": {
  "kernelspec": {
   "display_name": "Python 3 (ipykernel)",
   "language": "python",
   "name": "python3"
  },
  "language_info": {
   "codemirror_mode": {
    "name": "ipython",
    "version": 3
   },
   "file_extension": ".py",
   "mimetype": "text/x-python",
   "name": "python",
   "nbconvert_exporter": "python",
   "pygments_lexer": "ipython3",
   "version": "3.12.4"
  }
 },
 "nbformat": 4,
 "nbformat_minor": 5
}
