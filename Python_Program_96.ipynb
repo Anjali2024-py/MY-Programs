{
 "cells": [
  {
   "cell_type": "code",
   "execution_count": 3,
   "id": "a9db0f7f-0bb4-456f-84ba-ef91399f071c",
   "metadata": {},
   "outputs": [
    {
     "name": "stdout",
     "output_type": "stream",
     "text": [
      " Name:Buddy\n",
      " breed:Golden Retriever\n",
      " age:5 Years Old\n"
     ]
    }
   ],
   "source": [
    "class Dog:\n",
    "    def __init__(self,name,breed,age):\n",
    "        self.name=name\n",
    "        self.breed=breed\n",
    "        self.age=age\n",
    "    def display_info(self):\n",
    "        print(f\" Name:{self.name}\")\n",
    "        print(f\" breed:{self.breed}\")\n",
    "        print(f\" age:{self.age} Years Old\")\n",
    "\n",
    "#Object\n",
    "dog1=Dog(\"Buddy\",\"Golden Retriever\",5)\n",
    "dog1.display_info()"
   ]
  },
  {
   "cell_type": "code",
   "execution_count": 6,
   "id": "304f8a54-e1c7-432a-be31-356aaaca6271",
   "metadata": {},
   "outputs": [
    {
     "name": "stdout",
     "output_type": "stream",
     "text": [
      "Buddy barks\n"
     ]
    },
    {
     "data": {
      "text/plain": [
       "'Some Animal make a sound'"
      ]
     },
     "execution_count": 6,
     "metadata": {},
     "output_type": "execute_result"
    }
   ],
   "source": [
    "# Inheritance\n",
    "class Animal:\n",
    "    def __init__(self,name):\n",
    "        self.name=name\n",
    "    def speak(self):\n",
    "         return f\"{self.name} make a sound\"\n",
    "class Dog(Animal):\n",
    "    def __init__(self,name,breed):\n",
    "        super().__init__(name)\n",
    "        self.breed=breed\n",
    "    def speak(self):\n",
    "        print(f\"{self.name} barks\")\n",
    "animal=Animal(\"Some Animal\")\n",
    "dog=Dog(\"Buddy\",\"Golden Retriever\")\n",
    "dog.speak()\n",
    "animal.speak()"
   ]
  },
  {
   "cell_type": "code",
   "execution_count": 8,
   "id": "5f93b1e6-5ed5-4796-a953-60d1d8033a1f",
   "metadata": {},
   "outputs": [
    {
     "name": "stdout",
     "output_type": "stream",
     "text": [
      "Meow\n",
      "Woof\n"
     ]
    }
   ],
   "source": [
    "class Cat:\n",
    "    def speak(self):\n",
    "        print(\"Meow\")\n",
    "\n",
    "class Dog:\n",
    "    def speak(self):\n",
    "        print(\"Woof\")\n",
    "\n",
    "# Function demonstrating polymorphism\n",
    "def animal_sound(animal):\n",
    "    animal.speak()\n",
    "\n",
    "# Objects of different classes\n",
    "cat = Cat()\n",
    "dog = Dog()\n",
    "\n",
    "# Polymorphism in action\n",
    "animal_sound(cat)  # Meow\n",
    "animal_sound(dog)  # Woof\n"
   ]
  },
  {
   "cell_type": "code",
   "execution_count": null,
   "id": "0075866d-e54b-40dd-8efb-700314d3fef4",
   "metadata": {},
   "outputs": [],
   "source": []
  }
 ],
 "metadata": {
  "kernelspec": {
   "display_name": "Python 3 (ipykernel)",
   "language": "python",
   "name": "python3"
  },
  "language_info": {
   "codemirror_mode": {
    "name": "ipython",
    "version": 3
   },
   "file_extension": ".py",
   "mimetype": "text/x-python",
   "name": "python",
   "nbconvert_exporter": "python",
   "pygments_lexer": "ipython3",
   "version": "3.12.4"
  }
 },
 "nbformat": 4,
 "nbformat_minor": 5
}
