{
 "cells": [
  {
   "cell_type": "code",
   "execution_count": 1,
   "id": "69787598-bd07-4fd8-9e16-58c6ce819916",
   "metadata": {},
   "outputs": [
    {
     "name": "stdout",
     "output_type": "stream",
     "text": [
      "True\n"
     ]
    }
   ],
   "source": [
    "#Checking for Palindromes\n",
    "#Problem: Check if a string is a palindrome (ignoring non-alphanumeric characters\n",
    "import re\n",
    "\n",
    "def is_palindrome(text):\n",
    "    cleaned_text = re.sub(r'[^A-Za-z0-9]', '', text).lower()  # Remove non-alphanumeric chars and convert to lower case\n",
    "    return cleaned_text == cleaned_text[::-1]\n",
    "\n",
    "# Test the function\n",
    "test_string = \"A man, a plan, a canal, Panama!\"\n",
    "print(is_palindrome(test_string))  # Output: True\n"
   ]
  },
  {
   "cell_type": "code",
   "execution_count": 2,
   "id": "7354d321-55a6-4916-8205-f95b840c39b8",
   "metadata": {},
   "outputs": [
    {
     "name": "stdout",
     "output_type": "stream",
     "text": [
      "Hello\n"
     ]
    }
   ],
   "source": [
    "#Finding the First Word in a String\n",
    "#Problem: Extract the first word from a string\n",
    "import re\n",
    "\n",
    "def first_word(text):\n",
    "    pattern = r\"^\\s*(\\w+)\"  # Matches the first word at the beginning of the string\n",
    "    match = re.search(pattern, text)\n",
    "    return match.group(1) if match else None\n",
    "\n",
    "# Test the function\n",
    "test_string = \"   Hello world!\"\n",
    "print(first_word(test_string))  # Output: \"Hello\"\n"
   ]
  },
  {
   "cell_type": "code",
   "execution_count": 3,
   "id": "95a915ed-d847-4184-bf86-63161e101259",
   "metadata": {},
   "outputs": [
    {
     "name": "stdout",
     "output_type": "stream",
     "text": [
      "['192.168.1.1', '10.0.0.255', '999.999.999.999']\n"
     ]
    }
   ],
   "source": [
    "#Finding IP Addresses in a String\n",
    "#Problem: Extract all valid IP addresses from a string\n",
    "import re\n",
    "\n",
    "def extract_ip_addresses(text):\n",
    "    pattern = r\"\\b\\d{1,3}\\.\\d{1,3}\\.\\d{1,3}\\.\\d{1,3}\\b\"  # Matches IPv4 addresses\n",
    "    return re.findall(pattern, text)\n",
    "\n",
    "# Test the function\n",
    "log_data = \"192.168.1.1 and 10.0.0.255 are valid IPs. 999.999.999.999 is not.\"\n",
    "print(extract_ip_addresses(log_data))  # Output: ['192.168.1.1', '10.0.0.255']\n"
   ]
  },
  {
   "cell_type": "code",
   "execution_count": 4,
   "id": "9acdcfb6-5da1-4750-aa3d-f22c0417522f",
   "metadata": {},
   "outputs": [
    {
     "name": "stdout",
     "output_type": "stream",
     "text": [
      "The dog sat on the mat. The dog is happy.\n"
     ]
    }
   ],
   "source": [
    "#Replacing Multiple Occurrences\n",
    "#Problem: Replace multiple occurrences of a word with another word\n",
    "import re\n",
    "\n",
    "def replace_word(text, old_word, new_word):\n",
    "    pattern = re.escape(old_word)  # Escape any special characters in old_word\n",
    "    return re.sub(pattern, new_word, text)\n",
    "\n",
    "# Test the function\n",
    "test_string = \"The cat sat on the mat. The cat is happy.\"\n",
    "print(replace_word(test_string, \"cat\", \"dog\"))  # Output: \"The dog sat on the mat. The dog is happy.\"\n"
   ]
  },
  {
   "cell_type": "code",
   "execution_count": 5,
   "id": "0895c429-5992-44a5-bd85-0c4199a5b04f",
   "metadata": {},
   "outputs": [
    {
     "name": "stdout",
     "output_type": "stream",
     "text": [
      "['apple', 'orange', 'banana', 'grape', 'kiwi']\n"
     ]
    }
   ],
   "source": [
    "#Splitting a String by a Pattern\n",
    "#Problem: Split a string by commas and any amount of whitespace\n",
    "import re\n",
    "\n",
    "def split_by_comma(text):\n",
    "    pattern = r\"\\s*,\\s*\"  # Matches a comma with optional surrounding whitespace\n",
    "    return re.split(pattern, text)\n",
    "\n",
    "# Test the function\n",
    "test_string = \"apple, orange, banana ,  grape,kiwi\"\n",
    "print(split_by_comma(test_string))  # Output: ['apple', 'orange', 'banana', 'grape', 'kiwi']\n"
   ]
  },
  {
   "cell_type": "code",
   "execution_count": null,
   "id": "e0f521e8-5f89-42a3-8821-fa806341c826",
   "metadata": {},
   "outputs": [],
   "source": []
  }
 ],
 "metadata": {
  "kernelspec": {
   "display_name": "Python 3 (ipykernel)",
   "language": "python",
   "name": "python3"
  },
  "language_info": {
   "codemirror_mode": {
    "name": "ipython",
    "version": 3
   },
   "file_extension": ".py",
   "mimetype": "text/x-python",
   "name": "python",
   "nbconvert_exporter": "python",
   "pygments_lexer": "ipython3",
   "version": "3.12.4"
  }
 },
 "nbformat": 4,
 "nbformat_minor": 5
}
