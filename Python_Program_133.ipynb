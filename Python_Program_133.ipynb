{
 "cells": [
  {
   "cell_type": "code",
   "execution_count": 2,
   "id": "8ab87fc9-fe35-471b-8c7f-d790ffaed65e",
   "metadata": {},
   "outputs": [
    {
     "name": "stdout",
     "output_type": "stream",
     "text": [
      "Hell , hw re yu?"
     ]
    }
   ],
   "source": [
    "text=\"Hello , how are you?\"\n",
    "for char in text:\n",
    "    if char=='o' or char=='a':\n",
    "        continue\n",
    "    print(char,end='')"
   ]
  },
  {
   "cell_type": "code",
   "execution_count": 3,
   "id": "c0bd3cf9-0443-406d-92ef-328d3d953582",
   "metadata": {},
   "outputs": [
    {
     "name": "stdout",
     "output_type": "stream",
     "text": [
      "1\n",
      "2\n",
      "4\n",
      "Breaking at5\n"
     ]
    }
   ],
   "source": [
    "for i in range(1,16):\n",
    "    if i%5==0:\n",
    "        print(f\"Breaking at{i}\")\n",
    "        break\n",
    "    if i%3==0:\n",
    "        continue\n",
    "    print(i)"
   ]
  },
  {
   "cell_type": "code",
   "execution_count": 4,
   "id": "a31a597b-fc86-4383-92f6-57f647db4a7d",
   "metadata": {},
   "outputs": [
    {
     "name": "stdout",
     "output_type": "stream",
     "text": [
      "1\n",
      "2\n",
      "3\n",
      "5\n",
      "Loop finished without a break.\n"
     ]
    }
   ],
   "source": [
    "for i in range(1,6):\n",
    "    if i==4:\n",
    "        continue\n",
    "    print(i)\n",
    "else:\n",
    "    print(\"Loop finished without a break.\")\n",
    "    "
   ]
  },
  {
   "cell_type": "code",
   "execution_count": 5,
   "id": "2ca0c041-584c-489f-a545-066ea5dd6730",
   "metadata": {},
   "outputs": [
    {
     "name": "stdout",
     "output_type": "stream",
     "text": [
      "First positive number found: 6\n"
     ]
    }
   ],
   "source": [
    "numbers=[-1,-5,-10,6,3,-2,8]\n",
    "\n",
    "for num in numbers:\n",
    "    if num<0:\n",
    "        continue\n",
    "    print(f\"First positive number found: {num}\")\n",
    "    break"
   ]
  },
  {
   "cell_type": "code",
   "execution_count": 6,
   "id": "341a4085-f4c1-4203-8f7a-cae59284d6dd",
   "metadata": {},
   "outputs": [
    {
     "name": "stdout",
     "output_type": "stream",
     "text": [
      "2\n",
      "6\n"
     ]
    }
   ],
   "source": [
    "numbers=[2,4,6,8,12,14,16,20,25,30]\n",
    "for num in numbers:\n",
    "    if num%4==0 or num>10:\n",
    "        continue\n",
    "    print(num)"
   ]
  },
  {
   "cell_type": "code",
   "execution_count": null,
   "id": "52d0e37f-1a14-44b4-ad79-89972eefb0c9",
   "metadata": {},
   "outputs": [],
   "source": []
  }
 ],
 "metadata": {
  "kernelspec": {
   "display_name": "Python 3 (ipykernel)",
   "language": "python",
   "name": "python3"
  },
  "language_info": {
   "codemirror_mode": {
    "name": "ipython",
    "version": 3
   },
   "file_extension": ".py",
   "mimetype": "text/x-python",
   "name": "python",
   "nbconvert_exporter": "python",
   "pygments_lexer": "ipython3",
   "version": "3.12.4"
  }
 },
 "nbformat": 4,
 "nbformat_minor": 5
}
