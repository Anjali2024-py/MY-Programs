{
 "cells": [
  {
   "cell_type": "code",
   "execution_count": 8,
   "id": "0f6e97f7-971e-4a4d-a35c-4e6944186187",
   "metadata": {},
   "outputs": [
    {
     "name": "stdout",
     "output_type": "stream",
     "text": [
      "2 4 6 8 10 12 14 16 18 20 "
     ]
    }
   ],
   "source": [
    "#print 1st 10 even numbers whing while loop.\n",
    "x=1\n",
    "while(x<=20):\n",
    "    if x%2==0:\n",
    "        print(x,end=\" \")\n",
    "    x=x+1\n",
    "        \n"
   ]
  },
  {
   "cell_type": "code",
   "execution_count": 18,
   "id": "9e30b329-fc19-4b1d-ac44-1d415ae96455",
   "metadata": {},
   "outputs": [
    {
     "name": "stdout",
     "output_type": "stream",
     "text": [
      "1\n",
      "3\n",
      "5\n",
      "7\n",
      "9\n",
      "11\n",
      "13\n",
      "15\n",
      "17\n",
      "19\n"
     ]
    }
   ],
   "source": [
    "#print fist 10 odd numbers.\n",
    "x=1\n",
    "while(x<=20):\n",
    "    if x%2!=0:\n",
    "        print(x)\n",
    "    x=x+1\n",
    "    \n",
    "    "
   ]
  },
  {
   "cell_type": "code",
   "execution_count": 21,
   "id": "baae0544-aa17-4d1a-aeab-2304d684e90a",
   "metadata": {},
   "outputs": [
    {
     "name": "stdout",
     "output_type": "stream",
     "text": [
      "1 2 3 4 5 6 7 8 9 10 "
     ]
    }
   ],
   "source": [
    "#1st 10 natural numbers\n",
    "x=1\n",
    "while(x<=10):\n",
    "    print(x,end=\" \")\n",
    "    x=x+1"
   ]
  },
  {
   "cell_type": "code",
   "execution_count": 20,
   "id": "fcba6b90-ab03-4a8d-a6e9-682a171a4f1b",
   "metadata": {},
   "outputs": [
    {
     "name": "stdout",
     "output_type": "stream",
     "text": [
      "0 1 2 3 4 5 6 7 8 9 "
     ]
    }
   ],
   "source": [
    "#1st 10 whole numbers\n",
    "x=0\n",
    "while(x<10):\n",
    "    print(x,end=\" \")\n",
    "    x=x+1\n"
   ]
  },
  {
   "cell_type": "code",
   "execution_count": 34,
   "id": "9b98ff28-2b51-4f06-9131-c6ef1f84ee86",
   "metadata": {},
   "outputs": [
    {
     "name": "stdout",
     "output_type": "stream",
     "text": [
      "0 0 1 1 2 4 3 9 4 16 5 25 6 36 7 49 8 64 9 81 10 100 "
     ]
    }
   ],
   "source": [
    "#write a program to print 1st 10 integers and their squares using while loop\n",
    "x=0\n",
    "while(x<=10):\n",
    "    print(x,end=\" \")\n",
    "    print(x**2,end=\" \")\n",
    "    x=x+1"
   ]
  },
  {
   "cell_type": "code",
   "execution_count": 42,
   "id": "25c0d7b3-4ca8-4c90-baa5-9ee82baae362",
   "metadata": {},
   "outputs": [
    {
     "name": "stdout",
     "output_type": "stream",
     "text": [
      "105\n",
      "98\n",
      "91\n",
      "84\n",
      "77\n",
      "70\n",
      "63\n",
      "56\n",
      "49\n",
      "42\n",
      "35\n",
      "28\n",
      "21\n",
      "14\n",
      "7\n"
     ]
    }
   ],
   "source": [
    "#write a while loop program to print the following series\n",
    "#105,98,91,....,7\n",
    "x=105\n",
    "while(x>=7):\n",
    "    print(x)\n",
    "    x=x-7\n"
   ]
  },
  {
   "cell_type": "code",
   "execution_count": 46,
   "id": "f26be347-5323-401e-8a53-df2c835a8322",
   "metadata": {},
   "outputs": [
    {
     "name": "stdout",
     "output_type": "stream",
     "text": [
      "10 20 30 40 50 60 70 80 90 100 110 120 130 140 150 160 170 180 190 200 210 220 230 240 250 260 270 280 290 300 "
     ]
    }
   ],
   "source": [
    "x=10\n",
    "while(x<=300):\n",
    "    print(x,end=\" \")\n",
    "    x=x+10"
   ]
  },
  {
   "cell_type": "code",
   "execution_count": 49,
   "id": "02c49172-91b4-49a9-ac97-aa55a637f4c8",
   "metadata": {},
   "outputs": [
    {
     "name": "stdout",
     "output_type": "stream",
     "text": [
      "10\n",
      "9\n",
      "8\n",
      "7\n",
      "6\n",
      "5\n",
      "4\n",
      "3\n",
      "2\n",
      "1\n"
     ]
    }
   ],
   "source": [
    "#write a program to print 1st 10 natural numbers in reverse order using while loop\n",
    "x=10\n",
    "while(x>=1):\n",
    "    print(x)\n",
    "    x=x-1\n",
    "    "
   ]
  },
  {
   "cell_type": "code",
   "execution_count": 8,
   "id": "7e746897-f54e-4660-83e2-2248af4d09d8",
   "metadata": {},
   "outputs": [
    {
     "name": "stdout",
     "output_type": "stream",
     "text": [
      "55\n"
     ]
    }
   ],
   "source": [
    "#print sum of 1st 10 interger numbers\n",
    "x=10\n",
    "sum=0\n",
    "while(x>=1):\n",
    "    sum=sum+x\n",
    "    x=x-1\n",
    "print(sum)\n",
    "    \n",
    "\n"
   ]
  },
  {
   "cell_type": "code",
   "execution_count": 14,
   "id": "38ffbc09-e9fc-4773-9279-d38fe480aec8",
   "metadata": {
    "scrolled": true
   },
   "outputs": [
    {
     "name": "stdout",
     "output_type": "stream",
     "text": [
      "110\n"
     ]
    }
   ],
   "source": [
    "#print sum of even numbers\n",
    "x=2\n",
    "sum=0\n",
    "while(x<=20):\n",
    "    sum=sum+x\n",
    "    x=x+2\n",
    "print(sum)"
   ]
  },
  {
   "cell_type": "code",
   "execution_count": null,
   "id": "0046e87f-6734-4bf6-a03d-9b95a5fd19d7",
   "metadata": {},
   "outputs": [],
   "source": []
  }
 ],
 "metadata": {
  "kernelspec": {
   "display_name": "Python 3 (ipykernel)",
   "language": "python",
   "name": "python3"
  },
  "language_info": {
   "codemirror_mode": {
    "name": "ipython",
    "version": 3
   },
   "file_extension": ".py",
   "mimetype": "text/x-python",
   "name": "python",
   "nbconvert_exporter": "python",
   "pygments_lexer": "ipython3",
   "version": "3.12.4"
  }
 },
 "nbformat": 4,
 "nbformat_minor": 5
}
