{
 "cells": [
  {
   "cell_type": "code",
   "execution_count": 1,
   "id": "917efc2a-7b82-4478-b764-d3b17d23af4c",
   "metadata": {},
   "outputs": [],
   "source": [
    "from abc import ABC,abstractmethod"
   ]
  },
  {
   "cell_type": "code",
   "execution_count": 5,
   "id": "36ed9047-5595-4698-a4e6-aa814e210d19",
   "metadata": {},
   "outputs": [
    {
     "name": "stdout",
     "output_type": "stream",
     "text": [
      "Connecting to MySqlDatabase\n",
      "Disconnecting from MySqlDatabase\n"
     ]
    }
   ],
   "source": [
    "class Database(ABC):\n",
    "    @abstractmethod\n",
    "    def connect(self):\n",
    "        pass\n",
    "    @abstractmethod\n",
    "    def disconnect(self):\n",
    "        pass\n",
    "\n",
    "class MySqlDatabase(Database):\n",
    "    def connect(self):\n",
    "        return \"Connecting to MySqlDatabase\"\n",
    "    def disconnect(Database):\n",
    "        return \"Disconnecting from MySqlDatabase\"\n",
    "\n",
    "class postegreSqlDatabase(Database):\n",
    "    def connect(self):\n",
    "        return \"Connecting to postegreSqlDatabase\"\n",
    "    def disconnect(self):\n",
    "        return \"Disconnecting to ostegreSqlDatabase\"\n",
    "\n",
    "#dynamically selecting the database class\n",
    "\n",
    "def database_handler(db_type):\n",
    "    if db_type==\"mysql\":\n",
    "        return MySqlDatabase()\n",
    "    elif db_type==\"postegreSql\":\n",
    "        return postegreSqlDatabase()\n",
    "    else:\n",
    "        return None\n",
    "\n",
    "# Test\n",
    "db = database_handler(\"mysql\")\n",
    "if db:\n",
    "    print(db.connect())  # Should print: Connecting to MySqlDatabase\n",
    "    print(db.disconnect())"
   ]
  },
  {
   "cell_type": "code",
   "execution_count": 8,
   "id": "95502a66-499f-4912-98f2-f79415b8ebbf",
   "metadata": {},
   "outputs": [
    {
     "name": "stdout",
     "output_type": "stream",
     "text": [
      "Sending email: Hello, this is a test!\n",
      "Sending SMS: Hello, this is a test!\n",
      "Sending push notification: Hello, this is a test!\n"
     ]
    }
   ],
   "source": [
    "from abc import ABC, abstractmethod\n",
    "\n",
    "class Notification(ABC):\n",
    "    @abstractmethod\n",
    "    def send(self, message):\n",
    "        pass\n",
    "\n",
    "class EmailNotification(Notification):\n",
    "    def send(self, message):\n",
    "        return f\"Sending email: {message}\"\n",
    "\n",
    "class SMSNotification(Notification):\n",
    "    def send(self, message):\n",
    "        return f\"Sending SMS: {message}\"\n",
    "\n",
    "class PushNotification(Notification):\n",
    "    def send(self, message):\n",
    "        return f\"Sending push notification: {message}\"\n",
    "\n",
    "# Create a list of different types of notifications\n",
    "notification = [EmailNotification(), SMSNotification(), PushNotification()]\n",
    "\n",
    "# Example usage\n",
    "for notif in notification:\n",
    "    print(notif.send(\"Hello, this is a test!\"))\n"
   ]
  },
  {
   "cell_type": "code",
   "execution_count": null,
   "id": "f1c358f1-5124-4009-81c0-269abf180b71",
   "metadata": {},
   "outputs": [],
   "source": []
  }
 ],
 "metadata": {
  "kernelspec": {
   "display_name": "Python 3 (ipykernel)",
   "language": "python",
   "name": "python3"
  },
  "language_info": {
   "codemirror_mode": {
    "name": "ipython",
    "version": 3
   },
   "file_extension": ".py",
   "mimetype": "text/x-python",
   "name": "python",
   "nbconvert_exporter": "python",
   "pygments_lexer": "ipython3",
   "version": "3.12.4"
  }
 },
 "nbformat": 4,
 "nbformat_minor": 5
}
