{
 "cells": [
  {
   "cell_type": "code",
   "execution_count": 1,
   "id": "1b67b691-e245-4f75-b2bc-31774195b1f2",
   "metadata": {},
   "outputs": [
    {
     "name": "stdout",
     "output_type": "stream",
     "text": [
      "15\n"
     ]
    }
   ],
   "source": [
    "#Basic Lambda Funcion\n",
    "#A simple lambda function that adds 10 to the input\n",
    "add_number=lambda x:x+5\n",
    "result=add_number(10)\n",
    "print(result)"
   ]
  },
  {
   "cell_type": "code",
   "execution_count": 5,
   "id": "044bb5d0-d4be-44e0-be4b-fdc16542a21a",
   "metadata": {},
   "outputs": [
    {
     "name": "stdout",
     "output_type": "stream",
     "text": [
      "[1, 4, 9, 16, 25]\n"
     ]
    }
   ],
   "source": [
    "#Using Lambda with Map()\n",
    "#USing lambda with map to square each number in a list\n",
    "numbers=[1,2,3,4,5]\n",
    "Squared=list(map(lambda x:x**2,numbers))\n",
    "print(Squared)"
   ]
  },
  {
   "cell_type": "code",
   "execution_count": 7,
   "id": "02923538-3534-4c93-8b47-cad567fc014e",
   "metadata": {},
   "outputs": [
    {
     "name": "stdout",
     "output_type": "stream",
     "text": [
      "[2, 4, 6, 8, 10]\n"
     ]
    }
   ],
   "source": [
    "#Using lambda with Filter()\n",
    "#USing lambda with filter to get even numbers from list\n",
    "numbers=[1,2,3,4,5,6,7,8,9,10]\n",
    "evens=list(filter(lambda x:x%2==0,numbers))\n",
    "print(evens)"
   ]
  },
  {
   "cell_type": "code",
   "execution_count": 11,
   "id": "6aae8224-161a-4e53-8ab1-f8ee3c130b6c",
   "metadata": {},
   "outputs": [
    {
     "name": "stdout",
     "output_type": "stream",
     "text": [
      "[(4, 'four'), (1, 'one'), (3, 'three'), (2, 'two')]\n"
     ]
    }
   ],
   "source": [
    "#Using lambda with sorted()\n",
    "#Using sorting a list of tuples based on the second element using lambda,\n",
    "data=[(1,'one'),(3,'three'),(2,'two'),(4,'four')]\n",
    "sorted_data=sorted(data,key=lambda x:x[1])\n",
    "print(sorted_data)"
   ]
  },
  {
   "cell_type": "code",
   "execution_count": 12,
   "id": "a8664051-6738-46d6-97b7-4a81ab71202a",
   "metadata": {},
   "outputs": [
    {
     "name": "stdout",
     "output_type": "stream",
     "text": [
      "[(1, 'one'), (2, 'two'), (3, 'three'), (4, 'four')]\n"
     ]
    }
   ],
   "source": [
    "#Using lambda with sorted()\n",
    "#Using sorting a list of tuples based on the first element using lambda,\n",
    "data=[(1,'one'),(3,'three'),(2,'two'),(4,'four')]\n",
    "sorted_data=sorted(data,key=lambda x:x[0])\n",
    "print(sorted_data)"
   ]
  },
  {
   "cell_type": "code",
   "execution_count": 15,
   "id": "05c90712-d42a-4d96-8b7c-13261bddacff",
   "metadata": {},
   "outputs": [
    {
     "name": "stdout",
     "output_type": "stream",
     "text": [
      "12\n"
     ]
    }
   ],
   "source": [
    "#Multiple Arguments in lambda.\n",
    "#A lambda function that takes two argumets and returns their product\n",
    "multiply=lambda x,y:x*y\n",
    "result=multiply(3,4)\n",
    "#print(multiply(3,4))\n",
    "print(result)"
   ]
  },
  {
   "cell_type": "code",
   "execution_count": null,
   "id": "6b317ba3-743f-465b-890a-44ec4105fafc",
   "metadata": {},
   "outputs": [],
   "source": []
  }
 ],
 "metadata": {
  "kernelspec": {
   "display_name": "Python 3 (ipykernel)",
   "language": "python",
   "name": "python3"
  },
  "language_info": {
   "codemirror_mode": {
    "name": "ipython",
    "version": 3
   },
   "file_extension": ".py",
   "mimetype": "text/x-python",
   "name": "python",
   "nbconvert_exporter": "python",
   "pygments_lexer": "ipython3",
   "version": "3.12.4"
  }
 },
 "nbformat": 4,
 "nbformat_minor": 5
}
