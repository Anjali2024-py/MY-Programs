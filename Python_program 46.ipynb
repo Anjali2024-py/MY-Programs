{
 "cells": [
  {
   "cell_type": "code",
   "execution_count": 7,
   "id": "4a214e8a-4c7e-4368-a184-b5c312340b1c",
   "metadata": {},
   "outputs": [
    {
     "name": "stdout",
     "output_type": "stream",
     "text": [
      "The Orginal numbers is:[1, 2, 3, 4, 5] \n",
      "the square of numbers is:[1, 4, 9, 16, 25]\n"
     ]
    }
   ],
   "source": [
    "#Write a program that takes a list of itegers and returns a new lists containing the squares of each integers from the originl list.\n",
    "numbers=[1,2,3,4,5]\n",
    "squares=[]\n",
    "for num in numbers:\n",
    "    square=num**2\n",
    "    squares.append(square)\n",
    "print(f\"The Orginal numbers is:{numbers} \")\n",
    "print(f'the square of numbers is:{squares}')"
   ]
  },
  {
   "cell_type": "code",
   "execution_count": 8,
   "id": "5689938f-c8e2-484b-9e9c-935da4e1e154",
   "metadata": {},
   "outputs": [
    {
     "name": "stdout",
     "output_type": "stream",
     "text": [
      "The Orginal numbers is:[-3, -2, -1, 0, 1, 2, 3] \n",
      "the square of numbers is:[9, 4, 1, 0, 1, 4, 9]\n"
     ]
    }
   ],
   "source": [
    "#write a program of negative numbers:\n",
    "numbers=[-3,-2,-1,0,1,2,3]\n",
    "squares=[]\n",
    "for num in numbers:\n",
    "    square=num**2\n",
    "    squares.append(square)\n",
    "print(f\"The Orginal numbers is:{numbers} \")\n",
    "print(f'the square of numbers is:{squares}')"
   ]
  },
  {
   "cell_type": "code",
   "execution_count": 9,
   "id": "2c2eadfc-9f50-49c9-834b-8ce3f60cd668",
   "metadata": {},
   "outputs": [
    {
     "name": "stdout",
     "output_type": "stream",
     "text": [
      "The Orginal numbers is:[-2.5, 2.6, 8.9, 7.0, 4.6] \n",
      "the square of numbers is:[6.25, 6.760000000000001, 79.21000000000001, 49.0, 21.159999999999997]\n"
     ]
    }
   ],
   "source": [
    "numbers=[-2.5,2.6,8.9,7.0,4.6]\n",
    "squares=[]\n",
    "for num in numbers:\n",
    "    square=num**2\n",
    "    squares.append(square)\n",
    "print(f\"The Orginal numbers is:{numbers} \")\n",
    "print(f'the square of numbers is:{squares}')"
   ]
  },
  {
   "cell_type": "code",
   "execution_count": 17,
   "id": "4d9131c4-f38e-4c62-87f8-11a065b3c618",
   "metadata": {},
   "outputs": [
    {
     "name": "stdout",
     "output_type": "stream",
     "text": [
      "The Original numbers is: [0, 1, 2, 3, 4, 5, 6, 7, 8, 9]\n",
      "the square of numbers is:[1, 4, 9, 16, 25, 36, 49, 64, 81, 100]\n"
     ]
    }
   ],
   "source": [
    "squares=[]\n",
    "for num in range(1,11):\n",
    "    squares.append(num**2)\n",
    "print(\"The Original numbers is:\",list(range(num)))\n",
    "print(f'the square of numbers is:{squares}')"
   ]
  },
  {
   "cell_type": "code",
   "execution_count": 18,
   "id": "6ed1bb33-3010-48ef-b325-ed6e708afd7e",
   "metadata": {},
   "outputs": [
    {
     "name": "stdout",
     "output_type": "stream",
     "text": [
      "['Anjali', 'Kavita', 'Shevanti', 'Akash']\n",
      "[6, 6, 8, 5]\n"
     ]
    }
   ],
   "source": [
    "#Write a program that takes a list of names and returns a new list containing the length of each name.\n",
    "names=['Anjali','Kavita','Shevanti','Akash']\n",
    "length_name=[]\n",
    "for item in names:\n",
    "    length_name.append(len(item))\n",
    "print(names)\n",
    "print(length_name)"
   ]
  },
  {
   "cell_type": "code",
   "execution_count": 19,
   "id": "9d453a5f-a6a9-4d16-870c-53ee86d7a7e6",
   "metadata": {},
   "outputs": [
    {
     "name": "stdout",
     "output_type": "stream",
     "text": [
      "[2, 3, 5, 3, 4, 5]\n"
     ]
    }
   ],
   "source": [
    "#Write a program that filters out the +ve numbers from the list\n",
    "mixed_numbers=[2,-9,-7,3,5,-8,-1,0,3,4,5]\n",
    "positive_numbers=[]\n",
    "for item in mixed_numbers:\n",
    "    if item>0:\n",
    "        positive_numbers.append(item)\n",
    "print(positive_numbers)"
   ]
  },
  {
   "cell_type": "code",
   "execution_count": 22,
   "id": "8717548b-254d-49f3-9748-c787e55eb2f4",
   "metadata": {},
   "outputs": [
    {
     "name": "stdout",
     "output_type": "stream",
     "text": [
      "a:###\n",
      "b:##\n",
      "c:#\n"
     ]
    }
   ],
   "source": [
    "#Write a program to generate a histogram of character frequencies in a string\n",
    "text='aaabbc'\n",
    "char_count={}\n",
    "for char in text:\n",
    "    char_count[char]=char_count.get(char,0)+1 #Count each character\n",
    "    #Print histogram\n",
    "for char,count in char_count.items():\n",
    "    print(char+\":\"+\"#\"*count)\n",
    "#print character of its frequency as a histogram   \n"
   ]
  },
  {
   "cell_type": "code",
   "execution_count": 23,
   "id": "bb3b82db-9281-4681-831f-4dfa39247d75",
   "metadata": {},
   "outputs": [
    {
     "name": "stdout",
     "output_type": "stream",
     "text": [
      "The minimum number is: 11\n"
     ]
    }
   ],
   "source": [
    "#Finding the minimum numbers in a list\n",
    "numbers=[45,22,78,56,11,90]\n",
    "min_number=numbers[0]  #start with the 1st numbers as the minimum\n",
    "for number in numbers:\n",
    "    if number<min_number:\n",
    "        min_number=number\n",
    "print(\"The minimum number is:\",min_number)"
   ]
  },
  {
   "cell_type": "code",
   "execution_count": 24,
   "id": "7c3fc5e4-9b5a-4627-a902-d8c61724d8b0",
   "metadata": {},
   "outputs": [
    {
     "name": "stdout",
     "output_type": "stream",
     "text": [
      "The Doubled number is: [2, 4, 6, 8, 10]\n"
     ]
    }
   ],
   "source": [
    "#Write a program to double each values in a list of integers\n",
    "numbers=[1,2,3,4,5]\n",
    "doubled=[]\n",
    "for num in numbers:\n",
    "    doubled.append(num*2)\n",
    "print('The Doubled number is:', doubled)"
   ]
  },
  {
   "cell_type": "code",
   "execution_count": 31,
   "id": "c7f4d722-f33c-45b5-bf55-21bad4c8be0b",
   "metadata": {},
   "outputs": [
    {
     "name": "stdout",
     "output_type": "stream",
     "text": [
      "Are 'listen' and 'silent' anagrams? True\n"
     ]
    }
   ],
   "source": [
    "#Write a program to check if two words are anagrams of each other?\n",
    "word1='listen'\n",
    "word2='silent'\n",
    "count1={}\n",
    "count2={}\n",
    "for char in word1:\n",
    "    count1[char]=count1.get(char,0)+1 #count each characters in word1\n",
    "for char in word2:\n",
    "    count2[char]=count2.get(char,0)+1 #count each characters in word2\n",
    "is_anagrams=count1==count2 #check if counts are the same\n",
    "print(f\"Are '{word1}' and '{word2}' anagrams? {is_anagrams}\")"
   ]
  },
  {
   "cell_type": "code",
   "execution_count": null,
   "id": "7f2d186c-3b33-4b8a-979a-85589226e86d",
   "metadata": {},
   "outputs": [],
   "source": []
  }
 ],
 "metadata": {
  "kernelspec": {
   "display_name": "Python 3 (ipykernel)",
   "language": "python",
   "name": "python3"
  },
  "language_info": {
   "codemirror_mode": {
    "name": "ipython",
    "version": 3
   },
   "file_extension": ".py",
   "mimetype": "text/x-python",
   "name": "python",
   "nbconvert_exporter": "python",
   "pygments_lexer": "ipython3",
   "version": "3.12.4"
  }
 },
 "nbformat": 4,
 "nbformat_minor": 5
}
