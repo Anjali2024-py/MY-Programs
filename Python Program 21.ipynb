{
 "cells": [
  {
   "cell_type": "code",
   "execution_count": 1,
   "id": "b69afb9e-c109-4b8e-b667-c74203e04117",
   "metadata": {},
   "outputs": [
    {
     "name": "stdout",
     "output_type": "stream",
     "text": [
      "A \n",
      "\n",
      "B C \n",
      "\n",
      "D E F \n",
      "\n",
      "G H I J \n",
      "\n"
     ]
    }
   ],
   "source": [
    "#write a program to print following paterns\n",
    "l=65\n",
    "for i in range(1,5):\n",
    "    for j in range(1,i+1):\n",
    "        print(chr(l),end=\" \")\n",
    "        l=l+1\n",
    "    print('\\n')\n",
    "l=65"
   ]
  },
  {
   "cell_type": "code",
   "execution_count": 2,
   "id": "bdf199fd-4f48-4686-adca-6d69b0286c95",
   "metadata": {},
   "outputs": [
    {
     "name": "stdout",
     "output_type": "stream",
     "text": [
      "A  A  A  A  \n",
      "\n",
      "A  A  A  A  \n",
      "\n",
      "A  A  A  A  \n",
      "\n",
      "A  A  A  A  \n",
      "\n"
     ]
    }
   ],
   "source": [
    "# Write a program to print following patterns.\n",
    "l=65\n",
    "for i in range(4,0,-1):\n",
    "    for j in range(1,i+1):\n",
    "        print(chr(l),end=\"  \")\n",
    "    for k in range(3,j-1,-1):\n",
    "        print(chr(l),end=\"  \")\n",
    "    \n",
    "    print('\\n')\n",
    "l=65\n"
   ]
  },
  {
   "cell_type": "code",
   "execution_count": 3,
   "id": "9ab27b83-d794-466a-83b4-b3b85938cfa5",
   "metadata": {},
   "outputs": [
    {
     "name": "stdout",
     "output_type": "stream",
     "text": [
      "A  B  C  D  \n",
      "\n",
      "E  F  G  H  \n",
      "\n",
      "I  J  K  L  \n",
      "\n",
      "M  N  O  P  \n",
      "\n"
     ]
    }
   ],
   "source": [
    "l=65\n",
    "for i in range(4,0,-1):\n",
    "    for j in range(1,i+1):\n",
    "        print(chr(l),end=\"  \")\n",
    "        l=l+1\n",
    "    for k in range(3,j-1,-1):\n",
    "        print(chr(l),end=\"  \")\n",
    "        l=l+1\n",
    "    \n",
    "    print('\\n')\n",
    "l=65"
   ]
  },
  {
   "cell_type": "code",
   "execution_count": 4,
   "id": "c93bfdf7-08cd-4a2c-80a8-6aa80bfde5a7",
   "metadata": {},
   "outputs": [
    {
     "name": "stdout",
     "output_type": "stream",
     "text": [
      "A  B  C  D  E  \n",
      "\n",
      "F  G  H  I  J  \n",
      "\n",
      "K  L  M  N  O  \n",
      "\n",
      "P  Q  R  S  T  \n",
      "\n",
      "U  V  W  X  Y  \n",
      "\n",
      "Z\n"
     ]
    }
   ],
   "source": [
    "l=65\n",
    "for i in range(5,0,-1):\n",
    "    for j in range(1,i+1):\n",
    "        print(chr(l),end=\"  \")\n",
    "        l=l+1\n",
    "    for k in range(4,j-1,-1):\n",
    "        print(chr(l),end=\"  \")\n",
    "        l=l+1\n",
    "    \n",
    "    print('\\n')\n",
    "l=65\n",
    "print('Z')"
   ]
  },
  {
   "cell_type": "code",
   "execution_count": 5,
   "id": "895fe13c-4d59-46ab-a0be-eb9311fc4a4d",
   "metadata": {},
   "outputs": [
    {
     "name": "stdout",
     "output_type": "stream",
     "text": [
      "# # # # * \n",
      "# # # * * \n",
      "# # * * * \n",
      "# * * * * \n"
     ]
    }
   ],
   "source": [
    "for i in range(1,5):\n",
    "    for j in range(4,i-1,-1):\n",
    "        print(\"#\",end=\" \")\n",
    "    for k in range(1,j+1):\n",
    "        print(\"*\",end=\" \")        \n",
    "    print()\n"
   ]
  },
  {
   "cell_type": "code",
   "execution_count": 6,
   "id": "b3e7050c-7646-45c8-b6e7-138f4cf0674b",
   "metadata": {},
   "outputs": [
    {
     "name": "stdout",
     "output_type": "stream",
     "text": [
      "# \n",
      "% % \n",
      "# # # \n",
      "% % % % \n"
     ]
    }
   ],
   "source": [
    "for i in range(1,5):\n",
    "    if i%2==0:\n",
    "        print(\"% \"*i)\n",
    "    else:\n",
    "        print(\"# \"*i)\n",
    "   \n",
    "    "
   ]
  },
  {
   "cell_type": "code",
   "execution_count": 7,
   "id": "c197b2ea-13a5-4317-83d4-d475b302f10b",
   "metadata": {},
   "outputs": [
    {
     "name": "stdin",
     "output_type": "stream",
     "text": [
      "Enter Celcius here: 20\n"
     ]
    }
   ],
   "source": [
    "#write a program to convert temperature in fahrenheit to celsius.\n",
    "celsius=int(input(\"Enter Celcius here:\"))\n",
    "def fahrenheit_to_celsius(celsius):\n",
    "    fahrenheit=(celsius*9/5)+32\n",
    "    return fahrenheit"
   ]
  },
  {
   "cell_type": "code",
   "execution_count": 8,
   "id": "e1dd3c42-5edc-48f7-80a3-6ff24467ca40",
   "metadata": {},
   "outputs": [
    {
     "data": {
      "text/plain": [
       "68.0"
      ]
     },
     "execution_count": 8,
     "metadata": {},
     "output_type": "execute_result"
    }
   ],
   "source": [
    "fahrenheit_to_celsius(celsius)"
   ]
  },
  {
   "cell_type": "code",
   "execution_count": 9,
   "id": "87c978f5-0193-4b16-a93f-3b462f32f2c8",
   "metadata": {},
   "outputs": [
    {
     "name": "stdin",
     "output_type": "stream",
     "text": [
      "Enter fahrenheit here: 68\n"
     ]
    }
   ],
   "source": [
    "#write a program to convert temperature in celsius to fahrenheit \n",
    "fahrenheit=int(input(\"Enter fahrenheit here:\"))\n",
    "def celsius_to_fahrenheit(fahrenheit):\n",
    "    celsius=(fahrenheit-32)*5/9\n",
    "    return celsius"
   ]
  },
  {
   "cell_type": "code",
   "execution_count": 10,
   "id": "f904b8d2-2610-49f5-a529-153d4327648b",
   "metadata": {},
   "outputs": [
    {
     "data": {
      "text/plain": [
       "20.0"
      ]
     },
     "execution_count": 10,
     "metadata": {},
     "output_type": "execute_result"
    }
   ],
   "source": [
    "celsius_to_fahrenheit(fahrenheit)"
   ]
  },
  {
   "cell_type": "code",
   "execution_count": 11,
   "id": "3a4ca370-0730-45f9-8545-c41543af660d",
   "metadata": {},
   "outputs": [
    {
     "name": "stdin",
     "output_type": "stream",
     "text": [
      "Enter any number: 5\n"
     ]
    },
    {
     "name": "stdout",
     "output_type": "stream",
     "text": [
      "120\n"
     ]
    }
   ],
   "source": [
    "#write a program to print factorial of the number\n",
    "num=int(input(\"Enter any number:\"))\n",
    "factorial=1\n",
    "for i in range(1,num+1):\n",
    "    factorial=factorial*i\n",
    "print(factorial)\n",
    "    "
   ]
  },
  {
   "cell_type": "code",
   "execution_count": 12,
   "id": "69b0f44a-a63a-4304-b609-36f61ddd4433",
   "metadata": {},
   "outputs": [
    {
     "name": "stdin",
     "output_type": "stream",
     "text": [
      "Enter any number: 524\n"
     ]
    },
    {
     "name": "stdout",
     "output_type": "stream",
     "text": [
      "11\n"
     ]
    }
   ],
   "source": [
    "#write a program to print sum of the digit of the number\n",
    "num=int(input(\"Enter any number:\"))\n",
    "s=0\n",
    "while num>0:\n",
    "    rem=num%10\n",
    "    s=s+rem\n",
    "    num=num//10\n",
    "print(s)"
   ]
  },
  {
   "cell_type": "code",
   "execution_count": 9,
   "id": "9b026cac-6360-440d-882b-8d264666df16",
   "metadata": {},
   "outputs": [
    {
     "name": "stdin",
     "output_type": "stream",
     "text": [
      "Enter any number: 1\n",
      "Enter any num2: 20\n"
     ]
    },
    {
     "name": "stdout",
     "output_type": "stream",
     "text": [
      "2\n",
      "4\n",
      "6\n",
      "8\n",
      "10\n",
      "12\n",
      "14\n",
      "16\n",
      "18\n",
      "20\n",
      "sum of all even numbers is 110 \n"
     ]
    }
   ],
   "source": [
    "#Accept two numbers from user and display sum of even numbers including both numbers\n",
    "num1=int(input(\"Enter any number:\"))\n",
    "num2=int(input(\"Enter any num2:\"))\n",
    "se=0\n",
    "while num1<=num2:\n",
    "    \n",
    "    if num1%2==0:\n",
    "        print(num1)\n",
    "        se=se+num1\n",
    "    num1=num1+1\n",
    "\n",
    "print(f\"sum of all even numbers is {se} \")\n",
    "    "
   ]
  },
  {
   "cell_type": "code",
   "execution_count": 15,
   "id": "41516dc1-ff6a-4c76-8428-cf79f803d236",
   "metadata": {},
   "outputs": [
    {
     "name": "stdin",
     "output_type": "stream",
     "text": [
      "Enter any number: 1\n",
      "Enter any num2: 20\n"
     ]
    },
    {
     "name": "stdout",
     "output_type": "stream",
     "text": [
      "2\n",
      "4\n",
      "6\n",
      "8\n",
      "10\n",
      "12\n",
      "14\n",
      "16\n",
      "18\n",
      "20\n",
      "sum of all even numbers is 110 \n"
     ]
    }
   ],
   "source": [
    "#Accept two numbers from user and display sum of even numbers including both numbers\n",
    "num1=int(input(\"Enter any number:\"))\n",
    "num2=int(input(\"Enter any num2:\"))\n",
    "se=0\n",
    "for i in range(num1,num2+1):\n",
    "    if i%2==0:\n",
    "        print(i)\n",
    "        se=se+i\n",
    "\n",
    "print(f\"sum of all even numbers is {se} \")"
   ]
  },
  {
   "cell_type": "code",
   "execution_count": 19,
   "id": "0fa0cdaa-8db8-4852-bcc4-fcb7fe551c54",
   "metadata": {},
   "outputs": [],
   "source": [
    "def sum_of_even_numbers(n1,n2):\n",
    "    sum=0\n",
    "    for i in range(n1,n2):\n",
    "        if i%2==0:\n",
    "            print(i)\n",
    "            sum=sum+i\n",
    "    return sum"
   ]
  },
  {
   "cell_type": "code",
   "execution_count": 20,
   "id": "06cf791d-1083-4160-964b-9fdfcd4e659b",
   "metadata": {},
   "outputs": [
    {
     "name": "stdout",
     "output_type": "stream",
     "text": [
      "2\n",
      "4\n",
      "6\n",
      "8\n",
      "10\n",
      "12\n",
      "14\n",
      "16\n",
      "18\n",
      "20\n"
     ]
    },
    {
     "data": {
      "text/plain": [
       "110"
      ]
     },
     "execution_count": 20,
     "metadata": {},
     "output_type": "execute_result"
    }
   ],
   "source": [
    "sum_of_even_numbers(1,21)"
   ]
  },
  {
   "cell_type": "code",
   "execution_count": null,
   "id": "d8693d91-4b1a-4408-a38e-c71757ec04df",
   "metadata": {},
   "outputs": [],
   "source": []
  },
  {
   "cell_type": "code",
   "execution_count": null,
   "id": "e13764dc-50e0-4ee3-bfe4-00762c31e6c6",
   "metadata": {},
   "outputs": [],
   "source": []
  }
 ],
 "metadata": {
  "kernelspec": {
   "display_name": "Python 3 (ipykernel)",
   "language": "python",
   "name": "python3"
  },
  "language_info": {
   "codemirror_mode": {
    "name": "ipython",
    "version": 3
   },
   "file_extension": ".py",
   "mimetype": "text/x-python",
   "name": "python",
   "nbconvert_exporter": "python",
   "pygments_lexer": "ipython3",
   "version": "3.12.4"
  }
 },
 "nbformat": 4,
 "nbformat_minor": 5
}
