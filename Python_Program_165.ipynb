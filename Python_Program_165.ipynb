{
 "cells": [
  {
   "cell_type": "code",
   "execution_count": 1,
   "id": "12e5bc81-836d-419b-828a-e90c406bc1bf",
   "metadata": {},
   "outputs": [
    {
     "name": "stdout",
     "output_type": "stream",
     "text": [
      "2\n"
     ]
    }
   ],
   "source": [
    "numbers = [10, 20, 30, 40, 50]\n",
    "index_of_30 = numbers.index(30)\n",
    "print(index_of_30)"
   ]
  },
  {
   "cell_type": "code",
   "execution_count": 2,
   "id": "8eeafb0f-adc0-43a0-8ef3-6880e91f4dc0",
   "metadata": {},
   "outputs": [
    {
     "name": "stdout",
     "output_type": "stream",
     "text": [
      "1\n"
     ]
    }
   ],
   "source": [
    "fruits=[\"apple\", \"banana\", \"cherry\", \"date\"]\n",
    "index_of_banana=fruits.index('banana')\n",
    "print(index_of_banana)"
   ]
  },
  {
   "cell_type": "code",
   "execution_count": 3,
   "id": "23b74af7-95c7-472d-876e-55f21ec19860",
   "metadata": {},
   "outputs": [
    {
     "name": "stdout",
     "output_type": "stream",
     "text": [
      "4\n"
     ]
    }
   ],
   "source": [
    "colors = [\"red\", \"green\", \"blue\", \"yellow\", \"green\"]\n",
    "index_of_green = colors.index(\"green\", 2)  # Search starting from index 2\n",
    "print(index_of_green)  "
   ]
  },
  {
   "cell_type": "code",
   "execution_count": 4,
   "id": "6fa978f2-f7bf-4580-a3e5-6e9161b686e5",
   "metadata": {},
   "outputs": [
    {
     "name": "stdout",
     "output_type": "stream",
     "text": [
      "Element not found\n"
     ]
    }
   ],
   "source": [
    "animals=['cat','dog','rabbit']\n",
    "try:\n",
    "    index_of_bird=animals.index('bird')\n",
    "except ValueError:\n",
    "    print('Element not found')"
   ]
  },
  {
   "cell_type": "code",
   "execution_count": 5,
   "id": "3c389c0d-3b8f-413b-bcd5-6d0ba27565cf",
   "metadata": {},
   "outputs": [
    {
     "name": "stdout",
     "output_type": "stream",
     "text": [
      "1\n"
     ]
    }
   ],
   "source": [
    "values = [True, False, True, False]\n",
    "index_of_false = values.index(False)\n",
    "print(index_of_false)"
   ]
  },
  {
   "cell_type": "code",
   "execution_count": 6,
   "id": "bd23c0b2-7aaa-466a-bd08-d0a472cdd166",
   "metadata": {},
   "outputs": [
    {
     "name": "stdout",
     "output_type": "stream",
     "text": [
      "1\n"
     ]
    }
   ],
   "source": [
    "values = [True, False, True, False]\n",
    "index_of_false = values.index(False)\n",
    "print(index_of_false)"
   ]
  },
  {
   "cell_type": "code",
   "execution_count": 7,
   "id": "aaa846cb-0d78-4c5d-a36b-63e96151f9ba",
   "metadata": {},
   "outputs": [
    {
     "name": "stdout",
     "output_type": "stream",
     "text": [
      "1\n"
     ]
    }
   ],
   "source": [
    "values = [True, False, True, False]\n",
    "index_of_false = values.index(False)\n",
    "print(index_of_false) \n"
   ]
  },
  {
   "cell_type": "code",
   "execution_count": 8,
   "id": "e3cca515-c953-444a-9f70-2af9b7843a87",
   "metadata": {},
   "outputs": [
    {
     "name": "stdout",
     "output_type": "stream",
     "text": [
      "1\n"
     ]
    }
   ],
   "source": [
    "pairs = [(1, 2), (3, 4), (5, 6)]\n",
    "index_of_pair = pairs.index((3, 4))\n",
    "print(index_of_pair)"
   ]
  },
  {
   "cell_type": "code",
   "execution_count": null,
   "id": "8b5a77d7-c0d8-4d7c-b1e6-4e59c20f5fe2",
   "metadata": {},
   "outputs": [],
   "source": []
  }
 ],
 "metadata": {
  "kernelspec": {
   "display_name": "Python 3 (ipykernel)",
   "language": "python",
   "name": "python3"
  },
  "language_info": {
   "codemirror_mode": {
    "name": "ipython",
    "version": 3
   },
   "file_extension": ".py",
   "mimetype": "text/x-python",
   "name": "python",
   "nbconvert_exporter": "python",
   "pygments_lexer": "ipython3",
   "version": "3.12.4"
  }
 },
 "nbformat": 4,
 "nbformat_minor": 5
}
