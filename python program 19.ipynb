{
 "cells": [
  {
   "cell_type": "code",
   "execution_count": 1,
   "id": "64650474-df9c-4136-911a-2fc8180803ae",
   "metadata": {},
   "outputs": [
    {
     "name": "stdout",
     "output_type": "stream",
     "text": [
      "1\n",
      "5\n",
      "7\n",
      "11\n",
      "13\n",
      "17\n",
      "19\n"
     ]
    }
   ],
   "source": [
    "#write a program to print numbers from 1 to 20 except multiple of 2 and 3.\n",
    "for num in range(1,21):\n",
    "    if num%2!=0 and num%3!=0:\n",
    "        print(num)"
   ]
  },
  {
   "cell_type": "code",
   "execution_count": 2,
   "id": "b9a2a346-8b2d-4bad-81b1-0993143663a7",
   "metadata": {},
   "outputs": [
    {
     "name": "stdin",
     "output_type": "stream",
     "text": [
      "Enter any number: 8\n"
     ]
    },
    {
     "name": "stdout",
     "output_type": "stream",
     "text": [
      "8 * 1 = 8\n",
      "8 * 2 = 16\n",
      "8 * 3 = 24\n",
      "8 * 4 = 32\n",
      "8 * 5 = 40\n",
      "8 * 6 = 48\n",
      "8 * 7 = 56\n",
      "8 * 8 = 64\n",
      "8 * 9 = 72\n",
      "8 * 10 = 80\n"
     ]
    }
   ],
   "source": [
    "#write a program to print  table of a number (accepted from user) in the following format:\n",
    "num=int(input(\"Enter any number:\"))\n",
    "for i in range(1,11):\n",
    "    print(num,\"*\",i,\"=\",i*num)"
   ]
  },
  {
   "cell_type": "code",
   "execution_count": 5,
   "id": "2092b6f0-b7e9-4622-b136-e362d0226b62",
   "metadata": {},
   "outputs": [
    {
     "name": "stdin",
     "output_type": "stream",
     "text": [
      "enter any number: 8\n",
      "enter any number: 5\n",
      "enter any number: 4\n",
      "enter any number: 6\n",
      "enter any number: 0\n"
     ]
    },
    {
     "name": "stdout",
     "output_type": "stream",
     "text": [
      "Average of numbers is: 5.75 23.0\n"
     ]
    }
   ],
   "source": [
    "#write a program that keep on accepting numbers from the user enter zero.\n",
    "#Display the sum and average of all the numbers\n",
    "num=1\n",
    "i=-1\n",
    "s=0\n",
    "while num!=0:\n",
    "    num=float(input(\"enter any number:\"))\n",
    "    s=s+num\n",
    "    i=i+1\n",
    "print(\"Average of numbers is:\",s/i,s)\n"
   ]
  },
  {
   "cell_type": "code",
   "execution_count": 7,
   "id": "7e104c9c-e815-4c17-a9ca-9eaed91981b5",
   "metadata": {},
   "outputs": [
    {
     "name": "stdout",
     "output_type": "stream",
     "text": [
      "5 5 5 5 5 \n",
      "4 4 4 4 \n",
      "3 3 3 \n",
      "2 2 \n",
      "1 \n"
     ]
    }
   ],
   "source": [
    "# write a program to print the following patterns\n",
    "for i in range(5,0,-1):\n",
    "    for j in range(1,i+1):\n",
    "        print(i,end=\" \")\n",
    "    print()"
   ]
  },
  {
   "cell_type": "code",
   "execution_count": 18,
   "id": "c4145eb0-5e47-4cdb-aeaf-5925d0549de2",
   "metadata": {},
   "outputs": [
    {
     "name": "stdin",
     "output_type": "stream",
     "text": [
      "Enter any decimal number: 86\n"
     ]
    },
    {
     "name": "stdout",
     "output_type": "stream",
     "text": [
      "1010110\n"
     ]
    }
   ],
   "source": [
    "#write a program to accept decimal number from the user and display it binary number.\n",
    "decimal_number=int(input(\"Enter any decimal number:\"))\n",
    "s=\" \"\n",
    "while decimal_number>0:\n",
    "    rem=decimal_number%2\n",
    "    s=str(rem)+s\n",
    "    decimal_number=decimal_number//2\n",
    "print(int(s))"
   ]
  },
  {
   "cell_type": "code",
   "execution_count": 10,
   "id": "90a7e541-0383-4cc5-9f12-b91edcb6f642",
   "metadata": {},
   "outputs": [
    {
     "name": "stdin",
     "output_type": "stream",
     "text": [
      "Enter any number: 5\n"
     ]
    },
    {
     "name": "stdout",
     "output_type": "stream",
     "text": [
      "number is not perfect\n"
     ]
    }
   ],
   "source": [
    "num=int(input(\"Enter any number:\"))\n",
    "s=0\n",
    "for i in range(1,num):\n",
    "    if num%i==0:\n",
    "        s=s+i\n",
    "if num==s:\n",
    "    print(\"number is perfect\")\n",
    "else:\n",
    "    print(\"number is not perfect\")"
   ]
  },
  {
   "cell_type": "code",
   "execution_count": 11,
   "id": "68636eaf-15ff-4b45-afa3-5e9cba18564d",
   "metadata": {},
   "outputs": [
    {
     "name": "stdin",
     "output_type": "stream",
     "text": [
      "Enter x number: 2\n",
      "Enter n number: 5\n"
     ]
    },
    {
     "name": "stdout",
     "output_type": "stream",
     "text": [
      "7.0\n"
     ]
    }
   ],
   "source": [
    "#write a program to find sum of the following series (Accept values of x and n from user) 1st way\n",
    "x=int(input(\"Enter x number:\"))\n",
    "n=int(input(\"Enter n number:\"))\n",
    "s=1\n",
    "fact=1\n",
    "for i in range(1,n):\n",
    "    fact=fact*i\n",
    "    s=s+pow(x,i)/fact\n",
    "print(s)"
   ]
  },
  {
   "cell_type": "code",
   "execution_count": 13,
   "id": "a6116ca7-d067-4ada-aa16-f1dffb869182",
   "metadata": {},
   "outputs": [
    {
     "name": "stdin",
     "output_type": "stream",
     "text": [
      "Enter x number: 2\n",
      "Enter n number: 5\n"
     ]
    },
    {
     "name": "stdout",
     "output_type": "stream",
     "text": [
      "7.0\n"
     ]
    }
   ],
   "source": [
    "#2nd Way\n",
    "import math\n",
    "x=int(input(\"Enter x number:\"))\n",
    "n=int(input(\"Enter n number:\"))\n",
    "s=1\n",
    "for i in range(1,5):\n",
    "    s=s+math.pow(x,i)/math.factorial(i)\n",
    "print(s)"
   ]
  },
  {
   "cell_type": "code",
   "execution_count": 39,
   "id": "05fcf451-0e12-4367-b092-73cf3353a319",
   "metadata": {},
   "outputs": [
    {
     "name": "stdout",
     "output_type": "stream",
     "text": [
      "A \n",
      "B C \n",
      "D E F \n",
      "G H I J \n",
      "K L M N O \n"
     ]
    }
   ],
   "source": [
    "#write a program to print the following patterns\n",
    "l=65\n",
    "for i in range(1,6):\n",
    "    \n",
    "    for j in range(1,i+1):\n",
    "        print(chr(l),end=\" \" )\n",
    "        l=l+1\n",
    "    print()\n",
    "l=65\n",
    "        "
   ]
  },
  {
   "cell_type": "code",
   "execution_count": 41,
   "id": "e0b1f89c-0d5e-4348-be69-3800da1c9832",
   "metadata": {},
   "outputs": [
    {
     "name": "stdin",
     "output_type": "stream",
     "text": [
      "Enter any number: 2\n",
      "Enter any base: 2\n",
      "Enter any base2: 3\n"
     ]
    },
    {
     "name": "stdout",
     "output_type": "stream",
     "text": [
      "26\n"
     ]
    }
   ],
   "source": [
    "#write a program to find the sum of following ((Accept values of a,r,n) from user)\n",
    "#a+ar+ar2+ar3+.....+arn\n",
    "n=int(input(\"Enter any number:\"))\n",
    "a=int(input(\"Enter any base:\"))\n",
    "r=int(input(\"Enter any base2:\"))\n",
    "s=0\n",
    "for i in range(0,n+1):\n",
    "    s=s+a*pow(r,i)\n",
    "print(s)\n",
    "    \n"
   ]
  },
  {
   "cell_type": "code",
   "execution_count": null,
   "id": "d7c928a3-766d-4379-a63e-0e0ca442715b",
   "metadata": {},
   "outputs": [],
   "source": []
  }
 ],
 "metadata": {
  "kernelspec": {
   "display_name": "Python 3 (ipykernel)",
   "language": "python",
   "name": "python3"
  },
  "language_info": {
   "codemirror_mode": {
    "name": "ipython",
    "version": 3
   },
   "file_extension": ".py",
   "mimetype": "text/x-python",
   "name": "python",
   "nbconvert_exporter": "python",
   "pygments_lexer": "ipython3",
   "version": "3.12.4"
  }
 },
 "nbformat": 4,
 "nbformat_minor": 5
}
