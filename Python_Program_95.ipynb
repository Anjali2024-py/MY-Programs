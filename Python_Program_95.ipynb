{
 "cells": [
  {
   "cell_type": "code",
   "execution_count": 1,
   "id": "c0a52dae-08d2-495e-84d2-4bad97f73dbb",
   "metadata": {},
   "outputs": [
    {
     "name": "stdout",
     "output_type": "stream",
     "text": [
      "Anjali Kumbhar\n",
      "22\n",
      "third Year\n"
     ]
    }
   ],
   "source": [
    "class Student:\n",
    "    def __init__(self,fullname,age,std):\n",
    "        self.name=fullname\n",
    "        self.age=age\n",
    "        self.std=std\n",
    "        \n",
    "\n",
    "s1=Student(\"Anjali Kumbhar\",22,\"third Year\")\n",
    "print(s1.name)\n",
    "print(s1.age)\n",
    "print(s1.std)"
   ]
  },
  {
   "cell_type": "code",
   "execution_count": 2,
   "id": "49eaed07-1009-4821-9bac-e0ff3571062f",
   "metadata": {},
   "outputs": [
    {
     "name": "stdout",
     "output_type": "stream",
     "text": [
      "Adding new student database\n",
      "Anjali Kumbhar\n",
      "96\n",
      "Adding new student database\n",
      "Kartiki sonavane\n",
      "98\n"
     ]
    }
   ],
   "source": [
    "class student:\n",
    "    def __init__(self,fullname,marks):\n",
    "        self.name=fullname\n",
    "        self.marks=marks\n",
    "        print(\"Adding new student database\")\n",
    "\n",
    "s1=student(\"Anjali Kumbhar\",96)\n",
    "print(s1.name)\n",
    "print(s1.marks)\n",
    "s2=student(\"Kartiki sonavane\",98)\n",
    "print(s2.name)\n",
    "print(s2.marks)"
   ]
  },
  {
   "cell_type": "code",
   "execution_count": 3,
   "id": "bd3bdf29-66c9-4b52-8370-70a4edbc0040",
   "metadata": {},
   "outputs": [
    {
     "name": "stdout",
     "output_type": "stream",
     "text": [
      "80.33333333333333\n"
     ]
    }
   ],
   "source": [
    "#Wap to create class that takes name and marks of 3 subjects in constructors\n",
    "#then create a method to print the avg\n",
    "class Student:\n",
    "    def __init__(self,fullname,marks1,marks2,marks3):\n",
    "        self.name=fullname\n",
    "        self.marks1=marks1\n",
    "        self.marks2=marks2\n",
    "        self.marks3=marks3\n",
    "    def avg_marks(self):\n",
    "        avg=(self.marks1+self.marks2+self.marks3)/3\n",
    "        return avg\n",
    "\n",
    "s1=Student(\"Anavi Salwe\",56,86,99)\n",
    "print(s1.avg_marks())"
   ]
  },
  {
   "cell_type": "code",
   "execution_count": 4,
   "id": "727c8be3-9550-4c5f-8197-bad683915614",
   "metadata": {},
   "outputs": [
    {
     "name": "stdout",
     "output_type": "stream",
     "text": [
      " Hi Anavi Salwe your score is 80.33333333333333\n"
     ]
    }
   ],
   "source": [
    "class Student:\n",
    "    def __init__(self,fullname,marks):\n",
    "        self.name=fullname\n",
    "        self.marks=marks\n",
    "\n",
    "    def avg_marks(self):\n",
    "        sum=0\n",
    "        for val in self.marks:\n",
    "            sum+=val\n",
    "        print(f\" Hi {self.name} your score is\", sum/3)\n",
    "\n",
    "s1=Student(\"Anavi Salwe\",[56,86,99])\n",
    "s1.avg_marks()"
   ]
  },
  {
   "cell_type": "code",
   "execution_count": 5,
   "id": "31a5a517-9e3f-436c-8f86-461ba0390a53",
   "metadata": {},
   "outputs": [
    {
     "name": "stdout",
     "output_type": "stream",
     "text": [
      "80.33333333333333\n"
     ]
    }
   ],
   "source": [
    "class Student:\n",
    "    def __init__(self, fullname, marks):\n",
    "        self.name = fullname\n",
    "        self.marks = marks  # List to store marks\n",
    "\n",
    "    def avg_marks(self):\n",
    "        # Calculate the average by dividing the sum of marks by the number of marks\n",
    "        avg = sum(self.marks) / len(self.marks)\n",
    "        return avg\n",
    "\n",
    "# Creating an instance of the Student class with a list of marks\n",
    "s1 = Student(\"Anavi Salwe\", [56, 86, 99])\n",
    "\n",
    "# Calling the avg_marks method to print the average marks\n",
    "print(s1.avg_marks())  # Output will be the average of the marks\n"
   ]
  },
  {
   "cell_type": "code",
   "execution_count": null,
   "id": "582f8ab2-3edf-4dfc-b2ef-d56983ae714f",
   "metadata": {},
   "outputs": [],
   "source": []
  }
 ],
 "metadata": {
  "kernelspec": {
   "display_name": "Python 3 (ipykernel)",
   "language": "python",
   "name": "python3"
  },
  "language_info": {
   "codemirror_mode": {
    "name": "ipython",
    "version": 3
   },
   "file_extension": ".py",
   "mimetype": "text/x-python",
   "name": "python",
   "nbconvert_exporter": "python",
   "pygments_lexer": "ipython3",
   "version": "3.12.4"
  }
 },
 "nbformat": 4,
 "nbformat_minor": 5
}
