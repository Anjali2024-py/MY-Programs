{
 "cells": [
  {
   "cell_type": "code",
   "execution_count": 2,
   "id": "f8865e99-a57d-4f3b-b699-07f8f825cd9c",
   "metadata": {},
   "outputs": [
    {
     "name": "stdout",
     "output_type": "stream",
     "text": [
      "Area of rectangle:50\n",
      "Perimeter of rectangle:30\n"
     ]
    }
   ],
   "source": [
    "#ABstract Base Class Example\n",
    "from abc import ABC,abstractmethod\n",
    "class Shape(ABC):\n",
    "    @abstractmethod\n",
    "    def area(self):\n",
    "        pass\n",
    "    @abstractmethod\n",
    "    def perimeter(self):\n",
    "        pass\n",
    "\n",
    "class Rectangle(Shape):\n",
    "    def __init__(self,width,height):\n",
    "        self.width=width\n",
    "        self.height=height\n",
    "    def area(self):\n",
    "        return self.width*self.height\n",
    "    def perimeter(self):\n",
    "        return 2*(self.width+self.height)\n",
    "#create an object of the Rectangle class\n",
    "rectangle=Rectangle(5,10)\n",
    "\n",
    "print(f\"Area of rectangle:{rectangle.area()}\")\n",
    "print(f\"Perimeter of rectangle:{rectangle.perimeter()}\")"
   ]
  },
  {
   "cell_type": "code",
   "execution_count": 5,
   "id": "059a05e6-54a1-417d-8675-282ad9d3a65f",
   "metadata": {},
   "outputs": [
    {
     "name": "stdout",
     "output_type": "stream",
     "text": [
      "Addition: 8\n",
      "Subtraction: 2\n"
     ]
    }
   ],
   "source": [
    "#A basic calculator class tht adds and substract number\n",
    "class Calculator:\n",
    "    def add(self, a, b):\n",
    "        return a + b\n",
    "\n",
    "    def subtract(self, a, b):\n",
    "        return a - b\n",
    "\n",
    "# Create an object of Calculator\n",
    "calc = Calculator()\n",
    "\n",
    "print(\"Addition:\", calc.add(5, 3))\n",
    "print(\"Subtraction:\", calc.subtract(5, 3))\n"
   ]
  },
  {
   "cell_type": "code",
   "execution_count": 6,
   "id": "25e5fc3e-0645-42af-a4c2-cce98b0d1eea",
   "metadata": {},
   "outputs": [
    {
     "name": "stdout",
     "output_type": "stream",
     "text": [
      "Multiplecation result: 10\n"
     ]
    }
   ],
   "source": [
    "#STatic method example\n",
    "class MathOperations:\n",
    "    @staticmethod\n",
    "    def multiply(a,b):\n",
    "        return a*b\n",
    "\n",
    "\n",
    "#call the static method without creating an object\n",
    "result=MathOperations.multiply(5,2)\n",
    "print(\"Multiplecation result:\",result)"
   ]
  },
  {
   "cell_type": "code",
   "execution_count": null,
   "id": "3d87ee8d-2452-4f21-8303-e2f120b1dc59",
   "metadata": {},
   "outputs": [],
   "source": []
  }
 ],
 "metadata": {
  "kernelspec": {
   "display_name": "Python 3 (ipykernel)",
   "language": "python",
   "name": "python3"
  },
  "language_info": {
   "codemirror_mode": {
    "name": "ipython",
    "version": 3
   },
   "file_extension": ".py",
   "mimetype": "text/x-python",
   "name": "python",
   "nbconvert_exporter": "python",
   "pygments_lexer": "ipython3",
   "version": "3.12.4"
  }
 },
 "nbformat": 4,
 "nbformat_minor": 5
}
