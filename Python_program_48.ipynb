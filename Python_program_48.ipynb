{
 "cells": [
  {
   "cell_type": "code",
   "execution_count": 1,
   "id": "7b7b65f8-d81b-4023-8d5c-a69deae3daae",
   "metadata": {},
   "outputs": [
    {
     "name": "stdout",
     "output_type": "stream",
     "text": [
      "The cubes of every number in a list is: [64, 512, 8, 27, 64, 125, 0]\n"
     ]
    }
   ],
   "source": [
    "n=[4,8,2,3,4,5,0]\n",
    "cubes=[]\n",
    "for num in n:\n",
    "    cubes.append(num**3)\n",
    "print(\"The cubes of every number in a list is:\", cubes)"
   ]
  },
  {
   "cell_type": "code",
   "execution_count": 6,
   "id": "3236b62a-9fad-4f1c-8444-8c89b2d003b1",
   "metadata": {},
   "outputs": [
    {
     "name": "stdout",
     "output_type": "stream",
     "text": [
      "1 x 1 = 1\n",
      "1 x 2 = 2\n",
      "1 x 3 = 3\n",
      "1 x 4 = 4\n",
      "1 x 5 = 5\n",
      "1 x 6 = 6\n",
      "1 x 7 = 7\n",
      "1 x 8 = 8\n",
      "1 x 9 = 9\n",
      "1 x 10 = 10\n",
      "\n",
      "2 x 1 = 2\n",
      "2 x 2 = 4\n",
      "2 x 3 = 6\n",
      "2 x 4 = 8\n",
      "2 x 5 = 10\n",
      "2 x 6 = 12\n",
      "2 x 7 = 14\n",
      "2 x 8 = 16\n",
      "2 x 9 = 18\n",
      "2 x 10 = 20\n",
      "\n",
      "3 x 1 = 3\n",
      "3 x 2 = 6\n",
      "3 x 3 = 9\n",
      "3 x 4 = 12\n",
      "3 x 5 = 15\n",
      "3 x 6 = 18\n",
      "3 x 7 = 21\n",
      "3 x 8 = 24\n",
      "3 x 9 = 27\n",
      "3 x 10 = 30\n",
      "\n"
     ]
    }
   ],
   "source": [
    "N = 3\n",
    "for i in range(1, N + 1):\n",
    "    for j in range(1, 11):\n",
    "        print(f\"{i} x {j} = {i * j}\")\n",
    "    print()"
   ]
  },
  {
   "cell_type": "code",
   "execution_count": 10,
   "id": "f08923a7-97b5-4b4e-b5e8-9d0ebf22c8ce",
   "metadata": {},
   "outputs": [
    {
     "name": "stdout",
     "output_type": "stream",
     "text": [
      "**\n",
      "*****\n",
      "******\n",
      "***\n"
     ]
    }
   ],
   "source": [
    "values=[2,5,6,3]\n",
    "for i in values:\n",
    "    print('*'*i)"
   ]
  },
  {
   "cell_type": "code",
   "execution_count": 18,
   "id": "25e92919-4fe3-4775-a0fc-21edb311c3fc",
   "metadata": {},
   "outputs": [
    {
     "name": "stdout",
     "output_type": "stream",
     "text": [
      "3 + 5 = 8\n",
      "6 + 10 = 16\n",
      "9 + 15 = 24\n",
      "12 + 20 = 32\n",
      "15 + 25 = 40\n",
      "18 + 30 = 48\n",
      "21 + 35 = 56\n",
      "24 + 40 = 64\n",
      "27 + 45 = 72\n",
      "30 + 50 = 80\n"
     ]
    }
   ],
   "source": [
    "n=3\n",
    "n1=5\n",
    "for i in range(1,11):\n",
    "    table=n*i\n",
    "    table1=n1*i\n",
    "    print(f\"{table} + {table1} = {table+table1}\")"
   ]
  },
  {
   "cell_type": "code",
   "execution_count": 19,
   "id": "1ae3b995-4536-454f-bec2-7dee38631380",
   "metadata": {},
   "outputs": [
    {
     "name": "stdout",
     "output_type": "stream",
     "text": [
      "33\n"
     ]
    }
   ],
   "source": [
    "N = 10\n",
    "total_sum = 0\n",
    "for i in range(1, N + 1):\n",
    "    if i % 3 == 0 or i % 5 == 0:\n",
    "        total_sum += i\n",
    "print(total_sum)\n"
   ]
  },
  {
   "cell_type": "code",
   "execution_count": 20,
   "id": "777d9e46-83e5-45d6-9022-6953170c2f72",
   "metadata": {},
   "outputs": [
    {
     "name": "stdout",
     "output_type": "stream",
     "text": [
      "7\n"
     ]
    }
   ],
   "source": [
    "#Count the number of consonants in a given string\n",
    "string = \"hello world\"\n",
    "consonants = \"bcdfghjklmnpqrstvwxyz\"\n",
    "count = 0\n",
    "for char in string.lower():\n",
    "    if char in consonants:\n",
    "        count += 1\n",
    "print(count)\n"
   ]
  },
  {
   "cell_type": "code",
   "execution_count": 23,
   "id": "c6bc50af-c071-437f-b7c8-2c758ce62758",
   "metadata": {},
   "outputs": [
    {
     "name": "stdout",
     "output_type": "stream",
     "text": [
      "[2, 3, 4]\n"
     ]
    }
   ],
   "source": [
    "list1=[1,2,5,3,4]\n",
    "list2=[8,2,4,3]\n",
    "common_list=[]\n",
    "for i in list1:\n",
    "    if i in list2:\n",
    "        common_list.append(i)\n",
    "print(common_list)"
   ]
  },
  {
   "cell_type": "code",
   "execution_count": 24,
   "id": "0f153e94-2e81-4408-90ce-652fc9b6f809",
   "metadata": {},
   "outputs": [
    {
     "name": "stdout",
     "output_type": "stream",
     "text": [
      "helloworld\n"
     ]
    }
   ],
   "source": [
    "string = \"hello world\"\n",
    "no_spaces = \"\"\n",
    "for char in string:\n",
    "    if char != \" \":\n",
    "        no_spaces += char\n",
    "print(no_spaces)\n"
   ]
  },
  {
   "cell_type": "code",
   "execution_count": 25,
   "id": "9fd0eee5-dcf6-4fd8-981b-e533ab8c381b",
   "metadata": {},
   "outputs": [
    {
     "name": "stdout",
     "output_type": "stream",
     "text": [
      "12\n"
     ]
    }
   ],
   "source": [
    "a, b = 60, 48\n",
    "while b:\n",
    "    a, b = b, a % b\n",
    "print(a)\n"
   ]
  },
  {
   "cell_type": "code",
   "execution_count": 26,
   "id": "503a34c1-95e2-4a37-a7eb-23890ff0580c",
   "metadata": {},
   "outputs": [
    {
     "name": "stdout",
     "output_type": "stream",
     "text": [
      "a\n",
      "ab\n",
      "abc\n",
      "b\n",
      "bc\n",
      "c\n"
     ]
    }
   ],
   "source": [
    "string = \"abc\"\n",
    "for i in range(len(string)):\n",
    "    for j in range(i + 1, len(string) + 1):\n",
    "        print(string[i:j])\n"
   ]
  },
  {
   "cell_type": "code",
   "execution_count": null,
   "id": "1d4b5cb8-3b5d-462b-9c4d-15004c290e19",
   "metadata": {},
   "outputs": [],
   "source": []
  }
 ],
 "metadata": {
  "kernelspec": {
   "display_name": "Python 3 (ipykernel)",
   "language": "python",
   "name": "python3"
  },
  "language_info": {
   "codemirror_mode": {
    "name": "ipython",
    "version": 3
   },
   "file_extension": ".py",
   "mimetype": "text/x-python",
   "name": "python",
   "nbconvert_exporter": "python",
   "pygments_lexer": "ipython3",
   "version": "3.12.4"
  }
 },
 "nbformat": 4,
 "nbformat_minor": 5
}
