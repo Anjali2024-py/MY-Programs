{
 "cells": [
  {
   "cell_type": "code",
   "execution_count": 6,
   "id": "148c93cf-8571-43ce-b385-bbecf275c21c",
   "metadata": {},
   "outputs": [
    {
     "name": "stdout",
     "output_type": "stream",
     "text": [
      "11\n",
      "13\n",
      "15\n",
      "17\n",
      "19\n"
     ]
    }
   ],
   "source": [
    "#write the Output of the following.\n",
    "for x in range(10,20):\n",
    "    if x%2==0:\n",
    "        continue\n",
    "    print(x)"
   ]
  },
  {
   "cell_type": "code",
   "execution_count": 8,
   "id": "e590ae9b-e482-4678-9f36-35e0fc8aa620",
   "metadata": {},
   "outputs": [
    {
     "name": "stdout",
     "output_type": "stream",
     "text": [
      "5\n",
      "4\n",
      "3\n",
      "2\n",
      "1\n"
     ]
    }
   ],
   "source": [
    "#write the output of the following\n",
    "a=5\n",
    "while a>0:\n",
    "    print(a)\n",
    "    a=a-1"
   ]
  },
  {
   "cell_type": "code",
   "execution_count": 13,
   "id": "84f4f0fd-e4c7-4177-ab88-027b04df8fe3",
   "metadata": {},
   "outputs": [
    {
     "name": "stdout",
     "output_type": "stream",
     "text": [
      "4\n"
     ]
    }
   ],
   "source": [
    "a=5\n",
    "while a>0:\n",
    "    a=a-1\n",
    "    if a==3:\n",
    "        break\n",
    "    print(a)"
   ]
  },
  {
   "cell_type": "code",
   "execution_count": 14,
   "id": "cab74129-a0de-41ca-aa9f-ea4843f08cab",
   "metadata": {},
   "outputs": [
    {
     "name": "stdout",
     "output_type": "stream",
     "text": [
      "4\n",
      "2\n",
      "1\n",
      "0\n"
     ]
    }
   ],
   "source": [
    "a=5\n",
    "while a>0:\n",
    "    a=a-1\n",
    "    if a==3:\n",
    "        continue\n",
    "    else:\n",
    "        print(a)"
   ]
  },
  {
   "cell_type": "code",
   "execution_count": 15,
   "id": "b291ca69-3b10-49f7-abb3-0256e7e8d3c7",
   "metadata": {},
   "outputs": [
    {
     "name": "stdout",
     "output_type": "stream",
     "text": [
      "10\n",
      "14\n",
      "18\n"
     ]
    }
   ],
   "source": [
    "#write a output following.\n",
    "for i in range(10,20,4):\n",
    "    print(i)"
   ]
  },
  {
   "cell_type": "code",
   "execution_count": 19,
   "id": "da83c1f8-3f18-4743-a05f-e45970fbf49d",
   "metadata": {},
   "outputs": [
    {
     "name": "stdin",
     "output_type": "stream",
     "text": [
      "Enter any number: 5\n"
     ]
    },
    {
     "name": "stdout",
     "output_type": "stream",
     "text": [
      "5 4 3 2 1 10\n",
      "-1 -2 -3 -4 -5 -6 -7 -8 -9 -10 -11 -12 -13 -14 "
     ]
    }
   ],
   "source": [
    "#find THE REsult:\n",
    "x=int(input(\"Enter any number:\"))\n",
    "for k in range (0,20):\n",
    "    if x==k:\n",
    "        print(x+k)\n",
    "    else:\n",
    "        print(x-k,end=\" \")"
   ]
  },
  {
   "cell_type": "code",
   "execution_count": 22,
   "id": "51640a17-2611-41c6-ae6d-b3d5c487adbd",
   "metadata": {},
   "outputs": [
    {
     "name": "stdout",
     "output_type": "stream",
     "text": [
      "Bye\n"
     ]
    }
   ],
   "source": [
    "x=3\n",
    "if x>2 or x<5 and x==6:\n",
    "    print(\"Bye\")\n",
    "else:\n",
    "    print(\"ThankYou\")"
   ]
  },
  {
   "cell_type": "code",
   "execution_count": 24,
   "id": "5cf0a738-363f-41f1-950a-e65c2b09397a",
   "metadata": {},
   "outputs": [
    {
     "name": "stdout",
     "output_type": "stream",
     "text": [
      "6\n",
      "2\n"
     ]
    }
   ],
   "source": [
    "x=10\n",
    "y=1\n",
    "while(x>y):\n",
    "    x=x-4\n",
    "    y=y+3\n",
    "    print(x)"
   ]
  },
  {
   "cell_type": "code",
   "execution_count": 25,
   "id": "41018de0-58ed-4ad3-ad92-bf96020fe792",
   "metadata": {},
   "outputs": [
    {
     "name": "stdout",
     "output_type": "stream",
     "text": [
      "Hi\n",
      "Hi\n",
      "\n",
      "Hi\n",
      "Hi\n",
      "\n",
      "Hi\n",
      "Hi\n",
      "\n"
     ]
    }
   ],
   "source": [
    "for x in range(3):\n",
    "    for y in range(2):\n",
    "        print(\"Hi\")\n",
    "    print()"
   ]
  },
  {
   "cell_type": "code",
   "execution_count": 28,
   "id": "34ce01ed-fbdc-4fc4-b14e-613115d236c4",
   "metadata": {},
   "outputs": [
    {
     "name": "stdout",
     "output_type": "stream",
     "text": [
      "1 2 3 4 \n",
      "\n",
      "1 2 3 \n",
      "\n",
      "1 2 \n",
      "\n",
      "1 \n",
      "\n"
     ]
    }
   ],
   "source": [
    "for i in range(4,0,-1):\n",
    "    for j in range(1,i+1):\n",
    "        print(j,end=\" \")\n",
    "    print('\\n')"
   ]
  },
  {
   "cell_type": "code",
   "execution_count": null,
   "id": "fb46175e-7b21-4ddc-8f87-1ace49263f36",
   "metadata": {},
   "outputs": [],
   "source": []
  }
 ],
 "metadata": {
  "kernelspec": {
   "display_name": "Python 3 (ipykernel)",
   "language": "python",
   "name": "python3"
  },
  "language_info": {
   "codemirror_mode": {
    "name": "ipython",
    "version": 3
   },
   "file_extension": ".py",
   "mimetype": "text/x-python",
   "name": "python",
   "nbconvert_exporter": "python",
   "pygments_lexer": "ipython3",
   "version": "3.12.4"
  }
 },
 "nbformat": 4,
 "nbformat_minor": 5
}
