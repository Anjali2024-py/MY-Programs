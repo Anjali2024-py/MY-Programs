{
 "cells": [
  {
   "cell_type": "code",
   "execution_count": 1,
   "id": "b5e7eb2d-86eb-46f0-9eca-17b2c1b02443",
   "metadata": {},
   "outputs": [
    {
     "name": "stdout",
     "output_type": "stream",
     "text": [
      "Log:this is a static log message.\n",
      "Log:Another log entry:\n"
     ]
    }
   ],
   "source": [
    "# STatic method for Logging\n",
    "class Logger:\n",
    "    @staticmethod\n",
    "    def log(message):\n",
    "        print(f\"Log:{message}\")\n",
    "\n",
    "Logger.log(\"this is a static log message.\")\n",
    "Logger.log(\"Another log entry:\")"
   ]
  },
  {
   "cell_type": "code",
   "execution_count": 5,
   "id": "d2330859-d45b-4467-9bcb-af54d5ac57aa",
   "metadata": {},
   "outputs": [
    {
     "name": "stdout",
     "output_type": "stream",
     "text": [
      "The factorial of 0 is 1\n"
     ]
    }
   ],
   "source": [
    "# Static Method for Factorial Calculation\n",
    "class MathUtilities:\n",
    "    @staticmethod\n",
    "    def factorial(n):\n",
    "        if n==0 or n==1:\n",
    "            return 1\n",
    "            return n*MathUtilities.factorial(n-1)\n",
    "\n",
    "number=0\n",
    "result=MathUtilities.factorial(number)\n",
    "print(f\"The factorial of {number} is {result}\")"
   ]
  },
  {
   "cell_type": "code",
   "execution_count": 11,
   "id": "a877ed55-fdf3-4429-8f9e-8e1a6fe4a6b3",
   "metadata": {},
   "outputs": [
    {
     "name": "stdout",
     "output_type": "stream",
     "text": [
      "Is 'example@example.com' a valid email? True\n",
      "Is '1234567890' a valid phone number? True\n"
     ]
    }
   ],
   "source": [
    "# Static Method for data validation\n",
    "class DataValidator:\n",
    "    @staticmethod\n",
    "    def is_valid_email(email):\n",
    "        return \"@\" in email and \".\" in email\n",
    "\n",
    "    @staticmethod\n",
    "    def is_valid_phone_number(phone_number):\n",
    "        return len(phone_number) == 10 and phone_number.isdigit()\n",
    "\n",
    "# Using static methods to validate data\n",
    "email = \"example@example.com\"\n",
    "phone_number = \"1234567890\"\n",
    "\n",
    "print(f\"Is '{email}' a valid email? {DataValidator.is_valid_email(email)}\")\n",
    "print(f\"Is '{phone_number}' a valid phone number? {DataValidator.is_valid_phone_number(phone_number)}\")\n"
   ]
  },
  {
   "cell_type": "code",
   "execution_count": 18,
   "id": "290d1fe5-30ad-4a4c-a65f-93b117bab148",
   "metadata": {},
   "outputs": [
    {
     "name": "stdout",
     "output_type": "stream",
     "text": [
      "Reversed:racecar\n",
      "is palindrome:True\n"
     ]
    }
   ],
   "source": [
    "# Static method with Arguments\n",
    "class StringUtils:\n",
    "    @staticmethod\n",
    "    def reverse_string(s):\n",
    "        return s[::-1]\n",
    "    @staticmethod\n",
    "    def is_palindrome(s):\n",
    "        return s==s[::-1]\n",
    "\n",
    "word='racecar'\n",
    "print(f\"Reversed:{StringUtils.reverse_string(word)}\")\n",
    "print(f\"is palindrome:{StringUtils.is_palindrome(word)}\")"
   ]
  },
  {
   "cell_type": "code",
   "execution_count": 21,
   "id": "272d18ca-b7fb-423e-99ba-6fe3a5a0733a",
   "metadata": {},
   "outputs": [
    {
     "name": "stdout",
     "output_type": "stream",
     "text": [
      "Vehicle:toyota camry\n",
      "100 km/h is a valid speed.\n"
     ]
    }
   ],
   "source": [
    "# Static Method in a class with instance Methods\n",
    "class Vehicle:\n",
    "    def __init__(self,make,model):\n",
    "        self.make=make\n",
    "        self.model=model\n",
    "    def display_info(self):\n",
    "        print(f\"Vehicle:{self.make} {self.model}\")\n",
    "    @staticmethod\n",
    "    def is_valid_speed(speed):\n",
    "        return speed >=0 and speed<=240\n",
    "\n",
    "car=Vehicle(\"toyota\",\"camry\")\n",
    "car.display_info()\n",
    "\n",
    "speed=100\n",
    "if Vehicle.is_valid_speed(speed):\n",
    "    print(f\"{speed} km/h is a valid speed.\")\n",
    "else:\n",
    "    print(f\"{speed} km/h is not a valid speed.\")"
   ]
  },
  {
   "cell_type": "code",
   "execution_count": null,
   "id": "56cca469-cf2f-4249-9b99-0c8d156116c3",
   "metadata": {},
   "outputs": [],
   "source": []
  }
 ],
 "metadata": {
  "kernelspec": {
   "display_name": "Python 3 (ipykernel)",
   "language": "python",
   "name": "python3"
  },
  "language_info": {
   "codemirror_mode": {
    "name": "ipython",
    "version": 3
   },
   "file_extension": ".py",
   "mimetype": "text/x-python",
   "name": "python",
   "nbconvert_exporter": "python",
   "pygments_lexer": "ipython3",
   "version": "3.12.4"
  }
 },
 "nbformat": 4,
 "nbformat_minor": 5
}
