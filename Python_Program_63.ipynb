{
 "cells": [
  {
   "cell_type": "code",
   "execution_count": 1,
   "id": "0fc4da44-3a4b-481a-889b-038fb70d744c",
   "metadata": {},
   "outputs": [
    {
     "name": "stdout",
     "output_type": "stream",
     "text": [
      "8\n"
     ]
    }
   ],
   "source": [
    "#Calculating Power\n",
    "#Create a lambda function that takes two numbers and returns the first number raised to the power of the second\n",
    "#Define the lambda function\n",
    "power=lambda x,y:x**y\n",
    "#example usage\n",
    "result=power(2,3)\n",
    "print(result)"
   ]
  },
  {
   "cell_type": "code",
   "execution_count": 3,
   "id": "32a8fa80-4286-4e5d-aa6f-a6ec1d783584",
   "metadata": {},
   "outputs": [
    {
     "name": "stdout",
     "output_type": "stream",
     "text": [
      "['Alice', 'Bob', 'Charlie']\n"
     ]
    }
   ],
   "source": [
    "#Write a lambda function that transforms a list of dictionaries to a list of specific values\n",
    "data = [\n",
    "    {'name': 'Alice', 'age': 30},\n",
    "    {'name': 'Bob', 'age': 25},\n",
    "    {'name': 'Charlie', 'age': 35}\n",
    "]\n",
    "data_tr=lambda x:x['name']\n",
    "result=list(map(data_tr,data))\n",
    "print(result)"
   ]
  },
  {
   "cell_type": "code",
   "execution_count": 4,
   "id": "ae84c6e3-b210-43ad-9ca3-1fa560fa71a3",
   "metadata": {},
   "outputs": [
    {
     "name": "stdout",
     "output_type": "stream",
     "text": [
      "[(1, 1), (2, 4), (3, 9), (4, 16), (5, 25)]\n"
     ]
    }
   ],
   "source": [
    "#Use a lambda function to create a list of tuples from a list of numbers, where each tuple contains the number and its square.\n",
    "numbers = [1, 2, 3, 4, 5]\n",
    "list_tuple=lambda x:(x,x**2)\n",
    "result=list(map(list_tuple,numbers))\n",
    "print(result)"
   ]
  },
  {
   "cell_type": "code",
   "execution_count": 6,
   "id": "9c9cc3e9-9bf1-4fbc-ab58-b089e62e0224",
   "metadata": {},
   "outputs": [
    {
     "name": "stdout",
     "output_type": "stream",
     "text": [
      "90\n"
     ]
    }
   ],
   "source": [
    "#Write a lambda function to calculate the sum of elements at even indices in a list\n",
    "numbers= [10, 20, 30, 40, 50]\n",
    "even_indices=lambda x: sum(x[i] for i in range(len(x)) if i%2==0)\n",
    "result=even_indices(numbers)\n",
    "print(result)"
   ]
  },
  {
   "cell_type": "code",
   "execution_count": 8,
   "id": "362d2668-2f66-4917-9647-5a65d4e09627",
   "metadata": {},
   "outputs": [
    {
     "name": "stdout",
     "output_type": "stream",
     "text": [
      "[4, 5]\n"
     ]
    }
   ],
   "source": [
    "#Create a lambda function to find common elements in two lists\n",
    "list1 = [1, 2, 3, 4, 5]\n",
    "list2 = [4, 5, 6, 7, 8]\n",
    "# Define the lambda function to find common elements\n",
    "find_common = lambda lst1, lst2: list(filter(lambda x: x in lst2, lst1))\n",
    "\n",
    "# Get the common elements using the lambda function\n",
    "common_elements = find_common(list1, list2)\n",
    "\n",
    "# Print the result\n",
    "print(common_elements)  # Output: [4, 5]\n"
   ]
  },
  {
   "cell_type": "code",
   "execution_count": null,
   "id": "66752b13-2a84-40b9-a1cd-8905e5548649",
   "metadata": {},
   "outputs": [],
   "source": []
  }
 ],
 "metadata": {
  "kernelspec": {
   "display_name": "Python 3 (ipykernel)",
   "language": "python",
   "name": "python3"
  },
  "language_info": {
   "codemirror_mode": {
    "name": "ipython",
    "version": 3
   },
   "file_extension": ".py",
   "mimetype": "text/x-python",
   "name": "python",
   "nbconvert_exporter": "python",
   "pygments_lexer": "ipython3",
   "version": "3.12.4"
  }
 },
 "nbformat": 4,
 "nbformat_minor": 5
}
