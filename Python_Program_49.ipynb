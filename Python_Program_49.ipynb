{
 "cells": [
  {
   "cell_type": "code",
   "execution_count": 1,
   "id": "15daf907-95c1-4214-9b5b-22026f448495",
   "metadata": {},
   "outputs": [
    {
     "name": "stdout",
     "output_type": "stream",
     "text": [
      "Powerful to is makes everyone for accessible.\n"
     ]
    }
   ],
   "source": [
    "import random\n",
    "\n",
    "# List of words\n",
    "words = [\n",
    "    \"Python\", \"is\", \"a\", \"powerful\", \"programming\", \"language\", \n",
    "    \"that\", \"makes\", \"coding\", \"fun\", \"and\", \"accessible\", \n",
    "    \"for\", \"everyone\", \"from\", \"beginners\", \"to\", \"experts\"\n",
    "]\n",
    "\n",
    "# Function to generate a random sentence\n",
    "def generate_random_sentence(word_list, sentence_length=7):\n",
    "    # Randomly select words from the list\n",
    "    selected_words = random.sample(word_list, sentence_length)\n",
    "    # Join the words to form a sentence\n",
    "    sentence = ' '.join(selected_words)\n",
    "    return sentence.capitalize() + \".\"\n",
    "\n",
    "# Generate and print a random sentence\n",
    "random_sentence = generate_random_sentence(words)\n",
    "print(random_sentence)\n"
   ]
  },
  {
   "cell_type": "code",
   "execution_count": 2,
   "id": "fc03681a-b986-4f46-bfd9-290b3294f817",
   "metadata": {},
   "outputs": [
    {
     "name": "stdout",
     "output_type": "stream",
     "text": [
      "[('apple', 1), ('banana', 2), ('cherry', 3)]\n"
     ]
    }
   ],
   "source": [
    "# Two sample lists\n",
    "list1 = ['apple', 'banana', 'cherry']\n",
    "list2 = [1, 2, 3]\n",
    "\n",
    "# Creating a list of tuples using zip\n",
    "paired_tuples = list(zip(list1, list2))\n",
    "\n",
    "# Print the list of tuples\n",
    "print(paired_tuples)\n"
   ]
  },
  {
   "cell_type": "code",
   "execution_count": 3,
   "id": "adc48833-aa81-4e3b-84ac-8ac648cf5e7b",
   "metadata": {},
   "outputs": [
    {
     "name": "stdout",
     "output_type": "stream",
     "text": [
      "The longest word is: 'programming'\n"
     ]
    }
   ],
   "source": [
    "def find_longest_word(sentence):\n",
    "    # Split the sentence into words\n",
    "    words = sentence.split()\n",
    "    \n",
    "    # Initialize a variable to hold the longest word\n",
    "    longest_word = \"\"\n",
    "    \n",
    "    # Iterate through the words to find the longest one\n",
    "    for word in words:\n",
    "        if len(word) > len(longest_word):\n",
    "            longest_word = word\n",
    "    \n",
    "    return longest_word\n",
    "\n",
    "# Example usage\n",
    "sentence = \"Python is a powerful programming language that makes coding fun\"\n",
    "longest = find_longest_word(sentence)\n",
    "print(f\"The longest word is: '{longest}'\")\n"
   ]
  },
  {
   "cell_type": "code",
   "execution_count": 4,
   "id": "ba9b37c2-3ad9-4427-aad4-5f7197752372",
   "metadata": {},
   "outputs": [
    {
     "name": "stdout",
     "output_type": "stream",
     "text": [
      "The length of the list is: 5\n"
     ]
    }
   ],
   "source": [
    "def find_length_of_list(my_list):\n",
    "    count = 0  # Initialize a counter\n",
    "    for _ in my_list:\n",
    "        count += 1  # Increment the counter for each element\n",
    "    return count\n",
    "\n",
    "# Example usage\n",
    "my_list = [1, 2, 3, 4, 5]\n",
    "length = find_length_of_list(my_list)\n",
    "print(f\"The length of the list is: {length}\")\n"
   ]
  },
  {
   "cell_type": "code",
   "execution_count": 5,
   "id": "eaa43f84-fc15-4bcd-b072-dd7ca6ffef97",
   "metadata": {},
   "outputs": [
    {
     "name": "stdout",
     "output_type": "stream",
     "text": [
      "10\n",
      "9\n",
      "8\n",
      "7\n",
      "6\n",
      "5\n",
      "4\n",
      "3\n",
      "2\n",
      "1\n"
     ]
    }
   ],
   "source": [
    "def countdown(n):\n",
    "    for i in range(n, 0, -1):\n",
    "        print(i)\n",
    "\n",
    "# Example usage\n",
    "start_number = 10\n",
    "countdown(start_number)\n"
   ]
  },
  {
   "cell_type": "code",
   "execution_count": null,
   "id": "e88c5606-f9e3-47b8-a46d-33016d4b189f",
   "metadata": {},
   "outputs": [],
   "source": []
  }
 ],
 "metadata": {
  "kernelspec": {
   "display_name": "Python 3 (ipykernel)",
   "language": "python",
   "name": "python3"
  },
  "language_info": {
   "codemirror_mode": {
    "name": "ipython",
    "version": 3
   },
   "file_extension": ".py",
   "mimetype": "text/x-python",
   "name": "python",
   "nbconvert_exporter": "python",
   "pygments_lexer": "ipython3",
   "version": "3.12.4"
  }
 },
 "nbformat": 4,
 "nbformat_minor": 5
}
