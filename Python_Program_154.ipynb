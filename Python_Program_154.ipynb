{
 "cells": [
  {
   "cell_type": "code",
   "execution_count": 1,
   "id": "499a9e62-dfcd-4617-8be9-df8f3b47ed21",
   "metadata": {},
   "outputs": [
    {
     "name": "stdout",
     "output_type": "stream",
     "text": [
      "The string is not in lower.\n"
     ]
    }
   ],
   "source": [
    "def check_lowercase(input_string):\n",
    "    if input_string.islower():\n",
    "        return \"The string is in lowercase.\"\n",
    "    else:\n",
    "        return \"The string is not in lower.\"\n",
    "\n",
    "user_input='Hello'\n",
    "result=check_lowercase(user_input)\n",
    "print(result)"
   ]
  },
  {
   "cell_type": "code",
   "execution_count": 2,
   "id": "a4f94fa5-3631-470c-afe8-eaca61d5084b",
   "metadata": {},
   "outputs": [
    {
     "name": "stdout",
     "output_type": "stream",
     "text": [
      "The string is in lowercase.\n"
     ]
    }
   ],
   "source": [
    "def check_lowercase(input_string):\n",
    "    if input_string.islower():\n",
    "        return \"The string is in lowercase.\"\n",
    "    else:\n",
    "        return \"The string is not in lowercase.\"\n",
    "\n",
    "# Main code\n",
    "user_input = \"hello123!\"\n",
    "result = check_lowercase(user_input)\n",
    "print(result)"
   ]
  },
  {
   "cell_type": "code",
   "execution_count": 3,
   "id": "41bcdc81-fae1-4de2-b6fa-acbd187d86e9",
   "metadata": {},
   "outputs": [
    {
     "name": "stdout",
     "output_type": "stream",
     "text": [
      "The string is not in lowercase.\n"
     ]
    }
   ],
   "source": [
    "def check_lowercase(input_string):\n",
    "    if input_string.islower():\n",
    "        return \"The string is in lowercase.\"\n",
    "    else:\n",
    "        return \"The string is not in lowercase.\"\n",
    "\n",
    "# Main code\n",
    "user_input = \"hello, World!\"\n",
    "result = check_lowercase(user_input)\n",
    "print(result)\n"
   ]
  },
  {
   "cell_type": "code",
   "execution_count": 4,
   "id": "eea4e87a-e7e4-4368-acb8-46d2dda71bed",
   "metadata": {},
   "outputs": [
    {
     "name": "stdout",
     "output_type": "stream",
     "text": [
      "The string does not contain only whitespace characters.\n"
     ]
    }
   ],
   "source": [
    "def check_space(input_string):\n",
    "    if input_string.isspace():\n",
    "        return \"The string contains only whitespace charatcters.\"\n",
    "    else:\n",
    "        return \"The string does not contain only whitespace characters.\"\n",
    "\n",
    "input_user=\"     \"\n",
    "result=check_space(user_input)\n",
    "print(result)"
   ]
  },
  {
   "cell_type": "code",
   "execution_count": 5,
   "id": "9e954ece-4819-4ff4-add7-a3626b282701",
   "metadata": {},
   "outputs": [
    {
     "name": "stdout",
     "output_type": "stream",
     "text": [
      "The string does not contain only whitespace characters.\n"
     ]
    }
   ],
   "source": [
    "def check_space(input_string):\n",
    "    if input_string.isspace():\n",
    "        return \"The string contains only whitespace characters.\"\n",
    "    else:\n",
    "        return \"The string does not contain only whitespace characters.\"\n",
    "\n",
    "# Main code\n",
    "user_input = \"Hello World\"\n",
    "result = check_space(user_input)\n",
    "print(result)\n"
   ]
  },
  {
   "cell_type": "code",
   "execution_count": null,
   "id": "e0911101-c911-4433-8d2f-0c03df7e01e1",
   "metadata": {},
   "outputs": [],
   "source": []
  },
  {
   "cell_type": "code",
   "execution_count": null,
   "id": "c7287dda-3e41-4ea8-8d5e-0a41182f0c40",
   "metadata": {},
   "outputs": [],
   "source": []
  }
 ],
 "metadata": {
  "kernelspec": {
   "display_name": "Python 3 (ipykernel)",
   "language": "python",
   "name": "python3"
  },
  "language_info": {
   "codemirror_mode": {
    "name": "ipython",
    "version": 3
   },
   "file_extension": ".py",
   "mimetype": "text/x-python",
   "name": "python",
   "nbconvert_exporter": "python",
   "pygments_lexer": "ipython3",
   "version": "3.12.4"
  }
 },
 "nbformat": 4,
 "nbformat_minor": 5
}
