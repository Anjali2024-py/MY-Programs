{
 "cells": [
  {
   "cell_type": "code",
   "execution_count": 1,
   "id": "35ed08b9-2f82-4595-b52f-0f1e7e5f2467",
   "metadata": {},
   "outputs": [
    {
     "name": "stdin",
     "output_type": "stream",
     "text": [
      "Enter a number:  2\n"
     ]
    },
    {
     "name": "stdout",
     "output_type": "stream",
     "text": [
      "Converted number: 2.0\n"
     ]
    }
   ],
   "source": [
    "def convert_to_float():\n",
    "    try:\n",
    "        value = input(\"Enter a number: \")\n",
    "        number = float(value)\n",
    "        print(f\"Converted number: {number}\")\n",
    "    except ValueError:\n",
    "        print(\"Error: Invalid input; cannot convert to float.\")\n",
    "\n",
    "convert_to_float()\n"
   ]
  },
  {
   "cell_type": "code",
   "execution_count": 2,
   "id": "22e8764f-8852-421e-b71a-97c88b909f98",
   "metadata": {},
   "outputs": [
    {
     "name": "stdin",
     "output_type": "stream",
     "text": [
      "Enter a date (YYYY-MM-DD):  |50\n"
     ]
    },
    {
     "name": "stdout",
     "output_type": "stream",
     "text": [
      "Error: Invalid date format. Please use YYYY-MM-DD.\n"
     ]
    }
   ],
   "source": [
    "from datetime import datetime\n",
    "\n",
    "def parse_date():\n",
    "    try:\n",
    "        date_str = input(\"Enter a date (YYYY-MM-DD): \")\n",
    "        date_obj = datetime.strptime(date_str, '%Y-%m-%d')\n",
    "    except ValueError:\n",
    "        print(\"Error: Invalid date format. Please use YYYY-MM-DD.\")\n",
    "    else:\n",
    "        print(f\"Parsed date: {date_obj}\")\n",
    "\n",
    "parse_date()\n"
   ]
  },
  {
   "cell_type": "code",
   "execution_count": null,
   "id": "1b4fead2-0b96-407e-8c44-200c126e9797",
   "metadata": {},
   "outputs": [],
   "source": []
  }
 ],
 "metadata": {
  "kernelspec": {
   "display_name": "Python 3 (ipykernel)",
   "language": "python",
   "name": "python3"
  },
  "language_info": {
   "codemirror_mode": {
    "name": "ipython",
    "version": 3
   },
   "file_extension": ".py",
   "mimetype": "text/x-python",
   "name": "python",
   "nbconvert_exporter": "python",
   "pygments_lexer": "ipython3",
   "version": "3.12.4"
  }
 },
 "nbformat": 4,
 "nbformat_minor": 5
}
