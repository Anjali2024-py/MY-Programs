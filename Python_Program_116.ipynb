{
 "cells": [
  {
   "cell_type": "code",
   "execution_count": 1,
   "id": "8d8d1527-e1cf-43d9-960f-918c1bcaa997",
   "metadata": {},
   "outputs": [
    {
     "name": "stdout",
     "output_type": "stream",
     "text": [
      "1\n",
      "2\n",
      "3\n",
      "4\n",
      "5\n",
      "Breaking the loop at 6 iterations.\n"
     ]
    }
   ],
   "source": [
    "for i in range(1, 11):\n",
    "    if i == 6:\n",
    "        print(\"Breaking the loop at 6 iterations.\")\n",
    "        break\n",
    "    print(i)\n"
   ]
  },
  {
   "cell_type": "code",
   "execution_count": 2,
   "id": "095b9be3-4e38-48b4-937e-2dad8f1e702f",
   "metadata": {},
   "outputs": [
    {
     "name": "stdout",
     "output_type": "stream",
     "text": [
      "Found Bob, breaking the loop.\n"
     ]
    }
   ],
   "source": [
    "names = [\"John\", \"Alice\", \"Bob\", \"Charlie\"]\n",
    "\n",
    "for name in names:\n",
    "    if name == \"Bob\":\n",
    "        print(\"Found Bob, breaking the loop.\")\n",
    "        break\n"
   ]
  },
  {
   "cell_type": "code",
   "execution_count": null,
   "id": "78f4dd1b-e73f-4448-8b0d-b376c83d9bb4",
   "metadata": {},
   "outputs": [],
   "source": []
  }
 ],
 "metadata": {
  "kernelspec": {
   "display_name": "Python 3 (ipykernel)",
   "language": "python",
   "name": "python3"
  },
  "language_info": {
   "codemirror_mode": {
    "name": "ipython",
    "version": 3
   },
   "file_extension": ".py",
   "mimetype": "text/x-python",
   "name": "python",
   "nbconvert_exporter": "python",
   "pygments_lexer": "ipython3",
   "version": "3.12.4"
  }
 },
 "nbformat": 4,
 "nbformat_minor": 5
}
