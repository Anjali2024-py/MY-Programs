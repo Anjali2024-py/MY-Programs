{
 "cells": [
  {
   "cell_type": "code",
   "execution_count": 5,
   "id": "6dfeac4a-53f6-4cca-b81c-232f001f5ba2",
   "metadata": {},
   "outputs": [
    {
     "name": "stdout",
     "output_type": "stream",
     "text": [
      "The character' a 'appears 6 times in text.\n"
     ]
    }
   ],
   "source": [
    "#Count how many times a Specific characters appears in a given string.\n",
    "text=\"apple banana avocado\"\n",
    "count=0\n",
    "char_to_Count='a'\n",
    "for char in text:\n",
    "    if char==char_to_Count:\n",
    "        count=count+1\n",
    "print(f\"The character' {char_to_Count} 'appears {count} times in text.\")"
   ]
  },
  {
   "cell_type": "code",
   "execution_count": 12,
   "id": "c423c3c7-7a0b-4e5e-883a-f650f17bb5f1",
   "metadata": {},
   "outputs": [
    {
     "name": "stdout",
     "output_type": "stream",
     "text": [
      "Reversed String is: dlroW olleH \n"
     ]
    }
   ],
   "source": [
    "#REversed String\n",
    "input_String=\"Hello World\"\n",
    "reversed_String=\" \"\n",
    "for char in input_String:\n",
    "    reversed_String=char+reversed_String\n",
    "print(\"Reversed String is:\",reversed_String)"
   ]
  },
  {
   "cell_type": "code",
   "execution_count": 18,
   "id": "ad9fe1ac-ebe6-47af-baf9-f576d3082e82",
   "metadata": {},
   "outputs": [
    {
     "name": "stdout",
     "output_type": "stream",
     "text": [
      "The largest number is: 89\n"
     ]
    }
   ],
   "source": [
    "#Write a program to print largest number in a string\n",
    "numbers=[34,12,5,67,89,23]\n",
    "largest=float('-inf')\n",
    "for num in numbers:\n",
    "    if num>largest:\n",
    "        largest=num\n",
    "print(\"The largest number is:\",largest)"
   ]
  },
  {
   "cell_type": "code",
   "execution_count": 26,
   "id": "82515048-7299-450a-8ce3-d88c52b0eb6a",
   "metadata": {},
   "outputs": [
    {
     "name": "stdout",
     "output_type": "stream",
     "text": [
      "Frequency of Elements: {'apple': 3, 'banana': 2, 'orange': 1}\n"
     ]
    }
   ],
   "source": [
    "#Count the frequency o element in a list\n",
    "element=['apple','banana','apple','orange','banana','apple']\n",
    "frequency={}\n",
    "for item in element:\n",
    "    if item in frequency:\n",
    "        frequency[item]=frequency[item]+1\n",
    "    else:\n",
    "        frequency[item]=1\n",
    "print(\"Frequency of Elements:\",frequency)"
   ]
  },
  {
   "cell_type": "code",
   "execution_count": 30,
   "id": "38857eed-ec23-4c76-8727-e5e86fe94a96",
   "metadata": {},
   "outputs": [
    {
     "name": "stdout",
     "output_type": "stream",
     "text": [
      "combined dictionary: {'name': 'anjali', 'age': '22', 'city': 'pune'}\n"
     ]
    }
   ],
   "source": [
    "#Creates a Dictionary from Two lists write a program thhat combines two lists into a dictionary,using the first list as keys \n",
    "# and second list as values.\n",
    "#Using ZIP Function\n",
    "keys=['name','age','city']\n",
    "values=['anjali','22','pune']\n",
    "result_dict={}\n",
    "for key,value in zip(keys,values):\n",
    "    result_dict[key]=value\n",
    "print('combined dictionary:',result_dict)\n",
    "    "
   ]
  },
  {
   "cell_type": "code",
   "execution_count": 35,
   "id": "ddbfb12a-9f8f-4e5e-9325-5f29896a7083",
   "metadata": {},
   "outputs": [
    {
     "name": "stdout",
     "output_type": "stream",
     "text": [
      "The Average is: 30.0\n"
     ]
    }
   ],
   "source": [
    "#write a program to calculate the average of numbers in a list\n",
    "numbers=[10,20,30,40,50]\n",
    "sum=0\n",
    "count=0\n",
    "for num in numbers:\n",
    "    sum=sum+num\n",
    "    count=count+1\n",
    "    avg=sum/count\n",
    "print(\"The Average is:\",avg)"
   ]
  },
  {
   "cell_type": "code",
   "execution_count": 37,
   "id": "fa707c02-f856-48b8-9331-cda4ad4b0342",
   "metadata": {},
   "outputs": [
    {
     "name": "stdout",
     "output_type": "stream",
     "text": [
      "The second largest no.is: 67\n"
     ]
    }
   ],
   "source": [
    "#Find the second largest number in a list , write a program to find the 2nd largest number in a given list\n",
    "numbers=[34,12,5,67,89,23]\n",
    "largest=second_largest=largest=float('-inf')\n",
    "for num in numbers:\n",
    "    if num>largest:\n",
    "        second_largest=largest\n",
    "        largest=num\n",
    "    elif largest>num>second_largest:\n",
    "        second_largest=num\n",
    "print(\"The second largest no.is:\",second_largest)"
   ]
  },
  {
   "cell_type": "code",
   "execution_count": 40,
   "id": "6aff48fb-9221-49ce-a598-e43f16ebde21",
   "metadata": {},
   "outputs": [
    {
     "name": "stdout",
     "output_type": "stream",
     "text": [
      "   1    2    3    4    5    6    7    8    9   10 \n",
      "   2    4    6    8   10   12   14   16   18   20 \n",
      "   3    6    9   12   15   18   21   24   27   30 \n",
      "   4    8   12   16   20   24   28   32   36   40 \n",
      "   5   10   15   20   25   30   35   40   45   50 \n",
      "   6   12   18   24   30   36   42   48   54   60 \n",
      "   7   14   21   28   35   42   49   56   63   70 \n",
      "   8   16   24   32   40   48   56   64   72   80 \n",
      "   9   18   27   36   45   54   63   72   81   90 \n",
      "  10   20   30   40   50   60   70   80   90  100 \n"
     ]
    }
   ],
   "source": [
    "#Creates Multiplication Table:\n",
    "#Write a program that creates a multiplication table for a numbers 1 to 10:\n",
    "for i in range(1,11):\n",
    "    for j in range(1,11):\n",
    "        print(f'{i*j:4}',end=\" \")\n",
    "    print()\n"
   ]
  },
  {
   "cell_type": "code",
   "execution_count": 42,
   "id": "edf02b9b-9a74-4b56-aa63-3875ce66c64c",
   "metadata": {},
   "outputs": [
    {
     "name": "stdout",
     "output_type": "stream",
     "text": [
      "Flattend list is: [1, 2, 3, 4, 5, 6, 7, 8, 9, 10]\n"
     ]
    }
   ],
   "source": [
    "#write a program to flattend a nested list (a list of lists) into a single list.\n",
    "nested_list=[[1,2,3],[4,5,6],[7,8,9,10]]\n",
    "flattened_list=[]\n",
    "for sublist in nested_list:\n",
    "    for item in sublist:\n",
    "        flattened_list.append(item)\n",
    "print(\"Flattend list is:\",flattened_list)\n",
    "        "
   ]
  },
  {
   "cell_type": "code",
   "execution_count": 45,
   "id": "3b57c895-f566-4e7e-b85b-756c33436e7a",
   "metadata": {},
   "outputs": [
    {
     "name": "stdout",
     "output_type": "stream",
     "text": [
      "palindrome in the list is: ['rececer', 'level', 'radar']\n"
     ]
    }
   ],
   "source": [
    "#Check for palindrome on a lisy\n",
    "#Write a program that checks which words in a list are palindrome.\n",
    "words=['rececer','hello','level','world','radar']\n",
    "palindrome=[]\n",
    "for word in words:\n",
    "    if word==word[::-1]:\n",
    "        palindrome.append(word)\n",
    "print('palindrome in the list is:',palindrome)"
   ]
  },
  {
   "cell_type": "code",
   "execution_count": null,
   "id": "eb460488-dfda-42ec-b90c-718ba0a546a6",
   "metadata": {},
   "outputs": [],
   "source": []
  }
 ],
 "metadata": {
  "kernelspec": {
   "display_name": "Python 3 (ipykernel)",
   "language": "python",
   "name": "python3"
  },
  "language_info": {
   "codemirror_mode": {
    "name": "ipython",
    "version": 3
   },
   "file_extension": ".py",
   "mimetype": "text/x-python",
   "name": "python",
   "nbconvert_exporter": "python",
   "pygments_lexer": "ipython3",
   "version": "3.12.4"
  }
 },
 "nbformat": 4,
 "nbformat_minor": 5
}
