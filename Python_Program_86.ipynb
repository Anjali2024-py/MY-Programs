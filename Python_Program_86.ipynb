{
 "cells": [
  {
   "cell_type": "code",
   "execution_count": 1,
   "id": "b455de9a-2619-4149-9b4b-93b2a07cea68",
   "metadata": {},
   "outputs": [
    {
     "name": "stdout",
     "output_type": "stream",
     "text": [
      "Hello World\n",
      "Error: Both inputs must be strings.\n"
     ]
    }
   ],
   "source": [
    "# TypeError\n",
    "def concatenate_strings(str1, str2):\n",
    "    try:\n",
    "        return str1 + str2\n",
    "    except TypeError:\n",
    "        return \"Error: Both inputs must be strings.\"\n",
    "\n",
    "print(concatenate_strings(\"Hello\", \" World\"))\n",
    "print(concatenate_strings(\"Hello\", 5))\n"
   ]
  },
  {
   "cell_type": "code",
   "execution_count": 2,
   "id": "61152fd4-385b-40e2-9f18-818f88ebca5d",
   "metadata": {},
   "outputs": [
    {
     "name": "stdout",
     "output_type": "stream",
     "text": [
      "42\n",
      "Error: Invalid integer.\n"
     ]
    }
   ],
   "source": [
    "#ValueError\n",
    "def parse_integer(value):\n",
    "    try:\n",
    "        return int(value)\n",
    "    except ValueError:\n",
    "        return \"Error: Invalid integer.\"\n",
    "\n",
    "print(parse_integer(\"42\"))\n",
    "print(parse_integer(\"not a number\"))\n"
   ]
  },
  {
   "cell_type": "code",
   "execution_count": 3,
   "id": "d7aceb5e-a775-4ea8-9b86-eee9f5e65d88",
   "metadata": {},
   "outputs": [
    {
     "name": "stdout",
     "output_type": "stream",
     "text": [
      "2\n",
      "Error: Index out of range.\n"
     ]
    }
   ],
   "source": [
    "#IndexError\n",
    "def get_element(my_list, index):\n",
    "    try:\n",
    "        return my_list[index]\n",
    "    except IndexError:\n",
    "        return \"Error: Index out of range.\"\n",
    "\n",
    "print(get_element([1, 2, 3], 1))\n",
    "print(get_element([1, 2, 3], 5))\n"
   ]
  },
  {
   "cell_type": "code",
   "execution_count": 4,
   "id": "6f857800-c24e-4310-bbf4-b6aee7da097c",
   "metadata": {},
   "outputs": [
    {
     "name": "stdout",
     "output_type": "stream",
     "text": [
      "1\n",
      "Error: Key not found.\n"
     ]
    }
   ],
   "source": [
    "#KeyError\n",
    "def get_value(dictionary, key):\n",
    "    try:\n",
    "        return dictionary[key]\n",
    "    except KeyError:\n",
    "        return \"Error: Key not found.\"\n",
    "\n",
    "print(get_value({'a': 1}, 'a'))\n",
    "print(get_value({'a': 1}, 'b'))\n"
   ]
  },
  {
   "cell_type": "code",
   "execution_count": 5,
   "id": "24bdff46-a5df-417d-9021-bf96819eb7e2",
   "metadata": {},
   "outputs": [
    {
     "name": "stdout",
     "output_type": "stream",
     "text": [
      "{'key': 'value'}\n",
      "Error: Invalid JSON.\n"
     ]
    }
   ],
   "source": [
    "#JSON Parsing\n",
    "import json\n",
    "\n",
    "def parse_json(json_string):\n",
    "    try:\n",
    "        return json.loads(json_string)\n",
    "    except json.JSONDecodeError:\n",
    "        return \"Error: Invalid JSON.\"\n",
    "\n",
    "print(parse_json('{\"key\": \"value\"}'))\n",
    "print(parse_json('{\"key\": \"value\",}'))\n"
   ]
  },
  {
   "cell_type": "code",
   "execution_count": null,
   "id": "42e05858-04b4-45eb-86ee-eff465566824",
   "metadata": {},
   "outputs": [],
   "source": []
  }
 ],
 "metadata": {
  "kernelspec": {
   "display_name": "Python 3 (ipykernel)",
   "language": "python",
   "name": "python3"
  },
  "language_info": {
   "codemirror_mode": {
    "name": "ipython",
    "version": 3
   },
   "file_extension": ".py",
   "mimetype": "text/x-python",
   "name": "python",
   "nbconvert_exporter": "python",
   "pygments_lexer": "ipython3",
   "version": "3.12.4"
  }
 },
 "nbformat": 4,
 "nbformat_minor": 5
}
