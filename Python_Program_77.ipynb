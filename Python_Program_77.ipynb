{
 "cells": [
  {
   "cell_type": "code",
   "execution_count": 3,
   "id": "a26f2959-5ed4-46fd-8619-02686b3e843b",
   "metadata": {},
   "outputs": [
    {
     "name": "stdout",
     "output_type": "stream",
     "text": [
      "matched: ('doe@e', '')\n",
      "matched: ('', '123-456-7890')\n"
     ]
    }
   ],
   "source": [
    "#Using Groups\n",
    "#Fnd and categorize emil addresses and phone numbers\n",
    "import re\n",
    "text=\"my email is join.doe@examples.com and my phone is 123-456-7890.\"\n",
    "#pattern to match either an email or a phone number\n",
    "pattern=r'(\\w+@\\w)|(\\d{3}-\\d{3}-\\d{4})'\n",
    "matches=re.findall(pattern,text)\n",
    "for match in matches:\n",
    "    print(\"matched:\",match)"
   ]
  },
  {
   "cell_type": "code",
   "execution_count": 5,
   "id": "4890bfbb-81ca-49f8-86da-6fa77adb3b0b",
   "metadata": {},
   "outputs": [
    {
     "name": "stdout",
     "output_type": "stream",
     "text": [
      "Capitalized words: ['Alice']\n"
     ]
    }
   ],
   "source": [
    "#Finding all capitalized words.Extract all words that start with a capital letter.\n",
    "import re\n",
    "text=\"Alice went to wonderland and met the mad hatter\"\n",
    "#define a pattern for capitalized words.\n",
    "pattern=r'\\b[A-Z][a-z]*\\b'\n",
    "capitalized_words=re.findall(pattern,text)\n",
    "print(\"Capitalized words:\",capitalized_words)"
   ]
  },
  {
   "cell_type": "code",
   "execution_count": 14,
   "id": "dea2b8c4-d85c-43f3-8241-57072eb6c763",
   "metadata": {},
   "outputs": [
    {
     "name": "stdout",
     "output_type": "stream",
     "text": [
      "text without digits: my phone number is --.\n"
     ]
    }
   ],
   "source": [
    "#Removing Digits from a string-strip all digits from a string.\n",
    "import re\n",
    "text='my phone number is 123-456-7890.'\n",
    "#define a pattern to match digits\n",
    "pattern=r'\\d+'\n",
    "cleaned_text=re.sub(pattern,'',text)\n",
    "print(\"text without digits:\",cleaned_text.strip())"
   ]
  },
  {
   "cell_type": "code",
   "execution_count": 39,
   "id": "c1e6f384-6c69-422a-b3e8-0c8bb491b99f",
   "metadata": {},
   "outputs": [
    {
     "name": "stdout",
     "output_type": "stream",
     "text": [
      "['Hello', 'world', 'This', 'is', 'a', 'test', 'string', 'it', 'contains', 'punctuation']\n"
     ]
    }
   ],
   "source": [
    "#eXTRACT ALL words from a string #Extract all words from a given string ignoring punctuation.\n",
    "import re\n",
    "\n",
    "def extract_words(text):\n",
    "    # Use regex to find all words, ignoring punctuation\n",
    "    words = re.findall(r'\\b\\w+\\b', text)\n",
    "    return words\n",
    "\n",
    "# Example usage\n",
    "input_string = \"Hello, world! This is a test string; it contains: punctuation.\"\n",
    "extracted_words = extract_words(input_string)\n",
    "print(extracted_words)\n"
   ]
  },
  {
   "cell_type": "code",
   "execution_count": 40,
   "id": "9e3759d7-f094-4546-be6c-c663c104bf5b",
   "metadata": {},
   "outputs": [
    {
     "name": "stdout",
     "output_type": "stream",
     "text": [
      "{'string', 'test', 'is', 'a', 'Hello', 'contains', 'This', 'punctuation', 'and', 'world', 'it'}\n"
     ]
    }
   ],
   "source": [
    "#find all unique words#Find all unique words in a string\n",
    "import re\n",
    "\n",
    "def find_unique_words(text):\n",
    "    # Use regex to find all words, ignoring punctuation\n",
    "    words = re.findall(r'\\b\\w+\\b', text)\n",
    "    # Convert the list of words to a set to get unique words\n",
    "    unique_words = set(words)\n",
    "    return unique_words\n",
    "\n",
    "# Example usage\n",
    "input_string = \"Hello, world! This is a test string; it contains: Hello and punctuation.\"\n",
    "unique_words = find_unique_words(input_string)\n",
    "print(unique_words)\n"
   ]
  },
  {
   "cell_type": "code",
   "execution_count": null,
   "id": "a7a1da07-9305-4855-a6e5-9f8ef4a1a0a8",
   "metadata": {},
   "outputs": [],
   "source": []
  }
 ],
 "metadata": {
  "kernelspec": {
   "display_name": "Python 3 (ipykernel)",
   "language": "python",
   "name": "python3"
  },
  "language_info": {
   "codemirror_mode": {
    "name": "ipython",
    "version": 3
   },
   "file_extension": ".py",
   "mimetype": "text/x-python",
   "name": "python",
   "nbconvert_exporter": "python",
   "pygments_lexer": "ipython3",
   "version": "3.12.4"
  }
 },
 "nbformat": 4,
 "nbformat_minor": 5
}
