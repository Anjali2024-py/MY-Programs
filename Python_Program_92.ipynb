{
 "cells": [
  {
   "cell_type": "code",
   "execution_count": 2,
   "id": "bfc38134-110f-4900-8fa0-2d2bc0bc2705",
   "metadata": {},
   "outputs": [
    {
     "name": "stdout",
     "output_type": "stream",
     "text": [
      "7\n",
      "12\n"
     ]
    }
   ],
   "source": [
    "#Static Methods\n",
    "#A static method doesn't depend on class or instance attributes. It's used for utility functions that don't need to access the object or class itself\n",
    "class MathOperations:\n",
    "    @staticmethod\n",
    "    def add(x, y):\n",
    "        return x + y\n",
    "\n",
    "    @staticmethod\n",
    "    def multiply(x, y):\n",
    "        return x * y\n",
    "\n",
    "# Calling static methods without creating an instance\n",
    "print(MathOperations.add(3, 4))  \n",
    "print(MathOperations.multiply(3, 4))  \n"
   ]
  },
  {
   "cell_type": "code",
   "execution_count": 5,
   "id": "312cfdbc-2848-44a3-bc82-06cbd798eaab",
   "metadata": {},
   "outputs": [
    {
     "name": "stdout",
     "output_type": "stream",
     "text": [
      "2020 Toyota Corolla\n"
     ]
    }
   ],
   "source": [
    "#Class with a __str__ Method\n",
    "#The __str__ method allow s you to customize how an object is represented as a string (e.g., when printing an object)\n",
    "\n",
    "class Car:\n",
    "    def __init__(self, make, model, year):\n",
    "        self.make = make\n",
    "        self.model = model\n",
    "        self.year = year\n",
    "\n",
    "    def __str__(self):\n",
    "        return f\"{self.year} {self.make} {self.model}\"\n",
    "\n",
    "# Creating an object\n",
    "my_car = Car(\"Toyota\", \"Corolla\", 2020)\n",
    "print(my_car)  # Output: 2020 Toyota Corolla\n"
   ]
  },
  {
   "cell_type": "code",
   "execution_count": 6,
   "id": "dad59b2a-b598-4566-9152-b2add594a47c",
   "metadata": {},
   "outputs": [
    {
     "name": "stdout",
     "output_type": "stream",
     "text": [
      "Name: Alice, Age: 25\n"
     ]
    }
   ],
   "source": [
    "#Create a class named Person that has a constructor to accept name and age. Create an object of the class and display the values.\n",
    "class Person:\n",
    "    def __init__(self, name, age):\n",
    "        self.name = name\n",
    "        self.age = age\n",
    "\n",
    "# Create an object\n",
    "person1 = Person(\"Alice\", 25)\n",
    "\n",
    "# Display the values\n",
    "print(f\"Name: {person1.name}, Age: {person1.age}\")\n"
   ]
  },
  {
   "cell_type": "code",
   "execution_count": null,
   "id": "5e5a4135-5ea4-4ca3-b8ae-21f748cd2412",
   "metadata": {},
   "outputs": [],
   "source": []
  }
 ],
 "metadata": {
  "kernelspec": {
   "display_name": "Python 3 (ipykernel)",
   "language": "python",
   "name": "python3"
  },
  "language_info": {
   "codemirror_mode": {
    "name": "ipython",
    "version": 3
   },
   "file_extension": ".py",
   "mimetype": "text/x-python",
   "name": "python",
   "nbconvert_exporter": "python",
   "pygments_lexer": "ipython3",
   "version": "3.12.4"
  }
 },
 "nbformat": 4,
 "nbformat_minor": 5
}
