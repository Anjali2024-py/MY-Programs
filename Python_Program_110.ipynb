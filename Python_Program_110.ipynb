{
 "cells": [
  {
   "cell_type": "code",
   "execution_count": 2,
   "id": "4720085e-64ee-4852-8f46-6580762066de",
   "metadata": {},
   "outputs": [
    {
     "name": "stdout",
     "output_type": "stream",
     "text": [
      "Hello from extended class!\n",
      "Hello from Base Class!\n"
     ]
    }
   ],
   "source": [
    "class Base:\n",
    "    def greet(self):\n",
    "        print(\"Hello from Base Class!\")\n",
    "\n",
    "class Extended(Base):\n",
    "    def greet(self):\n",
    "        print(\"Hello from extended class!\")\n",
    "        super().greet()\n",
    "\n",
    "#create the object\n",
    "extended_obj=Extended()\n",
    "extended_obj.greet()"
   ]
  },
  {
   "cell_type": "code",
   "execution_count": 5,
   "id": "46b27565-6869-4648-b70b-306e750eb474",
   "metadata": {},
   "outputs": [
    {
     "name": "stdout",
     "output_type": "stream",
     "text": [
      "A initialized with x= 1\n",
      "B Iinitialized with y=2\n",
      "C initialized with z=3\n"
     ]
    }
   ],
   "source": [
    "class A:\n",
    "    def __init__(self,x):\n",
    "        self.x=x\n",
    "        print(f\"A initialized with x= {self.x}\")\n",
    "\n",
    "class B:\n",
    "    def __init__(self,y):\n",
    "        self.y=y\n",
    "        print(f\"B Iinitialized with y={self.y}\")\n",
    "\n",
    "\n",
    "class C(A,B):\n",
    "    def __init__(self,x,y,z):\n",
    "        super().__init__(x)\n",
    "        B.__init__(self,y)\n",
    "        self.z=z\n",
    "        print(f\"C initialized with z={self.z}\")\n",
    "\n",
    "c=C(1,2,3)\n",
    "    "
   ]
  },
  {
   "cell_type": "code",
   "execution_count": null,
   "id": "81a5774c-9276-49a1-a171-3ccb82069b06",
   "metadata": {},
   "outputs": [],
   "source": []
  }
 ],
 "metadata": {
  "kernelspec": {
   "display_name": "Python 3 (ipykernel)",
   "language": "python",
   "name": "python3"
  },
  "language_info": {
   "codemirror_mode": {
    "name": "ipython",
    "version": 3
   },
   "file_extension": ".py",
   "mimetype": "text/x-python",
   "name": "python",
   "nbconvert_exporter": "python",
   "pygments_lexer": "ipython3",
   "version": "3.12.4"
  }
 },
 "nbformat": 4,
 "nbformat_minor": 5
}
