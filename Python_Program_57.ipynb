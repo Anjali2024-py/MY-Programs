{
 "cells": [
  {
   "cell_type": "code",
   "execution_count": 2,
   "id": "6afbb0bd-1424-45b4-8b8f-a788b42d9421",
   "metadata": {},
   "outputs": [
    {
     "name": "stdout",
     "output_type": "stream",
     "text": [
      "Even\n"
     ]
    }
   ],
   "source": [
    "#Check even or od  write a lambda function that checks if a number is even or odd.\n",
    "#Test it with the number\n",
    "Check_even_odd=lambda x:\"Even\" if x%2==0 else \"Odd\"\n",
    "result=Check_even_odd(8)\n",
    "print(result)"
   ]
  },
  {
   "cell_type": "code",
   "execution_count": 6,
   "id": "e166253e-e8e9-48b9-8f74-a99eba9dc364",
   "metadata": {},
   "outputs": [
    {
     "name": "stdout",
     "output_type": "stream",
     "text": [
      "9\n"
     ]
    }
   ],
   "source": [
    "#Finding the maximum value:Write a lambda function that finds the maximum value in alist using reduce(),Test it with list.\n",
    "from functools import reduce\n",
    "max_value=reduce(lambda x,y:x if x>y else y,[1,9,8,7,3])\n",
    "print(max_value)"
   ]
  },
  {
   "cell_type": "code",
   "execution_count": 7,
   "id": "140884fe-3c15-4ccd-b9ca-921dc62de8e2",
   "metadata": {},
   "outputs": [
    {
     "name": "stdout",
     "output_type": "stream",
     "text": [
      "15\n"
     ]
    }
   ],
   "source": [
    "#Nested lambda functions creates a nested lambda functions that tkes an integer x and returns another lambda functions that adds x to its input .\n",
    "#Test it by adding 10 and 5\n",
    "add_x=lambda x:(lambda y:x+y)\n",
    "result=add_x(10)(5)\n",
    "print(result)"
   ]
  },
  {
   "cell_type": "raw",
   "id": "e94a1c5a-0203-4547-9779-381381a2ab5d",
   "metadata": {},
   "source": [
    "#\n",
    "Polynomial Evaluation Write a lambda function that takes a coefficient list for a polynomial and a value x, and returns the value of the polynomial at x. For example, for the polynomial \n",
    "2\n",
    "𝑥\n",
    "2\n",
    "+\n",
    "3\n",
    "𝑥\n",
    "+\n",
    "1\n",
    "2x \n",
    "2\n",
    " +3x+1, the coefficients would be [2, 3, 1] and you should evaluate it at x=2"
   ]
  },
  {
   "cell_type": "code",
   "execution_count": 12,
   "id": "129a8b00-83ac-4c2e-aa48-566afa7806bc",
   "metadata": {},
   "outputs": [
    {
     "name": "stdout",
     "output_type": "stream",
     "text": [
      "12\n"
     ]
    }
   ],
   "source": [
    "#Solution\n",
    "# Lambda function to evaluate a polynomial\n",
    "evaluate_polynomial = lambda coeffs, x: sum(c * (x ** i) for i, c in enumerate(coeffs))\n",
    "\n",
    "# Coefficients for the polynomial 2x^2 + 3x + 1\n",
    "coeffs = [2, 3, 1]\n",
    "\n",
    "# Value of x\n",
    "x_value = 2\n",
    "\n",
    "# Evaluate the polynomial at x=2\n",
    "result = evaluate_polynomial(coeffs, x_value)\n",
    "\n",
    "# Print the result\n",
    "print(result) "
   ]
  },
  {
   "cell_type": "code",
   "execution_count": 18,
   "id": "d28b7e73-58c2-48a2-aa23-3fcf6c7b0dee",
   "metadata": {},
   "outputs": [
    {
     "name": "stdout",
     "output_type": "stream",
     "text": [
      "Hello World\n"
     ]
    }
   ],
   "source": [
    "#String Concatenation Write a lambda function that takes two strings and concatenates them. Test it with the strings \"Hello\" and \"World\"\n",
    "string_concatenation=lambda str1,str2 : str1+\" \"+str2\n",
    "result=string_concatenation(\"Hello\",\"World\")\n",
    "print(result)"
   ]
  },
  {
   "cell_type": "code",
   "execution_count": null,
   "id": "1b29b82c-37e8-48df-94a4-d9a7acb50932",
   "metadata": {},
   "outputs": [],
   "source": []
  }
 ],
 "metadata": {
  "kernelspec": {
   "display_name": "Python 3 (ipykernel)",
   "language": "python",
   "name": "python3"
  },
  "language_info": {
   "codemirror_mode": {
    "name": "ipython",
    "version": 3
   },
   "file_extension": ".py",
   "mimetype": "text/x-python",
   "name": "python",
   "nbconvert_exporter": "python",
   "pygments_lexer": "ipython3",
   "version": "3.12.4"
  }
 },
 "nbformat": 4,
 "nbformat_minor": 5
}
