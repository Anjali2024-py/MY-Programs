{
 "cells": [
  {
   "cell_type": "code",
   "execution_count": 1,
   "id": "24400d6f-ebb1-4849-be4e-beaba52bf06f",
   "metadata": {},
   "outputs": [
    {
     "name": "stdout",
     "output_type": "stream",
     "text": [
      "0 apple\n",
      "1 banana\n",
      "2 cherry\n"
     ]
    }
   ],
   "source": [
    "my_list=['apple','banana','cherry']\n",
    "\n",
    "for index,value in enumerate(my_list):\n",
    "    print(index,value)"
   ]
  },
  {
   "cell_type": "code",
   "execution_count": 3,
   "id": "c76c8cce-ff73-418e-8dd3-be4c04cebcea",
   "metadata": {},
   "outputs": [
    {
     "name": "stdout",
     "output_type": "stream",
     "text": [
      "1 apple\n",
      "2 banana\n",
      "3 cherry\n"
     ]
    }
   ],
   "source": [
    "my_list=['apple','banana','cherry']\n",
    "\n",
    "for index,value in enumerate(my_list,start=1):\n",
    "    print(index,value)"
   ]
  },
  {
   "cell_type": "code",
   "execution_count": 4,
   "id": "28069ad6-05c0-4115-ac84-ed0bbff2cc02",
   "metadata": {},
   "outputs": [
    {
     "name": "stdout",
     "output_type": "stream",
     "text": [
      "Index: 0, Value: apple\n",
      "Index: 1, Value: banana\n",
      "Index: 2, Value: cherry\n"
     ]
    }
   ],
   "source": [
    "my_list = ['apple', 'banana', 'cherry']\n",
    "\n",
    "for index, value in enumerate(my_list):\n",
    "    print(f\"Index: {index}, Value: {value}\")"
   ]
  },
  {
   "cell_type": "code",
   "execution_count": 7,
   "id": "1e40f4eb-04c8-4fec-97e7-1eb7df05eda6",
   "metadata": {},
   "outputs": [
    {
     "name": "stdout",
     "output_type": "stream",
     "text": [
      "[20, 40, 60, 80]\n"
     ]
    }
   ],
   "source": [
    "my_list=[10,20,30,40]\n",
    "\n",
    "for index,value in enumerate(my_list):\n",
    "    my_list[index]=value*2\n",
    "\n",
    "print(my_list)"
   ]
  },
  {
   "cell_type": "code",
   "execution_count": 9,
   "id": "7ea669f1-0e7e-4242-947f-256d3cca77ec",
   "metadata": {},
   "outputs": [
    {
     "name": "stdout",
     "output_type": "stream",
     "text": [
      "index: 0,Letter: a, Number: 1\n",
      "index: 1,Letter: b, Number: 2\n",
      "index: 2,Letter: c, Number: 3\n"
     ]
    }
   ],
   "source": [
    "my_list=[('a',1),('b',2),('c',3)]\n",
    "\n",
    "for index,(letter,number) in enumerate(my_list):\n",
    "    print(f\"index: {index},Letter: {letter}, Number: {number}\")"
   ]
  },
  {
   "cell_type": "code",
   "execution_count": 11,
   "id": "407d58a1-d013-4a9b-a91a-a3fc4d67b47d",
   "metadata": {},
   "outputs": [
    {
     "name": "stdout",
     "output_type": "stream",
     "text": [
      " Index of 'cherry': 2\n"
     ]
    }
   ],
   "source": [
    "my_list = ['apple', 'banana', 'cherry', 'date'] \n",
    "\n",
    "for index,value in enumerate(my_list):\n",
    "    if value=='cherry':\n",
    "        print(f\" Index of 'cherry': {index}\")\n",
    "        break"
   ]
  },
  {
   "cell_type": "code",
   "execution_count": 12,
   "id": "b6b3d2e4-0fb3-4415-9743-11081c44dacc",
   "metadata": {},
   "outputs": [
    {
     "name": "stdout",
     "output_type": "stream",
     "text": [
      "[(0, 'apple'), (1, 'banana'), (2, 'cherry')]\n"
     ]
    }
   ],
   "source": [
    "my_list = ['apple', 'banana', 'cherry']\n",
    "\n",
    "enumerated_list = list(enumerate(my_list))\n",
    "print(enumerated_list)\n"
   ]
  },
  {
   "cell_type": "code",
   "execution_count": 13,
   "id": "adbedc8a-6199-412d-9e57-dbdb9d26b0db",
   "metadata": {},
   "outputs": [
    {
     "name": "stdout",
     "output_type": "stream",
     "text": [
      "Index: 1, Value: 8\n",
      "Index: 3, Value: 10\n"
     ]
    }
   ],
   "source": [
    "my_list = [5, 8, 2, 10, 3]\n",
    "\n",
    "# Find and print elements greater than 5 with their index\n",
    "for index, value in enumerate(my_list):\n",
    "    if value > 5:\n",
    "        print(f\"Index: {index}, Value: {value}\")\n"
   ]
  },
  {
   "cell_type": "code",
   "execution_count": 15,
   "id": "f782fd9b-73f8-4eb1-90c5-d707f5bb28ad",
   "metadata": {},
   "outputs": [
    {
     "name": "stdout",
     "output_type": "stream",
     "text": [
      "[(1, 'banana')]\n"
     ]
    }
   ],
   "source": [
    "my_list = ['apple', 'banana', 'cherry']\n",
    "\n",
    "result=[(index,value) for index,value in enumerate(my_list) if value.startswith('b')]\n",
    "print(result)"
   ]
  },
  {
   "cell_type": "code",
   "execution_count": 16,
   "id": "49e05b29-2b77-423f-8a3c-8971b68ed517",
   "metadata": {},
   "outputs": [
    {
     "name": "stdout",
     "output_type": "stream",
     "text": [
      "['h', 'e', 'l', 'l', 'o']\n"
     ]
    }
   ],
   "source": [
    "my_string='hello'\n",
    "my_list=list(my_string)\n",
    "print(my_list)"
   ]
  },
  {
   "cell_type": "code",
   "execution_count": 28,
   "id": "26d66b96-7997-41e0-9517-f11f1abc5bc8",
   "metadata": {},
   "outputs": [
    {
     "name": "stdout",
     "output_type": "stream",
     "text": [
      "['a', 'b', 'c']\n"
     ]
    }
   ],
   "source": [
    "my_dict = {'a': 1, 'b': 2, 'c': 3}\n",
    "my_list = list(my_dict)\n",
    "print(my_list)\n"
   ]
  },
  {
   "cell_type": "code",
   "execution_count": 29,
   "id": "06c7ff7d-8f07-4f4c-a999-b04fb35aba78",
   "metadata": {},
   "outputs": [
    {
     "name": "stdout",
     "output_type": "stream",
     "text": [
      "[0, 1, 2, 3, 4]\n"
     ]
    }
   ],
   "source": [
    "my_range = range(5)\n",
    "my_list = list(my_range)\n",
    "print(my_list)\n"
   ]
  },
  {
   "cell_type": "code",
   "execution_count": 30,
   "id": "2ca9bd28-a187-4f5e-b18f-89f0c2b8da0a",
   "metadata": {},
   "outputs": [
    {
     "name": "stdout",
     "output_type": "stream",
     "text": [
      "[1, 2, 3, 4, 5, 6]\n"
     ]
    }
   ],
   "source": [
    "nested_list=[[1,2],[3,4],[5,6]]\n",
    "flat_list=list(sum(nested_list,[]))\n",
    "print(flat_list)"
   ]
  },
  {
   "cell_type": "code",
   "execution_count": 31,
   "id": "3fdd47a4-cc1a-4bed-b1e2-37d37cbeea66",
   "metadata": {},
   "outputs": [
    {
     "name": "stdout",
     "output_type": "stream",
     "text": [
      "[0, 1, 4, 9, 16]\n"
     ]
    }
   ],
   "source": [
    "my_gen = (x * x for x in range(5))\n",
    "my_list = list(my_gen)\n",
    "print(my_list)"
   ]
  },
  {
   "cell_type": "code",
   "execution_count": null,
   "id": "6cfa687a-d919-4e4e-84c6-c968afab306a",
   "metadata": {},
   "outputs": [],
   "source": []
  }
 ],
 "metadata": {
  "kernelspec": {
   "display_name": "Python 3 (ipykernel)",
   "language": "python",
   "name": "python3"
  },
  "language_info": {
   "codemirror_mode": {
    "name": "ipython",
    "version": 3
   },
   "file_extension": ".py",
   "mimetype": "text/x-python",
   "name": "python",
   "nbconvert_exporter": "python",
   "pygments_lexer": "ipython3",
   "version": "3.12.4"
  }
 },
 "nbformat": 4,
 "nbformat_minor": 5
}
