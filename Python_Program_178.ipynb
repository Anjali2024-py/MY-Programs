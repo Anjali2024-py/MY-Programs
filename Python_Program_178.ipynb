{
 "cells": [
  {
   "cell_type": "code",
   "execution_count": 3,
   "id": "350eff4f-f02e-416e-b10c-43d2cf20979f",
   "metadata": {},
   "outputs": [
    {
     "name": "stdout",
     "output_type": "stream",
     "text": [
      "Original Dictionary: {1: 2, 3: 4, 4: 3, 2: 1, 0: 0}\n",
      "Dictionary in ascending order by value:  {0: 0, 2: 1, 1: 2, 4: 3, 3: 4}\n",
      "Dictionary in ascending order by value: {3: 4, 4: 3, 1: 2, 2: 1, 0: 0}\n"
     ]
    }
   ],
   "source": [
    "import operator\n",
    "d={1:2,3:4,4:3,2:1,0:0}\n",
    "print('Original Dictionary:',d)\n",
    "sorted_d=dict(sorted(d.items(),key=operator.itemgetter(1)))\n",
    "print('Dictionary in ascending order by value: ',sorted_d)\n",
    "sorted_d=dict(sorted(d.items(),key=operator.itemgetter(1),reverse=True))\n",
    "print('Dictionary in ascending order by value:',sorted_d)"
   ]
  },
  {
   "cell_type": "code",
   "execution_count": 7,
   "id": "97faaf68-3d20-4d4f-9468-3c57dd8afd0f",
   "metadata": {},
   "outputs": [
    {
     "name": "stdout",
     "output_type": "stream",
     "text": [
      "{0: 10, 1: 20}\n",
      "{0: 10, 1: 20, 2: 30}\n"
     ]
    }
   ],
   "source": [
    "#sample:{0:10,1:20} Excepted Result:{0:10,1:20,2:30}\n",
    "d={0:10,1:20}\n",
    "print(d)\n",
    "d.update({2:30})\n",
    "print(d)"
   ]
  },
  {
   "cell_type": "code",
   "execution_count": 11,
   "id": "8bf1f77d-48bd-4eb3-b4db-32b85d46c838",
   "metadata": {},
   "outputs": [
    {
     "name": "stdout",
     "output_type": "stream",
     "text": [
      "{1: 10, 2: 20}\n",
      "{1: 10, 2: 20, 3: 30, 4: 40}\n",
      "{1: 10, 2: 20, 3: 30, 4: 40, 5: 50, 6: 60}\n"
     ]
    }
   ],
   "source": [
    "dict1={1:10,2:20}\n",
    "dict2={3:30,4:40}\n",
    "dict3={5:50,6:60}\n",
    "\n",
    "#Excepected dic\n",
    "dict1={1:10,2:20}\n",
    "dict2={3:30,4:40}\n",
    "dict3={5:50,6:60}\n",
    "dict4={}\n",
    "\n",
    "for d in (dict1,dict2,dict3):\n",
    "    dict4.update(d)\n",
    "    print(dict4)"
   ]
  },
  {
   "cell_type": "code",
   "execution_count": 13,
   "id": "37954078-5e3e-4c41-8fe4-817b69a8a0a9",
   "metadata": {},
   "outputs": [
    {
     "name": "stdout",
     "output_type": "stream",
     "text": [
      "Key is present in the dictinary\n",
      "key is not present in the dictionary\n"
     ]
    }
   ],
   "source": [
    "d={1:10,2:20,3:30,4:40,5:50,6:60}\n",
    "def is_key_present(x):\n",
    "    if x in d:\n",
    "        print('Key is present in the dictinary')\n",
    "    else:\n",
    "        print('key is not present in the dictionary')\n",
    "\n",
    "is_key_present(5)\n",
    "is_key_present(9)"
   ]
  },
  {
   "cell_type": "code",
   "execution_count": 14,
   "id": "2d96c528-1c52-44cb-91c4-01cedf040dfe",
   "metadata": {},
   "outputs": [
    {
     "name": "stdout",
     "output_type": "stream",
     "text": [
      "x -> 10\n",
      "y -> 20\n",
      "z -> 30\n"
     ]
    }
   ],
   "source": [
    "d={'x':10,'y':20,'z':30}\n",
    "for dict_key,dict_value in d.items():\n",
    "    print(dict_key,'->',dict_value)"
   ]
  },
  {
   "cell_type": "code",
   "execution_count": null,
   "id": "576f5a93-5bcb-4427-acaa-fee02964cd37",
   "metadata": {},
   "outputs": [],
   "source": []
  }
 ],
 "metadata": {
  "kernelspec": {
   "display_name": "Python 3 (ipykernel)",
   "language": "python",
   "name": "python3"
  },
  "language_info": {
   "codemirror_mode": {
    "name": "ipython",
    "version": 3
   },
   "file_extension": ".py",
   "mimetype": "text/x-python",
   "name": "python",
   "nbconvert_exporter": "python",
   "pygments_lexer": "ipython3",
   "version": "3.12.4"
  }
 },
 "nbformat": 4,
 "nbformat_minor": 5
}
