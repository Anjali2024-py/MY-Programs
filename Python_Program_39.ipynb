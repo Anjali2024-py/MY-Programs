{
 "cells": [
  {
   "cell_type": "code",
   "execution_count": 1,
   "id": "8493b0a8-c0fc-4ba6-9190-e4136b79aa06",
   "metadata": {},
   "outputs": [],
   "source": [
    "def number(num1,num2):\n",
    "    sub=(num1-num2)*11\n",
    "    return sub"
   ]
  },
  {
   "cell_type": "code",
   "execution_count": 2,
   "id": "b8784a19-c4af-4f1d-88ff-36ca2b87cb20",
   "metadata": {},
   "outputs": [
    {
     "data": {
      "text/plain": [
       "44"
      ]
     },
     "execution_count": 2,
     "metadata": {},
     "output_type": "execute_result"
    }
   ],
   "source": [
    "number(42,38)"
   ]
  },
  {
   "cell_type": "code",
   "execution_count": 3,
   "id": "19f966c3-45f8-402e-88ef-9f535d0156b5",
   "metadata": {},
   "outputs": [],
   "source": [
    "def input(num1,num2):\n",
    "    divi=(num1/num2)*2\n",
    "    return divi"
   ]
  },
  {
   "cell_type": "code",
   "execution_count": 4,
   "id": "e371ee59-fb85-4dd1-bd1f-43c1dd504766",
   "metadata": {},
   "outputs": [
    {
     "data": {
      "text/plain": [
       "24.0"
      ]
     },
     "execution_count": 4,
     "metadata": {},
     "output_type": "execute_result"
    }
   ],
   "source": [
    "input(72,6)"
   ]
  },
  {
   "cell_type": "code",
   "execution_count": 10,
   "id": "6e44aeb2-017d-40ec-9ba5-4eb0dd1d1432",
   "metadata": {},
   "outputs": [],
   "source": [
    "def num(n1,n2):\n",
    "    sqr=(n1)**2-(n2)**2\n",
    "    return sqr"
   ]
  },
  {
   "cell_type": "code",
   "execution_count": 11,
   "id": "a625825b-79e3-481b-bcf0-bded0193cbda",
   "metadata": {},
   "outputs": [
    {
     "data": {
      "text/plain": [
       "120"
      ]
     },
     "execution_count": 11,
     "metadata": {},
     "output_type": "execute_result"
    }
   ],
   "source": [
    "num(11,1)"
   ]
  },
  {
   "cell_type": "code",
   "execution_count": 29,
   "id": "97cd3bb9-69b9-4236-a11e-97be4f104538",
   "metadata": {},
   "outputs": [],
   "source": [
    "def number(n1,n2):\n",
    "    sum=0\n",
    "    sum1=0\n",
    "    while n1>0:\n",
    "        rem=n1%10\n",
    "        sum=sum+rem\n",
    "        n1=n1//10\n",
    "    while n2>0:\n",
    "        rem1=n2%10\n",
    "        sum1=sum1+rem1\n",
    "        n2=n2//10\n",
    "    print(sum-sum1)"
   ]
  },
  {
   "cell_type": "code",
   "execution_count": 30,
   "id": "a23ff85f-cdd2-4b19-8209-4b6575e066d0",
   "metadata": {},
   "outputs": [
    {
     "name": "stdout",
     "output_type": "stream",
     "text": [
      "2\n"
     ]
    }
   ],
   "source": [
    "number(963,844)"
   ]
  },
  {
   "cell_type": "code",
   "execution_count": 31,
   "id": "20639738-7140-4c4d-b63b-9e1c18d435fc",
   "metadata": {},
   "outputs": [],
   "source": [
    "def number(num1,num2,num3):\n",
    "    sub=(num1+num2)-num3\n",
    "    return sub"
   ]
  },
  {
   "cell_type": "code",
   "execution_count": 32,
   "id": "5dd84cf9-3475-42be-b7e0-49c8ec530f28",
   "metadata": {},
   "outputs": [
    {
     "data": {
      "text/plain": [
       "11"
      ]
     },
     "execution_count": 32,
     "metadata": {},
     "output_type": "execute_result"
    }
   ],
   "source": [
    "number(7,9,5)"
   ]
  },
  {
   "cell_type": "code",
   "execution_count": 33,
   "id": "929512c5-f9e5-45b5-9359-b4918b52256b",
   "metadata": {},
   "outputs": [],
   "source": [
    "def number(num1,num2):\n",
    "    sub=(num1+num2)**2\n",
    "    return sub"
   ]
  },
  {
   "cell_type": "code",
   "execution_count": 34,
   "id": "87016cbf-ae91-4018-aeb3-1c63a098717b",
   "metadata": {},
   "outputs": [
    {
     "data": {
      "text/plain": [
       "25"
      ]
     },
     "execution_count": 34,
     "metadata": {},
     "output_type": "execute_result"
    }
   ],
   "source": [
    "number(2,3)"
   ]
  },
  {
   "cell_type": "code",
   "execution_count": 35,
   "id": "95aedeeb-4222-4437-9e93-795fd0282148",
   "metadata": {},
   "outputs": [],
   "source": [
    "def number(num1,num2):\n",
    "    sub=((num1/2)+(num2*2))\n",
    "    return sub"
   ]
  },
  {
   "cell_type": "code",
   "execution_count": 36,
   "id": "a2cedb76-a6ee-4827-9c86-51ec6114d995",
   "metadata": {},
   "outputs": [
    {
     "data": {
      "text/plain": [
       "25.0"
      ]
     },
     "execution_count": 36,
     "metadata": {},
     "output_type": "execute_result"
    }
   ],
   "source": [
    "number(6,11)"
   ]
  },
  {
   "cell_type": "code",
   "execution_count": 41,
   "id": "19525433-896f-4333-9421-d6f020df65ac",
   "metadata": {},
   "outputs": [],
   "source": [
    "def number(n1,n2):\n",
    "    pro=1\n",
    "    pro1=1\n",
    "    while n1>0:\n",
    "        rem=n1%10\n",
    "        pro=pro*rem\n",
    "        n1=n1//10\n",
    "    while n2>0:\n",
    "        rem1=n2%10\n",
    "        pro1=pro1*rem1\n",
    "        n2=n2//10\n",
    "    print(pro+pro1)"
   ]
  },
  {
   "cell_type": "code",
   "execution_count": 42,
   "id": "f51f144e-bb65-41c5-9648-2123b115af62",
   "metadata": {},
   "outputs": [
    {
     "name": "stdout",
     "output_type": "stream",
     "text": [
      "11\n"
     ]
    }
   ],
   "source": [
    "number(51,61)"
   ]
  },
  {
   "cell_type": "code",
   "execution_count": 43,
   "id": "086c4b67-152e-48c0-9177-6b0e1a8a9db5",
   "metadata": {},
   "outputs": [],
   "source": [
    "def nums(n1,n2,n3,n4):\n",
    "    s1=n1*n4\n",
    "    s2=n2*n4\n",
    "    s3=n3*n4\n",
    "    return (s1+1,s2+1,s3+1)"
   ]
  },
  {
   "cell_type": "code",
   "execution_count": 44,
   "id": "16a48573-7cb3-4bb6-9040-5936338ee9fe",
   "metadata": {},
   "outputs": [
    {
     "data": {
      "text/plain": [
       "(17, 137, 1097)"
      ]
     },
     "execution_count": 44,
     "metadata": {},
     "output_type": "execute_result"
    }
   ],
   "source": [
    "nums(2,17,137,8)"
   ]
  },
  {
   "cell_type": "code",
   "execution_count": 47,
   "id": "92c043bd-cffc-4cb1-9a2a-6bd66fe95e1e",
   "metadata": {},
   "outputs": [],
   "source": [
    "def nums(n1,n2):\n",
    "    pro=n1*2+n2\n",
    "    return pro"
   ]
  },
  {
   "cell_type": "code",
   "execution_count": 48,
   "id": "ca1f746f-9be2-44d6-a1b4-a4c6d8418129",
   "metadata": {},
   "outputs": [
    {
     "data": {
      "text/plain": [
       "10"
      ]
     },
     "execution_count": 48,
     "metadata": {},
     "output_type": "execute_result"
    }
   ],
   "source": [
    "nums(3,4)"
   ]
  },
  {
   "cell_type": "code",
   "execution_count": null,
   "id": "8470a1fd-bb16-44de-94a3-d1c3cd8abaa8",
   "metadata": {},
   "outputs": [],
   "source": []
  }
 ],
 "metadata": {
  "kernelspec": {
   "display_name": "Python 3 (ipykernel)",
   "language": "python",
   "name": "python3"
  },
  "language_info": {
   "codemirror_mode": {
    "name": "ipython",
    "version": 3
   },
   "file_extension": ".py",
   "mimetype": "text/x-python",
   "name": "python",
   "nbconvert_exporter": "python",
   "pygments_lexer": "ipython3",
   "version": "3.12.4"
  }
 },
 "nbformat": 4,
 "nbformat_minor": 5
}
