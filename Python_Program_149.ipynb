{
 "cells": [
  {
   "cell_type": "code",
   "execution_count": 2,
   "id": "f8031dbd-039b-48bb-a19b-74c7767802b8",
   "metadata": {},
   "outputs": [
    {
     "name": "stdin",
     "output_type": "stream",
     "text": [
      "Enter a number 27\n"
     ]
    },
    {
     "name": "stdout",
     "output_type": "stream",
     "text": [
      "The number is divisible by 3 but not by 5\n"
     ]
    }
   ],
   "source": [
    "num=int(input(\"Enter a number\"))\n",
    "\n",
    "if num%3==0:\n",
    "    if num%5==0:\n",
    "        print(\"The number is divisible by 3 nd 5\")\n",
    "    else:\n",
    "        print(\"The number is divisible by 3 but not by 5\")\n",
    "else:\n",
    "    print(\"The number is not divisible by 3 and 5\")"
   ]
  },
  {
   "cell_type": "code",
   "execution_count": 13,
   "id": "8db7674f-870f-4f21-bbb1-0d8edea9c5c2",
   "metadata": {},
   "outputs": [
    {
     "name": "stdin",
     "output_type": "stream",
     "text": [
      "Enter a year: 2020\n"
     ]
    },
    {
     "name": "stdout",
     "output_type": "stream",
     "text": [
      "2020 is a leap year\n"
     ]
    }
   ],
   "source": [
    "year=int(input(\"Enter a year:\"))\n",
    "\n",
    "if year %4 ==0:\n",
    "    if year %100 ==0:\n",
    "        if yea000r %400==0:\n",
    "            print(f\"{year} is leap year\")\n",
    "        else:\n",
    "            print(f\" {year} is not a leap year\")\n",
    "    else:\n",
    "        print(f\"{year} is a leap year\")\n",
    "else:\n",
    "    print(f\"{year} is not a leap year\")"
   ]
  },
  {
   "cell_type": "code",
   "execution_count": 19,
   "id": "639fb946-9cc8-4cdc-9466-d1b650515820",
   "metadata": {},
   "outputs": [
    {
     "name": "stdin",
     "output_type": "stream",
     "text": [
      "Enter your total purchase amount:  90\n"
     ]
    },
    {
     "name": "stdout",
     "output_type": "stream",
     "text": [
      "No discount. Final price: 90.0\n"
     ]
    }
   ],
   "source": [
    "purchase_amount=float(input(\"Enter your total purchase amount: \"))\n",
    "\n",
    "if purchase_amount>=100:\n",
    "    if purchase_amount>=500:\n",
    "        print(f\"Discount: 30%. final price: {purchase_amount * 0.7}\")\n",
    "    elif purchase_amount>=200:\n",
    "        print(f\"Discount : 20%. Final price: {purchase_amount*0.8}\")\n",
    "    else:\n",
    "        print(f\"Discount: 10%. Final Prie: {purchase_amount*0.9}\")\n",
    "else:\n",
    "    print(f\"No discount. Final price: {purchase_amount}\")"
   ]
  },
  {
   "cell_type": "code",
   "execution_count": 25,
   "id": "6ce326a9-2097-46d5-bd62-a607e12581ca",
   "metadata": {},
   "outputs": [
    {
     "name": "stdin",
     "output_type": "stream",
     "text": [
      "Enter a year: 2000\n"
     ]
    },
    {
     "name": "stdout",
     "output_type": "stream",
     "text": [
      "2000 is a century year and a leap year.\n"
     ]
    }
   ],
   "source": [
    "year=int(input(\"Enter a year:\"))\n",
    "\n",
    "if year %100==0:\n",
    "    if year %400==0:\n",
    "        print(f\"{year} is a century year and a leap year.\")\n",
    "    else:\n",
    "        print(f\"{year} is a century year but not a leap year.\")\n",
    "else:\n",
    "    print(f\"{year} is not a century year.\")"
   ]
  },
  {
   "cell_type": "code",
   "execution_count": 27,
   "id": "8f3a5e6c-4ee4-4ce5-b08a-c78acc9a09c9",
   "metadata": {},
   "outputs": [
    {
     "name": "stdin",
     "output_type": "stream",
     "text": [
      "Enter side a: 4\n",
      "Enter side b 5\n",
      "Enter side c 6\n"
     ]
    },
    {
     "name": "stdout",
     "output_type": "stream",
     "text": [
      "The triangle is not right-angled.\n"
     ]
    }
   ],
   "source": [
    "a=float(input(\"Enter side a:\"))\n",
    "b=float(input(\"Enter side b\"))\n",
    "c=float(input(\"Enter side c\"))\n",
    "\n",
    "if a**2+b**2==c**2:\n",
    "    print(\"The triangle is right-angled.\")\n",
    "else:\n",
    "    print(\"The triangle is not right-angled.\")"
   ]
  },
  {
   "cell_type": "code",
   "execution_count": 29,
   "id": "7affcfb2-4674-4f10-8c5d-6916b0b69a17",
   "metadata": {},
   "outputs": [
    {
     "name": "stdin",
     "output_type": "stream",
     "text": [
      "Enter your income:  50000\n"
     ]
    },
    {
     "name": "stdout",
     "output_type": "stream",
     "text": [
      "your tax is:$5000.0\n"
     ]
    }
   ],
   "source": [
    "income=float(input(\"Enter your income: \"))\n",
    "if income>100000:\n",
    "    if income>200000:\n",
    "        tax=income*0.30\n",
    "    else:\n",
    "        tax=income*0.20\n",
    "else:\n",
    "    tax=income*0.10\n",
    "\n",
    "print(f\"your tax is:${tax}\")"
   ]
  },
  {
   "cell_type": "code",
   "execution_count": null,
   "id": "9637f6fa-ee55-4e72-94fc-1e9376d4aa20",
   "metadata": {},
   "outputs": [],
   "source": []
  }
 ],
 "metadata": {
  "kernelspec": {
   "display_name": "Python 3 (ipykernel)",
   "language": "python",
   "name": "python3"
  },
  "language_info": {
   "codemirror_mode": {
    "name": "ipython",
    "version": 3
   },
   "file_extension": ".py",
   "mimetype": "text/x-python",
   "name": "python",
   "nbconvert_exporter": "python",
   "pygments_lexer": "ipython3",
   "version": "3.12.4"
  }
 },
 "nbformat": 4,
 "nbformat_minor": 5
}
