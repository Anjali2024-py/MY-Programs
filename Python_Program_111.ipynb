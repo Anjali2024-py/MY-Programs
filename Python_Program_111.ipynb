{
 "cells": [
  {
   "cell_type": "code",
   "execution_count": 5,
   "id": "9815b2a6-6d1c-4cd6-825d-8825802a0e4e",
   "metadata": {},
   "outputs": [
    {
     "name": "stdout",
     "output_type": "stream",
     "text": [
      "This is a Circle shape\n",
      "A circle is a round Shape.\n",
      "This is a Rectangle shape\n",
      "A rectangle has four sides\n"
     ]
    }
   ],
   "source": [
    "class Shape:\n",
    "    @classmethod\n",
    "    def description(cls):\n",
    "        print(f\"This is a {cls.__name__} shape\")\n",
    "class Circle(Shape):\n",
    "    @classmethod\n",
    "    def description(cls):\n",
    "        super().description()\n",
    "        print(f\"A circle is a round Shape.\")\n",
    "\n",
    "class Rectangle(Shape):\n",
    "    @classmethod\n",
    "    def description(cls):\n",
    "        super().description()\n",
    "        print(f\"A rectangle has four sides\")\n",
    "\n",
    "circle=Circle()\n",
    "rectangle=Rectangle()\n",
    "\n",
    "circle.description()\n",
    "rectangle.description()"
   ]
  },
  {
   "cell_type": "code",
   "execution_count": 6,
   "id": "8a06eb4f-a67e-4d77-ae3c-43cbe1e9c9ab",
   "metadata": {},
   "outputs": [
    {
     "name": "stdout",
     "output_type": "stream",
     "text": [
      "Mammal Speaks\n"
     ]
    }
   ],
   "source": [
    "class Animal:\n",
    "    def speak(self):\n",
    "        print(\"Animal Speaks\")\n",
    "\n",
    "class Mammal(Animal):\n",
    "    def speaks(self):\n",
    "        print(\"Mammal Speaks\")\n",
    "\n",
    "class Dog(Mammal,Animal):\n",
    "    def speaks(self):\n",
    "        super().speaks()\n",
    "\n",
    "dog=Dog()\n",
    "dog.speaks()"
   ]
  },
  {
   "cell_type": "code",
   "execution_count": 8,
   "id": "75fa0675-c8dc-4712-86ca-9b96383bd18e",
   "metadata": {},
   "outputs": [
    {
     "name": "stdout",
     "output_type": "stream",
     "text": [
      "[<class '__main__.Dog'>, <class '__main__.Mammal'>, <class '__main__.Animal'>, <class 'object'>]\n"
     ]
    }
   ],
   "source": [
    "print(Dog.mro())"
   ]
  },
  {
   "cell_type": "code",
   "execution_count": 9,
   "id": "d60d0ee4-054f-4850-8014-ff5626b0293b",
   "metadata": {},
   "outputs": [
    {
     "name": "stdout",
     "output_type": "stream",
     "text": [
      "Class A\n"
     ]
    }
   ],
   "source": [
    "class A:\n",
    "    def show(self):\n",
    "        print('Class A')\n",
    "\n",
    "class B:\n",
    "    def show(self):\n",
    "        print('Class B')\n",
    "\n",
    "class C(A,B):\n",
    "    def show(self):\n",
    "        super().show()\n",
    "\n",
    "# creating an object of class C\n",
    "obj=C ()\n",
    "obj.show()"
   ]
  },
  {
   "cell_type": "code",
   "execution_count": null,
   "id": "d6a61258-10b9-48d6-b0cb-c1693cd41f41",
   "metadata": {},
   "outputs": [],
   "source": []
  }
 ],
 "metadata": {
  "kernelspec": {
   "display_name": "Python 3 (ipykernel)",
   "language": "python",
   "name": "python3"
  },
  "language_info": {
   "codemirror_mode": {
    "name": "ipython",
    "version": 3
   },
   "file_extension": ".py",
   "mimetype": "text/x-python",
   "name": "python",
   "nbconvert_exporter": "python",
   "pygments_lexer": "ipython3",
   "version": "3.12.4"
  }
 },
 "nbformat": 4,
 "nbformat_minor": 5
}
