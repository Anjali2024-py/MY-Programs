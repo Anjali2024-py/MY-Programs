{
 "cells": [
  {
   "cell_type": "code",
   "execution_count": 1,
   "id": "8c02be4d-12d5-42f8-9dc2-6b60aa20828f",
   "metadata": {},
   "outputs": [
    {
     "name": "stdout",
     "output_type": "stream",
     "text": [
      "Indices of 'aaple': [0, 3, 5]\n"
     ]
    }
   ],
   "source": [
    "my_list = ['apple', 'banana', 'cherry', 'apple', 'date', 'apple']\n",
    "\n",
    "indices_of_apple=[index for index, value in enumerate(my_list) if value=='apple']\n",
    "print(f\"Indices of 'aaple': {indices_of_apple}\")"
   ]
  },
  {
   "cell_type": "code",
   "execution_count": 2,
   "id": "3a49860b-e069-4094-b576-308f800d9205",
   "metadata": {},
   "outputs": [
    {
     "name": "stdout",
     "output_type": "stream",
     "text": [
      "Outer index: 0, Inner index : 0, Value: apple\n",
      "Outer index: 0, Inner index : 1, Value: banana\n",
      "Outer index: 1, Inner index : 0, Value: cherry\n",
      "Outer index: 1, Inner index : 1, Value: date\n",
      "Outer index: 2, Inner index : 0, Value: elderberry\n",
      "Outer index: 2, Inner index : 1, Value: fig\n"
     ]
    }
   ],
   "source": [
    "nested_list = [['apple', 'banana'], ['cherry', 'date'], ['elderberry', 'fig']]\n",
    "\n",
    "for outer_index,inner_list in enumerate(nested_list):\n",
    "    for inner_index, value in enumerate(inner_list):\n",
    "        print(f\"Outer index: {outer_index}, Inner index : {inner_index}, Value: {value}\")"
   ]
  },
  {
   "cell_type": "code",
   "execution_count": 3,
   "id": "61723867-dc13-4cb7-9055-94bd59a76eaf",
   "metadata": {},
   "outputs": [
    {
     "name": "stdout",
     "output_type": "stream",
     "text": [
      "Reversed Index 0: cherry\n",
      "Reversed Index 1: banana\n",
      "Reversed Index 2: apple\n"
     ]
    }
   ],
   "source": [
    "my_list = ['apple', 'banana', 'cherry']\n",
    "\n",
    "for index, value in enumerate(reversed(my_list)):\n",
    "    print(f\"Reversed Index {index}: {value}\")"
   ]
  },
  {
   "cell_type": "code",
   "execution_count": 4,
   "id": "d459ee5a-111e-43d2-bb2c-f09d111c9029",
   "metadata": {},
   "outputs": [
    {
     "name": "stdout",
     "output_type": "stream",
     "text": [
      "All elements greater than 5: True\n"
     ]
    }
   ],
   "source": [
    "my_list = [10, 20, 30, 40, 50]\n",
    "\n",
    "all_greater_than_5=all(value >5 for index, value in enumerate(my_list))\n",
    "\n",
    "print(f\"All elements greater than 5: {all_greater_than_5}\")"
   ]
  },
  {
   "cell_type": "code",
   "execution_count": 7,
   "id": "aaf4ce13-e51f-4c1a-aa5d-588a875a9bbd",
   "metadata": {},
   "outputs": [
    {
     "name": "stdout",
     "output_type": "stream",
     "text": [
      "Original Index : 2, Sorted Value :  5\n",
      "Original Index : 0, Sorted Value :  10\n",
      "Original Index : 3, Sorted Value :  15\n",
      "Original Index : 1, Sorted Value :  20\n"
     ]
    }
   ],
   "source": [
    "my_list = [10, 20, 5, 15]\n",
    "\n",
    "sorted_list_with_indices=sorted(enumerate(my_list),key=lambda x:x[1])\n",
    "\n",
    "for index,value in sorted_list_with_indices:\n",
    "    print(f\"Original Index : {index}, Sorted Value :  {value}\")"
   ]
  },
  {
   "cell_type": "code",
   "execution_count": null,
   "id": "354d2eaa-3f08-43da-a4c1-86dd2c7e0830",
   "metadata": {},
   "outputs": [],
   "source": []
  }
 ],
 "metadata": {
  "kernelspec": {
   "display_name": "Python 3 (ipykernel)",
   "language": "python",
   "name": "python3"
  },
  "language_info": {
   "codemirror_mode": {
    "name": "ipython",
    "version": 3
   },
   "file_extension": ".py",
   "mimetype": "text/x-python",
   "name": "python",
   "nbconvert_exporter": "python",
   "pygments_lexer": "ipython3",
   "version": "3.12.4"
  }
 },
 "nbformat": 4,
 "nbformat_minor": 5
}
