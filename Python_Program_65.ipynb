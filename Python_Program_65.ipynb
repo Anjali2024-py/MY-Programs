{
 "cells": [
  {
   "cell_type": "code",
   "execution_count": 2,
   "id": "637e1fd3-ee53-4d98-937b-09fe171d4a24",
   "metadata": {},
   "outputs": [
    {
     "name": "stdout",
     "output_type": "stream",
     "text": [
      "['ai', 'ai']\n"
     ]
    }
   ],
   "source": [
    "import re\n",
    "string='The Rain in Spain'\n",
    "x=re.findall('ai',string)\n",
    "print(x)"
   ]
  },
  {
   "cell_type": "code",
   "execution_count": 3,
   "id": "399a8e18-6515-4a85-ac12-2e2c8f6cdc16",
   "metadata": {},
   "outputs": [
    {
     "name": "stdout",
     "output_type": "stream",
     "text": [
      "[]\n"
     ]
    }
   ],
   "source": [
    "import re\n",
    "text='The Rain in Spain'\n",
    "x=re.findall('portugal',text)\n",
    "print(x)"
   ]
  },
  {
   "cell_type": "code",
   "execution_count": 6,
   "id": "8efce6b8-a45c-4c17-94b3-cd857565f3ab",
   "metadata": {},
   "outputs": [
    {
     "name": "stdout",
     "output_type": "stream",
     "text": [
      "The First Whitespace in text : 3\n"
     ]
    }
   ],
   "source": [
    "import re\n",
    "text='The Rain in Spain'\n",
    "x=re.search('\\\\s',text)\n",
    "print(\"The First Whitespace in text :\",x.start())"
   ]
  },
  {
   "cell_type": "code",
   "execution_count": 7,
   "id": "b177bcea-22c7-4e69-9500-2762a218dff2",
   "metadata": {},
   "outputs": [
    {
     "name": "stdout",
     "output_type": "stream",
     "text": [
      "None\n"
     ]
    }
   ],
   "source": [
    "import re\n",
    "text='The Rain in Spain'\n",
    "x=re.search('portugal',text)\n",
    "print(x)"
   ]
  },
  {
   "cell_type": "code",
   "execution_count": 8,
   "id": "ae1c7775-199d-4ddd-84bf-47333a4407a2",
   "metadata": {},
   "outputs": [
    {
     "name": "stdout",
     "output_type": "stream",
     "text": [
      "['The Rai', ' i', ' Spai', '']\n"
     ]
    }
   ],
   "source": [
    "import re\n",
    "text='The Rain in Spain'\n",
    "x=re.split('n',text)\n",
    "print(x)"
   ]
  },
  {
   "cell_type": "code",
   "execution_count": null,
   "id": "adc831ce-0048-4267-b72d-35de8c864770",
   "metadata": {},
   "outputs": [],
   "source": []
  }
 ],
 "metadata": {
  "kernelspec": {
   "display_name": "Python 3 (ipykernel)",
   "language": "python",
   "name": "python3"
  },
  "language_info": {
   "codemirror_mode": {
    "name": "ipython",
    "version": 3
   },
   "file_extension": ".py",
   "mimetype": "text/x-python",
   "name": "python",
   "nbconvert_exporter": "python",
   "pygments_lexer": "ipython3",
   "version": "3.12.4"
  }
 },
 "nbformat": 4,
 "nbformat_minor": 5
}
