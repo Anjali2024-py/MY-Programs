{
 "cells": [
  {
   "cell_type": "code",
   "execution_count": 16,
   "id": "3472ebf2-cb0e-4f67-b06e-5e3e45129ddc",
   "metadata": {},
   "outputs": [
    {
     "name": "stdin",
     "output_type": "stream",
     "text": [
      "enter  any number: 12\n",
      "enter  any number: 78\n",
      "enter  any number: 96\n",
      "enter  any number: 48\n",
      "enter  any number: 213\n",
      "enter  any number: 648\n",
      "enter  any number: 224\n",
      "enter  any number: 559\n",
      "enter  any number: 695\n"
     ]
    },
    {
     "name": "stdout",
     "output_type": "stream",
     "text": [
      "the largest number is: 695\n",
      "the smallest number is: 12\n"
     ]
    }
   ],
   "source": [
    "l=[]\n",
    "i=1\n",
    "while(i<10):\n",
    "    num=int(input(\"enter  any number:\"))\n",
    "    l.append(num\n",
    "            )\n",
    "    i=i+1\n",
    "l.sort()\n",
    "\n",
    "print(\"the largest number is:\", l[-1])\n",
    "print(\"the smallest number is:\",l[0])\n",
    "\n",
    " \n"
   ]
  },
  {
   "cell_type": "code",
   "execution_count": 35,
   "id": "66feef09-18d1-4333-a074-8e348122e880",
   "metadata": {},
   "outputs": [
    {
     "name": "stdin",
     "output_type": "stream",
     "text": [
      "enter any number: 1\n",
      "enter any number: 10\n"
     ]
    },
    {
     "name": "stdout",
     "output_type": "stream",
     "text": [
      "30\n",
      "25\n"
     ]
    }
   ],
   "source": [
    "#write a program to display sum of odd amd even numbers seperated \n",
    "#that are fall between two numbers accepted from the user(including both numbers)\n",
    "#using while loop\n",
    "num1=int(input(\"enter any number:\"))\n",
    "num2=int(input(\"enter any number:\"))\n",
    "sum1=0\n",
    "sum2=0\n",
    "while(num1<=num2):\n",
    "    if num1%2==0:\n",
    "        sum1=sum1+num1\n",
    "        num1=num1+1\n",
    "    else:\n",
    "        sum2=sum2+num1\n",
    "        num1=num1+1\n",
    "\n",
    "print(sum1)\n",
    "print(sum2)"
   ]
  },
  {
   "cell_type": "code",
   "execution_count": 38,
   "id": "64867972-3a29-423c-85e1-58de3d1c676f",
   "metadata": {},
   "outputs": [
    {
     "name": "stdin",
     "output_type": "stream",
     "text": [
      "enter any number: 16\n",
      "enter any number: 12\n"
     ]
    },
    {
     "name": "stdout",
     "output_type": "stream",
     "text": [
      "42\n",
      "28\n"
     ]
    }
   ],
   "source": [
    "num1=int(input(\"enter any number:\"))\n",
    "num2=int(input(\"enter any number:\"))\n",
    "sum1=0\n",
    "sum2=0\n",
    "if num1<num2:\n",
    "    while(num1<=num2):\n",
    "        if num1%2==0:\n",
    "            sum1=sum1+num1\n",
    "            num1=num1+1\n",
    "        else:\n",
    "            sum2=sum2+num1\n",
    "            num1=num1+1\n",
    "else:\n",
    "    while(num2<=num1):\n",
    "        if num2%2==0:\n",
    "            sum1=sum1+num2\n",
    "            num2=num2+1\n",
    "        else:\n",
    "            sum2=sum2+num2\n",
    "            num2=num2+1\n",
    "        \n",
    "\n",
    "print(sum1)\n",
    "print(sum2)"
   ]
  },
  {
   "cell_type": "code",
   "execution_count": 4,
   "id": "99584278-add4-47e0-b826-5917af0e9c0f",
   "metadata": {},
   "outputs": [
    {
     "name": "stdout",
     "output_type": "stream",
     "text": [
      "104,130,143,169,182,208,221,247,260,286,299,325,338,364,377,403,416,442,455,481,494,"
     ]
    }
   ],
   "source": [
    "#write a program to display all the numbers\n",
    "#which are divisible by 13 but not by 03 between 100 and 500.(exclusive both numbers)\n",
    "num=13\n",
    "i=101\n",
    "while(i<500):\n",
    "    if i%num==0 and i%3!=0:\n",
    "      print(i,end=\",\")\n",
    "    i=i+1"
   ]
  },
  {
   "cell_type": "code",
   "execution_count": 17,
   "id": "f7f0d022-9cfc-4e02-98c1-89fd91e9c367",
   "metadata": {},
   "outputs": [
    {
     "name": "stdin",
     "output_type": "stream",
     "text": [
      "enter any number: 20\n"
     ]
    },
    {
     "name": "stdout",
     "output_type": "stream",
     "text": [
      "2 22 222 2222 22222 222222 2222222 22222222 222222222 2222222222 22222222222 222222222222 2222222222222 22222222222222 222222222222222 2222222222222222 22222222222222222 222222222222222222 2222222222222222222 22222222222222222222 "
     ]
    }
   ],
   "source": [
    "num=int(input(\"enter any number:\"))\n",
    "s='2'\n",
    "i=0\n",
    "while(i<num):\n",
    "    print(s,end=\" \")\n",
    "    s=s+'2'\n",
    "    i=i+1\n",
    "    \n"
   ]
  },
  {
   "cell_type": "code",
   "execution_count": 13,
   "id": "56512a1b-e783-4ffc-a58e-11768ac56ae6",
   "metadata": {},
   "outputs": [
    {
     "name": "stdin",
     "output_type": "stream",
     "text": [
      "enter any char: PHYTHON\n"
     ]
    },
    {
     "name": "stdout",
     "output_type": "stream",
     "text": [
      "P\n",
      "H\n",
      "Y\n",
      "T\n",
      "H\n",
      "O\n",
      "N\n"
     ]
    }
   ],
   "source": [
    "#write a program to print all characters in the string \"PYTHON'using while loop\n",
    "str=input(\"enter any char:\")\n",
    "i=0\n",
    "while(i<len(str)):\n",
    "    print(str[i])\n",
    "    i=i+1\n",
    "    \n"
   ]
  },
  {
   "cell_type": "code",
   "execution_count": 25,
   "id": "f403c6db-595a-4ee5-883c-ec4be50b1ec6",
   "metadata": {},
   "outputs": [
    {
     "name": "stdout",
     "output_type": "stream",
     "text": [
      "23\n",
      "45\n",
      "25\n",
      "33\n",
      "71\n"
     ]
    }
   ],
   "source": [
    "#write a program to print only odd numbers from the given list using while loop.\n",
    "l=[23,45,32,25,46,33,71,90]\n",
    "i=0\n",
    "while(i<len(l)):\n",
    "    if l[i]%2!=0:\n",
    "        print(l[i])\n",
    "    i=i+1\n",
    "        \n"
   ]
  },
  {
   "cell_type": "code",
   "execution_count": 36,
   "id": "9ea458c2-923b-4218-9777-7fd71284b76f",
   "metadata": {},
   "outputs": [
    {
     "name": "stdin",
     "output_type": "stream",
     "text": [
      "enter any number: 4\n"
     ]
    },
    {
     "name": "stdout",
     "output_type": "stream",
     "text": [
      "1\n",
      "2\n",
      "4\n"
     ]
    }
   ],
   "source": [
    "#write a program to print all the factors of the number using while loop\n",
    "n=int(input(\"enter any number:\"))\n",
    "i=1\n",
    "res=1\n",
    "while(i<=n):\n",
    "    if n%i==0:\n",
    "        print(i)\n",
    "    i=i+1\n",
    "    "
   ]
  },
  {
   "cell_type": "code",
   "execution_count": 37,
   "id": "ca817df1-f71e-412c-bc25-4f57cd58e407",
   "metadata": {},
   "outputs": [
    {
     "name": "stdout",
     "output_type": "stream",
     "text": [
      "1 --- 49\n",
      "2 --- 48\n",
      "3 --- 47\n",
      "4 --- 46\n",
      "5 --- 45\n",
      "6 --- 44\n",
      "7 --- 43\n",
      "8 --- 42\n",
      "9 --- 41\n",
      "10 --- 40\n",
      "11 --- 39\n",
      "12 --- 38\n",
      "13 --- 37\n",
      "14 --- 36\n",
      "15 --- 35\n",
      "16 --- 34\n",
      "17 --- 33\n",
      "18 --- 32\n",
      "19 --- 31\n",
      "20 --- 30\n",
      "21 --- 29\n",
      "22 --- 28\n",
      "23 --- 27\n",
      "24 --- 26\n",
      "25 --- 25\n",
      "26 --- 24\n",
      "27 --- 23\n",
      "28 --- 22\n",
      "29 --- 21\n",
      "30 --- 20\n",
      "31 --- 19\n",
      "32 --- 18\n",
      "33 --- 17\n",
      "34 --- 16\n",
      "35 --- 15\n",
      "36 --- 14\n",
      "37 --- 13\n",
      "38 --- 12\n",
      "39 --- 11\n",
      "40 --- 10\n",
      "41 --- 9\n",
      "42 --- 8\n",
      "43 --- 7\n",
      "44 --- 6\n",
      "45 --- 5\n",
      "46 --- 4\n",
      "47 --- 3\n",
      "48 --- 2\n",
      "49 --- 1\n"
     ]
    }
   ],
   "source": [
    "i=1\n",
    "j=49\n",
    "while(i<=49 and j>=1):\n",
    "    print(i,\"---\",j)\n",
    "    i=i+1\n",
    "    j=j-1"
   ]
  },
  {
   "cell_type": "code",
   "execution_count": 38,
   "id": "a2078b23-fcac-45b6-86d0-2d3be9dab145",
   "metadata": {},
   "outputs": [
    {
     "name": "stdin",
     "output_type": "stream",
     "text": [
      "enter name of the city jaipur\n"
     ]
    },
    {
     "name": "stdout",
     "output_type": "stream",
     "text": [
      "monument name is: jal mahal\n"
     ]
    }
   ],
   "source": [
    "city=input(\"enter name of the city\")\n",
    "if city.lower()==\"delhi\":\n",
    "    print(\"monument name is: Red Fort\")\n",
    "elif city.lower()==\"agra\":\n",
    "    print(\"monument name is: Taj Mahal\")\n",
    "elif city.lower()==\"jaipur\":\n",
    "    print(\"monument name is: jal mahal\")\n",
    "else:\n",
    "    print(\"enter correct name of the city\")"
   ]
  },
  {
   "cell_type": "code",
   "execution_count": null,
   "id": "9df55c9c-de38-4abe-983a-c712822e6b72",
   "metadata": {},
   "outputs": [],
   "source": []
  }
 ],
 "metadata": {
  "kernelspec": {
   "display_name": "Python 3 (ipykernel)",
   "language": "python",
   "name": "python3"
  },
  "language_info": {
   "codemirror_mode": {
    "name": "ipython",
    "version": 3
   },
   "file_extension": ".py",
   "mimetype": "text/x-python",
   "name": "python",
   "nbconvert_exporter": "python",
   "pygments_lexer": "ipython3",
   "version": "3.12.4"
  }
 },
 "nbformat": 4,
 "nbformat_minor": 5
}
