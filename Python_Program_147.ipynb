{
 "cells": [
  {
   "cell_type": "code",
   "execution_count": 8,
   "id": "008e00f6-b06d-4479-9f7d-5a6fc6cd922e",
   "metadata": {},
   "outputs": [
    {
     "name": "stdout",
     "output_type": "stream",
     "text": [
      "apple\n",
      "banana\n",
      "cherry\n",
      "P\n",
      "good bye\n",
      "Y\n",
      "good bye\n",
      "T\n",
      "good bye\n",
      "H\n",
      "good bye\n",
      "O\n",
      "good bye\n",
      "N\n",
      "good bye\n"
     ]
    }
   ],
   "source": [
    "fruits=['apple','banana','cherry']\n",
    "for x in fruits:\n",
    "    print(x)\n",
    "for letter in 'PYTHON':\n",
    "    print(letter)\n",
    "    print('good bye')"
   ]
  },
  {
   "cell_type": "code",
   "execution_count": 6,
   "id": "b5b0254b-407c-4ea7-abda-24830c392f73",
   "metadata": {},
   "outputs": [
    {
     "name": "stdout",
     "output_type": "stream",
     "text": [
      "3\n",
      "I Like Folk1\n",
      "I Like Classical\n",
      "I Like Jazz\n"
     ]
    }
   ],
   "source": [
    "genre=['Folk1','Classical','Jazz']\n",
    "print(len(genre))\n",
    "for i in range(len(genre)):\n",
    "    \n",
    "    print(\"I Like\", genre[i])"
   ]
  },
  {
   "cell_type": "code",
   "execution_count": 13,
   "id": "bb2be14f-eff1-41b9-933a-3996bdae9d02",
   "metadata": {},
   "outputs": [
    {
     "name": "stdout",
     "output_type": "stream",
     "text": [
      "1\n",
      "a\n",
      "b\n",
      "c\n",
      "2\n",
      "a\n",
      "b\n",
      "c\n",
      "3\n",
      "a\n",
      "b\n",
      "c\n"
     ]
    }
   ],
   "source": [
    "num_list=[1,2,3]\n",
    "alpha_list=['a','b','c']\n",
    "\n",
    "for number in num_list:\n",
    "    print(number)\n",
    "    for alpha in alpha_list:\n",
    "        print(alpha)"
   ]
  },
  {
   "cell_type": "code",
   "execution_count": 18,
   "id": "357d27fd-09af-4114-8497-1f26fb3559bb",
   "metadata": {},
   "outputs": [
    {
     "name": "stdout",
     "output_type": "stream",
     "text": [
      "cuurent later s\n",
      "cuurent later y\n"
     ]
    }
   ],
   "source": [
    "for letter in 'sybca':\n",
    "    if letter=='b':\n",
    "        break\n",
    "    print('cuurent later',letter)"
   ]
  },
  {
   "cell_type": "code",
   "execution_count": 21,
   "id": "d6d6d3bd-777b-4fc6-870e-a184b61e1dae",
   "metadata": {},
   "outputs": [
    {
     "name": "stdout",
     "output_type": "stream",
     "text": [
      "current variable value 10\n",
      "current variable value 9\n",
      "current variable value 8\n",
      "Out loop\n"
     ]
    }
   ],
   "source": [
    "var=10\n",
    "while var>0:\n",
    "    print('current variable value', var)\n",
    "    var=var-1\n",
    "    if var==7:\n",
    "        break\n",
    "print('Out loop')"
   ]
  },
  {
   "cell_type": "code",
   "execution_count": 22,
   "id": "f3c06b39-543f-4d11-a07d-bcb64ac8f7d3",
   "metadata": {},
   "outputs": [
    {
     "name": "stdout",
     "output_type": "stream",
     "text": [
      "current letter s\n",
      "current letter y\n",
      "current letter c\n",
      "current letter a\n"
     ]
    }
   ],
   "source": [
    "for letter in 'sybca':\n",
    "    if letter=='b':\n",
    "        continue\n",
    "    print('current letter',letter)"
   ]
  },
  {
   "cell_type": "code",
   "execution_count": 30,
   "id": "7439a58f-fcba-4b5a-93a0-cefd2aa8fbf8",
   "metadata": {},
   "outputs": [
    {
     "name": "stdout",
     "output_type": "stream",
     "text": [
      "4\n",
      "Inner loop\n",
      "2\n",
      "Inner loop\n",
      "1\n",
      "Inner loop\n",
      "0\n",
      "Inner loop\n"
     ]
    }
   ],
   "source": [
    "var=5\n",
    "while var>0:\n",
    "    var=var-1\n",
    "    if var==3:\n",
    "        continue\n",
    "    print(var)\n",
    "    print('Inner loop')"
   ]
  },
  {
   "cell_type": "code",
   "execution_count": 34,
   "id": "6cf78408-4b19-42e9-bcb8-7cd6b8953df6",
   "metadata": {},
   "outputs": [
    {
     "name": "stdout",
     "output_type": "stream",
     "text": [
      "this is pass block\n",
      "s\n",
      "this is pass block\n",
      "y\n",
      "this is pass block\n",
      "b\n",
      "this is pass block\n",
      "c\n",
      "this is pass block\n",
      "a\n"
     ]
    }
   ],
   "source": [
    "for letter in 'sybca':\n",
    "    if letter=='b':\n",
    "        pass\n",
    "    print('this is pass block')\n",
    "    print(letter)"
   ]
  },
  {
   "cell_type": "code",
   "execution_count": null,
   "id": "1ae0f300-ab33-4e21-92d7-e3b1ada21d42",
   "metadata": {},
   "outputs": [],
   "source": []
  }
 ],
 "metadata": {
  "kernelspec": {
   "display_name": "Python 3 (ipykernel)",
   "language": "python",
   "name": "python3"
  },
  "language_info": {
   "codemirror_mode": {
    "name": "ipython",
    "version": 3
   },
   "file_extension": ".py",
   "mimetype": "text/x-python",
   "name": "python",
   "nbconvert_exporter": "python",
   "pygments_lexer": "ipython3",
   "version": "3.12.4"
  }
 },
 "nbformat": 4,
 "nbformat_minor": 5
}
