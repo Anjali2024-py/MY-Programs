{
 "cells": [
  {
   "cell_type": "code",
   "execution_count": 1,
   "id": "490aebce-6f15-46ff-9a1f-8fc7bb2f5990",
   "metadata": {},
   "outputs": [
    {
     "name": "stdout",
     "output_type": "stream",
     "text": [
      "1\n",
      "3\n",
      "5\n",
      "7\n",
      "9\n"
     ]
    }
   ],
   "source": [
    "for i in range(1,11):\n",
    "    if i%2==0:\n",
    "        continue\n",
    "    print(i)"
   ]
  },
  {
   "cell_type": "code",
   "execution_count": 2,
   "id": "13942809-d648-4b73-822d-50e73440d518",
   "metadata": {},
   "outputs": [
    {
     "name": "stdout",
     "output_type": "stream",
     "text": [
      "10\n",
      "3\n",
      "8\n",
      "0\n"
     ]
    }
   ],
   "source": [
    "numbers=[10,-5,3,-2,8,0,-1]\n",
    "for i in numbers:\n",
    "    if i<0:\n",
    "        continue\n",
    "    print(i)"
   ]
  },
  {
   "cell_type": "code",
   "execution_count": null,
   "id": "fb587129-eacd-4a2e-8a4c-4083226de1e3",
   "metadata": {},
   "outputs": [],
   "source": [
    "text='apple'\n",
    "for char in text:\n",
    "    if char=='a':\n",
    "        continue\n",
    "    print(char,end='')"
   ]
  },
  {
   "cell_type": "code",
   "execution_count": null,
   "id": "b11cf004-8389-44f7-a787-637a5f886c75",
   "metadata": {},
   "outputs": [],
   "source": [
    "i=1\n",
    "while i <20:\n",
    "    i+=1\n",
    "\n",
    "    if i%3==0 or i%5==0:\n",
    "         continue\n",
    "    print(i)"
   ]
  },
  {
   "cell_type": "code",
   "execution_count": null,
   "id": "6b98b548-935d-47eb-9b24-357b262765fe",
   "metadata": {},
   "outputs": [],
   "source": [
    "for i in range(1,4):\n",
    "    for j in range(1,6):\n",
    "        if j%2==0:\n",
    "            continue\n",
    "        print(f\"i={i} , j={j}\")"
   ]
  },
  {
   "cell_type": "code",
   "execution_count": null,
   "id": "eafc9e8a-9b25-4501-8e0a-dd0f52f68698",
   "metadata": {},
   "outputs": [],
   "source": [
    "for i in range(1,11):\n",
    "    if i==5:\n",
    "        continue\n",
    "    print(i)"
   ]
  },
  {
   "cell_type": "code",
   "execution_count": null,
   "id": "d4e5ac96-1a21-4b50-a924-546a165cf6f1",
   "metadata": {},
   "outputs": [],
   "source": []
  }
 ],
 "metadata": {
  "kernelspec": {
   "display_name": "Python 3 (ipykernel)",
   "language": "python",
   "name": "python3"
  },
  "language_info": {
   "codemirror_mode": {
    "name": "ipython",
    "version": 3
   },
   "file_extension": ".py",
   "mimetype": "text/x-python",
   "name": "python",
   "nbconvert_exporter": "python",
   "pygments_lexer": "ipython3",
   "version": "3.12.4"
  }
 },
 "nbformat": 4,
 "nbformat_minor": 5
}
