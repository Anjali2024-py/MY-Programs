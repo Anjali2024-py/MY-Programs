{
 "cells": [
  {
   "cell_type": "code",
   "execution_count": 1,
   "id": "fc51793b-675b-4189-ade5-d01050f06cb4",
   "metadata": {},
   "outputs": [
    {
     "name": "stdout",
     "output_type": "stream",
     "text": [
      "(5, 7)\n"
     ]
    }
   ],
   "source": [
    "import re\n",
    "txt='the rain in spain'\n",
    "x=re.search('ai',txt)\n",
    "print(x.span())"
   ]
  },
  {
   "cell_type": "code",
   "execution_count": 2,
   "id": "38836a5d-1e63-4d06-bf1f-f1f7d2f5675f",
   "metadata": {},
   "outputs": [
    {
     "name": "stdout",
     "output_type": "stream",
     "text": [
      "the rain in spain\n"
     ]
    }
   ],
   "source": [
    "import re\n",
    "txt='the rain in spain'\n",
    "x=re.search('ai',txt)\n",
    "print(x.string)"
   ]
  },
  {
   "cell_type": "code",
   "execution_count": 3,
   "id": "c2e56a8b-6aa0-4c8a-8a7f-1dfeeba062bd",
   "metadata": {},
   "outputs": [
    {
     "name": "stdout",
     "output_type": "stream",
     "text": [
      "<re.Match object; span=(6, 8), match='in'>\n"
     ]
    }
   ],
   "source": [
    "import re \n",
    "txt='the rain in spain'\n",
    "x=re.search('in',txt)\n",
    "print(x)"
   ]
  },
  {
   "cell_type": "code",
   "execution_count": 4,
   "id": "67bfc75e-b1fd-40ab-acb9-90c8c7e33bd0",
   "metadata": {},
   "outputs": [
    {
     "name": "stdout",
     "output_type": "stream",
     "text": [
      "['in', 'in', 'in']\n"
     ]
    }
   ],
   "source": [
    "import re \n",
    "txt='the rain in spain'\n",
    "x=re.findall('in',txt)\n",
    "print(x)"
   ]
  },
  {
   "cell_type": "code",
   "execution_count": 16,
   "id": "e0a6548a-a15c-4884-8b39-e9ac6827428e",
   "metadata": {},
   "outputs": [
    {
     "name": "stdout",
     "output_type": "stream",
     "text": [
      "spain\n"
     ]
    }
   ],
   "source": [
    "import re\n",
    "txt='the rain in spain and sweden'\n",
    "x=re.search(r\"\\bs\\w+\",txt)\n",
    "print(x.group())"
   ]
  },
  {
   "cell_type": "code",
   "execution_count": 21,
   "id": "8dc4d8c3-aed0-4940-b05a-7c8ce72e84b1",
   "metadata": {},
   "outputs": [
    {
     "name": "stdout",
     "output_type": "stream",
     "text": [
      "the\n"
     ]
    }
   ],
   "source": [
    "import re\n",
    "txt='the rain in spain and the sweden'\n",
    "x=re.search(\"\\\\w+\",txt)\n",
    "print(x.group())"
   ]
  },
  {
   "cell_type": "code",
   "execution_count": null,
   "id": "fd4c8bd7-c8bd-4e79-ab42-b6a3445e975c",
   "metadata": {},
   "outputs": [],
   "source": []
  }
 ],
 "metadata": {
  "kernelspec": {
   "display_name": "Python 3 (ipykernel)",
   "language": "python",
   "name": "python3"
  },
  "language_info": {
   "codemirror_mode": {
    "name": "ipython",
    "version": 3
   },
   "file_extension": ".py",
   "mimetype": "text/x-python",
   "name": "python",
   "nbconvert_exporter": "python",
   "pygments_lexer": "ipython3",
   "version": "3.12.4"
  }
 },
 "nbformat": 4,
 "nbformat_minor": 5
}
