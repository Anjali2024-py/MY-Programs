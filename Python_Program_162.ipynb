{
 "cells": [
  {
   "cell_type": "code",
   "execution_count": 1,
   "id": "88656a69-a304-4d06-9e87-3bba083178b8",
   "metadata": {},
   "outputs": [
    {
     "name": "stdout",
     "output_type": "stream",
     "text": [
      "[1, 2, 3, 4, 5]\n"
     ]
    }
   ],
   "source": [
    "numbers=[1,2,3,4]\n",
    "numbers.append(5)\n",
    "print(numbers)"
   ]
  },
  {
   "cell_type": "code",
   "execution_count": 2,
   "id": "a1078192-3cfe-4e3e-97f6-4ca3bf043a81",
   "metadata": {},
   "outputs": [
    {
     "name": "stdout",
     "output_type": "stream",
     "text": [
      "['red', 'blue', ['green', 'yellow']]\n"
     ]
    }
   ],
   "source": [
    "colors = [\"red\", \"blue\"]\n",
    "colors.append(['green','yellow'])\n",
    "print(colors)"
   ]
  },
  {
   "cell_type": "code",
   "execution_count": 3,
   "id": "a71512a4-f571-476b-bc95-bdf643dd1cfc",
   "metadata": {},
   "outputs": [
    {
     "name": "stdout",
     "output_type": "stream",
     "text": [
      "[True, False, True]\n"
     ]
    }
   ],
   "source": [
    "values = [True, False]\n",
    "values.append(True)\n",
    "print(values)  # Output: [True, False, True]\n"
   ]
  },
  {
   "cell_type": "code",
   "execution_count": 4,
   "id": "18663624-f674-4c11-91df-56578e2cc05a",
   "metadata": {},
   "outputs": [
    {
     "name": "stdout",
     "output_type": "stream",
     "text": [
      "[1, 2, 3, None]\n"
     ]
    }
   ],
   "source": [
    "data = [1, 2, 3]\n",
    "data.append(None)\n",
    "print(data)  # Output: [1, 2, 3, None]\n"
   ]
  },
  {
   "cell_type": "code",
   "execution_count": 6,
   "id": "ac92b809-bd92-4a24-810c-ff3aa2f74a27",
   "metadata": {},
   "outputs": [
    {
     "name": "stdout",
     "output_type": "stream",
     "text": [
      "[12.5, 15.8, 19.3, 22.7]\n"
     ]
    }
   ],
   "source": [
    "measurements = [12.5, 15.8, 19.3]\n",
    "measurements.append(22.7)\n",
    "print(measurements)  # Output: [12.5, 15.8, 19.3, 22.7]"
   ]
  },
  {
   "cell_type": "code",
   "execution_count": null,
   "id": "37c96818-4b91-4dee-98fa-460570735951",
   "metadata": {},
   "outputs": [],
   "source": []
  }
 ],
 "metadata": {
  "kernelspec": {
   "display_name": "Python 3 (ipykernel)",
   "language": "python",
   "name": "python3"
  },
  "language_info": {
   "codemirror_mode": {
    "name": "ipython",
    "version": 3
   },
   "file_extension": ".py",
   "mimetype": "text/x-python",
   "name": "python",
   "nbconvert_exporter": "python",
   "pygments_lexer": "ipython3",
   "version": "3.12.4"
  }
 },
 "nbformat": 4,
 "nbformat_minor": 5
}
