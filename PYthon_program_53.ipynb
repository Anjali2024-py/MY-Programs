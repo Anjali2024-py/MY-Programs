{
 "cells": [
  {
   "cell_type": "code",
   "execution_count": 1,
   "id": "ffedf957-d907-4775-8242-12cf9bdef5b5",
   "metadata": {},
   "outputs": [
    {
     "name": "stdin",
     "output_type": "stream",
     "text": [
      "Enter a string:  anjali\n"
     ]
    },
    {
     "name": "stdout",
     "output_type": "stream",
     "text": [
      "Reversed string: ilajna\n"
     ]
    }
   ],
   "source": [
    "original = input(\"Enter a string: \")\n",
    "reversed_str = \"\"\n",
    "index = len(original) - 1\n",
    "\n",
    "while index >= 0:\n",
    "    reversed_str += original[index]\n",
    "    index -= 1\n",
    "\n",
    "print(f\"Reversed string: {reversed_str}\")\n"
   ]
  },
  {
   "cell_type": "code",
   "execution_count": 2,
   "id": "31cccbe8-4074-4b7c-b5a0-8279344044f6",
   "metadata": {},
   "outputs": [
    {
     "name": "stdin",
     "output_type": "stream",
     "text": [
      "Enter the limit:  20\n"
     ]
    },
    {
     "name": "stdout",
     "output_type": "stream",
     "text": [
      "The sum of even numbers up to 20 is: 110\n"
     ]
    }
   ],
   "source": [
    "limit = int(input(\"Enter the limit: \"))\n",
    "sum_even = 0\n",
    "num = 2\n",
    "\n",
    "while num <= limit:\n",
    "    sum_even += num\n",
    "    num += 2\n",
    "\n",
    "print(f\"The sum of even numbers up to {limit} is: {sum_even}\")\n"
   ]
  },
  {
   "cell_type": "code",
   "execution_count": null,
   "id": "0738b7df-ee5e-45b4-9b7c-7dcdd249834c",
   "metadata": {},
   "outputs": [],
   "source": []
  }
 ],
 "metadata": {
  "kernelspec": {
   "display_name": "Python 3 (ipykernel)",
   "language": "python",
   "name": "python3"
  },
  "language_info": {
   "codemirror_mode": {
    "name": "ipython",
    "version": 3
   },
   "file_extension": ".py",
   "mimetype": "text/x-python",
   "name": "python",
   "nbconvert_exporter": "python",
   "pygments_lexer": "ipython3",
   "version": "3.12.4"
  }
 },
 "nbformat": 4,
 "nbformat_minor": 5
}
