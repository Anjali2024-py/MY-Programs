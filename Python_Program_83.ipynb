{
 "cells": [
  {
   "cell_type": "code",
   "execution_count": 7,
   "id": "e29b9d07-6735-4161-b825-da4b2cb9117f",
   "metadata": {},
   "outputs": [
    {
     "name": "stdin",
     "output_type": "stream",
     "text": [
      "enter a number: 0\n"
     ]
    },
    {
     "name": "stdout",
     "output_type": "stream",
     "text": [
      "An error occured:division by zero\n"
     ]
    }
   ],
   "source": [
    "#Handling multiple exception in one block\n",
    "try:\n",
    "    num=int(input(\"enter a number:\"))\n",
    "    print(10/num)\n",
    "except (ValueError,ZeroDivisionError) as e:\n",
    "    print(f\"An error occured:{e}\")"
   ]
  },
  {
   "cell_type": "code",
   "execution_count": 13,
   "id": "c6e3ae48-7202-4669-beae-7b0cb10a4619",
   "metadata": {},
   "outputs": [
    {
     "name": "stdout",
     "output_type": "stream",
     "text": [
      "This object does not have that method.\n"
     ]
    }
   ],
   "source": [
    "#AttributesError Handling\n",
    "class MyClass:\n",
    "    pass\n",
    "\n",
    "obj = MyClass()\n",
    "\n",
    "try:\n",
    "    obj.some_method()\n",
    "except AttributeError:\n",
    "    print(\"This object does not have that method.\")\n"
   ]
  },
  {
   "cell_type": "code",
   "execution_count": 18,
   "id": "e87bbf9b-8fa4-4719-a4c8-1b52b73d53fc",
   "metadata": {},
   "outputs": [
    {
     "name": "stdout",
     "output_type": "stream",
     "text": [
      "Failed to import the module.\n"
     ]
    }
   ],
   "source": [
    "#Import Error Handling\n",
    "try:\n",
    "    import non_existent_module  # Replace with a valid module name if needed\n",
    "except ImportError:\n",
    "    print(\"Failed to import the module.\")\n"
   ]
  },
  {
   "cell_type": "code",
   "execution_count": 20,
   "id": "8e4b35bf-67e1-42fb-baa9-e4c4726f702a",
   "metadata": {},
   "outputs": [
    {
     "name": "stdout",
     "output_type": "stream",
     "text": [
      "an unexcepted error occured:division by zero\n"
     ]
    }
   ],
   "source": [
    "#Catching all exceptions\n",
    "try:\n",
    "    result=10/0\n",
    "except Exception as e:\n",
    "    print(f\"an unexcepted error occured:{e}\")"
   ]
  },
  {
   "cell_type": "code",
   "execution_count": 22,
   "id": "108e4a82-8b54-471d-8499-3d8a4b412d2f",
   "metadata": {},
   "outputs": [
    {
     "name": "stdout",
     "output_type": "stream",
     "text": [
      "File not Found\n"
     ]
    }
   ],
   "source": [
    "#Finally block with cleanup\n",
    "resource=None\n",
    "try:\n",
    "    resource=open(\"Example.txt\",\"r\")\n",
    "    #process the resources\n",
    "except FileNotFoundError:\n",
    "    print(\"File not Found\")"
   ]
  },
  {
   "cell_type": "code",
   "execution_count": null,
   "id": "8004e565-3ba6-467c-a8a8-71d3096fe17c",
   "metadata": {},
   "outputs": [],
   "source": []
  }
 ],
 "metadata": {
  "kernelspec": {
   "display_name": "Python 3 (ipykernel)",
   "language": "python",
   "name": "python3"
  },
  "language_info": {
   "codemirror_mode": {
    "name": "ipython",
    "version": 3
   },
   "file_extension": ".py",
   "mimetype": "text/x-python",
   "name": "python",
   "nbconvert_exporter": "python",
   "pygments_lexer": "ipython3",
   "version": "3.12.4"
  }
 },
 "nbformat": 4,
 "nbformat_minor": 5
}
