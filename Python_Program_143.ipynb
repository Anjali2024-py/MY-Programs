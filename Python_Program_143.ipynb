{
 "cells": [
  {
   "cell_type": "code",
   "execution_count": 1,
   "id": "787a949c-46f9-4349-8b42-f271c4e812a2",
   "metadata": {},
   "outputs": [],
   "source": [
    "import tkinter as tk\n",
    "\n",
    "window=tk.Tk()\n",
    "\n",
    "window.title(\"Hello World Program\")\n",
    "\n",
    "label=tk.Label(window,text=\"Hello ,World!\")\n",
    "label.pack()\n",
    "\n",
    "window.mainloop()"
   ]
  },
  {
   "cell_type": "code",
   "execution_count": 3,
   "id": "4e8420d4-aaf1-465d-8919-e7e28da0c100",
   "metadata": {},
   "outputs": [],
   "source": [
    "import tkinter as tk\n",
    "\n",
    "def on_click():\n",
    "    label.config(text=\"Button Clicked!\")\n",
    "\n",
    "window=tk.Tk()\n",
    "window.title(\"Simple Button Click\")\n",
    "\n",
    "label=tk.Label(window,text=\"Click the Button\")\n",
    "label.pack()\n",
    "\n",
    "button=tk.Button(window,text=\"Click Me\",command=on_click)\n",
    "button.pack()\n",
    "\n",
    "window.mainloop()"
   ]
  },
  {
   "cell_type": "code",
   "execution_count": 7,
   "id": "440e5182-8a80-495a-b8b3-a436c72906b6",
   "metadata": {},
   "outputs": [],
   "source": [
    "import tkinter as tk\n",
    "\n",
    "def on_click():\n",
    "    label.config(text=\"Button Clicked!\")\n",
    "\n",
    "window=tk.Tk()\n",
    "window.title(\"Simple Button Click\")\n",
    "\n",
    "label=tk.Label(window,text=\"Click the Button\")\n",
    "label.pack()\n",
    "\n",
    "button=tk.Button(window,text=\"Click Me\", command=on_click)\n",
    "button.pack()\n",
    "\n",
    "window.mainloop()"
   ]
  },
  {
   "cell_type": "code",
   "execution_count": null,
   "id": "0b7557ce-c162-4840-8a59-9fe1dc093b5c",
   "metadata": {},
   "outputs": [],
   "source": []
  }
 ],
 "metadata": {
  "kernelspec": {
   "display_name": "Python 3 (ipykernel)",
   "language": "python",
   "name": "python3"
  },
  "language_info": {
   "codemirror_mode": {
    "name": "ipython",
    "version": 3
   },
   "file_extension": ".py",
   "mimetype": "text/x-python",
   "name": "python",
   "nbconvert_exporter": "python",
   "pygments_lexer": "ipython3",
   "version": "3.12.4"
  }
 },
 "nbformat": 4,
 "nbformat_minor": 5
}
