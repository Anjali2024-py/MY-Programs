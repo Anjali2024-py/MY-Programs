{
 "cells": [
  {
   "cell_type": "code",
   "execution_count": 3,
   "id": "ba8bbd48-ede4-4bbc-b944-27e58bb2819c",
   "metadata": {},
   "outputs": [
    {
     "name": "stdout",
     "output_type": "stream",
     "text": [
      "\n",
      "\n",
      "\n"
     ]
    }
   ],
   "source": [
    "import tkinter as tk\n",
    "\n",
    "def show_input():\n",
    "    print(entry.get())\n",
    "\n",
    "root=tk.Tk()\n",
    "entry=tk.Entry(root)\n",
    "entry.pack()\n",
    "button=tk.Button(root,text='Submit',command=show_input)\n",
    "button.pack()\n",
    "root.mainloop()\n"
   ]
  },
  {
   "cell_type": "code",
   "execution_count": 5,
   "id": "c16f7566-9b7b-4f86-ab5e-d3503e1761be",
   "metadata": {},
   "outputs": [
    {
     "name": "stdout",
     "output_type": "stream",
     "text": [
      "Selected:\n",
      "Selected:\n",
      "Selected:\n",
      "Selected:\n",
      "Selected:\n",
      "Selected:\n",
      "Selected:\n",
      "Selected:\n"
     ]
    }
   ],
   "source": [
    "import tkinter as tk\n",
    "\n",
    "def show_selection():\n",
    "    print(f\"Selected:{var.get()}\")\n",
    "\n",
    "root=tk.Tk()\n",
    "var=tk.StringVar()\n",
    "tk.Radiobutton(root,text='Option 1',value='Option 1',variable=var).pack()\n",
    "tk.Radiobutton(root,text='Option 2',value='Option 2', variable=var).pack()\n",
    "tk.Button(root,text='Submit',command=show_selection).pack()\n",
    "root.mainloop()"
   ]
  },
  {
   "cell_type": "code",
   "execution_count": 6,
   "id": "d293b4fd-db88-4bf7-880e-4750ed67b853",
   "metadata": {},
   "outputs": [
    {
     "name": "stdout",
     "output_type": "stream",
     "text": [
      "Checked: True\n"
     ]
    }
   ],
   "source": [
    "import tkinter as tk\n",
    "\n",
    "def show_state():\n",
    "    print(f\"Checked: {check_var.get()}\")\n",
    "\n",
    "root=tk.Tk()\n",
    "check_var=tk.BooleanVar()\n",
    "tk.Checkbutton(root,text='Click me',variable=check_var).pack()\n",
    "tk.Button(root,text='SUbmit',command=show_state).pack()\n",
    "root.mainloop()"
   ]
  },
  {
   "cell_type": "code",
   "execution_count": null,
   "id": "de924a9e-1216-4515-831a-13697b3c4463",
   "metadata": {},
   "outputs": [],
   "source": []
  }
 ],
 "metadata": {
  "kernelspec": {
   "display_name": "Python 3 (ipykernel)",
   "language": "python",
   "name": "python3"
  },
  "language_info": {
   "codemirror_mode": {
    "name": "ipython",
    "version": 3
   },
   "file_extension": ".py",
   "mimetype": "text/x-python",
   "name": "python",
   "nbconvert_exporter": "python",
   "pygments_lexer": "ipython3",
   "version": "3.12.4"
  }
 },
 "nbformat": 4,
 "nbformat_minor": 5
}
