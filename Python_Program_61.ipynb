{
 "cells": [
  {
   "cell_type": "code",
   "execution_count": 3,
   "id": "97d6fde8-142d-4415-b407-16e751ee19d3",
   "metadata": {},
   "outputs": [
    {
     "name": "stdout",
     "output_type": "stream",
     "text": [
      "5.0\n"
     ]
    }
   ],
   "source": [
    "#Create a lambda function that takes a number and returns its square root\n",
    "import math\n",
    "sqrt=lambda x:math.sqrt(x)\n",
    "number=25\n",
    "result=sqrt(number)\n",
    "print(result)"
   ]
  },
  {
   "cell_type": "code",
   "execution_count": 12,
   "id": "2591db60-4d49-44fc-bffc-61e143ac8dbd",
   "metadata": {},
   "outputs": [
    {
     "name": "stdout",
     "output_type": "stream",
     "text": [
      "5.0\n"
     ]
    }
   ],
   "source": [
    "def num(n):\n",
    "    return (lambda n:n**0.5)(n)\n",
    "sqrt=num(25)\n",
    "print(sqrt)"
   ]
  },
  {
   "cell_type": "code",
   "execution_count": 16,
   "id": "b5a29c59-5083-4ff3-bb77-c59f98c4075f",
   "metadata": {},
   "outputs": [
    {
     "name": "stdout",
     "output_type": "stream",
     "text": [
      "[1, 3.14, 42, True, 0]\n"
     ]
    }
   ],
   "source": [
    "#Write a lambda function that filters out non-numeric values from a list that contains mixed data types\n",
    "mixed_data= [1, 'hello', 3.14, None, 42, 'world', True, 0, [1, 2], {1: 'one'}]\n",
    "is_numeric=list(filter(lambda x:isinstance(x,(int,float)),mixed_data))\n",
    "print(is_numeric)\n",
    "                       "
   ]
  },
  {
   "cell_type": "code",
   "execution_count": 17,
   "id": "1ea77f2e-f476-4948-a2c6-10c68923cab4",
   "metadata": {},
   "outputs": [
    {
     "name": "stdout",
     "output_type": "stream",
     "text": [
      "[1, 3.14, 42, True, 0]\n"
     ]
    }
   ],
   "source": [
    "is_num=lambda x:isinstance(x,(int,float))\n",
    "numeric_values=list(filter(is_num,mixed_data))\n",
    "print(numeric_values)"
   ]
  },
  {
   "cell_type": "code",
   "execution_count": 21,
   "id": "1e817f99-7ba0-4ab0-a154-8860a79a9d27",
   "metadata": {},
   "outputs": [
    {
     "name": "stdout",
     "output_type": "stream",
     "text": [
      "[('hi', 'hello'), ('bye', 'good night'), (2, 4), (4, 16), (5, 25), ('today', 'tomorrow')]\n"
     ]
    }
   ],
   "source": [
    "#Write a lambda function that takes two lists and creates a list of tuples by combining corresponding elements\n",
    "list1=['hi','bye',2,4,5,'today']\n",
    "list2=['hello','good night',4,16,25,'tomorrow']\n",
    "combines_lists=lambda lst1,lst2:list(map(lambda x:(x[0],x[1]),zip(lst1,list2)))\n",
    "result=combines_lists(list1,list2)\n",
    "print(result)"
   ]
  },
  {
   "cell_type": "code",
   "execution_count": 26,
   "id": "0ababc5a-dad3-4abb-a386-07b36ba642e1",
   "metadata": {},
   "outputs": [
    {
     "name": "stdout",
     "output_type": "stream",
     "text": [
      "['forward', 'wee', 'see', 'hi', 'look', 'hello', 'straight', 'good day']\n"
     ]
    }
   ],
   "source": [
    "#Create a lambda function to sort a list of strings based on the last character of each string\n",
    "string=['hi','hello','wee','see','look','straight','forward','good day']\n",
    "last_char_Sorted=sorted(string,key=lambda x:x[-1])\n",
    "print(last_char_Sorted)"
   ]
  },
  {
   "cell_type": "code",
   "execution_count": null,
   "id": "e2eb21e7-b8b4-45ef-82b0-243c834f1986",
   "metadata": {},
   "outputs": [],
   "source": []
  }
 ],
 "metadata": {
  "kernelspec": {
   "display_name": "Python 3 (ipykernel)",
   "language": "python",
   "name": "python3"
  },
  "language_info": {
   "codemirror_mode": {
    "name": "ipython",
    "version": 3
   },
   "file_extension": ".py",
   "mimetype": "text/x-python",
   "name": "python",
   "nbconvert_exporter": "python",
   "pygments_lexer": "ipython3",
   "version": "3.12.4"
  }
 },
 "nbformat": 4,
 "nbformat_minor": 5
}
